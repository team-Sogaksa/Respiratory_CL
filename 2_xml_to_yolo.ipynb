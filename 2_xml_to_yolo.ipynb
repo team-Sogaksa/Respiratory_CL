{
 "cells": [
  {
   "cell_type": "markdown",
   "id": "7a4ee6ec-d585-4033-a2e1-cc595593d330",
   "metadata": {},
   "source": [
    "#### update\n",
    "\n",
    "- 3/31\n",
    "    - wav_annot_split: segment 인덱스 넘어가는 부분 수정\n",
    "    - filter 추가\n",
    "- 3/31 데이터셋 다시 생성\n",
    "    1. ~normal 있는거 + size 224~\n",
    "    2. ~normal 없는거 + size 224~\n",
    "    3. ~normal 있는거 + size 1280, 720~\n",
    "    4. ~normal 없는거 + size 1280, 720~\n",
    "<br>\n",
    "<br>\n",
    "       \n",
    "- 위에서 성능 조금이라도 보이면, 그걸로\n",
    "    6. random shuffle\n",
    "    7. with augmentation\n"
   ]
  },
  {
   "cell_type": "markdown",
   "id": "8cf9ae98-efeb-4674-a54b-983308d43fa1",
   "metadata": {},
   "source": [
    "### Import"
   ]
  },
  {
   "cell_type": "code",
   "execution_count": 2,
   "id": "17585d9d-8209-484a-88d6-5ceec0c1ea62",
   "metadata": {},
   "outputs": [
    {
     "name": "stdout",
     "output_type": "stream",
     "text": [
      "/home/sogaksa123/AIFFEL_THON/data/dataset5_0403\n"
     ]
    }
   ],
   "source": [
    "import os\n",
    "current_directory = os.getcwd()\n",
    "print(current_directory)"
   ]
  },
  {
   "cell_type": "code",
   "execution_count": 3,
   "id": "b1d4f8fa-b010-48e5-aa64-237fc0fe8bc8",
   "metadata": {},
   "outputs": [
    {
     "name": "stdout",
     "output_type": "stream",
     "text": [
      "3.10.13 (main, Sep 11 2023, 13:44:35) [GCC 11.2.0]\n",
      "2.2.1\n",
      "1.26.4\n"
     ]
    }
   ],
   "source": [
    "import numpy as np\n",
    "import pandas as pd\n",
    "import matplotlib.pyplot as plt\n",
    "import sys\n",
    "print(sys.version)\n",
    "print(pd.__version__)\n",
    "print(np.__version__)\n",
    "\n",
    "import xml.etree.cElementTree as ET\n",
    "import glob\n",
    "import os\n",
    "import json\n",
    "import random\n",
    "import shutil\n",
    "\n",
    "from PIL import Image, ImageOps"
   ]
  },
  {
   "cell_type": "markdown",
   "id": "99a72cc4-fc10-46c8-ba31-b055dd768010",
   "metadata": {},
   "source": [
    "### Review Data"
   ]
  },
  {
   "cell_type": "code",
   "execution_count": 28,
   "id": "539a7937-eb98-483a-842d-35a4df5b743d",
   "metadata": {},
   "outputs": [
    {
     "name": "stdout",
     "output_type": "stream",
     "text": [
      "<?xml version=\"1.0\" ?>\n",
      "<annotation>\n",
      "    <folder>png_files</folder>\n",
      "    <filename>107_2b3_Ar_mc_AKGC417L_1.png</filename>\n",
      "    <path>/home/sogaksa123/AIFFEL_THON/data/dataset5_0403/filtering5_1280/png_files/107_2b3_Ar_mc_AKGC417L_1.png</path>\n",
      "    <source>\n",
      "        <database>ICBHI</database>\n",
      "    </source>\n",
      "    <size>\n",
      "        <width>1280</width>\n",
      "        <height>720</height>\n",
      "        <depth>3</depth>\n",
      "    </size>\n",
      "    <segmented>0</segmented>\n",
      "    <object>\n",
      "        <name>crckles</name>\n",
      "        <pose>Unspecified</pose>\n",
      "        <truncated>0</truncated>\n",
      "        <difficult>0</difficult>\n",
      "        <bndbox>\n",
      "            <xmin>0</xmin>\n",
      "            <ymin>180</ymin>\n",
      "            <xmax>169</xmax>\n",
      "            <ymax>702</ymax>\n",
      "        </bndbox>\n",
      "    </object>\n",
      "    <object>\n",
      "        <name>crckles</name>\n",
      "        <pose>Unspecified</pose>\n",
      "        <truncated>0</truncated>\n",
      "        <difficult>0</difficult>\n",
      "        <bndbox>\n",
      "            <xmin>169</xmin>\n",
      "            <ymin>180</ymin>\n",
      "            <xmax>645</xmax>\n",
      "            <ymax>702</ymax>\n",
      "        </bndbox>\n",
      "    </object>\n",
      "    <object>\n",
      "        <name>crckles</name>\n",
      "        <pose>Unspecified</pose>\n",
      "        <truncated>0</truncated>\n",
      "        <difficult>0</difficult>\n",
      "        <bndbox>\n",
      "            <xmin>645</xmin>\n",
      "            <ymin>180</ymin>\n",
      "            <xmax>1133</xmax>\n",
      "            <ymax>702</ymax>\n",
      "        </bndbox>\n",
      "    </object>\n",
      "    <object>\n",
      "        <name>crckles</name>\n",
      "        <pose>Unspecified</pose>\n",
      "        <truncated>0</truncated>\n",
      "        <difficult>0</difficult>\n",
      "        <bndbox>\n",
      "            <xmin>1133</xmin>\n",
      "            <ymin>180</ymin>\n",
      "            <xmax>1280</xmax>\n",
      "            <ymax>702</ymax>\n",
      "        </bndbox>\n",
      "    </object>\n",
      "    <object>\n",
      "        <name>wheezes</name>\n",
      "        <pose>Unspecified</pose>\n",
      "        <truncated>0</truncated>\n",
      "        <difficult>0</difficult>\n",
      "        <bndbox>\n",
      "            <xmin>0</xmin>\n",
      "            <ymin>180</ymin>\n",
      "            <xmax>169</xmax>\n",
      "            <ymax>702</ymax>\n",
      "        </bndbox>\n",
      "    </object>\n",
      "    <object>\n",
      "        <name>wheezes</name>\n",
      "        <pose>Unspecified</pose>\n",
      "        <truncated>0</truncated>\n",
      "        <difficult>0</difficult>\n",
      "        <bndbox>\n",
      "            <xmin>169</xmin>\n",
      "            <ymin>180</ymin>\n",
      "            <xmax>645</xmax>\n",
      "            <ymax>702</ymax>\n",
      "        </bndbox>\n",
      "    </object>\n",
      "    <object>\n",
      "        <name>wheezes</name>\n",
      "        <pose>Unspecified</pose>\n",
      "        <truncated>0</truncated>\n",
      "        <difficult>0</difficult>\n",
      "        <bndbox>\n",
      "            <xmin>645</xmin>\n",
      "            <ymin>180</ymin>\n",
      "            <xmax>1133</xmax>\n",
      "            <ymax>702</ymax>\n",
      "        </bndbox>\n",
      "    </object>\n",
      "    <object>\n",
      "        <name>wheezes</name>\n",
      "        <pose>Unspecified</pose>\n",
      "        <truncated>0</truncated>\n",
      "        <difficult>0</difficult>\n",
      "        <bndbox>\n",
      "            <xmin>1133</xmin>\n",
      "            <ymin>180</ymin>\n",
      "            <xmax>1280</xmax>\n",
      "            <ymax>702</ymax>\n",
      "        </bndbox>\n",
      "    </object>\n",
      "</annotation>\n",
      "\n"
     ]
    }
   ],
   "source": [
    "# This is a label from the annotation folder. This label is .xml format.\n",
    "\n",
    "# 1. 224\n",
    "# xml_files_dir = '/home/sogaksa123/AIFFEL_THON/data/dataset5_0403/with_normal_224/xml_files/'\n",
    "# png_files_dir = '/home/sogaksa123/AIFFEL_THON/data/dataset5_0403/with_normal_224/png_files/'\n",
    "\n",
    "# 2. 1280\n",
    "# xml_files_dir = '/home/sogaksa123/AIFFEL_THON/data/dataset5_0403/with_normal_1280/xml_files/'\n",
    "# png_files_dir = '/home/sogaksa123/AIFFEL_THON/data/dataset5_0403/with_normal_1280/png_files/'\n",
    "\n",
    "# 3. filter 224\n",
    "# xml_files_dir = '/home/sogaksa123/AIFFEL_THON/data/dataset5_0403/filtering5_224/xml_files/'\n",
    "# png_files_dir = '/home/sogaksa123/AIFFEL_THON/data/dataset5_0403/filtering5_224/png_files/'\n",
    "\n",
    "# 4. filter 1280\n",
    "xml_files_dir = '/home/sogaksa123/AIFFEL_THON/data/dataset5_0403/filtering5_1280/xml_files/'\n",
    "png_files_dir = '/home/sogaksa123/AIFFEL_THON/data/dataset5_0403/filtering5_1280/png_files/'\n",
    "\n",
    "\n",
    "sample_xml = xml_files_dir+'107_2b3_Ar_mc_AKGC417L_1.xml'\n",
    "with open(sample_xml) as f:\n",
    "    contents = f.read()\n",
    "    print(contents)"
   ]
  },
  {
   "cell_type": "markdown",
   "id": "7ba06812-638a-4813-8e8e-d87a9cb52ad5",
   "metadata": {},
   "source": [
    "# Data Loading"
   ]
  },
  {
   "cell_type": "code",
   "execution_count": 5,
   "id": "1294d6d6-ef13-4ccf-b786-5702fe9bdb8a",
   "metadata": {},
   "outputs": [],
   "source": [
    "## The functions are about translating label data.\n",
    "def xml_to_yolo_bbox(bbox, w, h):\n",
    "    # print('bbox, w, h: ', bbox, w, h)\n",
    "    # print('bbox[i]: ', bbox[0], bbox[1], bbox[2], bbox[3])\n",
    "    x_center = ((bbox[2] + bbox[0]) / 2) / w\n",
    "    y_center = ((bbox[3] + bbox[1]) / 2 ) / h # y\n",
    "\n",
    "    width = (bbox[2] - bbox[0]) / w\n",
    "    height = (bbox[3] - bbox[1]) / h # y\n",
    "    # print('[x_center, y_center, width, height]: ', x_center, y_center, width, height)\n",
    "    return [x_center, y_center, width, height]\n",
    "\n",
    "def yolo_to_xml_bbox(bbox, w, h):\n",
    "    # x_center, y_center, width, height\n",
    "    w_half_len = (bbox[2] + w) / 2\n",
    "    h_half_len = (bbox[3] + h) / 2\n",
    "\n",
    "    xmin = int((bbox[0] + w) - w_half_len)\n",
    "    ymin = int((bbox[1] + h) - h_half_len)\n",
    "    xmax = int((bbox[0] + w) + w_half_len)\n",
    "    ymax = int((bbox[1] + h) + h_half_len)\n",
    "\n",
    "    return [xmin, ymin, xmax, ymax]"
   ]
  },
  {
   "cell_type": "code",
   "execution_count": 29,
   "id": "87dc616d-7d94-4f16-ac2b-487d4ada49fd",
   "metadata": {},
   "outputs": [],
   "source": [
    "# # 1. size = 224, 224\n",
    "# input_dir = '/home/sogaksa123/AIFFEL_THON/data/dataset5_0403/with_normal_224/xml_files/'\n",
    "# output_dir = '/home/sogaksa123/AIFFEL_THON/data/dataset5_0403/model/Yolov8/dataset/Yolo8_224/labels/'\n",
    "# image_dir = '/home/sogaksa123/AIFFEL_THON/data/dataset5_0403/with_normal_224/png_files/'\n",
    "\n",
    "# # 2. size = 1280, 720\n",
    "# input_dir = '/home/sogaksa123/AIFFEL_THON/data/dataset5_0403/with_normal_1280/xml_files/'\n",
    "# output_dir = '/home/sogaksa123/AIFFEL_THON/data/dataset5_0403/model/Yolov8/dataset/Yolo8_1280/labels/'\n",
    "# image_dir = '/home/sogaksa123/AIFFEL_THON/data/dataset5_0403/with_normal_1280/png_files/'\n",
    "\n",
    "# # 3. filtering size = 224, 224\n",
    "# input_dir = '/home/sogaksa123/AIFFEL_THON/data/dataset5_0403/filtering5_224/xml_files/'\n",
    "# output_dir = '/home/sogaksa123/AIFFEL_THON/data/dataset5_0403/model/Yolov8/dataset/filtered_224/labels/'\n",
    "# image_dir = '/home/sogaksa123/AIFFEL_THON/data/dataset5_0403/filtering5_224/png_files/'\n",
    "\n",
    "# # 4. filtering size = 1280, 720\n",
    "input_dir = '/home/sogaksa123/AIFFEL_THON/data/dataset5_0403/filtering5_1280/xml_files/'\n",
    "output_dir = '/home/sogaksa123/AIFFEL_THON/data/dataset5_0403/model/Yolov8/dataset/filtered_1280/labels/'\n",
    "image_dir = '/home/sogaksa123/AIFFEL_THON/data/dataset5_0403/filtering5_1280/png_files/'"
   ]
  },
  {
   "cell_type": "code",
   "execution_count": 23,
   "id": "b1564bcb-1f76-4c13-80bc-2ac0a580ef8e",
   "metadata": {},
   "outputs": [],
   "source": []
  },
  {
   "cell_type": "markdown",
   "id": "c3d8f8bd-d37a-40d0-a418-eb3f63728cf8",
   "metadata": {},
   "source": [
    "## Create .xml to .txt label data. "
   ]
  },
  {
   "cell_type": "code",
   "execution_count": 30,
   "id": "201a428e-d398-4123-8e26-4fe8ed29b821",
   "metadata": {},
   "outputs": [],
   "source": [
    "# Create .txt label data.\n",
    "classes = []\n",
    "\n",
    "if not os.path.exists(output_dir):\n",
    "    os.makedirs(output_dir)\n",
    "\n",
    "files = glob.glob(os.path.join(input_dir, \"*.xml\"))\n",
    "for fil in files:\n",
    "    basename = os.path.basename(fil)\n",
    "    filename = os.path.splitext(basename)[0]\n",
    "    if not os.path.exists(os.path.join(image_dir, f\"{filename}.png\")):\n",
    "        print(f\"{filename} image does not exist\")\n",
    "        continue\n",
    "\n",
    "    result = []\n",
    "\n",
    "    tree = ET.parse(fil)\n",
    "    root = tree.getroot()\n",
    "    width = int(root.find(\"size\").find(\"width\").text)\n",
    "    height = int(root.find(\"size\").find(\"height\").text)\n",
    "\n",
    "    for obj in root.findall(\"object\"):\n",
    "        label = obj.find(\"name\").text\n",
    "\n",
    "        if label not in classes:\n",
    "            classes.append(label)\n",
    "\n",
    "        index = classes.index(label)\n",
    "        pil_bbox = [int(x.text) for x in obj.find(\"bndbox\")]\n",
    "        # print('pil_bbox: ', pil_bbox)\n",
    "        \n",
    "        yolo_bbox = xml_to_yolo_bbox(pil_bbox, width, height)\n",
    "        # print('yolo_bbox: ', yolo_bbox)\n",
    "        # print('\\n','\\n')\n",
    "        # break\n",
    "        bbox_string = \" \".join([str(x) for x in yolo_bbox])\n",
    "        result.append(f\"{index} {bbox_string}\")\n",
    "    # break\n",
    "    if result:\n",
    "\n",
    "        with open(os.path.join(output_dir, f\"{filename}.txt\"), \"w\", encoding = \"utf-8\") as f:\n",
    "            f.write(\"\\n\".join(result))\n",
    "\n",
    "with open(f\"{output_dir}/classes.txt\", \"w\", encoding = \"utf-8\") as f:\n",
    "    f.write(json.dumps(classes))"
   ]
  },
  {
   "cell_type": "code",
   "execution_count": 31,
   "id": "31c5681f-58e7-4e4f-90a0-278160dc050d",
   "metadata": {},
   "outputs": [
    {
     "name": "stdout",
     "output_type": "stream",
     "text": [
      "[\"crckles\", \"wheezes\", \"normal\"]\n"
     ]
    }
   ],
   "source": [
    "# Labels\n",
    "with open(f\"{output_dir}/classes.txt\") as f:\n",
    "    contents = f.read()\n",
    "    print(contents)"
   ]
  },
  {
   "cell_type": "code",
   "execution_count": 32,
   "id": "127ecf91-1c10-482f-bea7-6e0cf4d1fde5",
   "metadata": {},
   "outputs": [
    {
     "data": {
      "text/plain": [
       "['crckles', 'wheezes', 'normal']"
      ]
     },
     "execution_count": 32,
     "metadata": {},
     "output_type": "execute_result"
    }
   ],
   "source": [
    "classes"
   ]
  },
  {
   "cell_type": "markdown",
   "id": "1b3e82b1-0df2-4e50-8084-6993d046387e",
   "metadata": {},
   "source": [
    "### Preparing Training Data"
   ]
  },
  {
   "cell_type": "code",
   "execution_count": 33,
   "id": "7617ff81-5750-49b6-857d-b8d3288f5b40",
   "metadata": {},
   "outputs": [],
   "source": [
    "# size (224 or 1280)\n",
    "\n",
    "# v = 224\n",
    "v = 1280\n"
   ]
  },
  {
   "cell_type": "code",
   "execution_count": 34,
   "id": "7f15257a-1d28-401b-af3e-37c5afe35b09",
   "metadata": {},
   "outputs": [],
   "source": [
    "root = f'/home/sogaksa123/AIFFEL_THON/data/dataset5_0403/model/Yolov8/dataset/Yolo8_{v}/Training/data'\n",
    "\n",
    "def makedirectory(path):\n",
    "    if not os.path.exists(path):\n",
    "        os.makedirs(path)\n",
    "\n",
    "makedirectory(f'/home/sogaksa123/AIFFEL_THON/data/dataset5_0403/model/Yolov8/dataset/filtered_{v}')\n",
    "makedirectory(f'/home/sogaksa123/AIFFEL_THON/data/dataset5_0403/model/Yolov8/dataset/filtered_{v}/Training')\n",
    "makedirectory(f'/home/sogaksa123/AIFFEL_THON/data/dataset5_0403/model/Yolov8/dataset/filtered_{v}/Training/data')\n"
   ]
  },
  {
   "cell_type": "code",
   "execution_count": 35,
   "id": "1567cb48-c9ae-4bed-aa8b-b0eb4af7e5a4",
   "metadata": {
    "scrolled": true
   },
   "outputs": [],
   "source": [
    "# Create a folder of train dataset\n",
    "\n",
    "if not os.path.isfile(f\"/home/sogaksa123/AIFFEL_THON/data/dataset5_0403/model/Yolov8/dataset/filtered_{v}/Training/data\"):\n",
    "    makedirectory(f'/home/sogaksa123/AIFFEL_THON/data/dataset5_0403/model/Yolov8/dataset/filtered_{v}/Training/data/train')\n",
    "    makedirectory(f'/home/sogaksa123/AIFFEL_THON/data/dataset5_0403/model/Yolov8/dataset/filtered_{v}/Training/data/val')\n",
    "    makedirectory(f'/home/sogaksa123/AIFFEL_THON/data/dataset5_0403/model/Yolov8/dataset/filtered_{v}/Training/data/test')\n",
    "    makedirectory(f'/home/sogaksa123/AIFFEL_THON/data/dataset5_0403/model/Yolov8/dataset/filtered_{v}/Training/data/train/images')\n",
    "    makedirectory(f'/home/sogaksa123/AIFFEL_THON/data/dataset5_0403/model/Yolov8/dataset/filtered_{v}/Training/data/train/labels')\n",
    "    makedirectory(f'/home/sogaksa123/AIFFEL_THON/data/dataset5_0403/model/Yolov8/dataset/filtered_{v}/Training/data/test/images')\n",
    "    makedirectory(f'/home/sogaksa123/AIFFEL_THON/data/dataset5_0403/model/Yolov8/dataset/filtered_{v}/Training/data/test/labels')\n",
    "    makedirectory(f'/home/sogaksa123/AIFFEL_THON/data/dataset5_0403/model/Yolov8/dataset/filtered_{v}/Training/data/val/images')\n",
    "    makedirectory(f'/home/sogaksa123/AIFFEL_THON/data/dataset5_0403/model/Yolov8/dataset/filtered_{v}/Training/data/val/labels')"
   ]
  },
  {
   "cell_type": "code",
   "execution_count": 36,
   "id": "4e41f21f-2996-43ae-9d43-1d992a17a9b6",
   "metadata": {},
   "outputs": [],
   "source": [
    "# Material is the names of images in the images folder.\n",
    "\n",
    "####################### metarial부분 랜덤하게 섞어서 다시 돌려보기 #################################################\n",
    "metarial = []\n",
    "for i in sorted(os.listdir(\"/home/sogaksa123/AIFFEL_THON/data/dataset5_0403/filtering5_224/png_files\")):\n",
    "    string = i[:-4]\n",
    "    metarial.append(string)"
   ]
  },
  {
   "cell_type": "code",
   "execution_count": 37,
   "id": "4259ae5f-8b0d-466b-9f88-07230593ac26",
   "metadata": {},
   "outputs": [
    {
     "data": {
      "text/plain": [
       "['101_1b1_Al_sc_Meditron_0',\n",
       " '101_1b1_Al_sc_Meditron_1',\n",
       " '101_1b1_Al_sc_Meditron_2',\n",
       " '101_1b1_Pr_sc_Meditron_0',\n",
       " '101_1b1_Pr_sc_Meditron_1',\n",
       " '101_1b1_Pr_sc_Meditron_2',\n",
       " '102_1b1_Ar_sc_Meditron_0',\n",
       " '102_1b1_Ar_sc_Meditron_1',\n",
       " '102_1b1_Ar_sc_Meditron_2',\n",
       " '103_2b2_Ar_mc_LittC2SE_0']"
      ]
     },
     "execution_count": 37,
     "metadata": {},
     "output_type": "execute_result"
    }
   ],
   "source": [
    "metarial[0:10]"
   ]
  },
  {
   "cell_type": "markdown",
   "id": "3ae982a1-559f-416b-8d44-1c554d4f046a",
   "metadata": {},
   "source": [
    "### random.shuffle"
   ]
  },
  {
   "cell_type": "code",
   "execution_count": 38,
   "id": "c1b00f55-f12d-4fc7-a26b-583ff39256e0",
   "metadata": {},
   "outputs": [
    {
     "name": "stdout",
     "output_type": "stream",
     "text": [
      "<class 'list'>\n",
      "<class 'list'>\n",
      "<class 'list'>\n"
     ]
    }
   ],
   "source": [
    "# 랜덤 시드 설정\n",
    "random.seed(42)\n",
    "# 리스트 내용을 랜덤하게 섞기\n",
    "material_random = list(metarial)\n",
    "print(type(metarial))\n",
    "print(type(material_random))\n",
    "\n",
    "random.shuffle(material_random)\n",
    "print(type(material_random))"
   ]
  },
  {
   "cell_type": "code",
   "execution_count": 39,
   "id": "5fd905af-9325-497b-a601-af88bd55bec6",
   "metadata": {
    "scrolled": true
   },
   "outputs": [
    {
     "data": {
      "text/plain": [
       "['198_1b5_Pr_mc_AKGC417L_1',\n",
       " '203_2p3_Pr_mc_AKGC417L_1',\n",
       " '163_2b2_Tc_mc_AKGC417L_1',\n",
       " '130_1p4_Pr_mc_AKGC417L_2',\n",
       " '213_1p2_Al_mc_AKGC417L_0',\n",
       " '186_2b2_Pr_mc_AKGC417L_1',\n",
       " '130_3p4_Pl_mc_AKGC417L_2',\n",
       " '162_2b3_Pl_mc_AKGC417L_1',\n",
       " '221_2b1_Ar_mc_LittC2SE_0',\n",
       " '138_1p3_Ll_mc_AKGC417L_1']"
      ]
     },
     "execution_count": 39,
     "metadata": {},
     "output_type": "execute_result"
    }
   ],
   "source": [
    "material_random[:10]"
   ]
  },
  {
   "cell_type": "code",
   "execution_count": 40,
   "id": "498b1850-c3e2-498d-ba1a-05fe2728a2d2",
   "metadata": {},
   "outputs": [
    {
     "data": {
      "text/plain": [
       "['101_1b1_Al_sc_Meditron_0',\n",
       " '101_1b1_Al_sc_Meditron_1',\n",
       " '101_1b1_Al_sc_Meditron_2',\n",
       " '101_1b1_Pr_sc_Meditron_0',\n",
       " '101_1b1_Pr_sc_Meditron_1',\n",
       " '101_1b1_Pr_sc_Meditron_2',\n",
       " '102_1b1_Ar_sc_Meditron_0',\n",
       " '102_1b1_Ar_sc_Meditron_1',\n",
       " '102_1b1_Ar_sc_Meditron_2',\n",
       " '103_2b2_Ar_mc_LittC2SE_0']"
      ]
     },
     "execution_count": 40,
     "metadata": {},
     "output_type": "execute_result"
    }
   ],
   "source": [
    "metarial[:10]\n"
   ]
  },
  {
   "cell_type": "code",
   "execution_count": 41,
   "id": "3b53ca34-60c3-47ed-aff4-eae271f7be85",
   "metadata": {},
   "outputs": [
    {
     "name": "stdout",
     "output_type": "stream",
     "text": [
      "140282336840640\n",
      "140282337767424\n"
     ]
    }
   ],
   "source": [
    "print(id(metarial))\n",
    "print(id(material_random))\n"
   ]
  },
  {
   "cell_type": "code",
   "execution_count": 42,
   "id": "68b94e4d-a29d-4f01-977c-4e89826c7943",
   "metadata": {},
   "outputs": [
    {
     "name": "stdout",
     "output_type": "stream",
     "text": [
      "Sum of image:  2978\n",
      "Sum of the train size:  2084\n",
      "Sum of the test size:  446\n",
      "Sum of the val size:  446\n"
     ]
    }
   ],
   "source": [
    "# print(sorted(metarial[0:10]))\n",
    "print(\"Sum of image: \", len(material_random))\n",
    "train_size = int(len(material_random) * 0.7)\n",
    "test_size = int(len(material_random) * 0.15)\n",
    "val_size = int(len(material_random) * 0.15)\n",
    "print(\"Sum of the train size: \", train_size)\n",
    "print(\"Sum of the test size: \", test_size)\n",
    "print(\"Sum of the val size: \", val_size)"
   ]
  },
  {
   "cell_type": "code",
   "execution_count": 40,
   "id": "b8a0169e-75c9-48fa-96f7-6ad5a4963211",
   "metadata": {
    "scrolled": true
   },
   "outputs": [],
   "source": [
    "# # 각 랜덤리스트에 c, w, n 몇개씩 들어가있는지 출력\n",
    "# mstring_train = material_random[0:train_size]\n",
    "# mstring_test = material_random[train_size:train_size + test_size]\n",
    "# mstring_val = material_random[train_size + test_size:]\n",
    "\n",
    "# print(len(mstring_train))\n",
    "# print(len(mstring_test))\n",
    "# print(len(mstring_val))\n",
    "# '''\n",
    "# mstring_train[0]+'.png'\n",
    "# mstring_train[0]+'.txt'\n",
    "# get_annotation df\n",
    "\n",
    "# '''\n",
    "# print(mstring_train[0])\n",
    "# print(mstring_test[0])\n",
    "# print(mstring_val[0])\n"
   ]
  },
  {
   "cell_type": "markdown",
   "id": "6d2acc15-316c-4595-bce0-467766e3182e",
   "metadata": {},
   "source": [
    "### 각 split에 있는 label 갯수 세기"
   ]
  },
  {
   "cell_type": "code",
   "execution_count": 22,
   "id": "2eafdfdc-26a2-4f58-8261-8740a6e6d55c",
   "metadata": {
    "scrolled": true
   },
   "outputs": [],
   "source": [
    "# label_csv_path = '/home/sogaksa123/AIFFEL_THON/data/label_base_original.csv'\n",
    "\n",
    "# label_csv = pd.read_csv(label_csv_path)\n",
    "# label_csv\n",
    "# # for i, rows\n"
   ]
  },
  {
   "cell_type": "code",
   "execution_count": null,
   "id": "c198a7c9-2c9e-4ee7-88c5-0f0ead7c66d5",
   "metadata": {},
   "outputs": [],
   "source": []
  },
  {
   "cell_type": "markdown",
   "id": "eb1a5ae2-0800-486a-a413-787411f1fa0c",
   "metadata": {},
   "source": [
    "# Data Split"
   ]
  },
  {
   "cell_type": "code",
   "execution_count": 43,
   "id": "6b31664a-78ae-4238-b108-84b0bc828afa",
   "metadata": {},
   "outputs": [],
   "source": [
    "import os\n",
    "import shutil\n",
    "\n",
    "def preparingdata(main_txt_file, main_img_file, train_size, test_size, val_size):\n",
    "    for i in range(0, train_size):\n",
    "        source_txt = main_txt_file + \"/\" + material_random[i] + \".txt\"\n",
    "        source_img = main_img_file + \"/\" + material_random[i] + \".png\"\n",
    "\n",
    "        mstring = material_random[i]\n",
    "        train_destination_txt = f\"/home/sogaksa123/AIFFEL_THON/data/dataset5_0403/model/Yolov8/dataset/filtered_{v}/Training/data/train/labels\" + \"/\" + material_random[i] + \".txt\"\n",
    "        train_destination_png = f\"/home/sogaksa123/AIFFEL_THON/data/dataset5_0403/model/Yolov8/dataset/filtered_{v}/Training/data/train/images\" + \"/\" + material_random[i] + \".png\"\n",
    "\n",
    "        shutil.copy(source_txt, train_destination_txt)\n",
    "        shutil.copy(source_img, train_destination_png)\n",
    "\n",
    "    for l in range(train_size , train_size + test_size):\n",
    "        source_txt = main_txt_file + \"/\" + material_random[l] + \".txt\"\n",
    "        source_img = main_img_file + \"/\" + material_random[l] + \".png\"\n",
    "\n",
    "        mstring = material_random[l]\n",
    "        test_destination_txt = f\"/home/sogaksa123/AIFFEL_THON/data/dataset5_0403/model/Yolov8/dataset/filtered_{v}/Training/data/test/labels\" + \"/\" + material_random[l] + \".txt\"\n",
    "        test_destination_png = f\"/home/sogaksa123/AIFFEL_THON/data/dataset5_0403/model/Yolov8/dataset/filtered_{v}/Training/data/test/images\" + \"/\" + material_random[l] + \".png\"\n",
    "\n",
    "        shutil.copy(source_txt, test_destination_txt)\n",
    "        shutil.copy(source_img, test_destination_png)\n",
    "\n",
    "    for n in range(train_size + test_size , train_size + test_size + val_size):\n",
    "        source_txt = main_txt_file + \"/\" + material_random[n] + \".txt\"\n",
    "        source_img = main_img_file + \"/\" + material_random[n] + \".png\"\n",
    "\n",
    "        mstring = material_random[n]\n",
    "        val_destination_txt = f\"/home/sogaksa123/AIFFEL_THON/data/dataset5_0403/model/Yolov8/dataset/filtered_{v}/Training/data/val/labels\" + \"/\" + material_random[n] + \".txt\"\n",
    "        val_destination_png = f\"/home/sogaksa123/AIFFEL_THON/data/dataset5_0403/model/Yolov8/dataset/filtered_{v}/Training/data/val/images\" + \"/\" + material_random[n] + \".png\"\n",
    "        \n",
    "        shutil.copy(source_txt, val_destination_txt)\n",
    "        shutil.copy(source_img, val_destination_png)\n",
    "        "
   ]
  },
  {
   "cell_type": "code",
   "execution_count": 44,
   "id": "a1c5b983-eef3-41ef-9160-f00b230722d7",
   "metadata": {},
   "outputs": [],
   "source": [
    "#preparinbdata(\"/kaggle/working/labels\", \"/kaggle/input/face-mask-detection/images\", 603, 150, 100)\n",
    "\n",
    "# # 1. size = 224, 224\n",
    "# preparingdata(main_txt_file = \"/home/sogaksa123/AIFFEL_THON/data/dataset5_0403/model/Yolov8/dataset/Yolo8_224/labels/\",\n",
    "#               main_img_file = \"/home/sogaksa123/AIFFEL_THON/data/dataset5_0403/with_normal_224/png_files\",\n",
    "#               train_size = train_size,\n",
    "#               test_size = test_size,\n",
    "#               val_size = val_size)\n",
    "\n",
    "# # 2. size = 1280, 720\n",
    "# preparingdata(main_txt_file = \"/home/sogaksa123/AIFFEL_THON/data/dataset5_0403/model/Yolov8/dataset/Yolo8_1280/labels/\",\n",
    "#               main_img_file = \"/home/sogaksa123/AIFFEL_THON/data/dataset5_0403/with_normal_1280/png_files\",\n",
    "#               train_size = train_size,\n",
    "#               test_size = test_size,\n",
    "#               val_size = val_size)\n",
    "\n",
    "# 3. filtering size = 224, 224\n",
    "# preparingdata(main_txt_file = \"/home/sogaksa123/AIFFEL_THON/data/dataset5_0403/model/Yolov8/dataset/filtered_224/labels/\",\n",
    "#               main_img_file = \"/home/sogaksa123/AIFFEL_THON/data/dataset5_0403/filtering5_224/png_files\",\n",
    "#               train_size = train_size,\n",
    "#               test_size = test_size,\n",
    "#               val_size = val_size)\n",
    "\n",
    "# # 4. filtering size = 1280, 720\n",
    "preparingdata(main_txt_file = \"/home/sogaksa123/AIFFEL_THON/data/dataset5_0403/model/Yolov8/dataset/filtered_1280/labels/\",\n",
    "              main_img_file = \"/home/sogaksa123/AIFFEL_THON/data/dataset5_0403/filtering5_1280/png_files\",\n",
    "              train_size = train_size,\n",
    "              test_size = test_size,\n",
    "              val_size = val_size)\n"
   ]
  },
  {
   "cell_type": "code",
   "execution_count": 45,
   "id": "afaa4028-8538-4afd-9a23-91e50fbb34b3",
   "metadata": {},
   "outputs": [
    {
     "name": "stdout",
     "output_type": "stream",
     "text": [
      "train_data: 2084\n",
      "val_data: 446\n",
      "test_data: 446\n"
     ]
    }
   ],
   "source": [
    "train_data = len(os.listdir(f\"/home/sogaksa123/AIFFEL_THON/data/dataset5_0403/model/Yolov8/dataset/filtered_{v}/Training/data/train/images\"))\n",
    "val_data = len(os.listdir(f\"/home/sogaksa123/AIFFEL_THON/data/dataset5_0403/model/Yolov8/dataset/filtered_{v}/Training/data/val/images\"))\n",
    "test_data = len(os.listdir(f\"/home/sogaksa123/AIFFEL_THON/data/dataset5_0403/model/Yolov8/dataset/filtered_{v}/Training/data/test/images\"))\n",
    "\n",
    "print(f\"train_data: {train_data}\")\n",
    "print(f\"val_data: {val_data}\")\n",
    "print(f\"test_data: {test_data}\")"
   ]
  },
  {
   "cell_type": "code",
   "execution_count": 46,
   "id": "e2173a9b-56e0-4462-93fe-8d787af725a0",
   "metadata": {},
   "outputs": [],
   "source": [
    "# Create the data.yaml. I am going to use it on the train with yolov9.\n",
    "\n",
    "nc = 3 # with normal\n",
    "names = [\"crackles\", \"wheezes\", \"normal\"]\n",
    "\n",
    "# nc = 2 # without normal\n",
    "# names = [\"crackles\", \"wheezes\"]\n",
    "\n",
    "yaml_text = f\"\"\"train: /home/sogaksa123/AIFFEL_THON/data/dataset5_0403/model/Yolov8/dataset/filtered_{v}/Training/data/train/images/\n",
    "val: /home/sogaksa123/AIFFEL_THON/data/dataset5_0403/model/Yolov8/dataset/filtered_{v}/Training/data/val/images/\n",
    "\n",
    "nc: {nc}\n",
    "names: {names}\"\"\"\n",
    "\n",
    "with open(f\"/home/sogaksa123/AIFFEL_THON/data/dataset5_0403/model/Yolov8/dataset/filtered_{v}/data_filtered{v}.yaml\", 'w') as file:\n",
    "    file.write(yaml_text)"
   ]
  },
  {
   "cell_type": "code",
   "execution_count": 47,
   "id": "08010a21-f5e8-4430-97a9-b55baf4531a3",
   "metadata": {},
   "outputs": [
    {
     "name": "stdout",
     "output_type": "stream",
     "text": [
      "train: /home/sogaksa123/AIFFEL_THON/data/dataset5_0403/model/Yolov8/dataset/filtered_1280/Training/data/train/images/\n",
      "val: /home/sogaksa123/AIFFEL_THON/data/dataset5_0403/model/Yolov8/dataset/filtered_1280/Training/data/val/images/\n",
      "\n",
      "nc: 3\n",
      "names: ['crackles', 'wheezes', 'normal']\n"
     ]
    }
   ],
   "source": [
    "with open(f\"/home/sogaksa123/AIFFEL_THON/data/dataset5_0403/model/Yolov8/dataset/filtered_{v}/data_filtered{v}.yaml\") as f:\n",
    "    contents = f.read()\n",
    "    print(contents)"
   ]
  },
  {
   "cell_type": "code",
   "execution_count": 48,
   "id": "f09a0186-cd64-4254-898b-305250559259",
   "metadata": {},
   "outputs": [
    {
     "data": {
      "text/plain": [
       "2979"
      ]
     },
     "execution_count": 48,
     "metadata": {},
     "output_type": "execute_result"
    }
   ],
   "source": [
    "len(os.listdir(f\"/home/sogaksa123/AIFFEL_THON/data/dataset5_0403/model/Yolov8/dataset/filtered_{v}/labels\"))"
   ]
  }
 ],
 "metadata": {
  "kernelspec": {
   "display_name": "Python 3 (ipykernel)",
   "language": "python",
   "name": "python3"
  },
  "language_info": {
   "codemirror_mode": {
    "name": "ipython",
    "version": 3
   },
   "file_extension": ".py",
   "mimetype": "text/x-python",
   "name": "python",
   "nbconvert_exporter": "python",
   "pygments_lexer": "ipython3",
   "version": "3.10.13"
  }
 },
 "nbformat": 4,
 "nbformat_minor": 5
}
