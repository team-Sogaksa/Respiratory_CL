{
 "cells": [
  {
   "cell_type": "markdown",
   "id": "48f0d844-3957-4b18-bf19-04f45ff55bf9",
   "metadata": {},
   "source": [
    "## loading\n",
    "\n",
    "https://medium.com/wake-write-win/yolov8-evaluating-models-on-test-data-61400f258504\n",
    "\n",
    "Ultralytics YOLO는 테스트 데이터를 평가하기 위한 별도의 모드를 제공하지 않습니다.\n",
    "\n",
    ":\n"
   ]
  },
  {
   "cell_type": "code",
   "execution_count": 1,
   "id": "477a02db-1892-411b-aa15-5ff40698a8df",
   "metadata": {},
   "outputs": [
    {
     "name": "stdout",
     "output_type": "stream",
     "text": [
      "/home/sogaksa123/AIFFEL_THON/data/dataset6_fix_0408\n",
      "3.10.13 (main, Sep 11 2023, 13:44:35) [GCC 11.2.0]\n"
     ]
    }
   ],
   "source": [
    "# import\n",
    "import os\n",
    "current_directory = os.getcwd()\n",
    "print(current_directory)\n",
    "\n",
    "import sys\n",
    "print(sys.version)\n",
    "\n",
    "import glob\n",
    "import os\n",
    "import shutil"
   ]
  },
  {
   "cell_type": "code",
   "execution_count": 2,
   "id": "0338a9d0-d1b2-40fd-ad2e-5368015dbe1b",
   "metadata": {},
   "outputs": [],
   "source": [
    "def makedirectory(path):\n",
    "    if not os.path.exists(path):\n",
    "        os.makedirs(path)"
   ]
  },
  {
   "cell_type": "code",
   "execution_count": 10,
   "id": "ca3762a6-1aaa-47d4-8ff3-738538061116",
   "metadata": {},
   "outputs": [],
   "source": [
    "# 새로 저장할 경로 생성\n",
    "\n",
    "# change_dataset10 = '1_vsLabel_diff'\n",
    "# change_dataset11 = '1_vsLabel_same'\n",
    "# change_dataset20 = '2_filter_x' # == '1_vsLabel_same'\n",
    "# change_dataset21 = '2_filter_5'\n",
    "# change_dataset30 = '3_size_224'\n",
    "# change_dataset31 = '3_size_1280'\n",
    "# change_dataset40 = '4_iou_05'\n",
    "# change_dataset41 = '4_iou_07'\n",
    "\n",
    "# 4_iou_07   == 3_size_224 == 2_filter_5\n",
    "# 2_filter_x == 1_vsLabel_same\n",
    "\n",
    "\n",
    "# save_root = '/home/sogaksa123/AIFFEL_THON/data/dataset6_fix_0408/Testset/'\n",
    "# empty_dir = save_root + change_dataset + '/empty/'\n",
    "# test_dir = save_root + change_dataset + '/test/' #### save path\n",
    "\n",
    "# makedirectory(empty_dir)\n",
    "# makedirectory(test_dir)"
   ]
  },
  {
   "cell_type": "code",
   "execution_count": 14,
   "id": "4f3628e5-333e-4539-bd60-800dac028f97",
   "metadata": {},
   "outputs": [],
   "source": [
    "change_dataset10 = '1_vsLabel_diff'\n",
    "change_dataset11 = '1_vsLabel_same'\n",
    "change_dataset20 = '2_filter_x' # == '1_vsLabel_same'\n",
    "change_dataset21 = '2_filter_5'\n",
    "change_dataset30 = '3_size_224'\n",
    "change_dataset31 = '3_size_1280'\n",
    "change_dataset40 = '4_iou_05'\n",
    "change_dataset41 = '4_iou_07'\n",
    "\n",
    "test_dir10 = save_root + change_dataset10 + '/test/' #### save path\n",
    "test_dir11 = save_root + change_dataset11 + '/test/' #### save path\n",
    "test_dir20 = save_root + change_dataset20 + '/test/' #### save path\n",
    "test_dir21 = save_root + change_dataset21 + '/test/' #### save path\n",
    "test_dir30 = save_root + change_dataset30 + '/test/' #### save path\n",
    "test_dir31 = save_root + change_dataset31 + '/test/' #### save path\n",
    "test_dir40 = save_root + change_dataset40 + '/test/' #### save path\n",
    "test_dir41 = save_root + change_dataset41 + '/test/' #### save path\n"
   ]
  },
  {
   "cell_type": "code",
   "execution_count": 18,
   "id": "934975b8-9509-4537-8f5e-f3e27b3ea7ae",
   "metadata": {},
   "outputs": [],
   "source": [
    "# 학습에 사용된 데이터셋의 testset (load)\n",
    "'''\n",
    "4_iou_07   == 3_size_224 == 2_filter_5\n",
    "2_filter_x == 1_vsLabel_same\n",
    "'''\n",
    "# 1_vsLabel_diff / same\n",
    "## diff\n",
    "testimg_dir10 = '/home/sogaksa123/AIFFEL_THON/data/dataset4_0331/model/Yolov8/dataset/Yolo8_224/Training/data/test/images/'\n",
    "testtxt_dir10 = '/home/sogaksa123/AIFFEL_THON/data/dataset4_0331/model/Yolov8/dataset/Yolo8_224/Training/data/test/labels/'\n",
    "## same\n",
    "testimg_dir11 = '/home/sogaksa123/AIFFEL_THON/data/dataset5_0403/model/Yolov8/dataset/Yolo8_224/Training/data/test/images/'\n",
    "testtxt_dir11 = '/home/sogaksa123/AIFFEL_THON/data/dataset5_0403/model/Yolov8/dataset/Yolo8_224/Training/data/test/labels/'\n",
    "\n",
    "# 2_filter_x / 5\n",
    "## x\n",
    "testimg_dir20 = '/home/sogaksa123/AIFFEL_THON/data/dataset5_0403/model/Yolov8/dataset/Yolo8_224/Training/data/test/images/'\n",
    "testtxt_dir20 = '/home/sogaksa123/AIFFEL_THON/data/dataset5_0403/model/Yolov8/dataset/Yolo8_224/Training/data/test/labels/'\n",
    "## 5\n",
    "testimg_dir21 = '/home/sogaksa123/AIFFEL_THON/data/dataset5_0403/model/Yolov8/dataset/filtered_224/Training/data/test/images/'\n",
    "testtxt_dir21 = '/home/sogaksa123/AIFFEL_THON/data/dataset5_0403/model/Yolov8/dataset/filtered_224/Training/data/test/labels/'\n",
    "\n",
    "# 3_size_224 / 1280\n",
    "## 224\n",
    "testimg_dir30 = '/home/sogaksa123/AIFFEL_THON/data/dataset5_0403/model/Yolov8/dataset/filtered_224/Training/data/test/images/'\n",
    "testtxt_dir30 = '/home/sogaksa123/AIFFEL_THON/data/dataset5_0403/model/Yolov8/dataset/filtered_224/Training/data/test/labels/'\n",
    "## 2180\n",
    "testimg_dir31 = '/home/sogaksa123/AIFFEL_THON/data/dataset5_0403/model/Yolov8/dataset/filtered_1280/Training/data/test/images/'\n",
    "testtxt_dir31 = '/home/sogaksa123/AIFFEL_THON/data/dataset5_0403/model/Yolov8/dataset/filtered_1280/Training/data/test/labels/'\n",
    "\n",
    "# 4_iou_05 / 07\n",
    "## 05\n",
    "testimg_dir40 = '/home/sogaksa123/AIFFEL_THON/data/dataset5_0403/model/Yolov8/dataset/filtered_224/Training/data/test/images/'\n",
    "testtxt_dir40 = '/home/sogaksa123/AIFFEL_THON/data/dataset5_0403/model/Yolov8/dataset/filtered_224/Training/data/test/labels/'\n",
    "## 07\n",
    "testimg_dir41 = '/home/sogaksa123/AIFFEL_THON/data/dataset5_0403/model/Yolov8/dataset/filtered_224/Training/data/test/images/'\n",
    "testtxt_dir41 = '/home/sogaksa123/AIFFEL_THON/data/dataset5_0403/model/Yolov8/dataset/filtered_224/Training/data/test/labels/'\n",
    "\n",
    "# print('img:', len(os.listdir(testimg_dir)))\n",
    "# print('txt:', len(os.listdir(testtxt_dir)))"
   ]
  },
  {
   "cell_type": "code",
   "execution_count": 16,
   "id": "28a7d21f-487d-4751-8aa5-9265d0111057",
   "metadata": {},
   "outputs": [],
   "source": [
    "# 학습에 사용된 데이터셋의 testset들을 복사해서 지정한 경로로 붙여넣기\n",
    "def copys(testimg_dir, testtxt_dir, test_dir):\n",
    "    # 이미지 파일 복사\n",
    "    for img_file in glob.glob(testimg_dir + '*.png'):\n",
    "        shutil.copy(img_file, test_dir)\n",
    "    # 텍스트 파일 복사\n",
    "    for txt_file in glob.glob(testtxt_dir + '*.txt'):\n",
    "        shutil.copy(txt_file, test_dir)"
   ]
  },
  {
   "cell_type": "code",
   "execution_count": 19,
   "id": "812c3449-856c-4276-95f2-85d37ac3abb1",
   "metadata": {},
   "outputs": [
    {
     "name": "stdout",
     "output_type": "stream",
     "text": [
      "done\n"
     ]
    }
   ],
   "source": [
    "copys(testimg_dir10, testtxt_dir10, test_dir10)\n",
    "copys(testimg_dir11, testtxt_dir11, test_dir11)\n",
    "copys(testimg_dir20, testtxt_dir20, test_dir20)\n",
    "copys(testimg_dir21, testtxt_dir21, test_dir21)\n",
    "copys(testimg_dir30, testtxt_dir30, test_dir30)\n",
    "copys(testimg_dir31, testtxt_dir31, test_dir31)\n",
    "copys(testimg_dir40, testtxt_dir40, test_dir40)\n",
    "copys(testimg_dir41, testtxt_dir41, test_dir41)\n",
    "\n",
    "print('done')"
   ]
  },
  {
   "cell_type": "code",
   "execution_count": 21,
   "id": "6164e562-e59e-431a-8653-e7af6dd3f78f",
   "metadata": {},
   "outputs": [
    {
     "name": "stdout",
     "output_type": "stream",
     "text": [
      "all: 892\n",
      "img: 446\n",
      "txt: 446\n"
     ]
    }
   ],
   "source": [
    "print('all:', len(os.listdir(test_dir41)))\n",
    "print('img:', len([file for file in os.listdir(test_dir41) if file.endswith('.png')]))\n",
    "print('txt:', len([file for file in os.listdir(test_dir41) if file.endswith('.txt')]))"
   ]
  },
  {
   "cell_type": "code",
   "execution_count": 20,
   "id": "c1cda4d8-f63a-4319-8bcd-8cf4dd5e2c56",
   "metadata": {},
   "outputs": [
    {
     "name": "stdout",
     "output_type": "stream",
     "text": [
      "all: 892\n",
      "all: 892\n",
      "all: 892\n",
      "all: 892\n",
      "all: 892\n",
      "all: 892\n",
      "all: 892\n",
      "all: 892\n"
     ]
    }
   ],
   "source": [
    "print('all:', len(os.listdir(test_dir10)))\n",
    "print('all:', len(os.listdir(test_dir11)))\n",
    "print('all:', len(os.listdir(test_dir20)))\n",
    "print('all:', len(os.listdir(test_dir21)))\n",
    "print('all:', len(os.listdir(test_dir30)))\n",
    "print('all:', len(os.listdir(test_dir31)))\n",
    "print('all:', len(os.listdir(test_dir40)))\n",
    "print('all:', len(os.listdir(test_dir41)))\n"
   ]
  },
  {
   "cell_type": "code",
   "execution_count": 22,
   "id": "f75d0048-636a-4ca1-be83-4b4e3af2dc8f",
   "metadata": {},
   "outputs": [],
   "source": [
    "change_dataset_ls = [change_dataset10,\n",
    "                     change_dataset11, \n",
    "                     change_dataset20, \n",
    "                     change_dataset21, \n",
    "                     change_dataset30, \n",
    "                     change_dataset31, \n",
    "                     change_dataset40, \n",
    "                     change_dataset41]"
   ]
  },
  {
   "cell_type": "code",
   "execution_count": 25,
   "id": "a8ea5384-0adc-418b-9f07-2c7f49ffdf2b",
   "metadata": {},
   "outputs": [
    {
     "name": "stdout",
     "output_type": "stream",
     "text": [
      "1_vsLabel_diff\n",
      "train: /home/sogaksa123/AIFFEL_THON/data/dataset6_fix_0408/Testset/1_vsLabel_diff/empty/\n",
      "    val: /home/sogaksa123/AIFFEL_THON/data/dataset6_fix_0408/Testset/1_vsLabel_diff/test/\n",
      "    \n",
      "    nc: 3\n",
      "    names: ['crackles', 'wheezes', 'normal']\n",
      "====================================================================================================\n",
      "1_vsLabel_same\n",
      "train: /home/sogaksa123/AIFFEL_THON/data/dataset6_fix_0408/Testset/1_vsLabel_same/empty/\n",
      "    val: /home/sogaksa123/AIFFEL_THON/data/dataset6_fix_0408/Testset/1_vsLabel_same/test/\n",
      "    \n",
      "    nc: 3\n",
      "    names: ['crackles', 'wheezes', 'normal']\n",
      "====================================================================================================\n",
      "2_filter_x\n",
      "train: /home/sogaksa123/AIFFEL_THON/data/dataset6_fix_0408/Testset/2_filter_x/empty/\n",
      "    val: /home/sogaksa123/AIFFEL_THON/data/dataset6_fix_0408/Testset/2_filter_x/test/\n",
      "    \n",
      "    nc: 3\n",
      "    names: ['crackles', 'wheezes', 'normal']\n",
      "====================================================================================================\n",
      "2_filter_5\n",
      "train: /home/sogaksa123/AIFFEL_THON/data/dataset6_fix_0408/Testset/2_filter_5/empty/\n",
      "    val: /home/sogaksa123/AIFFEL_THON/data/dataset6_fix_0408/Testset/2_filter_5/test/\n",
      "    \n",
      "    nc: 3\n",
      "    names: ['crackles', 'wheezes', 'normal']\n",
      "====================================================================================================\n",
      "3_size_224\n",
      "train: /home/sogaksa123/AIFFEL_THON/data/dataset6_fix_0408/Testset/3_size_224/empty/\n",
      "    val: /home/sogaksa123/AIFFEL_THON/data/dataset6_fix_0408/Testset/3_size_224/test/\n",
      "    \n",
      "    nc: 3\n",
      "    names: ['crackles', 'wheezes', 'normal']\n",
      "====================================================================================================\n",
      "3_size_1280\n",
      "train: /home/sogaksa123/AIFFEL_THON/data/dataset6_fix_0408/Testset/3_size_1280/empty/\n",
      "    val: /home/sogaksa123/AIFFEL_THON/data/dataset6_fix_0408/Testset/3_size_1280/test/\n",
      "    \n",
      "    nc: 3\n",
      "    names: ['crackles', 'wheezes', 'normal']\n",
      "====================================================================================================\n",
      "4_iou_05\n",
      "train: /home/sogaksa123/AIFFEL_THON/data/dataset6_fix_0408/Testset/4_iou_05/empty/\n",
      "    val: /home/sogaksa123/AIFFEL_THON/data/dataset6_fix_0408/Testset/4_iou_05/test/\n",
      "    \n",
      "    nc: 3\n",
      "    names: ['crackles', 'wheezes', 'normal']\n",
      "====================================================================================================\n",
      "4_iou_07\n",
      "train: /home/sogaksa123/AIFFEL_THON/data/dataset6_fix_0408/Testset/4_iou_07/empty/\n",
      "    val: /home/sogaksa123/AIFFEL_THON/data/dataset6_fix_0408/Testset/4_iou_07/test/\n",
      "    \n",
      "    nc: 3\n",
      "    names: ['crackles', 'wheezes', 'normal']\n",
      "====================================================================================================\n"
     ]
    }
   ],
   "source": [
    "# test용 yaml파일 작성\n",
    "\n",
    "for change_dataset in change_dataset_ls:\n",
    "    nc = 3 \n",
    "    names = [\"crackles\", \"wheezes\", \"normal\"]\n",
    "    # save_root = '/home/sogaksa123/AIFFEL_THON/data/dataset6_fix_0408/Testset/'\n",
    "    \n",
    "    yaml_text = f\"\"\"train: /home/sogaksa123/AIFFEL_THON/data/dataset6_fix_0408/Testset/{change_dataset}/empty/\n",
    "    val: /home/sogaksa123/AIFFEL_THON/data/dataset6_fix_0408/Testset/{change_dataset}/test/\n",
    "    \n",
    "    nc: {nc}\n",
    "    names: {names}\"\"\"\n",
    "    \n",
    "    with open(f\"/home/sogaksa123/AIFFEL_THON/data/dataset6_fix_0408/Testset/{change_dataset}/{change_dataset}.yaml\", 'w') as file:\n",
    "        file.write(yaml_text)\n",
    "\n",
    "    with open(f\"/home/sogaksa123/AIFFEL_THON/data/dataset6_fix_0408/Testset/{change_dataset}/{change_dataset}.yaml\", 'r') as f:\n",
    "        contents = f.read()\n",
    "        print(change_dataset)\n",
    "        print(contents)\n",
    "        print('='*100)"
   ]
  },
  {
   "cell_type": "code",
   "execution_count": null,
   "id": "2f57e239-dccb-437c-b5d8-ccccb0978574",
   "metadata": {},
   "outputs": [],
   "source": []
  }
 ],
 "metadata": {
  "kernelspec": {
   "display_name": "Python 3 (ipykernel)",
   "language": "python",
   "name": "python3"
  },
  "language_info": {
   "codemirror_mode": {
    "name": "ipython",
    "version": 3
   },
   "file_extension": ".py",
   "mimetype": "text/x-python",
   "name": "python",
   "nbconvert_exporter": "python",
   "pygments_lexer": "ipython3",
   "version": "3.10.13"
  }
 },
 "nbformat": 4,
 "nbformat_minor": 5
}
