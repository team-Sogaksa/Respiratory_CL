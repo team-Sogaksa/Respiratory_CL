{
 "cells": [
  {
   "cell_type": "code",
   "execution_count": 1,
   "id": "51eaadb9-6ae4-4052-b0c6-eef9c46d12ac",
   "metadata": {},
   "outputs": [],
   "source": [
    "import zipfile\n",
    "import os\n",
    "\n",
    "def unzip_file(zip_path, output_folder):\n",
    "    with zipfile.ZipFile(zip_path, 'r') as zip_ref:\n",
    "        zip_ref.extractall(output_folder)\n",
    "\n",
    "zip_file_path = '/home/sogaksa123/AIFFEL_THON/ICBHI2017_Data/ICBHI_final_database.zip'\n",
    "output_folder = '/home/sogaksa123/AIFFEL_THON/ICBHI2017_Data/ICBHI_final_database'\n",
    "\n",
    "unzip_file(zip_file_path, output_folder)"
   ]
  },
  {
   "cell_type": "code",
   "execution_count": 2,
   "id": "141ea817-7773-4dcd-b84b-eaf873a4fcb0",
   "metadata": {},
   "outputs": [
    {
     "name": "stdout",
     "output_type": "stream",
     "text": [
      "/home/sogaksa123/AIFFEL_THON/model/Yolov9\n"
     ]
    }
   ],
   "source": [
    "import os\n",
    "current_directory = os.getcwd()\n",
    "print(current_directory)"
   ]
  },
  {
   "cell_type": "code",
   "execution_count": null,
   "id": "67afbb3d-1752-4130-935e-7e2fe9080ac1",
   "metadata": {},
   "outputs": [],
   "source": []
  }
 ],
 "metadata": {
  "kernelspec": {
   "display_name": "Python 3 (ipykernel)",
   "language": "python",
   "name": "python3"
  },
  "language_info": {
   "codemirror_mode": {
    "name": "ipython",
    "version": 3
   },
   "file_extension": ".py",
   "mimetype": "text/x-python",
   "name": "python",
   "nbconvert_exporter": "python",
   "pygments_lexer": "ipython3",
   "version": "3.10.13"
  }
 },
 "nbformat": 4,
 "nbformat_minor": 5
}
