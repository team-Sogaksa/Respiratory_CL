{
 "cells": [
  {
   "cell_type": "code",
   "execution_count": null,
   "metadata": {
    "colab": {
     "base_uri": "https://localhost:8080/"
    },
    "id": "6aIYDdZT2GwD",
    "outputId": "52a49284-a98e-444a-8f7a-1c4cc8efd299"
   },
   "outputs": [
    {
     "name": "stdout",
     "output_type": "stream",
     "text": [
      "Drive already mounted at /content/drive; to attempt to forcibly remount, call drive.mount(\"/content/drive\", force_remount=True).\n"
     ]
    }
   ],
   "source": [
    "from google.colab import drive\n",
    "drive.mount('/content/drive')"
   ]
  },
  {
   "cell_type": "code",
   "execution_count": 6,
   "metadata": {},
   "outputs": [
    {
     "name": "stdout",
     "output_type": "stream",
     "text": [
      "Collecting matplotlib\n",
      "  Downloading matplotlib-3.8.3-cp310-cp310-manylinux_2_17_x86_64.manylinux2014_x86_64.whl.metadata (5.8 kB)\n",
      "Collecting contourpy>=1.0.1 (from matplotlib)\n",
      "  Downloading contourpy-1.2.0-cp310-cp310-manylinux_2_17_x86_64.manylinux2014_x86_64.whl.metadata (5.8 kB)\n",
      "Collecting cycler>=0.10 (from matplotlib)\n",
      "  Downloading cycler-0.12.1-py3-none-any.whl.metadata (3.8 kB)\n",
      "Collecting fonttools>=4.22.0 (from matplotlib)\n",
      "  Downloading fonttools-4.50.0-cp310-cp310-manylinux_2_17_x86_64.manylinux2014_x86_64.whl.metadata (159 kB)\n",
      "\u001b[2K     \u001b[90m━━━━━━━━━━━━━━━━━━━━━━━━━━━━━━━━━━━━━━━\u001b[0m \u001b[32m159.4/159.4 kB\u001b[0m \u001b[31m2.1 MB/s\u001b[0m eta \u001b[36m0:00:00\u001b[0ma \u001b[36m0:00:01\u001b[0m\n",
      "\u001b[?25hCollecting kiwisolver>=1.3.1 (from matplotlib)\n",
      "  Downloading kiwisolver-1.4.5-cp310-cp310-manylinux_2_12_x86_64.manylinux2010_x86_64.whl.metadata (6.4 kB)\n",
      "Requirement already satisfied: numpy<2,>=1.21 in /home/sogaksa123/anaconda3/envs/sogaksa/lib/python3.10/site-packages (from matplotlib) (1.26.4)\n",
      "Requirement already satisfied: packaging>=20.0 in /home/sogaksa123/anaconda3/envs/sogaksa/lib/python3.10/site-packages (from matplotlib) (24.0)\n",
      "Collecting pillow>=8 (from matplotlib)\n",
      "  Downloading pillow-10.2.0-cp310-cp310-manylinux_2_28_x86_64.whl.metadata (9.7 kB)\n",
      "Collecting pyparsing>=2.3.1 (from matplotlib)\n",
      "  Downloading pyparsing-3.1.2-py3-none-any.whl.metadata (5.1 kB)\n",
      "Requirement already satisfied: python-dateutil>=2.7 in /home/sogaksa123/anaconda3/envs/sogaksa/lib/python3.10/site-packages (from matplotlib) (2.9.0.post0)\n",
      "Requirement already satisfied: six>=1.5 in /home/sogaksa123/anaconda3/envs/sogaksa/lib/python3.10/site-packages (from python-dateutil>=2.7->matplotlib) (1.16.0)\n",
      "Downloading matplotlib-3.8.3-cp310-cp310-manylinux_2_17_x86_64.manylinux2014_x86_64.whl (11.6 MB)\n",
      "\u001b[2K   \u001b[90m━━━━━━━━━━━━━━━━━━━━━━━━━━━━━━━━━━━━━━━━\u001b[0m \u001b[32m11.6/11.6 MB\u001b[0m \u001b[31m73.0 MB/s\u001b[0m eta \u001b[36m0:00:00\u001b[0ma \u001b[36m0:00:01\u001b[0m\n",
      "\u001b[?25hDownloading contourpy-1.2.0-cp310-cp310-manylinux_2_17_x86_64.manylinux2014_x86_64.whl (310 kB)\n",
      "\u001b[2K   \u001b[90m━━━━━━━━━━━━━━━━━━━━━━━━━━━━━━━━━━━━━━━━\u001b[0m \u001b[32m310.7/310.7 kB\u001b[0m \u001b[31m48.9 MB/s\u001b[0m eta \u001b[36m0:00:00\u001b[0m\n",
      "\u001b[?25hDownloading cycler-0.12.1-py3-none-any.whl (8.3 kB)\n",
      "Downloading fonttools-4.50.0-cp310-cp310-manylinux_2_17_x86_64.manylinux2014_x86_64.whl (4.6 MB)\n",
      "\u001b[2K   \u001b[90m━━━━━━━━━━━━━━━━━━━━━━━━━━━━━━━━━━━━━━━━\u001b[0m \u001b[32m4.6/4.6 MB\u001b[0m \u001b[31m86.3 MB/s\u001b[0m eta \u001b[36m0:00:00\u001b[0mta \u001b[36m0:00:01\u001b[0m\n",
      "\u001b[?25hDownloading kiwisolver-1.4.5-cp310-cp310-manylinux_2_12_x86_64.manylinux2010_x86_64.whl (1.6 MB)\n",
      "\u001b[2K   \u001b[90m━━━━━━━━━━━━━━━━━━━━━━━━━━━━━━━━━━━━━━━━\u001b[0m \u001b[32m1.6/1.6 MB\u001b[0m \u001b[31m97.5 MB/s\u001b[0m eta \u001b[36m0:00:00\u001b[0m\n",
      "\u001b[?25hDownloading pillow-10.2.0-cp310-cp310-manylinux_2_28_x86_64.whl (4.5 MB)\n",
      "\u001b[2K   \u001b[90m━━━━━━━━━━━━━━━━━━━━━━━━━━━━━━━━━━━━━━━━\u001b[0m \u001b[32m4.5/4.5 MB\u001b[0m \u001b[31m83.2 MB/s\u001b[0m eta \u001b[36m0:00:00\u001b[0mta \u001b[36m0:00:01\u001b[0m\n",
      "\u001b[?25hDownloading pyparsing-3.1.2-py3-none-any.whl (103 kB)\n",
      "\u001b[2K   \u001b[90m━━━━━━━━━━━━━━━━━━━━━━━━━━━━━━━━━━━━━━━━\u001b[0m \u001b[32m103.2/103.2 kB\u001b[0m \u001b[31m21.5 MB/s\u001b[0m eta \u001b[36m0:00:00\u001b[0m\n",
      "\u001b[?25hInstalling collected packages: pyparsing, pillow, kiwisolver, fonttools, cycler, contourpy, matplotlib\n",
      "Successfully installed contourpy-1.2.0 cycler-0.12.1 fonttools-4.50.0 kiwisolver-1.4.5 matplotlib-3.8.3 pillow-10.2.0 pyparsing-3.1.2\n",
      "Note: you may need to restart the kernel to use updated packages.\n"
     ]
    }
   ],
   "source": [
    "pip install matplotlib"
   ]
  },
  {
   "cell_type": "code",
   "execution_count": 1,
   "metadata": {
    "id": "Sz9lL8VA4s-c"
   },
   "outputs": [],
   "source": [
    "import numpy as np\n",
    "import pandas as pd\n",
    "import matplotlib.pyplot as plt\n",
    "\n",
    "import xml.etree.cElementTree as ET\n",
    "import glob\n",
    "import os\n",
    "import json\n",
    "import random\n",
    "import shutil\n",
    "\n",
    "from PIL import Image, ImageOps"
   ]
  },
  {
   "cell_type": "markdown",
   "metadata": {
    "id": "wav4XaYc6Q-d"
   },
   "source": [
    "### Review Data"
   ]
  },
  {
   "cell_type": "code",
   "execution_count": null,
   "metadata": {
    "colab": {
     "base_uri": "https://localhost:8080/"
    },
    "id": "uhJcOWzz6gjn",
    "outputId": "706158ea-a2b5-4f4b-f865-25d08c2ffb8a"
   },
   "outputs": [
    {
     "name": "stdout",
     "output_type": "stream",
     "text": [
      "<?xml version=\"1.0\" ?>\n",
      "<annotation>\n",
      "\t\n",
      "    \n",
      "\t<folder>crack</folder>\n",
      "\t\n",
      "    \n",
      "\t<filename>195_1b1_Lr_sc_Litt3200_3.png</filename>\n",
      "\t\n",
      "    \n",
      "\t<path>/content/drive/MyDrive/project/crack/195_1b1_Lr_sc_Litt3200_3.png</path>\n",
      "\t\n",
      "    \n",
      "\t<source>\n",
      "\t\t\n",
      "        \n",
      "\t\t<database>Unknown</database>\n",
      "\t\t\n",
      "    \n",
      "\t</source>\n",
      "\t\n",
      "    \n",
      "\t<size>\n",
      "\t\t\n",
      "        \n",
      "\t\t<width>224</width>\n",
      "\t\t\n",
      "        \n",
      "\t\t<height>224</height>\n",
      "\t\t\n",
      "        \n",
      "\t\t<depth>3</depth>\n",
      "\t\t\n",
      "    \n",
      "\t</size>\n",
      "\t\n",
      "    \n",
      "\t<segmented>0</segmented>\n",
      "\t\n",
      "    \n",
      "\t<object>\n",
      "\t\t\n",
      "        \n",
      "\t\t<name>crackles</name>\n",
      "\t\t\n",
      "        \n",
      "\t\t<pose>Unspecified</pose>\n",
      "\t\t\n",
      "        \n",
      "\t\t<truncated>0</truncated>\n",
      "\t\t\n",
      "        \n",
      "\t\t<difficult>0</difficult>\n",
      "\t\t\n",
      "        \n",
      "\t\t<bndbox>\n",
      "\t\t\t\n",
      "            \n",
      "\t\t\t<xmin>74</xmin>\n",
      "\t\t\t\n",
      "            \n",
      "\t\t\t<ymin>205</ymin>\n",
      "\t\t\t\n",
      "            \n",
      "\t\t\t<xmax>149</xmax>\n",
      "\t\t\t\n",
      "            \n",
      "\t\t\t<ymax>215</ymax>\n",
      "\t\t\t\n",
      "        \n",
      "\t\t</bndbox>\n",
      "\t\t\n",
      "    \n",
      "\t</object>\n",
      "\t\n",
      "\n",
      "\t<object>\n",
      "\t\t<name>wheezes</name>\n",
      "\t\t<bndbox>\n",
      "\t\t\t<xmin>74</xmin>\n",
      "\t\t\t<ymin>115</ymin>\n",
      "\t\t\t<xmax>149</xmax>\n",
      "\t\t\t<ymax>206</ymax>\n",
      "\t\t</bndbox>\n",
      "\t</object>\n",
      "</annotation>\n",
      "\n"
     ]
    }
   ],
   "source": [
    "# This is a label from the annotation folder. This label is .xml format.\n",
    "with open(\"/content/drive/MyDrive/project/xml/all_xml/195_1b1_Lr_sc_Litt3200_3.xml\") as f:\n",
    "    contents = f.read()\n",
    "    print(contents)"
   ]
  },
  {
   "cell_type": "markdown",
   "metadata": {
    "id": "DUWQVIo-7GI1"
   },
   "source": [
    "### Preparing Data For Model(YoloV9)"
   ]
  },
  {
   "cell_type": "markdown",
   "metadata": {
    "id": "mZFPG1ZFDPsk"
   },
   "source": [
    "#### Translate '.xml\" format to \".txt\" format"
   ]
  },
  {
   "cell_type": "code",
   "execution_count": 2,
   "metadata": {
    "id": "D0Q70KlJ7M1_"
   },
   "outputs": [],
   "source": [
    "# The functions are about translating label data.\n",
    "def xml_to_yolo_bbox(bbox, w, h):\n",
    "    x_center = ((bbox[2] + bbox[0]) / 2) / w\n",
    "    y_center = ((bbox[3] + bbox[1]) / 2 ) / h\n",
    "\n",
    "    width = (bbox[2] - bbox[0]) / w\n",
    "    height = (bbox[3] - bbox[1]) / h\n",
    "\n",
    "    return [x_center, y_center, width, height]\n",
    "\n",
    "def yolo_to_xml_bbox(bbox, w, h):\n",
    "    # x_center, y_center, width, height\n",
    "    w_half_len = (bbox[2] + w) / 2\n",
    "    h_half_len = (bbox[3] + h) / 2\n",
    "\n",
    "    xmin = int((bbox[0] + w) - w_half_len)\n",
    "    ymin = int((bbox[1] + h) - h_half_len)\n",
    "    xmax = int((bbox[0] + w) + w_half_len)\n",
    "    ymax = int((bbox[1] + h) + h_half_len)\n",
    "\n",
    "    return [xmin, ymin, xmax, ymax]"
   ]
  },
  {
   "cell_type": "code",
   "execution_count": 24,
   "metadata": {
    "id": "tt8EUlCdDZvB"
   },
   "outputs": [],
   "source": [
    "# Create .txt label data.\n",
    "classes = []\n",
    "\n",
    "input_dir = \"/home/sogaksa123/AIFFEL_THON/data/dataset2/data_rec/xml_file/xml_file\"\n",
    "output_dir = \"/home/sogaksa123/AIFFEL_THON/data/dataset2/data_rec/text_file\"\n",
    "image_dir = \"/home/sogaksa123/AIFFEL_THON/data/dataset2/data_rec/mel_images/mel_images\"\n",
    "\n",
    "if not os.path.exists(output_dir):\n",
    "    os.mkdir(output_dir)\n",
    "\n",
    "files = glob.glob(os.path.join(input_dir, \"*.xml\"))\n",
    "for fil in files:\n",
    "    basename = os.path.basename(fil)\n",
    "    filename = os.path.splitext(basename)[0]\n",
    "    if not os.path.exists(os.path.join(image_dir, f\"{filename}.png\")):\n",
    "        print(f\"{filename} image does not exist\")\n",
    "        continue\n",
    "\n",
    "    result = []\n",
    "\n",
    "    tree = ET.parse(fil)\n",
    "    root = tree.getroot()\n",
    "    width = int(root.find(\"size\").find(\"width\").text)\n",
    "    height = int(root.find(\"size\").find(\"height\").text)\n",
    "\n",
    "    for obj in root.findall(\"object\"):\n",
    "        label = obj.find(\"name\").text\n",
    "\n",
    "        if label not in classes:\n",
    "            classes.append(label)\n",
    "\n",
    "        index = classes.index(label)\n",
    "        pil_bbox = [int(x.text) for x in obj.find(\"bndbox\")]\n",
    "        yolo_bbox = xml_to_yolo_bbox(pil_bbox, width, height)\n",
    "\n",
    "        bbox_string = \" \".join([str(x) for x in yolo_bbox])\n",
    "        result.append(f\"{index} {bbox_string}\")\n",
    "\n",
    "    if result:\n",
    "\n",
    "        with open(os.path.join(output_dir, f\"{filename}.txt\"), \"w\", encoding = \"utf-8\") as f:\n",
    "            f.write(\"\\n\".join(result))\n",
    "\n",
    "with open(f\"{output_dir}/classes.txt\", \"w\", encoding = \"utf-8\") as f:\n",
    "    f.write(json.dumps(classes))"
   ]
  },
  {
   "cell_type": "code",
   "execution_count": 25,
   "metadata": {},
   "outputs": [
    {
     "name": "stdout",
     "output_type": "stream",
     "text": [
      "폴더 안에 파일 개수: 2978\n"
     ]
    }
   ],
   "source": [
    "import os\n",
    "\n",
    "def count_files_in_folder(folder_path):\n",
    "    count = 0\n",
    "    for _, _, files in os.walk(folder_path):\n",
    "        count += len(files)\n",
    "    return count\n",
    "\n",
    "folder_path = '/home/sogaksa123/AIFFEL_THON/data/dataset2/data_rec/text_file'  # 파일 개수를 확인할 폴더 경로\n",
    "file_count = count_files_in_folder(folder_path)\n",
    "print(\"폴더 안에 파일 개수:\", file_count)\n"
   ]
  },
  {
   "cell_type": "code",
   "execution_count": 26,
   "metadata": {
    "colab": {
     "base_uri": "https://localhost:8080/"
    },
    "id": "T0I0G842DbrM",
    "outputId": "97a35a3d-e8f6-4da9-ccd2-845193852af7"
   },
   "outputs": [
    {
     "name": "stdout",
     "output_type": "stream",
     "text": [
      "[\"crackles\", \"wheezes\", \"Normal\"]\n"
     ]
    }
   ],
   "source": [
    "# Labels\n",
    "with open(f\"{output_dir}/classes.txt\") as f:\n",
    "    contents = f.read()\n",
    "    print(contents)"
   ]
  },
  {
   "cell_type": "code",
   "execution_count": 36,
   "metadata": {
    "id": "_SCtcYklDcTo"
   },
   "outputs": [
    {
     "name": "stdout",
     "output_type": "stream",
     "text": [
      "<?xml version=\"1.0\" ?>\n",
      "<annotation>\n",
      "    <folder>107_2b4_Ll_mc_AKGC417L</folder>\n",
      "    <filename>107_2b4_Ll_mc_AKGC417L_3.png</filename>\n",
      "    <path>/content/drive/MyDrive/AIFFEL/AIFFELTON/dataset/7s_mel/crackles/image_crackle/107_2b4_Ll_mc_AKGC417L/107_2b4_Ll_mc_AKGC417L_3.png</path>\n",
      "    <source>\n",
      "        <database>Unknown</database>\n",
      "    </source>\n",
      "    <size>\n",
      "        <width>310</width>\n",
      "        <height>308</height>\n",
      "        <depth>3</depth>\n",
      "    </size>\n",
      "    <segmented>0</segmented>\n",
      "    <object>\n",
      "        <name>crackles</name>\n",
      "        <pose>Unspecified</pose>\n",
      "        <truncated>0</truncated>\n",
      "        <difficult>0</difficult>\n",
      "        <bndbox>\n",
      "            <xmin>235</xmin>\n",
      "            <ymin>256</ymin>\n",
      "            <xmax>285</xmax>\n",
      "            <ymax>295</ymax>\n",
      "        </bndbox>\n",
      "    </object>\n",
      "    <object>\n",
      "        <name>crackles</name>\n",
      "        <pose>Unspecified</pose>\n",
      "        <truncated>0</truncated>\n",
      "        <difficult>0</difficult>\n",
      "        <bndbox>\n",
      "            <xmin>108</xmin>\n",
      "            <ymin>256</ymin>\n",
      "            <xmax>231</xmax>\n",
      "            <ymax>295</ymax>\n",
      "        </bndbox>\n",
      "    </object>\n",
      "    <object>\n",
      "        <name>crackles</name>\n",
      "        <pose>Unspecified</pose>\n",
      "        <truncated>0</truncated>\n",
      "        <difficult>0</difficult>\n",
      "        <bndbox>\n",
      "            <xmin>4</xmin>\n",
      "            <ymin>256</ymin>\n",
      "            <xmax>104</xmax>\n",
      "            <ymax>295</ymax>\n",
      "        </bndbox>\n",
      "    </object>\n",
      "</annotation>\n",
      "\n"
     ]
    }
   ],
   "source": [
    "# .xml format\n",
    "with open(\"/home/sogaksa123/AIFFEL_THON/data/dataset2/data_rec/xml_file/xml_file/107_2b4_Ll_mc_AKGC417L_3.xml\") as f:\n",
    "    contents = f.read()\n",
    "    print(contents)"
   ]
  },
  {
   "cell_type": "code",
   "execution_count": 37,
   "metadata": {
    "id": "PbYMTv4PDeqv"
   },
   "outputs": [
    {
     "name": "stdout",
     "output_type": "stream",
     "text": [
      "0 0.8387096774193549 0.8944805194805194 0.16129032258064516 0.1266233766233766\n",
      "0 0.5467741935483871 0.8944805194805194 0.3967741935483871 0.1266233766233766\n",
      "0 0.17419354838709677 0.8944805194805194 0.3225806451612903 0.1266233766233766\n"
     ]
    }
   ],
   "source": [
    "# .txt format\n",
    "with open(\"/home/sogaksa123/AIFFEL_THON/data/dataset2/data_rec/text_file/107_2b4_Ll_mc_AKGC417L_3.txt\") as f:\n",
    "    contents = f.read()\n",
    "    print(contents)"
   ]
  },
  {
   "cell_type": "code",
   "execution_count": 5,
   "metadata": {
    "colab": {
     "base_uri": "https://localhost:8080/"
    },
    "id": "glcwKvIGDhWy",
    "outputId": "7b5513ab-4aa5-4dcd-a81a-3ca64f4e3219"
   },
   "outputs": [
    {
     "name": "stdout",
     "output_type": "stream",
     "text": [
      "Annotation Counts: 2989\n",
      "Lables Counts: 2978\n"
     ]
    }
   ],
   "source": [
    "annotation_count = len(os.listdir(\"/home/sogaksa123/AIFFEL_THON/data/dataset2/data_rec/xml_file/xml_file\"))\n",
    "labels_count = len(os.listdir(\"/home/sogaksa123/AIFFEL_THON/data/dataset2/data_rec/text_file/text_file\"))\n",
    "print(f\"Annotation Counts: {annotation_count}\")\n",
    "print(f\"Lables Counts: {labels_count}\")"
   ]
  },
  {
   "cell_type": "code",
   "execution_count": 39,
   "metadata": {
    "id": "NM2RCkzUWnaY"
   },
   "outputs": [],
   "source": [
    "annotation_list = os.listdir(\"/home/sogaksa123/AIFFEL_THON/data/dataset2/data_rec/xml_file/xml_file\")\n",
    "labels_list = os.listdir(\"/home/sogaksa123/AIFFEL_THON/data/dataset2/data_rec/text_file\")"
   ]
  },
  {
   "cell_type": "code",
   "execution_count": 14,
   "metadata": {
    "colab": {
     "base_uri": "https://localhost:8080/"
    },
    "id": "2hd9cvwcW8Rb",
    "outputId": "7cea170b-e548-40b2-e39c-2caec830c290"
   },
   "outputs": [
    {
     "name": "stdout",
     "output_type": "stream",
     "text": [
      "확장자를 제외한 파일명 리스트: ['170_1b4_Ar_mc_AKGC417L_2', '122_2b1_Al_mc_LittC2SE_2', '203_1p2_Pr_mc_AKGC417L_3', '162_1b2_Pl_mc_AKGC417L_3', '213_1p2_Pl_mc_AKGC417L_3', '104_1b1_Pr_sc_Litt3200_3', '163_8b3_Ar_mc_AKGC417L_3', '192_2b3_Ar_mc_LittC2SE_2', '145_3b4_Pl_mc_AKGC417L_1', '204_7p5_Al_mc_AKGC417L_2', '199_2b3_Ll_mc_LittC2SE_1', '205_1b3_Ar_mc_AKGC417L_1', '221_2b2_Al_mc_LittC2SE_1', '130_3b4_Al_mc_AKGC417L_3', '160_2b3_Lr_mc_AKGC417L_2', '178_1b3_Tc_mc_AKGC417L_1', '125_1b1_Tc_sc_Meditron_3', '180_1b4_Pr_mc_AKGC417L_2', '151_2p4_Tc_mc_AKGC417L_3', '151_2p2_Pr_mc_AKGC417L_2', '163_2b2_Pl_mc_AKGC417L_3', '154_3b3_Ll_mc_AKGC417L_3', '107_2b5_Tc_mc_AKGC417L_2', '162_2b4_Al_mc_AKGC417L_2', '178_2b2_Lr_mc_AKGC417L_1', '172_1b3_Al_mc_AKGC417L_2', '121_1b1_Tc_sc_Meditron_1', '174_1p2_Ll_mc_AKGC417L_3', '111_1b3_Tc_sc_Meditron_3', '158_1p4_Lr_mc_AKGC417L_2', '191_2b1_Pl_mc_LittC2SE_3', '130_1p4_Pr_mc_AKGC417L_2', '199_2b1_Ll_mc_LittC2SE_2', '158_2p2_Ar_mc_AKGC417L_2', '211_1p2_Pr_mc_AKGC417L_2', '126_1b1_Al_sc_Meditron_3', '206_1b1_Ar_sc_Meditron_3', '177_1b4_Ar_mc_AKGC417L_2', '192_2b1_Al_mc_LittC2SE_3', '172_2b5_Al_mc_AKGC417L_1', '216_1b1_Al_sc_Meditron_1', '165_1b1_Pr_sc_Meditron_1', '223_1b1_Lr_sc_Meditron_3', '130_1p3_Ar_mc_AKGC417L_1', '207_2b2_Al_mc_AKGC417L_3', '147_1b3_Tc_mc_AKGC417L_3', '112_1b1_Ar_sc_Meditron_5', '158_1p2_Ll_mc_AKGC417L_1', '133_2p3_Tc_mc_AKGC417L_1', '218_1p1_Pr_sc_Litt3200_5', '135_2b3_Tc_mc_LittC2SE_2', '130_1p4_Pl_mc_AKGC417L_2', '174_1p2_Tc_mc_AKGC417L_3', '145_3b4_Pl_mc_AKGC417L_3', '156_8b3_Al_mc_AKGC417L_3', '200_2p3_Pl_mc_AKGC417L_2', '156_5b3_Pr_mc_AKGC417L_3', '178_1b2_Lr_mc_AKGC417L_1', '200_2p3_Al_mc_AKGC417L_2', '198_6p1_Pr_mc_AKGC417L_2', '138_1p3_Pl_mc_AKGC417L_2', '141_1b3_Pr_mc_LittC2SE_2', '154_1b3_Al_mc_AKGC417L_2', '139_1b1_Al_sc_Litt3200_3', '112_1p1_Ll_sc_Litt3200_2', '222_1b1_Pr_sc_Meditron_8', '133_3p2_Pl_mc_AKGC417L_3', '122_2b1_Tc_mc_LittC2SE_1', '151_2p4_Lr_mc_AKGC417L_3', '211_1p2_Pl_mc_AKGC417L_2', '130_2b4_Pl_mc_AKGC417L_2', '154_1b3_Ar_mc_AKGC417L_1', '198_6p1_Pr_mc_AKGC417L_3', '140_2b3_Ll_mc_LittC2SE_2', '115_1b1_Ar_sc_Meditron_1', '223_1b1_Pr_sc_Meditron_1', '157_1b1_Al_sc_Meditron_1', '130_2p5_Pl_mc_AKGC417L_1', '205_2b3_Ar_mc_AKGC417L_3', '138_2p2_Pl_mc_AKGC417L_3', '200_3p4_Tc_mc_AKGC417L_1', '151_2p2_Pl_mc_AKGC417L_3', '223_1b1_Pl_sc_Meditron_1', '169_1b2_Ll_sc_Meditron_3', '107_2b4_Lr_mc_AKGC417L_2', '138_1p3_Pr_mc_AKGC417L_1', '215_1b2_Ar_sc_Meditron_1', '141_1b2_Lr_mc_LittC2SE_3', '174_1p4_Ar_mc_AKGC417L_3', '176_1b4_Lr_mc_AKGC417L_2', '103_2b2_Ar_mc_LittC2SE_1', '163_8b3_Lr_mc_AKGC417L_1', '219_2b2_Ar_mc_LittC2SE_3', '172_1b4_Ll_mc_AKGC417L_2', '110_1p1_Pr_sc_Meditron_2', '128_1b3_Tc_mc_LittC2SE_2', '203_1p2_Lr_mc_AKGC417L_1', '186_2b4_Ar_mc_AKGC417L_1', '170_1b3_Ar_mc_AKGC417L_2', '203_1p3_Ar_mc_AKGC417L_3', '147_2b4_Ll_mc_AKGC417L_3', '192_2b2_Ar_mc_LittC2SE_2', '133_2p4_Pl_mc_AKGC417L_1', '158_1p2_Pl_mc_AKGC417L_1', '186_2b4_Pl_mc_AKGC417L_1', '135_2b1_Al_mc_LittC2SE_1', '160_1b2_Tc_mc_AKGC417L_3', '186_3b3_Pr_mc_AKGC417L_3', '203_1p4_Pl_mc_AKGC417L_3', '130_1p3_Pr_mc_AKGC417L_2', '120_1b1_Pr_sc_Meditron_4', '218_1b1_Al_sc_Meditron_9', '118_1b1_Ar_sc_Litt3200_2', '149_1b1_Pl_sc_Meditron_2', '130_1p4_Al_mc_AKGC417L_1', '162_2b2_Pr_mc_AKGC417L_1', '146_2b2_Pl_mc_AKGC417L_2', '223_1b1_Pr_sc_Meditron_4', '157_1b1_Ar_sc_Meditron_5', '128_1b3_Tc_mc_LittC2SE_3', '151_2p2_Pl_mc_AKGC417L_2', '164_1b1_Ll_sc_Meditron_2', '158_1p2_Pl_mc_AKGC417L_3', '107_2b5_Al_mc_AKGC417L_2', '199_2b3_Ll_mc_LittC2SE_3', '154_2b4_Lr_mc_AKGC417L_1', '140_2b2_Tc_mc_LittC2SE_1', '128_1b3_Tc_mc_LittC2SE_1', '166_1p1_Pr_sc_Meditron_2', '200_3p4_Al_mc_AKGC417L_1', '170_1b4_Pr_mc_AKGC417L_1', '154_4b4_Ll_mc_AKGC417L_2', '140_2b2_Ll_mc_LittC2SE_3', '135_2b1_Pl_mc_LittC2SE_3', '175_1b1_Pr_sc_Litt3200_1', '154_3b3_Al_mc_AKGC417L_1', '203_1p2_Al_mc_AKGC417L_3', '104_1b1_Pr_sc_Litt3200_2', '218_1b1_Pr_sc_Meditron_7', '222_1b1_Lr_sc_Meditron_7', '130_3p3_Pr_mc_AKGC417L_1', '192_2b1_Ar_mc_LittC2SE_2', '154_4b4_Lr_mc_AKGC417L_2', '162_2b4_Pr_mc_AKGC417L_2', '185_1b1_Pr_sc_Litt3200_1', '162_2b3_Tc_mc_AKGC417L_2', '130_2b2_Pr_mc_AKGC417L_3', '192_2b1_Al_mc_LittC2SE_2', '219_2b2_Ar_mc_LittC2SE_1', '160_1b4_Lr_mc_AKGC417L_3', '109_1b1_Ll_sc_Litt3200_3', '151_2p2_Al_mc_AKGC417L_1', '162_2b4_Ar_mc_AKGC417L_3', '207_2b4_Tc_mc_AKGC417L_2', '178_2b2_Pr_mc_AKGC417L_1', '170_1b2_Tc_mc_AKGC417L_3', '162_2b4_Pr_mc_AKGC417L_3', '111_1b2_Tc_sc_Meditron_1', '207_3b2_Pl_mc_AKGC417L_3', '207_3b2_Pl_mc_AKGC417L_1', '130_3p2_Ar_mc_AKGC417L_2', '186_2b2_Al_mc_AKGC417L_2', '186_2b3_Lr_mc_AKGC417L_2', '130_3b4_Al_mc_AKGC417L_1', '120_1b1_Lr_sc_Meditron_13', '130_1p3_Ll_mc_AKGC417L_2', '110_1p1_Ll_sc_Meditron_1', '140_2b2_Tc_mc_LittC2SE_3', '130_2b2_Pl_mc_AKGC417L_3', '167_1b1_Al_sc_Meditron_3', '122_2b1_Al_mc_LittC2SE_3', '104_1b1_Pl_sc_Litt3200_4', '224_1b1_Tc_sc_Meditron_3', '203_2p3_Ar_mc_AKGC417L_3', '134_2b2_Ar_mc_LittC2SE_3', '193_7b3_Tc_mc_AKGC417L_3', '207_2b2_Ar_mc_AKGC417L_2', '203_2p3_Pl_mc_AKGC417L_1', '195_1b1_Pr_sc_Litt3200_1', '151_3p2_Lr_mc_AKGC417L_2', '200_2p2_Lr_mc_AKGC417L_3', '160_1b2_Al_mc_AKGC417L_2', '207_3b2_Ar_mc_AKGC417L_3', '126_1b1_Al_sc_Meditron_2', '216_1b1_Pl_sc_Meditron_1', '162_2b2_Al_mc_AKGC417L_2', '177_2b4_Pr_mc_AKGC417L_3', '176_2b3_Pr_mc_AKGC417L_1', '170_1b3_Pl_mc_AKGC417L_1', '131_1b1_Al_sc_Meditron_3', '158_2p3_Tc_mc_AKGC417L_2', '145_2b2_Pr_mc_AKGC417L_3', '157_1b1_Pl_sc_Meditron_5', '135_2b1_Al_mc_LittC2SE_2', '174_1p3_Ar_mc_AKGC417L_3', '204_7p5_Al_mc_AKGC417L_3', '218_1b1_Pr_sc_Meditron_6', '138_2p2_Lr_mc_AKGC417L_2', '151_3p2_Ar_mc_AKGC417L_1', '156_8b3_Ll_mc_AKGC417L_1', '156_5b3_Al_mc_AKGC417L_2', '140_2b3_Ll_mc_LittC2SE_1', '146_8p3_Ar_mc_AKGC417L_3', '147_2b3_Ar_mc_AKGC417L_3', '180_1b4_Lr_mc_AKGC417L_1', '110_1p1_Pr_sc_Meditron_11', '157_1b1_Lr_sc_Meditron_4', '213_1p3_Al_mc_AKGC417L_3', '221_2b1_Pl_mc_LittC2SE_1', '156_2b3_Lr_mc_AKGC417L_1', '158_1p3_Ar_mc_AKGC417L_1', '172_1b5_Pl_mc_AKGC417L_1', '172_1b4_Ll_mc_AKGC417L_1', '203_1p4_Tc_mc_AKGC417L_3', '204_7p5_Ll_mc_AKGC417L_2', '198_6p1_Ll_mc_AKGC417L_1', '188_1b1_Ar_sc_Meditron_1', '107_2b4_Ar_mc_AKGC417L_2', '200_2p3_Lr_mc_AKGC417L_1', '146_2b4_Lr_mc_AKGC417L_3', '110_1b1_Pr_sc_Meditron_3', '186_2b3_Tc_mc_AKGC417L_2', '181_1b3_Tc_mc_LittC2SE_3', '110_1p1_Pr_sc_Meditron_3', '208_1b1_Ll_sc_Meditron_1', '203_2p3_Pr_mc_AKGC417L_1', '162_1b2_Pr_mc_AKGC417L_3', '213_1p3_Pl_mc_AKGC417L_3', '174_2p3_Pr_mc_AKGC417L_2', '180_1b4_Pr_mc_AKGC417L_3', '124_1b1_Pr_sc_Litt3200_2', '186_2b3_Al_mc_AKGC417L_1', '203_1p4_Ar_mc_AKGC417L_2', '162_2b3_Al_mc_AKGC417L_2', '151_2p4_Pr_mc_AKGC417L_1', '166_1p1_Ll_sc_Meditron_8', '130_2b3_Pl_mc_AKGC417L_2', '203_2p3_Pr_mc_AKGC417L_2', '159_1b1_Ll_sc_Meditron_3', '174_1p2_Tc_mc_AKGC417L_2', '154_4b4_Al_mc_AKGC417L_2', '111_1b3_Tc_sc_Meditron_1', '162_2b3_Pr_mc_AKGC417L_2', '159_1b1_Ar_sc_Meditron_1', '211_1p3_Ar_mc_AKGC417L_1', '120_1b1_Ar_sc_Meditron_1', '131_1b1_Al_sc_Meditron_1', '120_1b1_Pr_sc_Meditron_8', '200_3p4_Pr_mc_AKGC417L_1', '172_1b4_Al_mc_AKGC417L_3', '121_1p1_Tc_sc_Meditron_1', '211_2p2_Tc_mc_AKGC417L_3', '223_1b1_Al_sc_Meditron_3', '130_1p3_Ar_mc_AKGC417L_3', '122_2b2_Tc_mc_LittC2SE_1', '147_2b4_Al_mc_AKGC417L_1', '207_2b3_Pl_mc_AKGC417L_3', '133_3p2_Al_mc_AKGC417L_3', '158_1p2_Pr_mc_AKGC417L_3', '221_2b1_Ar_mc_LittC2SE_2', '164_1b1_Ll_sc_Meditron_3', '166_1p1_Pl_sc_Meditron_4', '156_2b3_Ar_mc_AKGC417L_2', '130_2b3_Pr_mc_AKGC417L_3', '200_2p3_Pr_mc_AKGC417L_2', '151_2p4_Pl_mc_AKGC417L_1', '174_1p4_Tc_mc_AKGC417L_2', '113_1b1_Al_sc_Litt3200_1', '145_2b2_Ar_mc_AKGC417L_3', '169_1b1_Lr_sc_Meditron_1', '160_2b4_Ar_mc_AKGC417L_2', '130_3p2_Al_mc_AKGC417L_2', '138_2p2_Ll_mc_AKGC417L_2', '170_1b3_Tc_mc_AKGC417L_2', '147_2b3_Lr_mc_AKGC417L_2', '137_1b1_Ll_sc_Meditron_3', '166_1p1_Pr_sc_Meditron_7', '138_1p3_Ar_mc_AKGC417L_3', '186_2b2_Al_mc_AKGC417L_3', '130_3b3_Ll_mc_AKGC417L_3', '222_1b1_Ar_sc_Meditron_1', '112_1b1_Lr_sc_Meditron_5', '177_1b4_Lr_mc_AKGC417L_2', '154_1b3_Al_mc_AKGC417L_1', '151_2p2_Ar_mc_AKGC417L_3', '141_1b3_Pr_mc_LittC2SE_1', '186_2b3_Pr_mc_AKGC417L_1', '186_3b3_Tc_mc_AKGC417L_1', '118_1b1_Al_sc_Litt3200_3', '114_1b4_Lr_mc_AKGC417L_2', '218_1b1_Al_sc_Meditron_6', '107_3p2_Al_mc_AKGC417L_2', '176_1b4_Lr_mc_AKGC417L_3', '107_2b3_Al_mc_AKGC417L_3', '174_1p3_Lr_mc_AKGC417L_3', '198_6p1_Ll_mc_AKGC417L_2', '147_2b3_Pl_mc_AKGC417L_1', '104_1b1_Lr_sc_Litt3200_1', '130_3p2_Al_mc_AKGC417L_1', '182_1b1_Tc_sc_Meditron_2', '186_2b4_Pl_mc_AKGC417L_2', '172_1b4_Pr_mc_AKGC417L_2', '160_1b3_Pl_mc_AKGC417L_2', '166_1p1_Al_sc_Meditron_4', '176_1b4_Ar_mc_AKGC417L_3', '154_1b3_Pl_mc_AKGC417L_1', '172_1b3_Lr_mc_AKGC417L_1', '162_2b2_Tc_mc_AKGC417L_2', '200_3p4_Ar_mc_AKGC417L_2', '205_4b2_Pl_mc_AKGC417L_2', '146_8p3_Ar_mc_AKGC417L_1', '120_1b1_Pl_sc_Meditron_2', '177_1b4_Tc_mc_AKGC417L_1', '130_2p5_Ar_mc_AKGC417L_3', '151_2p4_Al_mc_AKGC417L_2', '160_1b3_Al_mc_AKGC417L_3', '205_4b2_Lr_mc_AKGC417L_1', '162_2b3_Al_mc_AKGC417L_3', '156_2b3_Al_mc_AKGC417L_1', '130_2b4_Pl_mc_AKGC417L_3', '109_1b1_Al_sc_Litt3200_1', '218_1b1_Ar_sc_Meditron_9', '130_3p4_Al_mc_AKGC417L_1', '207_2b2_Tc_mc_AKGC417L_3', '201_1b1_Al_sc_Meditron_1', '130_1p4_Ll_mc_AKGC417L_1', '170_1b4_Pl_mc_AKGC417L_3', '213_1p5_Ar_mc_AKGC417L_2', '203_1p2_Lr_mc_AKGC417L_3', '170_1b3_Ll_mc_AKGC417L_1', '151_2p3_Lr_mc_AKGC417L_1', '159_1b1_Ll_sc_Meditron_1', '120_1b1_Al_sc_Meditron_10', '178_1b6_Pr_mc_AKGC417L_1', '151_2p4_Lr_mc_AKGC417L_2', '176_1b3_Ar_mc_AKGC417L_1', '172_1b4_Pl_mc_AKGC417L_2', '130_2b4_Al_mc_AKGC417L_3', '146_8p3_Pr_mc_AKGC417L_2', '130_1p2_Pr_mc_AKGC417L_1', '170_1b4_Tc_mc_AKGC417L_2', '122_2b3_Al_mc_LittC2SE_1', '205_2b3_Ll_mc_AKGC417L_1', '205_2b4_Pl_mc_AKGC417L_3', '180_1b4_Lr_mc_AKGC417L_3', '160_1b2_Tc_mc_AKGC417L_1', '163_2b2_Ar_mc_AKGC417L_1', '213_2p2_Pl_mc_AKGC417L_2', '120_1b1_Ar_sc_Meditron_6', '178_1b2_Ar_mc_AKGC417L_1', '143_1b1_Al_sc_Meditron_1', '130_2b3_Tc_mc_AKGC417L_2', '205_2b3_Ll_mc_AKGC417L_2', '110_1p1_Lr_sc_Meditron_3', '158_1p4_Lr_mc_AKGC417L_1', '213_1p5_Pr_mc_AKGC417L_2', '158_1b3_Ar_mc_LittC2SE_2', '223_1b1_Al_sc_Meditron_4', '130_3p4_Tc_mc_AKGC417L_2', '174_2p3_Pr_mc_AKGC417L_1', '204_2b5_Ar_mc_AKGC417L_1', '162_1b2_Lr_mc_AKGC417L_2', '205_4b2_Al_mc_AKGC417L_1', '178_1b3_Pr_mc_AKGC417L_3', '113_1b1_Pl_sc_Litt3200_1', '211_2p3_Tc_mc_AKGC417L_3', '176_1b3_Lr_mc_AKGC417L_1', '120_1b1_Lr_sc_Meditron_11', '127_1b1_Ar_sc_Meditron_3', '135_2b3_Pl_mc_LittC2SE_2', '176_2b3_Ll_mc_AKGC417L_3', '154_2b4_Ll_mc_AKGC417L_2', '207_2b3_Al_mc_AKGC417L_3', '185_1b1_Ll_sc_Litt3200_2', '205_4b2_Ar_mc_AKGC417L_3', '156_5b3_Lr_mc_AKGC417L_3', '109_1b1_Ll_sc_Litt3200_1', '170_2b2_Tc_mc_AKGC417L_2', '210_1b1_Ar_sc_Meditron_1', '218_1b1_Ar_sc_Meditron_5', '205_2b3_Al_mc_AKGC417L_3', '159_1b1_Pr_sc_Meditron_3', '200_2p2_Pr_mc_AKGC417L_2', '224_1b1_Tc_sc_Meditron_2', '157_1b1_Lr_sc_Meditron_7', '200_2p4_Ar_mc_AKGC417L_3', '203_1p3_Pr_mc_AKGC417L_3', '114_1b4_Pl_mc_AKGC417L_3', '205_1b3_Lr_mc_AKGC417L_1', '162_2b2_Pl_mc_AKGC417L_3', '193_1b2_Ll_mc_AKGC417L_2', '170_2b2_Pr_mc_AKGC417L_3', '207_3b2_Ar_mc_AKGC417L_2', '151_2p3_Al_mc_AKGC417L_1', '130_1p4_Ll_mc_AKGC417L_3', '178_1b2_Tc_mc_AKGC417L_1', '110_1p1_Ll_sc_Meditron_2', '207_2b3_Al_mc_AKGC417L_2', '151_2p2_Pr_mc_AKGC417L_3', '191_2b1_Pr_mc_LittC2SE_3', '195_1b1_Ll_sc_Litt3200_4', '140_2b2_Ll_mc_LittC2SE_1', '198_1b5_Tc_mc_AKGC417L_1', '198_1b5_Lr_mc_AKGC417L_1', '158_1p2_Tc_mc_AKGC417L_3', '215_1b3_Tc_sc_Meditron_3', '116_1b2_Tc_sc_Meditron_2', '170_1b2_Tc_mc_AKGC417L_1', '134_2b1_Ar_mc_LittC2SE_3', '172_1b5_Pr_mc_AKGC417L_2', '156_5b3_Ar_mc_AKGC417L_1', '170_1b2_Pl_mc_AKGC417L_3', '179_1b1_Al_sc_Meditron_3', '178_1b3_Ar_mc_AKGC417L_3', '157_1b1_Pr_sc_Meditron_4', '178_1b6_Pr_mc_AKGC417L_2', '186_3b3_Ar_mc_AKGC417L_1', '222_1b1_Pr_sc_Meditron_6', '226_1b1_Al_sc_Meditron_2', '220_1b2_Al_mc_LittC2SE_1', '170_1b4_Al_mc_AKGC417L_3', '107_3p2_Lr_mc_AKGC417L_3', '196_1b1_Pr_sc_Meditron_1', '112_1b1_Ar_sc_Meditron_8', '158_2p3_Tc_mc_AKGC417L_3', '163_8b3_Al_mc_AKGC417L_1', '135_2b1_Tc_mc_LittC2SE_2', '175_1b1_Pl_sc_Litt3200_3', '162_1b2_Pr_mc_AKGC417L_2', '213_1p2_Al_mc_AKGC417L_2', '163_8b3_Ll_mc_AKGC417L_2', '166_1p1_Al_sc_Meditron_3', '170_2b2_Pl_mc_AKGC417L_3', '146_2b4_Ar_mc_AKGC417L_2', '221_2b3_Ar_mc_LittC2SE_2', '134_2b2_Ar_mc_LittC2SE_2', '130_2b3_Al_mc_AKGC417L_1', '154_1b3_Tc_mc_AKGC417L_2', '195_1b1_Pr_sc_Litt3200_2', '138_1p2_Lr_mc_AKGC417L_3', '139_1b1_Al_sc_Litt3200_1', '205_3b4_Pl_mc_AKGC417L_3', '201_1b2_Al_sc_Meditron_2', '129_1b1_Ar_sc_Meditron_2', '178_1b3_Pl_mc_AKGC417L_2', '223_1b1_Ar_sc_Meditron_5', '205_1b3_Ar_mc_AKGC417L_2', '180_1b4_Ar_mc_AKGC417L_2', '138_1p3_Ll_mc_AKGC417L_2', '194_1b1_Pr_sc_Meditron_3', '205_2b3_Ll_mc_AKGC417L_3', '145_3b2_Ar_mc_AKGC417L_3', '134_2b1_Ar_mc_LittC2SE_2', '203_1p4_Tc_mc_AKGC417L_1', '222_1b1_Lr_sc_Meditron_10', '198_1b5_Ar_mc_AKGC417L_3', '138_2p2_Al_mc_AKGC417L_3', '170_1b2_Al_mc_AKGC417L_1', '177_2b4_Tc_mc_AKGC417L_3', '138_1p2_Lr_mc_AKGC417L_1', '130_2b2_Tc_mc_AKGC417L_3', '162_2b2_Pl_mc_AKGC417L_2', '138_2p2_Ar_mc_AKGC417L_3', '151_2p2_Al_mc_AKGC417L_3', '156_8b3_Lr_mc_AKGC417L_1', '222_1b1_Pr_sc_Meditron_5', '151_2p3_Al_mc_AKGC417L_3', '186_3b3_Pl_mc_AKGC417L_2', '141_1b1_Pr_mc_LittC2SE_1', '160_1b2_Lr_mc_AKGC417L_2', '154_2b4_Tc_mc_AKGC417L_2', '177_1b4_Pl_mc_AKGC417L_3', '218_1b1_Pl_sc_Meditron_6', '219_2b2_Tc_mc_LittC2SE_2', '147_1b4_Tc_mc_AKGC417L_2', '203_1p4_Tc_mc_AKGC417L_2', '156_2b3_Ll_mc_AKGC417L_2', '172_2b5_Al_mc_AKGC417L_2', '154_3b3_Al_mc_AKGC417L_2', '138_1p3_Lr_mc_AKGC417L_3', '138_1p4_Lr_mc_AKGC417L_1', '118_1b1_Pr_sc_Litt3200_2', '186_3b3_Al_mc_AKGC417L_1', '195_1b1_Ll_sc_Litt3200_2', '120_1b1_Ar_sc_Meditron_4', '151_3p2_Al_mc_AKGC417L_1', '195_1b1_Al_sc_Litt3200_3', '200_2p3_Pl_mc_AKGC417L_3', '210_1b1_Al_sc_Meditron_3', '177_1b2_Ar_mc_AKGC417L_2', '185_1b1_Ar_sc_Litt3200_3', '172_2b5_Pr_mc_AKGC417L_1', '174_1p3_Pr_mc_AKGC417L_1', '141_1b2_Pr_mc_LittC2SE_1', '157_1b1_Al_sc_Meditron_3', '141_1b3_Ar_mc_LittC2SE_3', '222_1b1_Pr_sc_Meditron_3', '145_3b2_Ar_mc_AKGC417L_1', '203_1p4_Pr_mc_AKGC417L_3', '156_2b3_Ll_mc_AKGC417L_3', '135_2b3_Al_mc_LittC2SE_2', '107_2b3_Tc_mc_AKGC417L_3', '204_7p5_Tc_mc_AKGC417L_2', '157_1b1_Lr_sc_Meditron_6', '193_7b3_Lr_mc_AKGC417L_3', '223_1b1_Ar_sc_Meditron_3', '223_1b1_Al_sc_Meditron_1', '139_1b1_Pr_sc_Litt3200_1', '158_1p2_Lr_mc_AKGC417L_2', '160_2b4_Tc_mc_AKGC417L_3', '110_1p1_Lr_sc_Meditron_1', '122_2b3_Ar_mc_LittC2SE_3', '156_2b3_Lr_mc_AKGC417L_3', '172_1b4_Pr_mc_AKGC417L_1', '211_1p2_Pr_mc_AKGC417L_3', '178_2b2_Al_mc_AKGC417L_1', '177_1b2_Lr_mc_AKGC417L_3', '138_1p3_Pl_mc_AKGC417L_1', '147_2b4_Ar_mc_AKGC417L_2', '133_3p2_Al_mc_AKGC417L_2', '150_1b2_Al_sc_Meditron_3', '174_2p3_Tc_mc_AKGC417L_1', '176_1b3_Al_mc_AKGC417L_2', '177_2b4_Lr_mc_AKGC417L_1', '204_2b5_Al_mc_AKGC417L_3', '133_2p3_Tc_mc_AKGC417L_3', '217_1b1_Tc_sc_Meditron_1', '158_1p4_Al_mc_AKGC417L_1', '142_1b1_Pl_mc_LittC2SE_2', '130_3b4_Ar_mc_AKGC417L_2', '130_1p4_Al_mc_AKGC417L_2', '205_3b4_Al_mc_AKGC417L_2', '120_1b1_Al_sc_Meditron_5', '118_1b1_Pr_sc_Litt3200_1', '222_1b1_Lr_sc_Meditron_4', '205_4b2_Al_mc_AKGC417L_2', '175_1b1_Al_sc_Litt3200_1', '193_7b3_Lr_mc_AKGC417L_1', '146_8p3_Ar_mc_AKGC417L_2', '170_1b3_Ll_mc_AKGC417L_3', '151_2p3_Tc_mc_AKGC417L_2', '163_8b3_Pr_mc_AKGC417L_1', '133_3p4_Tc_mc_AKGC417L_2', '138_2p2_Ll_mc_AKGC417L_3', '173_1b1_Al_sc_Meditron_1', '203_1p4_Ar_mc_AKGC417L_3', '170_1b3_Al_mc_AKGC417L_3', '213_1p2_Al_mc_AKGC417L_3', '154_2b4_Tc_mc_AKGC417L_3', '144_1b1_Tc_sc_Meditron_1', '116_1b2_Tc_sc_Meditron_1', '200_2p2_Ar_mc_AKGC417L_1', '157_1b1_Pr_sc_Meditron_1', '130_2b2_Ll_mc_AKGC417L_2', '157_1b1_Ar_sc_Meditron_8', '130_1p3_Ar_mc_AKGC417L_2', '162_2b4_Pl_mc_AKGC417L_1', '141_1b3_Ar_mc_LittC2SE_2', '170_2b2_Pl_mc_AKGC417L_1', '146_8p3_Pr_mc_AKGC417L_3', '138_1p4_Lr_mc_AKGC417L_2', '154_1b3_Tc_mc_AKGC417L_1', '138_1p4_Ar_mc_AKGC417L_2', '157_1b1_Ar_sc_Meditron_3', '130_2b3_Ll_mc_AKGC417L_3', '151_2p3_Ll_mc_AKGC417L_2', '158_1p3_Al_mc_AKGC417L_1', '107_3p2_Pl_mc_AKGC417L_2', '191_2b2_Tc_mc_LittC2SE_2', '218_1p1_Ar_sc_Litt3200_5', '130_3p3_Tc_mc_AKGC417L_1', '192_2b3_Ar_mc_LittC2SE_3', '107_2b4_Lr_mc_AKGC417L_1', '177_1b4_Tc_mc_AKGC417L_2', '160_1b2_Pl_mc_AKGC417L_3', '186_3b3_Pl_mc_AKGC417L_3', '174_2p3_Pl_mc_AKGC417L_2', '141_1b2_Ar_mc_LittC2SE_1', '174_1p4_Pl_mc_AKGC417L_2', '172_2b5_Tc_mc_AKGC417L_1', '163_2b2_Ll_mc_AKGC417L_1', '156_2b3_Pl_mc_AKGC417L_2', '162_2b3_Tc_mc_AKGC417L_3', '154_2b4_Ll_mc_AKGC417L_3', '192_2b2_Al_mc_LittC2SE_3', '130_3p2_Pr_mc_AKGC417L_3', '201_1b2_Ar_sc_Meditron_3', '199_2b3_Ll_mc_LittC2SE_2', '130_1p2_Lr_mc_AKGC417L_3', '174_1p4_Ar_mc_AKGC417L_1', '158_1p4_Tc_mc_AKGC417L_2', '200_2p3_Tc_mc_AKGC417L_3', '207_2b4_Pr_mc_AKGC417L_2', '130_2b2_Lr_mc_AKGC417L_3', '124_1b1_Ll_sc_Litt3200_2', '205_3b4_Pl_mc_AKGC417L_2', '157_1b1_Pl_sc_Meditron_8', '130_2b2_Al_mc_AKGC417L_3', '207_3b2_Tc_mc_AKGC417L_1', '213_2p2_Al_mc_AKGC417L_2', '112_1b1_Ar_sc_Meditron_4', '213_1p2_Ar_mc_AKGC417L_2', '211_2p4_Tc_mc_AKGC417L_3', '160_1b3_Pr_mc_AKGC417L_3', '221_2b3_Pr_mc_LittC2SE_3', '187_1b1_Ll_sc_Meditron_2', '107_2b3_Al_mc_AKGC417L_1', '146_2b4_Ll_mc_AKGC417L_3', '135_2b2_Pl_mc_LittC2SE_1', '200_2p4_Ar_mc_AKGC417L_1', '134_2b2_Al_mc_LittC2SE_3', '147_2b4_Lr_mc_AKGC417L_3', '181_1b1_Ar_mc_LittC2SE_2', '177_2b4_Pr_mc_AKGC417L_2', '166_1p1_Ar_sc_Meditron_4', '130_2b2_Tc_mc_AKGC417L_1', '218_1b1_Ar_sc_Meditron_11', '110_1b1_Pr_sc_Meditron_5', '176_1b3_Lr_mc_AKGC417L_2', '120_1b1_Pl_sc_Meditron_1', '162_2b3_Ar_mc_AKGC417L_2', '178_1b3_Tc_mc_AKGC417L_3', '186_2b2_Ar_mc_AKGC417L_1', '184_1b1_Ar_sc_Meditron_3', '180_1b4_Ar_mc_AKGC417L_1', '166_1p1_Pr_sc_Meditron_4', '138_2p2_Lr_mc_AKGC417L_3', '193_1b2_Tc_mc_AKGC417L_3', '160_1b4_Ar_mc_AKGC417L_1', '114_1b4_Pr_mc_AKGC417L_1', '188_1b1_Al_sc_Meditron_3', '163_2b2_Ar_mc_AKGC417L_3', '154_2b4_Pr_mc_AKGC417L_1', '172_1b5_Ll_mc_AKGC417L_2', '149_1b1_Al_sc_Meditron_2', '117_1b3_Tc_mc_LittC2SE_1', '167_1b1_Al_sc_Meditron_1', '172_1b3_Al_mc_AKGC417L_3', '130_3p2_Pr_mc_AKGC417L_1', '133_2p2_Tc_mc_AKGC417L_2', '162_1b2_Al_mc_AKGC417L_3', '149_1b1_Lr_sc_Meditron_3', '110_1b1_Pr_sc_Meditron_1', '154_4b4_Ar_mc_AKGC417L_3', '200_2p2_Ar_mc_AKGC417L_3', '157_1b1_Pr_sc_Meditron_10', '145_3b2_Lr_mc_AKGC417L_2', '218_1b1_Al_sc_Meditron_3', '110_1p1_Pr_sc_Meditron_6', '130_3p2_Pl_mc_AKGC417L_2', '162_1b2_Lr_mc_AKGC417L_1', '107_2b3_Ar_mc_AKGC417L_1', '146_2b4_Pr_mc_AKGC417L_2', '186_2b4_Pr_mc_AKGC417L_1', '129_1b1_Ar_sc_Meditron_1', '107_2b4_Pl_mc_AKGC417L_1', '225_1b1_Pl_sc_Meditron_2', '200_2p4_Ar_mc_AKGC417L_2', '162_2b4_Lr_mc_AKGC417L_3', '176_2b3_Lr_mc_AKGC417L_3', '116_1b2_Pl_sc_Meditron_1', '127_1b1_Ar_sc_Meditron_1', '151_3p2_Ar_mc_AKGC417L_2', '145_3b2_Lr_mc_AKGC417L_1', '107_2b3_Lr_mc_AKGC417L_2', '213_1p5_Tc_mc_AKGC417L_2', '205_2b2_Pr_mc_AKGC417L_2', '133_2p2_Ar_mc_AKGC417L_1', '174_2p3_Ar_mc_AKGC417L_2', '178_2b2_Ar_mc_AKGC417L_2', '208_1b1_Ll_sc_Meditron_2', '197_1b1_Tc_sc_Meditron_3', '203_1p4_Pl_mc_AKGC417L_1', '147_2b4_Ar_mc_AKGC417L_1', '205_4b2_Pl_mc_AKGC417L_3', '154_4b4_Pr_mc_AKGC417L_2', '203_1p3_Tc_mc_AKGC417L_3', '195_1b1_Pl_sc_Litt3200_2', '151_2p2_Ar_mc_AKGC417L_2', '186_2b4_Al_mc_AKGC417L_1', '159_1b1_Pr_sc_Meditron_2', '114_1b4_Ar_mc_AKGC417L_2', '194_1b1_Lr_sc_Meditron_1', '186_2b2_Ar_mc_AKGC417L_2', '162_2b4_Tc_mc_AKGC417L_3', '213_1p3_Ar_mc_AKGC417L_1', '170_2b2_Ar_mc_AKGC417L_3', '218_1b1_Pl_sc_Meditron_1', '163_2b2_Al_mc_AKGC417L_1', '178_1b6_Ar_mc_AKGC417L_3', '172_2b5_Pr_mc_AKGC417L_3', '120_1b1_Pl_sc_Meditron_6', '186_2b2_Pr_mc_AKGC417L_2', '207_3b2_Tc_mc_AKGC417L_2', '172_1b4_Ar_mc_AKGC417L_1', '207_3b2_Pr_mc_AKGC417L_2', '135_2b2_Pl_mc_LittC2SE_3', '120_1b1_Ar_sc_Meditron_2', '158_1p4_Pr_mc_AKGC417L_3', '186_3b3_Pl_mc_AKGC417L_1', '160_1b3_Al_mc_AKGC417L_1', '154_4b4_Pl_mc_AKGC417L_1', '109_1b1_Ar_sc_Litt3200_3', '176_1b4_Al_mc_AKGC417L_3', '118_1b1_Al_sc_Litt3200_1', '177_2b4_Tc_mc_AKGC417L_2', '130_2b3_Tc_mc_AKGC417L_1', '200_2p2_Pl_mc_AKGC417L_3', '206_1b1_Lr_sc_Meditron_2', '140_2b3_Tc_mc_LittC2SE_2', '160_1b2_Ar_mc_AKGC417L_3', '206_1b1_Ar_sc_Meditron_1', '109_1b1_Lr_sc_Litt3200_3', '178_1b6_Tc_mc_AKGC417L_3', '189_1b2_Lr_mc_LittC2SE_2', '163_2b2_Pr_mc_AKGC417L_2', '130_2p5_Ar_mc_AKGC417L_1', '130_3p4_Tc_mc_AKGC417L_3', '132_2b1_Lr_mc_LittC2SE_3', '157_1b1_Ar_sc_Meditron_9', '138_1p4_Pl_mc_AKGC417L_2', '223_1b1_Lr_sc_Meditron_2', '172_1b5_Lr_mc_AKGC417L_2', '185_1b1_Pr_sc_Litt3200_4', '135_2b2_Pl_mc_LittC2SE_2', '186_2b4_Tc_mc_AKGC417L_2', '147_2b3_Lr_mc_AKGC417L_3', '219_2b1_Tc_mc_LittC2SE_3', '220_1b1_Tc_mc_LittC2SE_1', '204_7p5_Tc_mc_AKGC417L_1', '116_1b2_Pl_sc_Meditron_2', '130_3p2_Al_mc_AKGC417L_3', '160_1b4_Al_mc_AKGC417L_1', '166_1p1_Pr_sc_Meditron_1', '175_1b1_Pr_sc_Litt3200_3', '160_2b4_Pr_mc_AKGC417L_1', '198_1b5_Lr_mc_AKGC417L_3', '201_1b1_Ar_sc_Meditron_3', '130_2p5_Lr_mc_AKGC417L_1', '176_2b3_Al_mc_AKGC417L_1', '163_2b2_Lr_mc_AKGC417L_3', '160_1b3_Ar_mc_AKGC417L_2', '130_1p2_Pl_mc_AKGC417L_3', '149_1b1_Lr_sc_Meditron_1', '137_1b1_Ll_sc_Meditron_1', '158_1p2_Pr_mc_AKGC417L_2', '193_1b2_Pr_mc_AKGC417L_3', '192_2b1_Al_mc_LittC2SE_1', '157_1b1_Pl_sc_Meditron_9', '198_1b5_Al_mc_AKGC417L_1', '145_2b2_Lr_mc_AKGC417L_1', '188_1b1_Ar_sc_Meditron_2', '146_2b4_Lr_mc_AKGC417L_2', '122_2b2_Al_mc_LittC2SE_1', '205_1b3_Pr_mc_AKGC417L_3', '120_1b1_Lr_sc_Meditron_12', '176_2b3_Pr_mc_AKGC417L_3', '154_2b4_Lr_mc_AKGC417L_3', '163_2b2_Ll_mc_AKGC417L_3', '172_1b4_Tc_mc_AKGC417L_3', '130_1p2_Lr_mc_AKGC417L_1', '173_1b1_Al_sc_Meditron_2', '130_3p3_Al_mc_AKGC417L_3', '138_2p2_Ar_mc_AKGC417L_2', '186_2b3_Al_mc_AKGC417L_3', '160_1b4_Ar_mc_AKGC417L_3', '172_1b3_Ll_mc_AKGC417L_1', '205_1b3_Ll_mc_AKGC417L_3', '114_1b4_Al_mc_AKGC417L_1', '130_2b2_Ll_mc_AKGC417L_1', '207_2b2_Ar_mc_AKGC417L_3', '130_1p3_Pl_mc_AKGC417L_1', '207_2b2_Al_mc_AKGC417L_1', '167_1b1_Pr_sc_Meditron_2', '178_1b6_Ll_mc_AKGC417L_2', '172_1b4_Ll_mc_AKGC417L_3', '163_8b3_Pl_mc_AKGC417L_3', '162_2b3_Tc_mc_AKGC417L_1', '124_1b1_Lr_sc_Litt3200_2', '174_1p4_Pr_mc_AKGC417L_3', '130_1p2_Tc_mc_AKGC417L_1', '172_2b5_Lr_mc_AKGC417L_3', '130_1p4_Lr_mc_AKGC417L_3', '206_1b1_Pl_sc_Meditron_2', '138_1p3_Pr_mc_AKGC417L_3', '211_1p2_Ar_mc_AKGC417L_1', '139_1b1_Ll_sc_Litt3200_1', '174_1p3_Pr_mc_AKGC417L_3', '175_1b1_Ar_sc_Litt3200_2', '204_7p5_Ar_mc_AKGC417L_1', '138_1p4_Ll_mc_AKGC417L_1', '138_2p2_Pr_mc_AKGC417L_3', '120_1b1_Lr_sc_Meditron_7', '138_1p2_Pl_mc_AKGC417L_2', '172_1b4_Lr_mc_AKGC417L_2', '176_1b4_Lr_mc_AKGC417L_1', '139_1b1_Lr_sc_Litt3200_3', '156_8b3_Ar_mc_AKGC417L_1', '185_1b1_Ar_sc_Litt3200_2', '130_3b4_Pr_mc_AKGC417L_2', '118_1b1_Pl_sc_Litt3200_1', '138_1p2_Al_mc_AKGC417L_2', '205_4b2_Lr_mc_AKGC417L_3', '205_1b3_Al_mc_AKGC417L_1', '178_1b2_Pl_mc_AKGC417L_3', '172_2b5_Ar_mc_AKGC417L_2', '130_1p4_Pr_mc_AKGC417L_1', '151_3p2_Pl_mc_AKGC417L_1', '221_2b3_Al_mc_LittC2SE_3', '207_2b4_Ar_mc_AKGC417L_1', '185_1b1_Lr_sc_Litt3200_3', '174_1p2_Pr_mc_AKGC417L_1', '174_1p2_Ar_mc_AKGC417L_3', '200_2p4_Al_mc_AKGC417L_2', '118_1b1_Ll_sc_Litt3200_2', '213_2p2_Pr_mc_AKGC417L_3', '170_1b3_Pr_mc_AKGC417L_1', '225_1b1_Pl_sc_Meditron_1', '172_2b5_Al_mc_AKGC417L_3', '186_2b3_Ar_mc_AKGC417L_1', '183_1b1_Tc_sc_Meditron_1', '138_1p3_Pr_mc_AKGC417L_2', '141_1b2_Tc_mc_LittC2SE_1', '159_1b1_Ar_sc_Meditron_2', '112_1p1_Ll_sc_Litt3200_1', '141_1b2_Tc_mc_LittC2SE_2', '181_1b2_Ar_mc_LittC2SE_1', '163_8b3_Pr_mc_AKGC417L_2', '124_1b1_Ar_sc_Litt3200_1', '122_2b2_Ar_mc_LittC2SE_1', '177_2b4_Lr_mc_AKGC417L_2', '156_5b3_Ll_mc_AKGC417L_1', '177_1b4_Pl_mc_AKGC417L_1', '154_2b4_Ll_mc_AKGC417L_1', '176_1b3_Pl_mc_AKGC417L_3', '185_1b1_Pl_sc_Litt3200_3', '218_1b1_Lr_sc_Meditron_9', '133_2p4_Tc_mc_AKGC417L_3', '120_1b1_Ar_sc_Meditron_7', '203_1p3_Al_mc_AKGC417L_3', '151_2p3_Tc_mc_AKGC417L_3', '174_1p3_Pl_mc_AKGC417L_1', '154_1b3_Lr_mc_AKGC417L_2', '112_1p1_Pl_sc_Litt3200_4', '171_1b1_Al_sc_Meditron_3', '151_2p4_Ar_mc_AKGC417L_3', '174_1p4_Lr_mc_AKGC417L_2', '218_1b1_Lr_sc_Meditron_6', '162_2b3_Lr_mc_AKGC417L_2', '219_2b2_Tc_mc_LittC2SE_3', '184_1b1_Ar_sc_Meditron_1', '107_2b5_Pr_mc_AKGC417L_1', '170_2b2_Ar_mc_AKGC417L_1', '181_1b1_Tc_mc_LittC2SE_2', '222_1b1_Lr_sc_Meditron_2', '160_1b2_Pr_mc_AKGC417L_3', '178_2b2_Pr_mc_AKGC417L_2', '174_1p3_Pr_mc_AKGC417L_2', '163_2b2_Lr_mc_AKGC417L_1', '195_1b1_Ar_sc_Litt3200_5', '200_3p4_Pl_mc_AKGC417L_1', '136_1b1_Ar_sc_Meditron_1', '130_2b4_Al_mc_AKGC417L_2', '172_1b5_Tc_mc_AKGC417L_3', '133_2p4_Pl_mc_AKGC417L_2', '170_1b3_Pr_mc_AKGC417L_3', '201_1b1_Al_sc_Meditron_2', '133_2p3_Pr_mc_AKGC417L_2', '174_1p3_Lr_mc_AKGC417L_2', '176_2b3_Al_mc_AKGC417L_3', '198_1b5_Pl_mc_AKGC417L_3', '193_1b4_Lr_mc_AKGC417L_1', '218_1b1_Lr_sc_Meditron_5', '198_6p1_Al_mc_AKGC417L_3', '130_1p4_Pl_mc_AKGC417L_1', '107_2b3_Pl_mc_AKGC417L_2', '222_1b1_Ar_sc_Meditron_3', '203_2p3_Ar_mc_AKGC417L_1', '118_1b1_Lr_sc_Litt3200_3', '120_1b1_Pr_sc_Meditron_3', '218_1b1_Ar_sc_Meditron_6', '178_1b6_Tc_mc_AKGC417L_1', '103_2b2_Ar_mc_LittC2SE_2', '138_1p4_Tc_mc_AKGC417L_2', '110_1p1_Pr_sc_Meditron_9', '151_2p2_Ar_mc_AKGC417L_1', '166_1p1_Ll_sc_Meditron_2', '166_1p1_Pl_sc_Meditron_2', '151_2p3_Pr_mc_AKGC417L_3', '218_1b1_Pl_sc_Meditron_10', '176_2b3_Pl_mc_AKGC417L_2', '207_2b4_Tc_mc_AKGC417L_1', '188_1b1_Al_sc_Meditron_2', '204_7p5_Pr_mc_AKGC417L_3', '177_1b2_Pr_mc_AKGC417L_3', '151_3p3_Ll_mc_AKGC417L_3', '172_1b4_Pr_mc_AKGC417L_3', '163_2b2_Al_mc_AKGC417L_2', '180_1b4_Lr_mc_AKGC417L_2', '200_3p4_Al_mc_AKGC417L_3', '202_1b1_Ar_sc_Meditron_1', '158_1p3_Tc_mc_AKGC417L_1', '175_1b1_Ar_sc_Litt3200_3', '165_1b1_Ar_sc_Meditron_1', '130_2p5_Al_mc_AKGC417L_3', '130_2b2_Al_mc_AKGC417L_1', '178_1b2_Al_mc_AKGC417L_1', '200_2p2_Lr_mc_AKGC417L_1', '213_1p2_Pl_mc_AKGC417L_2', '170_1b3_Tc_mc_AKGC417L_1', '154_1b3_Ar_mc_AKGC417L_2', '222_1b1_Ar_sc_Meditron_7', '177_1b2_Lr_mc_AKGC417L_2', '154_1b3_Al_mc_AKGC417L_3', '186_2b3_Pl_mc_AKGC417L_2', '138_1p2_Pr_mc_AKGC417L_1', '111_1b2_Tc_sc_Meditron_2', '176_1b3_Pr_mc_AKGC417L_1', '213_1p5_Al_mc_AKGC417L_2', '117_1b3_Tc_mc_LittC2SE_2', '193_7b3_Pr_mc_AKGC417L_2', '107_3p2_Pr_mc_AKGC417L_3', '205_3b4_Al_mc_AKGC417L_3', '160_1b3_Ar_mc_AKGC417L_1', '185_1b1_Lr_sc_Litt3200_2', '178_2b2_Lr_mc_AKGC417L_3', '178_1b6_Al_mc_AKGC417L_3', '130_3p4_Tc_mc_AKGC417L_1', '178_2b2_Pr_mc_AKGC417L_3', '171_1b1_Al_sc_Meditron_2', '151_3p2_Pr_mc_AKGC417L_2', '178_1b6_Al_mc_AKGC417L_1', '130_1p4_Tc_mc_AKGC417L_3', '135_2b2_Tc_mc_LittC2SE_3', '163_2b2_Pr_mc_AKGC417L_1', '110_1p1_Ll_sc_Meditron_4', '109_1b1_Pr_sc_Litt3200_2', '138_2p2_Tc_mc_AKGC417L_3', '198_6p1_Pl_mc_AKGC417L_3', '172_1b4_Pl_mc_AKGC417L_1', '112_1p1_Ll_sc_Litt3200_5', '130_2b2_Ar_mc_AKGC417L_1', '133_2p2_Tc_mc_AKGC417L_3', '174_2p3_Pl_mc_AKGC417L_3', '130_3b4_Pl_mc_AKGC417L_1', '154_1b3_Lr_mc_AKGC417L_1', '101_1b1_Pr_sc_Meditron_2', '120_1b1_Al_sc_Meditron_8', '206_1b1_Ar_sc_Meditron_2', '130_3p4_Pr_mc_AKGC417L_1', '110_1p1_Pr_sc_Meditron_4', '135_2b1_Tc_mc_LittC2SE_3', '157_1b1_Ar_sc_Meditron_1', '107_3p2_Lr_mc_AKGC417L_2', '193_1b2_Ar_mc_AKGC417L_1', '156_5b3_Ar_mc_AKGC417L_3', '151_3p2_Al_mc_AKGC417L_2', '178_1b3_Pr_mc_AKGC417L_1', '218_1b1_Ar_sc_Meditron_7', '147_2b4_Ar_mc_AKGC417L_3', '170_1b2_Pr_mc_AKGC417L_2', '104_1b1_Ar_sc_Litt3200_3', '139_1b1_Ar_sc_Litt3200_3', '200_2p3_Ar_mc_AKGC417L_3', '193_7b3_Ar_mc_AKGC417L_1', '133_2p4_Al_mc_AKGC417L_1', '149_1b1_Al_sc_Meditron_3', '157_1b1_Al_sc_Meditron_2', '156_5b3_Ar_mc_AKGC417L_2', '114_1b4_Al_mc_AKGC417L_2', '205_4b2_Pr_mc_AKGC417L_1', '183_1b1_Pl_sc_Meditron_3', '147_1b2_Tc_mc_AKGC417L_1', '200_2p3_Al_mc_AKGC417L_1', '122_2b2_Al_mc_LittC2SE_3', '159_1b1_Al_sc_Meditron_2', '132_2b2_Lr_mc_LittC2SE_2', '177_1b4_Ar_mc_AKGC417L_3', '135_2b2_Al_mc_LittC2SE_1', '174_2p3_Al_mc_AKGC417L_3', '162_1b2_Tc_mc_AKGC417L_3', '203_1p3_Pr_mc_AKGC417L_1', '151_2p2_Tc_mc_AKGC417L_3', '104_1b1_Ar_sc_Litt3200_4', '120_1b1_Ar_sc_Meditron_8', '181_1b3_Tc_mc_LittC2SE_1', '138_2p2_Pl_mc_AKGC417L_1', '156_8b3_Pl_mc_AKGC417L_2', '208_1b1_Ll_sc_Meditron_3', '219_2b1_Ar_mc_LittC2SE_3', '130_2b3_Ar_mc_AKGC417L_2', '170_1b4_Pr_mc_AKGC417L_3', '198_6p1_Pl_mc_AKGC417L_2', '107_2b3_Ll_mc_AKGC417L_1', '183_1b1_Tc_sc_Meditron_2', '147_1b4_Tc_mc_AKGC417L_1', '112_1p1_Pl_sc_Litt3200_2', '163_8b3_Pl_mc_AKGC417L_1', '139_1b1_Ar_sc_Litt3200_1', '157_1b1_Pl_sc_Meditron_10', '147_2b3_Ar_mc_AKGC417L_1', '213_1p2_Pr_mc_AKGC417L_1', '147_2b4_Pl_mc_AKGC417L_1', '186_2b4_Al_mc_AKGC417L_3', '148_1b1_Al_sc_Meditron_2', '210_1b1_Ar_sc_Meditron_3', '166_1p1_Pr_sc_Meditron_6', '158_2p2_Ar_mc_AKGC417L_1', '109_1b1_Ll_sc_Litt3200_2', '203_1p3_Ar_mc_AKGC417L_1', '107_2b3_Al_mc_AKGC417L_2', '184_1b1_Ar_sc_Meditron_2', '158_1p3_Pl_mc_AKGC417L_1', '141_1b1_Pr_mc_LittC2SE_2', '177_1b2_Al_mc_AKGC417L_2', '138_1p3_Al_mc_AKGC417L_1', '135_2b3_Pr_mc_LittC2SE_2', '158_1b3_Ar_mc_LittC2SE_3', '203_1p2_Pl_mc_AKGC417L_3', '158_1p4_Tc_mc_AKGC417L_3', '133_2p3_Ar_mc_AKGC417L_2', '120_1b1_Al_sc_Meditron_4', '133_3p2_Pr_mc_AKGC417L_1', '144_1b1_Al_sc_Meditron_1', '146_2b4_Al_mc_AKGC417L_2', '205_4b2_Ar_mc_AKGC417L_2', '151_2p2_Pl_mc_AKGC417L_1', '174_1p4_Pl_mc_AKGC417L_1', '192_2b2_Ar_mc_LittC2SE_1', '158_1p4_Tc_mc_AKGC417L_1', '157_1b1_Lr_sc_Meditron_3', '204_2b5_Al_mc_AKGC417L_1', '185_1b1_Al_sc_Litt3200_1', '170_1b2_Pr_mc_AKGC417L_3', '174_2p3_Ar_mc_AKGC417L_3', '221_2b1_Pl_mc_LittC2SE_3', '133_2p2_Ar_mc_AKGC417L_3', '177_1b2_Tc_mc_AKGC417L_1', '178_2b2_Tc_mc_AKGC417L_2', '205_1b3_Lr_mc_AKGC417L_2', '138_1p2_Lr_mc_AKGC417L_2', '200_2p2_Tc_mc_AKGC417L_2', '175_1b1_Al_sc_Litt3200_2', '174_1p4_Tc_mc_AKGC417L_1', '223_1b1_Pl_sc_Meditron_4', '120_1b1_Lr_sc_Meditron_1', '108_1b1_Al_sc_Meditron_1', '107_2b3_Ar_mc_AKGC417L_3', '200_2p3_Pr_mc_AKGC417L_3', '158_1p3_Lr_mc_AKGC417L_3', '162_1b2_Pl_mc_AKGC417L_1', '172_1b3_Lr_mc_AKGC417L_2', '138_2p2_Pr_mc_AKGC417L_1', '191_2b1_Pr_mc_LittC2SE_2', '162_2b4_Ar_mc_AKGC417L_1', '178_1b2_Pr_mc_AKGC417L_3', '157_1b1_Pl_sc_Meditron_1', '154_3b3_Ll_mc_AKGC417L_1', '188_1b1_Pl_sc_Meditron_3', '162_2b3_Pl_mc_AKGC417L_1', '195_1b1_Pr_sc_Litt3200_4', '130_2b3_Ll_mc_AKGC417L_1', '174_1p2_Pl_mc_AKGC417L_3', '222_1b1_Lr_sc_Meditron_9', '180_1b4_Pl_mc_AKGC417L_1', '186_2b2_Lr_mc_AKGC417L_3', '221_2b1_Ar_mc_LittC2SE_1', '185_1b1_Ar_sc_Litt3200_4', '200_2p3_Al_mc_AKGC417L_3', '174_1p4_Pr_mc_AKGC417L_2', '223_1b1_Al_sc_Meditron_5', '144_1b1_Al_sc_Meditron_3', '202_1b1_Ar_sc_Meditron_2', '170_1b3_Tc_mc_AKGC417L_3', '192_2b1_Ar_mc_LittC2SE_3', '213_1p2_Pl_mc_AKGC417L_1', '109_1b1_Ar_sc_Litt3200_1', '218_1b1_Pr_sc_Meditron_1', '219_2b1_Ar_mc_LittC2SE_1', '213_2p2_Pl_mc_AKGC417L_1', '176_1b4_Tc_mc_AKGC417L_1', '157_1b1_Al_sc_Meditron_6', '112_1p1_Pr_sc_Litt3200_3', '170_1b4_Ar_mc_AKGC417L_1', '186_2b2_Al_mc_AKGC417L_1', '156_8b3_Ll_mc_AKGC417L_2', '133_2p4_Pl_mc_AKGC417L_3', '130_1p4_Al_mc_AKGC417L_3', '123_1b1_Al_sc_Meditron_3', '107_2b3_Lr_mc_AKGC417L_1', '209_1b1_Tc_sc_Meditron_1', '125_1b1_Tc_sc_Meditron_2', '157_1b1_Al_sc_Meditron_4', '175_1b1_Lr_sc_Litt3200_3', '168_1b1_Al_sc_Meditron_1', '138_1p4_Ll_mc_AKGC417L_2', '170_1b3_Ar_mc_AKGC417L_3', '137_1b1_Ll_sc_Meditron_2', '223_1b1_Ll_sc_Meditron_1', '178_1b6_Al_mc_AKGC417L_2', '110_1p1_Ll_sc_Meditron_5', '133_2p4_Ar_mc_AKGC417L_3', '178_1b2_Ar_mc_AKGC417L_3', '158_1p4_Ar_mc_AKGC417L_3', '221_2b3_Lr_mc_LittC2SE_1', '203_1p2_Pr_mc_AKGC417L_2', '141_1b2_Ar_mc_LittC2SE_2', '176_2b3_Pl_mc_AKGC417L_3', '148_1b1_Al_sc_Meditron_3', '107_2b4_Tc_mc_AKGC417L_2', '221_2b2_Pl_mc_LittC2SE_1', '198_6p1_Lr_mc_AKGC417L_1', '135_2b2_Tc_mc_LittC2SE_2', '122_2b1_Tc_mc_LittC2SE_2', '122_2b1_Ar_mc_LittC2SE_3', '141_1b3_Ar_mc_LittC2SE_1', '104_1b1_Pr_sc_Litt3200_4', '207_2b4_Pr_mc_AKGC417L_1', '172_1b3_Ar_mc_AKGC417L_3', '158_1b3_Ar_mc_LittC2SE_1', '156_8b3_Ar_mc_AKGC417L_2', '136_1b1_Ar_sc_Meditron_3', '114_1b4_Lr_mc_AKGC417L_1', '172_1b3_Pr_mc_AKGC417L_2', '223_1b1_Ll_sc_Meditron_3', '186_2b3_Tc_mc_AKGC417L_1', '170_1b4_Al_mc_AKGC417L_2', '141_1b3_Al_mc_LittC2SE_2', '133_3p2_Pr_mc_AKGC417L_3', '151_3p2_Pr_mc_AKGC417L_1', '198_1b5_Ll_mc_AKGC417L_3', '158_1p2_Lr_mc_AKGC417L_3', '143_1b1_Al_sc_Meditron_2', '130_1p3_Al_mc_AKGC417L_1', '213_1p3_Pr_mc_AKGC417L_3', '204_7p5_Al_mc_AKGC417L_1', '107_2b3_Pr_mc_AKGC417L_1', '180_1b4_Pl_mc_AKGC417L_3', '130_2p5_Tc_mc_AKGC417L_2', '113_1b1_Pl_sc_Litt3200_3', '136_1b1_Ar_sc_Meditron_2', '139_1b1_Pr_sc_Litt3200_3', '218_1b1_Pr_sc_Meditron_9', '178_1b6_Ll_mc_AKGC417L_1', '130_1p3_Al_mc_AKGC417L_3', '130_1p2_Tc_mc_AKGC417L_3', '186_2b4_Ar_mc_AKGC417L_2', '186_2b4_Al_mc_AKGC417L_2', '160_2b3_Lr_mc_AKGC417L_3', '151_2p4_Ll_mc_AKGC417L_3', '222_1b1_Ar_sc_Meditron_6', '106_2b1_Pr_mc_LittC2SE_3', '113_1b1_Ar_sc_Litt3200_2', '133_2p4_Pr_mc_AKGC417L_1', '130_1p2_Al_mc_AKGC417L_2', '177_1b2_Tc_mc_AKGC417L_3', '163_2b2_Pl_mc_AKGC417L_1', '138_1p4_Pr_mc_AKGC417L_1', '130_2p5_Lr_mc_AKGC417L_2', '138_1p4_Ar_mc_AKGC417L_1', '193_7b3_Al_mc_AKGC417L_3', '213_1p3_Pr_mc_AKGC417L_1', '213_2p2_Tc_mc_AKGC417L_3', '130_1p2_Pl_mc_AKGC417L_2', '145_2b2_Pr_mc_AKGC417L_1', '205_1b3_Al_mc_AKGC417L_3', '224_1b2_Al_sc_Meditron_3', '218_1b1_Lr_sc_Meditron_1', '188_1b1_Pl_sc_Meditron_1', '170_2b2_Ar_mc_AKGC417L_2', '177_2b4_Al_mc_AKGC417L_1', '203_1p2_Tc_mc_AKGC417L_1', '172_1b3_Ll_mc_AKGC417L_2', '207_2b2_Tc_mc_AKGC417L_1', '158_1p2_Al_mc_AKGC417L_3', '170_1b3_Lr_mc_AKGC417L_2', '219_2b1_Ar_mc_LittC2SE_2', '130_1p3_Al_mc_AKGC417L_2', '200_2p2_Al_mc_AKGC417L_3', '222_1b1_Ar_sc_Meditron_8', '176_2b3_Pr_mc_AKGC417L_2', '172_1b3_Al_mc_AKGC417L_1', '107_3p2_Tc_mc_AKGC417L_1', '157_1b1_Lr_sc_Meditron_8', '219_2b1_Tc_mc_LittC2SE_1', '175_1b1_Al_sc_Litt3200_3', '112_1b1_Ar_sc_Meditron_9', '166_1p1_Pl_sc_Meditron_7', '191_2b2_Tc_mc_LittC2SE_3', '166_1p1_Pl_sc_Meditron_8', '200_2p3_Pr_mc_AKGC417L_1', '175_1b1_Lr_sc_Litt3200_2', '130_1p3_Lr_mc_AKGC417L_2', '222_1b1_Ar_sc_Meditron_5', '146_2b4_Al_mc_AKGC417L_1', '130_3b3_Ll_mc_AKGC417L_1', '160_2b4_Ar_mc_AKGC417L_3', '218_1p1_Pr_sc_Litt3200_4', '186_2b3_Ar_mc_AKGC417L_2', '160_1b3_Ar_mc_AKGC417L_3', '117_1b2_Tc_mc_LittC2SE_2', '151_2p2_Lr_mc_AKGC417L_1', '130_3b4_Pr_mc_AKGC417L_1', '130_1p4_Tc_mc_AKGC417L_2', '221_2b2_Ar_mc_LittC2SE_2', '174_1p4_Ll_mc_AKGC417L_1', '123_1b1_Al_sc_Meditron_1', '122_2b2_Al_mc_LittC2SE_2', '213_1p5_Pl_mc_AKGC417L_1', '178_1b2_Lr_mc_AKGC417L_2', '119_1b1_Ar_sc_Meditron_3', '147_2b2_Ar_mc_AKGC417L_2', '186_2b4_Lr_mc_AKGC417L_1', '170_1b3_Pl_mc_AKGC417L_3', '138_1p2_Tc_mc_AKGC417L_2', '147_2b2_Al_mc_AKGC417L_3', '156_8b3_Lr_mc_AKGC417L_2', '146_8p3_Lr_mc_AKGC417L_3', '193_1b4_Lr_mc_AKGC417L_2', '122_2b1_Ar_mc_LittC2SE_2', '213_1p2_Lr_mc_AKGC417L_1', '203_1p4_Pl_mc_AKGC417L_2', '158_1p4_Pr_mc_AKGC417L_1', '151_2p4_Pl_mc_AKGC417L_2', '130_1p4_Ar_mc_AKGC417L_3', '107_2b4_Ar_mc_AKGC417L_3', '161_1b1_Pl_sc_Meditron_1', '194_1b1_Lr_sc_Meditron_3', '224_1b1_Tc_sc_Meditron_1', '138_1p3_Pl_mc_AKGC417L_3', '185_1b1_Ll_sc_Litt3200_3', '185_1b1_Pr_sc_Litt3200_2', '113_1b1_Lr_sc_Litt3200_2', '162_2b4_Pr_mc_AKGC417L_1', '195_1b1_Lr_sc_Litt3200_2', '138_1p2_Pr_mc_AKGC417L_3', '218_1b1_Pr_sc_Meditron_3', '107_3p2_Pr_mc_AKGC417L_1', '130_1p3_Ll_mc_AKGC417L_3', '170_1b4_Tc_mc_AKGC417L_1', '194_1b1_Lr_sc_Meditron_2', '176_2b3_Tc_mc_AKGC417L_2', '109_1b1_Pl_sc_Litt3200_1', '195_1b1_Ll_sc_Litt3200_1', '225_1b1_Pl_sc_Meditron_3', '178_1b2_Tc_mc_AKGC417L_3', '222_1b1_Ar_sc_Meditron_2', '172_2b5_Ar_mc_AKGC417L_3', '138_1p2_Ar_mc_AKGC417L_3', '130_1p2_Ll_mc_AKGC417L_2', '130_1p3_Lr_mc_AKGC417L_1', '193_7b3_Pl_mc_AKGC417L_3', '158_1p4_Pl_mc_AKGC417L_1', '158_1p2_Pl_mc_AKGC417L_2', '156_2b3_Ar_mc_AKGC417L_3', '147_2b2_Pl_mc_AKGC417L_1', '130_3p4_Al_mc_AKGC417L_3', '186_3b3_Ar_mc_AKGC417L_3', '162_2b2_Pr_mc_AKGC417L_2', '104_1b1_Al_sc_Litt3200_2', '134_2b2_Al_mc_LittC2SE_1', '151_2p3_Ar_mc_AKGC417L_2', '104_1b1_Al_sc_Litt3200_3', '104_1b1_Al_sc_Litt3200_1', '193_1b2_Ll_mc_AKGC417L_1', '178_2b2_Al_mc_AKGC417L_2', '155_2b1_Al_mc_LittC2SE_3', '151_3p2_Lr_mc_AKGC417L_3', '161_1b1_Al_sc_Meditron_3', '123_1b1_Al_sc_Meditron_2', '151_2p4_Pl_mc_AKGC417L_3', '166_1p1_Al_sc_Meditron_7', '133_3p2_Ar_mc_AKGC417L_2', '200_3p4_Tc_mc_AKGC417L_3', '204_2b5_Ll_mc_AKGC417L_2', '162_2b3_Pr_mc_AKGC417L_3', '130_2b4_Ar_mc_AKGC417L_3', '107_3p2_Ll_mc_AKGC417L_2', '170_1b2_Lr_mc_AKGC417L_3', '166_1p1_Pr_sc_Meditron_5', '205_3b4_Pr_mc_AKGC417L_1', '207_2b2_Pl_mc_AKGC417L_1', '118_1b1_Ar_sc_Litt3200_3', '157_1b1_Lr_sc_Meditron_10', '105_1b1_Tc_sc_Meditron_3', '133_2p3_Tc_mc_AKGC417L_2', '198_1b5_Pr_mc_AKGC417L_1', '156_2b3_Pr_mc_AKGC417L_3', '213_1p2_Tc_mc_AKGC417L_2', '130_3b4_Ar_mc_AKGC417L_3', '147_2b3_Lr_mc_AKGC417L_1', '113_1b1_Pl_sc_Litt3200_2', '176_2b3_Ar_mc_AKGC417L_2', '203_1p3_Tc_mc_AKGC417L_1', '213_1p5_Pr_mc_AKGC417L_1', '200_2p3_Tc_mc_AKGC417L_2', '213_1p3_Ar_mc_AKGC417L_3', '193_7b3_Al_mc_AKGC417L_2', '151_2p3_Lr_mc_AKGC417L_2', '165_1b1_Ar_sc_Meditron_3', '134_2b1_Al_mc_LittC2SE_1', '169_1b1_Lr_sc_Meditron_2', '157_1b1_Al_sc_Meditron_7', '180_1b4_Ar_mc_AKGC417L_3', '110_1p1_Lr_sc_Meditron_5', '193_1b2_Tc_mc_AKGC417L_1', '218_1b1_Lr_sc_Meditron_12', '122_2b3_Ar_mc_LittC2SE_1', '156_8b3_Lr_mc_AKGC417L_3', '140_2b2_Tc_mc_LittC2SE_2', '101_1b1_Al_sc_Meditron_3', '203_1p4_Ar_mc_AKGC417L_1', '214_1b1_Ar_sc_Meditron_3', '213_1p5_Al_mc_AKGC417L_3', '203_2p3_Tc_mc_AKGC417L_3', '220_1b2_Al_mc_LittC2SE_2', '129_1b1_Ar_sc_Meditron_3', '223_1b1_Lr_sc_Meditron_5', '140_2b3_Tc_mc_LittC2SE_1', '112_1p1_Pl_sc_Litt3200_1', '176_2b3_Al_mc_AKGC417L_2', '104_1b1_Lr_sc_Litt3200_3', '113_1b1_Pr_sc_Litt3200_4', '218_1b1_Ar_sc_Meditron_8', '107_2b4_Al_mc_AKGC417L_1', '223_1b1_Pr_sc_Meditron_5', '178_1b6_Pr_mc_AKGC417L_3', '207_2b3_Pr_mc_AKGC417L_3', '177_1b4_Pr_mc_AKGC417L_2', '204_7p5_Lr_mc_AKGC417L_1', '166_1p1_Pl_sc_Meditron_9', '107_2b5_Ar_mc_AKGC417L_1', '189_1b2_Lr_mc_LittC2SE_3', '160_1b3_Tc_mc_AKGC417L_3', '213_1p2_Tc_mc_AKGC417L_1', '160_1b2_Pr_mc_AKGC417L_2', '147_1b3_Tc_mc_AKGC417L_2', '122_2b3_Al_mc_LittC2SE_3', '160_2b4_Ar_mc_AKGC417L_1', '198_6p1_Ar_mc_AKGC417L_2', '114_1b4_Al_mc_AKGC417L_3', '207_2b3_Tc_mc_AKGC417L_2', '104_1b1_Lr_sc_Litt3200_2', '105_1b1_Tc_sc_Meditron_2', '135_2b3_Pl_mc_LittC2SE_1', '207_3b2_Pl_mc_AKGC417L_2', '213_1p5_Pl_mc_AKGC417L_3', '156_2b3_Pr_mc_AKGC417L_2', '156_2b3_Al_mc_AKGC417L_3', '151_3p3_Ll_mc_AKGC417L_2', '186_2b4_Lr_mc_AKGC417L_2', '163_2b2_Ar_mc_AKGC417L_2', '130_2p5_Al_mc_AKGC417L_1', '120_1b1_Lr_sc_Meditron_5', '222_1b1_Pr_sc_Meditron_4', '218_1p1_Pl_sc_Litt3200_5', '156_2b3_Ar_mc_AKGC417L_1', '195_1b1_Pr_sc_Litt3200_5', '107_2b3_Pl_mc_AKGC417L_3', '176_1b3_Tc_mc_AKGC417L_2', '103_2b2_Ar_mc_LittC2SE_3', '120_1b1_Pr_sc_Meditron_2', '135_2b2_Al_mc_LittC2SE_3', '146_2b4_Al_mc_AKGC417L_3', '166_1p1_Ar_sc_Meditron_1', '207_2b4_Pl_mc_AKGC417L_3', '177_1b2_Pl_mc_AKGC417L_1', '107_2b5_Al_mc_AKGC417L_1', '201_1b3_Al_sc_Meditron_2', '193_1b2_Pr_mc_AKGC417L_1', '146_8p3_Lr_mc_AKGC417L_1', '218_1p1_Pr_sc_Litt3200_2', '151_3p2_Tc_mc_AKGC417L_1', '134_2b3_Ar_mc_LittC2SE_1', '158_1p2_Al_mc_AKGC417L_1', '130_2b4_Ll_mc_AKGC417L_3', '151_3p2_Ar_mc_AKGC417L_3', '140_2b3_Tc_mc_LittC2SE_3', '138_1p2_Al_mc_AKGC417L_3', '193_1b2_Pl_mc_AKGC417L_3', '130_2b3_Al_mc_AKGC417L_2', '205_2b4_Pl_mc_AKGC417L_2', '175_1b1_Pr_sc_Litt3200_2', '112_1p1_Pl_sc_Litt3200_5', '135_2b3_Pr_mc_LittC2SE_3', '177_1b4_Pr_mc_AKGC417L_1', '223_1b1_Pr_sc_Meditron_2', '154_1b3_Ll_mc_AKGC417L_2', '179_1b1_Tc_sc_Meditron_2', '207_2b4_Al_mc_AKGC417L_1', '130_3b4_Lr_mc_AKGC417L_2', '207_2b3_Ar_mc_AKGC417L_2', '107_2b4_Pr_mc_AKGC417L_1', '109_1b1_Pr_sc_Litt3200_3', '186_2b3_Al_mc_AKGC417L_2', '122_2b2_Ar_mc_LittC2SE_2', '201_1b1_Ar_sc_Meditron_2', '120_1b1_Pl_sc_Meditron_7', '160_1b2_Al_mc_AKGC417L_3', '154_1b3_Ll_mc_AKGC417L_3', '177_1b2_Pr_mc_AKGC417L_2', '172_1b3_Tc_mc_AKGC417L_2', '138_1p3_Ll_mc_AKGC417L_3', '172_2b5_Tc_mc_AKGC417L_3', '135_2b1_Al_mc_LittC2SE_3', '222_1b1_Pr_sc_Meditron_1', '159_1b1_Al_sc_Meditron_3', '200_3p4_Pr_mc_AKGC417L_2', '120_1b1_Lr_sc_Meditron_6', '213_2p2_Pr_mc_AKGC417L_2', '135_2b2_Ar_mc_LittC2SE_1', '172_1b4_Lr_mc_AKGC417L_1', '205_2b2_Pr_mc_AKGC417L_3', '222_1b1_Pr_sc_Meditron_10', '130_2p5_Pr_mc_AKGC417L_2', '170_1b2_Tc_mc_AKGC417L_2', '207_2b4_Pl_mc_AKGC417L_1', '157_1b1_Al_sc_Meditron_9', '218_1p1_Pl_sc_Litt3200_1', '214_1b1_Ar_sc_Meditron_1', '205_4b2_Pr_mc_AKGC417L_2', '177_1b4_Pl_mc_AKGC417L_2', '145_3b4_Pl_mc_AKGC417L_2', '109_1b1_Pr_sc_Litt3200_5', '130_1p4_Tc_mc_AKGC417L_1', '166_1p1_Ll_sc_Meditron_7', '205_1b3_Lr_mc_AKGC417L_3', '204_7p5_Ar_mc_AKGC417L_2', '108_1b1_Al_sc_Meditron_2', '203_1p2_Al_mc_AKGC417L_1', '176_1b3_Pr_mc_AKGC417L_2', '192_2b2_Ar_mc_LittC2SE_3', '130_3p2_Pl_mc_AKGC417L_3', '109_1b1_Lr_sc_Litt3200_1', '130_1p4_Ar_mc_AKGC417L_2', '151_2p4_Al_mc_AKGC417L_3', '160_1b2_Lr_mc_AKGC417L_3', '186_2b2_Tc_mc_AKGC417L_2', '211_1p3_Ar_mc_AKGC417L_2', '192_2b2_Al_mc_LittC2SE_2', '107_3p2_Pl_mc_AKGC417L_3', '175_1b1_Ll_sc_Litt3200_2', '141_1b2_Lr_mc_LittC2SE_1', '174_1p3_Ll_mc_AKGC417L_3', '120_1b1_Pr_sc_Meditron_1', '186_2b3_Pl_mc_AKGC417L_3', '186_3b3_Tc_mc_AKGC417L_2', '162_2b4_Tc_mc_AKGC417L_2', '102_1b1_Ar_sc_Meditron_1', '223_1b1_Ar_sc_Meditron_2', '174_1p2_Ar_mc_AKGC417L_1', '170_1b4_Lr_mc_AKGC417L_3', '133_2p3_Al_mc_AKGC417L_3', '154_2b4_Pr_mc_AKGC417L_2', '145_2b2_Lr_mc_AKGC417L_2', '162_1b2_Pr_mc_AKGC417L_1', '158_1p3_Tc_mc_AKGC417L_3', '160_1b4_Pl_mc_AKGC417L_3', '154_2b4_Ar_mc_AKGC417L_2', '203_1p4_Al_mc_AKGC417L_3', '207_2b2_Pl_mc_AKGC417L_3', '149_1b1_Al_sc_Meditron_1', '177_1b2_Ar_mc_AKGC417L_1', '130_1p3_Tc_mc_AKGC417L_1', '177_1b2_Pl_mc_AKGC417L_3', '166_1p1_Ar_sc_Meditron_3', '207_2b3_Tc_mc_AKGC417L_1', '133_2p2_Tc_mc_AKGC417L_1', '176_1b4_Al_mc_AKGC417L_2', '157_1b1_Lr_sc_Meditron_2', '166_1p1_Pl_sc_Meditron_1', '113_1b1_Ll_sc_Litt3200_2', '176_2b3_Ar_mc_AKGC417L_3', '114_1b4_Pl_mc_AKGC417L_1', '203_1p3_Pl_mc_AKGC417L_3', '198_6p1_Lr_mc_AKGC417L_3', '130_2b4_Pl_mc_AKGC417L_1', '138_1p2_Ll_mc_AKGC417L_3', '130_2b3_Lr_mc_AKGC417L_1', '141_1b2_Pr_mc_LittC2SE_3', '203_1p3_Al_mc_AKGC417L_2', '146_8p3_Lr_mc_AKGC417L_2', '186_2b2_Lr_mc_AKGC417L_1', '158_1p3_Ll_mc_AKGC417L_1', '178_1b2_Pr_mc_AKGC417L_2', '158_2p3_Tc_mc_AKGC417L_1', '222_1b1_Lr_sc_Meditron_3', '160_1b4_Ar_mc_AKGC417L_2', '130_1p2_Ll_mc_AKGC417L_1', '213_1p5_Ar_mc_AKGC417L_1', '147_2b4_Al_mc_AKGC417L_3', '207_3b2_Tc_mc_AKGC417L_3', '122_2b1_Ar_mc_LittC2SE_1', '130_2b4_Lr_mc_AKGC417L_3', '133_2p2_Al_mc_AKGC417L_3', '174_1p3_Tc_mc_AKGC417L_3', '112_1b1_Ar_sc_Meditron_7', '154_4b4_Pr_mc_AKGC417L_1', '107_2b3_Ar_mc_AKGC417L_2', '186_3b3_Pr_mc_AKGC417L_1', '151_2p3_Ar_mc_AKGC417L_3', '138_1p2_Pl_mc_AKGC417L_3', '177_1b2_Al_mc_AKGC417L_1', '138_2p2_Al_mc_AKGC417L_2', '160_1b4_Lr_mc_AKGC417L_1', '207_2b4_Al_mc_AKGC417L_2', '151_2p3_Tc_mc_AKGC417L_1', '218_1b1_Al_sc_Meditron_5', '160_1b2_Al_mc_AKGC417L_1', '207_2b2_Pr_mc_AKGC417L_2', '124_1b1_Ll_sc_Litt3200_3', '207_2b3_Pr_mc_AKGC417L_1', '172_2b5_Pr_mc_AKGC417L_2', '133_2p3_Ar_mc_AKGC417L_3', '203_1p2_Tc_mc_AKGC417L_2', '172_1b5_Lr_mc_AKGC417L_3', '130_2b2_Lr_mc_AKGC417L_1', '130_3p2_Ar_mc_AKGC417L_3', '198_1b5_Pl_mc_AKGC417L_1', '177_2b4_Al_mc_AKGC417L_2', '170_2b2_Pr_mc_AKGC417L_1', '130_3p3_Al_mc_AKGC417L_2', '158_1p3_Ll_mc_AKGC417L_3', '174_1p3_Ll_mc_AKGC417L_2', '138_2p2_Ar_mc_AKGC417L_1', '203_1p3_Pr_mc_AKGC417L_2', '107_2b5_Al_mc_AKGC417L_3', '169_1b1_Lr_sc_Meditron_3', '138_1p2_Ar_mc_AKGC417L_2', '170_2b2_Al_mc_AKGC417L_1', '168_1b1_Al_sc_Meditron_2', '160_1b2_Ar_mc_AKGC417L_1', '146_8p3_Pl_mc_AKGC417L_3', '156_5b3_Al_mc_AKGC417L_1', '186_2b3_Lr_mc_AKGC417L_3', '130_3p2_Tc_mc_AKGC417L_3', '178_1b3_Lr_mc_AKGC417L_1', '112_1b1_Ar_sc_Meditron_3', '178_2b2_Lr_mc_AKGC417L_2', '203_2p3_Pl_mc_AKGC417L_2', '107_2b4_Tc_mc_AKGC417L_1', '186_2b2_Lr_mc_AKGC417L_2', '211_1p2_Ar_mc_AKGC417L_2', '174_1p4_Ll_mc_AKGC417L_2', '130_1p3_Tc_mc_AKGC417L_2', '142_1b1_Pl_mc_LittC2SE_3', '151_2p2_Lr_mc_AKGC417L_3', '221_2b2_Lr_mc_LittC2SE_3', '151_3p2_Pl_mc_AKGC417L_2', '147_2b4_Lr_mc_AKGC417L_2', '176_2b3_Tc_mc_AKGC417L_3', '138_1p3_Al_mc_AKGC417L_2', '130_2b4_Ll_mc_AKGC417L_2', '177_1b4_Al_mc_AKGC417L_3', '160_1b4_Lr_mc_AKGC417L_2', '133_2p4_Pr_mc_AKGC417L_3', '162_1b2_Lr_mc_AKGC417L_3', '205_1b3_Pr_mc_AKGC417L_1', '198_6p1_Tc_mc_AKGC417L_1', '160_1b4_Tc_mc_AKGC417L_3', '174_1p3_Pl_mc_AKGC417L_3', '107_2b5_Pr_mc_AKGC417L_3', '205_4b2_Al_mc_AKGC417L_3', '130_3p3_Pl_mc_AKGC417L_3', '138_1p3_Tc_mc_AKGC417L_2', '207_2b2_Pl_mc_AKGC417L_2', '181_1b1_Ar_mc_LittC2SE_1', '172_1b5_Al_mc_AKGC417L_2', '162_2b4_Pl_mc_AKGC417L_3', '178_1b6_Tc_mc_AKGC417L_2', '207_3b2_Lr_mc_AKGC417L_1', '195_1b1_Al_sc_Litt3200_1', '172_1b4_Tc_mc_AKGC417L_1', '193_7b3_Ll_mc_AKGC417L_3', '174_2p3_Pr_mc_AKGC417L_3', '147_2b3_Al_mc_AKGC417L_1', '166_1p1_Pr_sc_Meditron_8', '181_1b1_Tc_mc_LittC2SE_1', '110_1p1_Al_sc_Meditron_2', '131_1b1_Al_sc_Meditron_2', '162_1b2_Ar_mc_AKGC417L_2', '156_8b3_Al_mc_AKGC417L_1', '133_2p4_Ar_mc_AKGC417L_1', '172_1b5_Ar_mc_AKGC417L_2', '183_1b1_Pl_sc_Meditron_1', '218_1b1_Lr_sc_Meditron_8', '198_6p1_Al_mc_AKGC417L_1', '193_7b3_Pr_mc_AKGC417L_1', '221_2b3_Ar_mc_LittC2SE_1', '174_1p4_Ll_mc_AKGC417L_3', '160_2b4_Tc_mc_AKGC417L_1', '221_2b1_Lr_mc_LittC2SE_1', '130_1p3_Pr_mc_AKGC417L_1', '151_2p3_Al_mc_AKGC417L_2', '102_1b1_Ar_sc_Meditron_3', '186_2b3_Pr_mc_AKGC417L_3', '163_8b3_Ll_mc_AKGC417L_1', '133_2p3_Pl_mc_AKGC417L_1', '172_1b3_Pr_mc_AKGC417L_1', '107_3p2_Ar_mc_AKGC417L_2', '163_8b3_Ll_mc_AKGC417L_3', '113_1b1_Pr_sc_Litt3200_3', '207_3b2_Pr_mc_AKGC417L_1', '216_1b1_Pl_sc_Meditron_2', '139_1b1_Lr_sc_Litt3200_1', '111_1b2_Tc_sc_Meditron_3', '213_1p3_Pr_mc_AKGC417L_2', '158_1p3_Pl_mc_AKGC417L_2', '200_3p4_Al_mc_AKGC417L_2', '162_2b4_Ar_mc_AKGC417L_2', '170_1b2_Ar_mc_AKGC417L_3', '186_3b3_Al_mc_AKGC417L_3', '218_1b1_Pl_sc_Meditron_4', '198_6p1_Lr_mc_AKGC417L_2', '120_1b1_Pl_sc_Meditron_5', '150_1b2_Al_sc_Meditron_1', '107_2b5_Pl_mc_AKGC417L_2', '133_2p3_Al_mc_AKGC417L_2', '222_1b1_Ar_sc_Meditron_11', '135_2b3_Pr_mc_LittC2SE_1', '176_1b4_Pr_mc_AKGC417L_3', '130_2b3_Lr_mc_AKGC417L_2', '180_1b4_Al_mc_AKGC417L_1', '187_1b1_Ll_sc_Meditron_1', '158_1p3_Pl_mc_AKGC417L_3', '154_1b3_Pl_mc_AKGC417L_3', '130_3p2_Ar_mc_AKGC417L_1', '176_1b3_Lr_mc_AKGC417L_3', '135_2b3_Ar_mc_LittC2SE_3', '156_2b3_Lr_mc_AKGC417L_2', '177_2b4_Al_mc_AKGC417L_3', '135_2b1_Ar_mc_LittC2SE_1', '158_1p2_Ll_mc_AKGC417L_3', '198_6p1_Tc_mc_AKGC417L_3', '205_4b2_Pl_mc_AKGC417L_1', '193_7b3_Ll_mc_AKGC417L_2', '178_1b6_Pl_mc_AKGC417L_3', '185_1b1_Ar_sc_Litt3200_1', '180_1b4_Pl_mc_AKGC417L_2', '174_1p4_Tc_mc_AKGC417L_3', '133_3p2_Pl_mc_AKGC417L_1', '166_1p1_Ll_sc_Meditron_4', '160_1b4_Pr_mc_AKGC417L_3', '151_2p4_Pr_mc_AKGC417L_2', '107_2b4_Pl_mc_AKGC417L_3', '203_1p4_Pr_mc_AKGC417L_1', '211_2p2_Tc_mc_AKGC417L_2', '120_1b1_Al_sc_Meditron_3', '221_2b1_Al_mc_LittC2SE_1', '110_1b1_Pr_sc_Meditron_11', '166_1p1_Al_sc_Meditron_9', '154_1b3_Ll_mc_AKGC417L_1', '162_2b2_Tc_mc_AKGC417L_3', '147_1b4_Tc_mc_AKGC417L_3', '175_1b1_Pl_sc_Litt3200_1', '158_2p3_Lr_mc_AKGC417L_1', '204_7p5_Pr_mc_AKGC417L_1', '222_1b1_Lr_sc_Meditron_5', '139_1b1_Ar_sc_Litt3200_2', '172_1b3_Ar_mc_AKGC417L_2', '147_2b4_Pl_mc_AKGC417L_2', '146_8p3_Al_mc_AKGC417L_2', '160_1b4_Pr_mc_AKGC417L_2', '185_1b1_Al_sc_Litt3200_2', '114_1b4_Pl_mc_AKGC417L_2', '178_1b3_Lr_mc_AKGC417L_2', '119_1b1_Ar_sc_Meditron_2', '203_1p3_Pl_mc_AKGC417L_1', '162_1b2_Tc_mc_AKGC417L_1', '172_2b5_Lr_mc_AKGC417L_1', '157_1b1_Pr_sc_Meditron_5', '205_1b3_Pl_mc_AKGC417L_3', '133_2p3_Ar_mc_AKGC417L_1', '164_1b1_Ll_sc_Meditron_1', '226_1b1_Pl_sc_LittC2SE_2', '172_1b4_Ar_mc_AKGC417L_2', '207_2b2_Pr_mc_AKGC417L_3', '195_1b1_Ar_sc_Litt3200_2', '170_1b2_Ar_mc_AKGC417L_2', '205_1b3_Pr_mc_AKGC417L_2', '207_3b2_Al_mc_AKGC417L_2', '162_1b2_Pl_mc_AKGC417L_2', '174_1p3_Tc_mc_AKGC417L_1', '160_2b4_Pl_mc_AKGC417L_1', '157_1b1_Lr_sc_Meditron_9', '223_1b1_Ar_sc_Meditron_1', '178_1b2_Lr_mc_AKGC417L_3', '186_2b4_Pr_mc_AKGC417L_3', '130_2b3_Pr_mc_AKGC417L_2', '213_1p2_Pr_mc_AKGC417L_3', '135_2b1_Pl_mc_LittC2SE_1', '166_1p1_Pr_sc_Meditron_3', '109_1b1_Pr_sc_Litt3200_1', '130_3b4_Lr_mc_AKGC417L_1', '172_1b4_Al_mc_AKGC417L_1', '186_2b2_Pl_mc_AKGC417L_2', '138_1p3_Al_mc_AKGC417L_3', '172_2b5_Tc_mc_AKGC417L_2', '186_3b3_Tc_mc_AKGC417L_3', '141_1b3_Al_mc_LittC2SE_3', '176_1b4_Pr_mc_AKGC417L_1', '133_3p2_Pr_mc_AKGC417L_2', '130_1p2_Tc_mc_AKGC417L_2', '120_1b1_Al_sc_Meditron_7', '158_1p4_Pr_mc_AKGC417L_2', '185_1b1_Al_sc_Litt3200_3', '170_1b4_Lr_mc_AKGC417L_2', '174_1p4_Pr_mc_AKGC417L_1', '130_2b2_Pr_mc_AKGC417L_1', '161_1b1_Pl_sc_Meditron_2', '176_2b3_Ar_mc_AKGC417L_1', '172_1b4_Al_mc_AKGC417L_2', '210_1b1_Ar_sc_Meditron_2', '107_2b3_Pl_mc_AKGC417L_1', '198_6p1_Tc_mc_AKGC417L_2', '121_1p1_Tc_sc_Meditron_3', '186_2b4_Tc_mc_AKGC417L_1', '205_3b4_Pr_mc_AKGC417L_3', '130_1p2_Ll_mc_AKGC417L_3', '130_2b4_Lr_mc_AKGC417L_2', '146_2b2_Pl_mc_AKGC417L_1', '197_1b1_Al_sc_Meditron_1', '147_2b3_Ll_mc_AKGC417L_1', '218_1b1_Al_sc_Meditron_8', '130_3b4_Pl_mc_AKGC417L_2', '148_1b1_Al_sc_Meditron_1', '205_3b4_Ar_mc_AKGC417L_2', '109_1b1_Pl_sc_Litt3200_3', '178_1b2_Pl_mc_AKGC417L_2', '154_3b3_Al_mc_AKGC417L_3', '135_2b2_Al_mc_LittC2SE_2', '166_1p1_Ar_sc_Meditron_8', '220_1b2_Al_mc_LittC2SE_3', '178_2b2_Al_mc_AKGC417L_3', '179_1b1_Al_sc_Meditron_2', '130_2b3_Al_mc_AKGC417L_3', '132_2b2_Lr_mc_LittC2SE_1', '120_1b1_Pl_sc_Meditron_8', '109_1b1_Al_sc_Litt3200_3', '158_1p3_Pr_mc_AKGC417L_3', '160_1b3_Pr_mc_AKGC417L_1', '130_3p4_Al_mc_AKGC417L_2', '172_1b3_Tc_mc_AKGC417L_1', '120_1b1_Pl_sc_Meditron_3', '170_1b2_Al_mc_AKGC417L_2', '213_2p2_Ar_mc_AKGC417L_2', '156_2b3_Pr_mc_AKGC417L_1', '203_1p4_Pr_mc_AKGC417L_2', '154_2b4_Pl_mc_AKGC417L_2', '130_2b2_Al_mc_AKGC417L_2', '178_2b2_Ar_mc_AKGC417L_1', '130_1p3_Pl_mc_AKGC417L_3', '213_2p2_Ar_mc_AKGC417L_1', '154_2b4_Pl_mc_AKGC417L_3', '214_1b1_Ar_sc_Meditron_2', '114_1b4_Pr_mc_AKGC417L_3', '163_8b3_Pr_mc_AKGC417L_3', '182_1b1_Tc_sc_Meditron_1', '203_2p3_Pr_mc_AKGC417L_3', '147_2b3_Ll_mc_AKGC417L_2', '170_1b4_Tc_mc_AKGC417L_3', '122_2b3_Tc_mc_LittC2SE_3', '138_1p2_Tc_mc_AKGC417L_3', '178_1b2_Al_mc_AKGC417L_2', '213_2p2_Al_mc_AKGC417L_1', '181_1b2_Ar_mc_LittC2SE_3', '160_2b4_Pl_mc_AKGC417L_2', '177_1b2_Pr_mc_AKGC417L_1', '170_1b3_Lr_mc_AKGC417L_1', '178_1b3_Pl_mc_AKGC417L_1', '160_1b3_Tc_mc_AKGC417L_2', '110_1b1_Pr_sc_Meditron_9', '226_1b1_Ll_sc_Meditron_3', '114_1b4_Pr_mc_AKGC417L_2', '197_1b1_Al_sc_Meditron_3', '179_1b1_Al_sc_Meditron_1', '170_1b4_Pr_mc_AKGC417L_2', '203_1p3_Pl_mc_AKGC417L_2', '156_2b3_Pl_mc_AKGC417L_3', '112_1p1_Ll_sc_Litt3200_3', '163_8b3_Al_mc_AKGC417L_2', '205_1b3_Pl_mc_AKGC417L_2', '130_2b3_Pl_mc_AKGC417L_1', '207_3b2_Al_mc_AKGC417L_3', '107_3p2_Pr_mc_AKGC417L_2', '186_3b3_Al_mc_AKGC417L_2', '166_1p1_Ll_sc_Meditron_1', '218_1p1_Ar_sc_Litt3200_3', '132_2b2_Lr_mc_LittC2SE_3', '203_1p3_Tc_mc_AKGC417L_2', '221_2b1_Pl_mc_LittC2SE_2', '188_1b1_Tc_sc_Meditron_1', '134_2b1_Al_mc_LittC2SE_2', '226_1b1_Pl_sc_LittC2SE_3', '169_1b2_Ll_sc_Meditron_1', '177_2b4_Lr_mc_AKGC417L_3', '120_1b1_Ar_sc_Meditron_10', '172_2b5_Lr_mc_AKGC417L_2', '172_1b5_Lr_mc_AKGC417L_1', '172_1b5_Pr_mc_AKGC417L_3', '110_1p1_Pr_sc_Meditron_7', '156_5b3_Pr_mc_AKGC417L_2', '155_2b1_Al_mc_LittC2SE_2', '130_2p5_Tc_mc_AKGC417L_3', '170_1b3_Lr_mc_AKGC417L_3', '170_2b2_Lr_mc_AKGC417L_3', '177_1b4_Al_mc_AKGC417L_1', '145_2b2_Al_mc_AKGC417L_3', '162_2b2_Pl_mc_AKGC417L_1', '162_2b4_Al_mc_AKGC417L_1', '112_1b1_Ar_sc_Meditron_10', '151_2p3_Ll_mc_AKGC417L_1', '162_2b3_Pl_mc_AKGC417L_3', '191_2b1_Pl_mc_LittC2SE_1', '130_1p2_Pr_mc_AKGC417L_3', '107_2b5_Lr_mc_AKGC417L_1', '158_1p4_Al_mc_AKGC417L_2', '192_2b1_Ar_mc_LittC2SE_1', '211_1p2_Pr_mc_AKGC417L_1', '130_2p5_Lr_mc_AKGC417L_3', '107_2b5_Tc_mc_AKGC417L_1', '160_1b4_Tc_mc_AKGC417L_2', '203_1p2_Pl_mc_AKGC417L_2', '167_1b1_Pr_sc_Meditron_3', '174_1p2_Lr_mc_AKGC417L_3', '138_1p3_Lr_mc_AKGC417L_1', '146_8p3_Al_mc_AKGC417L_1', '154_1b3_Pl_mc_AKGC417L_2', '212_2b2_Tc_mc_LittC2SE_3', '121_1b1_Tc_sc_Meditron_3', '172_2b5_Pl_mc_AKGC417L_2', '107_2b4_Tc_mc_AKGC417L_3', '113_1b1_Ar_sc_Litt3200_1', '130_3b4_Al_mc_AKGC417L_2', '151_2p4_Ar_mc_AKGC417L_2', '207_2b3_Pl_mc_AKGC417L_2', '204_2b5_Ll_mc_AKGC417L_1', '180_1b4_Al_mc_AKGC417L_3', '204_7p5_Lr_mc_AKGC417L_3', '219_2b2_Ar_mc_LittC2SE_2', '106_2b1_Pl_mc_LittC2SE_1', '170_2b2_Pr_mc_AKGC417L_2', '156_5b3_Pl_mc_AKGC417L_3', '170_1b3_Al_mc_AKGC417L_1', '193_1b2_Tc_mc_AKGC417L_2', '135_2b3_Ar_mc_LittC2SE_2', '130_3p3_Pr_mc_AKGC417L_2', '138_1p2_Al_mc_AKGC417L_1', '140_2b3_Ll_mc_LittC2SE_3', '186_2b2_Pl_mc_AKGC417L_1', '172_1b4_Tc_mc_AKGC417L_2', '104_1b1_Pr_sc_Litt3200_1', '218_1b1_Pl_sc_Meditron_8', '199_2b1_Ll_mc_LittC2SE_3', '122_2b3_Al_mc_LittC2SE_2', '160_1b3_Al_mc_AKGC417L_2', '135_2b3_Al_mc_LittC2SE_1', '107_2b4_Lr_mc_AKGC417L_3', '151_2p3_Pl_mc_AKGC417L_2', '158_1p3_Al_mc_AKGC417L_3', '172_1b4_Lr_mc_AKGC417L_3', '207_3b2_Pr_mc_AKGC417L_3', '151_2p4_Tc_mc_AKGC417L_2', '138_2p2_Lr_mc_AKGC417L_1', '139_1b1_Pr_sc_Litt3200_2', '135_2b2_Tc_mc_LittC2SE_1', '182_1b1_Tc_sc_Meditron_3', '178_1b3_Ar_mc_AKGC417L_1', '205_1b3_Ar_mc_AKGC417L_3', '110_1p1_Al_sc_Meditron_4', '138_1p3_Ll_mc_AKGC417L_1', '159_1b1_Ll_sc_Meditron_2', '200_2p4_Lr_mc_AKGC417L_2', '165_1b1_Pr_sc_Meditron_2', '130_2b2_Pl_mc_AKGC417L_1', '130_1p2_Al_mc_AKGC417L_3', '166_1p1_Al_sc_Meditron_5', '226_1b1_Al_sc_Meditron_3', '160_2b4_Pr_mc_AKGC417L_2', '112_1p1_Ll_sc_Litt3200_4', '176_1b3_Pl_mc_AKGC417L_1', '158_1p3_Lr_mc_AKGC417L_1', '221_2b3_Pr_mc_LittC2SE_2', '101_1b1_Pr_sc_Meditron_1', '213_1p3_Pl_mc_AKGC417L_2', '135_2b3_Ar_mc_LittC2SE_1', '218_1p1_Pl_sc_Litt3200_4', '105_1b1_Tc_sc_Meditron_1', '200_2p4_Tc_mc_AKGC417L_3', '130_1p3_Ll_mc_AKGC417L_1', '186_3b3_Lr_mc_AKGC417L_1', '151_2p2_Tc_mc_AKGC417L_2', '138_1p4_Pr_mc_AKGC417L_3', '130_1p4_Pr_mc_AKGC417L_3', '221_2b2_Ar_mc_LittC2SE_1', '133_2p4_Al_mc_AKGC417L_3', '221_2b1_Ar_mc_LittC2SE_3', '174_1p4_Ar_mc_AKGC417L_2', '157_1b1_Al_sc_Meditron_5', '177_1b4_Al_mc_AKGC417L_2', '158_1p3_Pr_mc_AKGC417L_1', '200_2p2_Pr_mc_AKGC417L_1', '130_3p3_Pr_mc_AKGC417L_3', '157_1b1_Pl_sc_Meditron_2', '130_2b2_Ll_mc_AKGC417L_3', '107_2b4_Ll_mc_AKGC417L_3', '133_2p2_Al_mc_AKGC417L_1', '157_1b1_Ar_sc_Meditron_7', '110_1p1_Pr_sc_Meditron_5', '200_2p4_Tc_mc_AKGC417L_2', '160_2b4_Tc_mc_AKGC417L_2', '193_1b2_Al_mc_AKGC417L_1', '163_8b3_Al_mc_AKGC417L_3', '107_2b3_Lr_mc_AKGC417L_3', '205_2b3_Ar_mc_AKGC417L_2', '114_1b4_Lr_mc_AKGC417L_3', '154_1b3_Lr_mc_AKGC417L_3', '120_1b1_Lr_sc_Meditron_9', '130_2b2_Tc_mc_AKGC417L_2', '104_1b1_Ll_sc_Litt3200_1', '110_1b1_Pr_sc_Meditron_2', '201_1b1_Al_sc_Meditron_3', '146_2b4_Ar_mc_AKGC417L_3', '186_3b3_Ar_mc_AKGC417L_2', '122_2b1_Al_mc_LittC2SE_1', '152_1b1_Al_sc_Meditron_3', '167_1b1_Al_sc_Meditron_2', '122_2b2_Ar_mc_LittC2SE_3', '218_1b1_Pl_sc_Meditron_2', '165_1b1_Pl_sc_Meditron_3', '205_2b2_Pr_mc_AKGC417L_1', '156_2b3_Pl_mc_AKGC417L_1', '162_2b4_Al_mc_AKGC417L_3', '223_1b1_Al_sc_Meditron_2', '130_3p3_Pl_mc_AKGC417L_2', '109_1b1_Ar_sc_Litt3200_2', '130_2p5_Pl_mc_AKGC417L_2', '210_1b1_Al_sc_Meditron_2', '191_2b1_Pl_mc_LittC2SE_2', '133_3p4_Tc_mc_AKGC417L_1', '213_1p2_Lr_mc_AKGC417L_2', '130_3p2_Pl_mc_AKGC417L_1', '130_1p2_Ar_mc_AKGC417L_2', '213_1p5_Tc_mc_AKGC417L_3', '207_2b3_Al_mc_AKGC417L_1', '151_2p2_Pr_mc_AKGC417L_1', '174_2p3_Al_mc_AKGC417L_1', '211_2p3_Tc_mc_AKGC417L_1', '156_5b3_Pr_mc_AKGC417L_1', '211_1p2_Pl_mc_AKGC417L_1', '166_1p1_Ll_sc_Meditron_9', '192_2b3_Al_mc_LittC2SE_3', '155_2b1_Al_mc_LittC2SE_1', '133_2p3_Al_mc_AKGC417L_1', '162_2b2_Al_mc_AKGC417L_1', '218_1b1_Lr_sc_Meditron_10', '130_1p2_Ar_mc_AKGC417L_1', '193_7b3_Pl_mc_AKGC417L_2', '221_2b2_Lr_mc_LittC2SE_1', '130_1p2_Ar_mc_AKGC417L_3', '133_3p2_Al_mc_AKGC417L_1', '147_2b2_Pl_mc_AKGC417L_3', '154_4b4_Ll_mc_AKGC417L_1', '174_1p2_Pl_mc_AKGC417L_2', '213_2p2_Tc_mc_AKGC417L_1', '120_1b1_Pr_sc_Meditron_7', '118_1b1_Pl_sc_Litt3200_2', '118_1b1_Lr_sc_Litt3200_2', '112_1b1_Lr_sc_Meditron_3', '158_1p2_Pr_mc_AKGC417L_1', '146_2b4_Pr_mc_AKGC417L_1', '158_1p2_Ar_mc_AKGC417L_2', '130_2b3_Ll_mc_AKGC417L_2', '177_1b2_Ar_mc_AKGC417L_3', '211_1p2_Ar_mc_AKGC417L_3', '172_1b4_Pl_mc_AKGC417L_3', '200_2p3_Tc_mc_AKGC417L_1', '162_2b2_Tc_mc_AKGC417L_1', '186_2b4_Lr_mc_AKGC417L_3', '192_2b2_Al_mc_LittC2SE_1', '185_1b1_Pl_sc_Litt3200_1', '218_1b1_Al_sc_Meditron_11', '102_1b1_Ar_sc_Meditron_2', '213_2p2_Ar_mc_AKGC417L_3', '176_1b3_Ar_mc_AKGC417L_2', '188_1b1_Pl_sc_Meditron_2', '172_1b5_Pr_mc_AKGC417L_1', '156_8b3_Al_mc_AKGC417L_2', '146_2b2_Pl_mc_AKGC417L_3', '177_1b2_Lr_mc_AKGC417L_1', '207_2b4_Al_mc_AKGC417L_3', '199_2b1_Ll_mc_LittC2SE_1', '122_2b3_Tc_mc_LittC2SE_1', '174_1p3_Ar_mc_AKGC417L_1', '178_1b3_Pl_mc_AKGC417L_3', '193_1b2_Ll_mc_AKGC417L_3', '151_3p2_Tc_mc_AKGC417L_3', '147_2b4_Pl_mc_AKGC417L_3', '154_4b4_Pl_mc_AKGC417L_2', '110_1p1_Pr_sc_Meditron_10', '160_1b3_Pl_mc_AKGC417L_1', '222_1b1_Pr_sc_Meditron_7', '112_1b1_Ar_sc_Meditron_2', '167_1b1_Pr_sc_Meditron_1', '110_1p1_Al_sc_Meditron_5', '172_1b5_Ar_mc_AKGC417L_3', '146_8p3_Pr_mc_AKGC417L_1', '220_1b1_Tc_mc_LittC2SE_3', '163_8b3_Lr_mc_AKGC417L_2', '198_1b5_Pr_mc_AKGC417L_2', '226_1b1_Ll_sc_Meditron_2', '177_1b2_Tc_mc_AKGC417L_2', '107_2b3_Pr_mc_AKGC417L_3', '213_1p3_Al_mc_AKGC417L_2', '149_1b1_Lr_sc_Meditron_2', '211_1p5_Ar_mc_AKGC417L_1', '140_2b2_Ll_mc_LittC2SE_2', '117_1b2_Tc_mc_LittC2SE_1', '221_2b3_Lr_mc_LittC2SE_3', '198_1b5_Ll_mc_AKGC417L_2', '122_2b3_Ar_mc_LittC2SE_2', '176_1b4_Pl_mc_AKGC417L_2', '197_1b1_Tc_sc_Meditron_1', '118_1b1_Al_sc_Litt3200_2', '205_2b4_Pl_mc_AKGC417L_1', '116_1b2_Tc_sc_Meditron_3', '181_1b1_Tc_mc_LittC2SE_3', '107_2b4_Pr_mc_AKGC417L_2', '119_1b1_Ar_sc_Meditron_1', '120_1b1_Pr_sc_Meditron_10', '205_3b4_Ar_mc_AKGC417L_1', '223_1b1_Ll_sc_Meditron_2', '223_1b1_Lr_sc_Meditron_1', '124_1b1_Al_sc_Litt3200_1', '163_8b3_Lr_mc_AKGC417L_3', '120_1b1_Ar_sc_Meditron_9', '172_1b5_Tc_mc_AKGC417L_1', '138_1p4_Pl_mc_AKGC417L_3', '130_2b2_Lr_mc_AKGC417L_2', '170_1b2_Pr_mc_AKGC417L_1', '178_1b2_Ar_mc_AKGC417L_2', '174_1p2_Pr_mc_AKGC417L_3', '207_2b4_Ar_mc_AKGC417L_2', '160_1b4_Pl_mc_AKGC417L_2', '114_1b4_Ar_mc_AKGC417L_1', '200_3p4_Pl_mc_AKGC417L_3', '166_1p1_Al_sc_Meditron_2', '160_1b3_Tc_mc_AKGC417L_1', '112_1p1_Pr_sc_Litt3200_2', '213_1p2_Al_mc_AKGC417L_1', '218_1b1_Pr_sc_Meditron_8', '156_8b3_Ar_mc_AKGC417L_3', '193_1b2_Al_mc_AKGC417L_3', '151_2p3_Pr_mc_AKGC417L_2', '223_1b1_Pr_sc_Meditron_3', '106_2b1_Pr_mc_LittC2SE_2', '130_1p2_Pl_mc_AKGC417L_1', '165_1b1_Pl_sc_Meditron_1', '130_3b4_Pr_mc_AKGC417L_3', '130_2p5_Al_mc_AKGC417L_2', '146_8p3_Al_mc_AKGC417L_3', '172_1b3_Pr_mc_AKGC417L_3', '138_1p2_Tc_mc_AKGC417L_1', '205_2b3_Ar_mc_AKGC417L_1', '158_1p3_Ar_mc_AKGC417L_3', '107_2b5_Pl_mc_AKGC417L_1', '159_1b1_Al_sc_Meditron_1', '130_1p4_Lr_mc_AKGC417L_1', '186_3b3_Pr_mc_AKGC417L_2', '204_7p5_Pr_mc_AKGC417L_2', '132_2b1_Lr_mc_LittC2SE_1', '120_1b1_Lr_sc_Meditron_3', '219_2b1_Tc_mc_LittC2SE_2', '203_2p3_Tc_mc_AKGC417L_2', '203_1p2_Lr_mc_AKGC417L_2', '226_1b1_Al_sc_Meditron_1', '158_1p2_Ll_mc_AKGC417L_2', '133_2p2_Pl_mc_AKGC417L_2', '158_1p2_Tc_mc_AKGC417L_1', '151_3p2_Tc_mc_AKGC417L_2', '160_1b4_Tc_mc_AKGC417L_1', '193_7b3_Ar_mc_AKGC417L_2', '157_1b1_Ar_sc_Meditron_2', '200_2p4_Tc_mc_AKGC417L_1', '154_2b4_Ar_mc_AKGC417L_3', '218_1b1_Al_sc_Meditron_1', '206_1b1_Pl_sc_Meditron_1', '200_3p4_Pl_mc_AKGC417L_2', '154_4b4_Ll_mc_AKGC417L_3', '179_1b1_Tc_sc_Meditron_1', '141_1b2_Lr_mc_LittC2SE_2', '218_1b1_Ar_sc_Meditron_1', '158_1p3_Ll_mc_AKGC417L_2', '113_1b1_Al_sc_Litt3200_3', '160_1b4_Al_mc_AKGC417L_2', '174_1p4_Pl_mc_AKGC417L_3', '221_2b3_Ar_mc_LittC2SE_3', '203_1p2_Ar_mc_AKGC417L_2', '107_2b5_Pr_mc_AKGC417L_2', '216_1b1_Al_sc_Meditron_2', '162_2b4_Lr_mc_AKGC417L_1', '143_1b1_Al_sc_Meditron_3', '107_2b3_Ll_mc_AKGC417L_2', '176_1b4_Ll_mc_AKGC417L_3', '141_1b2_Tc_mc_LittC2SE_3', '109_1b1_Pr_sc_Litt3200_4', '185_1b1_Pr_sc_Litt3200_3', '190_1b1_Tc_sc_Meditron_3', '130_1p4_Ar_mc_AKGC417L_1', '157_1b1_Pl_sc_Meditron_4', '107_3p2_Ll_mc_AKGC417L_3', '218_1p1_Pl_sc_Litt3200_3', '157_1b1_Lr_sc_Meditron_5', '160_1b2_Pl_mc_AKGC417L_2', '200_2p3_Pl_mc_AKGC417L_1', '218_1b1_Pr_sc_Meditron_10', '193_1b2_Pl_mc_AKGC417L_1', '213_1p3_Ar_mc_AKGC417L_2', '207_2b3_Ar_mc_AKGC417L_3', '205_1b3_Pl_mc_AKGC417L_1', '174_1p2_Pl_mc_AKGC417L_1', '211_1p5_Ar_mc_AKGC417L_3', '158_1p3_Pr_mc_AKGC417L_2', '130_2b4_Al_mc_AKGC417L_1', '130_2b2_Ar_mc_AKGC417L_2', '124_1b1_Pl_sc_Litt3200_1', '107_3p2_Tc_mc_AKGC417L_2', '186_3b3_Lr_mc_AKGC417L_2', '158_2p3_Lr_mc_AKGC417L_2', '130_1p2_Al_mc_AKGC417L_1', '156_5b3_Al_mc_AKGC417L_3', '158_2p2_Ar_mc_AKGC417L_3', '205_3b4_Al_mc_AKGC417L_1', '138_2p2_Ll_mc_AKGC417L_1', '130_3p3_Tc_mc_AKGC417L_2', '209_1b1_Tc_sc_Meditron_2', '174_1p2_Ll_mc_AKGC417L_1', '222_1b1_Ar_sc_Meditron_4', '174_1p3_Pl_mc_AKGC417L_2', '174_2p3_Al_mc_AKGC417L_2', '188_1b1_Tc_sc_Meditron_2', '176_1b3_Tc_mc_AKGC417L_1', '205_4b2_Lr_mc_AKGC417L_2', '110_1b1_Pr_sc_Meditron_4', '124_1b1_Lr_sc_Litt3200_3', '137_1b1_Ar_sc_Meditron_1', '174_2p3_Ar_mc_AKGC417L_1', '120_1b1_Pr_sc_Meditron_6', '170_2b2_Pl_mc_AKGC417L_2', '157_1b1_Pl_sc_Meditron_6', '203_1p4_Al_mc_AKGC417L_1', '130_1p4_Lr_mc_AKGC417L_2', '133_2p3_Pr_mc_AKGC417L_1', '130_1p3_Tc_mc_AKGC417L_3', '138_1p4_Tc_mc_AKGC417L_3', '163_2b2_Tc_mc_AKGC417L_1', '147_2b3_Pl_mc_AKGC417L_3', '195_1b1_Pl_sc_Litt3200_1', '170_1b2_Pl_mc_AKGC417L_1', '213_2p2_Al_mc_AKGC417L_3', '201_1b1_Ar_sc_Meditron_1', '193_1b4_Lr_mc_AKGC417L_3', '151_2p3_Pl_mc_AKGC417L_3', '142_1b1_Pl_mc_LittC2SE_1', '213_1p2_Tc_mc_AKGC417L_3', '175_1b1_Ll_sc_Litt3200_3', '151_2p4_Ll_mc_AKGC417L_1', '121_1p1_Tc_sc_Meditron_2', '112_1b1_Lr_sc_Meditron_2', '158_2p3_Lr_mc_AKGC417L_3', '193_7b3_Pl_mc_AKGC417L_1', '139_1b1_Lr_sc_Litt3200_2', '112_1b1_Lr_sc_Meditron_4', '186_2b4_Tc_mc_AKGC417L_3', '130_2b4_Ar_mc_AKGC417L_2', '152_1b1_Al_sc_Meditron_2', '130_3p2_Tc_mc_AKGC417L_2', '177_1b4_Lr_mc_AKGC417L_1', '138_2p2_Tc_mc_AKGC417L_2', '186_3b3_Lr_mc_AKGC417L_3', '221_2b3_Lr_mc_LittC2SE_2', '218_1p1_Ar_sc_Litt3200_2', '104_1b1_Ll_sc_Litt3200_3', '205_2b3_Al_mc_AKGC417L_1', '174_1p4_Lr_mc_AKGC417L_3', '195_1b1_Al_sc_Litt3200_2', '133_2p2_Ar_mc_AKGC417L_2', '178_1b6_Lr_mc_AKGC417L_1', '178_1b6_Ll_mc_AKGC417L_3', '130_1p3_Lr_mc_AKGC417L_3', '160_1b3_Pl_mc_AKGC417L_3', '207_3b2_Lr_mc_AKGC417L_2', '145_3b2_Ar_mc_AKGC417L_2', '135_2b1_Tc_mc_LittC2SE_1', '118_1b1_Ll_sc_Litt3200_1', '177_1b4_Pr_mc_AKGC417L_3', '198_6p1_Pr_mc_AKGC417L_1', '107_2b5_Lr_mc_AKGC417L_3', '204_7p5_Lr_mc_AKGC417L_2', '151_2p4_Pr_mc_AKGC417L_3', '107_3p2_Al_mc_AKGC417L_3', '157_1b1_Pr_sc_Meditron_7', '160_1b2_Pl_mc_AKGC417L_1', '203_2p3_Tc_mc_AKGC417L_1', '204_2b5_Ll_mc_AKGC417L_3', '217_1b1_Tc_sc_Meditron_2', '107_3p2_Ar_mc_AKGC417L_3', '147_2b4_Al_mc_AKGC417L_2', '172_1b5_Ar_mc_AKGC417L_1', '198_1b5_Tc_mc_AKGC417L_2', '195_1b1_Lr_sc_Litt3200_1', '170_1b2_Ar_mc_AKGC417L_1', '156_5b3_Lr_mc_AKGC417L_2', '218_1b1_Al_sc_Meditron_7', '138_1p3_Lr_mc_AKGC417L_2', '151_2p2_Tc_mc_AKGC417L_1', '113_1b1_Ar_sc_Litt3200_3', '192_2b3_Al_mc_LittC2SE_1', '110_1p1_Lr_sc_Meditron_2', '112_1p1_Pr_sc_Litt3200_4', '183_1b1_Pl_sc_Meditron_2', '158_1p3_Tc_mc_AKGC417L_2', '176_1b3_Pl_mc_AKGC417L_2', '207_3b2_Ar_mc_AKGC417L_1', '107_2b4_Ll_mc_AKGC417L_2', '146_2b4_Ll_mc_AKGC417L_1', '160_1b2_Ar_mc_AKGC417L_2', '162_2b3_Lr_mc_AKGC417L_3', '177_1b4_Tc_mc_AKGC417L_3', '221_2b3_Pr_mc_LittC2SE_1', '201_1b3_Ar_sc_Meditron_1', '203_1p4_Al_mc_AKGC417L_2', '138_1p2_Ll_mc_AKGC417L_2', '130_2p3_Pl_mc_AKGC417L_3', '160_2b4_Pr_mc_AKGC417L_3', '109_1b1_Lr_sc_Litt3200_2', '193_1b2_Ar_mc_AKGC417L_3', '211_1p5_Ar_mc_AKGC417L_2', '194_1b1_Pr_sc_Meditron_2', '198_1b5_Ll_mc_AKGC417L_1', '165_1b1_Ar_sc_Meditron_2', '146_2b4_Pr_mc_AKGC417L_3', '219_2b3_Tc_mc_LittC2SE_1', '147_2b3_Ll_mc_AKGC417L_3', '181_1b3_Tc_mc_LittC2SE_2', '118_1b1_Ar_sc_Litt3200_1', '130_3p3_Pl_mc_AKGC417L_1', '215_1b3_Tc_sc_Meditron_2', '223_1b1_Ll_sc_Meditron_5', '157_1b1_Pr_sc_Meditron_6', '219_2b2_Tc_mc_LittC2SE_1', '172_1b5_Pl_mc_AKGC417L_3', '200_2p3_Lr_mc_AKGC417L_3', '166_1p1_Ar_sc_Meditron_6', '157_1b1_Al_sc_Meditron_10', '162_2b2_Ar_mc_AKGC417L_3', '203_2p3_Ar_mc_AKGC417L_2', '151_2p3_Pr_mc_AKGC417L_1', '107_2b3_Tc_mc_AKGC417L_1', '206_1b1_Pl_sc_Meditron_3', '166_1p1_Al_sc_Meditron_8', '162_1b2_Ll_mc_AKGC417L_1', '161_1b1_Pl_sc_Meditron_3', '223_1b1_Ll_sc_Meditron_4', '134_2b1_Ar_mc_LittC2SE_1', '104_1b1_Pl_sc_Litt3200_2', '172_1b3_Tc_mc_AKGC417L_3', '130_3p3_Tc_mc_AKGC417L_3', '161_1b1_Al_sc_Meditron_1', '186_2b2_Tc_mc_AKGC417L_3', '223_1b1_Lr_sc_Meditron_4', '186_2b3_Tc_mc_AKGC417L_3', '188_1b1_Ar_sc_Meditron_3', '223_1b1_Pl_sc_Meditron_2', '172_1b3_Ar_mc_AKGC417L_1', '133_3p2_Ar_mc_AKGC417L_1', '116_1b2_Pl_sc_Meditron_3', '219_2b3_Tc_mc_LittC2SE_3', '160_1b3_Pr_mc_AKGC417L_2', '126_1b1_Al_sc_Meditron_1', '151_3p2_Pl_mc_AKGC417L_3', '196_1b1_Pr_sc_Meditron_3', '215_1b2_Ar_sc_Meditron_2', '197_1b1_Tc_sc_Meditron_2', '158_1p4_Al_mc_AKGC417L_3', '145_2b2_Al_mc_AKGC417L_2', '118_1b1_Lr_sc_Litt3200_1', '205_3b4_Pl_mc_AKGC417L_1', '205_4b2_Pr_mc_AKGC417L_3', '170_2b2_Al_mc_AKGC417L_3', '170_1b4_Pl_mc_AKGC417L_2', '216_1b1_Pl_sc_Meditron_3', '200_2p4_Lr_mc_AKGC417L_3', '186_2b2_Pr_mc_AKGC417L_3', '207_2b2_Ar_mc_AKGC417L_1', '124_1b1_Lr_sc_Litt3200_1', '154_4b4_Ar_mc_AKGC417L_2', '160_1b2_Lr_mc_AKGC417L_1', '203_1p2_Tc_mc_AKGC417L_3', '195_1b1_Ll_sc_Litt3200_3', '101_1b1_Al_sc_Meditron_2', '107_3p2_Pl_mc_AKGC417L_1', '151_2p2_Al_mc_AKGC417L_2', '154_4b4_Pl_mc_AKGC417L_3', '172_1b5_Al_mc_AKGC417L_1', '175_1b1_Ar_sc_Litt3200_1', '193_7b3_Ar_mc_AKGC417L_3', '177_2b4_Tc_mc_AKGC417L_1', '213_2p2_Pl_mc_AKGC417L_3', '151_2p2_Ll_mc_AKGC417L_1', '107_2b5_Ll_mc_AKGC417L_3', '170_2b2_Lr_mc_AKGC417L_2', '170_1b2_Lr_mc_AKGC417L_1', '205_4b2_Ar_mc_AKGC417L_1', '196_1b1_Pr_sc_Meditron_2', '176_2b3_Ll_mc_AKGC417L_1', '130_3b3_Ll_mc_AKGC417L_2', '120_1b1_Al_sc_Meditron_2', '213_1p5_Tc_mc_AKGC417L_1', '112_1b1_Lr_sc_Meditron_1', '176_1b4_Ar_mc_AKGC417L_1', '198_1b5_Ar_mc_AKGC417L_1', '120_1b1_Ar_sc_Meditron_3', '176_1b3_Tc_mc_AKGC417L_3', '220_1b1_Tc_mc_LittC2SE_2', '162_2b2_Ar_mc_AKGC417L_2', '178_1b6_Lr_mc_AKGC417L_2', '134_2b3_Ar_mc_LittC2SE_3', '154_1b3_Pr_mc_AKGC417L_1', '206_1b1_Lr_sc_Meditron_1', '186_2b3_Pl_mc_AKGC417L_1', '104_1b1_Pl_sc_Litt3200_3', '133_3p2_Ar_mc_AKGC417L_3', '194_1b1_Pr_sc_Meditron_1', '130_2p3_Pl_mc_AKGC417L_2', '130_1p2_Pr_mc_AKGC417L_2', '178_1b2_Pr_mc_AKGC417L_1', '172_1b3_Pl_mc_AKGC417L_1', '221_2b1_Lr_mc_LittC2SE_3', '193_7b3_Pr_mc_AKGC417L_3', '110_1b1_Pr_sc_Meditron_8', '146_2b4_Ll_mc_AKGC417L_2', '204_2b5_Al_mc_AKGC417L_2', '178_1b6_Ar_mc_AKGC417L_1', '188_1b1_Tc_sc_Meditron_3', '176_1b3_Ll_mc_AKGC417L_2', '166_1p1_Ll_sc_Meditron_6', '160_1b3_Lr_mc_AKGC417L_1', '200_3p4_Tc_mc_AKGC417L_2', '163_8b3_Ar_mc_AKGC417L_2', '138_1p3_Tc_mc_AKGC417L_3', '133_2p3_Pr_mc_AKGC417L_3', '195_1b1_Ar_sc_Litt3200_3', '221_2b2_Al_mc_LittC2SE_3', '200_2p4_Pr_mc_AKGC417L_2', '138_1p4_Pl_mc_AKGC417L_1', '193_7b3_Al_mc_AKGC417L_1', '138_1p4_Pr_mc_AKGC417L_2', '145_2b2_Ar_mc_AKGC417L_1', '193_1b2_Pr_mc_AKGC417L_2', '201_1b3_Ar_sc_Meditron_2', '170_1b3_Ll_mc_AKGC417L_2', '133_2p4_Pr_mc_AKGC417L_2', '163_2b2_Ll_mc_AKGC417L_2', '218_1b1_Al_sc_Meditron_2', '202_1b1_Ar_sc_Meditron_3', '198_1b5_Al_mc_AKGC417L_3', '170_2b2_Al_mc_AKGC417L_2', '104_1b1_Ar_sc_Litt3200_2', '216_1b1_Al_sc_Meditron_3', '210_1b1_Al_sc_Meditron_1', '150_1b2_Al_sc_Meditron_2', '213_1p5_Al_mc_AKGC417L_1', '198_6p1_Ll_mc_AKGC417L_3', '145_2b2_Lr_mc_AKGC417L_3', '178_1b3_Al_mc_AKGC417L_2', '156_8b3_Pl_mc_AKGC417L_3', '219_2b3_Tc_mc_LittC2SE_2', '107_2b4_Pr_mc_AKGC417L_3', '154_2b4_Tc_mc_AKGC417L_1', '191_2b2_Tc_mc_LittC2SE_1', '176_1b3_Pr_mc_AKGC417L_3', '186_2b3_Pr_mc_AKGC417L_2', '172_1b5_Pl_mc_AKGC417L_2', '137_1b1_Ar_sc_Meditron_3', '174_1p2_Lr_mc_AKGC417L_1', '157_1b1_Pl_sc_Meditron_7', '172_1b5_Ll_mc_AKGC417L_1', '130_1p3_Pl_mc_AKGC417L_2', '166_1p1_Al_sc_Meditron_1', '130_2b4_Ar_mc_AKGC417L_1', '130_2p5_Ar_mc_AKGC417L_2', '205_1b3_Al_mc_AKGC417L_2', '158_1p4_Lr_mc_AKGC417L_3', '130_2b3_Tc_mc_AKGC417L_3', '174_1p2_Ar_mc_AKGC417L_2', '176_2b3_Pl_mc_AKGC417L_1', '200_2p3_Lr_mc_AKGC417L_2', '112_1b1_Ar_sc_Meditron_1', '130_3p4_Pr_mc_AKGC417L_2', '177_1b2_Al_mc_AKGC417L_3', '149_1b1_Pl_sc_Meditron_1', '174_2p3_Tc_mc_AKGC417L_2', '157_1b1_Ar_sc_Meditron_10', '154_3b3_Ar_mc_AKGC417L_1', '156_8b3_Ll_mc_AKGC417L_3', '160_1b3_Lr_mc_AKGC417L_2', '213_1p2_Pr_mc_AKGC417L_2', '133_2p4_Ar_mc_AKGC417L_2', '166_1p1_Ll_sc_Meditron_3', '158_1p2_Tc_mc_AKGC417L_2', '205_3b4_Pr_mc_AKGC417L_2', '135_2b2_Ar_mc_LittC2SE_3', '147_2b2_Al_mc_AKGC417L_2', '154_2b4_Al_mc_AKGC417L_3', '203_1p2_Ar_mc_AKGC417L_3', '130_2p3_Pl_mc_AKGC417L_1', '221_2b1_Al_mc_LittC2SE_2', '160_1b4_Pr_mc_AKGC417L_1', '154_2b4_Ar_mc_AKGC417L_1', '120_1b1_Al_sc_Meditron_1', '147_2b3_Al_mc_AKGC417L_3', '198_6p1_Al_mc_AKGC417L_2', '162_1b2_Ar_mc_AKGC417L_3', '135_2b2_Ar_mc_LittC2SE_2', '186_2b2_Pl_mc_AKGC417L_3', '177_1b4_Ar_mc_AKGC417L_1', '218_1p1_Pl_sc_Litt3200_2', '158_1p2_Al_mc_AKGC417L_2', '138_1p4_Lr_mc_AKGC417L_3', '172_1b5_Tc_mc_AKGC417L_2', '218_1b1_Pl_sc_Meditron_3', '221_2b2_Lr_mc_LittC2SE_2', '151_2p4_Ll_mc_AKGC417L_2', '178_1b3_Al_mc_AKGC417L_3', '172_2b5_Ar_mc_AKGC417L_1', '203_1p2_Pl_mc_AKGC417L_1', '130_1p3_Pr_mc_AKGC417L_3', '157_1b1_Pl_sc_Meditron_3', '130_2b4_Lr_mc_AKGC417L_1', '207_2b3_Tc_mc_AKGC417L_3', '160_1b2_Tc_mc_AKGC417L_2', '178_2b2_Tc_mc_AKGC417L_1', '193_1b2_Ar_mc_AKGC417L_2', '107_2b5_Pl_mc_AKGC417L_3', '154_3b3_Ar_mc_AKGC417L_2', '213_2p2_Tc_mc_AKGC417L_2', '215_1b2_Ar_sc_Meditron_3', '224_1b2_Al_sc_Meditron_1', '107_2b4_Ar_mc_AKGC417L_1', '218_1b1_Al_sc_Meditron_10', '156_5b3_Pl_mc_AKGC417L_2', '200_2p4_Pl_mc_AKGC417L_3', '162_2b3_Pl_mc_AKGC417L_2', '178_1b2_Al_mc_AKGC417L_3', '124_1b1_Pl_sc_Litt3200_2', '218_1b1_Al_sc_Meditron_4', '176_1b4_Ll_mc_AKGC417L_2', '223_1b1_Pl_sc_Meditron_5', '111_1b3_Tc_sc_Meditron_2', '106_2b1_Pl_mc_LittC2SE_3', '166_1p1_Pl_sc_Meditron_5', '124_1b1_Pr_sc_Litt3200_1', '110_1p1_Pr_sc_Meditron_1', '203_2p3_Al_mc_AKGC417L_3', '201_1b2_Al_sc_Meditron_3', '218_1b1_Pl_sc_Meditron_5', '187_1b1_Ll_sc_Meditron_3', '145_2b2_Ar_mc_AKGC417L_2', '179_1b1_Tc_sc_Meditron_3', '215_1b3_Tc_sc_Meditron_1', '174_1p2_Lr_mc_AKGC417L_2', '147_2b4_Ll_mc_AKGC417L_1', '177_2b4_Pl_mc_AKGC417L_3', '178_1b6_Pl_mc_AKGC417L_2', '166_1p1_Al_sc_Meditron_6', '157_1b1_Lr_sc_Meditron_1', '120_1b1_Al_sc_Meditron_9', '113_1b1_Ll_sc_Litt3200_3', '218_1b1_Ar_sc_Meditron_10', '156_8b3_Pl_mc_AKGC417L_1', '200_2p2_Ar_mc_AKGC417L_2', '162_1b2_Tc_mc_AKGC417L_2', '162_1b2_Ar_mc_AKGC417L_1', '107_3p2_Ll_mc_AKGC417L_1', '226_1b1_Ll_sc_Meditron_1', '151_3p2_Al_mc_AKGC417L_3', '127_1b1_Ar_sc_Meditron_2', '147_2b2_Ar_mc_AKGC417L_3', '197_1b1_Al_sc_Meditron_2', '130_2p5_Pl_mc_AKGC417L_3', '133_2p3_Pl_mc_AKGC417L_3', '138_2p2_Pr_mc_AKGC417L_2', '109_1b1_Pl_sc_Litt3200_2', '176_1b4_Ll_mc_AKGC417L_1', '166_1p1_Ar_sc_Meditron_7', '120_1b1_Pr_sc_Meditron_9', '154_3b3_Ar_mc_AKGC417L_3', '211_1p3_Ar_mc_AKGC417L_3', '154_4b4_Al_mc_AKGC417L_1', '203_1p2_Ar_mc_AKGC417L_1', '224_1b2_Al_sc_Meditron_2', '122_2b1_Tc_mc_LittC2SE_3', '222_1b1_Ar_sc_Meditron_10', '201_1b2_Ar_sc_Meditron_2', '104_1b1_Pl_sc_Litt3200_1', '107_2b4_Pl_mc_AKGC417L_2', '186_2b3_Lr_mc_AKGC417L_1', '130_2b2_Ar_mc_AKGC417L_3', '147_2b2_Al_mc_AKGC417L_1', '193_7b3_Tc_mc_AKGC417L_2', '186_2b2_Tc_mc_AKGC417L_1', '175_1b1_Pl_sc_Litt3200_4', '133_3p4_Tc_mc_AKGC417L_3', '177_2b4_Pl_mc_AKGC417L_1', '158_1p4_Pl_mc_AKGC417L_2', '221_2b1_Al_mc_LittC2SE_3', '107_2b5_Ar_mc_AKGC417L_2', '190_1b1_Tc_sc_Meditron_1', '195_1b1_Pl_sc_Litt3200_4', '207_2b4_Pl_mc_AKGC417L_2', '163_2b2_Al_mc_AKGC417L_3', '144_1b1_Al_sc_Meditron_2', '157_1b1_Ar_sc_Meditron_4', '130_2b2_Pl_mc_AKGC417L_2', '188_1b1_Al_sc_Meditron_1', '130_3b4_Pl_mc_AKGC417L_3', '170_2b2_Lr_mc_AKGC417L_1', '218_1b1_Lr_sc_Meditron_7', '162_1b2_Al_mc_AKGC417L_2', '221_2b3_Al_mc_LittC2SE_1', '158_1p2_Ar_mc_AKGC417L_3', '154_2b4_Al_mc_AKGC417L_2', '166_1p1_Ar_sc_Meditron_2', '130_3p3_Al_mc_AKGC417L_1', '198_1b5_Lr_mc_AKGC417L_2', '151_2p4_Tc_mc_AKGC417L_1', '170_1b4_Pl_mc_AKGC417L_1', '170_1b4_Ar_mc_AKGC417L_3', '213_1p2_Lr_mc_AKGC417L_3', '162_1b2_Ll_mc_AKGC417L_2', '170_1b3_Al_mc_AKGC417L_2', '162_2b3_Ar_mc_AKGC417L_1', '218_1b1_Pr_sc_Meditron_5', '113_1b1_Al_sc_Litt3200_2', '156_5b3_Ll_mc_AKGC417L_3', '110_1p1_Pr_sc_Meditron_8', '175_1b1_Lr_sc_Litt3200_1', '178_1b6_Pl_mc_AKGC417L_1', '176_1b4_Pl_mc_AKGC417L_1', '160_1b3_Lr_mc_AKGC417L_3', '138_2p2_Pl_mc_AKGC417L_2', '162_2b2_Al_mc_AKGC417L_3', '154_1b3_Pr_mc_AKGC417L_3', '122_2b2_Tc_mc_LittC2SE_2', '207_3b2_Lr_mc_AKGC417L_3', '211_2p3_Tc_mc_AKGC417L_2', '201_1b3_Al_sc_Meditron_1', '200_2p4_Al_mc_AKGC417L_3', '137_1b1_Ar_sc_Meditron_2', '104_1b1_Ll_sc_Litt3200_2', '134_2b3_Ar_mc_LittC2SE_2', '200_2p2_Al_mc_AKGC417L_1', '203_2p3_Pl_mc_AKGC417L_3', '162_2b2_Pr_mc_AKGC417L_3', '160_1b2_Pr_mc_AKGC417L_1', '185_1b1_Ll_sc_Litt3200_1', '186_2b4_Pr_mc_AKGC417L_2', '178_1b3_Tc_mc_AKGC417L_2', '156_2b3_Ll_mc_AKGC417L_1', '130_2p5_Pr_mc_AKGC417L_3', '160_2b4_Pl_mc_AKGC417L_3', '218_1b1_Lr_sc_Meditron_4', '172_1b3_Lr_mc_AKGC417L_3', '158_1p2_Lr_mc_AKGC417L_1', '166_1p1_Ar_sc_Meditron_9', '113_1b1_Lr_sc_Litt3200_3', '218_1b1_Lr_sc_Meditron_11', '205_1b3_Ll_mc_AKGC417L_2', '107_2b5_Ar_mc_AKGC417L_3', '121_1b1_Tc_sc_Meditron_2', '139_1b1_Pl_sc_Litt3200_2', '201_1b2_Al_sc_Meditron_1', '153_1b1_Al_sc_Meditron_2', '207_2b4_Pr_mc_AKGC417L_3', '107_2b4_Ll_mc_AKGC417L_1', '107_2b5_Tc_mc_AKGC417L_3', '151_3p2_Pr_mc_AKGC417L_3', '170_1b2_Al_mc_AKGC417L_3', '156_5b3_Ll_mc_AKGC417L_2', '192_2b3_Ar_mc_LittC2SE_1', '145_2b2_Pr_mc_AKGC417L_2', '154_4b4_Lr_mc_AKGC417L_3', '169_1b2_Ll_sc_Meditron_2', '200_2p4_Al_mc_AKGC417L_1', '158_1p4_Pl_mc_AKGC417L_3', '138_1p2_Pr_mc_AKGC417L_2', '163_2b2_Tc_mc_AKGC417L_3', '173_1b1_Al_sc_Meditron_3', '176_2b3_Ll_mc_AKGC417L_2', '113_1b1_Lr_sc_Litt3200_1', '207_2b3_Pr_mc_AKGC417L_2', '200_2p4_Pr_mc_AKGC417L_3', '101_1b1_Al_sc_Meditron_1', '158_1p4_Ar_mc_AKGC417L_2', '213_1p5_Ar_mc_AKGC417L_3', '212_2b2_Tc_mc_LittC2SE_2', '193_7b3_Lr_mc_AKGC417L_2', '222_1b1_Pr_sc_Meditron_2', '207_2b4_Ar_mc_AKGC417L_3', '107_2b5_Ll_mc_AKGC417L_1', '207_2b3_Pl_mc_AKGC417L_1', '175_1b1_Pl_sc_Litt3200_2', '154_3b3_Ll_mc_AKGC417L_2', '222_1b1_Pr_sc_Meditron_9', '162_2b4_Pl_mc_AKGC417L_2', '201_1b2_Ar_sc_Meditron_1', '156_2b3_Al_mc_AKGC417L_2', '151_2p3_Lr_mc_AKGC417L_3', '185_1b1_Pl_sc_Litt3200_2', '130_3p2_Pr_mc_AKGC417L_2', '172_1b4_Ar_mc_AKGC417L_3', '168_1b1_Al_sc_Meditron_3', '176_1b4_Pr_mc_AKGC417L_2', '190_1b1_Tc_sc_Meditron_2', '151_2p2_Lr_mc_AKGC417L_2', '139_1b1_Ll_sc_Litt3200_2', '174_1p2_Pr_mc_AKGC417L_2', '120_1b1_Lr_sc_Meditron_2', '174_1p3_Lr_mc_AKGC417L_1', '170_1b2_Lr_mc_AKGC417L_2', '154_2b4_Al_mc_AKGC417L_1', '107_3p2_Lr_mc_AKGC417L_1', '107_3p2_Ar_mc_AKGC417L_1', '120_1b1_Lr_sc_Meditron_4', '110_1b1_Pr_sc_Meditron_10', '154_4b4_Ar_mc_AKGC417L_1', '193_1b2_Al_mc_AKGC417L_2', '133_3p2_Pl_mc_AKGC417L_2', '223_1b1_Ar_sc_Meditron_4', '157_1b1_Ar_sc_Meditron_6', '200_2p4_Pr_mc_AKGC417L_1', '186_2b4_Pl_mc_AKGC417L_3', '176_1b4_Ar_mc_AKGC417L_2', '204_2b5_Ar_mc_AKGC417L_2', '222_1b1_Lr_sc_Meditron_6', '192_2b3_Al_mc_LittC2SE_2', '163_2b2_Pr_mc_AKGC417L_3', '218_1b1_Ar_sc_Meditron_4', '195_1b1_Al_sc_Litt3200_4', '113_1b1_Pr_sc_Litt3200_2', '104_1b1_Ar_sc_Litt3200_1', '174_1p4_Lr_mc_AKGC417L_1', '113_1b1_Pr_sc_Litt3200_1', '198_1b5_Pl_mc_AKGC417L_2', '157_1b1_Pr_sc_Meditron_9', '138_1p2_Pl_mc_AKGC417L_1', '151_2p2_Ll_mc_AKGC417L_3', '195_1b1_Ar_sc_Litt3200_4', '218_1b1_Pr_sc_Meditron_4', '163_2b2_Pl_mc_AKGC417L_2', '130_2b3_Lr_mc_AKGC417L_3', '135_2b3_Tc_mc_LittC2SE_1', '138_1p2_Ar_mc_AKGC417L_1', '162_1b2_Ll_mc_AKGC417L_3', '112_1b1_Ar_sc_Meditron_6', '115_1b1_Ar_sc_Meditron_2', '221_2b3_Al_mc_LittC2SE_2', '177_1b4_Lr_mc_AKGC417L_3', '163_2b2_Lr_mc_AKGC417L_2', '181_1b1_Ar_mc_LittC2SE_3', '221_2b2_Pl_mc_LittC2SE_3', '177_1b2_Pl_mc_AKGC417L_2', '112_1p1_Pl_sc_Litt3200_3', '201_1b3_Ar_sc_Meditron_3', '174_1p2_Tc_mc_AKGC417L_1', '138_2p2_Tc_mc_AKGC417L_1', '134_2b2_Ar_mc_LittC2SE_1', '113_1b1_Ll_sc_Litt3200_1', '120_1b1_Lr_sc_Meditron_10', '117_1b2_Tc_mc_LittC2SE_3', '163_2b2_Tc_mc_AKGC417L_2', '130_3b4_Lr_mc_AKGC417L_3', '135_2b1_Pl_mc_LittC2SE_2', '174_1p3_Ar_mc_AKGC417L_2', '141_1b3_Pr_mc_LittC2SE_3', '200_3p4_Pr_mc_AKGC417L_3', '138_1p3_Ar_mc_AKGC417L_1', '117_1b3_Tc_mc_LittC2SE_3', '178_1b6_Lr_mc_AKGC417L_3', '170_2b2_Tc_mc_AKGC417L_1', '217_1b1_Tc_sc_Meditron_3', '226_1b1_Pl_sc_LittC2SE_1', '130_2b3_Ar_mc_AKGC417L_3', '144_1b1_Tc_sc_Meditron_2', '151_3p2_Lr_mc_AKGC417L_1', '151_2p3_Ar_mc_AKGC417L_1', '172_1b5_Al_mc_AKGC417L_3', '203_2p3_Al_mc_AKGC417L_1', '146_2b4_Ar_mc_AKGC417L_1', '152_1b1_Al_sc_Meditron_1', '133_2p4_Tc_mc_AKGC417L_1', '156_5b3_Pl_mc_AKGC417L_1', '209_1b1_Tc_sc_Meditron_3', '200_2p2_Pl_mc_AKGC417L_1', '162_2b3_Lr_mc_AKGC417L_1', '107_2b3_Pr_mc_AKGC417L_2', '200_3p4_Ar_mc_AKGC417L_1', '151_2p3_Pl_mc_AKGC417L_1', '170_2b2_Tc_mc_AKGC417L_3', '108_1b1_Al_sc_Meditron_3', '110_1p1_Ll_sc_Meditron_3', '172_2b5_Pl_mc_AKGC417L_3', '221_2b2_Al_mc_LittC2SE_2', '174_1p3_Ll_mc_AKGC417L_1', '207_2b2_Tc_mc_AKGC417L_2', '135_2b3_Tc_mc_LittC2SE_3', '130_1p4_Ll_mc_AKGC417L_2', '141_1b1_Pr_mc_LittC2SE_3', '107_2b5_Ll_mc_AKGC417L_2', '176_1b3_Al_mc_AKGC417L_3', '198_6p1_Ar_mc_AKGC417L_1', '213_1p5_Pr_mc_AKGC417L_3', '151_2p3_Ll_mc_AKGC417L_3', '133_2p2_Pl_mc_AKGC417L_3', '174_2p3_Pl_mc_AKGC417L_1', '183_1b1_Tc_sc_Meditron_3', '134_2b1_Al_mc_LittC2SE_3', '186_2b4_Ar_mc_AKGC417L_3', '112_1p1_Pr_sc_Litt3200_1', '177_2b4_Pr_mc_AKGC417L_1', '122_2b3_Tc_mc_LittC2SE_2', '200_2p2_Lr_mc_AKGC417L_2', '200_2p4_Pl_mc_AKGC417L_2', '170_1b3_Ar_mc_AKGC417L_1', '156_5b3_Lr_mc_AKGC417L_1', '218_1b1_Pr_sc_Meditron_2', '145_2b2_Al_mc_AKGC417L_1', '132_2b1_Lr_mc_LittC2SE_2', '154_4b4_Al_mc_AKGC417L_3', '147_2b4_Ll_mc_AKGC417L_2', '158_1p3_Lr_mc_AKGC417L_2', '180_1b4_Al_mc_AKGC417L_2', '200_3p4_Ar_mc_AKGC417L_3', '147_2b3_Pl_mc_AKGC417L_2', '130_3p4_Pr_mc_AKGC417L_3', '198_1b5_Ar_mc_AKGC417L_2', '218_1b1_Pl_sc_Meditron_7', '124_1b1_Ar_sc_Litt3200_2', '200_2p3_Ar_mc_AKGC417L_1', '207_2b2_Pr_mc_AKGC417L_1', '133_2p4_Al_mc_AKGC417L_2', '213_1p3_Al_mc_AKGC417L_1', '201_1b3_Al_sc_Meditron_3', '153_1b1_Al_sc_Meditron_3', '135_2b3_Al_mc_LittC2SE_3', '198_6p1_Pl_mc_AKGC417L_1', '170_1b3_Pl_mc_AKGC417L_2', '162_2b2_Ar_mc_AKGC417L_1', '154_4b4_Lr_mc_AKGC417L_1', '162_2b4_Tc_mc_AKGC417L_1', '146_8p3_Pl_mc_AKGC417L_2', '147_1b3_Tc_mc_AKGC417L_1', '120_1b1_Al_sc_Meditron_6', '165_1b1_Pr_sc_Meditron_3', '130_3b4_Ar_mc_AKGC417L_1', '166_1p1_Pl_sc_Meditron_6', '218_1b1_Lr_sc_Meditron_2', '207_2b4_Tc_mc_AKGC417L_3', '186_2b3_Ar_mc_AKGC417L_3', '176_1b3_Ar_mc_AKGC417L_3', '200_2p2_Tc_mc_AKGC417L_1', '147_1b2_Tc_mc_AKGC417L_2', '110_1b1_Pr_sc_Meditron_6', '107_2b5_Lr_mc_AKGC417L_2', '139_1b1_Ll_sc_Litt3200_3', '213_1p5_Pl_mc_AKGC417L_2', '218_1b1_Lr_sc_Meditron_3', '160_1b4_Pl_mc_AKGC417L_1', '162_2b3_Pr_mc_AKGC417L_1', '120_1b1_Pl_sc_Meditron_10', '172_1b3_Pl_mc_AKGC417L_3', '176_2b3_Tc_mc_AKGC417L_1', '120_1b1_Pl_sc_Meditron_9', '107_2b3_Tc_mc_AKGC417L_2', '166_1p1_Pr_sc_Meditron_9', '139_1b1_Al_sc_Litt3200_2', '211_2p4_Tc_mc_AKGC417L_2', '170_1b4_Lr_mc_AKGC417L_1', '165_1b1_Pl_sc_Meditron_2', '122_2b2_Tc_mc_LittC2SE_3', '222_1b1_Ar_sc_Meditron_9', '211_1p2_Pl_mc_AKGC417L_3', '125_1b1_Tc_sc_Meditron_1', '159_1b1_Ar_sc_Meditron_3', '212_2b2_Tc_mc_LittC2SE_1', '178_1b3_Lr_mc_AKGC417L_3', '130_3p4_Pl_mc_AKGC417L_2', '130_2p5_Tc_mc_AKGC417L_1', '198_6p1_Ar_mc_AKGC417L_3', '180_1b4_Pr_mc_AKGC417L_1', '146_2b4_Lr_mc_AKGC417L_1', '154_4b4_Pr_mc_AKGC417L_3', '135_2b1_Ar_mc_LittC2SE_3', '149_1b1_Pl_sc_Meditron_3', '110_1p1_Lr_sc_Meditron_4', '203_1p2_Pr_mc_AKGC417L_1', '147_1b2_Tc_mc_AKGC417L_3', '147_2b3_Ar_mc_AKGC417L_2', '193_7b3_Tc_mc_AKGC417L_1', '178_1b3_Pr_mc_AKGC417L_2', '203_1p3_Ar_mc_AKGC417L_2', '153_1b1_Al_sc_Meditron_1', '151_2p4_Ar_mc_AKGC417L_1', '120_1b1_Pr_sc_Meditron_5', '218_1b1_Ar_sc_Meditron_2', '207_3b2_Al_mc_AKGC417L_1', '101_1b1_Pr_sc_Meditron_3', '130_2b3_Ar_mc_AKGC417L_1', '138_1p4_Ar_mc_AKGC417L_3', '157_1b1_Pr_sc_Meditron_3', '141_1b3_Al_mc_LittC2SE_1', '130_3p2_Tc_mc_AKGC417L_1', '130_3p4_Pl_mc_AKGC417L_1', '211_2p4_Tc_mc_AKGC417L_1', '161_1b1_Al_sc_Meditron_2', '138_1p3_Ar_mc_AKGC417L_2', '207_2b3_Ar_mc_AKGC417L_1', '163_8b3_Ar_mc_AKGC417L_1', '178_1b3_Ar_mc_AKGC417L_2', '110_1b1_Pr_sc_Meditron_7', '186_2b2_Pr_mc_AKGC417L_1', '205_3b4_Ar_mc_AKGC417L_3', '110_1p1_Al_sc_Meditron_3', '221_2b2_Ar_mc_LittC2SE_3', '170_1b4_Al_mc_AKGC417L_1', '213_1p2_Ar_mc_AKGC417L_1', '203_1p2_Al_mc_AKGC417L_2', '138_2p2_Al_mc_AKGC417L_1', '158_1p3_Ar_mc_AKGC417L_2', '151_2p4_Lr_mc_AKGC417L_1', '207_2b2_Al_mc_AKGC417L_2', '200_2p3_Ar_mc_AKGC417L_2', '204_7p5_Ll_mc_AKGC417L_1', '204_7p5_Ar_mc_AKGC417L_3', '166_1p1_Ll_sc_Meditron_5', '133_2p2_Al_mc_AKGC417L_2', '135_2b3_Pl_mc_LittC2SE_3', '175_1b1_Ll_sc_Litt3200_1', '221_2b1_Lr_mc_LittC2SE_2', '222_1b1_Lr_sc_Meditron_8', '203_2p3_Al_mc_AKGC417L_2', '195_1b1_Ar_sc_Litt3200_1', '166_1p1_Ar_sc_Meditron_5', '222_1b1_Lr_sc_Meditron_1', '154_2b4_Lr_mc_AKGC417L_2', '223_1b1_Pl_sc_Meditron_3', '176_1b3_Ll_mc_AKGC417L_1', '218_1p1_Pr_sc_Litt3200_1', '107_3p2_Al_mc_AKGC417L_1', '158_1p2_Ar_mc_AKGC417L_1', '162_2b3_Ar_mc_AKGC417L_3', '166_1p1_Pl_sc_Meditron_3', '174_2p3_Tc_mc_AKGC417L_3', '178_1b2_Tc_mc_AKGC417L_2', '138_1p4_Tc_mc_AKGC417L_1', '200_2p4_Pl_mc_AKGC417L_1', '134_2b2_Al_mc_LittC2SE_2', '204_7p5_Tc_mc_AKGC417L_3', '107_2b3_Ll_mc_AKGC417L_3', '151_2p4_Al_mc_AKGC417L_1', '189_1b2_Lr_mc_LittC2SE_1', '178_2b2_Ar_mc_AKGC417L_3', '218_1b1_Ar_sc_Meditron_3', '222_1b1_Pr_sc_Meditron_11', '205_2b3_Al_mc_AKGC417L_2', '195_1b1_Pr_sc_Litt3200_3', '130_2b3_Pl_mc_AKGC417L_3', '147_2b2_Pl_mc_AKGC417L_2', '176_1b4_Tc_mc_AKGC417L_3', '195_1b1_Pl_sc_Litt3200_3', '124_1b1_Ll_sc_Litt3200_1', '176_1b4_Al_mc_AKGC417L_1', '144_1b1_Tc_sc_Meditron_3', '203_1p3_Al_mc_AKGC417L_1', '176_1b3_Ll_mc_AKGC417L_3', '178_1b3_Al_mc_AKGC417L_1', '157_1b1_Pr_sc_Meditron_8', '200_2p2_Pr_mc_AKGC417L_3', '133_2p2_Pl_mc_AKGC417L_1', '138_1p2_Ll_mc_AKGC417L_1', '158_1p3_Al_mc_AKGC417L_2', '130_2p5_Pr_mc_AKGC417L_1', '176_1b3_Al_mc_AKGC417L_1', '198_1b5_Tc_mc_AKGC417L_3', '162_1b2_Al_mc_AKGC417L_1', '157_1b1_Al_sc_Meditron_8', '158_1p4_Ar_mc_AKGC417L_1', '200_2p4_Lr_mc_AKGC417L_1', '198_1b5_Al_mc_AKGC417L_2', '178_1b6_Ar_mc_AKGC417L_2', '154_2b4_Pr_mc_AKGC417L_3', '174_1p2_Ll_mc_AKGC417L_2', '130_2b4_Ll_mc_AKGC417L_1', '172_2b5_Pl_mc_AKGC417L_1', '213_1p3_Pl_mc_AKGC417L_1', '174_1p3_Tc_mc_AKGC417L_2', '200_2p2_Tc_mc_AKGC417L_3', '154_1b3_Tc_mc_AKGC417L_3', '170_1b3_Pr_mc_AKGC417L_2', '193_7b3_Ll_mc_AKGC417L_1', '147_2b4_Lr_mc_AKGC417L_1', '160_1b4_Al_mc_AKGC417L_3', '139_1b1_Pl_sc_Litt3200_1', '135_2b1_Ar_mc_LittC2SE_2', '141_1b2_Ar_mc_LittC2SE_3', '162_2b4_Lr_mc_AKGC417L_2', '120_1b1_Pl_sc_Meditron_4', '221_2b2_Pl_mc_LittC2SE_2', '200_2p2_Pl_mc_AKGC417L_2', '106_2b1_Pr_mc_LittC2SE_1', '151_3p3_Ll_mc_AKGC417L_1', '218_1p1_Ar_sc_Litt3200_4', '172_1b5_Ll_mc_AKGC417L_3', '110_1p1_Al_sc_Meditron_1', '130_2b2_Pr_mc_AKGC417L_2', '200_2p2_Al_mc_AKGC417L_2', '171_1b1_Al_sc_Meditron_1', '198_1b5_Pr_mc_AKGC417L_3', '195_1b1_Lr_sc_Litt3200_3', '130_1p2_Lr_mc_AKGC417L_2', '218_1b1_Pl_sc_Meditron_9', '107_2b4_Al_mc_AKGC417L_2', '160_2b3_Lr_mc_AKGC417L_1', '109_1b1_Al_sc_Litt3200_2', '178_2b2_Tc_mc_AKGC417L_3', '176_1b4_Pl_mc_AKGC417L_3', '112_1p1_Pr_sc_Litt3200_5', '106_2b1_Pl_mc_LittC2SE_2', '170_1b2_Pl_mc_AKGC417L_2', '191_2b1_Pr_mc_LittC2SE_1', '211_2p2_Tc_mc_AKGC417L_1', '107_2b4_Al_mc_AKGC417L_3', '154_1b3_Pr_mc_AKGC417L_2', '151_2p2_Ll_mc_AKGC417L_2', '133_2p4_Tc_mc_AKGC417L_2', '176_2b3_Lr_mc_AKGC417L_2', '130_3p4_Pl_mc_AKGC417L_3', '145_3b2_Lr_mc_AKGC417L_3', '130_2b3_Pr_mc_AKGC417L_1', '178_1b2_Pl_mc_AKGC417L_1', '176_2b3_Lr_mc_AKGC417L_1', '154_2b4_Pl_mc_AKGC417L_1', '205_1b3_Ll_mc_AKGC417L_1', '146_8p3_Pl_mc_AKGC417L_1', '114_1b4_Ar_mc_AKGC417L_3', '141_1b2_Pr_mc_LittC2SE_2', '162_2b3_Al_mc_AKGC417L_1', '157_1b1_Pr_sc_Meditron_2', '206_1b1_Lr_sc_Meditron_3', '172_1b3_Pl_mc_AKGC417L_2', '163_8b3_Pl_mc_AKGC417L_2', '154_1b3_Ar_mc_AKGC417L_3', '204_2b5_Ar_mc_AKGC417L_3', '172_1b3_Ll_mc_AKGC417L_3', '218_1p1_Pr_sc_Litt3200_3', '204_7p5_Ll_mc_AKGC417L_3', '176_1b4_Tc_mc_AKGC417L_2', '193_1b2_Pl_mc_AKGC417L_2', '213_1p2_Ar_mc_AKGC417L_3', '147_2b3_Al_mc_AKGC417L_2', '138_1p4_Ll_mc_AKGC417L_3', '133_2p3_Pl_mc_AKGC417L_2', '115_1b1_Ar_sc_Meditron_3', '138_1p3_Tc_mc_AKGC417L_1', '218_1p1_Ar_sc_Litt3200_1', '185_1b1_Lr_sc_Litt3200_1', '139_1b1_Pl_sc_Litt3200_3', '186_2b2_Ar_mc_AKGC417L_3', '120_1b1_Lr_sc_Meditron_8', '130_1p4_Pl_mc_AKGC417L_3', '159_1b1_Pr_sc_Meditron_1', '213_2p2_Pr_mc_AKGC417L_1', '124_1b1_Al_sc_Litt3200_2', '177_2b4_Pl_mc_AKGC417L_2', '147_2b2_Ar_mc_AKGC417L_1', '181_1b2_Ar_mc_LittC2SE_2', '107_3p2_Tc_mc_AKGC417L_3', '120_1b1_Ar_sc_Meditron_5']\n"
     ]
    }
   ],
   "source": [
    "import os\n",
    "\n",
    "# annotation 디렉토리에 있는 파일 목록 가져오기\n",
    "file_list = os.listdir(\"/home/sogaksa123/AIFFEL_THON/data/dataset2/data_rec/xml_file/xml_file\")\n",
    "\n",
    "# 확장자를 제외한 파일명을 저장할 리스트 초기화\n",
    "file_names_without_extension = []\n",
    "\n",
    "# 파일 목록에서 확장자를 제외한 파일명만 추출하여 리스트에 추가\n",
    "for file_name in file_list:\n",
    "    name_without_extension = os.path.splitext(file_name)[0]\n",
    "    file_names_without_extension.append(name_without_extension)\n",
    "\n",
    "# 확장자를 제외한 파일명이 저장된 리스트 출력\n",
    "print(\"확장자를 제외한 파일명 리스트:\", file_names_without_extension)"
   ]
  },
  {
   "cell_type": "code",
   "execution_count": 16,
   "metadata": {
    "colab": {
     "base_uri": "https://localhost:8080/"
    },
    "id": "9wrtou81XQQQ",
    "outputId": "20f07663-2550-47f3-ba77-f1ca1ee42f5c"
   },
   "outputs": [
    {
     "name": "stdout",
     "output_type": "stream",
     "text": [
      "확장자를 제외한 파일명 리스트: ['108_1b1_Al_sc_Meditron_3', '110_1p1_Pr_sc_Meditron_9', '138_1p2_Lr_mc_AKGC417L_1', '192_2b3_Ar_mc_LittC2SE_2', '151_3p2_Ar_mc_AKGC417L_3', '200_2p3_Al_mc_AKGC417L_3', '165_1b1_Pl_sc_Meditron_2', '174_1p2_Pl_mc_AKGC417L_3', '186_2b3_Pl_mc_AKGC417L_1', '176_1b4_Pl_mc_AKGC417L_2', '200_2p3_Pl_mc_AKGC417L_2', '107_2b3_Lr_mc_AKGC417L_1', '110_1p1_Lr_sc_Meditron_1', '198_1b5_Pr_mc_AKGC417L_2', '133_2p3_Tc_mc_AKGC417L_1', '221_2b2_Al_mc_LittC2SE_1', '162_2b3_Pr_mc_AKGC417L_3', '163_2b2_Lr_mc_AKGC417L_1', '186_2b2_Pl_mc_AKGC417L_2', '180_1b4_Lr_mc_AKGC417L_2', '166_1p1_Ar_sc_Meditron_7', '170_2b2_Ar_mc_AKGC417L_3', '151_2p4_Tc_mc_AKGC417L_3', '162_2b4_Ar_mc_AKGC417L_2', '203_2p3_Pr_mc_AKGC417L_1', '198_6p1_Lr_mc_AKGC417L_3', '162_2b4_Pl_mc_AKGC417L_2', '176_2b3_Lr_mc_AKGC417L_3', '207_2b2_Pr_mc_AKGC417L_2', '172_1b5_Ar_mc_AKGC417L_2', '205_2b4_Pl_mc_AKGC417L_1', '218_1b1_Pr_sc_Meditron_7', '200_2p2_Ar_mc_AKGC417L_2', '112_1p1_Pl_sc_Litt3200_2', '112_1b1_Ar_sc_Meditron_10', '178_1b3_Pl_mc_AKGC417L_1', '200_2p3_Tc_mc_AKGC417L_1', '154_1b3_Ll_mc_AKGC417L_3', '158_1p3_Lr_mc_AKGC417L_3', '207_2b4_Pl_mc_AKGC417L_2', '174_1p4_Ar_mc_AKGC417L_3', '178_1b2_Ar_mc_AKGC417L_3', '218_1p1_Pr_sc_Litt3200_5', '203_1p4_Ar_mc_AKGC417L_1', '158_1p3_Ll_mc_AKGC417L_1', '207_3b2_Ar_mc_AKGC417L_3', '223_1b1_Ll_sc_Meditron_4', '204_7p5_Ll_mc_AKGC417L_2', '107_2b4_Tc_mc_AKGC417L_3', '203_1p4_Tc_mc_AKGC417L_1', '151_2p3_Tc_mc_AKGC417L_3', '200_2p2_Lr_mc_AKGC417L_2', '178_1b6_Al_mc_AKGC417L_3', '122_2b1_Ar_mc_LittC2SE_3', '154_1b3_Pl_mc_AKGC417L_1', '221_2b2_Pl_mc_LittC2SE_1', '174_1p4_Pl_mc_AKGC417L_2', '138_1p3_Pl_mc_AKGC417L_2', '160_2b4_Pr_mc_AKGC417L_3', '218_1b1_Ar_sc_Meditron_9', '165_1b1_Ar_sc_Meditron_3', '160_1b2_Al_mc_AKGC417L_1', '153_1b1_Al_sc_Meditron_3', '130_1p4_Pr_mc_AKGC417L_2', '113_1b1_Al_sc_Litt3200_2', '187_1b1_Ll_sc_Meditron_3', '177_2b4_Pr_mc_AKGC417L_2', '133_3p2_Pr_mc_AKGC417L_2', '178_1b3_Ar_mc_AKGC417L_3', '178_1b6_Tc_mc_AKGC417L_2', '205_2b2_Pr_mc_AKGC417L_3', '108_1b1_Al_sc_Meditron_2', '157_1b1_Pr_sc_Meditron_4', '218_1p1_Pl_sc_Litt3200_3', '163_2b2_Ll_mc_AKGC417L_2', '172_1b3_Ll_mc_AKGC417L_2', '102_1b1_Ar_sc_Meditron_3', '158_1p4_Al_mc_AKGC417L_3', '160_1b4_Pr_mc_AKGC417L_2', '203_1p2_Tc_mc_AKGC417L_2', '172_1b3_Al_mc_AKGC417L_2', '184_1b1_Ar_sc_Meditron_2', '186_2b3_Al_mc_AKGC417L_1', '120_1b1_Al_sc_Meditron_7', '159_1b1_Pr_sc_Meditron_3', '130_1p3_Ll_mc_AKGC417L_3', '138_1p3_Ar_mc_AKGC417L_2', '158_1p2_Lr_mc_AKGC417L_1', '133_2p3_Al_mc_AKGC417L_3', '218_1p1_Pl_sc_Litt3200_5', '154_4b4_Ll_mc_AKGC417L_2', '130_1p3_Ll_mc_AKGC417L_2', '225_1b1_Pl_sc_Meditron_1', '166_1p1_Al_sc_Meditron_9', '193_7b3_Ll_mc_AKGC417L_3', '122_2b3_Al_mc_LittC2SE_2', '112_1p1_Pr_sc_Litt3200_2', '139_1b1_Pl_sc_Litt3200_1', '203_1p4_Pl_mc_AKGC417L_2', '203_1p2_Tc_mc_AKGC417L_3', '170_1b2_Tc_mc_AKGC417L_1', '193_1b4_Lr_mc_AKGC417L_1', '178_2b2_Ar_mc_AKGC417L_1', '170_1b4_Tc_mc_AKGC417L_1', '203_1p4_Pl_mc_AKGC417L_1', '138_1p2_Pr_mc_AKGC417L_1', '211_1p3_Ar_mc_AKGC417L_3', '175_1b1_Ar_sc_Litt3200_1', '110_1p1_Al_sc_Meditron_3', '158_1p2_Pr_mc_AKGC417L_1', '200_2p2_Tc_mc_AKGC417L_2', '198_6p1_Pr_mc_AKGC417L_2', '134_2b1_Al_mc_LittC2SE_1', '107_2b5_Tc_mc_AKGC417L_1', '159_1b1_Ll_sc_Meditron_3', '162_2b2_Al_mc_AKGC417L_1', '156_5b3_Pr_mc_AKGC417L_3', '156_2b3_Al_mc_AKGC417L_3', '139_1b1_Pl_sc_Litt3200_3', '170_1b2_Ar_mc_AKGC417L_3', '151_3p2_Pl_mc_AKGC417L_2', '107_3p2_Lr_mc_AKGC417L_2', '189_1b2_Lr_mc_LittC2SE_2', '174_1p3_Ar_mc_AKGC417L_1', '221_2b1_Pl_mc_LittC2SE_3', '147_2b4_Pl_mc_AKGC417L_2', '218_1b1_Al_sc_Meditron_7', '130_2b4_Ar_mc_AKGC417L_2', '163_2b2_Pl_mc_AKGC417L_3', '175_1b1_Pl_sc_Litt3200_4', '156_5b3_Pl_mc_AKGC417L_3', '136_1b1_Ar_sc_Meditron_2', '174_1p2_Pr_mc_AKGC417L_3', '130_1p2_Pl_mc_AKGC417L_1', '107_2b3_Pr_mc_AKGC417L_3', '206_1b1_Pl_sc_Meditron_2', '101_1b1_Pr_sc_Meditron_3', '172_1b5_Ar_mc_AKGC417L_1', '156_8b3_Ll_mc_AKGC417L_2', '207_3b2_Tc_mc_AKGC417L_2', '107_3p2_Pl_mc_AKGC417L_2', '176_1b3_Lr_mc_AKGC417L_2', '186_2b2_Al_mc_AKGC417L_2', '166_1p1_Ar_sc_Meditron_1', '122_2b3_Al_mc_LittC2SE_1', '120_1b1_Ar_sc_Meditron_10', '139_1b1_Ar_sc_Litt3200_3', 'classes', '145_2b2_Al_mc_AKGC417L_2', '134_2b1_Al_mc_LittC2SE_2', '213_1p5_Tc_mc_AKGC417L_3', '213_1p5_Ar_mc_AKGC417L_3', '204_7p5_Ar_mc_AKGC417L_3', '120_1b1_Lr_sc_Meditron_13', '130_2p5_Al_mc_AKGC417L_3', '156_2b3_Pl_mc_AKGC417L_2', '205_1b3_Ar_mc_AKGC417L_1', '219_2b3_Tc_mc_LittC2SE_1', '156_8b3_Lr_mc_AKGC417L_1', '192_2b3_Ar_mc_LittC2SE_1', '207_2b3_Pl_mc_AKGC417L_2', '107_2b5_Al_mc_AKGC417L_3', '170_2b2_Pr_mc_AKGC417L_1', '221_2b2_Ar_mc_LittC2SE_2', '141_1b2_Pr_mc_LittC2SE_2', '174_1p3_Ll_mc_AKGC417L_1', '120_1b1_Pl_sc_Meditron_1', '160_1b4_Pl_mc_AKGC417L_2', '112_1p1_Pl_sc_Litt3200_1', '166_1p1_Ar_sc_Meditron_5', '154_1b3_Tc_mc_AKGC417L_2', '120_1b1_Pr_sc_Meditron_10', '151_2p2_Pr_mc_AKGC417L_2', '169_1b2_Ll_sc_Meditron_3', '176_1b4_Al_mc_AKGC417L_2', '158_1p4_Ar_mc_AKGC417L_3', '138_1p4_Pr_mc_AKGC417L_1', '110_1p1_Lr_sc_Meditron_2', '130_1p2_Lr_mc_AKGC417L_3', '147_1b4_Tc_mc_AKGC417L_3', '201_1b3_Al_sc_Meditron_1', '130_3p2_Ar_mc_AKGC417L_1', '186_2b2_Tc_mc_AKGC417L_1', '103_2b2_Ar_mc_LittC2SE_2', '203_1p3_Ar_mc_AKGC417L_2', '151_2p3_Pr_mc_AKGC417L_1', '107_2b4_Al_mc_AKGC417L_1', '193_1b2_Ll_mc_AKGC417L_2', '133_2p2_Tc_mc_AKGC417L_3', '139_1b1_Ar_sc_Litt3200_2', '154_1b3_Al_mc_AKGC417L_2', '165_1b1_Pr_sc_Meditron_3', '120_1b1_Pl_sc_Meditron_5', '130_2b4_Ar_mc_AKGC417L_1', '107_2b4_Ar_mc_AKGC417L_3', '223_1b1_Al_sc_Meditron_5', '198_6p1_Pl_mc_AKGC417L_1', '172_1b4_Lr_mc_AKGC417L_1', '202_1b1_Ar_sc_Meditron_1', '154_4b4_Al_mc_AKGC417L_1', '130_3p3_Pl_mc_AKGC417L_1', '170_1b4_Lr_mc_AKGC417L_3', '192_2b1_Ar_mc_LittC2SE_2', '151_3p2_Pr_mc_AKGC417L_1', '178_1b3_Tc_mc_AKGC417L_1', '207_2b3_Tc_mc_AKGC417L_3', '154_1b3_Lr_mc_AKGC417L_1', '180_1b4_Pr_mc_AKGC417L_2', '170_1b3_Al_mc_AKGC417L_1', '151_2p4_Ll_mc_AKGC417L_3', '107_3p2_Lr_mc_AKGC417L_3', '195_1b1_Al_sc_Litt3200_3', '170_1b4_Tc_mc_AKGC417L_3', '122_2b1_Ar_mc_LittC2SE_2', '107_2b4_Pl_mc_AKGC417L_1', '203_1p3_Al_mc_AKGC417L_2', '157_1b1_Pl_sc_Meditron_7', '130_3b4_Lr_mc_AKGC417L_3', '158_1p2_Tc_mc_AKGC417L_3', '130_1p4_Tc_mc_AKGC417L_2', '178_1b2_Pl_mc_AKGC417L_2', '134_2b3_Ar_mc_LittC2SE_1', '198_1b5_Ar_mc_AKGC417L_1', '138_1p2_Pr_mc_AKGC417L_3', '161_1b1_Pl_sc_Meditron_1', '107_3p2_Pr_mc_AKGC417L_3', '133_3p2_Ar_mc_AKGC417L_1', '104_1b1_Ll_sc_Litt3200_2', '122_2b1_Ar_mc_LittC2SE_1', '172_1b5_Pr_mc_AKGC417L_2', '114_1b4_Pl_mc_AKGC417L_1', '177_1b2_Pr_mc_AKGC417L_2', '107_2b3_Tc_mc_AKGC417L_2', '223_1b1_Ll_sc_Meditron_5', '134_2b2_Al_mc_LittC2SE_3', '181_1b3_Tc_mc_LittC2SE_3', '138_1p4_Ar_mc_AKGC417L_3', '107_3p2_Ar_mc_AKGC417L_3', '157_1b1_Pr_sc_Meditron_1', '149_1b1_Al_sc_Meditron_3', '167_1b1_Pr_sc_Meditron_3', '211_1p2_Pr_mc_AKGC417L_3', '198_1b5_Tc_mc_AKGC417L_2', '109_1b1_Pl_sc_Litt3200_2', '146_2b4_Al_mc_AKGC417L_3', '174_1p3_Pr_mc_AKGC417L_3', '174_1p2_Ar_mc_AKGC417L_2', '222_1b1_Ar_sc_Meditron_5', '124_1b1_Lr_sc_Litt3200_1', '133_2p3_Tc_mc_AKGC417L_3', '110_1p1_Ll_sc_Meditron_4', '178_1b2_Ar_mc_AKGC417L_2', '205_4b2_Pr_mc_AKGC417L_1', '120_1b1_Al_sc_Meditron_2', '174_1p2_Ll_mc_AKGC417L_3', '203_1p4_Ar_mc_AKGC417L_3', '120_1b1_Lr_sc_Meditron_2', '139_1b1_Lr_sc_Litt3200_1', '224_1b1_Tc_sc_Meditron_1', '186_2b3_Pl_mc_AKGC417L_2', '204_7p5_Pr_mc_AKGC417L_1', '218_1b1_Lr_sc_Meditron_4', '207_2b2_Ar_mc_AKGC417L_1', '212_2b2_Tc_mc_LittC2SE_3', '119_1b1_Ar_sc_Meditron_2', '172_1b5_Ll_mc_AKGC417L_2', '203_1p2_Al_mc_AKGC417L_1', '149_1b1_Al_sc_Meditron_1', '154_2b4_Tc_mc_AKGC417L_2', '138_2p2_Pr_mc_AKGC417L_2', '156_2b3_Pr_mc_AKGC417L_3', '112_1p1_Pr_sc_Litt3200_4', '122_2b2_Tc_mc_LittC2SE_2', '177_2b4_Pl_mc_AKGC417L_3', '186_3b3_Pr_mc_AKGC417L_2', '107_2b4_Pr_mc_AKGC417L_2', '222_1b1_Pr_sc_Meditron_8', '200_2p3_Ar_mc_AKGC417L_2', '151_2p4_Al_mc_AKGC417L_1', '205_3b4_Al_mc_AKGC417L_3', '157_1b1_Al_sc_Meditron_10', '207_3b2_Al_mc_AKGC417L_2', '203_1p3_Al_mc_AKGC417L_3', '157_1b1_Ar_sc_Meditron_8', '201_1b2_Ar_sc_Meditron_3', '211_2p2_Tc_mc_AKGC417L_1', '110_1b1_Pr_sc_Meditron_10', '154_4b4_Pr_mc_AKGC417L_1', '176_2b3_Pl_mc_AKGC417L_2', '147_2b4_Lr_mc_AKGC417L_1', '130_2b2_Pl_mc_AKGC417L_1', '218_1b1_Al_sc_Meditron_4', '156_8b3_Ll_mc_AKGC417L_1', '130_3b3_Ll_mc_AKGC417L_3', '205_1b3_Al_mc_AKGC417L_2', '193_1b2_Pr_mc_AKGC417L_1', '162_1b2_Pr_mc_AKGC417L_2', '187_1b1_Ll_sc_Meditron_1', '178_2b2_Tc_mc_AKGC417L_2', '128_1b3_Tc_mc_LittC2SE_2', '147_2b2_Al_mc_AKGC417L_1', '174_2p3_Ar_mc_AKGC417L_3', '144_1b1_Al_sc_Meditron_2', '130_1p3_Tc_mc_AKGC417L_1', '151_2p2_Pl_mc_AKGC417L_2', '180_1b4_Al_mc_AKGC417L_2', '218_1b1_Pl_sc_Meditron_2', '144_1b1_Tc_sc_Meditron_3', '220_1b2_Al_mc_LittC2SE_3', '130_2b4_Ar_mc_AKGC417L_3', '154_4b4_Lr_mc_AKGC417L_3', '222_1b1_Pr_sc_Meditron_2', '156_5b3_Lr_mc_AKGC417L_3', '213_1p3_Pl_mc_AKGC417L_3', '223_1b1_Pr_sc_Meditron_4', '151_2p2_Tc_mc_AKGC417L_1', '215_1b3_Tc_sc_Meditron_1', '154_2b4_Ar_mc_AKGC417L_2', '130_3b4_Ar_mc_AKGC417L_2', '204_2b5_Ar_mc_AKGC417L_1', '203_1p4_Al_mc_AKGC417L_2', '147_2b4_Ar_mc_AKGC417L_3', '218_1b1_Lr_sc_Meditron_7', '158_1p2_Ll_mc_AKGC417L_2', '130_1p2_Tc_mc_AKGC417L_2', '185_1b1_Ar_sc_Litt3200_4', '170_1b2_Al_mc_AKGC417L_3', '207_3b2_Pl_mc_AKGC417L_3', '178_1b6_Al_mc_AKGC417L_1', '160_1b4_Pr_mc_AKGC417L_1', '130_2p5_Lr_mc_AKGC417L_1', '153_1b1_Al_sc_Meditron_2', '159_1b1_Al_sc_Meditron_1', '135_2b3_Tc_mc_LittC2SE_3', '158_1p3_Pl_mc_AKGC417L_2', '154_1b3_Ll_mc_AKGC417L_2', '166_1p1_Ar_sc_Meditron_8', '178_2b2_Lr_mc_AKGC417L_2', '213_2p2_Pl_mc_AKGC417L_2', '218_1b1_Pr_sc_Meditron_9', '147_2b4_Al_mc_AKGC417L_1', '176_2b3_Al_mc_AKGC417L_2', '130_2p3_Pl_mc_AKGC417L_1', '166_1p1_Ll_sc_Meditron_4', '130_2p5_Pl_mc_AKGC417L_3', '130_2b3_Pr_mc_AKGC417L_3', '176_2b3_Ll_mc_AKGC417L_3', '141_1b3_Ar_mc_LittC2SE_1', '157_1b1_Lr_sc_Meditron_9', '130_1p3_Pl_mc_AKGC417L_2', '162_2b4_Tc_mc_AKGC417L_3', '200_2p2_Pr_mc_AKGC417L_3', '162_1b2_Tc_mc_AKGC417L_1', '152_1b1_Al_sc_Meditron_2', '172_2b5_Al_mc_AKGC417L_2', '158_1p4_Tc_mc_AKGC417L_3', '205_1b3_Ll_mc_AKGC417L_3', '177_1b2_Tc_mc_AKGC417L_1', '139_1b1_Pl_sc_Litt3200_2', '222_1b1_Pr_sc_Meditron_1', '133_3p2_Pl_mc_AKGC417L_1', '113_1b1_Pl_sc_Litt3200_3', '154_1b3_Ar_mc_AKGC417L_2', '205_2b3_Ar_mc_AKGC417L_2', '109_1b1_Lr_sc_Litt3200_3', '182_1b1_Tc_sc_Meditron_2', '117_1b2_Tc_mc_LittC2SE_3', '172_1b3_Pr_mc_AKGC417L_3', '107_3p2_Ll_mc_AKGC417L_3', '146_8p3_Pl_mc_AKGC417L_3', '176_2b3_Tc_mc_AKGC417L_2', '162_2b2_Ar_mc_AKGC417L_3', '178_2b2_Al_mc_AKGC417L_2', '222_1b1_Lr_sc_Meditron_4', '138_1p4_Pr_mc_AKGC417L_3', '104_1b1_Pl_sc_Litt3200_3', '162_1b2_Lr_mc_AKGC417L_3', '120_1b1_Pr_sc_Meditron_9', '160_1b2_Pl_mc_AKGC417L_2', '117_1b3_Tc_mc_LittC2SE_2', '176_1b3_Pr_mc_AKGC417L_1', '172_1b4_Tc_mc_AKGC417L_3', '178_2b2_Pr_mc_AKGC417L_3', '180_1b4_Lr_mc_AKGC417L_3', '206_1b1_Pl_sc_Meditron_3', '193_1b2_Pl_mc_AKGC417L_2', '174_1p3_Ar_mc_AKGC417L_2', '222_1b1_Lr_sc_Meditron_5', '177_1b2_Pr_mc_AKGC417L_3', '198_6p1_Ar_mc_AKGC417L_3', '178_1b6_Ar_mc_AKGC417L_3', '200_2p4_Pr_mc_AKGC417L_3', '197_1b1_Al_sc_Meditron_3', '141_1b2_Lr_mc_LittC2SE_1', '138_1p4_Tc_mc_AKGC417L_3', '130_3b4_Pr_mc_AKGC417L_1', '213_1p2_Pr_mc_AKGC417L_1', '204_7p5_Al_mc_AKGC417L_2', '174_2p3_Al_mc_AKGC417L_2', '106_2b1_Pl_mc_LittC2SE_1', '176_1b4_Al_mc_AKGC417L_3', '174_1p3_Lr_mc_AKGC417L_2', '174_1p3_Tc_mc_AKGC417L_1', '160_1b3_Pl_mc_AKGC417L_2', '146_2b2_Pl_mc_AKGC417L_3', '176_1b4_Pl_mc_AKGC417L_3', '162_2b4_Ar_mc_AKGC417L_1', '139_1b1_Pr_sc_Litt3200_2', '224_1b2_Al_sc_Meditron_1', '138_1p3_Tc_mc_AKGC417L_3', '158_1p3_Pr_mc_AKGC417L_2', '172_2b5_Lr_mc_AKGC417L_1', '162_2b4_Lr_mc_AKGC417L_3', '163_2b2_Pr_mc_AKGC417L_3', '178_2b2_Al_mc_AKGC417L_3', '120_1b1_Ar_sc_Meditron_6', '145_3b2_Lr_mc_AKGC417L_1', '107_2b5_Pl_mc_AKGC417L_2', '172_2b5_Pr_mc_AKGC417L_3', '156_5b3_Lr_mc_AKGC417L_1', '163_8b3_Al_mc_AKGC417L_3', '144_1b1_Al_sc_Meditron_3', '134_2b1_Ar_mc_LittC2SE_2', '207_2b2_Tc_mc_AKGC417L_3', '120_1b1_Al_sc_Meditron_6', '135_2b2_Tc_mc_LittC2SE_3', '186_2b2_Al_mc_AKGC417L_3', '170_1b3_Pr_mc_AKGC417L_1', '186_3b3_Lr_mc_AKGC417L_2', '124_1b1_Al_sc_Litt3200_1', '200_2p4_Al_mc_AKGC417L_1', '186_2b3_Ar_mc_AKGC417L_3', '195_1b1_Lr_sc_Litt3200_2', '107_2b4_Ar_mc_AKGC417L_2', '146_8p3_Pr_mc_AKGC417L_2', '200_2p3_Ar_mc_AKGC417L_3', '186_2b2_Pr_mc_AKGC417L_3', '222_1b1_Pr_sc_Meditron_6', '216_1b1_Al_sc_Meditron_2', '160_1b3_Tc_mc_AKGC417L_3', '163_2b2_Ar_mc_AKGC417L_2', '118_1b1_Ar_sc_Litt3200_1', '218_1b1_Pr_sc_Meditron_4', '130_3p2_Pr_mc_AKGC417L_3', '162_1b2_Ar_mc_AKGC417L_2', '207_2b3_Ar_mc_AKGC417L_2', '137_1b1_Ar_sc_Meditron_2', '158_1p2_Al_mc_AKGC417L_1', '186_3b3_Pr_mc_AKGC417L_3', '202_1b1_Ar_sc_Meditron_2', '113_1b1_Pr_sc_Litt3200_3', '106_2b1_Pl_mc_LittC2SE_2', '192_2b3_Ar_mc_LittC2SE_3', '162_2b2_Al_mc_AKGC417L_3', '201_1b1_Al_sc_Meditron_2', '174_1p4_Lr_mc_AKGC417L_1', '218_1b1_Al_sc_Meditron_10', '207_2b2_Pl_mc_AKGC417L_2', '203_1p2_Lr_mc_AKGC417L_3', '157_1b1_Pr_sc_Meditron_8', '203_1p2_Ar_mc_AKGC417L_2', '138_2p2_Pr_mc_AKGC417L_1', '130_2b2_Lr_mc_AKGC417L_3', '207_3b2_Pr_mc_AKGC417L_1', '218_1b1_Pr_sc_Meditron_5', '138_2p2_Tc_mc_AKGC417L_3', '117_1b2_Tc_mc_LittC2SE_2', '170_1b3_Pr_mc_AKGC417L_2', '174_2p3_Al_mc_AKGC417L_3', '103_2b2_Ar_mc_LittC2SE_1', '130_3p2_Ar_mc_AKGC417L_3', '150_1b2_Al_sc_Meditron_3', '180_1b4_Pl_mc_AKGC417L_2', '188_1b1_Pl_sc_Meditron_1', '145_3b2_Ar_mc_AKGC417L_3', '172_1b3_Pl_mc_AKGC417L_2', '107_2b5_Tc_mc_AKGC417L_2', '160_1b4_Pl_mc_AKGC417L_3', '172_1b5_Lr_mc_AKGC417L_1', '207_3b2_Tc_mc_AKGC417L_1', '151_3p2_Al_mc_AKGC417L_2', '172_1b4_Al_mc_AKGC417L_3', '203_2p3_Al_mc_AKGC417L_2', '122_2b1_Tc_mc_LittC2SE_1', '120_1b1_Ar_sc_Meditron_8', '140_2b2_Tc_mc_LittC2SE_1', '130_1p4_Ar_mc_AKGC417L_2', '130_1p4_Ll_mc_AKGC417L_1', '163_8b3_Lr_mc_AKGC417L_1', '157_1b1_Pl_sc_Meditron_6', '207_2b3_Tc_mc_AKGC417L_2', '120_1b1_Ar_sc_Meditron_2', '166_1p1_Al_sc_Meditron_6', '201_1b1_Ar_sc_Meditron_1', '218_1b1_Lr_sc_Meditron_10', '141_1b2_Lr_mc_LittC2SE_3', '193_7b3_Ar_mc_AKGC417L_2', '110_1b1_Pr_sc_Meditron_3', '173_1b1_Al_sc_Meditron_1', '198_1b5_Pl_mc_AKGC417L_2', '113_1b1_Pr_sc_Litt3200_1', '170_1b4_Al_mc_AKGC417L_3', '200_2p4_Al_mc_AKGC417L_2', '170_2b2_Lr_mc_AKGC417L_1', '172_2b5_Tc_mc_AKGC417L_1', '186_2b4_Ar_mc_AKGC417L_3', '186_3b3_Tc_mc_AKGC417L_1', '178_2b2_Pr_mc_AKGC417L_1', '158_1p2_Pl_mc_AKGC417L_3', '160_2b4_Ar_mc_AKGC417L_2', '172_1b5_Al_mc_AKGC417L_2', '186_2b2_Ar_mc_AKGC417L_1', '158_1p4_Pr_mc_AKGC417L_2', '218_1b1_Al_sc_Meditron_6', '222_1b1_Lr_sc_Meditron_2', '205_4b2_Ar_mc_AKGC417L_3', '198_6p1_Tc_mc_AKGC417L_1', '219_2b2_Tc_mc_LittC2SE_2', '162_1b2_Al_mc_AKGC417L_1', '218_1p1_Ar_sc_Litt3200_4', '203_2p3_Pr_mc_AKGC417L_2', '162_2b2_Pr_mc_AKGC417L_1', '120_1b1_Lr_sc_Meditron_5', '200_2p4_Pl_mc_AKGC417L_2', '156_5b3_Al_mc_AKGC417L_3', '151_2p2_Ll_mc_AKGC417L_3', '130_1p2_Tc_mc_AKGC417L_3', '120_1b1_Pr_sc_Meditron_4', '140_2b2_Ll_mc_LittC2SE_2', '186_2b4_Tc_mc_AKGC417L_1', '213_1p5_Pl_mc_AKGC417L_3', '158_1p3_Al_mc_AKGC417L_2', '130_3b4_Ar_mc_AKGC417L_1', '197_1b1_Al_sc_Meditron_2', '193_7b3_Al_mc_AKGC417L_1', '130_1p3_Tc_mc_AKGC417L_3', '163_8b3_Ar_mc_AKGC417L_1', '178_1b3_Lr_mc_AKGC417L_2', '176_1b3_Pr_mc_AKGC417L_3', '110_1p1_Lr_sc_Meditron_5', '162_2b3_Ar_mc_AKGC417L_3', '126_1b1_Al_sc_Meditron_1', '133_3p4_Tc_mc_AKGC417L_3', '177_1b2_Al_mc_AKGC417L_1', '170_1b4_Ar_mc_AKGC417L_2', '221_2b1_Pl_mc_LittC2SE_2', '186_2b4_Pr_mc_AKGC417L_3', '141_1b2_Tc_mc_LittC2SE_1', '146_2b4_Lr_mc_AKGC417L_3', '170_1b4_Pr_mc_AKGC417L_2', '186_2b2_Pr_mc_AKGC417L_2', '114_1b4_Al_mc_AKGC417L_1', '223_1b1_Pr_sc_Meditron_3', '203_2p3_Ar_mc_AKGC417L_3', '205_4b2_Pr_mc_AKGC417L_3', '178_1b2_Al_mc_AKGC417L_3', '149_1b1_Lr_sc_Meditron_2', '200_2p3_Pr_mc_AKGC417L_3', '197_1b1_Tc_sc_Meditron_1', '218_1b1_Ar_sc_Meditron_10', '170_1b3_Pr_mc_AKGC417L_3', '219_2b2_Ar_mc_LittC2SE_2', '176_2b3_Tc_mc_AKGC417L_1', '170_1b4_Lr_mc_AKGC417L_2', '130_3b4_Al_mc_AKGC417L_2', '193_7b3_Ll_mc_AKGC417L_2', '130_1p2_Al_mc_AKGC417L_2', '107_3p2_Pr_mc_AKGC417L_1', '200_2p4_Pr_mc_AKGC417L_2', '204_2b5_Ar_mc_AKGC417L_3', '203_1p3_Pl_mc_AKGC417L_1', '151_3p2_Pl_mc_AKGC417L_1', '110_1p1_Ll_sc_Meditron_1', '130_1p4_Pr_mc_AKGC417L_1', '158_1p2_Pr_mc_AKGC417L_3', '178_1b2_Lr_mc_AKGC417L_3', '158_1p3_Ar_mc_AKGC417L_1', '154_4b4_Ll_mc_AKGC417L_3', '174_1p3_Pl_mc_AKGC417L_1', '166_1p1_Pl_sc_Meditron_9', '109_1b1_Ar_sc_Litt3200_2', '138_1p2_Tc_mc_AKGC417L_2', '193_1b4_Lr_mc_AKGC417L_3', '176_1b3_Ar_mc_AKGC417L_2', '223_1b1_Lr_sc_Meditron_2', '219_2b1_Ar_mc_LittC2SE_3', '130_2b4_Al_mc_AKGC417L_3', '133_2p4_Pr_mc_AKGC417L_2', '130_1p2_Ll_mc_AKGC417L_2', '163_2b2_Lr_mc_AKGC417L_2', '154_2b4_Al_mc_AKGC417L_2', '221_2b1_Ar_mc_LittC2SE_2', '176_2b3_Ll_mc_AKGC417L_2', '114_1b4_Lr_mc_AKGC417L_2', '156_2b3_Pr_mc_AKGC417L_1', '177_1b4_Pr_mc_AKGC417L_3', '138_1p3_Pl_mc_AKGC417L_3', '133_2p3_Pl_mc_AKGC417L_3', '174_1p2_Tc_mc_AKGC417L_2', '140_2b2_Tc_mc_LittC2SE_3', '101_1b1_Pr_sc_Meditron_1', '135_2b1_Pl_mc_LittC2SE_2', '110_1b1_Pr_sc_Meditron_6', '158_1p4_Pr_mc_AKGC417L_3', '223_1b1_Ll_sc_Meditron_2', '163_8b3_Pl_mc_AKGC417L_1', '181_1b2_Ar_mc_LittC2SE_3', '130_1p2_Lr_mc_AKGC417L_2', '154_2b4_Lr_mc_AKGC417L_3', '124_1b1_Ll_sc_Litt3200_2', '173_1b1_Al_sc_Meditron_2', '186_2b3_Pr_mc_AKGC417L_1', '196_1b1_Pr_sc_Meditron_2', '147_2b4_Lr_mc_AKGC417L_3', '215_1b3_Tc_sc_Meditron_2', '154_1b3_Lr_mc_AKGC417L_2', '195_1b1_Pr_sc_Litt3200_5', '212_2b2_Tc_mc_LittC2SE_1', '213_1p2_Lr_mc_AKGC417L_3', '172_1b3_Pl_mc_AKGC417L_3', '204_7p5_Tc_mc_AKGC417L_2', '193_1b2_Tc_mc_AKGC417L_2', '145_3b4_Pl_mc_AKGC417L_3', '170_1b2_Pr_mc_AKGC417L_1', '198_6p1_Al_mc_AKGC417L_3', '204_7p5_Tc_mc_AKGC417L_1', '178_1b2_Pl_mc_AKGC417L_1', '124_1b1_Ar_sc_Litt3200_2', '220_1b1_Tc_mc_LittC2SE_2', '110_1p1_Pr_sc_Meditron_3', '109_1b1_Ar_sc_Litt3200_1', '226_1b1_Ll_sc_Meditron_3', '162_1b2_Ll_mc_AKGC417L_1', '126_1b1_Al_sc_Meditron_2', '107_2b3_Ar_mc_AKGC417L_1', '186_2b2_Pl_mc_AKGC417L_3', '166_1p1_Al_sc_Meditron_2', '174_1p4_Pl_mc_AKGC417L_1', '160_1b4_Ar_mc_AKGC417L_1', '170_2b2_Ar_mc_AKGC417L_1', '107_2b3_Tc_mc_AKGC417L_1', '138_1p4_Lr_mc_AKGC417L_3', '176_2b3_Pr_mc_AKGC417L_1', '130_3p2_Tc_mc_AKGC417L_1', '174_1p2_Lr_mc_AKGC417L_1', '177_1b4_Lr_mc_AKGC417L_3', '133_2p3_Tc_mc_AKGC417L_2', '160_2b4_Tc_mc_AKGC417L_1', '206_1b1_Pl_sc_Meditron_1', '172_1b5_Ll_mc_AKGC417L_3', '204_2b5_Ll_mc_AKGC417L_3', '221_2b3_Al_mc_LittC2SE_2', '154_4b4_Pr_mc_AKGC417L_3', '130_2b4_Al_mc_AKGC417L_1', '151_3p2_Pl_mc_AKGC417L_3', '179_1b1_Al_sc_Meditron_2', '152_1b1_Al_sc_Meditron_3', '158_1p2_Lr_mc_AKGC417L_2', '104_1b1_Lr_sc_Litt3200_3', '203_1p2_Tc_mc_AKGC417L_1', '198_1b5_Al_mc_AKGC417L_3', '175_1b1_Lr_sc_Litt3200_2', '177_1b2_Ar_mc_AKGC417L_3', '178_1b2_Pr_mc_AKGC417L_1', '146_2b4_Ll_mc_AKGC417L_3', '176_2b3_Tc_mc_AKGC417L_3', '198_6p1_Lr_mc_AKGC417L_1', '222_1b1_Ar_sc_Meditron_11', '177_1b4_Tc_mc_AKGC417L_1', '133_2p4_Tc_mc_AKGC417L_3', '162_2b4_Al_mc_AKGC417L_1', '135_2b3_Pl_mc_LittC2SE_2', '174_1p4_Ll_mc_AKGC417L_2', '138_2p2_Pl_mc_AKGC417L_3', '166_1p1_Al_sc_Meditron_7', '166_1p1_Ll_sc_Meditron_6', '205_4b2_Al_mc_AKGC417L_2', '130_3p2_Al_mc_AKGC417L_3', '157_1b1_Pl_sc_Meditron_2', '198_1b5_Pl_mc_AKGC417L_1', '186_2b3_Al_mc_AKGC417L_3', '208_1b1_Ll_sc_Meditron_3', '111_1b2_Tc_sc_Meditron_2', '113_1b1_Ll_sc_Litt3200_3', '178_1b2_Tc_mc_AKGC417L_2', '154_2b4_Ll_mc_AKGC417L_3', '218_1p1_Pr_sc_Litt3200_3', '141_1b1_Pr_mc_LittC2SE_2', '170_2b2_Lr_mc_AKGC417L_3', '205_4b2_Pl_mc_AKGC417L_2', '107_2b5_Lr_mc_AKGC417L_3', '132_2b2_Lr_mc_LittC2SE_1', '158_2p3_Lr_mc_AKGC417L_2', '138_1p2_Pl_mc_AKGC417L_3', '112_1b1_Ar_sc_Meditron_5', '207_2b2_Pr_mc_AKGC417L_3', '121_1p1_Tc_sc_Meditron_1', '217_1b1_Tc_sc_Meditron_1', '151_2p2_Tc_mc_AKGC417L_3', '198_6p1_Al_mc_AKGC417L_2', '140_2b2_Ll_mc_LittC2SE_1', '138_2p2_Ll_mc_AKGC417L_2', '213_2p2_Ar_mc_AKGC417L_3', '186_2b3_Tc_mc_AKGC417L_3', '154_2b4_Tc_mc_AKGC417L_1', '151_2p3_Pl_mc_AKGC417L_1', '147_2b3_Lr_mc_AKGC417L_3', '154_2b4_Lr_mc_AKGC417L_2', '113_1b1_Ll_sc_Litt3200_2', '130_2b2_Al_mc_AKGC417L_3', '122_2b3_Ar_mc_LittC2SE_1', '160_2b3_Lr_mc_AKGC417L_2', '177_1b2_Lr_mc_AKGC417L_1', '198_1b5_Al_mc_AKGC417L_1', '213_1p2_Pr_mc_AKGC417L_3', '193_1b2_Al_mc_AKGC417L_2', '212_2b2_Tc_mc_LittC2SE_2', '170_1b3_Pl_mc_AKGC417L_3', '154_3b3_Ar_mc_AKGC417L_2', '135_2b2_Al_mc_LittC2SE_3', '112_1p1_Pl_sc_Litt3200_4', '158_1p2_Pr_mc_AKGC417L_2', '179_1b1_Al_sc_Meditron_3', '207_3b2_Lr_mc_AKGC417L_2', '133_2p4_Tc_mc_AKGC417L_1', '175_1b1_Al_sc_Litt3200_3', '158_1p3_Al_mc_AKGC417L_1', '174_1p4_Pr_mc_AKGC417L_3', '159_1b1_Al_sc_Meditron_2', '176_1b4_Tc_mc_AKGC417L_1', '193_7b3_Pl_mc_AKGC417L_1', '161_1b1_Pl_sc_Meditron_2', '203_1p3_Al_mc_AKGC417L_1', '138_1p2_Ll_mc_AKGC417L_3', '107_2b3_Ll_mc_AKGC417L_1', '143_1b1_Al_sc_Meditron_3', '226_1b1_Al_sc_Meditron_1', '200_2p3_Pr_mc_AKGC417L_1', '200_2p2_Ar_mc_AKGC417L_3', '133_3p2_Al_mc_AKGC417L_2', '213_2p2_Tc_mc_AKGC417L_3', '200_2p4_Tc_mc_AKGC417L_2', '157_1b1_Al_sc_Meditron_6', '147_1b2_Tc_mc_AKGC417L_3', '130_1p4_Tc_mc_AKGC417L_1', '218_1b1_Al_sc_Meditron_8', '200_3p4_Tc_mc_AKGC417L_1', '166_1p1_Pl_sc_Meditron_8', '130_3p2_Ar_mc_AKGC417L_2', '130_2p5_Ar_mc_AKGC417L_1', '217_1b1_Tc_sc_Meditron_2', '130_1p2_Ll_mc_AKGC417L_3', '185_1b1_Al_sc_Litt3200_1', '147_2b3_Ll_mc_AKGC417L_1', '175_1b1_Al_sc_Litt3200_2', '133_2p2_Ar_mc_AKGC417L_1', '130_2b4_Pl_mc_AKGC417L_2', '200_3p4_Al_mc_AKGC417L_2', '176_1b3_Ll_mc_AKGC417L_3', '156_8b3_Al_mc_AKGC417L_2', '120_1b1_Ar_sc_Meditron_7', '160_1b2_Pl_mc_AKGC417L_1', '138_1p3_Pr_mc_AKGC417L_3', '157_1b1_Lr_sc_Meditron_6', '113_1b1_Pr_sc_Litt3200_2', '192_2b1_Ar_mc_LittC2SE_1', '163_2b2_Ll_mc_AKGC417L_1', '134_2b1_Ar_mc_LittC2SE_1', '177_2b4_Lr_mc_AKGC417L_3', '146_8p3_Lr_mc_AKGC417L_3', '156_8b3_Lr_mc_AKGC417L_2', '130_1p3_Lr_mc_AKGC417L_2', '200_3p4_Tc_mc_AKGC417L_2', '184_1b1_Ar_sc_Meditron_3', '174_1p2_Pl_mc_AKGC417L_2', '215_1b3_Tc_sc_Meditron_3', '216_1b1_Pl_sc_Meditron_3', '158_1p4_Tc_mc_AKGC417L_1', '185_1b1_Ar_sc_Litt3200_1', '122_2b2_Al_mc_LittC2SE_3', '154_3b3_Ll_mc_AKGC417L_1', '172_1b3_Ar_mc_AKGC417L_1', '176_2b3_Lr_mc_AKGC417L_1', '218_1b1_Pr_sc_Meditron_1', '218_1b1_Pl_sc_Meditron_8', '158_1b3_Ar_mc_LittC2SE_1', '158_2p3_Tc_mc_AKGC417L_3', '222_1b1_Lr_sc_Meditron_3', '151_2p4_Tc_mc_AKGC417L_2', '195_1b1_Ar_sc_Litt3200_2', '147_1b3_Tc_mc_AKGC417L_2', '160_1b3_Lr_mc_AKGC417L_1', '213_2p2_Pl_mc_AKGC417L_1', '192_2b2_Ar_mc_LittC2SE_2', '162_2b3_Al_mc_AKGC417L_2', '204_2b5_Al_mc_AKGC417L_2', '200_2p2_Pl_mc_AKGC417L_3', '138_1p3_Pr_mc_AKGC417L_2', '174_2p3_Pr_mc_AKGC417L_3', '191_2b2_Tc_mc_LittC2SE_1', '156_8b3_Lr_mc_AKGC417L_3', '109_1b1_Al_sc_Litt3200_3', '172_1b5_Pr_mc_AKGC417L_1', '166_1p1_Ll_sc_Meditron_8', '130_3p4_Tc_mc_AKGC417L_1', '114_1b4_Ar_mc_AKGC417L_2', '205_4b2_Pl_mc_AKGC417L_1', '162_1b2_Ll_mc_AKGC417L_3', '207_2b4_Ar_mc_AKGC417L_2', '156_2b3_Ar_mc_AKGC417L_1', '182_1b1_Tc_sc_Meditron_3', '130_2b3_Lr_mc_AKGC417L_2', '135_2b2_Al_mc_LittC2SE_1', '106_2b1_Pr_mc_LittC2SE_2', '177_1b4_Pr_mc_AKGC417L_1', '130_3b4_Pr_mc_AKGC417L_2', '180_1b4_Al_mc_AKGC417L_1', '185_1b1_Ar_sc_Litt3200_2', '110_1b1_Pr_sc_Meditron_1', '154_4b4_Ll_mc_AKGC417L_1', '208_1b1_Ll_sc_Meditron_2', '169_1b1_Lr_sc_Meditron_2', '107_3p2_Ll_mc_AKGC417L_1', '154_2b4_Pl_mc_AKGC417L_1', '113_1b1_Pl_sc_Litt3200_1', '193_7b3_Pl_mc_AKGC417L_3', '193_7b3_Lr_mc_AKGC417L_2', '194_1b1_Pr_sc_Meditron_2', '110_1p1_Ll_sc_Meditron_2', '130_3b3_Ll_mc_AKGC417L_2', '207_2b2_Tc_mc_AKGC417L_1', '130_2p5_Al_mc_AKGC417L_1', '122_2b2_Ar_mc_LittC2SE_3', '157_1b1_Ar_sc_Meditron_2', '157_1b1_Pl_sc_Meditron_10', '178_1b3_Pl_mc_AKGC417L_2', '226_1b1_Pl_sc_LittC2SE_3', '174_1p4_Ll_mc_AKGC417L_3', '172_2b5_Pl_mc_AKGC417L_2', '170_1b3_Al_mc_AKGC417L_2', '114_1b4_Ar_mc_AKGC417L_1', '101_1b1_Al_sc_Meditron_2', '198_1b5_Al_mc_AKGC417L_2', '154_1b3_Al_mc_AKGC417L_3', '158_1p4_Pr_mc_AKGC417L_1', '121_1b1_Tc_sc_Meditron_2', '135_2b2_Ar_mc_LittC2SE_3', '191_2b2_Tc_mc_LittC2SE_3', '200_2p4_Pl_mc_AKGC417L_3', '201_1b3_Al_sc_Meditron_2', '133_2p3_Pr_mc_AKGC417L_3', '135_2b3_Pr_mc_LittC2SE_2', '160_1b4_Lr_mc_AKGC417L_2', '160_1b4_Pl_mc_AKGC417L_1', '147_2b4_Ar_mc_AKGC417L_1', '213_1p3_Ar_mc_AKGC417L_3', '138_2p2_Tc_mc_AKGC417L_1', '125_1b1_Tc_sc_Meditron_2', '107_2b5_Ar_mc_AKGC417L_1', '166_1p1_Ll_sc_Meditron_9', '138_1p3_Al_mc_AKGC417L_2', '151_2p3_Lr_mc_AKGC417L_2', '157_1b1_Pl_sc_Meditron_3', '205_4b2_Lr_mc_AKGC417L_2', '151_2p2_Ar_mc_AKGC417L_2', '177_2b4_Pl_mc_AKGC417L_2', '176_1b4_Tc_mc_AKGC417L_3', '207_2b3_Al_mc_AKGC417L_3', '195_1b1_Pr_sc_Litt3200_3', '151_2p2_Lr_mc_AKGC417L_3', '158_1p4_Pl_mc_AKGC417L_3', '172_1b4_Ar_mc_AKGC417L_2', '160_1b3_Ar_mc_AKGC417L_2', '151_2p2_Al_mc_AKGC417L_1', '172_1b5_Pl_mc_AKGC417L_3', '118_1b1_Ll_sc_Litt3200_2', '162_2b2_Tc_mc_AKGC417L_3', '162_2b3_Al_mc_AKGC417L_1', '180_1b4_Ar_mc_AKGC417L_2', '130_2b3_Pl_mc_AKGC417L_3', '218_1p1_Ar_sc_Litt3200_3', '107_3p2_Ll_mc_AKGC417L_2', '138_1p2_Tc_mc_AKGC417L_1', '193_1b2_Ll_mc_AKGC417L_1', '192_2b3_Al_mc_LittC2SE_3', '106_2b1_Pl_mc_LittC2SE_3', '133_2p4_Pl_mc_AKGC417L_2', '143_1b1_Al_sc_Meditron_1', '211_1p2_Pl_mc_AKGC417L_2', '133_3p4_Tc_mc_AKGC417L_1', '163_8b3_Pr_mc_AKGC417L_3', '162_2b3_Lr_mc_AKGC417L_3', '112_1p1_Ll_sc_Litt3200_3', '158_1p2_Ll_mc_AKGC417L_3', '175_1b1_Ar_sc_Litt3200_3', '216_1b1_Al_sc_Meditron_1', '145_2b2_Lr_mc_AKGC417L_2', '176_1b4_Lr_mc_AKGC417L_1', '176_1b3_Lr_mc_AKGC417L_3', '107_3p2_Ar_mc_AKGC417L_2', '110_1p1_Pr_sc_Meditron_7', '130_1p3_Ar_mc_AKGC417L_2', '218_1b1_Ar_sc_Meditron_1', '218_1b1_Lr_sc_Meditron_11', '218_1b1_Pr_sc_Meditron_10', '162_1b2_Lr_mc_AKGC417L_2', '116_1b2_Tc_sc_Meditron_3', '207_2b4_Al_mc_AKGC417L_1', '109_1b1_Pl_sc_Litt3200_1', '198_1b5_Pl_mc_AKGC417L_3', '162_2b4_Pr_mc_AKGC417L_1', '110_1p1_Pr_sc_Meditron_5', '130_2b2_Ll_mc_AKGC417L_3', '138_1p4_Ar_mc_AKGC417L_2', '204_7p5_Lr_mc_AKGC417L_1', '183_1b1_Pl_sc_Meditron_1', '138_1p2_Pl_mc_AKGC417L_1', '170_1b2_Lr_mc_AKGC417L_2', '151_2p4_Ll_mc_AKGC417L_1', '134_2b3_Ar_mc_LittC2SE_2', '221_2b1_Ar_mc_LittC2SE_3', '185_1b1_Pr_sc_Litt3200_2', '174_1p3_Ll_mc_AKGC417L_2', '158_1p3_Ll_mc_AKGC417L_3', '128_1b3_Tc_mc_LittC2SE_1', '213_2p2_Al_mc_AKGC417L_3', '188_1b1_Ar_sc_Meditron_1', '112_1b1_Ar_sc_Meditron_3', '186_2b3_Ar_mc_AKGC417L_2', '213_2p2_Al_mc_AKGC417L_1', '133_2p2_Al_mc_AKGC417L_1', '198_6p1_Ar_mc_AKGC417L_1', '151_2p4_Pl_mc_AKGC417L_2', '226_1b1_Pl_sc_LittC2SE_2', '219_2b2_Tc_mc_LittC2SE_3', '183_1b1_Tc_sc_Meditron_2', '197_1b1_Tc_sc_Meditron_3', '110_1p1_Al_sc_Meditron_4', '132_2b2_Lr_mc_LittC2SE_2', '162_2b4_Tc_mc_AKGC417L_2', '203_1p2_Ar_mc_AKGC417L_1', '224_1b1_Tc_sc_Meditron_2', '170_1b4_Tc_mc_AKGC417L_2', '222_1b1_Ar_sc_Meditron_2', '110_1b1_Pr_sc_Meditron_5', '207_3b2_Tc_mc_AKGC417L_3', '172_1b4_Ll_mc_AKGC417L_2', '162_2b2_Al_mc_AKGC417L_2', '189_1b2_Lr_mc_LittC2SE_1', '203_1p4_Tc_mc_AKGC417L_3', '210_1b1_Ar_sc_Meditron_3', '160_1b3_Pr_mc_AKGC417L_2', '170_1b2_Pl_mc_AKGC417L_1', '170_2b2_Pl_mc_AKGC417L_1', '158_1p3_Lr_mc_AKGC417L_2', '162_2b2_Tc_mc_AKGC417L_1', '170_2b2_Lr_mc_AKGC417L_2', '174_1p2_Pl_mc_AKGC417L_1', '158_1p4_Al_mc_AKGC417L_1', '222_1b1_Lr_sc_Meditron_7', '147_2b3_Pl_mc_AKGC417L_1', '154_2b4_Ar_mc_AKGC417L_1', '130_2b4_Ll_mc_AKGC417L_3', '130_1p2_Ar_mc_AKGC417L_2', '180_1b4_Pr_mc_AKGC417L_3', '130_2b2_Ll_mc_AKGC417L_1', '151_2p2_Pr_mc_AKGC417L_3', '151_2p2_Ll_mc_AKGC417L_2', '130_3b4_Pl_mc_AKGC417L_3', '124_1b1_Pr_sc_Litt3200_2', '154_3b3_Al_mc_AKGC417L_3', '200_2p4_Lr_mc_AKGC417L_3', '122_2b2_Al_mc_LittC2SE_2', '172_1b4_Tc_mc_AKGC417L_2', '207_2b2_Tc_mc_AKGC417L_2', '130_2b2_Pr_mc_AKGC417L_1', '200_2p3_Tc_mc_AKGC417L_3', '141_1b3_Pr_mc_LittC2SE_3', '135_2b3_Ar_mc_LittC2SE_1', '107_2b5_Lr_mc_AKGC417L_1', '130_1p2_Ll_mc_AKGC417L_1', '170_2b2_Tc_mc_AKGC417L_3', '146_8p3_Pr_mc_AKGC417L_1', '174_1p4_Tc_mc_AKGC417L_2', '218_1b1_Ar_sc_Meditron_4', '160_2b4_Tc_mc_AKGC417L_3', '178_1b2_Pr_mc_AKGC417L_3', '120_1b1_Ar_sc_Meditron_3', '178_2b2_Tc_mc_AKGC417L_3', '221_2b2_Lr_mc_LittC2SE_1', '112_1b1_Lr_sc_Meditron_1', '178_1b6_Ar_mc_AKGC417L_1', '200_2p3_Lr_mc_AKGC417L_2', '110_1p1_Pr_sc_Meditron_8', '135_2b2_Al_mc_LittC2SE_2', '207_2b2_Ar_mc_AKGC417L_3', '132_2b2_Lr_mc_LittC2SE_3', '174_2p3_Tc_mc_AKGC417L_2', '223_1b1_Lr_sc_Meditron_3', '154_4b4_Ar_mc_AKGC417L_1', '224_1b2_Al_sc_Meditron_3', '204_7p5_Pr_mc_AKGC417L_3', '157_1b1_Al_sc_Meditron_2', '204_7p5_Tc_mc_AKGC417L_3', '114_1b4_Al_mc_AKGC417L_2', '191_2b1_Pl_mc_LittC2SE_2', '130_1p4_Lr_mc_AKGC417L_1', '174_1p2_Lr_mc_AKGC417L_2', '156_2b3_Pl_mc_AKGC417L_1', '130_1p2_Pr_mc_AKGC417L_3', '178_2b2_Tc_mc_AKGC417L_1', '156_5b3_Al_mc_AKGC417L_2', '205_2b3_Ar_mc_AKGC417L_1', '205_4b2_Pl_mc_AKGC417L_3', '205_3b4_Al_mc_AKGC417L_1', '174_1p4_Ar_mc_AKGC417L_2', '130_2b4_Pl_mc_AKGC417L_1', '218_1p1_Ar_sc_Litt3200_1', '104_1b1_Ar_sc_Litt3200_4', '207_2b3_Pr_mc_AKGC417L_2', '186_2b2_Lr_mc_AKGC417L_2', '120_1b1_Pr_sc_Meditron_8', '151_2p2_Pl_mc_AKGC417L_3', '170_1b2_Tc_mc_AKGC417L_2', '188_1b1_Al_sc_Meditron_3', '201_1b2_Ar_sc_Meditron_1', '176_2b3_Ll_mc_AKGC417L_1', '176_1b4_Ll_mc_AKGC417L_1', '107_2b4_Pr_mc_AKGC417L_1', '159_1b1_Ar_sc_Meditron_1', '178_1b6_Tc_mc_AKGC417L_1', '138_1p3_Tc_mc_AKGC417L_1', '219_2b1_Ar_mc_LittC2SE_1', '218_1b1_Al_sc_Meditron_1', '154_2b4_Pr_mc_AKGC417L_3', '200_2p2_Al_mc_AKGC417L_2', '213_1p3_Al_mc_AKGC417L_3', '177_1b4_Ar_mc_AKGC417L_1', '172_1b4_Pr_mc_AKGC417L_1', '178_1b3_Ar_mc_AKGC417L_1', '205_1b3_Pl_mc_AKGC417L_3', '158_1p4_Al_mc_AKGC417L_2', '111_1b3_Tc_sc_Meditron_2', '122_2b3_Tc_mc_LittC2SE_3', '138_1p4_Ll_mc_AKGC417L_1', '203_1p2_Ar_mc_AKGC417L_3', '133_2p3_Pr_mc_AKGC417L_2', '130_1p2_Al_mc_AKGC417L_1', '198_1b5_Pr_mc_AKGC417L_1', '162_1b2_Lr_mc_AKGC417L_1', '181_1b1_Ar_mc_LittC2SE_3', '156_5b3_Lr_mc_AKGC417L_2', '186_2b2_Tc_mc_AKGC417L_2', '158_1p4_Pl_mc_AKGC417L_2', '177_2b4_Tc_mc_AKGC417L_1', '185_1b1_Lr_sc_Litt3200_1', '140_2b2_Ll_mc_LittC2SE_3', '154_4b4_Ar_mc_AKGC417L_3', '130_3p2_Al_mc_AKGC417L_1', '186_2b3_Pr_mc_AKGC417L_3', '177_2b4_Lr_mc_AKGC417L_2', '210_1b1_Al_sc_Meditron_1', '174_1p2_Pr_mc_AKGC417L_1', '186_2b2_Lr_mc_AKGC417L_3', '138_1p2_Lr_mc_AKGC417L_3', '195_1b1_Ar_sc_Litt3200_5', '156_8b3_Pl_mc_AKGC417L_3', '207_2b4_Tc_mc_AKGC417L_2', '186_3b3_Ar_mc_AKGC417L_1', '183_1b1_Tc_sc_Meditron_1', '181_1b1_Ar_mc_LittC2SE_1', '176_2b3_Pl_mc_AKGC417L_3', '172_2b5_Ar_mc_AKGC417L_1', '162_2b3_Tc_mc_AKGC417L_2', '204_7p5_Al_mc_AKGC417L_1', '193_1b4_Lr_mc_AKGC417L_2', '138_2p2_Al_mc_AKGC417L_3', '198_1b5_Lr_mc_AKGC417L_3', '215_1b2_Ar_sc_Meditron_3', '186_2b3_Tc_mc_AKGC417L_2', '172_2b5_Pl_mc_AKGC417L_1', '186_2b3_Pl_mc_AKGC417L_3', '135_2b1_Ar_mc_LittC2SE_1', '207_2b3_Tc_mc_AKGC417L_1', '177_1b4_Pr_mc_AKGC417L_2', '180_1b4_Pr_mc_AKGC417L_1', '130_1p2_Lr_mc_AKGC417L_1', '162_2b4_Pr_mc_AKGC417L_2', '213_2p2_Pl_mc_AKGC417L_3', '151_2p3_Pl_mc_AKGC417L_3', '176_1b4_Pl_mc_AKGC417L_1', '213_1p2_Al_mc_AKGC417L_1', '178_1b6_Pr_mc_AKGC417L_1', '171_1b1_Al_sc_Meditron_3', '138_1p3_Lr_mc_AKGC417L_3', '174_1p4_Lr_mc_AKGC417L_2', '135_2b1_Al_mc_LittC2SE_1', '176_1b3_Tc_mc_AKGC417L_2', '107_2b3_Al_mc_AKGC417L_1', '114_1b4_Pr_mc_AKGC417L_2', '178_1b3_Pr_mc_AKGC417L_2', '158_1p3_Pr_mc_AKGC417L_1', '222_1b1_Lr_sc_Meditron_1', '162_2b3_Ar_mc_AKGC417L_1', '203_1p4_Pr_mc_AKGC417L_2', '200_2p3_Lr_mc_AKGC417L_1', '130_1p3_Ar_mc_AKGC417L_3', '218_1b1_Ar_sc_Meditron_5', '104_1b1_Pl_sc_Litt3200_2', '174_1p4_Pr_mc_AKGC417L_2', '151_2p4_Pl_mc_AKGC417L_1', '204_7p5_Ar_mc_AKGC417L_1', '135_2b3_Tc_mc_LittC2SE_2', '160_1b2_Pr_mc_AKGC417L_2', '200_2p2_Lr_mc_AKGC417L_1', '174_2p3_Pr_mc_AKGC417L_1', '133_2p3_Al_mc_AKGC417L_1', '195_1b1_Pr_sc_Litt3200_2', '186_2b4_Al_mc_AKGC417L_1', '185_1b1_Pl_sc_Litt3200_3', '140_2b3_Ll_mc_LittC2SE_1', '162_2b4_Lr_mc_AKGC417L_2', '218_1b1_Pr_sc_Meditron_3', '160_2b3_Lr_mc_AKGC417L_3', '163_2b2_Pl_mc_AKGC417L_1', '130_1p4_Ll_mc_AKGC417L_3', '203_1p4_Tc_mc_AKGC417L_2', '207_3b2_Pl_mc_AKGC417L_2', '138_1p3_Al_mc_AKGC417L_1', '113_1b1_Ll_sc_Litt3200_1', '180_1b4_Ar_mc_AKGC417L_3', '170_1b2_Pl_mc_AKGC417L_3', '160_1b4_Ar_mc_AKGC417L_2', '177_1b4_Lr_mc_AKGC417L_2', '160_1b3_Al_mc_AKGC417L_3', '156_5b3_Ar_mc_AKGC417L_3', '135_2b1_Ar_mc_LittC2SE_2', '174_1p3_Lr_mc_AKGC417L_3', '195_1b1_Pl_sc_Litt3200_2', '178_2b2_Lr_mc_AKGC417L_1', '138_1p4_Tc_mc_AKGC417L_2', '185_1b1_Pl_sc_Litt3200_1', '207_2b2_Pl_mc_AKGC417L_1', '203_1p2_Lr_mc_AKGC417L_1', '158_2p2_Ar_mc_AKGC417L_3', '172_1b3_Pr_mc_AKGC417L_1', '186_2b4_Tc_mc_AKGC417L_3', '151_3p2_Tc_mc_AKGC417L_3', '200_2p3_Tc_mc_AKGC417L_2', '138_1p4_Ll_mc_AKGC417L_2', '193_1b2_Pl_mc_AKGC417L_1', '205_2b3_Al_mc_AKGC417L_3', '156_5b3_Pr_mc_AKGC417L_1', '130_1p4_Pl_mc_AKGC417L_1', '186_2b4_Tc_mc_AKGC417L_2', '178_1b2_Al_mc_AKGC417L_1', '213_1p3_Pr_mc_AKGC417L_1', '178_2b2_Ar_mc_AKGC417L_3', '200_2p2_Tc_mc_AKGC417L_1', '211_1p5_Ar_mc_AKGC417L_1', '122_2b3_Ar_mc_LittC2SE_2', '133_2p4_Pl_mc_AKGC417L_1', '149_1b1_Pl_sc_Meditron_3', '157_1b1_Pl_sc_Meditron_9', '172_1b3_Al_mc_AKGC417L_1', '205_3b4_Pr_mc_AKGC417L_2', '172_2b5_Ar_mc_AKGC417L_2', '158_1p2_Al_mc_AKGC417L_3', '177_1b2_Pr_mc_AKGC417L_1', '222_1b1_Pr_sc_Meditron_11', '131_1b1_Al_sc_Meditron_1', '174_1p3_Pr_mc_AKGC417L_2', '109_1b1_Ll_sc_Litt3200_3', '133_2p4_Ar_mc_AKGC417L_1', '151_3p3_Ll_mc_AKGC417L_3', '138_2p2_Ll_mc_AKGC417L_3', '120_1b1_Lr_sc_Meditron_9', '185_1b1_Pl_sc_Litt3200_2', '160_2b4_Pl_mc_AKGC417L_3', '107_2b4_Ll_mc_AKGC417L_3', '120_1b1_Pl_sc_Meditron_9', '109_1b1_Pr_sc_Litt3200_3', '213_1p2_Al_mc_AKGC417L_3', '151_2p3_Ar_mc_AKGC417L_3', '139_1b1_Lr_sc_Litt3200_2', '151_3p2_Tc_mc_AKGC417L_1', '218_1b1_Pl_sc_Meditron_3', '193_1b2_Ar_mc_AKGC417L_1', '218_1b1_Pl_sc_Meditron_7', '170_1b4_Al_mc_AKGC417L_1', '159_1b1_Ll_sc_Meditron_1', '222_1b1_Ar_sc_Meditron_7', '199_2b3_Ll_mc_LittC2SE_2', '107_2b3_Lr_mc_AKGC417L_2', '203_1p2_Pr_mc_AKGC417L_3', '161_1b1_Al_sc_Meditron_3', '130_3p4_Al_mc_AKGC417L_3', '198_6p1_Pr_mc_AKGC417L_1', '177_1b2_Pl_mc_AKGC417L_2', '138_1p3_Ll_mc_AKGC417L_2', '147_2b4_Pl_mc_AKGC417L_3', '135_2b3_Pl_mc_LittC2SE_1', '133_3p2_Pl_mc_AKGC417L_2', '130_2b3_Ll_mc_AKGC417L_2', '170_2b2_Pr_mc_AKGC417L_2', '188_1b1_Tc_sc_Meditron_1', '110_1p1_Pr_sc_Meditron_1', '130_2b4_Al_mc_AKGC417L_2', '193_7b3_Tc_mc_AKGC417L_3', '162_2b2_Pr_mc_AKGC417L_3', '186_3b3_Lr_mc_AKGC417L_3', '166_1p1_Pr_sc_Meditron_9', '135_2b1_Ar_mc_LittC2SE_3', '109_1b1_Lr_sc_Litt3200_1', '160_1b4_Tc_mc_AKGC417L_3', '151_2p4_Al_mc_AKGC417L_2', '130_1p2_Pl_mc_AKGC417L_2', '221_2b1_Ar_mc_LittC2SE_1', '213_1p2_Pl_mc_AKGC417L_3', '162_2b3_Tc_mc_AKGC417L_3', '130_2b3_Ar_mc_AKGC417L_2', '158_1p2_Tc_mc_AKGC417L_1', '170_1b2_Lr_mc_AKGC417L_3', '207_3b2_Lr_mc_AKGC417L_3', '204_7p5_Al_mc_AKGC417L_3', '120_1b1_Lr_sc_Meditron_4', '207_2b3_Al_mc_AKGC417L_2', '139_1b1_Ll_sc_Litt3200_2', '201_1b2_Al_sc_Meditron_1', '120_1b1_Lr_sc_Meditron_3', '164_1b1_Ll_sc_Meditron_3', '130_3p3_Tc_mc_AKGC417L_2', '154_2b4_Ll_mc_AKGC417L_1', '170_1b2_Pr_mc_AKGC417L_3', '199_2b1_Ll_mc_LittC2SE_2', '146_8p3_Pr_mc_AKGC417L_3', '178_1b6_Lr_mc_AKGC417L_1', '177_1b2_Pl_mc_AKGC417L_1', '200_2p4_Ar_mc_AKGC417L_2', '193_1b2_Al_mc_AKGC417L_3', '114_1b4_Al_mc_AKGC417L_3', '186_2b4_Pr_mc_AKGC417L_2', '211_2p3_Tc_mc_AKGC417L_2', '130_3p4_Pr_mc_AKGC417L_2', '112_1p1_Pl_sc_Litt3200_5', '147_2b3_Al_mc_AKGC417L_1', '174_1p4_Ar_mc_AKGC417L_1', '223_1b1_Pr_sc_Meditron_5', '200_2p3_Pr_mc_AKGC417L_2', '157_1b1_Al_sc_Meditron_3', '203_1p4_Pl_mc_AKGC417L_3', '110_1b1_Pr_sc_Meditron_11', '200_2p2_Pl_mc_AKGC417L_2', '107_3p2_Tc_mc_AKGC417L_1', '160_2b3_Lr_mc_AKGC417L_1', '114_1b4_Ar_mc_AKGC417L_3', '176_2b3_Ar_mc_AKGC417L_3', '162_2b3_Lr_mc_AKGC417L_1', '188_1b1_Pl_sc_Meditron_3', '223_1b1_Pl_sc_Meditron_3', '151_3p2_Lr_mc_AKGC417L_2', '203_1p4_Pr_mc_AKGC417L_3', '195_1b1_Ll_sc_Litt3200_3', '156_5b3_Ll_mc_AKGC417L_2', '218_1b1_Ar_sc_Meditron_2', '225_1b1_Pl_sc_Meditron_2', '178_1b2_Lr_mc_AKGC417L_2', '151_2p2_Al_mc_AKGC417L_3', '218_1p1_Pr_sc_Litt3200_1', '172_1b4_Pr_mc_AKGC417L_3', '207_2b4_Al_mc_AKGC417L_3', '221_2b2_Pl_mc_LittC2SE_3', '174_1p3_Tc_mc_AKGC417L_2', '185_1b1_Al_sc_Litt3200_2', '201_1b1_Ar_sc_Meditron_3', '147_1b3_Tc_mc_AKGC417L_1', '191_2b1_Pl_mc_LittC2SE_3', '180_1b4_Pl_mc_AKGC417L_3', '211_2p2_Tc_mc_AKGC417L_2', '130_3b4_Pl_mc_AKGC417L_1', '107_2b3_Al_mc_AKGC417L_3', '199_2b3_Ll_mc_LittC2SE_3', '130_1p3_Pr_mc_AKGC417L_1', '205_1b3_Pl_mc_AKGC417L_2', '156_8b3_Al_mc_AKGC417L_1', '223_1b1_Al_sc_Meditron_1', '107_2b4_Ll_mc_AKGC417L_1', '226_1b1_Al_sc_Meditron_3', '146_2b4_Ar_mc_AKGC417L_3', '174_2p3_Pl_mc_AKGC417L_2', '186_3b3_Al_mc_AKGC417L_2', '157_1b1_Pr_sc_Meditron_2', '156_2b3_Ll_mc_AKGC417L_1', '176_2b3_Al_mc_AKGC417L_3', '162_2b2_Pl_mc_AKGC417L_2', '147_1b2_Tc_mc_AKGC417L_2', '122_2b2_Ar_mc_LittC2SE_1', '138_2p2_Pl_mc_AKGC417L_1', '178_1b6_Pl_mc_AKGC417L_2', '205_2b4_Pl_mc_AKGC417L_3', '135_2b3_Ar_mc_LittC2SE_2', '146_8p3_Lr_mc_AKGC417L_2', '172_1b4_Tc_mc_AKGC417L_1', '113_1b1_Pr_sc_Litt3200_4', '154_1b3_Pr_mc_AKGC417L_3', '116_1b2_Pl_sc_Meditron_1', '154_2b4_Pr_mc_AKGC417L_2', '162_1b2_Ll_mc_AKGC417L_2', '138_2p2_Ar_mc_AKGC417L_3', '203_2p3_Pr_mc_AKGC417L_3', '193_1b2_Pl_mc_AKGC417L_3', '162_2b3_Pr_mc_AKGC417L_2', '130_2b2_Ar_mc_AKGC417L_3', '172_1b5_Tc_mc_AKGC417L_3', '198_6p1_Ll_mc_AKGC417L_2', '130_1p4_Al_mc_AKGC417L_2', '112_1p1_Pl_sc_Litt3200_3', '213_1p3_Pl_mc_AKGC417L_1', '114_1b4_Pr_mc_AKGC417L_3', '178_2b2_Al_mc_AKGC417L_1', '130_2b3_Tc_mc_AKGC417L_1', '147_2b2_Pl_mc_AKGC417L_1', '205_4b2_Ar_mc_AKGC417L_1', '146_2b4_Ll_mc_AKGC417L_1', '151_2p4_Tc_mc_AKGC417L_1', '115_1b1_Ar_sc_Meditron_1', '166_1p1_Pl_sc_Meditron_4', '112_1p1_Pr_sc_Litt3200_1', '154_1b3_Ll_mc_AKGC417L_1', '221_2b1_Lr_mc_LittC2SE_3', '137_1b1_Ll_sc_Meditron_3', '120_1b1_Pl_sc_Meditron_6', '107_3p2_Pr_mc_AKGC417L_2', '177_2b4_Al_mc_AKGC417L_1', '207_2b4_Ar_mc_AKGC417L_3', '135_2b1_Pl_mc_LittC2SE_3', '223_1b1_Pl_sc_Meditron_4', '162_2b3_Pl_mc_AKGC417L_3', '107_2b5_Pr_mc_AKGC417L_3', '130_2b3_Tc_mc_AKGC417L_2', '206_1b1_Ar_sc_Meditron_3', '145_2b2_Pr_mc_AKGC417L_1', '221_2b3_Pr_mc_LittC2SE_2', '179_1b1_Tc_sc_Meditron_1', '207_2b2_Al_mc_AKGC417L_3', '178_1b2_Pl_mc_AKGC417L_3', '175_1b1_Pl_sc_Litt3200_2', '203_2p3_Al_mc_AKGC417L_1', '138_1p3_Tc_mc_AKGC417L_2', '200_2p4_Tc_mc_AKGC417L_1', '162_2b4_Al_mc_AKGC417L_3', '157_1b1_Pl_sc_Meditron_1', '130_1p3_Pl_mc_AKGC417L_3', '204_7p5_Lr_mc_AKGC417L_2', '213_1p3_Al_mc_AKGC417L_2', '183_1b1_Pl_sc_Meditron_2', '121_1b1_Tc_sc_Meditron_3', '135_2b1_Tc_mc_LittC2SE_2', '141_1b2_Pr_mc_LittC2SE_3', '146_2b2_Pl_mc_AKGC417L_1', '106_2b1_Pr_mc_LittC2SE_1', '206_1b1_Lr_sc_Meditron_3', '172_1b4_Al_mc_AKGC417L_2', '157_1b1_Ar_sc_Meditron_3', '186_3b3_Ar_mc_AKGC417L_2', '151_2p3_Lr_mc_AKGC417L_1', '168_1b1_Al_sc_Meditron_1', '222_1b1_Pr_sc_Meditron_4', '151_3p2_Pr_mc_AKGC417L_3', '222_1b1_Pr_sc_Meditron_3', '170_1b3_Ll_mc_AKGC417L_2', '141_1b2_Ar_mc_LittC2SE_3', '218_1p1_Pl_sc_Litt3200_4', '142_1b1_Pl_mc_LittC2SE_1', '201_1b1_Al_sc_Meditron_1', '109_1b1_Pl_sc_Litt3200_3', '205_3b4_Pl_mc_AKGC417L_3', '120_1b1_Pr_sc_Meditron_3', '118_1b1_Ar_sc_Litt3200_3', '199_2b1_Ll_mc_LittC2SE_1', '170_2b2_Al_mc_AKGC417L_1', '120_1b1_Pl_sc_Meditron_2', '179_1b1_Tc_sc_Meditron_2', '156_8b3_Pl_mc_AKGC417L_2', '162_2b3_Ar_mc_AKGC417L_2', '120_1b1_Lr_sc_Meditron_7', '109_1b1_Lr_sc_Litt3200_2', '133_2p2_Ar_mc_AKGC417L_2', '110_1p1_Al_sc_Meditron_1', '192_2b3_Al_mc_LittC2SE_1', '198_1b5_Ar_mc_AKGC417L_2', '113_1b1_Ar_sc_Litt3200_2', '130_2p5_Ar_mc_AKGC417L_2', '174_2p3_Ar_mc_AKGC417L_1', '162_2b2_Ar_mc_AKGC417L_2', '218_1b1_Ar_sc_Meditron_6', '223_1b1_Ar_sc_Meditron_5', '107_2b3_Ll_mc_AKGC417L_2', '141_1b1_Pr_mc_LittC2SE_3', '219_2b2_Tc_mc_LittC2SE_1', '201_1b3_Ar_sc_Meditron_2', '133_2p3_Ar_mc_AKGC417L_2', '146_8p3_Al_mc_AKGC417L_2', '116_1b2_Tc_sc_Meditron_1', '166_1p1_Al_sc_Meditron_1', '157_1b1_Al_sc_Meditron_9', '224_1b1_Tc_sc_Meditron_3', '146_8p3_Ar_mc_AKGC417L_3', '118_1b1_Lr_sc_Litt3200_1', '154_1b3_Tc_mc_AKGC417L_3', '157_1b1_Pr_sc_Meditron_3', '142_1b1_Pl_mc_LittC2SE_3', '119_1b1_Ar_sc_Meditron_3', '218_1b1_Al_sc_Meditron_11', '147_2b4_Ar_mc_AKGC417L_2', '174_1p3_Lr_mc_AKGC417L_1', '203_1p3_Ar_mc_AKGC417L_3', '141_1b3_Al_mc_LittC2SE_2', '151_2p3_Pl_mc_AKGC417L_2', '213_1p5_Pr_mc_AKGC417L_2', '158_2p3_Lr_mc_AKGC417L_1', '180_1b4_Al_mc_AKGC417L_3', '200_2p4_Ar_mc_AKGC417L_1', '118_1b1_Pl_sc_Litt3200_2', '178_1b6_Pl_mc_AKGC417L_1', '213_2p2_Pr_mc_AKGC417L_3', '135_2b2_Pl_mc_LittC2SE_2', '191_2b1_Pr_mc_LittC2SE_1', '160_1b3_Al_mc_AKGC417L_2', '200_3p4_Ar_mc_AKGC417L_3', '120_1b1_Pl_sc_Meditron_3', '121_1p1_Tc_sc_Meditron_2', '205_3b4_Pl_mc_AKGC417L_2', '176_1b4_Lr_mc_AKGC417L_2', '151_2p2_Ar_mc_AKGC417L_1', '160_1b4_Lr_mc_AKGC417L_3', '146_8p3_Lr_mc_AKGC417L_1', '157_1b1_Pl_sc_Meditron_5', '145_2b2_Lr_mc_AKGC417L_3', '147_2b4_Ll_mc_AKGC417L_2', '130_3p3_Pr_mc_AKGC417L_3', '213_1p2_Lr_mc_AKGC417L_2', '130_2b3_Ar_mc_AKGC417L_1', '157_1b1_Ar_sc_Meditron_10', '192_2b2_Ar_mc_LittC2SE_1', '203_1p2_Al_mc_AKGC417L_3', '186_2b3_Ar_mc_AKGC417L_1', '203_2p3_Tc_mc_AKGC417L_3', '175_1b1_Ar_sc_Litt3200_2', '181_1b1_Tc_mc_LittC2SE_3', '109_1b1_Pr_sc_Litt3200_4', '203_1p4_Pr_mc_AKGC417L_1', '200_2p2_Ar_mc_AKGC417L_1', '172_1b4_Ll_mc_AKGC417L_1', '219_2b1_Tc_mc_LittC2SE_1', '166_1p1_Ll_sc_Meditron_1', '198_1b5_Ll_mc_AKGC417L_1', '204_2b5_Al_mc_AKGC417L_1', '195_1b1_Ar_sc_Litt3200_1', '135_2b2_Ar_mc_LittC2SE_2', '133_2p4_Tc_mc_AKGC417L_2', '188_1b1_Al_sc_Meditron_1', '198_1b5_Pr_mc_AKGC417L_3', '166_1p1_Pl_sc_Meditron_7', '205_1b3_Al_mc_AKGC417L_1', '200_2p3_Al_mc_AKGC417L_1', '135_2b1_Al_mc_LittC2SE_3', '195_1b1_Al_sc_Litt3200_4', '183_1b1_Tc_sc_Meditron_3', '130_1p2_Al_mc_AKGC417L_3', '133_2p2_Ar_mc_AKGC417L_3', '162_2b4_Pr_mc_AKGC417L_3', '130_3p4_Tc_mc_AKGC417L_3', '178_1b3_Pl_mc_AKGC417L_3', '198_6p1_Pl_mc_AKGC417L_3', '177_2b4_Pr_mc_AKGC417L_1', '221_2b1_Al_mc_LittC2SE_1', '178_1b2_Al_mc_AKGC417L_2', '207_2b4_Pr_mc_AKGC417L_1', '169_1b1_Lr_sc_Meditron_3', '130_3p2_Pl_mc_AKGC417L_3', '181_1b1_Tc_mc_LittC2SE_1', '213_1p5_Al_mc_AKGC417L_1', '178_1b2_Ar_mc_AKGC417L_1', '187_1b1_Ll_sc_Meditron_2', '205_3b4_Pr_mc_AKGC417L_3', '138_1p3_Ar_mc_AKGC417L_1', '110_1b1_Pr_sc_Meditron_8', '207_3b2_Ar_mc_AKGC417L_2', '130_1p3_Al_mc_AKGC417L_3', '205_2b2_Pr_mc_AKGC417L_1', '223_1b1_Ll_sc_Meditron_1', '218_1p1_Pr_sc_Litt3200_4', '207_3b2_Al_mc_AKGC417L_1', '193_7b3_Lr_mc_AKGC417L_3', '198_6p1_Al_mc_AKGC417L_1', '160_2b4_Pl_mc_AKGC417L_2', '160_1b4_Pr_mc_AKGC417L_3', '223_1b1_Al_sc_Meditron_2', '195_1b1_Ll_sc_Litt3200_2', '120_1b1_Ar_sc_Meditron_9', '104_1b1_Pr_sc_Litt3200_4', '130_1p2_Ar_mc_AKGC417L_1', '120_1b1_Al_sc_Meditron_3', '166_1p1_Pl_sc_Meditron_6', '130_2b2_Tc_mc_AKGC417L_1', '192_2b2_Ar_mc_LittC2SE_3', '218_1b1_Pl_sc_Meditron_4', '134_2b3_Ar_mc_LittC2SE_3', '195_1b1_Al_sc_Litt3200_1', '107_2b3_Ar_mc_AKGC417L_2', '207_3b2_Lr_mc_AKGC417L_1', '213_1p5_Ar_mc_AKGC417L_1', '211_1p3_Ar_mc_AKGC417L_2', '147_2b4_Al_mc_AKGC417L_2', '120_1b1_Pr_sc_Meditron_1', '138_1p4_Pl_mc_AKGC417L_3', '151_2p3_Ll_mc_AKGC417L_2', '104_1b1_Ar_sc_Litt3200_2', '138_2p2_Lr_mc_AKGC417L_3', '177_1b2_Tc_mc_AKGC417L_2', '158_1p2_Ll_mc_AKGC417L_1', '130_3b4_Lr_mc_AKGC417L_2', '222_1b1_Pr_sc_Meditron_9', '205_1b3_Pr_mc_AKGC417L_1', '133_2p3_Al_mc_AKGC417L_2', '178_1b6_Ll_mc_AKGC417L_1', '177_1b2_Pl_mc_AKGC417L_3', '151_2p2_Tc_mc_AKGC417L_2', '178_1b3_Pr_mc_AKGC417L_3', '158_1b3_Ar_mc_LittC2SE_2', '222_1b1_Lr_sc_Meditron_10', '204_2b5_Ll_mc_AKGC417L_1', '120_1b1_Al_sc_Meditron_1', '177_2b4_Lr_mc_AKGC417L_1', '178_1b6_Tc_mc_AKGC417L_3', '104_1b1_Ar_sc_Litt3200_3', '130_2b2_Tc_mc_AKGC417L_2', '147_2b3_Ll_mc_AKGC417L_3', '221_2b3_Al_mc_LittC2SE_1', '135_2b1_Pl_mc_LittC2SE_1', '141_1b2_Lr_mc_LittC2SE_2', '222_1b1_Ar_sc_Meditron_3', '186_2b4_Pl_mc_AKGC417L_1', '146_2b2_Pl_mc_AKGC417L_2', '124_1b1_Ar_sc_Litt3200_1', '151_3p2_Al_mc_AKGC417L_3', '158_1p4_Tc_mc_AKGC417L_2', '222_1b1_Lr_sc_Meditron_6', '222_1b1_Ar_sc_Meditron_10', '112_1b1_Ar_sc_Meditron_9', '101_1b1_Al_sc_Meditron_3', '130_1p4_Lr_mc_AKGC417L_3', '130_2b3_Al_mc_AKGC417L_1', '195_1b1_Pr_sc_Litt3200_4', '218_1b1_Ar_sc_Meditron_8', '203_1p2_Al_mc_AKGC417L_2', '138_1p3_Lr_mc_AKGC417L_2', '177_1b2_Ar_mc_AKGC417L_2', '220_1b2_Al_mc_LittC2SE_2', '104_1b1_Ll_sc_Litt3200_3', '201_1b3_Al_sc_Meditron_3', '159_1b1_Ar_sc_Meditron_3', '107_2b4_Ar_mc_AKGC417L_1', '204_7p5_Pr_mc_AKGC417L_2', '204_7p5_Lr_mc_AKGC417L_3', '138_2p2_Ll_mc_AKGC417L_1', '193_1b2_Ar_mc_AKGC417L_3', '114_1b4_Lr_mc_AKGC417L_1', '163_2b2_Tc_mc_AKGC417L_2', '124_1b1_Ll_sc_Litt3200_1', '154_2b4_Pl_mc_AKGC417L_3', '138_2p2_Ar_mc_AKGC417L_2', '207_2b3_Ar_mc_AKGC417L_3', '163_8b3_Ar_mc_AKGC417L_2', '140_2b3_Tc_mc_LittC2SE_2', '122_2b3_Tc_mc_LittC2SE_1', '148_1b1_Al_sc_Meditron_2', '163_8b3_Pr_mc_AKGC417L_2', '139_1b1_Pr_sc_Litt3200_3', '178_1b3_Ar_mc_AKGC417L_2', '130_2b3_Ar_mc_AKGC417L_3', '120_1b1_Ar_sc_Meditron_5', '151_2p3_Ar_mc_AKGC417L_1', '223_1b1_Pl_sc_Meditron_1', '172_1b3_Tc_mc_AKGC417L_1', '218_1b1_Pl_sc_Meditron_5', '133_3p4_Tc_mc_AKGC417L_2', '193_1b2_Ar_mc_AKGC417L_2', '211_1p5_Ar_mc_AKGC417L_2', '130_1p4_Lr_mc_AKGC417L_2', '205_2b3_Ll_mc_AKGC417L_2', '163_8b3_Lr_mc_AKGC417L_2', '214_1b1_Ar_sc_Meditron_3', '221_2b1_Al_mc_LittC2SE_3', '160_1b3_Lr_mc_AKGC417L_2', '218_1p1_Ar_sc_Litt3200_5', '154_4b4_Lr_mc_AKGC417L_2', '147_1b4_Tc_mc_AKGC417L_1', '211_1p5_Ar_mc_AKGC417L_3', '221_2b2_Al_mc_LittC2SE_2', '177_2b4_Pr_mc_AKGC417L_3', '223_1b1_Lr_sc_Meditron_5', '175_1b1_Lr_sc_Litt3200_3', '205_2b3_Al_mc_AKGC417L_1', '112_1b1_Lr_sc_Meditron_3', '213_1p5_Al_mc_AKGC417L_2', '167_1b1_Al_sc_Meditron_3', '118_1b1_Pl_sc_Litt3200_1', '151_3p2_Tc_mc_AKGC417L_2', '140_2b3_Tc_mc_LittC2SE_1', '174_1p3_Ar_mc_AKGC417L_3', '154_2b4_Ll_mc_AKGC417L_2', '125_1b1_Tc_sc_Meditron_3', '130_2p3_Pl_mc_AKGC417L_2', '118_1b1_Ll_sc_Litt3200_1', '205_1b3_Pr_mc_AKGC417L_3', '165_1b1_Ar_sc_Meditron_2', '175_1b1_Ll_sc_Litt3200_3', '164_1b1_Ll_sc_Meditron_1', '138_1p2_Ar_mc_AKGC417L_1', '151_2p3_Al_mc_AKGC417L_1', '122_2b3_Tc_mc_LittC2SE_2', '178_1b6_Lr_mc_AKGC417L_3', '211_2p3_Tc_mc_AKGC417L_3', '118_1b1_Al_sc_Litt3200_3', '213_2p2_Pr_mc_AKGC417L_2', '200_2p3_Lr_mc_AKGC417L_3', '120_1b1_Pl_sc_Meditron_4', '135_2b2_Ar_mc_LittC2SE_1', '130_1p4_Pr_mc_AKGC417L_3', '216_1b1_Al_sc_Meditron_3', '175_1b1_Pl_sc_Litt3200_3', '185_1b1_Ll_sc_Litt3200_1', '180_1b4_Pl_mc_AKGC417L_1', '110_1b1_Pr_sc_Meditron_9', '138_1p4_Lr_mc_AKGC417L_1', '170_1b3_Tc_mc_AKGC417L_1', '213_1p5_Pr_mc_AKGC417L_3', '200_3p4_Al_mc_AKGC417L_3', '157_1b1_Al_sc_Meditron_7', '195_1b1_Lr_sc_Litt3200_1', '158_1p3_Pl_mc_AKGC417L_3', '194_1b1_Pr_sc_Meditron_1', '224_1b2_Al_sc_Meditron_2', '107_3p2_Pl_mc_AKGC417L_3', '158_1p2_Lr_mc_AKGC417L_3', '107_2b4_Pr_mc_AKGC417L_3', '154_4b4_Pl_mc_AKGC417L_1', '133_2p2_Al_mc_AKGC417L_3', '204_2b5_Ar_mc_AKGC417L_2', '107_2b5_Tc_mc_AKGC417L_3', '206_1b1_Lr_sc_Meditron_2', '186_2b4_Lr_mc_AKGC417L_2', '186_2b3_Tc_mc_AKGC417L_1', '130_3p3_Pr_mc_AKGC417L_2', '107_2b3_Al_mc_AKGC417L_2', '166_1p1_Ar_sc_Meditron_3', '193_1b2_Ll_mc_AKGC417L_3', '118_1b1_Pr_sc_Litt3200_2', '207_2b3_Pr_mc_AKGC417L_1', '174_1p3_Pl_mc_AKGC417L_2', '188_1b1_Tc_sc_Meditron_3', '193_1b2_Pr_mc_AKGC417L_3', '154_4b4_Pl_mc_AKGC417L_2', '161_1b1_Pl_sc_Meditron_3', '203_2p3_Pl_mc_AKGC417L_1', '130_2b4_Ll_mc_AKGC417L_1', '203_1p3_Pl_mc_AKGC417L_3', '196_1b1_Pr_sc_Meditron_1', '170_1b2_Pl_mc_AKGC417L_2', '163_2b2_Pr_mc_AKGC417L_1', '210_1b1_Ar_sc_Meditron_1', '160_1b2_Al_mc_AKGC417L_2', '167_1b1_Pr_sc_Meditron_2', '162_1b2_Al_mc_AKGC417L_2', '123_1b1_Al_sc_Meditron_1', '163_2b2_Al_mc_AKGC417L_2', '195_1b1_Pl_sc_Litt3200_1', '195_1b1_Pl_sc_Litt3200_4', '166_1p1_Pr_sc_Meditron_7', '159_1b1_Pr_sc_Meditron_1', '170_2b2_Pl_mc_AKGC417L_2', '138_2p2_Pr_mc_AKGC417L_3', '112_1p1_Pr_sc_Litt3200_3', '162_2b4_Al_mc_AKGC417L_2', '178_1b6_Lr_mc_AKGC417L_2', '193_7b3_Ar_mc_AKGC417L_3', '138_1p4_Pl_mc_AKGC417L_2', '118_1b1_Lr_sc_Litt3200_2', '219_2b2_Ar_mc_LittC2SE_1', '113_1b1_Lr_sc_Litt3200_2', '130_2b4_Pl_mc_AKGC417L_3', '158_1p4_Lr_mc_AKGC417L_3', '135_2b3_Pr_mc_LittC2SE_1', '172_1b3_Pl_mc_AKGC417L_1', '172_1b3_Lr_mc_AKGC417L_1', '195_1b1_Ar_sc_Litt3200_3', '198_1b5_Ar_mc_AKGC417L_3', '133_2p4_Ar_mc_AKGC417L_2', '130_2p5_Tc_mc_AKGC417L_2', '186_3b3_Ar_mc_AKGC417L_3', '160_1b4_Al_mc_AKGC417L_1', '160_1b3_Pr_mc_AKGC417L_3', '133_2p4_Pl_mc_AKGC417L_3', '213_1p2_Tc_mc_AKGC417L_1', '184_1b1_Ar_sc_Meditron_1', '186_2b2_Lr_mc_AKGC417L_1', '107_2b5_Ll_mc_AKGC417L_1', '158_1p2_Tc_mc_AKGC417L_2', '160_1b2_Lr_mc_AKGC417L_2', '177_1b2_Lr_mc_AKGC417L_3', '183_1b1_Pl_sc_Meditron_3', '200_2p2_Al_mc_AKGC417L_3', '203_1p2_Lr_mc_AKGC417L_2', '130_3b4_Al_mc_AKGC417L_3', '186_3b3_Tc_mc_AKGC417L_3', '221_2b3_Lr_mc_LittC2SE_2', '172_1b5_Tc_mc_AKGC417L_2', '146_8p3_Pl_mc_AKGC417L_1', '172_2b5_Pl_mc_AKGC417L_3', '142_1b1_Pl_mc_LittC2SE_2', '107_2b3_Pl_mc_AKGC417L_2', '130_3p4_Pl_mc_AKGC417L_1', '133_2p3_Ar_mc_AKGC417L_3', '130_3p4_Pl_mc_AKGC417L_2', '213_1p2_Lr_mc_AKGC417L_1', '130_3p3_Tc_mc_AKGC417L_3', '143_1b1_Al_sc_Meditron_2', '145_2b2_Lr_mc_AKGC417L_1', '134_2b2_Ar_mc_LittC2SE_2', '160_1b3_Ar_mc_AKGC417L_1', '130_2p5_Ar_mc_AKGC417L_3', '117_1b3_Tc_mc_LittC2SE_3', '157_1b1_Ar_sc_Meditron_4', '130_3p3_Al_mc_AKGC417L_3', '151_2p2_Ar_mc_AKGC417L_3', '201_1b1_Al_sc_Meditron_3', '215_1b2_Ar_sc_Meditron_1', '193_7b3_Lr_mc_AKGC417L_1', '176_1b3_Tc_mc_AKGC417L_1', '145_2b2_Al_mc_AKGC417L_1', '176_1b3_Ll_mc_AKGC417L_2', '107_2b4_Tc_mc_AKGC417L_2', '206_1b1_Ar_sc_Meditron_1', '163_8b3_Lr_mc_AKGC417L_3', '186_2b2_Pl_mc_AKGC417L_1', '213_1p5_Tc_mc_AKGC417L_1', '133_2p2_Pl_mc_AKGC417L_3', '162_2b2_Pl_mc_AKGC417L_1', '120_1b1_Lr_sc_Meditron_8', '200_2p4_Lr_mc_AKGC417L_1', '193_1b2_Tc_mc_AKGC417L_3', '146_2b4_Ar_mc_AKGC417L_1', '138_1p2_Al_mc_AKGC417L_2', '213_1p2_Ar_mc_AKGC417L_2', '106_2b1_Pr_mc_LittC2SE_3', '146_2b4_Lr_mc_AKGC417L_1', '160_2b4_Pr_mc_AKGC417L_1', '207_2b3_Al_mc_AKGC417L_1', '121_1b1_Tc_sc_Meditron_1', '157_1b1_Pl_sc_Meditron_4', '122_2b1_Tc_mc_LittC2SE_2', '136_1b1_Ar_sc_Meditron_3', '107_2b5_Pl_mc_AKGC417L_3', '130_1p2_Tc_mc_AKGC417L_1', '216_1b1_Pl_sc_Meditron_1', '204_7p5_Ll_mc_AKGC417L_3', '154_3b3_Ll_mc_AKGC417L_2', '113_1b1_Ar_sc_Litt3200_1', '162_2b4_Lr_mc_AKGC417L_1', '223_1b1_Ar_sc_Meditron_2', '178_1b3_Pr_mc_AKGC417L_1', '122_2b2_Ar_mc_LittC2SE_2', '213_1p3_Al_mc_AKGC417L_1', '154_4b4_Pr_mc_AKGC417L_2', '130_1p3_Lr_mc_AKGC417L_3', '211_2p4_Tc_mc_AKGC417L_3', '138_2p2_Al_mc_AKGC417L_1', '205_1b3_Ll_mc_AKGC417L_2', '110_1p1_Pr_sc_Meditron_2', '160_1b2_Ar_mc_AKGC417L_1', '203_1p3_Pl_mc_AKGC417L_2', '157_1b1_Pr_sc_Meditron_5', '205_4b2_Lr_mc_AKGC417L_1', '112_1b1_Ar_sc_Meditron_2', '222_1b1_Pr_sc_Meditron_7', '151_2p3_Tc_mc_AKGC417L_2', '166_1p1_Ar_sc_Meditron_2', '213_1p2_Ar_mc_AKGC417L_1', '151_2p2_Pl_mc_AKGC417L_1', '203_1p3_Ar_mc_AKGC417L_1', '153_1b1_Al_sc_Meditron_1', '163_2b2_Al_mc_AKGC417L_3', '198_1b5_Lr_mc_AKGC417L_1', '135_2b3_Pl_mc_LittC2SE_3', '162_2b4_Tc_mc_AKGC417L_1', '166_1p1_Ar_sc_Meditron_4', '151_3p3_Ll_mc_AKGC417L_2', '130_3b3_Ll_mc_AKGC417L_1', '137_1b1_Ll_sc_Meditron_1', '190_1b1_Tc_sc_Meditron_1', '176_2b3_Al_mc_AKGC417L_1', '207_2b3_Pr_mc_AKGC417L_3', '154_1b3_Ar_mc_AKGC417L_3', '205_1b3_Ar_mc_AKGC417L_3', '147_2b2_Pl_mc_AKGC417L_3', '186_3b3_Al_mc_AKGC417L_3', '185_1b1_Pr_sc_Litt3200_1', '170_1b2_Lr_mc_AKGC417L_1', '139_1b1_Al_sc_Litt3200_3', '175_1b1_Pr_sc_Litt3200_3', '186_3b3_Pl_mc_AKGC417L_1', '171_1b1_Al_sc_Meditron_2', '130_2b4_Ll_mc_AKGC417L_2', '162_1b2_Tc_mc_AKGC417L_2', '172_1b5_Lr_mc_AKGC417L_2', '172_1b3_Ar_mc_AKGC417L_3', '151_2p4_Pl_mc_AKGC417L_3', '156_2b3_Lr_mc_AKGC417L_3', '174_1p4_Pr_mc_AKGC417L_1', '105_1b1_Tc_sc_Meditron_1', '160_1b2_Tc_mc_AKGC417L_2', '170_1b3_Pl_mc_AKGC417L_1', '223_1b1_Al_sc_Meditron_4', '149_1b1_Al_sc_Meditron_2', '130_2p5_Pr_mc_AKGC417L_3', '213_1p2_Pl_mc_AKGC417L_2', '133_2p2_Tc_mc_AKGC417L_1', '186_2b2_Al_mc_AKGC417L_1', '181_1b3_Tc_mc_LittC2SE_2', '213_1p3_Ar_mc_AKGC417L_1', '151_2p4_Ar_mc_AKGC417L_2', '170_1b3_Lr_mc_AKGC417L_1', '141_1b3_Ar_mc_LittC2SE_3', '163_2b2_Ll_mc_AKGC417L_3', '218_1b1_Al_sc_Meditron_9', '186_2b3_Lr_mc_AKGC417L_3', '141_1b3_Ar_mc_LittC2SE_2', '211_1p2_Ar_mc_AKGC417L_1', '218_1p1_Pl_sc_Litt3200_1', '162_1b2_Pr_mc_AKGC417L_1', '157_1b1_Lr_sc_Meditron_7', '203_1p2_Pr_mc_AKGC417L_1', '208_1b1_Ll_sc_Meditron_1', '107_2b3_Lr_mc_AKGC417L_3', '135_2b3_Ar_mc_LittC2SE_3', '151_2p3_Al_mc_AKGC417L_2', '162_2b3_Pl_mc_AKGC417L_2', '174_1p2_Ar_mc_AKGC417L_1', '218_1b1_Ar_sc_Meditron_3', '109_1b1_Pr_sc_Litt3200_5', '120_1b1_Pl_sc_Meditron_8', '223_1b1_Pr_sc_Meditron_2', '162_2b2_Tc_mc_AKGC417L_2', '213_2p2_Tc_mc_AKGC417L_2', '174_1p2_Pr_mc_AKGC417L_2', '220_1b2_Al_mc_LittC2SE_1', '166_1p1_Pl_sc_Meditron_3', '172_1b4_Ar_mc_AKGC417L_1', '191_2b1_Pr_mc_LittC2SE_2', '181_1b2_Ar_mc_LittC2SE_1', '163_2b2_Ar_mc_AKGC417L_1', '130_3p4_Pr_mc_AKGC417L_3', '122_2b1_Al_mc_LittC2SE_1', '165_1b1_Pl_sc_Meditron_1', '163_8b3_Ll_mc_AKGC417L_1', '170_1b2_Ar_mc_AKGC417L_2', '193_7b3_Pr_mc_AKGC417L_1', '205_2b3_Ll_mc_AKGC417L_1', '127_1b1_Ar_sc_Meditron_3', '160_1b3_Pr_mc_AKGC417L_1', '162_1b2_Ar_mc_AKGC417L_1', '158_1p3_Tc_mc_AKGC417L_3', '205_2b3_Al_mc_AKGC417L_2', '130_1p3_Ar_mc_AKGC417L_1', '109_1b1_Ll_sc_Litt3200_1', '133_3p2_Pr_mc_AKGC417L_3', '203_1p3_Pr_mc_AKGC417L_3', '174_2p3_Pl_mc_AKGC417L_1', '203_1p4_Ar_mc_AKGC417L_2', '213_1p5_Pl_mc_AKGC417L_1', '130_1p4_Pl_mc_AKGC417L_3', '109_1b1_Ar_sc_Litt3200_3', '130_1p4_Pl_mc_AKGC417L_2', '198_6p1_Tc_mc_AKGC417L_2', '140_2b3_Tc_mc_LittC2SE_3', '160_1b2_Lr_mc_AKGC417L_1', '136_1b1_Ar_sc_Meditron_1', '159_1b1_Ll_sc_Meditron_2', '107_2b4_Pl_mc_AKGC417L_3', '134_2b2_Al_mc_LittC2SE_1', '177_1b4_Ar_mc_AKGC417L_2', '138_1p3_Ar_mc_AKGC417L_3', '156_2b3_Ll_mc_AKGC417L_3', '205_2b2_Pr_mc_AKGC417L_2', '174_2p3_Tc_mc_AKGC417L_1', '205_4b2_Al_mc_AKGC417L_1', '200_2p3_Ar_mc_AKGC417L_1', '172_1b4_Ll_mc_AKGC417L_3', '151_2p4_Pr_mc_AKGC417L_2', '107_2b3_Ar_mc_AKGC417L_3', '122_2b2_Al_mc_LittC2SE_1', '154_1b3_Lr_mc_AKGC417L_3', '166_1p1_Al_sc_Meditron_4', '172_1b5_Pl_mc_AKGC417L_1', '151_2p3_Ll_mc_AKGC417L_3', '156_8b3_Ar_mc_AKGC417L_2', '163_8b3_Ll_mc_AKGC417L_3', '151_2p3_Tc_mc_AKGC417L_1', '141_1b3_Pr_mc_LittC2SE_1', '133_2p4_Ar_mc_AKGC417L_3', '174_1p2_Ll_mc_AKGC417L_1', '177_1b4_Al_mc_AKGC417L_2', '211_1p2_Pr_mc_AKGC417L_2', '188_1b1_Pl_sc_Meditron_2', '130_2b3_Pr_mc_AKGC417L_2', '151_2p2_Lr_mc_AKGC417L_1', '130_2b2_Ar_mc_AKGC417L_1', '130_3p4_Pl_mc_AKGC417L_3', '130_2b4_Lr_mc_AKGC417L_1', '107_3p2_Al_mc_AKGC417L_3', '205_2b3_Ar_mc_AKGC417L_3', '174_2p3_Al_mc_AKGC417L_1', '163_8b3_Pl_mc_AKGC417L_2', '160_1b3_Lr_mc_AKGC417L_3', '213_1p5_Pl_mc_AKGC417L_2', '156_8b3_Ar_mc_AKGC417L_1', '145_2b2_Ar_mc_AKGC417L_1', '186_2b4_Al_mc_AKGC417L_3', '218_1b1_Al_sc_Meditron_2', '165_1b1_Ar_sc_Meditron_1', '129_1b1_Ar_sc_Meditron_1', '223_1b1_Lr_sc_Meditron_1', '218_1b1_Pl_sc_Meditron_1', '218_1b1_Al_sc_Meditron_3', '192_2b2_Al_mc_LittC2SE_3', '130_2b2_Tc_mc_AKGC417L_3', '176_1b4_Pr_mc_AKGC417L_2', '194_1b1_Pr_sc_Meditron_3', '205_3b4_Ar_mc_AKGC417L_1', '186_2b3_Lr_mc_AKGC417L_1', '198_6p1_Ll_mc_AKGC417L_3', '154_2b4_Pl_mc_AKGC417L_2', '104_1b1_Ar_sc_Litt3200_1', '138_2p2_Ar_mc_AKGC417L_1', '215_1b2_Ar_sc_Meditron_2', '160_1b3_Pl_mc_AKGC417L_1', '178_1b6_Ll_mc_AKGC417L_3', '171_1b1_Al_sc_Meditron_1', '178_1b3_Al_mc_AKGC417L_3', '219_2b1_Tc_mc_LittC2SE_2', '122_2b1_Al_mc_LittC2SE_2', '114_1b4_Pr_mc_AKGC417L_1', '186_3b3_Lr_mc_AKGC417L_1', '170_1b2_Tc_mc_AKGC417L_3', '144_1b1_Tc_sc_Meditron_1', '160_2b4_Pl_mc_AKGC417L_1', '186_3b3_Pl_mc_AKGC417L_2', '138_1p2_Tc_mc_AKGC417L_3', '192_2b2_Al_mc_LittC2SE_1', '205_3b4_Al_mc_AKGC417L_2', '186_3b3_Tc_mc_AKGC417L_2', '166_1p1_Ar_sc_Meditron_9', '156_2b3_Al_mc_AKGC417L_2', '140_2b2_Tc_mc_LittC2SE_2', '163_2b2_Pr_mc_AKGC417L_2', '223_1b1_Ar_sc_Meditron_4', '160_1b4_Al_mc_AKGC417L_3', '133_2p2_Pl_mc_AKGC417L_1', '218_1p1_Pl_sc_Litt3200_2', '107_2b4_Lr_mc_AKGC417L_2', '172_1b5_Tc_mc_AKGC417L_1', '109_1b1_Al_sc_Litt3200_2', '120_1b1_Lr_sc_Meditron_6', '195_1b1_Pr_sc_Litt3200_1', '163_2b2_Al_mc_AKGC417L_1', '174_1p3_Pr_mc_AKGC417L_1', '146_2b4_Al_mc_AKGC417L_1', '176_1b3_Pr_mc_AKGC417L_2', '218_1b1_Ar_sc_Meditron_11', '173_1b1_Al_sc_Meditron_3', '104_1b1_Pr_sc_Litt3200_1', '130_2b2_Pl_mc_AKGC417L_3', '134_2b1_Ar_mc_LittC2SE_3', '218_1b1_Lr_sc_Meditron_3', '158_1p3_Lr_mc_AKGC417L_1', '130_3p3_Al_mc_AKGC417L_1', '156_2b3_Pl_mc_AKGC417L_3', '138_1p2_Al_mc_AKGC417L_1', '170_2b2_Ar_mc_AKGC417L_2', '178_1b6_Ar_mc_AKGC417L_2', '172_1b3_Tc_mc_AKGC417L_2', '218_1b1_Pl_sc_Meditron_9', '159_1b1_Pr_sc_Meditron_2', '203_1p2_Pr_mc_AKGC417L_2', '203_1p3_Pr_mc_AKGC417L_1', '203_1p3_Tc_mc_AKGC417L_2', '176_1b3_Pl_mc_AKGC417L_3', '176_2b3_Lr_mc_AKGC417L_2', '147_2b3_Pl_mc_AKGC417L_2', '151_3p2_Pr_mc_AKGC417L_2', '107_2b4_Pl_mc_AKGC417L_2', '138_1p2_Ll_mc_AKGC417L_2', '177_1b4_Pl_mc_AKGC417L_1', '112_1b1_Ar_sc_Meditron_1', '114_1b4_Pl_mc_AKGC417L_2', '199_2b1_Ll_mc_LittC2SE_3', '155_2b1_Al_mc_LittC2SE_3', '107_2b5_Ll_mc_AKGC417L_3', '219_2b1_Tc_mc_LittC2SE_3', '110_1p1_Pr_sc_Meditron_11', '174_1p4_Pl_mc_AKGC417L_3', '166_1p1_Pr_sc_Meditron_4', '113_1b1_Ar_sc_Litt3200_3', '110_1p1_Al_sc_Meditron_2', '107_2b5_Pr_mc_AKGC417L_2', '151_2p4_Ar_mc_AKGC417L_1', '113_1b1_Lr_sc_Litt3200_3', '205_3b4_Pl_mc_AKGC417L_1', '158_1p3_Ar_mc_AKGC417L_3', '147_1b3_Tc_mc_AKGC417L_3', '107_3p2_Al_mc_AKGC417L_1', '158_1p2_Ar_mc_AKGC417L_2', '170_1b3_Tc_mc_AKGC417L_2', '161_1b1_Al_sc_Meditron_1', '177_1b2_Al_mc_AKGC417L_2', '154_4b4_Al_mc_AKGC417L_2', '204_7p5_Ar_mc_AKGC417L_2', '130_2p5_Pl_mc_AKGC417L_1', '130_3p4_Tc_mc_AKGC417L_2', '130_2b4_Lr_mc_AKGC417L_3', '172_2b5_Ar_mc_AKGC417L_3', '174_1p4_Tc_mc_AKGC417L_1', '190_1b1_Tc_sc_Meditron_2', '176_1b3_Ll_mc_AKGC417L_1', '112_1p1_Pr_sc_Litt3200_5', '170_1b4_Lr_mc_AKGC417L_1', '120_1b1_Al_sc_Meditron_9', '137_1b1_Ll_sc_Meditron_2', '166_1p1_Al_sc_Meditron_3', '213_1p2_Pl_mc_AKGC417L_1', '172_2b5_Pr_mc_AKGC417L_1', '107_2b4_Al_mc_AKGC417L_2', '160_1b4_Tc_mc_AKGC417L_2', '176_1b4_Pr_mc_AKGC417L_1', '186_2b4_Lr_mc_AKGC417L_1', '201_1b3_Ar_sc_Meditron_3', '107_2b5_Ll_mc_AKGC417L_2', '172_1b5_Al_mc_AKGC417L_1', '139_1b1_Al_sc_Litt3200_1', '154_1b3_Pl_mc_AKGC417L_2', '154_1b3_Pr_mc_AKGC417L_1', '151_3p2_Ar_mc_AKGC417L_2', '221_2b2_Pl_mc_LittC2SE_2', '101_1b1_Al_sc_Meditron_1', '151_3p2_Al_mc_AKGC417L_1', '133_2p3_Pl_mc_AKGC417L_1', '175_1b1_Pr_sc_Litt3200_2', '222_1b1_Ar_sc_Meditron_8', '205_1b3_Lr_mc_AKGC417L_1', '166_1p1_Pl_sc_Meditron_5', '205_1b3_Lr_mc_AKGC417L_3', '147_2b3_Lr_mc_AKGC417L_2', '130_3p3_Pl_mc_AKGC417L_3', '160_1b4_Lr_mc_AKGC417L_1', '186_3b3_Pr_mc_AKGC417L_1', '157_1b1_Ar_sc_Meditron_5', '193_7b3_Tc_mc_AKGC417L_1', '225_1b1_Pl_sc_Meditron_3', '166_1p1_Pr_sc_Meditron_2', '157_1b1_Pr_sc_Meditron_10', '176_1b3_Al_mc_AKGC417L_1', '189_1b2_Lr_mc_LittC2SE_3', '124_1b1_Lr_sc_Litt3200_3', '107_3p2_Al_mc_AKGC417L_2', '138_2p2_Pl_mc_AKGC417L_2', '196_1b1_Pr_sc_Meditron_3', '221_2b1_Lr_mc_LittC2SE_1', '213_1p5_Ar_mc_AKGC417L_2', '107_2b3_Ll_mc_AKGC417L_3', '218_1b1_Ar_sc_Meditron_7', '213_2p2_Ar_mc_AKGC417L_1', '151_2p3_Ll_mc_AKGC417L_1', '193_7b3_Tc_mc_AKGC417L_2', '165_1b1_Pr_sc_Meditron_2', '156_5b3_Ar_mc_AKGC417L_1', '197_1b1_Al_sc_Meditron_1', '138_1p4_Tc_mc_AKGC417L_1', '195_1b1_Ar_sc_Litt3200_4', '207_2b2_Ar_mc_AKGC417L_2', '157_1b1_Lr_sc_Meditron_10', '213_2p2_Al_mc_AKGC417L_2', '147_2b2_Ar_mc_AKGC417L_3', '120_1b1_Al_sc_Meditron_10', '222_1b1_Pr_sc_Meditron_10', '205_1b3_Ll_mc_AKGC417L_1', '130_3b4_Pr_mc_AKGC417L_3', '102_1b1_Ar_sc_Meditron_1', '192_2b1_Al_mc_LittC2SE_2', '193_7b3_Pl_mc_AKGC417L_2', '201_1b1_Ar_sc_Meditron_2', '158_1p4_Pl_mc_AKGC417L_1', '145_2b2_Ar_mc_AKGC417L_2', '162_2b4_Pl_mc_AKGC417L_1', '172_1b4_Al_mc_AKGC417L_1', '156_5b3_Al_mc_AKGC417L_1', '211_1p2_Ar_mc_AKGC417L_3', '112_1b1_Ar_sc_Meditron_8', '124_1b1_Pr_sc_Litt3200_1', '154_2b4_Pr_mc_AKGC417L_1', '218_1b1_Pr_sc_Meditron_2', '130_3p4_Pr_mc_AKGC417L_1', '176_1b3_Lr_mc_AKGC417L_1', '130_2b3_Lr_mc_AKGC417L_3', '178_1b2_Tc_mc_AKGC417L_3', '177_1b4_Pl_mc_AKGC417L_2', '163_8b3_Pr_mc_AKGC417L_1', '130_1p3_Pl_mc_AKGC417L_1', '205_1b3_Pl_mc_AKGC417L_1', '130_2b2_Pl_mc_AKGC417L_2', '185_1b1_Pr_sc_Litt3200_4', '172_1b3_Tc_mc_AKGC417L_3', '172_1b5_Al_mc_AKGC417L_3', '172_1b4_Lr_mc_AKGC417L_2', '104_1b1_Al_sc_Litt3200_1', '135_2b3_Al_mc_LittC2SE_1', '223_1b1_Pl_sc_Meditron_2', '195_1b1_Al_sc_Litt3200_2', '163_2b2_Lr_mc_AKGC417L_3', '221_2b3_Pr_mc_LittC2SE_1', '200_2p3_Al_mc_AKGC417L_2', '130_1p3_Pr_mc_AKGC417L_2', '206_1b1_Lr_sc_Meditron_1', '198_1b5_Lr_mc_AKGC417L_2', '178_2b2_Lr_mc_AKGC417L_3', '207_2b4_Tc_mc_AKGC417L_1', '130_2p5_Pl_mc_AKGC417L_2', '162_2b2_Ar_mc_AKGC417L_1', '130_2b2_Al_mc_AKGC417L_1', '154_3b3_Ll_mc_AKGC417L_3', '200_3p4_Ar_mc_AKGC417L_1', '200_2p4_Pr_mc_AKGC417L_1', '147_1b2_Tc_mc_AKGC417L_1', '157_1b1_Lr_sc_Meditron_8', '120_1b1_Lr_sc_Meditron_1', '145_2b2_Pr_mc_AKGC417L_3', '211_1p3_Ar_mc_AKGC417L_1', '149_1b1_Pl_sc_Meditron_2', '130_1p3_Al_mc_AKGC417L_1', '188_1b1_Al_sc_Meditron_2', '172_2b5_Tc_mc_AKGC417L_3', '124_1b1_Pl_sc_Litt3200_1', '221_2b3_Lr_mc_LittC2SE_3', '162_2b3_Tc_mc_AKGC417L_1', '195_1b1_Ll_sc_Litt3200_4', '130_2b3_Al_mc_AKGC417L_3', '176_1b3_Ar_mc_AKGC417L_3', '138_1p4_Ll_mc_AKGC417L_3', '130_3b4_Al_mc_AKGC417L_1', '120_1b1_Lr_sc_Meditron_10', '130_1p3_Pr_mc_AKGC417L_3', '130_3b4_Ar_mc_AKGC417L_3', '223_1b1_Pl_sc_Meditron_5', '186_2b3_Lr_mc_AKGC417L_2', '134_2b2_Ar_mc_LittC2SE_1', '177_1b2_Ar_mc_AKGC417L_1', '218_1b1_Pr_sc_Meditron_6', '177_1b4_Ar_mc_AKGC417L_3', '162_2b2_Pr_mc_AKGC417L_2', '107_2b3_Pr_mc_AKGC417L_1', '175_1b1_Lr_sc_Litt3200_1', '110_1b1_Pr_sc_Meditron_7', '156_2b3_Pr_mc_AKGC417L_2', '130_2p5_Tc_mc_AKGC417L_3', '175_1b1_Ll_sc_Litt3200_2', '115_1b1_Ar_sc_Meditron_3', '203_2p3_Pl_mc_AKGC417L_3', '214_1b1_Ar_sc_Meditron_2', '200_2p2_Al_mc_AKGC417L_1', '160_1b3_Ar_mc_AKGC417L_3', '221_2b3_Ar_mc_LittC2SE_3', '121_1p1_Tc_sc_Meditron_3', '219_2b3_Tc_mc_LittC2SE_3', '172_1b3_Ll_mc_AKGC417L_1', '111_1b3_Tc_sc_Meditron_1', '133_3p2_Pl_mc_AKGC417L_3', '109_1b1_Pr_sc_Litt3200_1', '107_2b5_Al_mc_AKGC417L_2', '218_1p1_Pr_sc_Litt3200_2', '134_2b2_Al_mc_LittC2SE_2', '147_2b3_Pl_mc_AKGC417L_3', '148_1b1_Al_sc_Meditron_1', '203_2p3_Pl_mc_AKGC417L_2', '158_1p3_Al_mc_AKGC417L_3', '104_1b1_Lr_sc_Litt3200_1', '181_1b3_Tc_mc_LittC2SE_1', '113_1b1_Al_sc_Litt3200_1', '186_2b4_Ar_mc_AKGC417L_2', '149_1b1_Lr_sc_Meditron_1', '130_1p4_Ll_mc_AKGC417L_2', '177_2b4_Tc_mc_AKGC417L_2', '185_1b1_Lr_sc_Litt3200_2', '151_2p4_Al_mc_AKGC417L_3', '221_2b2_Ar_mc_LittC2SE_3', '174_1p2_Tc_mc_AKGC417L_1', '118_1b1_Ar_sc_Litt3200_2', '151_2p3_Lr_mc_AKGC417L_3', '221_2b1_Al_mc_LittC2SE_2', '178_2b2_Ar_mc_AKGC417L_2', '203_2p3_Tc_mc_AKGC417L_1', '220_1b1_Tc_mc_LittC2SE_3', '223_1b1_Pr_sc_Meditron_1', '188_1b1_Ar_sc_Meditron_3', '145_2b2_Pr_mc_AKGC417L_2', '133_3p2_Pr_mc_AKGC417L_1', '182_1b1_Tc_sc_Meditron_1', '124_1b1_Ll_sc_Litt3200_3', '177_1b4_Tc_mc_AKGC417L_3', '141_1b2_Ar_mc_LittC2SE_2', '145_3b2_Lr_mc_AKGC417L_3', '158_1p4_Lr_mc_AKGC417L_1', '176_1b4_Al_mc_AKGC417L_1', '120_1b1_Al_sc_Meditron_4', '158_1p3_Ll_mc_AKGC417L_2', '180_1b4_Lr_mc_AKGC417L_1', '141_1b2_Tc_mc_LittC2SE_3', '177_2b4_Al_mc_AKGC417L_3', '116_1b2_Tc_sc_Meditron_2', '138_2p2_Lr_mc_AKGC417L_2', '156_8b3_Ar_mc_AKGC417L_3', '207_2b2_Al_mc_AKGC417L_2', '169_1b2_Ll_sc_Meditron_1', '178_1b2_Lr_mc_AKGC417L_1', '172_1b5_Pl_mc_AKGC417L_2', '159_1b1_Ar_sc_Meditron_2', '181_1b1_Ar_mc_LittC2SE_2', '209_1b1_Tc_sc_Meditron_2', '200_3p4_Pl_mc_AKGC417L_2', '130_1p3_Tc_mc_AKGC417L_2', '107_2b5_Al_mc_AKGC417L_1', '177_1b2_Tc_mc_AKGC417L_3', '200_3p4_Tc_mc_AKGC417L_3', '205_3b4_Ar_mc_AKGC417L_3', '118_1b1_Pr_sc_Litt3200_1', '191_2b1_Pr_mc_LittC2SE_3', '129_1b1_Ar_sc_Meditron_2', '140_2b3_Ll_mc_LittC2SE_2', '130_2b3_Pl_mc_AKGC417L_2', '151_3p2_Lr_mc_AKGC417L_3', '218_1b1_Lr_sc_Meditron_5', '130_3p3_Pl_mc_AKGC417L_2', '172_1b4_Ar_mc_AKGC417L_3', '170_1b3_Lr_mc_AKGC417L_2', '176_2b3_Pl_mc_AKGC417L_1', '138_1p4_Pr_mc_AKGC417L_2', '226_1b1_Al_sc_Meditron_2', '174_2p3_Pr_mc_AKGC417L_2', '205_1b3_Lr_mc_AKGC417L_2', '107_2b5_Pl_mc_AKGC417L_1', '219_2b2_Ar_mc_LittC2SE_3', '138_1p2_Pr_mc_AKGC417L_2', '133_2p4_Al_mc_AKGC417L_2', '130_3b4_Pl_mc_AKGC417L_2', '145_2b2_Al_mc_AKGC417L_3', '207_2b2_Pl_mc_AKGC417L_3', '165_1b1_Pr_sc_Meditron_1', '166_1p1_Pr_sc_Meditron_8', '110_1p1_Lr_sc_Meditron_3', '133_2p3_Pl_mc_AKGC417L_2', '162_1b2_Pl_mc_AKGC417L_2', '170_1b2_Ar_mc_AKGC417L_1', '160_1b2_Ar_mc_AKGC417L_2', '133_3p2_Ar_mc_AKGC417L_2', '207_2b4_Pr_mc_AKGC417L_2', '120_1b1_Al_sc_Meditron_5', '149_1b1_Lr_sc_Meditron_3', '115_1b1_Ar_sc_Meditron_2', '104_1b1_Al_sc_Litt3200_3', '186_2b2_Pr_mc_AKGC417L_1', '200_2p4_Lr_mc_AKGC417L_2', '205_1b3_Pr_mc_AKGC417L_2', '135_2b1_Al_mc_LittC2SE_2', '177_1b4_Al_mc_AKGC417L_3', '139_1b1_Ll_sc_Litt3200_3', '157_1b1_Ar_sc_Meditron_7', '170_1b3_Pl_mc_AKGC417L_2', '158_1p4_Ar_mc_AKGC417L_2', '130_3p2_Pl_mc_AKGC417L_1', '156_5b3_Pr_mc_AKGC417L_2', '147_2b2_Pl_mc_AKGC417L_2', '209_1b1_Tc_sc_Meditron_3', '154_2b4_Lr_mc_AKGC417L_1', '107_3p2_Lr_mc_AKGC417L_1', '166_1p1_Pr_sc_Meditron_6', '130_3p2_Tc_mc_AKGC417L_2', '138_1p3_Ll_mc_AKGC417L_3', '135_2b3_Al_mc_LittC2SE_3', '135_2b2_Pl_mc_LittC2SE_1', '154_4b4_Pl_mc_AKGC417L_3', '186_2b2_Tc_mc_AKGC417L_3', '156_5b3_Pl_mc_AKGC417L_2', '144_1b1_Al_sc_Meditron_1', '169_1b2_Ll_sc_Meditron_2', '156_8b3_Al_mc_AKGC417L_3', '174_2p3_Pl_mc_AKGC417L_3', '151_2p3_Al_mc_AKGC417L_3', '201_1b2_Ar_sc_Meditron_2', '170_1b3_Tc_mc_AKGC417L_3', '151_2p2_Lr_mc_AKGC417L_2', '170_1b4_Ar_mc_AKGC417L_1', '158_1p3_Pr_mc_AKGC417L_3', '162_1b2_Ar_mc_AKGC417L_3', '176_1b4_Tc_mc_AKGC417L_2', '188_1b1_Tc_sc_Meditron_2', '195_1b1_Ll_sc_Litt3200_1', '160_1b2_Pr_mc_AKGC417L_1', '207_3b2_Ar_mc_AKGC417L_1', '130_2b2_Lr_mc_AKGC417L_1', '156_2b3_Al_mc_AKGC417L_1', '198_1b5_Tc_mc_AKGC417L_1', '220_1b1_Tc_mc_LittC2SE_1', '172_2b5_Pr_mc_AKGC417L_2', '138_1p3_Pr_mc_AKGC417L_1', '107_2b4_Tc_mc_AKGC417L_1', '147_2b3_Ll_mc_AKGC417L_2', '178_1b3_Al_mc_AKGC417L_2', '167_1b1_Pr_sc_Meditron_1', '104_1b1_Pl_sc_Litt3200_4', '221_2b1_Pl_mc_LittC2SE_1', '163_2b2_Ar_mc_AKGC417L_3', '194_1b1_Lr_sc_Meditron_2', '114_1b4_Pl_mc_AKGC417L_3', '130_1p3_Al_mc_AKGC417L_2', '112_1b1_Ar_sc_Meditron_4', '138_1p2_Pl_mc_AKGC417L_2', '226_1b1_Ll_sc_Meditron_2', '200_3p4_Ar_mc_AKGC417L_2', '103_2b2_Ar_mc_LittC2SE_3', '104_1b1_Ll_sc_Litt3200_1', '223_1b1_Ar_sc_Meditron_3', '157_1b1_Al_sc_Meditron_1', '193_7b3_Ll_mc_AKGC417L_1', '180_1b4_Ar_mc_AKGC417L_1', '151_2p4_Pr_mc_AKGC417L_1', '186_2b4_Pl_mc_AKGC417L_3', '139_1b1_Lr_sc_Litt3200_3', '107_3p2_Tc_mc_AKGC417L_2', '170_1b3_Ar_mc_AKGC417L_1', '193_1b2_Tc_mc_AKGC417L_1', '163_2b2_Tc_mc_AKGC417L_1', '203_1p2_Pl_mc_AKGC417L_2', '192_2b1_Al_mc_LittC2SE_3', '175_1b1_Al_sc_Litt3200_1', '174_2p3_Tc_mc_AKGC417L_3', '222_1b1_Ar_sc_Meditron_6', '170_1b3_Lr_mc_AKGC417L_3', '160_2b4_Pr_mc_AKGC417L_2', '223_1b1_Ar_sc_Meditron_1', '194_1b1_Lr_sc_Meditron_3', '176_2b3_Ar_mc_AKGC417L_1', '205_4b2_Pr_mc_AKGC417L_2', '221_2b2_Al_mc_LittC2SE_3', '190_1b1_Tc_sc_Meditron_3', '145_3b2_Lr_mc_AKGC417L_2', '133_3p2_Ar_mc_AKGC417L_3', '163_2b2_Tc_mc_AKGC417L_3', '200_2p2_Lr_mc_AKGC417L_3', '226_1b1_Pl_sc_LittC2SE_1', '162_2b3_Lr_mc_AKGC417L_2', '192_2b1_Al_mc_LittC2SE_1', '172_1b3_Ll_mc_AKGC417L_3', '200_2p3_Pl_mc_AKGC417L_1', '177_1b4_Al_mc_AKGC417L_1', '170_2b2_Al_mc_AKGC417L_3', '172_2b5_Tc_mc_AKGC417L_2', '157_1b1_Al_sc_Meditron_4', '146_2b4_Pr_mc_AKGC417L_3', '141_1b2_Ar_mc_LittC2SE_1', '188_1b1_Ar_sc_Meditron_2', '138_1p4_Lr_mc_AKGC417L_2', '205_4b2_Lr_mc_AKGC417L_3', '130_2b3_Pr_mc_AKGC417L_1', '176_2b3_Pr_mc_AKGC417L_3', '162_2b4_Ar_mc_AKGC417L_3', '112_1b1_Lr_sc_Meditron_4', '186_2b4_Ar_mc_AKGC417L_1', '154_4b4_Lr_mc_AKGC417L_1', '116_1b2_Pl_sc_Meditron_2', '166_1p1_Al_sc_Meditron_8', '147_2b4_Lr_mc_AKGC417L_2', '168_1b1_Al_sc_Meditron_2', '203_1p2_Pl_mc_AKGC417L_1', '158_2p2_Ar_mc_AKGC417L_2', '213_1p2_Ar_mc_AKGC417L_3', '149_1b1_Pl_sc_Meditron_1', '124_1b1_Lr_sc_Litt3200_2', '105_1b1_Tc_sc_Meditron_3', '138_1p4_Ar_mc_AKGC417L_1', '200_3p4_Pl_mc_AKGC417L_3', '207_3b2_Al_mc_AKGC417L_3', '200_2p2_Tc_mc_AKGC417L_3', '107_2b4_Lr_mc_AKGC417L_3', '185_1b1_Pr_sc_Litt3200_3', '211_2p4_Tc_mc_AKGC417L_2', '125_1b1_Tc_sc_Meditron_1', '130_2b2_Pr_mc_AKGC417L_2', '112_1b1_Ar_sc_Meditron_6', '148_1b1_Al_sc_Meditron_3', '200_3p4_Pl_mc_AKGC417L_1', '222_1b1_Lr_sc_Meditron_8', '185_1b1_Ll_sc_Litt3200_2', '185_1b1_Ar_sc_Litt3200_3', '160_1b3_Tc_mc_AKGC417L_2', '133_2p4_Pr_mc_AKGC417L_1', '177_1b2_Lr_mc_AKGC417L_2', '207_3b2_Pr_mc_AKGC417L_2', '151_2p4_Pr_mc_AKGC417L_3', '172_2b5_Al_mc_AKGC417L_3', '163_8b3_Ar_mc_AKGC417L_3', '158_2p3_Tc_mc_AKGC417L_1', '172_1b5_Pr_mc_AKGC417L_3', '193_7b3_Ar_mc_AKGC417L_1', '192_2b2_Al_mc_LittC2SE_2', '146_8p3_Al_mc_AKGC417L_3', '138_2p2_Al_mc_AKGC417L_2', '199_2b3_Ll_mc_LittC2SE_1', '213_1p3_Pr_mc_AKGC417L_2', '118_1b1_Al_sc_Litt3200_1', '170_1b2_Al_mc_AKGC417L_1', '130_3p2_Pl_mc_AKGC417L_2', '207_2b4_Al_mc_AKGC417L_2', '174_1p4_Lr_mc_AKGC417L_3', '127_1b1_Ar_sc_Meditron_1', '203_1p3_Tc_mc_AKGC417L_1', '158_1p2_Ar_mc_AKGC417L_3', '170_1b2_Al_mc_AKGC417L_2', '147_2b3_Al_mc_AKGC417L_2', '158_1p3_Tc_mc_AKGC417L_2', '166_1p1_Al_sc_Meditron_5', '107_2b3_Pl_mc_AKGC417L_3', '160_1b3_Pl_mc_AKGC417L_3', '156_5b3_Ll_mc_AKGC417L_1', '177_2b4_Tc_mc_AKGC417L_3', '213_2p2_Ar_mc_AKGC417L_2', '158_1p3_Pl_mc_AKGC417L_1', '132_2b1_Lr_mc_LittC2SE_1', '146_2b4_Pr_mc_AKGC417L_2', '133_2p2_Pl_mc_AKGC417L_2', '219_2b1_Ar_mc_LittC2SE_2', '178_1b3_Tc_mc_AKGC417L_2', '181_1b2_Ar_mc_LittC2SE_2', '170_2b2_Al_mc_AKGC417L_2', '174_1p2_Tc_mc_AKGC417L_3', '218_1b1_Lr_sc_Meditron_8', '105_1b1_Tc_sc_Meditron_2', '151_2p3_Pr_mc_AKGC417L_3', '200_3p4_Pr_mc_AKGC417L_2', '211_1p2_Pr_mc_AKGC417L_1', '120_1b1_Pl_sc_Meditron_10', '218_1b1_Pl_sc_Meditron_10', '221_2b3_Pr_mc_LittC2SE_3', '172_1b4_Pl_mc_AKGC417L_2', '155_2b1_Al_mc_LittC2SE_2', '110_1p1_Lr_sc_Meditron_4', '130_2b2_Pr_mc_AKGC417L_3', '139_1b1_Pr_sc_Litt3200_1', '132_2b1_Lr_mc_LittC2SE_2', '130_3p2_Pr_mc_AKGC417L_1', '107_3p2_Pl_mc_AKGC417L_1', '154_3b3_Ar_mc_AKGC417L_3', '177_2b4_Al_mc_AKGC417L_2', '133_2p4_Al_mc_AKGC417L_1', '204_2b5_Al_mc_AKGC417L_3', '170_2b2_Tc_mc_AKGC417L_2', '120_1b1_Pl_sc_Meditron_7', '163_8b3_Al_mc_AKGC417L_2', '147_2b4_Al_mc_AKGC417L_3', '162_1b2_Tc_mc_AKGC417L_3', '193_7b3_Pr_mc_AKGC417L_2', '186_2b4_Al_mc_AKGC417L_2', '198_6p1_Ar_mc_AKGC417L_2', '203_1p4_Al_mc_AKGC417L_1', '154_2b4_Al_mc_AKGC417L_3', '172_1b4_Pr_mc_AKGC417L_2', '130_3p2_Pr_mc_AKGC417L_2', '145_3b2_Ar_mc_AKGC417L_2', '176_1b3_Tc_mc_AKGC417L_3', '104_1b1_Pl_sc_Litt3200_1', '178_1b6_Al_mc_AKGC417L_2', '218_1b1_Pl_sc_Meditron_6', '218_1b1_Lr_sc_Meditron_2', '112_1p1_Ll_sc_Litt3200_4', '176_1b3_Al_mc_AKGC417L_3', '170_1b2_Pr_mc_AKGC417L_2', '160_2b4_Tc_mc_AKGC417L_2', '213_1p5_Tc_mc_AKGC417L_2', '178_1b3_Lr_mc_AKGC417L_3', '130_2b3_Pl_mc_AKGC417L_1', '145_3b2_Ar_mc_AKGC417L_1', '176_1b4_Ll_mc_AKGC417L_2', '120_1b1_Pr_sc_Meditron_7', '170_1b4_Al_mc_AKGC417L_2', '104_1b1_Pr_sc_Litt3200_2', '130_2b2_Al_mc_AKGC417L_2', '147_2b2_Al_mc_AKGC417L_2', '207_2b4_Pl_mc_AKGC417L_3', '170_1b4_Pl_mc_AKGC417L_3', '175_1b1_Ll_sc_Litt3200_1', '162_1b2_Pl_mc_AKGC417L_3', '211_2p3_Tc_mc_AKGC417L_1', '154_2b4_Ar_mc_AKGC417L_3', '178_1b2_Tc_mc_AKGC417L_1', '107_2b5_Ar_mc_AKGC417L_2', '122_2b3_Al_mc_LittC2SE_3', '107_3p2_Tc_mc_AKGC417L_3', '221_2b2_Lr_mc_LittC2SE_2', '174_1p2_Lr_mc_AKGC417L_3', '178_1b3_Tc_mc_AKGC417L_3', '130_2b3_Al_mc_AKGC417L_2', '112_1p1_Ll_sc_Litt3200_1', '130_3p3_Tc_mc_AKGC417L_1', '122_2b2_Tc_mc_LittC2SE_1', '162_2b3_Al_mc_AKGC417L_3', '110_1p1_Ll_sc_Meditron_5', '221_2b3_Lr_mc_LittC2SE_1', '205_3b4_Ar_mc_AKGC417L_2', '107_2b5_Lr_mc_AKGC417L_2', '139_1b1_Al_sc_Litt3200_2', '218_1b1_Lr_sc_Meditron_12', '176_1b3_Al_mc_AKGC417L_2', '177_2b4_Pl_mc_AKGC417L_1', '130_2p5_Pr_mc_AKGC417L_2', '172_1b4_Lr_mc_AKGC417L_3', '146_2b4_Ll_mc_AKGC417L_2', '158_1b3_Ar_mc_LittC2SE_3', '223_1b1_Ll_sc_Meditron_3', '206_1b1_Ar_sc_Meditron_2', '200_2p2_Pl_mc_AKGC417L_1', '172_1b3_Lr_mc_AKGC417L_3', '170_1b4_Pl_mc_AKGC417L_2', '200_2p2_Pr_mc_AKGC417L_1', '132_2b1_Lr_mc_LittC2SE_3', '110_1p1_Pr_sc_Meditron_10', '150_1b2_Al_sc_Meditron_2', '172_1b3_Ar_mc_AKGC417L_2', '165_1b1_Pl_sc_Meditron_3', '170_1b4_Ar_mc_AKGC417L_3', '107_2b3_Pr_mc_AKGC417L_2', '135_2b3_Al_mc_LittC2SE_2', '157_1b1_Ar_sc_Meditron_6', '172_2b5_Al_mc_AKGC417L_1', '147_2b3_Al_mc_AKGC417L_3', '108_1b1_Al_sc_Meditron_1', '172_1b4_Pl_mc_AKGC417L_3', '219_2b3_Tc_mc_LittC2SE_2', '147_1b4_Tc_mc_AKGC417L_2', '145_3b4_Pl_mc_AKGC417L_2', '207_2b4_Tc_mc_AKGC417L_3', '174_1p4_Ll_mc_AKGC417L_1', '185_1b1_Al_sc_Litt3200_3', '166_1p1_Pl_sc_Meditron_2', '207_3b2_Pr_mc_AKGC417L_3', '203_1p3_Pr_mc_AKGC417L_2', '157_1b1_Lr_sc_Meditron_5', '172_1b5_Ar_mc_AKGC417L_3', '170_1b3_Al_mc_AKGC417L_3', '130_2p5_Lr_mc_AKGC417L_2', '167_1b1_Al_sc_Meditron_1', '120_1b1_Ar_sc_Meditron_4', '217_1b1_Tc_sc_Meditron_3', '157_1b1_Ar_sc_Meditron_1', '198_6p1_Pr_mc_AKGC417L_3', '130_2b3_Ll_mc_AKGC417L_1', '146_2b4_Ar_mc_AKGC417L_2', '213_2p2_Tc_mc_AKGC417L_1', '193_7b3_Al_mc_AKGC417L_2', '203_2p3_Ar_mc_AKGC417L_2', '207_2b4_Pl_mc_AKGC417L_1', '166_1p1_Pr_sc_Meditron_3', '133_2p2_Al_mc_AKGC417L_2', '151_2p3_Pr_mc_AKGC417L_2', '172_1b3_Pr_mc_AKGC417L_2', '147_2b3_Lr_mc_AKGC417L_1', '157_1b1_Pl_sc_Meditron_8', '218_1b1_Pr_sc_Meditron_8', '154_2b4_Tc_mc_AKGC417L_3', '133_2p4_Pr_mc_AKGC417L_3', '176_1b4_Ar_mc_AKGC417L_2', '160_1b4_Al_mc_AKGC417L_2', '221_2b1_Lr_mc_LittC2SE_2', '204_2b5_Ll_mc_AKGC417L_2', '117_1b2_Tc_mc_LittC2SE_1', '141_1b2_Tc_mc_LittC2SE_2', '120_1b1_Ar_sc_Meditron_1', '135_2b1_Tc_mc_LittC2SE_3', '130_3p2_Al_mc_AKGC417L_2', '158_1p2_Al_mc_AKGC417L_2', '130_3p3_Pr_mc_AKGC417L_1', '112_1b1_Lr_sc_Meditron_5', '120_1b1_Pr_sc_Meditron_5', '128_1b3_Tc_mc_LittC2SE_3', '158_1p4_Lr_mc_AKGC417L_2', '139_1b1_Ll_sc_Litt3200_1', '170_1b3_Ar_mc_AKGC417L_2', '109_1b1_Ll_sc_Litt3200_2', '147_2b3_Ar_mc_AKGC417L_2', '203_1p3_Tc_mc_AKGC417L_3', '221_2b3_Al_mc_LittC2SE_3', '203_2p3_Al_mc_AKGC417L_3', '226_1b1_Ll_sc_Meditron_1', '198_1b5_Ll_mc_AKGC417L_2', '178_1b3_Lr_mc_AKGC417L_1', '145_3b4_Pl_mc_AKGC417L_1', '107_2b5_Pr_mc_AKGC417L_1', '192_2b1_Ar_mc_LittC2SE_3', '134_2b2_Ar_mc_LittC2SE_3', '107_2b4_Ll_mc_AKGC417L_2', '144_1b1_Tc_sc_Meditron_2', '113_1b1_Pl_sc_Litt3200_2', '140_2b3_Ll_mc_LittC2SE_3', '157_1b1_Al_sc_Meditron_8', '130_3p2_Tc_mc_AKGC417L_3', '211_1p2_Pl_mc_AKGC417L_1', '147_2b3_Ar_mc_AKGC417L_3', '151_3p2_Lr_mc_AKGC417L_1', '163_2b2_Pl_mc_AKGC417L_2', '151_2p4_Lr_mc_AKGC417L_1', '178_1b6_Pr_mc_AKGC417L_3', '218_1b1_Lr_sc_Meditron_6', '138_1p2_Lr_mc_AKGC417L_2', '200_2p4_Ar_mc_AKGC417L_3', '118_1b1_Lr_sc_Litt3200_3', '221_2b2_Lr_mc_LittC2SE_3', '201_1b2_Al_sc_Meditron_3', '122_2b2_Tc_mc_LittC2SE_3', '213_1p2_Tc_mc_AKGC417L_2', '186_2b2_Ar_mc_AKGC417L_3', '123_1b1_Al_sc_Meditron_3', '198_6p1_Ll_mc_AKGC417L_1', '174_1p4_Tc_mc_AKGC417L_3', '107_2b4_Lr_mc_AKGC417L_1', '102_1b1_Ar_sc_Meditron_2', '162_2b3_Pr_mc_AKGC417L_1', '170_1b3_Ll_mc_AKGC417L_1', '207_2b2_Al_mc_AKGC417L_1', '107_3p2_Ar_mc_AKGC417L_1', '221_2b3_Ar_mc_LittC2SE_2', '157_1b1_Ar_sc_Meditron_9', '130_2b3_Tc_mc_AKGC417L_3', '174_1p2_Ar_mc_AKGC417L_3', '158_1p2_Ar_mc_AKGC417L_1', '156_2b3_Ar_mc_AKGC417L_2', '104_1b1_Lr_sc_Litt3200_2', '201_1b2_Al_sc_Meditron_2', '210_1b1_Ar_sc_Meditron_2', '178_1b2_Pr_mc_AKGC417L_2', '175_1b1_Pr_sc_Litt3200_1', '166_1p1_Ll_sc_Meditron_7', '120_1b1_Lr_sc_Meditron_11', '162_2b4_Pl_mc_AKGC417L_3', '138_1p2_Al_mc_AKGC417L_3', '172_1b5_Lr_mc_AKGC417L_3', '164_1b1_Ll_sc_Meditron_2', '170_1b4_Pr_mc_AKGC417L_1', '151_3p3_Ll_mc_AKGC417L_1', '154_3b3_Ar_mc_AKGC417L_1', '111_1b2_Tc_sc_Meditron_3', '117_1b3_Tc_mc_LittC2SE_1', '222_1b1_Ar_sc_Meditron_4', '147_2b2_Ar_mc_AKGC417L_1', '156_2b3_Lr_mc_AKGC417L_1', '174_1p3_Tc_mc_AKGC417L_3', '130_2b3_Lr_mc_AKGC417L_1', '166_1p1_Pl_sc_Meditron_1', '157_1b1_Pr_sc_Meditron_6', '122_2b1_Tc_mc_LittC2SE_3', '147_2b2_Al_mc_AKGC417L_3', '104_1b1_Pr_sc_Litt3200_3', '127_1b1_Ar_sc_Meditron_2', '147_2b4_Pl_mc_AKGC417L_1', '156_5b3_Pl_mc_AKGC417L_1', '172_2b5_Lr_mc_AKGC417L_3', '141_1b3_Pr_mc_LittC2SE_2', '200_2p4_Al_mc_AKGC417L_3', '158_2p2_Ar_mc_AKGC417L_1', '147_2b4_Ll_mc_AKGC417L_3', '170_1b3_Ar_mc_AKGC417L_3', '146_2b4_Lr_mc_AKGC417L_2', '193_1b2_Al_mc_AKGC417L_1', '205_2b3_Ll_mc_AKGC417L_3', '114_1b4_Lr_mc_AKGC417L_3', '211_2p2_Tc_mc_AKGC417L_3', '205_1b3_Al_mc_AKGC417L_3', '133_2p2_Tc_mc_AKGC417L_2', '156_5b3_Ar_mc_AKGC417L_2', '162_1b2_Pr_mc_AKGC417L_3', '211_1p2_Ar_mc_AKGC417L_2', '209_1b1_Tc_sc_Meditron_1', '156_2b3_Ll_mc_AKGC417L_2', '130_1p4_Al_mc_AKGC417L_1', '186_2b4_Pr_mc_AKGC417L_1', '166_1p1_Pr_sc_Meditron_1', '138_2p2_Tc_mc_AKGC417L_2', '174_1p2_Ll_mc_AKGC417L_2', '176_2b3_Pr_mc_AKGC417L_2', '130_2p5_Tc_mc_AKGC417L_1', '133_3p2_Al_mc_AKGC417L_3', '111_1b3_Tc_sc_Meditron_3', '156_8b3_Ll_mc_AKGC417L_3', '110_1b1_Pr_sc_Meditron_4', '122_2b3_Ar_mc_LittC2SE_3', '147_2b2_Ar_mc_AKGC417L_2', '166_1p1_Ar_sc_Meditron_6', '203_2p3_Tc_mc_AKGC417L_2', '178_1b3_Al_mc_AKGC417L_1', '130_1p4_Ar_mc_AKGC417L_1', '223_1b1_Al_sc_Meditron_3', '107_2b3_Pl_mc_AKGC417L_1', '178_2b2_Pr_mc_AKGC417L_2', '160_1b3_Tc_mc_AKGC417L_1', '120_1b1_Pr_sc_Meditron_6', '151_2p4_Ll_mc_AKGC417L_2', '154_1b3_Pl_mc_AKGC417L_3', '154_1b3_Ar_mc_AKGC417L_1', '133_3p2_Al_mc_AKGC417L_1', '130_1p2_Pr_mc_AKGC417L_1', '222_1b1_Pr_sc_Meditron_5', '157_1b1_Pr_sc_Meditron_9', '213_1p5_Pr_mc_AKGC417L_1', '152_1b1_Al_sc_Meditron_1', '107_2b4_Al_mc_AKGC417L_3', '135_2b1_Tc_mc_LittC2SE_1', '133_2p4_Al_mc_AKGC417L_3', '101_1b1_Pr_sc_Meditron_2', '162_2b3_Pl_mc_AKGC417L_1', '167_1b1_Al_sc_Meditron_2', '221_2b3_Ar_mc_LittC2SE_1', '172_1b4_Pl_mc_AKGC417L_1', '166_1p1_Pr_sc_Meditron_5', '222_1b1_Ar_sc_Meditron_9', '213_1p2_Tc_mc_AKGC417L_3', '112_1b1_Lr_sc_Meditron_2', '157_1b1_Al_sc_Meditron_5', '130_3p4_Al_mc_AKGC417L_2', '200_2p4_Tc_mc_AKGC417L_3', '176_2b3_Ar_mc_AKGC417L_2', '138_1p3_Pl_mc_AKGC417L_1', '131_1b1_Al_sc_Meditron_3', '177_1b2_Al_mc_AKGC417L_3', '137_1b1_Ar_sc_Meditron_3', '176_1b4_Ll_mc_AKGC417L_3', '186_2b3_Pr_mc_AKGC417L_2', '203_1p2_Pl_mc_AKGC417L_3', '200_2p4_Pl_mc_AKGC417L_1', '198_1b5_Tc_mc_AKGC417L_3', '172_1b3_Lr_mc_AKGC417L_2', '197_1b1_Tc_sc_Meditron_2', '130_3b4_Lr_mc_AKGC417L_1', '130_2p3_Pl_mc_AKGC417L_3', '133_2p3_Ar_mc_AKGC417L_1', '218_1p1_Ar_sc_Litt3200_2', '154_3b3_Al_mc_AKGC417L_1', '213_1p3_Ar_mc_AKGC417L_2', '118_1b1_Al_sc_Litt3200_2', '158_1p3_Tc_mc_AKGC417L_1', '202_1b1_Ar_sc_Meditron_3', '203_1p4_Al_mc_AKGC417L_3', '110_1p1_Al_sc_Meditron_5', '179_1b1_Al_sc_Meditron_1', '146_8p3_Ar_mc_AKGC417L_2', '133_2p3_Pr_mc_AKGC417L_1', '213_1p2_Pr_mc_AKGC417L_2', '146_8p3_Pl_mc_AKGC417L_2', '126_1b1_Al_sc_Meditron_3', '163_8b3_Ll_mc_AKGC417L_2', '122_2b1_Al_mc_LittC2SE_3', '205_4b2_Ar_mc_AKGC417L_2', '186_2b2_Ar_mc_AKGC417L_2', '198_6p1_Lr_mc_AKGC417L_2', '170_1b3_Ll_mc_AKGC417L_3', '170_2b2_Pr_mc_AKGC417L_3', '200_3p4_Al_mc_AKGC417L_1', '177_1b4_Tc_mc_AKGC417L_2', '154_4b4_Al_mc_AKGC417L_3', '130_2p5_Pr_mc_AKGC417L_1', '170_2b2_Tc_mc_AKGC417L_1', '130_3p4_Al_mc_AKGC417L_1', '138_1p4_Pl_mc_AKGC417L_1', '120_1b1_Lr_sc_Meditron_12', '210_1b1_Al_sc_Meditron_3', '104_1b1_Al_sc_Litt3200_2', '181_1b1_Tc_mc_LittC2SE_2', '151_2p4_Lr_mc_AKGC417L_3', '200_2p3_Pl_mc_AKGC417L_3', '147_2b4_Ll_mc_AKGC417L_1', '175_1b1_Pl_sc_Litt3200_1', '198_1b5_Ll_mc_AKGC417L_3', '159_1b1_Al_sc_Meditron_3', '141_1b1_Pr_mc_LittC2SE_1', '119_1b1_Ar_sc_Meditron_1', '174_1p3_Ll_mc_AKGC417L_3', '110_1p1_Pr_sc_Meditron_4', '154_2b4_Al_mc_AKGC417L_1', '154_4b4_Ar_mc_AKGC417L_2', '154_1b3_Tc_mc_AKGC417L_1', '211_2p4_Tc_mc_AKGC417L_1', '221_2b2_Ar_mc_LittC2SE_1', '138_1p2_Ar_mc_AKGC417L_2', '162_1b2_Al_mc_AKGC417L_3', '216_1b1_Pl_sc_Meditron_2', '177_1b4_Lr_mc_AKGC417L_1', '174_1p3_Pl_mc_AKGC417L_3', '160_1b4_Ar_mc_AKGC417L_3', '191_2b1_Pl_mc_LittC2SE_1', '166_1p1_Ll_sc_Meditron_3', '193_7b3_Pr_mc_AKGC417L_3', '186_2b4_Lr_mc_AKGC417L_3', '172_2b5_Lr_mc_AKGC417L_2', '207_2b4_Ar_mc_AKGC417L_1', '158_2p3_Tc_mc_AKGC417L_2', '138_1p3_Ll_mc_AKGC417L_1', '176_1b4_Ar_mc_AKGC417L_1', '186_3b3_Pl_mc_AKGC417L_3', '207_2b3_Pl_mc_AKGC417L_1', '213_2p2_Pr_mc_AKGC417L_1', '213_1p2_Al_mc_AKGC417L_2', '135_2b2_Tc_mc_LittC2SE_1', '176_1b3_Pl_mc_AKGC417L_2', '151_3p2_Ar_mc_AKGC417L_1', '213_1p5_Al_mc_AKGC417L_3', '151_2p3_Ar_mc_AKGC417L_2', '120_1b1_Al_sc_Meditron_8', '151_2p2_Pr_mc_AKGC417L_1', '130_2b2_Ar_mc_AKGC417L_2', '112_1p1_Ll_sc_Litt3200_2', '193_7b3_Al_mc_AKGC417L_3', '129_1b1_Ar_sc_Meditron_3', '207_2b2_Pr_mc_AKGC417L_1', '130_3p3_Al_mc_AKGC417L_2', '116_1b2_Pl_sc_Meditron_3', '120_1b1_Pr_sc_Meditron_2', '135_2b2_Pl_mc_LittC2SE_3', '178_1b6_Pl_mc_AKGC417L_3', '176_1b4_Ar_mc_AKGC417L_3', '138_1p3_Al_mc_AKGC417L_3', '176_1b3_Ar_mc_AKGC417L_1', '218_1b1_Al_sc_Meditron_5', '198_6p1_Pl_mc_AKGC417L_2', '176_1b3_Pl_mc_AKGC417L_1', '195_1b1_Pl_sc_Litt3200_3', '186_2b3_Al_mc_AKGC417L_2', '223_1b1_Lr_sc_Meditron_4', '123_1b1_Al_sc_Meditron_2', '213_1p3_Pl_mc_AKGC417L_2', '156_8b3_Pl_mc_AKGC417L_1', '110_1p1_Ll_sc_Meditron_3', '205_1b3_Ar_mc_AKGC417L_2', '162_1b2_Pl_mc_AKGC417L_1', '137_1b1_Ar_sc_Meditron_1', '176_1b4_Pr_mc_AKGC417L_3', '135_2b3_Pr_mc_LittC2SE_3', '130_1p3_Ll_mc_AKGC417L_1', '193_1b2_Pr_mc_AKGC417L_2', '214_1b1_Ar_sc_Meditron_1', '160_2b4_Ar_mc_AKGC417L_3', '177_1b4_Pl_mc_AKGC417L_3', '168_1b1_Al_sc_Meditron_3', '207_3b2_Pl_mc_AKGC417L_1', '138_2p2_Lr_mc_AKGC417L_1', '109_1b1_Pr_sc_Litt3200_2', '130_2b4_Lr_mc_AKGC417L_2', '134_2b1_Al_mc_LittC2SE_3', '218_1b1_Lr_sc_Meditron_9', '130_1p4_Tc_mc_AKGC417L_3', '158_1p2_Pl_mc_AKGC417L_1', '124_1b1_Pl_sc_Litt3200_2', '145_2b2_Ar_mc_AKGC417L_3', '130_2b2_Lr_mc_AKGC417L_2', '138_1p3_Lr_mc_AKGC417L_1', '205_3b4_Pr_mc_AKGC417L_1', '213_1p3_Pr_mc_AKGC417L_3', '160_1b2_Tc_mc_AKGC417L_1', '130_1p2_Ar_mc_AKGC417L_3', '207_2b4_Pr_mc_AKGC417L_3', '151_2p2_Al_mc_AKGC417L_2', '195_1b1_Lr_sc_Litt3200_3', '138_1p2_Ll_mc_AKGC417L_1', '160_2b4_Ar_mc_AKGC417L_1', '185_1b1_Lr_sc_Litt3200_3', '151_2p4_Lr_mc_AKGC417L_2', '191_2b2_Tc_mc_LittC2SE_2', '113_1b1_Al_sc_Litt3200_3', '158_1p4_Ar_mc_AKGC417L_1', '150_1b2_Al_sc_Meditron_1', '170_1b4_Pl_mc_AKGC417L_1', '146_8p3_Al_mc_AKGC417L_1', '170_2b2_Pl_mc_AKGC417L_3', '130_1p2_Pl_mc_AKGC417L_3', '135_2b3_Tc_mc_LittC2SE_1', '146_2b4_Pr_mc_AKGC417L_1', '109_1b1_Al_sc_Litt3200_1', '107_2b5_Ar_mc_AKGC417L_3', '194_1b1_Lr_sc_Meditron_1', '130_2b3_Ll_mc_AKGC417L_3', '130_1p4_Ar_mc_AKGC417L_3', '141_1b3_Al_mc_LittC2SE_3', '160_1b3_Al_mc_AKGC417L_1', '166_1p1_Ll_sc_Meditron_5', '141_1b3_Al_mc_LittC2SE_1', '158_1p3_Ar_mc_AKGC417L_2', '198_6p1_Tc_mc_AKGC417L_3', '155_2b1_Al_mc_LittC2SE_1', '158_1p2_Pl_mc_AKGC417L_2', '113_1b1_Lr_sc_Litt3200_1', '207_2b3_Pl_mc_AKGC417L_3', '174_2p3_Ar_mc_AKGC417L_2', '154_3b3_Al_mc_AKGC417L_2', '172_1b5_Ll_mc_AKGC417L_1', '110_1p1_Pr_sc_Meditron_6', '154_1b3_Pr_mc_AKGC417L_2', '201_1b3_Ar_sc_Meditron_1', '110_1b1_Pr_sc_Meditron_2', '211_1p2_Pl_mc_AKGC417L_3', '107_2b3_Tc_mc_AKGC417L_3', '156_5b3_Ll_mc_AKGC417L_3', '130_1p2_Pr_mc_AKGC417L_2', '185_1b1_Ll_sc_Litt3200_3', '172_1b3_Al_mc_AKGC417L_3', '200_2p2_Pr_mc_AKGC417L_2', '207_2b3_Ar_mc_AKGC417L_1', '131_1b1_Al_sc_Meditron_2', '222_1b1_Lr_sc_Meditron_9', '130_2p5_Lr_mc_AKGC417L_3', '203_2p3_Ar_mc_AKGC417L_1', '124_1b1_Al_sc_Litt3200_2', '130_1p3_Lr_mc_AKGC417L_1', '151_2p4_Ar_mc_AKGC417L_3', '210_1b1_Al_sc_Meditron_2', '163_8b3_Al_mc_AKGC417L_1', '218_1b1_Lr_sc_Meditron_1', '138_1p2_Ar_mc_AKGC417L_3', '135_2b2_Tc_mc_LittC2SE_2', '166_1p1_Ll_sc_Meditron_2', '178_1b6_Ll_mc_AKGC417L_2', '161_1b1_Al_sc_Meditron_2', '205_4b2_Al_mc_AKGC417L_3', '151_2p2_Ll_mc_AKGC417L_1', '176_1b4_Lr_mc_AKGC417L_3', '111_1b2_Tc_sc_Meditron_1', '178_1b6_Pr_mc_AKGC417L_2', '157_1b1_Pr_sc_Meditron_7', '162_2b2_Pl_mc_AKGC417L_3', '160_1b4_Tc_mc_AKGC417L_1', '130_1p4_Al_mc_AKGC417L_3', '146_2b4_Al_mc_AKGC417L_2', '169_1b1_Lr_sc_Meditron_1', '158_2p3_Lr_mc_AKGC417L_3', '141_1b2_Pr_mc_LittC2SE_1', '156_2b3_Lr_mc_AKGC417L_2', '200_3p4_Pr_mc_AKGC417L_1', '170_1b4_Pr_mc_AKGC417L_3', '186_3b3_Al_mc_AKGC417L_1', '200_3p4_Pr_mc_AKGC417L_3', '146_8p3_Ar_mc_AKGC417L_1', '186_2b4_Pl_mc_AKGC417L_2', '112_1b1_Ar_sc_Meditron_7', '192_2b3_Al_mc_LittC2SE_2', '130_2p5_Al_mc_AKGC417L_2', '163_8b3_Pl_mc_AKGC417L_3', '205_2b4_Pl_mc_AKGC417L_2', '156_2b3_Ar_mc_AKGC417L_3', '139_1b1_Ar_sc_Litt3200_1', '112_1p1_Ll_sc_Litt3200_5', '204_7p5_Ll_mc_AKGC417L_1', '130_2b2_Ll_mc_AKGC417L_2', '154_1b3_Al_mc_AKGC417L_1', '147_2b3_Ar_mc_AKGC417L_1']\n"
     ]
    }
   ],
   "source": [
    "# 디렉토리 경로\n",
    "directory = \"/home/sogaksa123/AIFFEL_THON/data/dataset2/data_rec/text_file/text_file\"\n",
    "\n",
    "# 디렉토리 내의 파일 목록 가져오기\n",
    "file_list = os.listdir(directory)\n",
    "\n",
    "# .txt 확장자를 제외한 파일명 리스트 초기화\n",
    "file_names_without_extension1 = []\n",
    "\n",
    "# 파일 목록에서 .txt 확장자를 제외한 파일명만 추출하여 리스트에 추가\n",
    "for file_name in file_list:\n",
    "    name_without_extension = os.path.splitext(file_name)[0]\n",
    "    file_names_without_extension1.append(name_without_extension)\n",
    "\n",
    "# .txt 확장자를 제외한 파일명이 저장된 리스트 출력\n",
    "print(\"확장자를 제외한 파일명 리스트:\", file_names_without_extension1)"
   ]
  },
  {
   "cell_type": "code",
   "execution_count": 16,
   "metadata": {
    "colab": {
     "base_uri": "https://localhost:8080/"
    },
    "id": "Lj5LGUZVYRwA",
    "outputId": "6defd2c4-cdd9-4b4c-ceaf-640ff5b307bd"
   },
   "outputs": [
    {
     "name": "stdout",
     "output_type": "stream",
     "text": [
      "차이나는 파일 목록: {'.ipynb_checkpoints', 'classes'}\n"
     ]
    }
   ],
   "source": [
    "# 차이를 찾기 위해 두 리스트를 세트(set)로 변환하여 차집합 연산을 수행\n",
    "difference = set(file_names_without_extension1) - set(file_names_without_extension)\n",
    "\n",
    "# 차이가 있는 파일 목록 출력\n",
    "print(\"차이나는 파일 목록:\", difference)"
   ]
  },
  {
   "cell_type": "markdown",
   "metadata": {
    "id": "Az7lkGQDEfei"
   },
   "source": [
    "### Preparing Training Data"
   ]
  },
  {
   "cell_type": "code",
   "execution_count": 3,
   "metadata": {
    "id": "EKgBKbpeEcaU"
   },
   "outputs": [],
   "source": [
    "# Create a folder of train dataset\n",
    "if not os.path.isfile(\"/home/sogaksa123/AIFFEL_THON/data/dataset2/data_rec/Training_augx\"):\n",
    "    # os.mkdir('/content/drive/MyDrive/AIFFEL/AIFFELTON/model/YoloV9/Training/data')\n",
    "    os.mkdir('/home/sogaksa123/AIFFEL_THON/data/dataset2/data_rec/Training_augx/train')\n",
    "    os.mkdir('/home/sogaksa123/AIFFEL_THON/data/dataset2/data_rec/Training_augx/val')\n",
    "    os.mkdir('/home/sogaksa123/AIFFEL_THON/data/dataset2/data_rec/Training_augx/test')\n",
    "    os.mkdir('/home/sogaksa123/AIFFEL_THON/data/dataset2/data_rec/Training_augx/train/images')\n",
    "    os.mkdir('/home/sogaksa123/AIFFEL_THON/data/dataset2/data_rec/Training_augx/train/labels')\n",
    "    os.mkdir('/home/sogaksa123/AIFFEL_THON/data/dataset2/data_rec/Training_augx/test/images')\n",
    "    os.mkdir('/home/sogaksa123/AIFFEL_THON/data/dataset2/data_rec/Training_augx/test/labels')\n",
    "    os.mkdir('/home/sogaksa123/AIFFEL_THON/data/dataset2/data_rec/Training_augx/val/images')\n",
    "    os.mkdir('/home/sogaksa123/AIFFEL_THON/data/dataset2/data_rec/Training_augx/val/labels')"
   ]
  },
  {
   "cell_type": "code",
   "execution_count": 2,
   "metadata": {
    "id": "6dtnyKFUE4i6"
   },
   "outputs": [],
   "source": [
    "# Material is the names of images in the images folder.\n",
    "metarial = []\n",
    "for i in os.listdir(\"/home/sogaksa123/AIFFEL_THON/data/dataset2/data_rec/mel_images/mel_images\"):\n",
    "    str1 = i[:-4]\n",
    "    metarial.append(str1)"
   ]
  },
  {
   "cell_type": "code",
   "execution_count": 3,
   "metadata": {
    "colab": {
     "base_uri": "https://localhost:8080/"
    },
    "id": "hbnYtAv5lgn5",
    "outputId": "55e84656-e7fb-4bc1-fb9f-ec2373f38b23"
   },
   "outputs": [
    {
     "data": {
      "text/plain": [
       "['118_1b1_Pr_sc_Litt3200_2',\n",
       " '138_1p2_Pr_mc_AKGC417L_3',\n",
       " '167_1b1_Al_sc_Meditron_2',\n",
       " '163_2b2_Ar_mc_AKGC417L_2',\n",
       " '151_2p4_Lr_mc_AKGC417L_2',\n",
       " '172_1b3_Ar_mc_AKGC417L_3',\n",
       " '223_1b1_Ar_sc_Meditron_2',\n",
       " '133_2p2_Ar_mc_AKGC417L_2',\n",
       " '107_2b3_Ar_mc_AKGC417L_3',\n",
       " '205_1b3_Lr_mc_AKGC417L_1',\n",
       " '198_1b5_Al_mc_AKGC417L_1',\n",
       " '200_2p3_Pl_mc_AKGC417L_3',\n",
       " '107_3p2_Pl_mc_AKGC417L_2']"
      ]
     },
     "execution_count": 3,
     "metadata": {},
     "output_type": "execute_result"
    }
   ],
   "source": [
    "metarial[0:13]"
   ]
  },
  {
   "cell_type": "code",
   "execution_count": 4,
   "metadata": {
    "colab": {
     "base_uri": "https://localhost:8080/"
    },
    "id": "E6pz8p6Wlm-p",
    "outputId": "3d6eb788-5352-43e3-87c5-39a3522d9e0c"
   },
   "outputs": [
    {
     "name": "stdout",
     "output_type": "stream",
     "text": [
      "Sum of image:  2992\n",
      "Sum of the train size:  2094\n",
      "Sum of the test size:  448\n",
      "Sum of the val size:  448\n"
     ]
    }
   ],
   "source": [
    "print(\"Sum of image: \", len(metarial))\n",
    "train_size = int(len(metarial) * 0.7)\n",
    "test_size = int(len(metarial) * 0.15)\n",
    "val_size = int(len(metarial) * 0.15)\n",
    "print(\"Sum of the train size: \", train_size)\n",
    "print(\"Sum of the test size: \", test_size)\n",
    "print(\"Sum of the val size: \", val_size)"
   ]
  },
  {
   "cell_type": "code",
   "execution_count": 7,
   "metadata": {
    "id": "k1juw7WaluXV"
   },
   "outputs": [],
   "source": [
    "def preparingdata(main_txt_file, main_img_file, train_size, test_size, val_size):\n",
    "    metarial = sorted([os.path.splitext(f)[0] for f in os.listdir(main_img_file) if f.endswith(\".png\")])\n",
    "    \n",
    "    available_files = []\n",
    "    for m in metarial:\n",
    "        img_file = os.path.join(main_img_file, m + \".png\")\n",
    "        txt_file = os.path.join(main_txt_file, m + \".txt\")\n",
    "        if os.path.exists(img_file) and os.path.exists(txt_file):\n",
    "            available_files.append(m)\n",
    "    \n",
    "    total_files = len(available_files)\n",
    "    \n",
    "    if total_files < train_size + test_size + val_size:\n",
    "        print(\"Warning: Insufficient data for specified train, test, and validation sizes.\")\n",
    "        print(\"Total available files:\", total_files)\n",
    "        print(\"Adjusting train, test, and validation sizes.\")\n",
    "        train_size = int(0.6 * total_files)  # 60% for training\n",
    "        test_size = int(0.2 * total_files)   # 20% for testing\n",
    "        val_size = total_files - train_size - test_size  # Remaining for validation\n",
    "    \n",
    "    train_files = available_files[:train_size]\n",
    "    test_files = available_files[train_size:train_size+test_size]\n",
    "    val_files = available_files[train_size+test_size:]\n",
    "    \n",
    "    # Copy files for training\n",
    "    for i in range(train_size):\n",
    "        source_txt = os.path.join(main_txt_file, train_files[i] + \".txt\")\n",
    "        source_img = os.path.join(main_img_file, train_files[i] + \".png\")\n",
    "        \n",
    "        train_destination_txt = os.path.join(\"/home/sogaksa123/AIFFEL_THON/data/dataset2/data_rec/Training_augx/train/labels\", train_files[i] + \".txt\")\n",
    "        train_destination_png = os.path.join(\"/home/sogaksa123/AIFFEL_THON/data/dataset2/data_rec/Training_augx/train/images\", train_files[i] + \".png\")\n",
    "\n",
    "        shutil.copy(source_txt, train_destination_txt)\n",
    "        shutil.copy(source_img, train_destination_png)\n",
    "\n",
    "    # Copy files for testing\n",
    "    for l in range(test_size):\n",
    "        source_txt = os.path.join(main_txt_file, test_files[l] + \".txt\")\n",
    "        source_img = os.path.join(main_img_file, test_files[l] + \".png\")\n",
    "        \n",
    "        test_destination_txt = os.path.join(\"/home/sogaksa123/AIFFEL_THON/data/dataset2/data_rec/Training_augx/test/labels\", test_files[l] + \".txt\")\n",
    "        test_destination_png = os.path.join(\"/home/sogaksa123/AIFFEL_THON/data/dataset2/data_rec/Training_augx/test/images\", test_files[l] + \".png\")\n",
    "\n",
    "        shutil.copy(source_txt, test_destination_txt)\n",
    "        shutil.copy(source_img, test_destination_png)\n",
    "\n",
    "    # Copy files for validation\n",
    "    for n in range(val_size):\n",
    "        source_txt = os.path.join(main_txt_file, val_files[n] + \".txt\")\n",
    "        source_img = os.path.join(main_img_file, val_files[n] + \".png\")\n",
    "        \n",
    "        val_destination_txt = os.path.join(\"/home/sogaksa123/AIFFEL_THON/data/dataset2/data_rec/Training_augx/val/labels\", val_files[n] + \".txt\")\n",
    "        val_destination_png = os.path.join(\"/home/sogaksa123/AIFFEL_THON/data/dataset2/data_rec/Training_augx/val/images\", val_files[n] + \".png\")\n",
    "\n",
    "        # Remove _mel_spec from the filename\n",
    "        new_filename = val_files[n]\n",
    "\n",
    "        # Copy files with modified filename\n",
    "        shutil.copy(source_txt, val_destination_txt)\n",
    "        shutil.copy(source_img, val_destination_png.replace(val_files[n], new_filename))\n",
    "\n",
    "    print(\"Data preparation completed.\")"
   ]
  },
  {
   "cell_type": "code",
   "execution_count": 8,
   "metadata": {
    "colab": {
     "base_uri": "https://localhost:8080/"
    },
    "id": "2OTRKmDaT33Y",
    "outputId": "b76dfa17-72e8-45fe-b3b6-ea302d439dc7"
   },
   "outputs": [
    {
     "name": "stdout",
     "output_type": "stream",
     "text": [
      "Warning: Insufficient data for specified train, test, and validation sizes.\n",
      "Total available files: 2977\n",
      "Adjusting train, test, and validation sizes.\n",
      "Data preparation completed.\n"
     ]
    }
   ],
   "source": [
    "#preparinbdata(\"/kaggle/working/labels\", \"/kaggle/input/face-mask-detection/images\", 603, 150, 100)\n",
    "preparingdata(main_txt_file = \"/home/sogaksa123/AIFFEL_THON/data/dataset2/data_rec/text_file\",\n",
    "              main_img_file = \"/home/sogaksa123/AIFFEL_THON/data/dataset2/data_rec/mel_images/mel_images\",\n",
    "              train_size = train_size,\n",
    "              test_size = test_size,\n",
    "              val_size = val_size)"
   ]
  },
  {
   "cell_type": "code",
   "execution_count": 10,
   "metadata": {
    "colab": {
     "base_uri": "https://localhost:8080/"
    },
    "id": "2OTRKmDaT33Y",
    "outputId": "b76dfa17-72e8-45fe-b3b6-ea302d439dc7"
   },
   "outputs": [
    {
     "name": "stdout",
     "output_type": "stream",
     "text": [
      "train_data: 2083\n",
      "vol_data: 596\n",
      "test_data: 745\n"
     ]
    }
   ],
   "source": [
    "train_data = len(os.listdir(\"/home/sogaksa123/AIFFEL_THON/data/dataset2/data_rec/Training_augx/train/images\"))\n",
    "vol_data = len(os.listdir(\"/home/sogaksa123/AIFFEL_THON/data/dataset2/data_rec/Training_augx/val/images\"))\n",
    "test_data = len(os.listdir(\"/home/sogaksa123/AIFFEL_THON/data/dataset2/data_rec/Training_augx/test/images\"))\n",
    "\n",
    "print(f\"train_data: {train_data}\")\n",
    "print(f\"vol_data: {vol_data}\")\n",
    "print(f\"test_data: {test_data}\")"
   ]
  },
  {
   "cell_type": "markdown",
   "metadata": {
    "id": "Yh5PsrA7ck_2"
   },
   "source": [
    "### yaml 파일 제작"
   ]
  },
  {
   "cell_type": "code",
   "execution_count": 14,
   "metadata": {
    "id": "n-0g918Z_nwV"
   },
   "outputs": [],
   "source": [
    "# Create the data.yaml. I am going to use it on the train with yolov9.\n",
    "yaml_text = \"\"\"train: /home/sogaksa123/AIFFEL_THON/data/dataset2/data_rec/Training_augx/train/images\n",
    "val: /home/sogaksa123/AIFFEL_THON/data/dataset2/data_rec/Training_augx/val/images\n",
    "\n",
    "nc: 3\n",
    "names: [\"crackles\", \"wheezes\", \"Normal\"]\"\"\"\n",
    "\n",
    "with open(\"/home/sogaksa123/AIFFEL_THON/model/Yolov9_ver2/data_augx.yaml\", 'w') as file:\n",
    "    file.write(yaml_text)"
   ]
  },
  {
   "cell_type": "code",
   "execution_count": 15,
   "metadata": {
    "colab": {
     "base_uri": "https://localhost:8080/"
    },
    "id": "7liaV3Y6AV06",
    "outputId": "598e643b-6e59-4302-84d0-9c294c9ed582"
   },
   "outputs": [
    {
     "name": "stdout",
     "output_type": "stream",
     "text": [
      "train: /home/sogaksa123/AIFFEL_THON/data/dataset2/data_rec/Training_augx/train/images\n",
      "val: /home/sogaksa123/AIFFEL_THON/data/dataset2/data_rec/Training_augx/val/images\n",
      "\n",
      "nc: 3\n",
      "names: [\"crackles\", \"wheezes\", \"Normal\"]\n"
     ]
    }
   ],
   "source": [
    "with open(\"/home/sogaksa123/AIFFEL_THON/model/Yolov9_ver2/data_augx.yaml\") as f:\n",
    "    contents = f.read()\n",
    "    print(contents)"
   ]
  },
  {
   "cell_type": "markdown",
   "metadata": {
    "id": "GM3WTgM-AhNy"
   },
   "source": [
    "### YoloV9"
   ]
  },
  {
   "cell_type": "code",
   "execution_count": 4,
   "metadata": {
    "colab": {
     "base_uri": "https://localhost:8080/"
    },
    "id": "Vlce66DnAdUT",
    "outputId": "abad9f82-2ec9-455f-ed6b-ca1624712d97"
   },
   "outputs": [
    {
     "name": "stdout",
     "output_type": "stream",
     "text": [
      "fatal: destination path 'yolov9' already exists and is not an empty directory.\n"
     ]
    }
   ],
   "source": [
    "# Download Github rep.\n",
    "!git clone https://github.com/SkalskiP/yolov9.git"
   ]
  },
  {
   "cell_type": "code",
   "execution_count": 5,
   "metadata": {},
   "outputs": [
    {
     "name": "stdout",
     "output_type": "stream",
     "text": [
      "/home/sogaksa123/AIFFEL_THON/model/Yolov9_ver2\n"
     ]
    }
   ],
   "source": [
    "import os\n",
    "current_directory = os.getcwd()\n",
    "print(current_directory)"
   ]
  },
  {
   "cell_type": "code",
   "execution_count": 6,
   "metadata": {
    "colab": {
     "base_uri": "https://localhost:8080/"
    },
    "id": "gTTNINAXEymy",
    "outputId": "bdb6ac51-f5c6-4021-bedf-9c78dc599f19"
   },
   "outputs": [],
   "source": [
    "# İnstall the req.\n",
    "!pip install -r /home/sogaksa123/AIFFEL_THON/model/Yolov9/yolov9/requirements.txt -q"
   ]
  },
  {
   "cell_type": "code",
   "execution_count": 57,
   "metadata": {
    "colab": {
     "base_uri": "https://localhost:8080/"
    },
    "id": "qvsvVbh2E3D2",
    "outputId": "2efb68a7-7bbd-4e1e-9d95-bde91ebead33"
   },
   "outputs": [
    {
     "name": "stdout",
     "output_type": "stream",
     "text": [
      "\u001b[34m\u001b[1mtrain_dual: \u001b[0mweights=, cfg=/home/sogaksa123/AIFFEL_THON/model/Yolov9/yolov9/models/detect/yolov9-c.yaml, data=/home/sogaksa123/AIFFEL_THON/data/dataset2/data_rec/data.yaml, hyp=/home/sogaksa123/AIFFEL_THON/model/Yolov9/yolov9/data/hyps/hyp.scratch-high.yaml, epochs=50, batch_size=32, imgsz=400, rect=False, resume=False, nosave=False, noval=False, noautoanchor=False, noplots=False, evolve=None, bucket=, cache=None, image_weights=False, device=0, multi_scale=False, single_cls=False, optimizer=SGD, sync_bn=False, workers=8, project=runs/train, name=yolov9-c, exist_ok=False, quad=False, cos_lr=False, flat_cos_lr=False, fixed_lr=False, label_smoothing=0.0, patience=100, freeze=[0], save_period=-1, seed=0, local_rank=-1, min_items=0, close_mosaic=15, entity=None, upload_dataset=False, bbox_interval=-1, artifact_alias=latest\n",
      "YOLOv5 🚀 1e33dbb Python-3.10.13 torch-2.2.1+cu121 CUDA:0 (NVIDIA L4, 22491MiB)\n",
      "\n",
      "\u001b[34m\u001b[1mhyperparameters: \u001b[0mlr0=0.01, lrf=0.01, momentum=0.937, weight_decay=0.0005, warmup_epochs=3.0, warmup_momentum=0.8, warmup_bias_lr=0.1, box=7.5, cls=0.5, cls_pw=1.0, dfl=1.5, obj_pw=1.0, iou_t=0.2, anchor_t=5.0, fl_gamma=0.0, hsv_h=0.015, hsv_s=0.7, hsv_v=0.4, degrees=0.0, translate=0.1, scale=0.9, shear=0.0, perspective=0.0, flipud=0.0, fliplr=0.5, mosaic=1.0, mixup=0.15, copy_paste=0.3\n",
      "\u001b[34m\u001b[1mClearML: \u001b[0mrun 'pip install clearml' to automatically track, visualize and remotely train YOLO 🚀 in ClearML\n",
      "\u001b[34m\u001b[1mComet: \u001b[0mrun 'pip install comet_ml' to automatically track and visualize YOLO 🚀 runs in Comet\n",
      "\u001b[34m\u001b[1mTensorBoard: \u001b[0mStart with 'tensorboard --logdir runs/train', view at http://localhost:6006/\n",
      "Overriding model.yaml nc=80 with nc=3\n",
      "\n",
      "                 from  n    params  module                                  arguments                     \n",
      "  0                -1  1         0  models.common.Silence                   []                            \n",
      "  1                -1  1      1856  models.common.Conv                      [3, 64, 3, 2]                 \n",
      "  2                -1  1     73984  models.common.Conv                      [64, 128, 3, 2]               \n",
      "  3                -1  1    212864  models.common.RepNCSPELAN4              [128, 256, 128, 64, 1]        \n",
      "  4                -1  1    164352  models.common.ADown                     [256, 256]                    \n",
      "  5                -1  1    847616  models.common.RepNCSPELAN4              [256, 512, 256, 128, 1]       \n",
      "  6                -1  1    656384  models.common.ADown                     [512, 512]                    \n",
      "  7                -1  1   2857472  models.common.RepNCSPELAN4              [512, 512, 512, 256, 1]       \n",
      "  8                -1  1    656384  models.common.ADown                     [512, 512]                    \n",
      "  9                -1  1   2857472  models.common.RepNCSPELAN4              [512, 512, 512, 256, 1]       \n",
      " 10                -1  1    656896  models.common.SPPELAN                   [512, 512, 256]               \n",
      " 11                -1  1         0  torch.nn.modules.upsampling.Upsample    [None, 2, 'nearest']          \n",
      " 12           [-1, 7]  1         0  models.common.Concat                    [1]                           \n",
      " 13                -1  1   3119616  models.common.RepNCSPELAN4              [1024, 512, 512, 256, 1]      \n",
      " 14                -1  1         0  torch.nn.modules.upsampling.Upsample    [None, 2, 'nearest']          \n",
      " 15           [-1, 5]  1         0  models.common.Concat                    [1]                           \n",
      " 16                -1  1    912640  models.common.RepNCSPELAN4              [1024, 256, 256, 128, 1]      \n",
      " 17                -1  1    164352  models.common.ADown                     [256, 256]                    \n",
      " 18          [-1, 13]  1         0  models.common.Concat                    [1]                           \n",
      " 19                -1  1   2988544  models.common.RepNCSPELAN4              [768, 512, 512, 256, 1]       \n",
      " 20                -1  1    656384  models.common.ADown                     [512, 512]                    \n",
      " 21          [-1, 10]  1         0  models.common.Concat                    [1]                           \n",
      " 22                -1  1   3119616  models.common.RepNCSPELAN4              [1024, 512, 512, 256, 1]      \n",
      " 23                 5  1    131328  models.common.CBLinear                  [512, [256]]                  \n",
      " 24                 7  1    393984  models.common.CBLinear                  [512, [256, 512]]             \n",
      " 25                 9  1    656640  models.common.CBLinear                  [512, [256, 512, 512]]        \n",
      " 26                 0  1      1856  models.common.Conv                      [3, 64, 3, 2]                 \n",
      " 27                -1  1     73984  models.common.Conv                      [64, 128, 3, 2]               \n",
      " 28                -1  1    212864  models.common.RepNCSPELAN4              [128, 256, 128, 64, 1]        \n",
      " 29                -1  1    164352  models.common.ADown                     [256, 256]                    \n",
      " 30  [23, 24, 25, -1]  1         0  models.common.CBFuse                    [[0, 0, 0]]                   \n",
      " 31                -1  1    847616  models.common.RepNCSPELAN4              [256, 512, 256, 128, 1]       \n",
      " 32                -1  1    656384  models.common.ADown                     [512, 512]                    \n",
      " 33      [24, 25, -1]  1         0  models.common.CBFuse                    [[1, 1]]                      \n",
      " 34                -1  1   2857472  models.common.RepNCSPELAN4              [512, 512, 512, 256, 1]       \n",
      " 35                -1  1    656384  models.common.ADown                     [512, 512]                    \n",
      " 36          [25, -1]  1         0  models.common.CBFuse                    [[2]]                         \n",
      " 37                -1  1   2857472  models.common.RepNCSPELAN4              [512, 512, 512, 256, 1]       \n",
      " 38[31, 34, 37, 16, 19, 22]  1  21547442  models.yolo.DualDDetect                 [3, [512, 512, 512, 256, 512, 512]]\n",
      "yolov9-c summary: 962 layers, 51004210 parameters, 51004178 gradients, 238.9 GFLOPs\n",
      "\n",
      "\u001b[34m\u001b[1mAMP: \u001b[0mchecks passed ✅\n",
      "WARNING ⚠️ --img-size 400 must be multiple of max stride 32, updating to 416\n",
      "\u001b[34m\u001b[1moptimizer:\u001b[0m SGD(lr=0.01) with parameter groups 238 weight(decay=0.0), 255 weight(decay=0.0005), 253 bias\n",
      "\u001b[34m\u001b[1malbumentations: \u001b[0mBlur(p=0.01, blur_limit=(3, 7)), MedianBlur(p=0.01, blur_limit=(3, 7)), ToGray(p=0.01), CLAHE(p=0.01, clip_limit=(1, 4.0), tile_grid_size=(8, 8))\n",
      "\u001b[34m\u001b[1mtrain: \u001b[0mScanning /home/sogaksa123/AIFFEL_THON/data/dataset2/data_rec/Training/tra\u001b[0m\n",
      "\u001b[34m\u001b[1mtrain: \u001b[0mNew cache created: /home/sogaksa123/AIFFEL_THON/data/dataset2/data_rec/Training/train/labels.cache\n",
      "\u001b[34m\u001b[1mval: \u001b[0mScanning /home/sogaksa123/AIFFEL_THON/data/dataset2/data_rec/Training/val/l\u001b[0m\n",
      "\u001b[34m\u001b[1mval: \u001b[0mNew cache created: /home/sogaksa123/AIFFEL_THON/data/dataset2/data_rec/Training/val/labels.cache\n",
      "Plotting labels to runs/train/yolov9-c12/labels.jpg... \n",
      "Image sizes 416 train, 416 val\n",
      "Using 8 dataloader workers\n",
      "Logging results to \u001b[1mruns/train/yolov9-c12\u001b[0m\n",
      "Starting training for 50 epochs...\n",
      "\n",
      "      Epoch    GPU_mem   box_loss   cls_loss   dfl_loss  Instances       Size\n",
      "       0/49      15.6G      4.918       5.26      5.313        194        416:  Exception in thread Thread-11 (plot_images):\n",
      "Traceback (most recent call last):\n",
      "  File \"/home/sogaksa123/anaconda3/envs/sogaksa/lib/python3.10/threading.py\", line 1016, in _bootstrap_inner\n",
      "    self.run()\n",
      "  File \"/home/sogaksa123/anaconda3/envs/sogaksa/lib/python3.10/threading.py\", line 953, in run\n",
      "    self._target(*self._args, **self._kwargs)\n",
      "  File \"/home/sogaksa123/AIFFEL_THON/model/Yolov9/yolov9/utils/plots.py\", line 300, in plot_images\n",
      "    annotator.box_label(box, label, color=color)\n",
      "  File \"/home/sogaksa123/AIFFEL_THON/model/Yolov9/yolov9/utils/plots.py\", line 86, in box_label\n",
      "    w, h = self.font.getsize(label)  # text width, height\n",
      "AttributeError: 'FreeTypeFont' object has no attribute 'getsize'\n",
      "WARNING ⚠️ TensorBoard graph visualization failure Sizes of tensors must match except in dimension 1. Expected size 24 but got size 25 for tensor number 1 in the list.\n",
      "       0/49      15.6G      5.017      5.269      5.302        265        416:  Exception in thread Thread-12 (plot_images):\n",
      "Traceback (most recent call last):\n",
      "  File \"/home/sogaksa123/anaconda3/envs/sogaksa/lib/python3.10/threading.py\", line 1016, in _bootstrap_inner\n",
      "    self.run()\n",
      "  File \"/home/sogaksa123/anaconda3/envs/sogaksa/lib/python3.10/threading.py\", line 953, in run\n",
      "    self._target(*self._args, **self._kwargs)\n",
      "  File \"/home/sogaksa123/AIFFEL_THON/model/Yolov9/yolov9/utils/plots.py\", line 300, in plot_images\n",
      "    annotator.box_label(box, label, color=color)\n",
      "  File \"/home/sogaksa123/AIFFEL_THON/model/Yolov9/yolov9/utils/plots.py\", line 86, in box_label\n",
      "    w, h = self.font.getsize(label)  # text width, height\n",
      "AttributeError: 'FreeTypeFont' object has no attribute 'getsize'\n",
      "       0/49      15.6G      4.956      5.255      5.278        214        416:  Exception in thread Thread-13 (plot_images):\n",
      "Traceback (most recent call last):\n",
      "  File \"/home/sogaksa123/anaconda3/envs/sogaksa/lib/python3.10/threading.py\", line 1016, in _bootstrap_inner\n",
      "    self.run()\n",
      "  File \"/home/sogaksa123/anaconda3/envs/sogaksa/lib/python3.10/threading.py\", line 953, in run\n",
      "    self._target(*self._args, **self._kwargs)\n",
      "  File \"/home/sogaksa123/AIFFEL_THON/model/Yolov9/yolov9/utils/plots.py\", line 300, in plot_images\n",
      "    annotator.box_label(box, label, color=color)\n",
      "  File \"/home/sogaksa123/AIFFEL_THON/model/Yolov9/yolov9/utils/plots.py\", line 86, in box_label\n",
      "    w, h = self.font.getsize(label)  # text width, height\n",
      "AttributeError: 'FreeTypeFont' object has no attribute 'getsize'\n",
      "       0/49      15.7G      4.855      5.132      5.265        110        416: 1\n",
      "                 Class     Images  Instances          P          R      mAP50   \n",
      "                   all        547       1691    0.00342      0.449     0.0114    0.00303\n",
      "\n",
      "      Epoch    GPU_mem   box_loss   cls_loss   dfl_loss  Instances       Size\n",
      "       1/49      17.1G      4.651       4.49      5.036        110        416: 1\n",
      "                 Class     Images  Instances          P          R      mAP50   \n",
      "                   all        547       1691    0.00335      0.314    0.00304   0.000935\n",
      "\n",
      "      Epoch    GPU_mem   box_loss   cls_loss   dfl_loss  Instances       Size\n",
      "       2/49      17.1G      4.205      3.801      4.515         88        416: 1\n",
      "                 Class     Images  Instances          P          R      mAP50   \n",
      "                   all        547       1691     0.0201      0.205     0.0155    0.00368\n",
      "\n",
      "      Epoch    GPU_mem   box_loss   cls_loss   dfl_loss  Instances       Size\n",
      "       3/49      17.1G      3.673      3.436      3.856         80        416: 1\n",
      "                 Class     Images  Instances          P          R      mAP50   \n",
      "                   all        547       1691    0.00534      0.526    0.00484    0.00145\n",
      "\n",
      "      Epoch    GPU_mem   box_loss   cls_loss   dfl_loss  Instances       Size\n",
      "       4/49      17.1G      3.215      3.246      3.393         87        416: 1\n",
      "                 Class     Images  Instances          P          R      mAP50   \n",
      "                   all        547       1691        0.7      0.262     0.0747     0.0265\n",
      "\n",
      "      Epoch    GPU_mem   box_loss   cls_loss   dfl_loss  Instances       Size\n",
      "       5/49      17.1G      2.897      3.086      3.085        122        416: 1\n",
      "                 Class     Images  Instances          P          R      mAP50   \n",
      "                   all        547       1691      0.413      0.185     0.0778     0.0268\n",
      "\n",
      "      Epoch    GPU_mem   box_loss   cls_loss   dfl_loss  Instances       Size\n",
      "       6/49      17.6G      2.679      2.951      2.857         93        416: 1\n",
      "                 Class     Images  Instances          P          R      mAP50   \n",
      "                   all        547       1691      0.497      0.284      0.155     0.0678\n",
      "\n",
      "      Epoch    GPU_mem   box_loss   cls_loss   dfl_loss  Instances       Size\n",
      "       7/49      17.6G      2.516       2.89      2.716        102        416: 1\n",
      "                 Class     Images  Instances          P          R      mAP50   \n",
      "                   all        547       1691      0.137      0.342      0.143     0.0586\n",
      "\n",
      "      Epoch    GPU_mem   box_loss   cls_loss   dfl_loss  Instances       Size\n",
      "       8/49      17.6G      2.362      2.805       2.59         87        416: 1\n",
      "                 Class     Images  Instances          P          R      mAP50   \n",
      "                   all        547       1691      0.107       0.28      0.171     0.0773\n",
      "\n",
      "      Epoch    GPU_mem   box_loss   cls_loss   dfl_loss  Instances       Size\n",
      "       9/49      17.6G      2.312       2.78      2.556        111        416: 1\n",
      "                 Class     Images  Instances          P          R      mAP50   \n",
      "                   all        547       1691      0.145      0.402      0.148     0.0673\n",
      "\n",
      "      Epoch    GPU_mem   box_loss   cls_loss   dfl_loss  Instances       Size\n",
      "      10/49      17.6G       2.23      2.714      2.481         84        416: 1\n",
      "                 Class     Images  Instances          P          R      mAP50   \n",
      "                   all        547       1691      0.126      0.353      0.148      0.066\n",
      "\n",
      "      Epoch    GPU_mem   box_loss   cls_loss   dfl_loss  Instances       Size\n",
      "      11/49      17.6G      2.169      2.642      2.398         74        416: 1\n",
      "                 Class     Images  Instances          P          R      mAP50   \n",
      "                   all        547       1691      0.126      0.359      0.161       0.07\n",
      "\n",
      "      Epoch    GPU_mem   box_loss   cls_loss   dfl_loss  Instances       Size\n",
      "      12/49      17.6G      2.137      2.637      2.375        135        416: 1\n",
      "                 Class     Images  Instances          P          R      mAP50   \n",
      "                   all        547       1691      0.109      0.451      0.147     0.0657\n",
      "\n",
      "      Epoch    GPU_mem   box_loss   cls_loss   dfl_loss  Instances       Size\n",
      "      13/49      17.6G      2.096      2.629      2.347        108        416: 1\n",
      "                 Class     Images  Instances          P          R      mAP50   \n",
      "                   all        547       1691      0.148      0.456      0.154     0.0674\n",
      "\n",
      "      Epoch    GPU_mem   box_loss   cls_loss   dfl_loss  Instances       Size\n",
      "      14/49      17.6G      2.039      2.588      2.323         86        416: 1\n",
      "                 Class     Images  Instances          P          R      mAP50   \n",
      "                   all        547       1691      0.138      0.489      0.163     0.0764\n",
      "\n",
      "      Epoch    GPU_mem   box_loss   cls_loss   dfl_loss  Instances       Size\n",
      "      15/49      17.6G      1.989      2.536      2.264         97        416: 1\n",
      "                 Class     Images  Instances          P          R      mAP50   \n",
      "                   all        547       1691      0.139      0.496      0.179      0.093\n",
      "\n",
      "      Epoch    GPU_mem   box_loss   cls_loss   dfl_loss  Instances       Size\n",
      "      16/49      17.6G      1.938      2.522      2.234         86        416: 1\n",
      "                 Class     Images  Instances          P          R      mAP50   \n",
      "                   all        547       1691      0.134      0.465      0.152     0.0715\n",
      "\n",
      "      Epoch    GPU_mem   box_loss   cls_loss   dfl_loss  Instances       Size\n",
      "      17/49      17.6G      1.942      2.498      2.215         83        416: 1\n",
      "                 Class     Images  Instances          P          R      mAP50   \n",
      "                   all        547       1691      0.144      0.441      0.164     0.0787\n",
      "\n",
      "      Epoch    GPU_mem   box_loss   cls_loss   dfl_loss  Instances       Size\n",
      "      18/49      17.6G      1.891      2.469      2.183        112        416: 1\n",
      "                 Class     Images  Instances          P          R      mAP50   \n",
      "                   all        547       1691      0.135      0.437      0.178     0.0836\n",
      "\n",
      "      Epoch    GPU_mem   box_loss   cls_loss   dfl_loss  Instances       Size\n",
      "      19/49      17.6G      1.863      2.452      2.161         85        416: 1\n",
      "                 Class     Images  Instances          P          R      mAP50   \n",
      "                   all        547       1691      0.148      0.476      0.188     0.0936\n",
      "\n",
      "      Epoch    GPU_mem   box_loss   cls_loss   dfl_loss  Instances       Size\n",
      "      20/49      17.6G      1.828      2.422      2.127        101        416: 1\n",
      "                 Class     Images  Instances          P          R      mAP50   \n",
      "                   all        547       1691      0.158      0.498      0.175      0.083\n",
      "\n",
      "      Epoch    GPU_mem   box_loss   cls_loss   dfl_loss  Instances       Size\n",
      "      21/49      17.6G      1.799      2.404      2.106        109        416: 1\n",
      "                 Class     Images  Instances          P          R      mAP50   \n",
      "                   all        547       1691      0.193      0.505      0.217      0.119\n",
      "\n",
      "      Epoch    GPU_mem   box_loss   cls_loss   dfl_loss  Instances       Size\n",
      "      22/49      17.6G      1.782      2.393      2.088         76        416: 1\n",
      "                 Class     Images  Instances          P          R      mAP50   \n",
      "                   all        547       1691      0.175      0.517       0.19     0.0936\n",
      "\n",
      "      Epoch    GPU_mem   box_loss   cls_loss   dfl_loss  Instances       Size\n",
      "      23/49      17.6G      1.755      2.372      2.074        107        416: 1\n",
      "                 Class     Images  Instances          P          R      mAP50   \n",
      "                   all        547       1691      0.153      0.483      0.189     0.0949\n",
      "\n",
      "      Epoch    GPU_mem   box_loss   cls_loss   dfl_loss  Instances       Size\n",
      "      24/49      17.6G      1.771      2.379      2.083         83        416: 1\n",
      "                 Class     Images  Instances          P          R      mAP50   \n",
      "                   all        547       1691      0.193      0.541      0.217       0.12\n",
      "\n",
      "      Epoch    GPU_mem   box_loss   cls_loss   dfl_loss  Instances       Size\n",
      "      25/49      17.6G      1.731      2.344      2.056         90        416: 1\n",
      "                 Class     Images  Instances          P          R      mAP50   \n",
      "                   all        547       1691      0.195      0.515      0.226      0.122\n",
      "\n",
      "      Epoch    GPU_mem   box_loss   cls_loss   dfl_loss  Instances       Size\n",
      "      26/49      17.6G       1.68      2.321      2.027        121        416: 1\n",
      "                 Class     Images  Instances          P          R      mAP50   \n",
      "                   all        547       1691      0.194       0.58      0.241      0.148\n",
      "\n",
      "      Epoch    GPU_mem   box_loss   cls_loss   dfl_loss  Instances       Size\n",
      "      27/49      17.6G      1.662       2.28      1.999         99        416: 1\n",
      "                 Class     Images  Instances          P          R      mAP50   \n",
      "                   all        547       1691      0.199      0.524      0.209      0.117\n",
      "\n",
      "      Epoch    GPU_mem   box_loss   cls_loss   dfl_loss  Instances       Size\n",
      "      28/49      17.6G      1.624      2.275      1.972         69        416: 1\n",
      "                 Class     Images  Instances          P          R      mAP50   \n",
      "                   all        547       1691      0.187      0.529      0.217       0.13\n",
      "\n",
      "      Epoch    GPU_mem   box_loss   cls_loss   dfl_loss  Instances       Size\n",
      "      29/49      17.6G      1.618      2.241      1.964         93        416: 1\n",
      "                 Class     Images  Instances          P          R      mAP50   \n",
      "                   all        547       1691      0.203      0.577      0.234      0.145\n",
      "\n",
      "      Epoch    GPU_mem   box_loss   cls_loss   dfl_loss  Instances       Size\n",
      "      30/49      17.6G      1.601      2.242      1.946         94        416: 1\n",
      "                 Class     Images  Instances          P          R      mAP50   \n",
      "                   all        547       1691      0.171      0.513      0.221      0.131\n",
      "\n",
      "      Epoch    GPU_mem   box_loss   cls_loss   dfl_loss  Instances       Size\n",
      "      31/49      17.6G       1.58      2.222      1.937        103        416: 1\n",
      "                 Class     Images  Instances          P          R      mAP50   \n",
      "                   all        547       1691      0.168      0.584       0.19     0.0991\n",
      "\n",
      "      Epoch    GPU_mem   box_loss   cls_loss   dfl_loss  Instances       Size\n",
      "      32/49      17.6G      1.581      2.217      1.961         49        416: 1\n",
      "                 Class     Images  Instances          P          R      mAP50   \n",
      "                   all        547       1691      0.193      0.472      0.224      0.141\n",
      "\n",
      "      Epoch    GPU_mem   box_loss   cls_loss   dfl_loss  Instances       Size\n",
      "      33/49      17.6G      1.529      2.181      1.914         94        416: 1\n",
      "                 Class     Images  Instances          P          R      mAP50   \n",
      "                   all        547       1691       0.19      0.477      0.213      0.126\n",
      "\n",
      "      Epoch    GPU_mem   box_loss   cls_loss   dfl_loss  Instances       Size\n",
      "      34/49      17.6G      1.546      2.172      1.911        111        416: 1\n",
      "                 Class     Images  Instances          P          R      mAP50   \n",
      "                   all        547       1691      0.202      0.572      0.219      0.126\n",
      "Closing dataloader mosaic\n",
      "\n",
      "      Epoch    GPU_mem   box_loss   cls_loss   dfl_loss  Instances       Size\n",
      "      35/49      17.6G      1.477      2.237       1.98         35        416: 1\n",
      "                 Class     Images  Instances          P          R      mAP50   \n",
      "                   all        547       1691      0.173      0.505      0.216      0.131\n",
      "\n",
      "      Epoch    GPU_mem   box_loss   cls_loss   dfl_loss  Instances       Size\n",
      "      36/49      17.6G      1.422      2.168       1.93         39        416: 1\n",
      "                 Class     Images  Instances          P          R      mAP50   \n",
      "                   all        547       1691      0.196       0.55      0.226      0.144\n",
      "\n",
      "      Epoch    GPU_mem   box_loss   cls_loss   dfl_loss  Instances       Size\n",
      "      37/49      17.6G      1.372      2.133      1.874         36        416: 1\n",
      "                 Class     Images  Instances          P          R      mAP50   \n",
      "                   all        547       1691      0.218      0.554      0.228      0.141\n",
      "\n",
      "      Epoch    GPU_mem   box_loss   cls_loss   dfl_loss  Instances       Size\n",
      "      38/49      17.6G      1.362      2.112      1.889         35        416: 1\n",
      "                 Class     Images  Instances          P          R      mAP50   \n",
      "                   all        547       1691      0.213      0.626      0.241      0.158\n",
      "\n",
      "      Epoch    GPU_mem   box_loss   cls_loss   dfl_loss  Instances       Size\n",
      "      39/49      17.6G      1.314      2.094      1.853         46        416: 1\n",
      "                 Class     Images  Instances          P          R      mAP50   \n",
      "                   all        547       1691      0.213      0.579      0.224       0.14\n",
      "\n",
      "      Epoch    GPU_mem   box_loss   cls_loss   dfl_loss  Instances       Size\n",
      "      40/49      17.6G      1.294      2.058      1.845         40        416: 1\n",
      "                 Class     Images  Instances          P          R      mAP50   \n",
      "                   all        547       1691      0.199      0.517      0.225      0.135\n",
      "\n",
      "      Epoch    GPU_mem   box_loss   cls_loss   dfl_loss  Instances       Size\n",
      "      41/49      17.6G      1.263      2.051      1.805         30        416: 1\n",
      "                 Class     Images  Instances          P          R      mAP50   \n",
      "                   all        547       1691       0.22      0.631      0.253      0.164\n",
      "\n",
      "      Epoch    GPU_mem   box_loss   cls_loss   dfl_loss  Instances       Size\n",
      "      42/49      17.6G      1.274      2.025      1.794         38        416: 1\n",
      "                 Class     Images  Instances          P          R      mAP50   \n",
      "                   all        547       1691      0.223      0.604      0.237      0.153\n",
      "\n",
      "      Epoch    GPU_mem   box_loss   cls_loss   dfl_loss  Instances       Size\n",
      "      43/49      17.6G      1.226      1.989      1.759         37        416: 1\n",
      "                 Class     Images  Instances          P          R      mAP50   \n",
      "                   all        547       1691      0.222      0.636      0.253      0.171\n",
      "\n",
      "      Epoch    GPU_mem   box_loss   cls_loss   dfl_loss  Instances       Size\n",
      "      44/49      17.6G      1.199      1.981      1.741         35        416: 1\n",
      "                 Class     Images  Instances          P          R      mAP50   \n",
      "                   all        547       1691      0.226      0.614      0.248      0.161\n",
      "\n",
      "      Epoch    GPU_mem   box_loss   cls_loss   dfl_loss  Instances       Size\n",
      "      45/49      17.6G      1.183      1.978      1.733         34        416: 1\n",
      "                 Class     Images  Instances          P          R      mAP50   \n",
      "                   all        547       1691      0.243      0.619      0.253      0.168\n",
      "\n",
      "      Epoch    GPU_mem   box_loss   cls_loss   dfl_loss  Instances       Size\n",
      "      46/49      17.6G      1.186      1.941      1.727         37        416: 1\n",
      "                 Class     Images  Instances          P          R      mAP50   \n",
      "                   all        547       1691      0.238      0.601      0.256       0.17\n",
      "\n",
      "      Epoch    GPU_mem   box_loss   cls_loss   dfl_loss  Instances       Size\n",
      "      47/49      17.6G      1.166      1.959      1.711         38        416: 1\n",
      "                 Class     Images  Instances          P          R      mAP50   \n",
      "                   all        547       1691      0.235      0.571      0.258      0.175\n",
      "\n",
      "      Epoch    GPU_mem   box_loss   cls_loss   dfl_loss  Instances       Size\n",
      "      48/49      17.6G      1.137      1.901      1.691         41        416: 1\n",
      "                 Class     Images  Instances          P          R      mAP50   \n",
      "                   all        547       1691      0.221      0.578      0.249      0.163\n",
      "\n",
      "      Epoch    GPU_mem   box_loss   cls_loss   dfl_loss  Instances       Size\n",
      "      49/49      17.6G      1.122       1.89      1.679         36        416: 1\n",
      "                 Class     Images  Instances          P          R      mAP50   \n",
      "                   all        547       1691      0.234      0.632      0.256       0.17\n",
      "\n",
      "50 epochs completed in 0.898 hours.\n",
      "Optimizer stripped from runs/train/yolov9-c12/weights/last.pt, 102.8MB\n",
      "Optimizer stripped from runs/train/yolov9-c12/weights/best.pt, 102.8MB\n",
      "\n",
      "Validating runs/train/yolov9-c12/weights/best.pt...\n",
      "Fusing layers... \n",
      "yolov9-c summary: 724 layers, 50963250 parameters, 0 gradients, 237.7 GFLOPs\n",
      "                 Class     Images  Instances          P          R      mAP50   Exception in thread Thread-63 (plot_images):\n",
      "Traceback (most recent call last):\n",
      "  File \"/home/sogaksa123/anaconda3/envs/sogaksa/lib/python3.10/threading.py\", line 1016, in _bootstrap_inner\n",
      "    self.run()\n",
      "  File \"/home/sogaksa123/anaconda3/envs/sogaksa/lib/python3.10/threading.py\", line 953, in run\n",
      "    self._target(*self._args, **self._kwargs)\n",
      "  File \"/home/sogaksa123/AIFFEL_THON/model/Yolov9/yolov9/utils/plots.py\", line 300, in plot_images\n",
      "    annotator.box_label(box, label, color=color)\n",
      "  File \"/home/sogaksa123/AIFFEL_THON/model/Yolov9/yolov9/utils/plots.py\", line 86, in box_label\n",
      "    w, h = self.font.getsize(label)  # text width, height\n",
      "AttributeError: 'FreeTypeFont' object has no attribute 'getsize'\n",
      "Exception in thread Thread-64 (plot_images):\n",
      "Traceback (most recent call last):\n",
      "  File \"/home/sogaksa123/anaconda3/envs/sogaksa/lib/python3.10/threading.py\", line 1016, in _bootstrap_inner\n",
      "    self.run()\n",
      "  File \"/home/sogaksa123/anaconda3/envs/sogaksa/lib/python3.10/threading.py\", line 953, in run\n",
      "    self._target(*self._args, **self._kwargs)\n",
      "  File \"/home/sogaksa123/AIFFEL_THON/model/Yolov9/yolov9/utils/plots.py\", line 300, in plot_images\n",
      "    annotator.box_label(box, label, color=color)\n",
      "  File \"/home/sogaksa123/AIFFEL_THON/model/Yolov9/yolov9/utils/plots.py\", line 86, in box_label\n",
      "    w, h = self.font.getsize(label)  # text width, height\n",
      "AttributeError: 'FreeTypeFont' object has no attribute 'getsize'\n",
      "                 Class     Images  Instances          P          R      mAP50   Exception in thread Thread-65 (plot_images):\n",
      "Traceback (most recent call last):\n",
      "  File \"/home/sogaksa123/anaconda3/envs/sogaksa/lib/python3.10/threading.py\", line 1016, in _bootstrap_inner\n",
      "    self.run()\n",
      "  File \"/home/sogaksa123/anaconda3/envs/sogaksa/lib/python3.10/threading.py\", line 953, in run\n",
      "    self._target(*self._args, **self._kwargs)\n",
      "  File \"/home/sogaksa123/AIFFEL_THON/model/Yolov9/yolov9/utils/plots.py\", line 300, in plot_images\n",
      "    annotator.box_label(box, label, color=color)\n",
      "  File \"/home/sogaksa123/AIFFEL_THON/model/Yolov9/yolov9/utils/plots.py\", line 86, in box_label\n",
      "    w, h = self.font.getsize(label)  # text width, height\n",
      "AttributeError: 'FreeTypeFont' object has no attribute 'getsize'\n",
      "Exception in thread Thread-66 (plot_images):\n",
      "Traceback (most recent call last):\n",
      "  File \"/home/sogaksa123/anaconda3/envs/sogaksa/lib/python3.10/threading.py\", line 1016, in _bootstrap_inner\n",
      "    self.run()\n",
      "  File \"/home/sogaksa123/anaconda3/envs/sogaksa/lib/python3.10/threading.py\", line 953, in run\n",
      "    self._target(*self._args, **self._kwargs)\n",
      "  File \"/home/sogaksa123/AIFFEL_THON/model/Yolov9/yolov9/utils/plots.py\", line 300, in plot_images\n",
      "    annotator.box_label(box, label, color=color)\n",
      "  File \"/home/sogaksa123/AIFFEL_THON/model/Yolov9/yolov9/utils/plots.py\", line 86, in box_label\n",
      "    w, h = self.font.getsize(label)  # text width, height\n",
      "AttributeError: 'FreeTypeFont' object has no attribute 'getsize'\n",
      "                 Class     Images  Instances          P          R      mAP50   Exception in thread Thread-67 (plot_images):\n",
      "Traceback (most recent call last):\n",
      "  File \"/home/sogaksa123/anaconda3/envs/sogaksa/lib/python3.10/threading.py\", line 1016, in _bootstrap_inner\n",
      "    self.run()\n",
      "  File \"/home/sogaksa123/anaconda3/envs/sogaksa/lib/python3.10/threading.py\", line 953, in run\n",
      "    self._target(*self._args, **self._kwargs)\n",
      "  File \"/home/sogaksa123/AIFFEL_THON/model/Yolov9/yolov9/utils/plots.py\", line 300, in plot_images\n",
      "    annotator.box_label(box, label, color=color)\n",
      "  File \"/home/sogaksa123/AIFFEL_THON/model/Yolov9/yolov9/utils/plots.py\", line 86, in box_label\n",
      "    w, h = self.font.getsize(label)  # text width, height\n",
      "AttributeError: 'FreeTypeFont' object has no attribute 'getsize'\n",
      "Exception in thread Thread-68 (plot_images):\n",
      "Traceback (most recent call last):\n",
      "  File \"/home/sogaksa123/anaconda3/envs/sogaksa/lib/python3.10/threading.py\", line 1016, in _bootstrap_inner\n",
      "    self.run()\n",
      "  File \"/home/sogaksa123/anaconda3/envs/sogaksa/lib/python3.10/threading.py\", line 953, in run\n",
      "    self._target(*self._args, **self._kwargs)\n",
      "  File \"/home/sogaksa123/AIFFEL_THON/model/Yolov9/yolov9/utils/plots.py\", line 300, in plot_images\n",
      "    annotator.box_label(box, label, color=color)\n",
      "  File \"/home/sogaksa123/AIFFEL_THON/model/Yolov9/yolov9/utils/plots.py\", line 86, in box_label\n",
      "    w, h = self.font.getsize(label)  # text width, height\n",
      "AttributeError: 'FreeTypeFont' object has no attribute 'getsize'\n",
      "                 Class     Images  Instances          P          R      mAP50   \n",
      "                   all        547       1691      0.236      0.571      0.258      0.175\n",
      "              crackles        547        501      0.237      0.663       0.25      0.157\n",
      "               wheezes        547        299      0.126      0.248      0.125     0.0813\n",
      "                Normal        547        891      0.344      0.802      0.399      0.286\n",
      "Results saved to \u001b[1mruns/train/yolov9-c12\u001b[0m\n"
     ]
    }
   ],
   "source": [
    "# Train with YoloV9\n",
    "\"\"\"\n",
    "workers --> max dataloader workers (per RANK in DDP mode)\n",
    "device --> cuda device, i.e. 0 or 0,1,2,3 or cpu\n",
    "batch --> total batch size for all GPUs, -1 for autobatch\n",
    "epochs --> total training epochs\n",
    "data --> dataset.yaml path\n",
    "img --> train, val image size (pixels)\n",
    "cfg --> model.yaml path\n",
    "weights --> initial weights path\n",
    "name --> save to project/name\n",
    "hyp --> hyperparameters path\n",
    "\n",
    "**This parameters is my project parameters. You can make changes for your project.**\n",
    "\"\"\"\n",
    "\n",
    "!python /home/sogaksa123/AIFFEL_THON/model/Yolov9/yolov9/train_dual.py \\\n",
    "--workers 8 --device 0  --batch 32 --epochs 50 --min-items 0 --close-mosaic 15\\\n",
    "--data /home/sogaksa123/AIFFEL_THON/data/dataset2/data_rec/data.yaml \\\n",
    "--img 400 --cfg  /home/sogaksa123/AIFFEL_THON/model/Yolov9/yolov9/models/detect/yolov9-c.yaml \\\n",
    "--weights '' --name yolov9-c --hyp /home/sogaksa123/AIFFEL_THON/model/Yolov9/yolov9/data/hyps/hyp.scratch-high.yaml"
   ]
  },
  {
   "cell_type": "markdown",
   "metadata": {
    "id": "7iCLKgX5I60x"
   },
   "source": [
    "##\n",
    "Class: 클래스 레이블입니다.  \n",
    "Images: 해당 클래스에 대한 이미지 수입니다.  \n",
    "Instances: 해당 클래스에 대한 감지된 객체의 총 수입니다.  \n",
    "P: 정밀도(Precision)는 모델이 예측한 객체 중 실제로 해당 클래스에 속하는 객체의 비율입니다. 높은 정밀도는 모델이 정확하게 예측한 것을 의미합니다.  \n",
    "R: 재현율(Recall)은 실제 해당 클래스에 속하는 객체 중 모델이 정확하게 감지한 객체의 비율입니다. 높은 재현율은 모델이 대상을 놓치지 않고 잘 감지한다는 것을 의미합니다.  \n",
    "mAP50: 평균 정밀도(mean Average Precision)는 다양한 IoU(Intersection over Union) 임계값에 대해 계산된 정밀도의 평균입니다. 이 경우, IoU 임계값이 0.5인 경우의 mAP입니다. 높은 mAP는 모델의 성능이 좋다는 것을 의미합니다.\n",
    "\n",
    "해석:  \n",
    "전체적으로 모델의 성능은 중간 정도로 보입니다. 정밀도와 재현율이 비슷한 수준이며, 평균 정밀도도 0.3 정도로 나쁘지 않은 편입니다.\n",
    "클래스 별로 살펴보면, crackles와 wheezes 클래스의 재현율이 상대적으로 높지만 정밀도는 낮습니다. 이는 모델이 해당 클래스의 객체를 많이 감지하지만 그 중에서 실제 해당 클래스에 속하는 객체의 비율이 낮다는 것을 의미합니다.\n",
    "개선을 위해서는 모델의 학습 데이터의 다양성을 높이거나, 모델 아키텍처를 조정하여 성능을 향상시킬 수 있습니다."
   ]
  },
  {
   "cell_type": "markdown",
   "metadata": {
    "id": "7iCLKgX5I60x"
   },
   "source": [
    "##\n",
    "Class: 클래스 레이블입니다.  \n",
    "Images: 해당 클래스에 대한 이미지 수입니다.  \n",
    "Instances: 해당 클래스에 대한 감지된 객체의 총 수입니다.  \n",
    "P: 정밀도(Precision)는 모델이 예측한 객체 중 실제로 해당 클래스에 속하는 객체의 비율입니다. 높은 정밀도는 모델이 정확하게 예측한 것을 의미합니다.  \n",
    "R: 재현율(Recall)은 실제 해당 클래스에 속하는 객체 중 모델이 정확하게 감지한 객체의 비율입니다. 높은 재현율은 모델이 대상을 놓치지 않고 잘 감지한다는 것을 의미합니다.  \n",
    "mAP50: 평균 정밀도(mean Average Precision)는 다양한 IoU(Intersection over Union) 임계값에 대해 계산된 정밀도의 평균입니다. 이 경우, IoU 임계값이 0.5인 경우의 mAP입니다. 높은 mAP는 모델의 성능이 좋다는 것을 의미합니다.\n",
    "\n",
    "해석:  \n",
    "전체적으로 모델의 성능은 중간 정도로 보입니다. 정밀도와 재현율이 비슷한 수준이며, 평균 정밀도도 0.3 정도로 나쁘지 않은 편입니다.\n",
    "클래스 별로 살펴보면, crackles와 wheezes 클래스의 재현율이 상대적으로 높지만 정밀도는 낮습니다. 이는 모델이 해당 클래스의 객체를 많이 감지하지만 그 중에서 실제 해당 클래스에 속하는 객체의 비율이 낮다는 것을 의미합니다.\n",
    "개선을 위해서는 모델의 학습 데이터의 다양성을 높이거나, 모델 아키텍처를 조정하여 성능을 향상시킬 수 있습니다."
   ]
  },
  {
   "cell_type": "code",
   "execution_count": null,
   "metadata": {},
   "outputs": [],
   "source": [
    "import torch\n",
    "from PIL import Image\n",
    "import matplotlib.pyplot as plt\n",
    "import numpy as np\n",
    "import cv2\n",
    "\n",
    "# YOLOv5 모델 로드\n",
    "model = torch.hub.load('ultralytics/yolov5', 'yolov5s')\n",
    "\n",
    "# 이미지 로드\n",
    "image_path = 'your_image.jpg'  # 이미지 경로\n",
    "image = Image.open(image_path)\n",
    "\n",
    "# 객체 감지\n",
    "results = model(image)\n",
    "\n",
    "# 결과 시각화\n",
    "results.show()\n",
    "\n",
    "# 결과를 이미지로 저장\n",
    "results.save('result.jpg')\n",
    "\n",
    "# 결과를 numpy 배열로 반환\n",
    "result_image = results.render()[0]\n",
    "result_image = cv2.cvtColor(result_image, cv2.COLOR_RGB2BGR)\n",
    "cv2.imwrite('result_cv2.jpg', result_image)\n",
    "\n",
    "# 결과를 matplotlib으로 시각화\n",
    "plt.figure(figsize=(10, 10))\n",
    "plt.imshow(result_image)\n",
    "plt.axis('off')\n",
    "plt.show()"
   ]
  },
  {
   "cell_type": "code",
   "execution_count": 18,
   "metadata": {},
   "outputs": [
    {
     "name": "stdout",
     "output_type": "stream",
     "text": [
      "/home/sogaksa123/AIFFEL_THON/model/Yolov9/yolov9\n"
     ]
    }
   ],
   "source": [
    "import os\n",
    "HOME = os.getcwd()\n",
    "print(HOME)"
   ]
  },
  {
   "cell_type": "code",
   "execution_count": 19,
   "metadata": {},
   "outputs": [
    {
     "name": "stdout",
     "output_type": "stream",
     "text": [
      "/home/sogaksa123/AIFFEL_THON/model/Yolov9/yolov9\n"
     ]
    }
   ],
   "source": [
    "%cd '/home/sogaksa123/AIFFEL_THON/model/Yolov9/yolov9/'"
   ]
  },
  {
   "cell_type": "code",
   "execution_count": 20,
   "metadata": {},
   "outputs": [
    {
     "ename": "NameError",
     "evalue": "name 'AIFFEL_THON' is not defined",
     "output_type": "error",
     "traceback": [
      "\u001b[0;31m---------------------------------------------------------------------------\u001b[0m",
      "\u001b[0;31mNameError\u001b[0m                                 Traceback (most recent call last)",
      "Cell \u001b[0;32mIn[20], line 1\u001b[0m\n\u001b[0;32m----> 1\u001b[0m \u001b[43mAIFFEL_THON\u001b[49m\u001b[38;5;241m/\u001b[39mmodel\u001b[38;5;241m/\u001b[39mYolov9\u001b[38;5;241m/\u001b[39myolov9\u001b[38;5;241m/\u001b[39mdetect\u001b[38;5;241m.\u001b[39mpy\n",
      "\u001b[0;31mNameError\u001b[0m: name 'AIFFEL_THON' is not defined"
     ]
    }
   ],
   "source": [
    "AIFFEL_THON/model/Yolov9/yolov9/detect.py"
   ]
  },
  {
   "cell_type": "code",
   "execution_count": 21,
   "metadata": {},
   "outputs": [
    {
     "ename": "SyntaxError",
     "evalue": "invalid syntax (3029363345.py, line 2)",
     "output_type": "error",
     "traceback": [
      "\u001b[0;36m  Cell \u001b[0;32mIn[21], line 2\u001b[0;36m\u001b[0m\n\u001b[0;31m    python val.py --data data/coco.yaml --img 640 --batch 32 --conf 0.001 --iou 0.7 --device 0 --weights './yolov9-c-converted.pt' --save-json --name yolov9_c_c_640_val\u001b[0m\n\u001b[0m           ^\u001b[0m\n\u001b[0;31mSyntaxError\u001b[0m\u001b[0;31m:\u001b[0m invalid syntax\n"
     ]
    }
   ],
   "source": [
    "# evaluate converted yolov9 models\n",
    "python val.py --data data/coco.yaml --img 640 --batch 32 --conf 0.001 --iou 0.7 --device 0 --weights './yolov9-c-converted.pt' --save-json --name yolov9_c_c_640_val"
   ]
  },
  {
   "cell_type": "code",
   "execution_count": 22,
   "metadata": {},
   "outputs": [
    {
     "name": "stdout",
     "output_type": "stream",
     "text": [
      "\u001b[34m\u001b[1mdetect: \u001b[0mweights=['/home/sogaksa123/AIFFEL_THON/model/Yolov9/yolov9/runs/train/yolov9-c5/weights/best.pt'], source=/home/sogaksa123/AIFFEL_THON/data/dataset2/data_rec/Training/test/images/186_2b3_Ar_mc_AKGC417L_3.png, data=data/coco128.yaml, imgsz=[224, 224], conf_thres=0.25, iou_thres=0.45, max_det=1000, device=0, view_img=False, save_txt=False, save_conf=False, save_crop=False, nosave=False, classes=None, agnostic_nms=False, augment=False, visualize=False, update=False, project=runs/detect, name=yolov9_c_c_640_detect, exist_ok=False, line_thickness=3, hide_labels=False, hide_conf=False, half=False, dnn=False, vid_stride=1\n",
      "YOLOv5 🚀 1e33dbb Python-3.10.13 torch-2.2.1+cu121 CUDA:0 (NVIDIA L4, 22491MiB)\n",
      "\n",
      "Fusing layers... \n",
      "yolov9-c summary: 724 layers, 50960940 parameters, 0 gradients, 237.7 GFLOPs\n",
      "image 1/1 /home/sogaksa123/AIFFEL_THON/data/dataset2/data_rec/Training/test/images/186_2b3_Ar_mc_AKGC417L_3.png: 224x224 1 wheezes, 26.9ms\n",
      "Speed: 0.3ms pre-process, 26.9ms inference, 534.5ms NMS per image at shape (1, 3, 224, 224)\n",
      "Results saved to \u001b[1mruns/detect/yolov9_c_c_640_detect5\u001b[0m\n"
     ]
    }
   ],
   "source": [
    "!python detect.py --source '/home/sogaksa123/AIFFEL_THON/data/dataset2/data_rec/Training/test/images/186_2b3_Ar_mc_AKGC417L_3.png' --img 224 --device 0 --weights '/home/sogaksa123/AIFFEL_THON/model/Yolov9/yolov9/runs/train/yolov9-c5/weights/best.pt' --name yolov9_c_c_640_detect"
   ]
  },
  {
   "cell_type": "code",
   "execution_count": null,
   "metadata": {},
   "outputs": [],
   "source": []
  }
 ],
 "metadata": {
  "colab": {
   "machine_shape": "hm",
   "provenance": []
  },
  "kernelspec": {
   "display_name": "Python 3 (ipykernel)",
   "language": "python",
   "name": "python3"
  },
  "language_info": {
   "codemirror_mode": {
    "name": "ipython",
    "version": 3
   },
   "file_extension": ".py",
   "mimetype": "text/x-python",
   "name": "python",
   "nbconvert_exporter": "python",
   "pygments_lexer": "ipython3",
   "version": "3.10.13"
  }
 },
 "nbformat": 4,
 "nbformat_minor": 4
}
