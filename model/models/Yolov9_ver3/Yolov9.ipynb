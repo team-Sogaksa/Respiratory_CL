{
 "cells": [
  {
   "cell_type": "code",
   "execution_count": 1,
   "metadata": {
    "colab": {
     "base_uri": "https://localhost:8080/"
    },
    "executionInfo": {
     "elapsed": 22622,
     "status": "ok",
     "timestamp": 1710965066695,
     "user": {
      "displayName": "sogaksa",
      "userId": "09089533007502118018"
     },
     "user_tz": -540
    },
    "id": "6aIYDdZT2GwD",
    "outputId": "c5f615f8-5e5e-475c-d98f-50deb6323799"
   },
   "outputs": [
    {
     "name": "stdout",
     "output_type": "stream",
     "text": [
      "/home/sogaksa123/AIFFEL_THON/model/Yolov9_ver3\n"
     ]
    }
   ],
   "source": [
    "import os\n",
    "current_directory = os.getcwd()\n",
    "print(current_directory)"
   ]
  },
  {
   "cell_type": "code",
   "execution_count": 52,
   "metadata": {
    "id": "Sz9lL8VA4s-c"
   },
   "outputs": [
    {
     "name": "stdout",
     "output_type": "stream",
     "text": [
      "3.10.13 (main, Sep 11 2023, 13:44:35) [GCC 11.2.0]\n",
      "2.2.1\n",
      "1.26.4\n"
     ]
    }
   ],
   "source": [
    "import numpy as np\n",
    "import pandas as pd\n",
    "import matplotlib.pyplot as plt\n",
    "import sys\n",
    "print(sys.version)\n",
    "print(pd.__version__)\n",
    "print(np.__version__)\n",
    "\n",
    "import xml.etree.cElementTree as ET\n",
    "import glob\n",
    "import os\n",
    "import json\n",
    "import random\n",
    "import shutil\n",
    "\n",
    "from PIL import Image, ImageOps"
   ]
  },
  {
   "cell_type": "code",
   "execution_count": 3,
   "metadata": {},
   "outputs": [],
   "source": [
    "xml_files_dir = '/home/sogaksa123/AIFFEL_THON/data/dataset3/xml_files/'\n",
    "png_files_dir = '/home/sogaksa123/AIFFEL_THON/data/dataset3/png_files/'\n"
   ]
  },
  {
   "cell_type": "markdown",
   "metadata": {
    "id": "wav4XaYc6Q-d",
    "jp-MarkdownHeadingCollapsed": true
   },
   "source": [
    "### Review Data"
   ]
  },
  {
   "cell_type": "code",
   "execution_count": 10,
   "metadata": {
    "colab": {
     "base_uri": "https://localhost:8080/"
    },
    "executionInfo": {
     "elapsed": 8,
     "status": "ok",
     "timestamp": 1710958662991,
     "user": {
      "displayName": "sogaksa",
      "userId": "09089533007502118018"
     },
     "user_tz": -540
    },
    "id": "uhJcOWzz6gjn",
    "outputId": "a83e3e6a-a9b8-4120-a092-d5386b2337d8"
   },
   "outputs": [
    {
     "name": "stdout",
     "output_type": "stream",
     "text": [
      "<?xml version=\"1.0\" ?>\n",
      "<annotation>\n",
      "    <folder>data3</folder>\n",
      "    <filename>107_2b3_Ar_mc_AKGC417L_1.png</filename>\n",
      "    <path>/content/drive/MyDrive/aiffel/AIFFELthon/1_data/data3/107_2b3_Ar_mc_AKGC417L_1.png</path>\n",
      "    <source>\n",
      "        <database>ICBHI</database>\n",
      "    </source>\n",
      "    <size>\n",
      "        <width>224</width>\n",
      "        <height>224</height>\n",
      "        <depth>3</depth>\n",
      "    </size>\n",
      "    <segmented>0</segmented>\n",
      "    <object>\n",
      "        <name>crckles</name>\n",
      "        <pose>Unspecified</pose>\n",
      "        <truncated>0</truncated>\n",
      "        <difficult>0</difficult>\n",
      "        <bndbox>\n",
      "            <xmin>0</xmin>\n",
      "            <ymin>220</ymin>\n",
      "            <xmax>30</xmax>\n",
      "            <ymax>209</ymax>\n",
      "        </bndbox>\n",
      "    </object>\n",
      "    <object>\n",
      "        <name>crckles</name>\n",
      "        <pose>Unspecified</pose>\n",
      "        <truncated>0</truncated>\n",
      "        <difficult>0</difficult>\n",
      "        <bndbox>\n",
      "            <xmin>30</xmin>\n",
      "            <ymin>220</ymin>\n",
      "            <xmax>113</xmax>\n",
      "            <ymax>209</ymax>\n",
      "        </bndbox>\n",
      "    </object>\n",
      "    <object>\n",
      "        <name>crckles</name>\n",
      "        <pose>Unspecified</pose>\n",
      "        <truncated>0</truncated>\n",
      "        <difficult>0</difficult>\n",
      "        <bndbox>\n",
      "            <xmin>113</xmin>\n",
      "            <ymin>220</ymin>\n",
      "            <xmax>198</xmax>\n",
      "            <ymax>209</ymax>\n",
      "        </bndbox>\n",
      "    </object>\n",
      "    <object>\n",
      "        <name>crckles</name>\n",
      "        <pose>Unspecified</pose>\n",
      "        <truncated>0</truncated>\n",
      "        <difficult>0</difficult>\n",
      "        <bndbox>\n",
      "            <xmin>198</xmin>\n",
      "            <ymin>220</ymin>\n",
      "            <xmax>224</xmax>\n",
      "            <ymax>209</ymax>\n",
      "        </bndbox>\n",
      "    </object>\n",
      "    <object>\n",
      "        <name>wheezes</name>\n",
      "        <pose>Unspecified</pose>\n",
      "        <truncated>0</truncated>\n",
      "        <difficult>0</difficult>\n",
      "        <bndbox>\n",
      "            <xmin>0</xmin>\n",
      "            <ymin>209</ymin>\n",
      "            <xmax>30</xmax>\n",
      "            <ymax>134</ymax>\n",
      "        </bndbox>\n",
      "    </object>\n",
      "    <object>\n",
      "        <name>wheezes</name>\n",
      "        <pose>Unspecified</pose>\n",
      "        <truncated>0</truncated>\n",
      "        <difficult>0</difficult>\n",
      "        <bndbox>\n",
      "            <xmin>30</xmin>\n",
      "            <ymin>209</ymin>\n",
      "            <xmax>113</xmax>\n",
      "            <ymax>134</ymax>\n",
      "        </bndbox>\n",
      "    </object>\n",
      "    <object>\n",
      "        <name>wheezes</name>\n",
      "        <pose>Unspecified</pose>\n",
      "        <truncated>0</truncated>\n",
      "        <difficult>0</difficult>\n",
      "        <bndbox>\n",
      "            <xmin>113</xmin>\n",
      "            <ymin>209</ymin>\n",
      "            <xmax>198</xmax>\n",
      "            <ymax>134</ymax>\n",
      "        </bndbox>\n",
      "    </object>\n",
      "    <object>\n",
      "        <name>wheezes</name>\n",
      "        <pose>Unspecified</pose>\n",
      "        <truncated>0</truncated>\n",
      "        <difficult>0</difficult>\n",
      "        <bndbox>\n",
      "            <xmin>198</xmin>\n",
      "            <ymin>209</ymin>\n",
      "            <xmax>224</xmax>\n",
      "            <ymax>134</ymax>\n",
      "        </bndbox>\n",
      "    </object>\n",
      "</annotation>\n",
      "\n"
     ]
    }
   ],
   "source": [
    "# This is a label from the annotation folder. This label is .xml format.\n",
    "sample_xml = xml_files_dir+'107_2b3_Ar_mc_AKGC417L_1.xml'\n",
    "with open(sample_xml) as f:\n",
    "    contents = f.read()\n",
    "    print(contents)\n"
   ]
  },
  {
   "cell_type": "markdown",
   "metadata": {
    "id": "DUWQVIo-7GI1"
   },
   "source": [
    "### Preparing Data For Model(YoloV9)"
   ]
  },
  {
   "cell_type": "markdown",
   "metadata": {
    "id": "mZFPG1ZFDPsk"
   },
   "source": [
    "#### Translate '.xml\" format to \".txt\" format"
   ]
  },
  {
   "cell_type": "markdown",
   "metadata": {
    "id": "_FJz65rHavk8"
   },
   "source": [
    "# Data Loading"
   ]
  },
  {
   "cell_type": "code",
   "execution_count": 18,
   "metadata": {
    "id": "D0Q70KlJ7M1_"
   },
   "outputs": [],
   "source": [
    "# The functions are about translating label data.\n",
    "def xml_to_yolo_bbox(bbox, w, h):\n",
    "    x_center = ((bbox[2] + bbox[0]) / 2) / w\n",
    "    y_center = (((h-bbox[3]) + (h-bbox[1])) / 2 ) / h # y\n",
    "\n",
    "    width = (bbox[2] - bbox[0]) / w\n",
    "    height = ((h-bbox[3]) - (h-bbox[1])) / h # y\n",
    "\n",
    "    return [x_center, y_center, width, height]\n",
    "\n",
    "def yolo_to_xml_bbox(bbox, w, h):\n",
    "    # x_center, y_center, width, height\n",
    "    w_half_len = (bbox[2] + w) / 2\n",
    "    h_half_len = (bbox[3] + h) / 2\n",
    "\n",
    "    xmin = int((bbox[0] + w) - w_half_len)\n",
    "    ymin = int((bbox[1] + h) - h_half_len)\n",
    "    xmax = int((bbox[0] + w) + w_half_len)\n",
    "    ymax = int((bbox[1] + h) + h_half_len)\n",
    "\n",
    "    return [xmin, ymin, xmax, ymax]"
   ]
  },
  {
   "cell_type": "code",
   "execution_count": 5,
   "metadata": {},
   "outputs": [],
   "source": [
    "tmp_root = '/home/sogaksa123/AIFFEL_THON/'"
   ]
  },
  {
   "cell_type": "code",
   "execution_count": 19,
   "metadata": {
    "id": "tt8EUlCdDZvB"
   },
   "outputs": [],
   "source": [
    "# Create .txt label data.\n",
    "classes = []\n",
    "\n",
    "input_dir = tmp_root+\"data/dataset3/xml_files\"\n",
    "output_dir = tmp_root+\"model/Yolov9_ver3/labels\"\n",
    "image_dir = tmp_root+\"data/dataset3/png_files\"\n",
    "\n",
    "if not os.path.exists(output_dir):\n",
    "    os.mkdir(output_dir)\n",
    "\n",
    "files = glob.glob(os.path.join(input_dir, \"*.xml\"))\n",
    "for fil in files:\n",
    "    basename = os.path.basename(fil)\n",
    "    filename = os.path.splitext(basename)[0]\n",
    "    if not os.path.exists(os.path.join(image_dir, f\"{filename}.png\")):\n",
    "        print(f\"{filename} image does not exist\")\n",
    "        continue\n",
    "\n",
    "    result = []\n",
    "\n",
    "    tree = ET.parse(fil)\n",
    "    root = tree.getroot()\n",
    "    width = int(root.find(\"size\").find(\"width\").text)\n",
    "    height = int(root.find(\"size\").find(\"height\").text)\n",
    "\n",
    "    for obj in root.findall(\"object\"):\n",
    "        label = obj.find(\"name\").text\n",
    "\n",
    "        if label not in classes:\n",
    "            classes.append(label)\n",
    "\n",
    "        index = classes.index(label)\n",
    "        pil_bbox = [int(x.text) for x in obj.find(\"bndbox\")]\n",
    "        yolo_bbox = xml_to_yolo_bbox(pil_bbox, width, height)\n",
    "\n",
    "        bbox_string = \" \".join([str(x) for x in yolo_bbox])\n",
    "        result.append(f\"{index} {bbox_string}\")\n",
    "\n",
    "    if result:\n",
    "\n",
    "        with open(os.path.join(output_dir, f\"{filename}.txt\"), \"w\", encoding = \"utf-8\") as f:\n",
    "            f.write(\"\\n\".join(result))\n",
    "\n",
    "with open(f\"{output_dir}/classes.txt\", \"w\", encoding = \"utf-8\") as f:\n",
    "    f.write(json.dumps(classes))"
   ]
  },
  {
   "cell_type": "code",
   "execution_count": 20,
   "metadata": {
    "colab": {
     "base_uri": "https://localhost:8080/"
    },
    "executionInfo": {
     "elapsed": 433,
     "status": "ok",
     "timestamp": 1710961387335,
     "user": {
      "displayName": "sogaksa",
      "userId": "09089533007502118018"
     },
     "user_tz": -540
    },
    "id": "T0I0G842DbrM",
    "outputId": "2283cbbe-46a0-427c-9927-99752dd018fe"
   },
   "outputs": [
    {
     "name": "stdout",
     "output_type": "stream",
     "text": [
      "[\"crckles\", \"wheezes\", \"normal\"]\n"
     ]
    }
   ],
   "source": [
    "# Labels\n",
    "with open(f\"{output_dir}/classes.txt\") as f:\n",
    "    contents = f.read()\n",
    "    print(contents)"
   ]
  },
  {
   "cell_type": "code",
   "execution_count": 21,
   "metadata": {
    "colab": {
     "base_uri": "https://localhost:8080/"
    },
    "executionInfo": {
     "elapsed": 441,
     "status": "ok",
     "timestamp": 1710961951616,
     "user": {
      "displayName": "sogaksa",
      "userId": "09089533007502118018"
     },
     "user_tz": -540
    },
    "id": "fKeBF9qCR27X",
    "outputId": "7bd99f76-faca-4b4f-ba4c-59ec784ae63c"
   },
   "outputs": [
    {
     "data": {
      "text/plain": [
       "['crckles', 'wheezes', 'normal']"
      ]
     },
     "execution_count": 21,
     "metadata": {},
     "output_type": "execute_result"
    }
   ],
   "source": [
    "classes"
   ]
  },
  {
   "cell_type": "code",
   "execution_count": 45,
   "metadata": {
    "id": "_SCtcYklDcTo"
   },
   "outputs": [
    {
     "name": "stdout",
     "output_type": "stream",
     "text": [
      "<?xml version=\"1.0\" ?>\n",
      "<annotation>\n",
      "    <folder>data3</folder>\n",
      "    <filename>160_1b2_Tc_mc_AKGC417L_2.png</filename>\n",
      "    <path>/content/drive/MyDrive/aiffel/AIFFELthon/1_data/data3/160_1b2_Tc_mc_AKGC417L_2.png</path>\n",
      "    <source>\n",
      "        <database>ICBHI</database>\n",
      "    </source>\n",
      "    <size>\n",
      "        <width>224</width>\n",
      "        <height>224</height>\n",
      "        <depth>3</depth>\n",
      "    </size>\n",
      "    <segmented>0</segmented>\n",
      "    <object>\n",
      "        <name>wheezes</name>\n",
      "        <pose>Unspecified</pose>\n",
      "        <truncated>0</truncated>\n",
      "        <difficult>0</difficult>\n",
      "        <bndbox>\n",
      "            <xmin>0</xmin>\n",
      "            <ymin>209</ymin>\n",
      "            <xmax>-117</xmax>\n",
      "            <ymax>134</ymax>\n",
      "        </bndbox>\n",
      "    </object>\n",
      "</annotation>\n",
      "\n"
     ]
    }
   ],
   "source": [
    "# .xml format\n",
    "with open(\"/home/sogaksa123/AIFFEL_THON/data/dataset3/xml_files/160_1b2_Tc_mc_AKGC417L_2.xml\") as f:\n",
    "    contents = f.read()\n",
    "    print(contents)\n",
    "\n",
    "#  160_1b2_Ar_mc_AKGC417L_2\n",
    "#  160_1b2_Al_mc_AKGC417L_2\n",
    "#  160_1b2_Pl_mc_AKGC417L_2\n",
    "#  160_1b2_Lr_mc_AKGC417L_2\n",
    "# 160_1b2_Pr_mc_AKGC417L_2\n",
    "# 160_1b2_Tc_mc_AKGC417L_2"
   ]
  },
  {
   "cell_type": "code",
   "execution_count": 50,
   "metadata": {
    "scrolled": true
   },
   "outputs": [
    {
     "data": {
      "image/jpeg": "[encoded data removed]",
      "image/png": "[encoded data removed]",
      "text/plain": [
       "<PIL.PngImagePlugin.PngImageFile image mode=RGB size=224x224>"
      ]
     },
     "metadata": {},
     "output_type": "display_data"
    }
   ],
   "source": [
    "from PIL import Image, ImageDraw\n",
    "image_path = '/home/sogaksa123/AIFFEL_THON/data/dataset3/png_files/160_1b2_Tc_mc_AKGC417L_2.png'\n",
    "\n",
    "image = Image.open(image_path)\n",
    "\n",
    "# 이미지에 그릴 좌표\n",
    "x_min, y_min = 0, 209\n",
    "x_max, y_max = -117, 134\n",
    "\n",
    "# 그리기 객체 생성\n",
    "draw = ImageDraw.Draw(image)\n",
    "\n",
    "# 점 그리기\n",
    "point_size = 5\n",
    "\n",
    "# 점 그리기\n",
    "draw.ellipse([(x_min-point_size, y_min-point_size), (x_min+point_size, y_min+point_size)], fill='black')\n",
    "draw.ellipse([(x_max-point_size, y_max-point_size), (x_max+point_size, y_max+point_size)], fill='black')\n",
    "\n",
    "# 이미지 보기\n",
    "image.show()\n"
   ]
  },
  {
   "cell_type": "code",
   "execution_count": 23,
   "metadata": {
    "colab": {
     "base_uri": "https://localhost:8080/"
    },
    "executionInfo": {
     "elapsed": 584,
     "status": "ok",
     "timestamp": 1710961928886,
     "user": {
      "displayName": "sogaksa",
      "userId": "09089533007502118018"
     },
     "user_tz": -540
    },
    "id": "PbYMTv4PDeqv",
    "outputId": "dbf5848f-3aa2-4349-98a0-981b94116599"
   },
   "outputs": [
    {
     "name": "stdout",
     "output_type": "stream",
     "text": [
      "1 0.25892857142857145 0.234375 0.4107142857142857 0.33482142857142855\n",
      "1 0.9732142857142857 0.234375 0.05357142857142857 0.33482142857142855\n",
      "2 0.7053571428571429 0.04241071428571429 0.48214285714285715 0.049107142857142856\n"
     ]
    }
   ],
   "source": [
    "# .txt format\n",
    "with open(\"/home/sogaksa123/AIFFEL_THON/model/Yolov9_ver3/labels/103_2b2_Ar_mc_LittC2SE_0.txt\") as f:\n",
    "    contents = f.read()\n",
    "    print(contents)"
   ]
  },
  {
   "cell_type": "code",
   "execution_count": 24,
   "metadata": {
    "colab": {
     "base_uri": "https://localhost:8080/"
    },
    "executionInfo": {
     "elapsed": 5,
     "status": "ok",
     "timestamp": 1710962008684,
     "user": {
      "displayName": "sogaksa",
      "userId": "09089533007502118018"
     },
     "user_tz": -540
    },
    "id": "glcwKvIGDhWy",
    "outputId": "9978398b-9c08-4d5a-c058-c0010939e29c"
   },
   "outputs": [
    {
     "name": "stdout",
     "output_type": "stream",
     "text": [
      "Annotation Counts: 2984\n",
      "Lables Counts: 2985\n"
     ]
    }
   ],
   "source": [
    "annotation_count = len(os.listdir(input_dir))\n",
    "labels_count = len(os.listdir(output_dir))\n",
    "print(f\"Annotation Counts: {annotation_count}\")\n",
    "print(f\"Lables Counts: {labels_count}\")"
   ]
  },
  {
   "cell_type": "markdown",
   "metadata": {
    "id": "Az7lkGQDEfei"
   },
   "source": [
    "### Preparing Training Data"
   ]
  },
  {
   "cell_type": "code",
   "execution_count": null,
   "metadata": {
    "id": "fkvKoWwmFHp6"
   },
   "outputs": [],
   "source": [
    "root = '/home/sogaksa123/AIFFEL_THON/model/Yolov9_ver3/Training/data'\n",
    "os.mkdir('/home/sogaksa123/AIFFEL_THON/model/Yolov9_ver3')\n",
    "os.mkdir('/home/sogaksa123/AIFFEL_THON/model/Yolov9_ver3/Training')\n",
    "os.mkdir('/home/sogaksa123/AIFFEL_THON/model/Yolov9_ver3/Training/data')\n"
   ]
  },
  {
   "cell_type": "code",
   "execution_count": 26,
   "metadata": {
    "id": "EKgBKbpeEcaU"
   },
   "outputs": [
    {
     "ename": "FileExistsError",
     "evalue": "[Errno 17] File exists: '/home/sogaksa123/AIFFEL_THON/model/Yolov9_ver3/Training/data/train'",
     "output_type": "error",
     "traceback": [
      "\u001b[0;31m---------------------------------------------------------------------------\u001b[0m",
      "\u001b[0;31mFileExistsError\u001b[0m                           Traceback (most recent call last)",
      "Cell \u001b[0;32mIn[26], line 4\u001b[0m\n\u001b[1;32m      1\u001b[0m \u001b[38;5;66;03m# Create a folder of train dataset\u001b[39;00m\n\u001b[1;32m      3\u001b[0m \u001b[38;5;28;01mif\u001b[39;00m \u001b[38;5;129;01mnot\u001b[39;00m os\u001b[38;5;241m.\u001b[39mpath\u001b[38;5;241m.\u001b[39misfile(\u001b[38;5;124m\"\u001b[39m\u001b[38;5;124m/home/sogaksa123/AIFFEL_THON/model/Yolov9_ver3/Training/data\u001b[39m\u001b[38;5;124m\"\u001b[39m):\n\u001b[0;32m----> 4\u001b[0m     \u001b[43mos\u001b[49m\u001b[38;5;241;43m.\u001b[39;49m\u001b[43mmkdir\u001b[49m\u001b[43m(\u001b[49m\u001b[38;5;124;43m'\u001b[39;49m\u001b[38;5;124;43m/home/sogaksa123/AIFFEL_THON/model/Yolov9_ver3/Training/data/train\u001b[39;49m\u001b[38;5;124;43m'\u001b[39;49m\u001b[43m)\u001b[49m\n\u001b[1;32m      5\u001b[0m     os\u001b[38;5;241m.\u001b[39mmkdir(\u001b[38;5;124m'\u001b[39m\u001b[38;5;124m/home/sogaksa123/AIFFEL_THON/model/Yolov9_ver3/Training/data/val\u001b[39m\u001b[38;5;124m'\u001b[39m)\n\u001b[1;32m      6\u001b[0m     os\u001b[38;5;241m.\u001b[39mmkdir(\u001b[38;5;124m'\u001b[39m\u001b[38;5;124m/home/sogaksa123/AIFFEL_THON/model/Yolov9_ver3/Training/data/test\u001b[39m\u001b[38;5;124m'\u001b[39m)\n",
      "\u001b[0;31mFileExistsError\u001b[0m: [Errno 17] File exists: '/home/sogaksa123/AIFFEL_THON/model/Yolov9_ver3/Training/data/train'"
     ]
    }
   ],
   "source": [
    "# Create a folder of train dataset\n",
    "\n",
    "if not os.path.isfile(\"/home/sogaksa123/AIFFEL_THON/model/Yolov9_ver3/Training/data\"):\n",
    "    os.mkdir('/home/sogaksa123/AIFFEL_THON/model/Yolov9_ver3/Training/data/train')\n",
    "    os.mkdir('/home/sogaksa123/AIFFEL_THON/model/Yolov9_ver3/Training/data/val')\n",
    "    os.mkdir('/home/sogaksa123/AIFFEL_THON/model/Yolov9_ver3/Training/data/test')\n",
    "    os.mkdir('/home/sogaksa123/AIFFEL_THON/model/Yolov9_ver3/Training/data/train/images')\n",
    "    os.mkdir('/home/sogaksa123/AIFFEL_THON/model/Yolov9_ver3/Training/data/train/labels')\n",
    "    os.mkdir('/home/sogaksa123/AIFFEL_THON/model/Yolov9_ver3/Training/data/test/images')\n",
    "    os.mkdir('/home/sogaksa123/AIFFEL_THON/model/Yolov9_ver3/Training/data/test/labels')\n",
    "    os.mkdir('/home/sogaksa123/AIFFEL_THON/model/Yolov9_ver3/Training/data/val/images')\n",
    "    os.mkdir('/home/sogaksa123/AIFFEL_THON/model/Yolov9_ver3/Training/data/val/labels')"
   ]
  },
  {
   "cell_type": "code",
   "execution_count": 28,
   "metadata": {
    "id": "6dtnyKFUE4i6"
   },
   "outputs": [],
   "source": [
    "# Material is the names of images in the images folder.\n",
    "metarial = []\n",
    "for i in sorted(os.listdir(\"/home/sogaksa123/AIFFEL_THON/data/dataset3/png_files\")):\n",
    "    string = i[:-4]\n",
    "    metarial.append(string)"
   ]
  },
  {
   "cell_type": "code",
   "execution_count": 29,
   "metadata": {
    "colab": {
     "base_uri": "https://localhost:8080/"
    },
    "executionInfo": {
     "elapsed": 4,
     "status": "ok",
     "timestamp": 1710962287363,
     "user": {
      "displayName": "sogaksa",
      "userId": "09089533007502118018"
     },
     "user_tz": -540
    },
    "id": "hbnYtAv5lgn5",
    "outputId": "9a071e0b-fe2b-478f-f272-2b78288bdc91"
   },
   "outputs": [
    {
     "data": {
      "text/plain": [
       "['101_1b1_Al_sc_Meditron_0',\n",
       " '101_1b1_Al_sc_Meditron_1',\n",
       " '101_1b1_Al_sc_Meditron_2',\n",
       " '101_1b1_Pr_sc_Meditron_0',\n",
       " '101_1b1_Pr_sc_Meditron_1',\n",
       " '101_1b1_Pr_sc_Meditron_2',\n",
       " '102_1b1_Ar_sc_Meditron_0',\n",
       " '102_1b1_Ar_sc_Meditron_1',\n",
       " '102_1b1_Ar_sc_Meditron_2',\n",
       " '103_2b2_Ar_mc_LittC2SE_0']"
      ]
     },
     "execution_count": 29,
     "metadata": {},
     "output_type": "execute_result"
    }
   ],
   "source": [
    "metarial[0:10]"
   ]
  },
  {
   "cell_type": "code",
   "execution_count": 30,
   "metadata": {
    "colab": {
     "base_uri": "https://localhost:8080/"
    },
    "executionInfo": {
     "elapsed": 3,
     "status": "ok",
     "timestamp": 1710962144281,
     "user": {
      "displayName": "sogaksa",
      "userId": "09089533007502118018"
     },
     "user_tz": -540
    },
    "id": "E6pz8p6Wlm-p",
    "outputId": "ed0351e8-69a2-45b1-ded8-b919d339ed3b"
   },
   "outputs": [
    {
     "name": "stdout",
     "output_type": "stream",
     "text": [
      "Sum of image:  2984\n",
      "Sum of the train size:  2088\n",
      "Sum of the test size:  447\n",
      "Sum of the val size:  447\n"
     ]
    }
   ],
   "source": [
    "print(\"Sum of image: \", len(metarial))\n",
    "train_size = int(len(metarial) * 0.7)\n",
    "test_size = int(len(metarial) * 0.15)\n",
    "val_size = int(len(metarial) * 0.15)\n",
    "print(\"Sum of the train size: \", train_size)\n",
    "print(\"Sum of the test size: \", test_size)\n",
    "print(\"Sum of the val size: \", val_size)"
   ]
  },
  {
   "cell_type": "markdown",
   "metadata": {
    "id": "cH9aOgl0W_Qe"
   },
   "source": [
    "# Data Split"
   ]
  },
  {
   "cell_type": "code",
   "execution_count": 33,
   "metadata": {
    "id": "k1juw7WaluXV"
   },
   "outputs": [],
   "source": [
    "import os\n",
    "import shutil\n",
    "\n",
    "def preparingdata(main_txt_file, main_img_file, train_size, test_size, val_size):\n",
    "    for i in range(0, train_size):\n",
    "        source_txt = main_txt_file + \"/\" + metarial[i] + \".txt\"\n",
    "        source_img = main_img_file + \"/\" + metarial[i] + \".png\"\n",
    "\n",
    "        mstring = metarial[i]\n",
    "        train_destination_txt = \"/home/sogaksa123/AIFFEL_THON/model/Yolov9_ver3/Training/data/train/labels\" + \"/\" + metarial[i] + \".txt\"\n",
    "        train_destination_png = \"/home/sogaksa123/AIFFEL_THON/model/Yolov9_ver3/Training/data/train/images\" + \"/\" + metarial[i] + \".png\"\n",
    "\n",
    "        shutil.copy(source_txt, train_destination_txt)\n",
    "        shutil.copy(source_img, train_destination_png)\n",
    "\n",
    "    for l in range(train_size , train_size + test_size):\n",
    "        source_txt = main_txt_file + \"/\" + metarial[l] + \".txt\"\n",
    "        source_img = main_img_file + \"/\" + metarial[l] + \".png\"\n",
    "\n",
    "        mstring = metarial[l]\n",
    "        test_destination_txt = \"/home/sogaksa123/AIFFEL_THON/model/Yolov9_ver3/Training/data/test/labels\" + \"/\" + metarial[l] + \".txt\"\n",
    "        test_destination_png = \"/home/sogaksa123/AIFFEL_THON/model/Yolov9_ver3/Training/data/test/images\" + \"/\" + metarial[l] + \".png\"\n",
    "\n",
    "        shutil.copy(source_txt, test_destination_txt)\n",
    "        shutil.copy(source_img, test_destination_png)\n",
    "\n",
    "    for n in range(train_size + test_size , train_size + test_size + val_size):\n",
    "        source_txt = main_txt_file + \"/\" + metarial[n] + \".txt\"\n",
    "        source_img = main_img_file + \"/\" + metarial[n] + \".png\"\n",
    "\n",
    "        mstring = metarial[n]\n",
    "        val_destination_txt = \"/home/sogaksa123/AIFFEL_THON/model/Yolov9_ver3/Training/data/val/labels\" + \"/\" + metarial[n] + \".txt\"\n",
    "        val_destination_png = \"/home/sogaksa123/AIFFEL_THON/model/Yolov9_ver3/Training/data/val/images\" + \"/\" + metarial[n] + \".png\"\n",
    "\n",
    "        # Remove _mel_spec from the filename\n",
    "        new_filename = metarial[n]\n",
    "\n",
    "        # Copy files with modified filename\n",
    "        shutil.copy(source_txt, val_destination_txt)\n",
    "        shutil.copy(source_img, val_destination_png.replace(metarial[n], new_filename))\n"
   ]
  },
  {
   "cell_type": "code",
   "execution_count": 34,
   "metadata": {
    "id": "sZqOS6Gatayn"
   },
   "outputs": [],
   "source": [
    "#preparinbdata(\"/kaggle/working/labels\", \"/kaggle/input/face-mask-detection/images\", 603, 150, 100)\n",
    "\n",
    "preparingdata(main_txt_file = \"/home/sogaksa123/AIFFEL_THON/model/Yolov9_ver3/labels\",\n",
    "              main_img_file = \"/home/sogaksa123/AIFFEL_THON/data/dataset3/png_files\",\n",
    "              train_size = train_size,\n",
    "              test_size = test_size,\n",
    "              val_size = val_size)"
   ]
  },
  {
   "cell_type": "code",
   "execution_count": 35,
   "metadata": {
    "colab": {
     "base_uri": "https://localhost:8080/"
    },
    "executionInfo": {
     "elapsed": 609,
     "status": "ok",
     "timestamp": 1710964839731,
     "user": {
      "displayName": "sogaksa",
      "userId": "09089533007502118018"
     },
     "user_tz": -540
    },
    "id": "2OTRKmDaT33Y",
    "outputId": "d392287a-9370-4735-be1e-835cb69c9b0f"
   },
   "outputs": [
    {
     "name": "stdout",
     "output_type": "stream",
     "text": [
      "train_data: 2088\n",
      "val_data: 447\n",
      "test_data: 448\n"
     ]
    }
   ],
   "source": [
    "train_data = len(os.listdir(\"/home/sogaksa123/AIFFEL_THON/model/Yolov9_ver3/Training/data/train/images\"))\n",
    "val_data = len(os.listdir(\"/home/sogaksa123/AIFFEL_THON/model/Yolov9_ver3/Training/data/val/images\"))\n",
    "test_data = len(os.listdir(\"/home/sogaksa123/AIFFEL_THON/model/Yolov9_ver3/Training/data/test/images\"))\n",
    "\n",
    "print(f\"train_data: {train_data}\")\n",
    "print(f\"val_data: {val_data}\")\n",
    "print(f\"test_data: {test_data}\")"
   ]
  },
  {
   "cell_type": "markdown",
   "metadata": {
    "id": "Yh5PsrA7ck_2"
   },
   "source": [
    "###yaml 파일 제작"
   ]
  },
  {
   "cell_type": "code",
   "execution_count": 36,
   "metadata": {
    "id": "n-0g918Z_nwV"
   },
   "outputs": [],
   "source": [
    "# Create the data.yaml. I am going to use it on the train with yolov9.\n",
    "yaml_text = \"\"\"train: /home/sogaksa123/AIFFEL_THON/model/Yolov9_ver3/Training/data/train/images/\n",
    "val: /home/sogaksa123/AIFFEL_THON/model/Yolov9_ver3/Training/data/val/images\n",
    "\n",
    "nc: 3\n",
    "names: [\"crackles\", \"wheezes\", \"normal\"]\"\"\"\n",
    "\n",
    "with open(\"/home/sogaksa123/AIFFEL_THON/model/Yolov9_ver3/data.yaml\", 'w') as file:\n",
    "    file.write(yaml_text)"
   ]
  },
  {
   "cell_type": "code",
   "execution_count": 37,
   "metadata": {
    "colab": {
     "base_uri": "https://localhost:8080/"
    },
    "executionInfo": {
     "elapsed": 3,
     "status": "ok",
     "timestamp": 1710965083391,
     "user": {
      "displayName": "sogaksa",
      "userId": "09089533007502118018"
     },
     "user_tz": -540
    },
    "id": "7liaV3Y6AV06",
    "outputId": "69a03521-25f8-4948-83b1-39f68b1fb6fb"
   },
   "outputs": [
    {
     "name": "stdout",
     "output_type": "stream",
     "text": [
      "train: /home/sogaksa123/AIFFEL_THON/model/Yolov9_ver3/Training/data/train/images/\n",
      "val: /home/sogaksa123/AIFFEL_THON/model/Yolov9_ver3/Training/data/val/images\n",
      "\n",
      "nc: 3\n",
      "names: [\"crackles\", \"wheezes\", \"normal\"]\n"
     ]
    }
   ],
   "source": [
    "with open(\"/home/sogaksa123/AIFFEL_THON/model/Yolov9_ver3/data.yaml\") as f:\n",
    "    contents = f.read()\n",
    "    print(contents)"
   ]
  },
  {
   "cell_type": "markdown",
   "metadata": {
    "id": "GM3WTgM-AhNy"
   },
   "source": [
    "## YoloV9\n",
    "---"
   ]
  },
  {
   "cell_type": "code",
   "execution_count": 38,
   "metadata": {
    "colab": {
     "base_uri": "https://localhost:8080/"
    },
    "executionInfo": {
     "elapsed": 860,
     "status": "ok",
     "timestamp": 1710965086574,
     "user": {
      "displayName": "sogaksa",
      "userId": "09089533007502118018"
     },
     "user_tz": -540
    },
    "id": "Vlce66DnAdUT",
    "outputId": "c6d08046-698e-43a2-8290-72034b78aab7"
   },
   "outputs": [
    {
     "name": "stdout",
     "output_type": "stream",
     "text": [
      "fatal: destination path 'yolov9' already exists and is not an empty directory.\n"
     ]
    }
   ],
   "source": [
    "# Download Github rep.\n",
    "!git clone https://github.com/SkalskiP/yolov9.git"
   ]
  },
  {
   "cell_type": "code",
   "execution_count": 40,
   "metadata": {
    "colab": {
     "base_uri": "https://localhost:8080/"
    },
    "executionInfo": {
     "elapsed": 87965,
     "status": "ok",
     "timestamp": 1710965177954,
     "user": {
      "displayName": "sogaksa",
      "userId": "09089533007502118018"
     },
     "user_tz": -540
    },
    "id": "gTTNINAXEymy",
    "outputId": "98a9f882-4e7a-4708-f973-83f90a95caa8"
   },
   "outputs": [],
   "source": [
    "# İnstall the req.\n",
    "!pip install -r /home/sogaksa123/AIFFEL_THON/model/Yolov9_ver3/yolov9/requirements.txt -q"
   ]
  },
  {
   "cell_type": "code",
   "execution_count": 41,
   "metadata": {
    "id": "qlNlJRlugABH"
   },
   "outputs": [],
   "source": [
    "import torch"
   ]
  },
  {
   "cell_type": "code",
   "execution_count": 42,
   "metadata": {
    "colab": {
     "base_uri": "https://localhost:8080/"
    },
    "executionInfo": {
     "elapsed": 280,
     "status": "ok",
     "timestamp": 1710966119857,
     "user": {
      "displayName": "sogaksa",
      "userId": "09089533007502118018"
     },
     "user_tz": -540
    },
    "id": "WKVnhPncfLIQ",
    "outputId": "7f92f945-5dca-4f1a-b033-7e2390c457a7"
   },
   "outputs": [
    {
     "name": "stdout",
     "output_type": "stream",
     "text": [
      "Fri Mar 29 09:03:21 2024       \n",
      "+---------------------------------------------------------------------------------------+\n",
      "| NVIDIA-SMI 535.161.07             Driver Version: 535.161.07   CUDA Version: 12.2     |\n",
      "|-----------------------------------------+----------------------+----------------------+\n",
      "| GPU  Name                 Persistence-M | Bus-Id        Disp.A | Volatile Uncorr. ECC |\n",
      "| Fan  Temp   Perf          Pwr:Usage/Cap |         Memory-Usage | GPU-Util  Compute M. |\n",
      "|                                         |                      |               MIG M. |\n",
      "|=========================================+======================+======================|\n",
      "|   0  NVIDIA L4                      Off | 00000000:00:03.0 Off |                    0 |\n",
      "| N/A   46C    P0              27W /  72W |      0MiB / 23034MiB |      3%      Default |\n",
      "|                                         |                      |                  N/A |\n",
      "+-----------------------------------------+----------------------+----------------------+\n",
      "                                                                                         \n",
      "+---------------------------------------------------------------------------------------+\n",
      "| Processes:                                                                            |\n",
      "|  GPU   GI   CI        PID   Type   Process name                            GPU Memory |\n",
      "|        ID   ID                                                             Usage      |\n",
      "|=======================================================================================|\n",
      "|  No running processes found                                                           |\n",
      "+---------------------------------------------------------------------------------------+\n"
     ]
    }
   ],
   "source": [
    "!nvidia-smi"
   ]
  },
  {
   "cell_type": "code",
   "execution_count": 43,
   "metadata": {
    "colab": {
     "base_uri": "https://localhost:8080/"
    },
    "executionInfo": {
     "elapsed": 307,
     "status": "ok",
     "timestamp": 1710966126950,
     "user": {
      "displayName": "sogaksa",
      "userId": "09089533007502118018"
     },
     "user_tz": -540
    },
    "id": "mAGnj48jf6_-",
    "outputId": "297e61ff-4a7c-4643-b57a-a1b72db0561e"
   },
   "outputs": [
    {
     "name": "stdout",
     "output_type": "stream",
     "text": [
      "현재 device는 cuda 입니다.\n"
     ]
    }
   ],
   "source": [
    "device = torch.device('cuda' if torch.cuda.is_available() else 'cpu')\n",
    "print(f\"현재 device는 {device} 입니다.\")"
   ]
  },
  {
   "cell_type": "markdown",
   "metadata": {},
   "source": [
    "### Training"
   ]
  },
  {
   "cell_type": "code",
   "execution_count": 1,
   "metadata": {
    "colab": {
     "background_save": true,
     "base_uri": "https://localhost:8080/"
    },
    "id": "qvsvVbh2E3D2",
    "outputId": "fe9b7c6a-2f5b-44dc-ea16-728cd7e9959d"
   },
   "outputs": [
    {
     "name": "stdout",
     "output_type": "stream",
     "text": [
      "\u001b[34m\u001b[1mtrain_dual: \u001b[0mweights=, cfg=/home/sogaksa123/AIFFEL_THON/model/Yolov9_ver3/yolov9/models/detect/yolov9-c.yaml, data=/home/sogaksa123/AIFFEL_THON/model/Yolov9_ver3/data.yaml, hyp=/home/sogaksa123/AIFFEL_THON/model/Yolov9_ver3/yolov9/data/hyps/hyp.scratch-high.yaml, epochs=30, batch_size=16, imgsz=224, rect=False, resume=False, nosave=False, noval=False, noautoanchor=False, noplots=False, evolve=None, bucket=, cache=None, image_weights=False, device=0, multi_scale=False, single_cls=False, optimizer=SGD, sync_bn=False, workers=4, project=yolov9/runs/train, name=yolov9-c, exist_ok=False, quad=False, cos_lr=False, flat_cos_lr=False, fixed_lr=False, label_smoothing=0.0, patience=100, freeze=[0], save_period=-1, seed=0, local_rank=-1, min_items=0, close_mosaic=15, entity=None, upload_dataset=False, bbox_interval=-1, artifact_alias=latest\n",
      "YOLOv5 🚀 1e33dbb Python-3.10.13 torch-2.2.1+cu121 CUDA:0 (NVIDIA L4, 22491MiB)\n",
      "\n",
      "\u001b[34m\u001b[1mhyperparameters: \u001b[0mlr0=0.01, lrf=0.01, momentum=0.937, weight_decay=0.0005, warmup_epochs=3.0, warmup_momentum=0.8, warmup_bias_lr=0.1, box=7.5, cls=0.5, cls_pw=1.0, dfl=1.5, obj_pw=1.0, iou_t=0.2, anchor_t=5.0, fl_gamma=0.0, hsv_h=0.015, hsv_s=0.7, hsv_v=0.4, degrees=0.0, translate=0.1, scale=0.9, shear=0.0, perspective=0.0, flipud=0.0, fliplr=0.5, mosaic=1.0, mixup=0.15, copy_paste=0.3\n",
      "\u001b[34m\u001b[1mClearML: \u001b[0mrun 'pip install clearml' to automatically track, visualize and remotely train YOLO 🚀 in ClearML\n",
      "\u001b[34m\u001b[1mComet: \u001b[0mrun 'pip install comet_ml' to automatically track and visualize YOLO 🚀 runs in Comet\n",
      "\u001b[34m\u001b[1mTensorBoard: \u001b[0mStart with 'tensorboard --logdir yolov9/runs/train', view at http://localhost:6006/\n",
      "Overriding model.yaml nc=80 with nc=3\n",
      "\n",
      "                 from  n    params  module                                  arguments                     \n",
      "  0                -1  1         0  models.common.Silence                   []                            \n",
      "  1                -1  1      1856  models.common.Conv                      [3, 64, 3, 2]                 \n",
      "  2                -1  1     73984  models.common.Conv                      [64, 128, 3, 2]               \n",
      "  3                -1  1    212864  models.common.RepNCSPELAN4              [128, 256, 128, 64, 1]        \n",
      "  4                -1  1    164352  models.common.ADown                     [256, 256]                    \n",
      "  5                -1  1    847616  models.common.RepNCSPELAN4              [256, 512, 256, 128, 1]       \n",
      "  6                -1  1    656384  models.common.ADown                     [512, 512]                    \n",
      "  7                -1  1   2857472  models.common.RepNCSPELAN4              [512, 512, 512, 256, 1]       \n",
      "  8                -1  1    656384  models.common.ADown                     [512, 512]                    \n",
      "  9                -1  1   2857472  models.common.RepNCSPELAN4              [512, 512, 512, 256, 1]       \n",
      " 10                -1  1    656896  models.common.SPPELAN                   [512, 512, 256]               \n",
      " 11                -1  1         0  torch.nn.modules.upsampling.Upsample    [None, 2, 'nearest']          \n",
      " 12           [-1, 7]  1         0  models.common.Concat                    [1]                           \n",
      " 13                -1  1   3119616  models.common.RepNCSPELAN4              [1024, 512, 512, 256, 1]      \n",
      " 14                -1  1         0  torch.nn.modules.upsampling.Upsample    [None, 2, 'nearest']          \n",
      " 15           [-1, 5]  1         0  models.common.Concat                    [1]                           \n",
      " 16                -1  1    912640  models.common.RepNCSPELAN4              [1024, 256, 256, 128, 1]      \n",
      " 17                -1  1    164352  models.common.ADown                     [256, 256]                    \n",
      " 18          [-1, 13]  1         0  models.common.Concat                    [1]                           \n",
      " 19                -1  1   2988544  models.common.RepNCSPELAN4              [768, 512, 512, 256, 1]       \n",
      " 20                -1  1    656384  models.common.ADown                     [512, 512]                    \n",
      " 21          [-1, 10]  1         0  models.common.Concat                    [1]                           \n",
      " 22                -1  1   3119616  models.common.RepNCSPELAN4              [1024, 512, 512, 256, 1]      \n",
      " 23                 5  1    131328  models.common.CBLinear                  [512, [256]]                  \n",
      " 24                 7  1    393984  models.common.CBLinear                  [512, [256, 512]]             \n",
      " 25                 9  1    656640  models.common.CBLinear                  [512, [256, 512, 512]]        \n",
      " 26                 0  1      1856  models.common.Conv                      [3, 64, 3, 2]                 \n",
      " 27                -1  1     73984  models.common.Conv                      [64, 128, 3, 2]               \n",
      " 28                -1  1    212864  models.common.RepNCSPELAN4              [128, 256, 128, 64, 1]        \n",
      " 29                -1  1    164352  models.common.ADown                     [256, 256]                    \n",
      " 30  [23, 24, 25, -1]  1         0  models.common.CBFuse                    [[0, 0, 0]]                   \n",
      " 31                -1  1    847616  models.common.RepNCSPELAN4              [256, 512, 256, 128, 1]       \n",
      " 32                -1  1    656384  models.common.ADown                     [512, 512]                    \n",
      " 33      [24, 25, -1]  1         0  models.common.CBFuse                    [[1, 1]]                      \n",
      " 34                -1  1   2857472  models.common.RepNCSPELAN4              [512, 512, 512, 256, 1]       \n",
      " 35                -1  1    656384  models.common.ADown                     [512, 512]                    \n",
      " 36          [25, -1]  1         0  models.common.CBFuse                    [[2]]                         \n",
      " 37                -1  1   2857472  models.common.RepNCSPELAN4              [512, 512, 512, 256, 1]       \n",
      " 38[31, 34, 37, 16, 19, 22]  1  21547442  models.yolo.DualDDetect                 [3, [512, 512, 512, 256, 512, 512]]\n",
      "yolov9-c summary: 962 layers, 51004210 parameters, 51004178 gradients, 238.9 GFLOPs\n",
      "\n",
      "\u001b[34m\u001b[1mAMP: \u001b[0mchecks passed ✅\n",
      "\u001b[34m\u001b[1moptimizer:\u001b[0m SGD(lr=0.01) with parameter groups 238 weight(decay=0.0), 255 weight(decay=0.0005), 253 bias\n",
      "\u001b[34m\u001b[1malbumentations: \u001b[0mBlur(p=0.01, blur_limit=(3, 7)), MedianBlur(p=0.01, blur_limit=(3, 7)), ToGray(p=0.01), CLAHE(p=0.01, clip_limit=(1, 4.0), tile_grid_size=(8, 8))\n",
      "\u001b[34m\u001b[1mtrain: \u001b[0mScanning /home/sogaksa123/AIFFEL_THON/model/Yolov9_ver3/Training/data/tra\u001b[0m\n",
      "\u001b[34m\u001b[1mtrain: \u001b[0mWARNING ⚠️ /home/sogaksa123/AIFFEL_THON/model/Yolov9_ver3/Training/data/train/images/160_1b2_Al_mc_AKGC417L_2.png: ignoring corrupt image/label: negative label values [   -0.26116    -0.52232    -0.26116    -0.52232]\n",
      "\u001b[34m\u001b[1mtrain: \u001b[0mWARNING ⚠️ /home/sogaksa123/AIFFEL_THON/model/Yolov9_ver3/Training/data/train/images/160_1b2_Ar_mc_AKGC417L_2.png: ignoring corrupt image/label: negative label values [   -0.26116    -0.52232]\n",
      "\u001b[34m\u001b[1mtrain: \u001b[0mWARNING ⚠️ /home/sogaksa123/AIFFEL_THON/model/Yolov9_ver3/Training/data/train/images/160_1b2_Lr_mc_AKGC417L_2.png: ignoring corrupt image/label: negative label values [   -0.26116    -0.52232]\n",
      "\u001b[34m\u001b[1mtrain: \u001b[0mWARNING ⚠️ /home/sogaksa123/AIFFEL_THON/model/Yolov9_ver3/Training/data/train/images/160_1b2_Pl_mc_AKGC417L_2.png: ignoring corrupt image/label: negative label values [   -0.26116    -0.52232]\n",
      "\u001b[34m\u001b[1mtrain: \u001b[0mWARNING ⚠️ /home/sogaksa123/AIFFEL_THON/model/Yolov9_ver3/Training/data/train/images/160_1b2_Pr_mc_AKGC417L_2.png: ignoring corrupt image/label: negative label values [   -0.26116    -0.52232]\n",
      "\u001b[34m\u001b[1mtrain: \u001b[0mWARNING ⚠️ /home/sogaksa123/AIFFEL_THON/model/Yolov9_ver3/Training/data/train/images/160_1b2_Tc_mc_AKGC417L_2.png: ignoring corrupt image/label: negative label values [   -0.26116    -0.52232]\n",
      "\u001b[34m\u001b[1mval: \u001b[0mScanning /home/sogaksa123/AIFFEL_THON/model/Yolov9_ver3/Training/data/val/l\u001b[0m\n",
      "Plotting labels to yolov9/runs/train/yolov9-c3/labels.jpg... \n",
      "Image sizes 224 train, 224 val\n",
      "Using 4 dataloader workers\n",
      "Logging results to \u001b[1myolov9/runs/train/yolov9-c3\u001b[0m\n",
      "Starting training for 30 epochs...\n",
      "\n",
      "      Epoch    GPU_mem   box_loss   cls_loss   dfl_loss  Instances       Size\n",
      "       0/29      3.56G      5.945      5.497      5.228         80        224:  Exception in thread Thread-5 (plot_images):\n",
      "Traceback (most recent call last):\n",
      "  File \"/home/sogaksa123/anaconda3/envs/sogaksa/lib/python3.10/threading.py\", line 1016, in _bootstrap_inner\n",
      "    self.run()\n",
      "  File \"/home/sogaksa123/anaconda3/envs/sogaksa/lib/python3.10/threading.py\", line 953, in run\n",
      "    self._target(*self._args, **self._kwargs)\n",
      "  File \"/home/sogaksa123/AIFFEL_THON/model/Yolov9_ver3/yolov9/utils/plots.py\", line 300, in plot_images\n",
      "    annotator.box_label(box, label, color=color)\n",
      "  File \"/home/sogaksa123/AIFFEL_THON/model/Yolov9_ver3/yolov9/utils/plots.py\", line 86, in box_label\n",
      "    w, h = self.font.getsize(label)  # text width, height\n",
      "AttributeError: 'FreeTypeFont' object has no attribute 'getsize'\n",
      "WARNING ⚠️ TensorBoard graph visualization failure Only tensors, lists, tuples of tensors, or dictionary of tensors can be output from traced functions\n",
      "       0/29      3.56G      5.857      6.567      5.295         98        224:  Exception in thread Thread-6 (plot_images):\n",
      "Traceback (most recent call last):\n",
      "  File \"/home/sogaksa123/anaconda3/envs/sogaksa/lib/python3.10/threading.py\", line 1016, in _bootstrap_inner\n",
      "    self.run()\n",
      "  File \"/home/sogaksa123/anaconda3/envs/sogaksa/lib/python3.10/threading.py\", line 953, in run\n",
      "    self._target(*self._args, **self._kwargs)\n",
      "  File \"/home/sogaksa123/AIFFEL_THON/model/Yolov9_ver3/yolov9/utils/plots.py\", line 300, in plot_images\n",
      "    annotator.box_label(box, label, color=color)\n",
      "  File \"/home/sogaksa123/AIFFEL_THON/model/Yolov9_ver3/yolov9/utils/plots.py\", line 86, in box_label\n",
      "    w, h = self.font.getsize(label)  # text width, height\n",
      "AttributeError: 'FreeTypeFont' object has no attribute 'getsize'\n",
      "       0/29      3.56G       6.15      6.435      5.298         83        224:  Exception in thread Thread-7 (plot_images):\n",
      "Traceback (most recent call last):\n",
      "  File \"/home/sogaksa123/anaconda3/envs/sogaksa/lib/python3.10/threading.py\", line 1016, in _bootstrap_inner\n",
      "    self.run()\n",
      "  File \"/home/sogaksa123/anaconda3/envs/sogaksa/lib/python3.10/threading.py\", line 953, in run\n",
      "    self._target(*self._args, **self._kwargs)\n",
      "  File \"/home/sogaksa123/AIFFEL_THON/model/Yolov9_ver3/yolov9/utils/plots.py\", line 300, in plot_images\n",
      "    annotator.box_label(box, label, color=color)\n",
      "  File \"/home/sogaksa123/AIFFEL_THON/model/Yolov9_ver3/yolov9/utils/plots.py\", line 86, in box_label\n",
      "    w, h = self.font.getsize(label)  # text width, height\n",
      "AttributeError: 'FreeTypeFont' object has no attribute 'getsize'\n",
      "       0/29      3.66G      6.113      5.612      5.082         15        224: 1\n",
      "                 Class     Images  Instances          P          R      mAP50   \n",
      "                   all        447       1419   0.000869      0.273    0.00331   0.000913\n",
      "\n",
      "      Epoch    GPU_mem   box_loss   cls_loss   dfl_loss  Instances       Size\n",
      "       1/29      3.66G      5.759      4.435      4.534          5        224: 1\n",
      "                 Class     Images  Instances          P          R      mAP50   \n",
      "                   all        447       1419   0.000671      0.264    0.00214   0.000731\n",
      "\n",
      "      Epoch    GPU_mem   box_loss   cls_loss   dfl_loss  Instances       Size\n",
      "       2/29      3.66G      4.811      3.547      3.561         10        224: 1\n",
      "                 Class     Images  Instances          P          R      mAP50   \n",
      "                   all        447       1419    0.00848      0.611     0.0087    0.00299\n",
      "\n",
      "      Epoch    GPU_mem   box_loss   cls_loss   dfl_loss  Instances       Size\n",
      "       3/29      3.66G       4.28      3.291      3.068          4        224: 1\n",
      "                 Class     Images  Instances          P          R      mAP50   \n",
      "                   all        447       1419    0.00883      0.689     0.0121    0.00478\n",
      "\n",
      "      Epoch    GPU_mem   box_loss   cls_loss   dfl_loss  Instances       Size\n",
      "       4/29      3.66G      4.069      3.202      2.843         23        224: 1\n",
      "                 Class     Images  Instances          P          R      mAP50   \n",
      "                   all        447       1419     0.0123       0.85     0.0677     0.0226\n",
      "\n",
      "      Epoch    GPU_mem   box_loss   cls_loss   dfl_loss  Instances       Size\n",
      "       5/29      3.66G      3.819      3.132      2.721          4        224: 1\n",
      "                 Class     Images  Instances          P          R      mAP50   \n",
      "                   all        447       1419     0.0114       0.89     0.0309     0.0108\n",
      "\n",
      "      Epoch    GPU_mem   box_loss   cls_loss   dfl_loss  Instances       Size\n",
      "       6/29      3.66G       3.62      3.023      2.559          2        224: 1\n",
      "                 Class     Images  Instances          P          R      mAP50   \n",
      "                   all        447       1419     0.0106      0.881     0.0323     0.0102\n",
      "\n",
      "      Epoch    GPU_mem   box_loss   cls_loss   dfl_loss  Instances       Size\n",
      "       7/29      3.66G      3.451      2.976        2.5         18        224: 1\n",
      "                 Class     Images  Instances          P          R      mAP50   \n",
      "                   all        447       1419     0.0153      0.834     0.0302    0.00917\n",
      "\n",
      "      Epoch    GPU_mem   box_loss   cls_loss   dfl_loss  Instances       Size\n",
      "       8/29      3.66G      3.365      2.946      2.424          7        224: 1\n",
      "                 Class     Images  Instances          P          R      mAP50   \n",
      "                   all        447       1419     0.0252      0.328     0.0385    0.00885\n",
      "\n",
      "      Epoch    GPU_mem   box_loss   cls_loss   dfl_loss  Instances       Size\n",
      "       9/29      3.66G      3.258      2.891      2.379         17        224: 1\n",
      "                 Class     Images  Instances          P          R      mAP50   \n",
      "                   all        447       1419     0.0232      0.821     0.0447     0.0119\n",
      "\n",
      "      Epoch    GPU_mem   box_loss   cls_loss   dfl_loss  Instances       Size\n",
      "      10/29      3.66G      3.201       2.88       2.37          7        224: 1\n",
      "                 Class     Images  Instances          P          R      mAP50   \n",
      "                   all        447       1419      0.406      0.487      0.137     0.0539\n",
      "\n",
      "      Epoch    GPU_mem   box_loss   cls_loss   dfl_loss  Instances       Size\n",
      "      11/29      3.66G      3.114      2.848      2.333          9        224: 1\n",
      "                 Class     Images  Instances          P          R      mAP50   \n",
      "                   all        447       1419       0.03      0.854     0.0805     0.0251\n",
      "\n",
      "      Epoch    GPU_mem   box_loss   cls_loss   dfl_loss  Instances       Size\n",
      "      12/29      3.66G      3.091      2.845      2.295          3        224: 1\n",
      "                 Class     Images  Instances          P          R      mAP50   \n",
      "                   all        447       1419      0.366      0.522     0.0842     0.0274\n",
      "\n",
      "      Epoch    GPU_mem   box_loss   cls_loss   dfl_loss  Instances       Size\n",
      "      13/29      3.66G      3.032      2.811      2.283         20        224: 1\n",
      "                 Class     Images  Instances          P          R      mAP50   \n",
      "                   all        447       1419      0.413      0.527      0.169     0.0642\n",
      "\n",
      "      Epoch    GPU_mem   box_loss   cls_loss   dfl_loss  Instances       Size\n",
      "      14/29      3.66G      2.921      2.742       2.24          9        224: 1\n",
      "                 Class     Images  Instances          P          R      mAP50   \n",
      "                   all        447       1419     0.0642      0.508      0.117      0.036\n",
      "Closing dataloader mosaic\n",
      "\n",
      "      Epoch    GPU_mem   box_loss   cls_loss   dfl_loss  Instances       Size\n",
      "      15/29      3.66G      2.861      3.042      2.414          8        224: 1\n",
      "                 Class     Images  Instances          P          R      mAP50   \n",
      "                   all        447       1419      0.397      0.515      0.157     0.0543\n",
      "\n",
      "      Epoch    GPU_mem   box_loss   cls_loss   dfl_loss  Instances       Size\n",
      "      16/29      3.66G      2.661      2.897      2.315          0        224: 1\n",
      "                 Class     Images  Instances          P          R      mAP50   \n",
      "                   all        447       1419      0.402      0.442      0.155     0.0561\n",
      "\n",
      "      Epoch    GPU_mem   box_loss   cls_loss   dfl_loss  Instances       Size\n",
      "      17/29      3.66G      2.623      2.886      2.304          5        224: 1\n",
      "                 Class     Images  Instances          P          R      mAP50   \n",
      "                   all        447       1419     0.0694      0.914      0.166     0.0666\n",
      "\n",
      "      Epoch    GPU_mem   box_loss   cls_loss   dfl_loss  Instances       Size\n",
      "      18/29      3.66G      2.562       2.86       2.27          4        224: 1\n",
      "                 Class     Images  Instances          P          R      mAP50   \n",
      "                   all        447       1419      0.138      0.639      0.159     0.0629\n",
      "\n",
      "      Epoch    GPU_mem   box_loss   cls_loss   dfl_loss  Instances       Size\n",
      "      19/29      3.66G      2.528      2.828      2.243          6        224: 1\n",
      "                 Class     Images  Instances          P          R      mAP50   \n",
      "                   all        447       1419      0.402      0.565      0.124      0.052\n",
      "\n",
      "      Epoch    GPU_mem   box_loss   cls_loss   dfl_loss  Instances       Size\n",
      "      20/29      3.66G      2.467      2.783      2.213          3        224: 1\n",
      "                 Class     Images  Instances          P          R      mAP50   \n",
      "                   all        447       1419      0.398      0.576      0.117     0.0471\n",
      "\n",
      "      Epoch    GPU_mem   box_loss   cls_loss   dfl_loss  Instances       Size\n",
      "      21/29      3.66G      2.425      2.839      2.215          1        224: 1\n",
      "                 Class     Images  Instances          P          R      mAP50   \n",
      "                   all        447       1419      0.401      0.542      0.122     0.0534\n",
      "\n",
      "      Epoch    GPU_mem   box_loss   cls_loss   dfl_loss  Instances       Size\n",
      "      22/29      3.66G      2.407      2.796       2.18         10        224: 1\n",
      "                 Class     Images  Instances          P          R      mAP50   \n",
      "                   all        447       1419      0.396      0.558      0.115     0.0472\n",
      "\n",
      "      Epoch    GPU_mem   box_loss   cls_loss   dfl_loss  Instances       Size\n",
      "      23/29      3.66G      2.394      2.815      2.187          7        224: 1\n",
      "                 Class     Images  Instances          P          R      mAP50   \n",
      "                   all        447       1419      0.408      0.576      0.116     0.0546\n",
      "\n",
      "      Epoch    GPU_mem   box_loss   cls_loss   dfl_loss  Instances       Size\n",
      "      24/29      3.66G      2.303      2.813      2.161          3        224: 1\n",
      "                 Class     Images  Instances          P          R      mAP50   \n",
      "                   all        447       1419     0.0905       0.81       0.15     0.0662\n",
      "\n",
      "      Epoch    GPU_mem   box_loss   cls_loss   dfl_loss  Instances       Size\n",
      "      25/29      3.66G      2.328      2.763      2.179          5        224: 1\n",
      "                 Class     Images  Instances          P          R      mAP50   \n",
      "                   all        447       1419      0.148      0.541      0.128     0.0633\n",
      "\n",
      "      Epoch    GPU_mem   box_loss   cls_loss   dfl_loss  Instances       Size\n",
      "      26/29      3.66G       2.25      2.755      2.133          2        224: 1\n",
      "                 Class     Images  Instances          P          R      mAP50   \n",
      "                   all        447       1419     0.0822      0.483      0.132     0.0635\n",
      "\n",
      "      Epoch    GPU_mem   box_loss   cls_loss   dfl_loss  Instances       Size\n",
      "      27/29      3.66G      2.217      2.701       2.12          6        224: 1\n",
      "                 Class     Images  Instances          P          R      mAP50   \n",
      "                   all        447       1419     0.0965      0.549      0.121     0.0575\n",
      "\n",
      "      Epoch    GPU_mem   box_loss   cls_loss   dfl_loss  Instances       Size\n",
      "      28/29      3.66G      2.181      2.732      2.076          8        224: 1\n",
      "                 Class     Images  Instances          P          R      mAP50   \n",
      "                   all        447       1419     0.0986      0.421      0.122     0.0597\n",
      "\n",
      "      Epoch    GPU_mem   box_loss   cls_loss   dfl_loss  Instances       Size\n",
      "      29/29      3.66G      2.146      2.705       2.09          5        224: 1\n",
      "                 Class     Images  Instances          P          R      mAP50   \n",
      "                   all        447       1419     0.0988      0.465      0.129     0.0631\n",
      "\n",
      "30 epochs completed in 0.294 hours.\n",
      "Optimizer stripped from yolov9/runs/train/yolov9-c3/weights/last.pt, 102.7MB\n",
      "Optimizer stripped from yolov9/runs/train/yolov9-c3/weights/best.pt, 102.7MB\n",
      "\n",
      "Validating yolov9/runs/train/yolov9-c3/weights/best.pt...\n",
      "Fusing layers... \n",
      "yolov9-c summary: 724 layers, 50963250 parameters, 0 gradients, 237.7 GFLOPs\n",
      "                 Class     Images  Instances          P          R      mAP50   Exception in thread Thread-37 (plot_images):\n",
      "Traceback (most recent call last):\n",
      "  File \"/home/sogaksa123/anaconda3/envs/sogaksa/lib/python3.10/threading.py\", line 1016, in _bootstrap_inner\n",
      "    self.run()\n",
      "  File \"/home/sogaksa123/anaconda3/envs/sogaksa/lib/python3.10/threading.py\", line 953, in run\n",
      "    self._target(*self._args, **self._kwargs)\n",
      "  File \"/home/sogaksa123/AIFFEL_THON/model/Yolov9_ver3/yolov9/utils/plots.py\", line 300, in plot_images\n",
      "    annotator.box_label(box, label, color=color)\n",
      "  File \"/home/sogaksa123/AIFFEL_THON/model/Yolov9_ver3/yolov9/utils/plots.py\", line 86, in box_label\n",
      "    w, h = self.font.getsize(label)  # text width, height\n",
      "AttributeError: 'FreeTypeFont' object has no attribute 'getsize'\n",
      "                 Class     Images  Instances          P          R      mAP50   Exception in thread Thread-39 (plot_images):\n",
      "Traceback (most recent call last):\n",
      "  File \"/home/sogaksa123/anaconda3/envs/sogaksa/lib/python3.10/threading.py\", line 1016, in _bootstrap_inner\n",
      "    self.run()\n",
      "  File \"/home/sogaksa123/anaconda3/envs/sogaksa/lib/python3.10/threading.py\", line 953, in run\n",
      "    self._target(*self._args, **self._kwargs)\n",
      "  File \"/home/sogaksa123/AIFFEL_THON/model/Yolov9_ver3/yolov9/utils/plots.py\", line 300, in plot_images\n",
      "    annotator.box_label(box, label, color=color)\n",
      "  File \"/home/sogaksa123/AIFFEL_THON/model/Yolov9_ver3/yolov9/utils/plots.py\", line 86, in box_label\n",
      "    w, h = self.font.getsize(label)  # text width, height\n",
      "AttributeError: 'FreeTypeFont' object has no attribute 'getsize'\n",
      "                 Class     Images  Instances          P          R      mAP50   Exception in thread Thread-41 (plot_images):\n",
      "Traceback (most recent call last):\n",
      "  File \"/home/sogaksa123/anaconda3/envs/sogaksa/lib/python3.10/threading.py\", line 1016, in _bootstrap_inner\n",
      "    self.run()\n",
      "  File \"/home/sogaksa123/anaconda3/envs/sogaksa/lib/python3.10/threading.py\", line 953, in run\n",
      "    self._target(*self._args, **self._kwargs)\n",
      "  File \"/home/sogaksa123/AIFFEL_THON/model/Yolov9_ver3/yolov9/utils/plots.py\", line 300, in plot_images\n",
      "    annotator.box_label(box, label, color=color)\n",
      "  File \"/home/sogaksa123/AIFFEL_THON/model/Yolov9_ver3/yolov9/utils/plots.py\", line 86, in box_label\n",
      "    w, h = self.font.getsize(label)  # text width, height\n",
      "AttributeError: 'FreeTypeFont' object has no attribute 'getsize'\n",
      "                 Class     Images  Instances          P          R      mAP50   \n",
      "                   all        447       1419     0.0695      0.914      0.166     0.0665\n",
      "              crackles        447        378     0.0705      0.934      0.144      0.058\n",
      "               wheezes        447        259     0.0227      0.969      0.139     0.0547\n",
      "                normal        447        782      0.116      0.838      0.216     0.0868\n",
      "Results saved to \u001b[1myolov9/runs/train/yolov9-c3\u001b[0m\n"
     ]
    }
   ],
   "source": [
    "# Train with YoloV9\n",
    "\"\"\"\n",
    "workers --> max dataloader workers (per RANK in DDP mode)\n",
    "device --> cuda device, i.e. 0 or 0,1,2,3 or cpu\n",
    "batch --> total batch size for all GPUs, -1 for autobatch\n",
    "epochs --> total training epochs\n",
    "data --> dataset.yaml path\n",
    "img --> train, val image size (pixels)\n",
    "cfg --> model.yaml path\n",
    "weights --> initial weights path\n",
    "name --> save to project/name\n",
    "hyp --> hyperparameters path\n",
    "\n",
    "**This parameters is my project parameters. You can make changes for your project.**\n",
    "\"\"\"\n",
    "\n",
    "'''\n",
    "x\n",
    "--workers 8 --device cpu --batch 16 --epochs 50 --min-items 0 --close-mosaic 15\\\n",
    "o\n",
    "--workers 1 --device cpu --batch 16 --epochs 5 --min-items 0 --close-mosaic 15\\\n",
    "'''\n",
    "!python /home/sogaksa123/AIFFEL_THON/model/Yolov9_ver3/yolov9/train_dual.py \\\n",
    "--workers 4 --device 0 --batch 16 --epochs 30 --min-items 0 --close-mosaic 15\\\n",
    "--data /home/sogaksa123/AIFFEL_THON/model/Yolov9_ver3/data.yaml \\\n",
    "--img 224 --cfg /home/sogaksa123/AIFFEL_THON/model/Yolov9_ver3/yolov9/models/detect/yolov9-c.yaml \\\n",
    "--weights '' --name yolov9-c --hyp /home/sogaksa123/AIFFEL_THON/model/Yolov9_ver3/yolov9/data/hyps/hyp.scratch-high.yaml"
   ]
  },
  {
   "cell_type": "code",
   "execution_count": 47,
   "metadata": {
    "colab": {
     "base_uri": "https://localhost:8080/"
    },
    "executionInfo": {
     "elapsed": 13,
     "status": "ok",
     "timestamp": 1710965014820,
     "user": {
      "displayName": "sogaksa",
      "userId": "09089533007502118018"
     },
     "user_tz": -540
    },
    "id": "7iCLKgX5I60x",
    "outputId": "a20b89f3-8ef0-4283-999e-539e6bffe2d4"
   },
   "outputs": [
    {
     "name": "stdout",
     "output_type": "stream",
     "text": [
      "Done!\n"
     ]
    }
   ],
   "source": [
    "print('Done!')"
   ]
  },
  {
   "cell_type": "code",
   "execution_count": 33,
   "metadata": {},
   "outputs": [
    {
     "name": "stdout",
     "output_type": "stream",
     "text": [
      "\u001b[34m\u001b[1mdetect: \u001b[0mweights=yolov9/yolo.pt, source=yolov9/data/images, data=yolov9/data/coco128.yaml, imgsz=[640, 640], conf_thres=0.25, iou_thres=0.45, max_det=1000, device=, view_img=False, save_txt=False, save_conf=False, save_crop=False, nosave=False, classes=None, agnostic_nms=False, augment=False, visualize=False, update=False, project=yolov9/runs/detect, name=exp, exist_ok=False, line_thickness=3, hide_labels=False, hide_conf=False, half=False, dnn=False, vid_stride=1\n",
      "YOLOv5 🚀 1e33dbb Python-3.10.13 torch-2.2.1+cu121 CUDA:0 (NVIDIA L4, 22491MiB)\n",
      "\n",
      "Traceback (most recent call last):\n",
      "  File \"/home/sogaksa123/AIFFEL_THON/model/Yolov9_ver3/yolov9/detect.py\", line 232, in <module>\n",
      "    main(opt)\n",
      "  File \"/home/sogaksa123/AIFFEL_THON/model/Yolov9_ver3/yolov9/detect.py\", line 227, in main\n",
      "    run(**vars(opt))\n",
      "  File \"/home/sogaksa123/anaconda3/envs/sogaksa/lib/python3.10/site-packages/torch/utils/_contextlib.py\", line 115, in decorate_context\n",
      "    return func(*args, **kwargs)\n",
      "  File \"/home/sogaksa123/AIFFEL_THON/model/Yolov9_ver3/yolov9/detect.py\", line 68, in run\n",
      "    model = DetectMultiBackend(weights, device=device, dnn=dnn, data=data, fp16=half)\n",
      "  File \"/home/sogaksa123/AIFFEL_THON/model/Yolov9_ver3/yolov9/models/common.py\", line 684, in __init__\n",
      "    model = attempt_load(weights if isinstance(weights, list) else w, device=device, inplace=True, fuse=fuse)\n",
      "  File \"/home/sogaksa123/AIFFEL_THON/model/Yolov9_ver3/yolov9/models/experimental.py\", line 75, in attempt_load\n",
      "    ckpt = torch.load(attempt_download(w), map_location='cpu')  # load\n",
      "  File \"/home/sogaksa123/anaconda3/envs/sogaksa/lib/python3.10/site-packages/torch/serialization.py\", line 998, in load\n",
      "    with _open_file_like(f, 'rb') as opened_file:\n",
      "  File \"/home/sogaksa123/anaconda3/envs/sogaksa/lib/python3.10/site-packages/torch/serialization.py\", line 445, in _open_file_like\n",
      "    return _open_file(name_or_buffer, mode)\n",
      "  File \"/home/sogaksa123/anaconda3/envs/sogaksa/lib/python3.10/site-packages/torch/serialization.py\", line 426, in __init__\n",
      "    super().__init__(open(name, mode))\n",
      "FileNotFoundError: [Errno 2] No such file or directory: 'yolov9/yolo.pt'\n"
     ]
    }
   ],
   "source": [
    "# 결과 시각화\n",
    "!python /home/sogaksa123/AIFFEL_THON/model/Yolov9_ver3/yolov9/detect.py"
   ]
  },
  {
   "cell_type": "code",
   "execution_count": 3,
   "metadata": {},
   "outputs": [
    {
     "name": "stdout",
     "output_type": "stream",
     "text": [
      "0 -0.2611607142857143 0.04241071428571429 -0.5223214285714286 0.049107142857142856\n",
      "1 -0.2611607142857143 0.234375 -0.5223214285714286 0.33482142857142855\n"
     ]
    }
   ],
   "source": [
    "file_path = '/home/sogaksa123/AIFFEL_THON/model/Yolov9_ver3/Training/data/train/labels/160_1b2_Al_mc_AKGC417L_2.txt'\n",
    "\n",
    "with open(file_path, 'r') as file:\n",
    "    data = file.read()\n",
    "\n",
    "print(data)"
   ]
  },
  {
   "cell_type": "code",
   "execution_count": 38,
   "metadata": {},
   "outputs": [
    {
     "name": "stdout",
     "output_type": "stream",
     "text": [
      "\u001b[34m\u001b[1mdetect: \u001b[0mweights=['/home/sogaksa123/AIFFEL_THON/model/Yolov9_ver3/yolov9/runs/train/yolov9-c3/weights/best.pt'], source=/home/sogaksa123/AIFFEL_THON/model/Yolov9_ver3/Training/data/test/images/198_1b5_Pl_mc_AKGC417L_2.png, data=data/coco128.yaml, imgsz=[224, 224], conf_thres=0.25, iou_thres=0.45, max_det=1000, device=0, view_img=False, save_txt=False, save_conf=False, save_crop=False, nosave=False, classes=None, agnostic_nms=False, augment=False, visualize=False, update=False, project=runs/detect, name=yolov9_c_c_640_detect, exist_ok=False, line_thickness=3, hide_labels=False, hide_conf=False, half=False, dnn=False, vid_stride=1\n",
      "YOLOv5 🚀 1e33dbb Python-3.10.13 torch-2.2.1+cu121 CUDA:0 (NVIDIA L4, 22491MiB)\n",
      "\n",
      "Fusing layers... \n",
      "yolov9-c summary: 724 layers, 50963250 parameters, 0 gradients, 237.7 GFLOPs\n",
      "image 1/1 /home/sogaksa123/AIFFEL_THON/model/Yolov9_ver3/Training/data/test/images/198_1b5_Pl_mc_AKGC417L_2.png: 224x224 (no detections), 27.3ms\n",
      "Speed: 0.3ms pre-process, 27.3ms inference, 20.0ms NMS per image at shape (1, 3, 224, 224)\n",
      "Results saved to \u001b[1mruns/detect/yolov9_c_c_640_detect2\u001b[0m\n"
     ]
    }
   ],
   "source": [
    "!python detect.py --source '/home/sogaksa123/AIFFEL_THON/model/Yolov9_ver3/Training/data/test/images/198_1b5_Pl_mc_AKGC417L_2.png' --img 224 --device 0 --weights '/home/sogaksa123/AIFFEL_THON/model/Yolov9_ver3/yolov9/runs/train/yolov9-c3/weights/best.pt' --name yolov9_c_c_640_detect"
   ]
  },
  {
   "cell_type": "code",
   "execution_count": null,
   "metadata": {},
   "outputs": [],
   "source": [
    "AIFFEL_THON/model/Yolov9_ver3/yolov9/runs/train/yolov9-c3/weights/best.pt"
   ]
  },
  {
   "cell_type": "code",
   "execution_count": null,
   "metadata": {},
   "outputs": [],
   "source": [
    "AIFFEL_THON/model/Yolov9_ver3/yolov9/detect.py"
   ]
  },
  {
   "cell_type": "code",
   "execution_count": null,
   "metadata": {},
   "outputs": [],
   "source": [
    "AIFFEL_THON/model/Yolov9_ver3/Training/data/test/images/198_1b5_Pl_mc_AKGC417L_2.png"
   ]
  },
  {
   "cell_type": "code",
   "execution_count": 35,
   "metadata": {},
   "outputs": [
    {
     "name": "stdout",
     "output_type": "stream",
     "text": [
      "현재 작업 디렉토리: /home/sogaksa123/AIFFEL_THON/model/Yolov9_ver3\n"
     ]
    }
   ],
   "source": [
    "import os\n",
    "\n",
    "# 현재 작업 디렉토리 확인\n",
    "current_directory = os.getcwd()\n",
    "print(\"현재 작업 디렉토리:\", current_directory)"
   ]
  },
  {
   "cell_type": "code",
   "execution_count": 36,
   "metadata": {},
   "outputs": [],
   "source": [
    "import os\n",
    "\n",
    "# 변경하고자 하는 디렉토리 경로\n",
    "new_directory = '/home/sogaksa123/AIFFEL_THON/model/Yolov9_ver3/yolov9'\n",
    "\n",
    "# 디렉토리 변경\n",
    "os.chdir(new_directory)"
   ]
  },
  {
   "cell_type": "code",
   "execution_count": null,
   "metadata": {},
   "outputs": [],
   "source": []
  }
 ],
 "metadata": {
  "colab": {
   "provenance": []
  },
  "kernelspec": {
   "display_name": "Python 3 (ipykernel)",
   "language": "python",
   "name": "python3"
  },
  "language_info": {
   "codemirror_mode": {
    "name": "ipython",
    "version": 3
   },
   "file_extension": ".py",
   "mimetype": "text/x-python",
   "name": "python",
   "nbconvert_exporter": "python",
   "pygments_lexer": "ipython3",
   "version": "3.10.13"
  }
 },
 "nbformat": 4,
 "nbformat_minor": 4
}
