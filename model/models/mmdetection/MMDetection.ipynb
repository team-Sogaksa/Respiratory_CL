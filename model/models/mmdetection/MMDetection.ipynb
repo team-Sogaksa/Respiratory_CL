{
 "cells": [
  {
   "cell_type": "code",
   "execution_count": 1,
   "id": "42c9bc02-3a17-4285-9728-f8e93e011e6f",
   "metadata": {},
   "outputs": [
    {
     "name": "stdout",
     "output_type": "stream",
     "text": [
      "Requirement already satisfied: openmim in /home/sogaksa123/anaconda3/envs/sogaksa/lib/python3.10/site-packages (0.3.9)\n",
      "Requirement already satisfied: Click in /home/sogaksa123/anaconda3/envs/sogaksa/lib/python3.10/site-packages (from openmim) (8.1.7)\n",
      "Requirement already satisfied: colorama in /home/sogaksa123/anaconda3/envs/sogaksa/lib/python3.10/site-packages (from openmim) (0.4.6)\n",
      "Requirement already satisfied: model-index in /home/sogaksa123/anaconda3/envs/sogaksa/lib/python3.10/site-packages (from openmim) (0.1.11)\n",
      "Requirement already satisfied: opendatalab in /home/sogaksa123/anaconda3/envs/sogaksa/lib/python3.10/site-packages (from openmim) (0.0.10)\n",
      "Requirement already satisfied: pandas in /home/sogaksa123/anaconda3/envs/sogaksa/lib/python3.10/site-packages (from openmim) (2.2.1)\n",
      "Requirement already satisfied: pip>=19.3 in /home/sogaksa123/anaconda3/envs/sogaksa/lib/python3.10/site-packages (from openmim) (23.3.1)\n",
      "Requirement already satisfied: requests in /home/sogaksa123/anaconda3/envs/sogaksa/lib/python3.10/site-packages (from openmim) (2.28.2)\n",
      "Requirement already satisfied: rich in /home/sogaksa123/anaconda3/envs/sogaksa/lib/python3.10/site-packages (from openmim) (13.4.2)\n",
      "Requirement already satisfied: tabulate in /home/sogaksa123/anaconda3/envs/sogaksa/lib/python3.10/site-packages (from openmim) (0.9.0)\n",
      "Requirement already satisfied: pyyaml in /home/sogaksa123/anaconda3/envs/sogaksa/lib/python3.10/site-packages (from model-index->openmim) (6.0.1)\n",
      "Requirement already satisfied: markdown in /home/sogaksa123/anaconda3/envs/sogaksa/lib/python3.10/site-packages (from model-index->openmim) (3.6)\n",
      "Requirement already satisfied: ordered-set in /home/sogaksa123/anaconda3/envs/sogaksa/lib/python3.10/site-packages (from model-index->openmim) (4.1.0)\n",
      "Requirement already satisfied: pycryptodome in /home/sogaksa123/anaconda3/envs/sogaksa/lib/python3.10/site-packages (from opendatalab->openmim) (3.20.0)\n",
      "Requirement already satisfied: tqdm in /home/sogaksa123/anaconda3/envs/sogaksa/lib/python3.10/site-packages (from opendatalab->openmim) (4.65.2)\n",
      "Requirement already satisfied: openxlab in /home/sogaksa123/anaconda3/envs/sogaksa/lib/python3.10/site-packages (from opendatalab->openmim) (0.0.37)\n",
      "Requirement already satisfied: charset-normalizer<4,>=2 in /home/sogaksa123/anaconda3/envs/sogaksa/lib/python3.10/site-packages (from requests->openmim) (3.3.2)\n",
      "Requirement already satisfied: idna<4,>=2.5 in /home/sogaksa123/anaconda3/envs/sogaksa/lib/python3.10/site-packages (from requests->openmim) (3.6)\n",
      "Requirement already satisfied: urllib3<1.27,>=1.21.1 in /home/sogaksa123/anaconda3/envs/sogaksa/lib/python3.10/site-packages (from requests->openmim) (1.26.18)\n",
      "Requirement already satisfied: certifi>=2017.4.17 in /home/sogaksa123/anaconda3/envs/sogaksa/lib/python3.10/site-packages (from requests->openmim) (2024.2.2)\n",
      "Requirement already satisfied: numpy<2,>=1.22.4 in /home/sogaksa123/anaconda3/envs/sogaksa/lib/python3.10/site-packages (from pandas->openmim) (1.26.4)\n",
      "Requirement already satisfied: python-dateutil>=2.8.2 in /home/sogaksa123/anaconda3/envs/sogaksa/lib/python3.10/site-packages (from pandas->openmim) (2.9.0.post0)\n",
      "Requirement already satisfied: pytz>=2020.1 in /home/sogaksa123/anaconda3/envs/sogaksa/lib/python3.10/site-packages (from pandas->openmim) (2023.4)\n",
      "Requirement already satisfied: tzdata>=2022.7 in /home/sogaksa123/anaconda3/envs/sogaksa/lib/python3.10/site-packages (from pandas->openmim) (2024.1)\n",
      "Requirement already satisfied: markdown-it-py>=2.2.0 in /home/sogaksa123/anaconda3/envs/sogaksa/lib/python3.10/site-packages (from rich->openmim) (3.0.0)\n",
      "Requirement already satisfied: pygments<3.0.0,>=2.13.0 in /home/sogaksa123/anaconda3/envs/sogaksa/lib/python3.10/site-packages (from rich->openmim) (2.17.2)\n",
      "Requirement already satisfied: mdurl~=0.1 in /home/sogaksa123/anaconda3/envs/sogaksa/lib/python3.10/site-packages (from markdown-it-py>=2.2.0->rich->openmim) (0.1.2)\n",
      "Requirement already satisfied: six>=1.5 in /home/sogaksa123/anaconda3/envs/sogaksa/lib/python3.10/site-packages (from python-dateutil>=2.8.2->pandas->openmim) (1.16.0)\n",
      "Requirement already satisfied: oss2~=2.17.0 in /home/sogaksa123/anaconda3/envs/sogaksa/lib/python3.10/site-packages (from openxlab->opendatalab->openmim) (2.17.0)\n",
      "Requirement already satisfied: setuptools~=60.2.0 in /home/sogaksa123/anaconda3/envs/sogaksa/lib/python3.10/site-packages (from openxlab->opendatalab->openmim) (60.2.0)\n",
      "Requirement already satisfied: crcmod>=1.7 in /home/sogaksa123/anaconda3/envs/sogaksa/lib/python3.10/site-packages (from oss2~=2.17.0->openxlab->opendatalab->openmim) (1.7)\n",
      "Requirement already satisfied: aliyun-python-sdk-kms>=2.4.1 in /home/sogaksa123/anaconda3/envs/sogaksa/lib/python3.10/site-packages (from oss2~=2.17.0->openxlab->opendatalab->openmim) (2.16.2)\n",
      "Requirement already satisfied: aliyun-python-sdk-core>=2.13.12 in /home/sogaksa123/anaconda3/envs/sogaksa/lib/python3.10/site-packages (from oss2~=2.17.0->openxlab->opendatalab->openmim) (2.15.0)\n",
      "Requirement already satisfied: jmespath<1.0.0,>=0.9.3 in /home/sogaksa123/anaconda3/envs/sogaksa/lib/python3.10/site-packages (from aliyun-python-sdk-core>=2.13.12->oss2~=2.17.0->openxlab->opendatalab->openmim) (0.10.0)\n",
      "Requirement already satisfied: cryptography>=2.6.0 in /home/sogaksa123/anaconda3/envs/sogaksa/lib/python3.10/site-packages (from aliyun-python-sdk-core>=2.13.12->oss2~=2.17.0->openxlab->opendatalab->openmim) (42.0.5)\n",
      "Requirement already satisfied: cffi>=1.12 in /home/sogaksa123/anaconda3/envs/sogaksa/lib/python3.10/site-packages (from cryptography>=2.6.0->aliyun-python-sdk-core>=2.13.12->oss2~=2.17.0->openxlab->opendatalab->openmim) (1.16.0)\n",
      "Requirement already satisfied: pycparser in /home/sogaksa123/anaconda3/envs/sogaksa/lib/python3.10/site-packages (from cffi>=1.12->cryptography>=2.6.0->aliyun-python-sdk-core>=2.13.12->oss2~=2.17.0->openxlab->opendatalab->openmim) (2.21)\n",
      "Requirement already satisfied: mmengine in /home/sogaksa123/anaconda3/envs/sogaksa/lib/python3.10/site-packages (0.10.3)\n",
      "Requirement already satisfied: addict in /home/sogaksa123/anaconda3/envs/sogaksa/lib/python3.10/site-packages (from mmengine) (2.4.0)\n",
      "Requirement already satisfied: matplotlib in /home/sogaksa123/anaconda3/envs/sogaksa/lib/python3.10/site-packages (from mmengine) (3.8.3)\n",
      "Requirement already satisfied: numpy in /home/sogaksa123/anaconda3/envs/sogaksa/lib/python3.10/site-packages (from mmengine) (1.26.4)\n",
      "Requirement already satisfied: pyyaml in /home/sogaksa123/anaconda3/envs/sogaksa/lib/python3.10/site-packages (from mmengine) (6.0.1)\n",
      "Requirement already satisfied: rich in /home/sogaksa123/anaconda3/envs/sogaksa/lib/python3.10/site-packages (from mmengine) (13.4.2)\n",
      "Requirement already satisfied: termcolor in /home/sogaksa123/anaconda3/envs/sogaksa/lib/python3.10/site-packages (from mmengine) (2.4.0)\n",
      "Requirement already satisfied: yapf in /home/sogaksa123/anaconda3/envs/sogaksa/lib/python3.10/site-packages (from mmengine) (0.40.2)\n",
      "Requirement already satisfied: opencv-python>=3 in /home/sogaksa123/anaconda3/envs/sogaksa/lib/python3.10/site-packages (from mmengine) (4.9.0.80)\n",
      "Requirement already satisfied: contourpy>=1.0.1 in /home/sogaksa123/anaconda3/envs/sogaksa/lib/python3.10/site-packages (from matplotlib->mmengine) (1.2.0)\n",
      "Requirement already satisfied: cycler>=0.10 in /home/sogaksa123/anaconda3/envs/sogaksa/lib/python3.10/site-packages (from matplotlib->mmengine) (0.12.1)\n",
      "Requirement already satisfied: fonttools>=4.22.0 in /home/sogaksa123/anaconda3/envs/sogaksa/lib/python3.10/site-packages (from matplotlib->mmengine) (4.50.0)\n",
      "Requirement already satisfied: kiwisolver>=1.3.1 in /home/sogaksa123/anaconda3/envs/sogaksa/lib/python3.10/site-packages (from matplotlib->mmengine) (1.4.5)\n",
      "Requirement already satisfied: packaging>=20.0 in /home/sogaksa123/anaconda3/envs/sogaksa/lib/python3.10/site-packages (from matplotlib->mmengine) (24.0)\n",
      "Requirement already satisfied: pillow>=8 in /home/sogaksa123/anaconda3/envs/sogaksa/lib/python3.10/site-packages (from matplotlib->mmengine) (10.2.0)\n",
      "Requirement already satisfied: pyparsing>=2.3.1 in /home/sogaksa123/anaconda3/envs/sogaksa/lib/python3.10/site-packages (from matplotlib->mmengine) (3.1.2)\n",
      "Requirement already satisfied: python-dateutil>=2.7 in /home/sogaksa123/anaconda3/envs/sogaksa/lib/python3.10/site-packages (from matplotlib->mmengine) (2.9.0.post0)\n",
      "Requirement already satisfied: markdown-it-py>=2.2.0 in /home/sogaksa123/anaconda3/envs/sogaksa/lib/python3.10/site-packages (from rich->mmengine) (3.0.0)\n",
      "Requirement already satisfied: pygments<3.0.0,>=2.13.0 in /home/sogaksa123/anaconda3/envs/sogaksa/lib/python3.10/site-packages (from rich->mmengine) (2.17.2)\n",
      "Requirement already satisfied: importlib-metadata>=6.6.0 in /home/sogaksa123/anaconda3/envs/sogaksa/lib/python3.10/site-packages (from yapf->mmengine) (7.1.0)\n",
      "Requirement already satisfied: platformdirs>=3.5.1 in /home/sogaksa123/anaconda3/envs/sogaksa/lib/python3.10/site-packages (from yapf->mmengine) (4.2.0)\n",
      "Requirement already satisfied: tomli>=2.0.1 in /home/sogaksa123/anaconda3/envs/sogaksa/lib/python3.10/site-packages (from yapf->mmengine) (2.0.1)\n",
      "Requirement already satisfied: zipp>=0.5 in /home/sogaksa123/anaconda3/envs/sogaksa/lib/python3.10/site-packages (from importlib-metadata>=6.6.0->yapf->mmengine) (3.18.1)\n",
      "Requirement already satisfied: mdurl~=0.1 in /home/sogaksa123/anaconda3/envs/sogaksa/lib/python3.10/site-packages (from markdown-it-py>=2.2.0->rich->mmengine) (0.1.2)\n",
      "Requirement already satisfied: six>=1.5 in /home/sogaksa123/anaconda3/envs/sogaksa/lib/python3.10/site-packages (from python-dateutil>=2.7->matplotlib->mmengine) (1.16.0)\n",
      "Collecting mmcv>=2.0.0\n",
      "  Using cached mmcv-2.1.0.tar.gz (471 kB)\n",
      "  Preparing metadata (setup.py) ... \u001b[?25ldone\n",
      "\u001b[?25hRequirement already satisfied: addict in /home/sogaksa123/anaconda3/envs/sogaksa/lib/python3.10/site-packages (from mmcv>=2.0.0) (2.4.0)\n",
      "Requirement already satisfied: mmengine>=0.3.0 in /home/sogaksa123/anaconda3/envs/sogaksa/lib/python3.10/site-packages (from mmcv>=2.0.0) (0.10.3)\n",
      "Requirement already satisfied: numpy in /home/sogaksa123/anaconda3/envs/sogaksa/lib/python3.10/site-packages (from mmcv>=2.0.0) (1.26.4)\n",
      "Requirement already satisfied: packaging in /home/sogaksa123/anaconda3/envs/sogaksa/lib/python3.10/site-packages (from mmcv>=2.0.0) (24.0)\n",
      "Requirement already satisfied: Pillow in /home/sogaksa123/anaconda3/envs/sogaksa/lib/python3.10/site-packages (from mmcv>=2.0.0) (10.2.0)\n",
      "Requirement already satisfied: pyyaml in /home/sogaksa123/anaconda3/envs/sogaksa/lib/python3.10/site-packages (from mmcv>=2.0.0) (6.0.1)\n",
      "Requirement already satisfied: yapf in /home/sogaksa123/anaconda3/envs/sogaksa/lib/python3.10/site-packages (from mmcv>=2.0.0) (0.40.2)\n",
      "Requirement already satisfied: matplotlib in /home/sogaksa123/anaconda3/envs/sogaksa/lib/python3.10/site-packages (from mmengine>=0.3.0->mmcv>=2.0.0) (3.8.3)\n",
      "Requirement already satisfied: rich in /home/sogaksa123/anaconda3/envs/sogaksa/lib/python3.10/site-packages (from mmengine>=0.3.0->mmcv>=2.0.0) (13.4.2)\n",
      "Requirement already satisfied: termcolor in /home/sogaksa123/anaconda3/envs/sogaksa/lib/python3.10/site-packages (from mmengine>=0.3.0->mmcv>=2.0.0) (2.4.0)\n",
      "Requirement already satisfied: opencv-python>=3 in /home/sogaksa123/anaconda3/envs/sogaksa/lib/python3.10/site-packages (from mmengine>=0.3.0->mmcv>=2.0.0) (4.9.0.80)\n",
      "Requirement already satisfied: importlib-metadata>=6.6.0 in /home/sogaksa123/anaconda3/envs/sogaksa/lib/python3.10/site-packages (from yapf->mmcv>=2.0.0) (7.1.0)\n",
      "Requirement already satisfied: platformdirs>=3.5.1 in /home/sogaksa123/anaconda3/envs/sogaksa/lib/python3.10/site-packages (from yapf->mmcv>=2.0.0) (4.2.0)\n",
      "Requirement already satisfied: tomli>=2.0.1 in /home/sogaksa123/anaconda3/envs/sogaksa/lib/python3.10/site-packages (from yapf->mmcv>=2.0.0) (2.0.1)\n",
      "Requirement already satisfied: zipp>=0.5 in /home/sogaksa123/anaconda3/envs/sogaksa/lib/python3.10/site-packages (from importlib-metadata>=6.6.0->yapf->mmcv>=2.0.0) (3.18.1)\n",
      "Requirement already satisfied: contourpy>=1.0.1 in /home/sogaksa123/anaconda3/envs/sogaksa/lib/python3.10/site-packages (from matplotlib->mmengine>=0.3.0->mmcv>=2.0.0) (1.2.0)\n",
      "Requirement already satisfied: cycler>=0.10 in /home/sogaksa123/anaconda3/envs/sogaksa/lib/python3.10/site-packages (from matplotlib->mmengine>=0.3.0->mmcv>=2.0.0) (0.12.1)\n",
      "Requirement already satisfied: fonttools>=4.22.0 in /home/sogaksa123/anaconda3/envs/sogaksa/lib/python3.10/site-packages (from matplotlib->mmengine>=0.3.0->mmcv>=2.0.0) (4.50.0)\n",
      "Requirement already satisfied: kiwisolver>=1.3.1 in /home/sogaksa123/anaconda3/envs/sogaksa/lib/python3.10/site-packages (from matplotlib->mmengine>=0.3.0->mmcv>=2.0.0) (1.4.5)\n",
      "Requirement already satisfied: pyparsing>=2.3.1 in /home/sogaksa123/anaconda3/envs/sogaksa/lib/python3.10/site-packages (from matplotlib->mmengine>=0.3.0->mmcv>=2.0.0) (3.1.2)\n",
      "Requirement already satisfied: python-dateutil>=2.7 in /home/sogaksa123/anaconda3/envs/sogaksa/lib/python3.10/site-packages (from matplotlib->mmengine>=0.3.0->mmcv>=2.0.0) (2.9.0.post0)\n",
      "Requirement already satisfied: markdown-it-py>=2.2.0 in /home/sogaksa123/anaconda3/envs/sogaksa/lib/python3.10/site-packages (from rich->mmengine>=0.3.0->mmcv>=2.0.0) (3.0.0)\n",
      "Requirement already satisfied: pygments<3.0.0,>=2.13.0 in /home/sogaksa123/anaconda3/envs/sogaksa/lib/python3.10/site-packages (from rich->mmengine>=0.3.0->mmcv>=2.0.0) (2.17.2)\n",
      "Requirement already satisfied: mdurl~=0.1 in /home/sogaksa123/anaconda3/envs/sogaksa/lib/python3.10/site-packages (from markdown-it-py>=2.2.0->rich->mmengine>=0.3.0->mmcv>=2.0.0) (0.1.2)\n",
      "Requirement already satisfied: six>=1.5 in /home/sogaksa123/anaconda3/envs/sogaksa/lib/python3.10/site-packages (from python-dateutil>=2.7->matplotlib->mmengine>=0.3.0->mmcv>=2.0.0) (1.16.0)\n",
      "Building wheels for collected packages: mmcv\n",
      "  Building wheel for mmcv (setup.py) ... \u001b[?25ldone\n",
      "\u001b[?25h  Created wheel for mmcv: filename=mmcv-2.1.0-cp310-cp310-linux_x86_64.whl size=10241921 sha256=e2d0672c13507ee1883788f6199b4fc5fe6c20a3397a6a46ff14a2eccc26fdbb\n",
      "  Stored in directory: /home/sogaksa123/.cache/pip/wheels/8b/09/35/94a7f7ba6a00e3810abd0492340e4cbba0ff3d443120a94120\n",
      "Successfully built mmcv\n",
      "Installing collected packages: mmcv\n",
      "Successfully installed mmcv-2.1.0\n"
     ]
    }
   ],
   "source": [
    "!pip install -U openmim\n",
    "!pip install mmengine\n",
    "!pip install \"mmcv>=2.0.0\""
   ]
  },
  {
   "cell_type": "code",
   "execution_count": 28,
   "id": "7eaabe67-9ce1-4c48-b7f7-743323fff29c",
   "metadata": {
    "scrolled": true
   },
   "outputs": [
    {
     "name": "stdout",
     "output_type": "stream",
     "text": [
      "Collecting torch==2.0.0\n",
      "  Using cached torch-2.0.0-cp310-cp310-manylinux1_x86_64.whl.metadata (24 kB)\n",
      "Collecting torchvision==0.15.1\n",
      "  Using cached torchvision-0.15.1-cp310-cp310-manylinux1_x86_64.whl.metadata (11 kB)\n",
      "Requirement already satisfied: filelock in /home/sogaksa123/anaconda3/envs/sogaksa/lib/python3.10/site-packages (from torch==2.0.0) (3.13.1)\n",
      "Requirement already satisfied: typing-extensions in /home/sogaksa123/anaconda3/envs/sogaksa/lib/python3.10/site-packages (from torch==2.0.0) (4.10.0)\n",
      "Requirement already satisfied: sympy in /home/sogaksa123/anaconda3/envs/sogaksa/lib/python3.10/site-packages (from torch==2.0.0) (1.12)\n",
      "Requirement already satisfied: networkx in /home/sogaksa123/anaconda3/envs/sogaksa/lib/python3.10/site-packages (from torch==2.0.0) (3.2.1)\n",
      "Requirement already satisfied: jinja2 in /home/sogaksa123/anaconda3/envs/sogaksa/lib/python3.10/site-packages (from torch==2.0.0) (3.1.3)\n",
      "Requirement already satisfied: nvidia-cuda-nvrtc-cu11==11.7.99 in /home/sogaksa123/anaconda3/envs/sogaksa/lib/python3.10/site-packages (from torch==2.0.0) (11.7.99)\n",
      "Requirement already satisfied: nvidia-cuda-runtime-cu11==11.7.99 in /home/sogaksa123/anaconda3/envs/sogaksa/lib/python3.10/site-packages (from torch==2.0.0) (11.7.99)\n",
      "Requirement already satisfied: nvidia-cuda-cupti-cu11==11.7.101 in /home/sogaksa123/anaconda3/envs/sogaksa/lib/python3.10/site-packages (from torch==2.0.0) (11.7.101)\n",
      "Requirement already satisfied: nvidia-cudnn-cu11==8.5.0.96 in /home/sogaksa123/anaconda3/envs/sogaksa/lib/python3.10/site-packages (from torch==2.0.0) (8.5.0.96)\n",
      "Requirement already satisfied: nvidia-cublas-cu11==11.10.3.66 in /home/sogaksa123/anaconda3/envs/sogaksa/lib/python3.10/site-packages (from torch==2.0.0) (11.10.3.66)\n",
      "Requirement already satisfied: nvidia-cufft-cu11==10.9.0.58 in /home/sogaksa123/anaconda3/envs/sogaksa/lib/python3.10/site-packages (from torch==2.0.0) (10.9.0.58)\n",
      "Requirement already satisfied: nvidia-curand-cu11==10.2.10.91 in /home/sogaksa123/anaconda3/envs/sogaksa/lib/python3.10/site-packages (from torch==2.0.0) (10.2.10.91)\n",
      "Requirement already satisfied: nvidia-cusolver-cu11==11.4.0.1 in /home/sogaksa123/anaconda3/envs/sogaksa/lib/python3.10/site-packages (from torch==2.0.0) (11.4.0.1)\n",
      "Requirement already satisfied: nvidia-cusparse-cu11==11.7.4.91 in /home/sogaksa123/anaconda3/envs/sogaksa/lib/python3.10/site-packages (from torch==2.0.0) (11.7.4.91)\n",
      "Requirement already satisfied: nvidia-nccl-cu11==2.14.3 in /home/sogaksa123/anaconda3/envs/sogaksa/lib/python3.10/site-packages (from torch==2.0.0) (2.14.3)\n",
      "Requirement already satisfied: nvidia-nvtx-cu11==11.7.91 in /home/sogaksa123/anaconda3/envs/sogaksa/lib/python3.10/site-packages (from torch==2.0.0) (11.7.91)\n",
      "Collecting triton==2.0.0 (from torch==2.0.0)\n",
      "  Using cached triton-2.0.0-1-cp310-cp310-manylinux2014_x86_64.manylinux_2_17_x86_64.whl.metadata (1.0 kB)\n",
      "Requirement already satisfied: numpy in /home/sogaksa123/anaconda3/envs/sogaksa/lib/python3.10/site-packages (from torchvision==0.15.1) (1.26.4)\n",
      "Requirement already satisfied: requests in /home/sogaksa123/anaconda3/envs/sogaksa/lib/python3.10/site-packages (from torchvision==0.15.1) (2.28.2)\n",
      "Requirement already satisfied: pillow!=8.3.*,>=5.3.0 in /home/sogaksa123/anaconda3/envs/sogaksa/lib/python3.10/site-packages (from torchvision==0.15.1) (10.2.0)\n",
      "Requirement already satisfied: setuptools in /home/sogaksa123/anaconda3/envs/sogaksa/lib/python3.10/site-packages (from nvidia-cublas-cu11==11.10.3.66->torch==2.0.0) (60.2.0)\n",
      "Requirement already satisfied: wheel in /home/sogaksa123/anaconda3/envs/sogaksa/lib/python3.10/site-packages (from nvidia-cublas-cu11==11.10.3.66->torch==2.0.0) (0.41.2)\n",
      "Requirement already satisfied: cmake in /home/sogaksa123/anaconda3/envs/sogaksa/lib/python3.10/site-packages (from triton==2.0.0->torch==2.0.0) (3.29.0.1)\n",
      "Requirement already satisfied: lit in /home/sogaksa123/anaconda3/envs/sogaksa/lib/python3.10/site-packages (from triton==2.0.0->torch==2.0.0) (18.1.2)\n",
      "Requirement already satisfied: MarkupSafe>=2.0 in /home/sogaksa123/anaconda3/envs/sogaksa/lib/python3.10/site-packages (from jinja2->torch==2.0.0) (2.1.5)\n",
      "Requirement already satisfied: charset-normalizer<4,>=2 in /home/sogaksa123/anaconda3/envs/sogaksa/lib/python3.10/site-packages (from requests->torchvision==0.15.1) (3.3.2)\n",
      "Requirement already satisfied: idna<4,>=2.5 in /home/sogaksa123/anaconda3/envs/sogaksa/lib/python3.10/site-packages (from requests->torchvision==0.15.1) (3.6)\n",
      "Requirement already satisfied: urllib3<1.27,>=1.21.1 in /home/sogaksa123/anaconda3/envs/sogaksa/lib/python3.10/site-packages (from requests->torchvision==0.15.1) (1.26.18)\n",
      "Requirement already satisfied: certifi>=2017.4.17 in /home/sogaksa123/anaconda3/envs/sogaksa/lib/python3.10/site-packages (from requests->torchvision==0.15.1) (2024.2.2)\n",
      "Requirement already satisfied: mpmath>=0.19 in /home/sogaksa123/anaconda3/envs/sogaksa/lib/python3.10/site-packages (from sympy->torch==2.0.0) (1.3.0)\n",
      "Using cached torch-2.0.0-cp310-cp310-manylinux1_x86_64.whl (619.9 MB)\n",
      "Using cached torchvision-0.15.1-cp310-cp310-manylinux1_x86_64.whl (6.0 MB)\n",
      "Using cached triton-2.0.0-1-cp310-cp310-manylinux2014_x86_64.manylinux_2_17_x86_64.whl (63.3 MB)\n",
      "Installing collected packages: triton, torch, torchvision\n",
      "  Attempting uninstall: triton\n",
      "    Found existing installation: triton 2.2.0\n",
      "    Uninstalling triton-2.2.0:\n",
      "      Successfully uninstalled triton-2.2.0\n",
      "\u001b[31mERROR: pip's dependency resolver does not currently take into account all the packages that are installed. This behaviour is the source of the following dependency conflicts.\n",
      "effdet 0.4.1 requires timm>=0.9.2, but you have timm 0.1.26 which is incompatible.\u001b[0m\u001b[31m\n",
      "\u001b[0mSuccessfully installed torch-2.0.0 torchvision-0.15.1 triton-2.0.0\n"
     ]
    }
   ],
   "source": [
    "!pip install torch==2.0.0 torchvision==0.15.1\n",
    "# !pip show torch\n",
    "# !pip uninstall torch torchvision torchaudio\n",
    "\n",
    "# !pip3 install torch torchvision torchaudio"
   ]
  },
  {
   "cell_type": "code",
   "execution_count": 17,
   "id": "4a7be159-e2fc-4cf9-b0ca-46ab628082ff",
   "metadata": {},
   "outputs": [
    {
     "name": "stdout",
     "output_type": "stream",
     "text": [
      "nvcc: NVIDIA (R) Cuda compiler driver\n",
      "Copyright (c) 2005-2024 NVIDIA Corporation\n",
      "Built on Thu_Mar_28_02:18:24_PDT_2024\n",
      "Cuda compilation tools, release 12.4, V12.4.131\n",
      "Build cuda_12.4.r12.4/compiler.34097967_0\n"
     ]
    }
   ],
   "source": [
    "!nvcc --version"
   ]
  },
  {
   "cell_type": "code",
   "execution_count": 24,
   "id": "80261672-50dd-480f-9d34-3e7894a8f68a",
   "metadata": {},
   "outputs": [
    {
     "name": "stdout",
     "output_type": "stream",
     "text": [
      "Name: torch\n",
      "Version: 2.2.2\n",
      "Summary: Tensors and Dynamic neural networks in Python with strong GPU acceleration\n",
      "Home-page: https://pytorch.org/\n",
      "Author: PyTorch Team\n",
      "Author-email: packages@pytorch.org\n",
      "License: BSD-3\n",
      "Location: /home/sogaksa123/anaconda3/envs/sogaksa/lib/python3.10/site-packages\n",
      "Requires: filelock, fsspec, jinja2, networkx, nvidia-cublas-cu12, nvidia-cuda-cupti-cu12, nvidia-cuda-nvrtc-cu12, nvidia-cuda-runtime-cu12, nvidia-cudnn-cu12, nvidia-cufft-cu12, nvidia-curand-cu12, nvidia-cusolver-cu12, nvidia-cusparse-cu12, nvidia-nccl-cu12, nvidia-nvtx-cu12, sympy, triton, typing-extensions\n",
      "Required-by: effdet, thop, timm, torchaudio, torchmetrics, torchvision, ultralytics\n"
     ]
    }
   ],
   "source": [
    "!pip show torch"
   ]
  },
  {
   "cell_type": "code",
   "execution_count": 3,
   "id": "b3179a99-feaf-4b6e-ad4e-81f708b47d23",
   "metadata": {},
   "outputs": [
    {
     "name": "stdout",
     "output_type": "stream",
     "text": [
      "Cloning into 'mmcv'...\n",
      "remote: Enumerating objects: 16775, done.\u001b[K\n",
      "remote: Counting objects: 100% (5497/5497), done.\u001b[K\n",
      "remote: Compressing objects: 100% (956/956), done.\u001b[K\n",
      "remote: Total 16775 (delta 4961), reused 4544 (delta 4541), pack-reused 11278\u001b[K\n",
      "Receiving objects: 100% (16775/16775), 13.83 MiB | 18.44 MiB/s, done.\n",
      "Resolving deltas: 100% (12493/12493), done.\n"
     ]
    }
   ],
   "source": [
    "!git clone https://github.com/open-mmlab/mmcv.git"
   ]
  },
  {
   "cell_type": "code",
   "execution_count": 4,
   "id": "008bd631-61b1-4004-8d76-8d9c9f7bf8da",
   "metadata": {},
   "outputs": [
    {
     "name": "stdout",
     "output_type": "stream",
     "text": [
      "/home/sogaksa123/AIFFEL_THON/model/mmdetection/mmcv\n"
     ]
    },
    {
     "name": "stderr",
     "output_type": "stream",
     "text": [
      "/home/sogaksa123/anaconda3/envs/sogaksa/lib/python3.10/site-packages/IPython/core/magics/osm.py:417: UserWarning: This is now an optional IPython functionality, setting dhist requires you to install the `pickleshare` library.\n",
      "  self.shell.db['dhist'] = compress_dhist(dhist)[-100:]\n"
     ]
    }
   ],
   "source": [
    "%cd mmcv"
   ]
  },
  {
   "cell_type": "code",
   "execution_count": 5,
   "id": "a160f032-a956-4534-a28b-62173b1d45ae",
   "metadata": {},
   "outputs": [
    {
     "data": {
      "text/plain": [
       "'/home/sogaksa123/AIFFEL_THON/model/mmdetection/mmcv'"
      ]
     },
     "execution_count": 5,
     "metadata": {},
     "output_type": "execute_result"
    }
   ],
   "source": [
    "%pwd"
   ]
  },
  {
   "cell_type": "code",
   "execution_count": 6,
   "id": "acb142b1-f9e5-48d5-b801-8b5ba34526ec",
   "metadata": {},
   "outputs": [
    {
     "name": "stdout",
     "output_type": "stream",
     "text": [
      "Requirement already satisfied: ninja in /home/sogaksa123/anaconda3/envs/sogaksa/lib/python3.10/site-packages (from -r requirements/optional.txt (line 1)) (1.11.1.1)\n",
      "Requirement already satisfied: psutil in /home/sogaksa123/anaconda3/envs/sogaksa/lib/python3.10/site-packages (from -r requirements/optional.txt (line 2)) (5.9.8)\n"
     ]
    }
   ],
   "source": [
    "!pip install -r requirements/optional.txt"
   ]
  },
  {
   "cell_type": "code",
   "execution_count": 23,
   "id": "b01710fc-6fdd-4b70-850c-b9b94c488db6",
   "metadata": {},
   "outputs": [
    {
     "name": "stdout",
     "output_type": "stream",
     "text": [
      "nvcc: NVIDIA (R) Cuda compiler driver\n",
      "Copyright (c) 2005-2019 NVIDIA Corporation\n",
      "Built on Sun_Jul_28_19:07:16_PDT_2019\n",
      "Cuda compilation tools, release 10.1, V10.1.243\n"
     ]
    }
   ],
   "source": [
    "!nvcc --version"
   ]
  },
  {
   "cell_type": "code",
   "execution_count": 7,
   "id": "b68bf032-7791-40ff-bf40-56a28c7488ae",
   "metadata": {},
   "outputs": [
    {
     "name": "stdout",
     "output_type": "stream",
     "text": [
      "gcc (Ubuntu 9.4.0-1ubuntu1~20.04.2) 9.4.0\n",
      "Copyright (C) 2019 Free Software Foundation, Inc.\n",
      "This is free software; see the source for copying conditions.  There is NO\n",
      "warranty; not even for MERCHANTABILITY or FITNESS FOR A PARTICULAR PURPOSE.\n",
      "\n"
     ]
    }
   ],
   "source": [
    "!gcc --version"
   ]
  },
  {
   "cell_type": "code",
   "execution_count": 8,
   "id": "a21f9d21-3db0-4a1e-93f9-d568dd0295ba",
   "metadata": {},
   "outputs": [
    {
     "name": "stdout",
     "output_type": "stream",
     "text": [
      "Obtaining file:///home/sogaksa123/AIFFEL_THON/model/mmdetection/mmcv\n",
      "  Preparing metadata (setup.py) ... \u001b[?25ldone\n",
      "\u001b[?25hRequirement already satisfied: addict in /home/sogaksa123/anaconda3/envs/sogaksa/lib/python3.10/site-packages (from mmcv==2.1.0) (2.4.0)\n",
      "Requirement already satisfied: mmengine>=0.3.0 in /home/sogaksa123/anaconda3/envs/sogaksa/lib/python3.10/site-packages (from mmcv==2.1.0) (0.10.3)\n",
      "Requirement already satisfied: numpy in /home/sogaksa123/anaconda3/envs/sogaksa/lib/python3.10/site-packages (from mmcv==2.1.0) (1.26.4)\n",
      "Requirement already satisfied: packaging in /home/sogaksa123/anaconda3/envs/sogaksa/lib/python3.10/site-packages (from mmcv==2.1.0) (24.0)\n",
      "Requirement already satisfied: Pillow in /home/sogaksa123/anaconda3/envs/sogaksa/lib/python3.10/site-packages (from mmcv==2.1.0) (10.2.0)\n",
      "Requirement already satisfied: pyyaml in /home/sogaksa123/anaconda3/envs/sogaksa/lib/python3.10/site-packages (from mmcv==2.1.0) (6.0.1)\n",
      "Requirement already satisfied: yapf in /home/sogaksa123/anaconda3/envs/sogaksa/lib/python3.10/site-packages (from mmcv==2.1.0) (0.40.2)\n",
      "Requirement already satisfied: matplotlib in /home/sogaksa123/anaconda3/envs/sogaksa/lib/python3.10/site-packages (from mmengine>=0.3.0->mmcv==2.1.0) (3.8.3)\n",
      "Requirement already satisfied: rich in /home/sogaksa123/anaconda3/envs/sogaksa/lib/python3.10/site-packages (from mmengine>=0.3.0->mmcv==2.1.0) (13.4.2)\n",
      "Requirement already satisfied: termcolor in /home/sogaksa123/anaconda3/envs/sogaksa/lib/python3.10/site-packages (from mmengine>=0.3.0->mmcv==2.1.0) (2.4.0)\n",
      "Requirement already satisfied: opencv-python>=3 in /home/sogaksa123/anaconda3/envs/sogaksa/lib/python3.10/site-packages (from mmengine>=0.3.0->mmcv==2.1.0) (4.9.0.80)\n",
      "Requirement already satisfied: importlib-metadata>=6.6.0 in /home/sogaksa123/anaconda3/envs/sogaksa/lib/python3.10/site-packages (from yapf->mmcv==2.1.0) (7.1.0)\n",
      "Requirement already satisfied: platformdirs>=3.5.1 in /home/sogaksa123/anaconda3/envs/sogaksa/lib/python3.10/site-packages (from yapf->mmcv==2.1.0) (4.2.0)\n",
      "Requirement already satisfied: tomli>=2.0.1 in /home/sogaksa123/anaconda3/envs/sogaksa/lib/python3.10/site-packages (from yapf->mmcv==2.1.0) (2.0.1)\n",
      "Requirement already satisfied: zipp>=0.5 in /home/sogaksa123/anaconda3/envs/sogaksa/lib/python3.10/site-packages (from importlib-metadata>=6.6.0->yapf->mmcv==2.1.0) (3.18.1)\n",
      "Requirement already satisfied: contourpy>=1.0.1 in /home/sogaksa123/anaconda3/envs/sogaksa/lib/python3.10/site-packages (from matplotlib->mmengine>=0.3.0->mmcv==2.1.0) (1.2.0)\n",
      "Requirement already satisfied: cycler>=0.10 in /home/sogaksa123/anaconda3/envs/sogaksa/lib/python3.10/site-packages (from matplotlib->mmengine>=0.3.0->mmcv==2.1.0) (0.12.1)\n",
      "Requirement already satisfied: fonttools>=4.22.0 in /home/sogaksa123/anaconda3/envs/sogaksa/lib/python3.10/site-packages (from matplotlib->mmengine>=0.3.0->mmcv==2.1.0) (4.50.0)\n",
      "Requirement already satisfied: kiwisolver>=1.3.1 in /home/sogaksa123/anaconda3/envs/sogaksa/lib/python3.10/site-packages (from matplotlib->mmengine>=0.3.0->mmcv==2.1.0) (1.4.5)\n",
      "Requirement already satisfied: pyparsing>=2.3.1 in /home/sogaksa123/anaconda3/envs/sogaksa/lib/python3.10/site-packages (from matplotlib->mmengine>=0.3.0->mmcv==2.1.0) (3.1.2)\n",
      "Requirement already satisfied: python-dateutil>=2.7 in /home/sogaksa123/anaconda3/envs/sogaksa/lib/python3.10/site-packages (from matplotlib->mmengine>=0.3.0->mmcv==2.1.0) (2.9.0.post0)\n",
      "Requirement already satisfied: markdown-it-py>=2.2.0 in /home/sogaksa123/anaconda3/envs/sogaksa/lib/python3.10/site-packages (from rich->mmengine>=0.3.0->mmcv==2.1.0) (3.0.0)\n",
      "Requirement already satisfied: pygments<3.0.0,>=2.13.0 in /home/sogaksa123/anaconda3/envs/sogaksa/lib/python3.10/site-packages (from rich->mmengine>=0.3.0->mmcv==2.1.0) (2.17.2)\n",
      "Requirement already satisfied: mdurl~=0.1 in /home/sogaksa123/anaconda3/envs/sogaksa/lib/python3.10/site-packages (from markdown-it-py>=2.2.0->rich->mmengine>=0.3.0->mmcv==2.1.0) (0.1.2)\n",
      "Requirement already satisfied: six>=1.5 in /home/sogaksa123/anaconda3/envs/sogaksa/lib/python3.10/site-packages (from python-dateutil>=2.7->matplotlib->mmengine>=0.3.0->mmcv==2.1.0) (1.16.0)\n",
      "Installing collected packages: mmcv\n",
      "  Attempting uninstall: mmcv\n",
      "    Found existing installation: mmcv 2.1.0\n",
      "    Uninstalling mmcv-2.1.0:\n",
      "      Successfully uninstalled mmcv-2.1.0\n",
      "  Running setup.py develop for mmcv\n",
      "Successfully installed mmcv-2.1.0\n"
     ]
    }
   ],
   "source": [
    "!MMCV_WITH_OPS=1 pip install -e ."
   ]
  },
  {
   "cell_type": "code",
   "execution_count": 9,
   "id": "f3b32e05-64b6-4a1b-84d9-5fad422f154d",
   "metadata": {},
   "outputs": [
    {
     "name": "stdout",
     "output_type": "stream",
     "text": [
      "Using pip 23.3.1 from /home/sogaksa123/anaconda3/envs/sogaksa/lib/python3.10/site-packages/pip (python 3.10)\n",
      "Obtaining file:///home/sogaksa123/AIFFEL_THON/model/mmdetection/mmcv\n",
      "  Running command python setup.py egg_info\n",
      "  running egg_info\n",
      "  creating /tmp/pip-pip-egg-info-5og_ri8j/mmcv.egg-info\n",
      "  writing manifest file '/tmp/pip-pip-egg-info-5og_ri8j/mmcv.egg-info/SOURCES.txt'\n",
      "  writing manifest file '/tmp/pip-pip-egg-info-5og_ri8j/mmcv.egg-info/SOURCES.txt'\n",
      "  Preparing metadata (setup.py) ... \u001b[?25l\u001b[?25hdone\n",
      "Requirement already satisfied: addict in /home/sogaksa123/anaconda3/envs/sogaksa/lib/python3.10/site-packages (from mmcv==2.1.0) (2.4.0)\n",
      "Requirement already satisfied: mmengine>=0.3.0 in /home/sogaksa123/anaconda3/envs/sogaksa/lib/python3.10/site-packages (from mmcv==2.1.0) (0.10.3)\n",
      "Requirement already satisfied: numpy in /home/sogaksa123/anaconda3/envs/sogaksa/lib/python3.10/site-packages (from mmcv==2.1.0) (1.26.4)\n",
      "Requirement already satisfied: packaging in /home/sogaksa123/anaconda3/envs/sogaksa/lib/python3.10/site-packages (from mmcv==2.1.0) (24.0)\n",
      "Requirement already satisfied: Pillow in /home/sogaksa123/anaconda3/envs/sogaksa/lib/python3.10/site-packages (from mmcv==2.1.0) (10.2.0)\n",
      "Requirement already satisfied: pyyaml in /home/sogaksa123/anaconda3/envs/sogaksa/lib/python3.10/site-packages (from mmcv==2.1.0) (6.0.1)\n",
      "Requirement already satisfied: yapf in /home/sogaksa123/anaconda3/envs/sogaksa/lib/python3.10/site-packages (from mmcv==2.1.0) (0.40.2)\n",
      "Requirement already satisfied: matplotlib in /home/sogaksa123/anaconda3/envs/sogaksa/lib/python3.10/site-packages (from mmengine>=0.3.0->mmcv==2.1.0) (3.8.3)\n",
      "Requirement already satisfied: rich in /home/sogaksa123/anaconda3/envs/sogaksa/lib/python3.10/site-packages (from mmengine>=0.3.0->mmcv==2.1.0) (13.4.2)\n",
      "Requirement already satisfied: termcolor in /home/sogaksa123/anaconda3/envs/sogaksa/lib/python3.10/site-packages (from mmengine>=0.3.0->mmcv==2.1.0) (2.4.0)\n",
      "Requirement already satisfied: opencv-python>=3 in /home/sogaksa123/anaconda3/envs/sogaksa/lib/python3.10/site-packages (from mmengine>=0.3.0->mmcv==2.1.0) (4.9.0.80)\n",
      "Requirement already satisfied: importlib-metadata>=6.6.0 in /home/sogaksa123/anaconda3/envs/sogaksa/lib/python3.10/site-packages (from yapf->mmcv==2.1.0) (7.1.0)\n",
      "Requirement already satisfied: platformdirs>=3.5.1 in /home/sogaksa123/anaconda3/envs/sogaksa/lib/python3.10/site-packages (from yapf->mmcv==2.1.0) (4.2.0)\n",
      "Requirement already satisfied: tomli>=2.0.1 in /home/sogaksa123/anaconda3/envs/sogaksa/lib/python3.10/site-packages (from yapf->mmcv==2.1.0) (2.0.1)\n",
      "Requirement already satisfied: zipp>=0.5 in /home/sogaksa123/anaconda3/envs/sogaksa/lib/python3.10/site-packages (from importlib-metadata>=6.6.0->yapf->mmcv==2.1.0) (3.18.1)\n",
      "Requirement already satisfied: contourpy>=1.0.1 in /home/sogaksa123/anaconda3/envs/sogaksa/lib/python3.10/site-packages (from matplotlib->mmengine>=0.3.0->mmcv==2.1.0) (1.2.0)\n",
      "Requirement already satisfied: cycler>=0.10 in /home/sogaksa123/anaconda3/envs/sogaksa/lib/python3.10/site-packages (from matplotlib->mmengine>=0.3.0->mmcv==2.1.0) (0.12.1)\n",
      "Requirement already satisfied: fonttools>=4.22.0 in /home/sogaksa123/anaconda3/envs/sogaksa/lib/python3.10/site-packages (from matplotlib->mmengine>=0.3.0->mmcv==2.1.0) (4.50.0)\n",
      "Requirement already satisfied: kiwisolver>=1.3.1 in /home/sogaksa123/anaconda3/envs/sogaksa/lib/python3.10/site-packages (from matplotlib->mmengine>=0.3.0->mmcv==2.1.0) (1.4.5)\n",
      "Requirement already satisfied: pyparsing>=2.3.1 in /home/sogaksa123/anaconda3/envs/sogaksa/lib/python3.10/site-packages (from matplotlib->mmengine>=0.3.0->mmcv==2.1.0) (3.1.2)\n",
      "Requirement already satisfied: python-dateutil>=2.7 in /home/sogaksa123/anaconda3/envs/sogaksa/lib/python3.10/site-packages (from matplotlib->mmengine>=0.3.0->mmcv==2.1.0) (2.9.0.post0)\n",
      "Requirement already satisfied: markdown-it-py>=2.2.0 in /home/sogaksa123/anaconda3/envs/sogaksa/lib/python3.10/site-packages (from rich->mmengine>=0.3.0->mmcv==2.1.0) (3.0.0)\n",
      "Requirement already satisfied: pygments<3.0.0,>=2.13.0 in /home/sogaksa123/anaconda3/envs/sogaksa/lib/python3.10/site-packages (from rich->mmengine>=0.3.0->mmcv==2.1.0) (2.17.2)\n",
      "Requirement already satisfied: mdurl~=0.1 in /home/sogaksa123/anaconda3/envs/sogaksa/lib/python3.10/site-packages (from markdown-it-py>=2.2.0->rich->mmengine>=0.3.0->mmcv==2.1.0) (0.1.2)\n",
      "Requirement already satisfied: six>=1.5 in /home/sogaksa123/anaconda3/envs/sogaksa/lib/python3.10/site-packages (from python-dateutil>=2.7->matplotlib->mmengine>=0.3.0->mmcv==2.1.0) (1.16.0)\n",
      "Installing collected packages: mmcv\n",
      "  Attempting uninstall: mmcv\n",
      "    Found existing installation: mmcv 2.1.0\n",
      "    Uninstalling mmcv-2.1.0:\n",
      "      Removing file or directory /home/sogaksa123/anaconda3/envs/sogaksa/lib/python3.10/site-packages/mmcv.egg-link\n",
      "      Removing pth entries from /home/sogaksa123/anaconda3/envs/sogaksa/lib/python3.10/site-packages/easy-install.pth:\n",
      "      Removing entry: /home/sogaksa123/AIFFEL_THON/model/mmdetection/mmcv\n",
      "      Successfully uninstalled mmcv-2.1.0\n",
      "  Running setup.py develop for mmcv\n",
      "    Running command python setup.py develop\n",
      "    running develop\n",
      "    /home/sogaksa123/anaconda3/envs/sogaksa/lib/python3.10/site-packages/setuptools/command/easy_install.py:156: EasyInstallDeprecationWarning: easy_install command is deprecated. Use build and pip and other standards-based tools.\n",
      "      warnings.warn(\n",
      "    /home/sogaksa123/anaconda3/envs/sogaksa/lib/python3.10/site-packages/setuptools/command/install.py:34: SetuptoolsDeprecationWarning: setup.py install is deprecated. Use build and pip and other standards-based tools.\n",
      "      warnings.warn(\n",
      "    running egg_info\n",
      "    writing manifest file 'mmcv.egg-info/SOURCES.txt'\n",
      "    running build_ext\n",
      "    Emitting ninja build file /home/sogaksa123/AIFFEL_THON/model/mmdetection/mmcv/build/temp.linux-x86_64-3.10/build.ninja...\n",
      "    Compiling objects...\n",
      "    Using envvar MAX_JOBS (7) as the number of workers...\n",
      "    ninja: no work to do.\n",
      "    g++ -pthread -B /home/sogaksa123/anaconda3/envs/sogaksa/compiler_compat -shared -Wl,-rpath,/home/sogaksa123/anaconda3/envs/sogaksa/lib -Wl,-rpath-link,/home/sogaksa123/anaconda3/envs/sogaksa/lib -L/home/sogaksa123/anaconda3/envs/sogaksa/lib -Wl,-rpath,/home/sogaksa123/anaconda3/envs/sogaksa/lib -Wl,-rpath-link,/home/sogaksa123/anaconda3/envs/sogaksa/lib -L/home/sogaksa123/anaconda3/envs/sogaksa/lib /home/sogaksa123/AIFFEL_THON/model/mmdetection/mmcv/build/temp.linux-x86_64-3.10/./mmcv/ops/csrc/pytorch/active_rotated_filter.o /home/sogaksa123/AIFFEL_THON/model/mmdetection/mmcv/build/temp.linux-x86_64-3.10/./mmcv/ops/csrc/pytorch/assign_score_withk.o /home/sogaksa123/AIFFEL_THON/model/mmdetection/mmcv/build/temp.linux-x86_64-3.10/./mmcv/ops/csrc/pytorch/ball_query.o /home/sogaksa123/AIFFEL_THON/model/mmdetection/mmcv/build/temp.linux-x86_64-3.10/./mmcv/ops/csrc/pytorch/bbox_overlaps.o /home/sogaksa123/AIFFEL_THON/model/mmdetection/mmcv/build/temp.linux-x86_64-3.10/./mmcv/ops/csrc/pytorch/bezier_align.o /home/sogaksa123/AIFFEL_THON/model/mmdetection/mmcv/build/temp.linux-x86_64-3.10/./mmcv/ops/csrc/pytorch/bias_act.o /home/sogaksa123/AIFFEL_THON/model/mmdetection/mmcv/build/temp.linux-x86_64-3.10/./mmcv/ops/csrc/pytorch/border_align.o /home/sogaksa123/AIFFEL_THON/model/mmdetection/mmcv/build/temp.linux-x86_64-3.10/./mmcv/ops/csrc/pytorch/box_iou_quadri.o /home/sogaksa123/AIFFEL_THON/model/mmdetection/mmcv/build/temp.linux-x86_64-3.10/./mmcv/ops/csrc/pytorch/box_iou_rotated.o /home/sogaksa123/AIFFEL_THON/model/mmdetection/mmcv/build/temp.linux-x86_64-3.10/./mmcv/ops/csrc/pytorch/carafe.o /home/sogaksa123/AIFFEL_THON/model/mmdetection/mmcv/build/temp.linux-x86_64-3.10/./mmcv/ops/csrc/pytorch/carafe_naive.o /home/sogaksa123/AIFFEL_THON/model/mmdetection/mmcv/build/temp.linux-x86_64-3.10/./mmcv/ops/csrc/pytorch/chamfer_distance.o /home/sogaksa123/AIFFEL_THON/model/mmdetection/mmcv/build/temp.linux-x86_64-3.10/./mmcv/ops/csrc/pytorch/contour_expand.o /home/sogaksa123/AIFFEL_THON/model/mmdetection/mmcv/build/temp.linux-x86_64-3.10/./mmcv/ops/csrc/pytorch/convex_iou.o /home/sogaksa123/AIFFEL_THON/model/mmdetection/mmcv/build/temp.linux-x86_64-3.10/./mmcv/ops/csrc/pytorch/correlation.o /home/sogaksa123/AIFFEL_THON/model/mmdetection/mmcv/build/temp.linux-x86_64-3.10/./mmcv/ops/csrc/pytorch/cpu/active_rotated_filter.o /home/sogaksa123/AIFFEL_THON/model/mmdetection/mmcv/build/temp.linux-x86_64-3.10/./mmcv/ops/csrc/pytorch/cpu/bbox_overlaps_cpu.o /home/sogaksa123/AIFFEL_THON/model/mmdetection/mmcv/build/temp.linux-x86_64-3.10/./mmcv/ops/csrc/pytorch/cpu/bezier_align.o /home/sogaksa123/AIFFEL_THON/model/mmdetection/mmcv/build/temp.linux-x86_64-3.10/./mmcv/ops/csrc/pytorch/cpu/box_iou_quadri.o /home/sogaksa123/AIFFEL_THON/model/mmdetection/mmcv/build/temp.linux-x86_64-3.10/./mmcv/ops/csrc/pytorch/cpu/box_iou_rotated.o /home/sogaksa123/AIFFEL_THON/model/mmdetection/mmcv/build/temp.linux-x86_64-3.10/./mmcv/ops/csrc/pytorch/cpu/deform_conv.o /home/sogaksa123/AIFFEL_THON/model/mmdetection/mmcv/build/temp.linux-x86_64-3.10/./mmcv/ops/csrc/pytorch/cpu/modulated_deform_conv.o /home/sogaksa123/AIFFEL_THON/model/mmdetection/mmcv/build/temp.linux-x86_64-3.10/./mmcv/ops/csrc/pytorch/cpu/nms.o /home/sogaksa123/AIFFEL_THON/model/mmdetection/mmcv/build/temp.linux-x86_64-3.10/./mmcv/ops/csrc/pytorch/cpu/nms_quadri.o /home/sogaksa123/AIFFEL_THON/model/mmdetection/mmcv/build/temp.linux-x86_64-3.10/./mmcv/ops/csrc/pytorch/cpu/nms_rotated.o /home/sogaksa123/AIFFEL_THON/model/mmdetection/mmcv/build/temp.linux-x86_64-3.10/./mmcv/ops/csrc/pytorch/cpu/pixel_group.o /home/sogaksa123/AIFFEL_THON/model/mmdetection/mmcv/build/temp.linux-x86_64-3.10/./mmcv/ops/csrc/pytorch/cpu/points_in_boxes.o /home/sogaksa123/AIFFEL_THON/model/mmdetection/mmcv/build/temp.linux-x86_64-3.10/./mmcv/ops/csrc/pytorch/cpu/psamask.o /home/sogaksa123/AIFFEL_THON/model/mmdetection/mmcv/build/temp.linux-x86_64-3.10/./mmcv/ops/csrc/pytorch/cpu/roi_align.o /home/sogaksa123/AIFFEL_THON/model/mmdetection/mmcv/build/temp.linux-x86_64-3.10/./mmcv/ops/csrc/pytorch/cpu/roi_align_rotated.o /home/sogaksa123/AIFFEL_THON/model/mmdetection/mmcv/build/temp.linux-x86_64-3.10/./mmcv/ops/csrc/pytorch/cpu/rotated_feature_align.o /home/sogaksa123/AIFFEL_THON/model/mmdetection/mmcv/build/temp.linux-x86_64-3.10/./mmcv/ops/csrc/pytorch/cpu/sparse_indice.o /home/sogaksa123/AIFFEL_THON/model/mmdetection/mmcv/build/temp.linux-x86_64-3.10/./mmcv/ops/csrc/pytorch/cpu/sparse_maxpool.o /home/sogaksa123/AIFFEL_THON/model/mmdetection/mmcv/build/temp.linux-x86_64-3.10/./mmcv/ops/csrc/pytorch/cpu/sparse_reordering.o /home/sogaksa123/AIFFEL_THON/model/mmdetection/mmcv/build/temp.linux-x86_64-3.10/./mmcv/ops/csrc/pytorch/cpu/voxelization.o /home/sogaksa123/AIFFEL_THON/model/mmdetection/mmcv/build/temp.linux-x86_64-3.10/./mmcv/ops/csrc/pytorch/cuda/active_rotated_filter_cuda.o /home/sogaksa123/AIFFEL_THON/model/mmdetection/mmcv/build/temp.linux-x86_64-3.10/./mmcv/ops/csrc/pytorch/cuda/assign_score_withk_cuda.o /home/sogaksa123/AIFFEL_THON/model/mmdetection/mmcv/build/temp.linux-x86_64-3.10/./mmcv/ops/csrc/pytorch/cuda/ball_query_cuda.o /home/sogaksa123/AIFFEL_THON/model/mmdetection/mmcv/build/temp.linux-x86_64-3.10/./mmcv/ops/csrc/pytorch/cuda/bbox_overlaps_cuda.o /home/sogaksa123/AIFFEL_THON/model/mmdetection/mmcv/build/temp.linux-x86_64-3.10/./mmcv/ops/csrc/pytorch/cuda/bezier_align_cuda.o /home/sogaksa123/AIFFEL_THON/model/mmdetection/mmcv/build/temp.linux-x86_64-3.10/./mmcv/ops/csrc/pytorch/cuda/bias_act_cuda.o /home/sogaksa123/AIFFEL_THON/model/mmdetection/mmcv/build/temp.linux-x86_64-3.10/./mmcv/ops/csrc/pytorch/cuda/border_align_cuda.o /home/sogaksa123/AIFFEL_THON/model/mmdetection/mmcv/build/temp.linux-x86_64-3.10/./mmcv/ops/csrc/pytorch/cuda/box_iou_quadri_cuda.o /home/sogaksa123/AIFFEL_THON/model/mmdetection/mmcv/build/temp.linux-x86_64-3.10/./mmcv/ops/csrc/pytorch/cuda/box_iou_rotated_cuda.o /home/sogaksa123/AIFFEL_THON/model/mmdetection/mmcv/build/temp.linux-x86_64-3.10/./mmcv/ops/csrc/pytorch/cuda/carafe_cuda.o /home/sogaksa123/AIFFEL_THON/model/mmdetection/mmcv/build/temp.linux-x86_64-3.10/./mmcv/ops/csrc/pytorch/cuda/carafe_naive_cuda.o /home/sogaksa123/AIFFEL_THON/model/mmdetection/mmcv/build/temp.linux-x86_64-3.10/./mmcv/ops/csrc/pytorch/cuda/chamfer_distance_cuda.o /home/sogaksa123/AIFFEL_THON/model/mmdetection/mmcv/build/temp.linux-x86_64-3.10/./mmcv/ops/csrc/pytorch/cuda/convex_iou.o /home/sogaksa123/AIFFEL_THON/model/mmdetection/mmcv/build/temp.linux-x86_64-3.10/./mmcv/ops/csrc/pytorch/cuda/correlation_cuda.o /home/sogaksa123/AIFFEL_THON/model/mmdetection/mmcv/build/temp.linux-x86_64-3.10/./mmcv/ops/csrc/pytorch/cuda/cudabind.o /home/sogaksa123/AIFFEL_THON/model/mmdetection/mmcv/build/temp.linux-x86_64-3.10/./mmcv/ops/csrc/pytorch/cuda/deform_conv_cuda.o /home/sogaksa123/AIFFEL_THON/model/mmdetection/mmcv/build/temp.linux-x86_64-3.10/./mmcv/ops/csrc/pytorch/cuda/deform_roi_pool_cuda.o /home/sogaksa123/AIFFEL_THON/model/mmdetection/mmcv/build/temp.linux-x86_64-3.10/./mmcv/ops/csrc/pytorch/cuda/diff_iou_rotated_cuda.o /home/sogaksa123/AIFFEL_THON/model/mmdetection/mmcv/build/temp.linux-x86_64-3.10/./mmcv/ops/csrc/pytorch/cuda/filtered_lrelu.o /home/sogaksa123/AIFFEL_THON/model/mmdetection/mmcv/build/temp.linux-x86_64-3.10/./mmcv/ops/csrc/pytorch/cuda/focal_loss_cuda.o /home/sogaksa123/AIFFEL_THON/model/mmdetection/mmcv/build/temp.linux-x86_64-3.10/./mmcv/ops/csrc/pytorch/cuda/furthest_point_sample_cuda.o /home/sogaksa123/AIFFEL_THON/model/mmdetection/mmcv/build/temp.linux-x86_64-3.10/./mmcv/ops/csrc/pytorch/cuda/fused_bias_leakyrelu_cuda.o /home/sogaksa123/AIFFEL_THON/model/mmdetection/mmcv/build/temp.linux-x86_64-3.10/./mmcv/ops/csrc/pytorch/cuda/fused_spconv_ops_cuda.o /home/sogaksa123/AIFFEL_THON/model/mmdetection/mmcv/build/temp.linux-x86_64-3.10/./mmcv/ops/csrc/pytorch/cuda/gather_points_cuda.o /home/sogaksa123/AIFFEL_THON/model/mmdetection/mmcv/build/temp.linux-x86_64-3.10/./mmcv/ops/csrc/pytorch/cuda/group_points_cuda.o /home/sogaksa123/AIFFEL_THON/model/mmdetection/mmcv/build/temp.linux-x86_64-3.10/./mmcv/ops/csrc/pytorch/cuda/iou3d_cuda.o /home/sogaksa123/AIFFEL_THON/model/mmdetection/mmcv/build/temp.linux-x86_64-3.10/./mmcv/ops/csrc/pytorch/cuda/knn_cuda.o /home/sogaksa123/AIFFEL_THON/model/mmdetection/mmcv/build/temp.linux-x86_64-3.10/./mmcv/ops/csrc/pytorch/cuda/masked_conv2d_cuda.o /home/sogaksa123/AIFFEL_THON/model/mmdetection/mmcv/build/temp.linux-x86_64-3.10/./mmcv/ops/csrc/pytorch/cuda/min_area_polygons.o /home/sogaksa123/AIFFEL_THON/model/mmdetection/mmcv/build/temp.linux-x86_64-3.10/./mmcv/ops/csrc/pytorch/cuda/modulated_deform_conv_cuda.o /home/sogaksa123/AIFFEL_THON/model/mmdetection/mmcv/build/temp.linux-x86_64-3.10/./mmcv/ops/csrc/pytorch/cuda/ms_deform_attn_cuda.o /home/sogaksa123/AIFFEL_THON/model/mmdetection/mmcv/build/temp.linux-x86_64-3.10/./mmcv/ops/csrc/pytorch/cuda/nms_cuda.o /home/sogaksa123/AIFFEL_THON/model/mmdetection/mmcv/build/temp.linux-x86_64-3.10/./mmcv/ops/csrc/pytorch/cuda/nms_quadri_cuda.o /home/sogaksa123/AIFFEL_THON/model/mmdetection/mmcv/build/temp.linux-x86_64-3.10/./mmcv/ops/csrc/pytorch/cuda/nms_rotated_cuda.o /home/sogaksa123/AIFFEL_THON/model/mmdetection/mmcv/build/temp.linux-x86_64-3.10/./mmcv/ops/csrc/pytorch/cuda/points_in_boxes_cuda.o /home/sogaksa123/AIFFEL_THON/model/mmdetection/mmcv/build/temp.linux-x86_64-3.10/./mmcv/ops/csrc/pytorch/cuda/points_in_polygons_cuda.o /home/sogaksa123/AIFFEL_THON/model/mmdetection/mmcv/build/temp.linux-x86_64-3.10/./mmcv/ops/csrc/pytorch/cuda/prroi_pool_cuda.o /home/sogaksa123/AIFFEL_THON/model/mmdetection/mmcv/build/temp.linux-x86_64-3.10/./mmcv/ops/csrc/pytorch/cuda/psamask_cuda.o /home/sogaksa123/AIFFEL_THON/model/mmdetection/mmcv/build/temp.linux-x86_64-3.10/./mmcv/ops/csrc/pytorch/cuda/riroi_align_rotated_cuda.o /home/sogaksa123/AIFFEL_THON/model/mmdetection/mmcv/build/temp.linux-x86_64-3.10/./mmcv/ops/csrc/pytorch/cuda/roi_align_cuda.o /home/sogaksa123/AIFFEL_THON/model/mmdetection/mmcv/build/temp.linux-x86_64-3.10/./mmcv/ops/csrc/pytorch/cuda/roi_align_rotated_cuda.o /home/sogaksa123/AIFFEL_THON/model/mmdetection/mmcv/build/temp.linux-x86_64-3.10/./mmcv/ops/csrc/pytorch/cuda/roi_pool_cuda.o /home/sogaksa123/AIFFEL_THON/model/mmdetection/mmcv/build/temp.linux-x86_64-3.10/./mmcv/ops/csrc/pytorch/cuda/roiaware_pool3d_cuda.o /home/sogaksa123/AIFFEL_THON/model/mmdetection/mmcv/build/temp.linux-x86_64-3.10/./mmcv/ops/csrc/pytorch/cuda/roipoint_pool3d_cuda.o /home/sogaksa123/AIFFEL_THON/model/mmdetection/mmcv/build/temp.linux-x86_64-3.10/./mmcv/ops/csrc/pytorch/cuda/rotated_feature_align_cuda.o /home/sogaksa123/AIFFEL_THON/model/mmdetection/mmcv/build/temp.linux-x86_64-3.10/./mmcv/ops/csrc/pytorch/cuda/scatter_points_cuda.o /home/sogaksa123/AIFFEL_THON/model/mmdetection/mmcv/build/temp.linux-x86_64-3.10/./mmcv/ops/csrc/pytorch/cuda/sparse_indice.o /home/sogaksa123/AIFFEL_THON/model/mmdetection/mmcv/build/temp.linux-x86_64-3.10/./mmcv/ops/csrc/pytorch/cuda/sparse_maxpool.o /home/sogaksa123/AIFFEL_THON/model/mmdetection/mmcv/build/temp.linux-x86_64-3.10/./mmcv/ops/csrc/pytorch/cuda/sparse_pool_ops_cuda.o /home/sogaksa123/AIFFEL_THON/model/mmdetection/mmcv/build/temp.linux-x86_64-3.10/./mmcv/ops/csrc/pytorch/cuda/sparse_reordering.o /home/sogaksa123/AIFFEL_THON/model/mmdetection/mmcv/build/temp.linux-x86_64-3.10/./mmcv/ops/csrc/pytorch/cuda/spconv_ops_cuda.o /home/sogaksa123/AIFFEL_THON/model/mmdetection/mmcv/build/temp.linux-x86_64-3.10/./mmcv/ops/csrc/pytorch/cuda/stack_ball_query_cuda.o /home/sogaksa123/AIFFEL_THON/model/mmdetection/mmcv/build/temp.linux-x86_64-3.10/./mmcv/ops/csrc/pytorch/cuda/stack_group_points_cuda.o /home/sogaksa123/AIFFEL_THON/model/mmdetection/mmcv/build/temp.linux-x86_64-3.10/./mmcv/ops/csrc/pytorch/cuda/sync_bn_cuda.o /home/sogaksa123/AIFFEL_THON/model/mmdetection/mmcv/build/temp.linux-x86_64-3.10/./mmcv/ops/csrc/pytorch/cuda/three_interpolate_cuda.o /home/sogaksa123/AIFFEL_THON/model/mmdetection/mmcv/build/temp.linux-x86_64-3.10/./mmcv/ops/csrc/pytorch/cuda/three_nn_cuda.o /home/sogaksa123/AIFFEL_THON/model/mmdetection/mmcv/build/temp.linux-x86_64-3.10/./mmcv/ops/csrc/pytorch/cuda/tin_shift_cuda.o /home/sogaksa123/AIFFEL_THON/model/mmdetection/mmcv/build/temp.linux-x86_64-3.10/./mmcv/ops/csrc/pytorch/cuda/upfirdn2d_kernel.o /home/sogaksa123/AIFFEL_THON/model/mmdetection/mmcv/build/temp.linux-x86_64-3.10/./mmcv/ops/csrc/pytorch/cuda/voxelization_cuda.o /home/sogaksa123/AIFFEL_THON/model/mmdetection/mmcv/build/temp.linux-x86_64-3.10/./mmcv/ops/csrc/pytorch/deform_conv.o /home/sogaksa123/AIFFEL_THON/model/mmdetection/mmcv/build/temp.linux-x86_64-3.10/./mmcv/ops/csrc/pytorch/deform_roi_pool.o /home/sogaksa123/AIFFEL_THON/model/mmdetection/mmcv/build/temp.linux-x86_64-3.10/./mmcv/ops/csrc/pytorch/diff_iou_rotated.o /home/sogaksa123/AIFFEL_THON/model/mmdetection/mmcv/build/temp.linux-x86_64-3.10/./mmcv/ops/csrc/pytorch/filtered_lrelu.o /home/sogaksa123/AIFFEL_THON/model/mmdetection/mmcv/build/temp.linux-x86_64-3.10/./mmcv/ops/csrc/pytorch/focal_loss.o /home/sogaksa123/AIFFEL_THON/model/mmdetection/mmcv/build/temp.linux-x86_64-3.10/./mmcv/ops/csrc/pytorch/furthest_point_sample.o /home/sogaksa123/AIFFEL_THON/model/mmdetection/mmcv/build/temp.linux-x86_64-3.10/./mmcv/ops/csrc/pytorch/fused_bias_leakyrelu.o /home/sogaksa123/AIFFEL_THON/model/mmdetection/mmcv/build/temp.linux-x86_64-3.10/./mmcv/ops/csrc/pytorch/fused_spconv_ops.o /home/sogaksa123/AIFFEL_THON/model/mmdetection/mmcv/build/temp.linux-x86_64-3.10/./mmcv/ops/csrc/pytorch/gather_points.o /home/sogaksa123/AIFFEL_THON/model/mmdetection/mmcv/build/temp.linux-x86_64-3.10/./mmcv/ops/csrc/pytorch/group_points.o /home/sogaksa123/AIFFEL_THON/model/mmdetection/mmcv/build/temp.linux-x86_64-3.10/./mmcv/ops/csrc/pytorch/info.o /home/sogaksa123/AIFFEL_THON/model/mmdetection/mmcv/build/temp.linux-x86_64-3.10/./mmcv/ops/csrc/pytorch/iou3d.o /home/sogaksa123/AIFFEL_THON/model/mmdetection/mmcv/build/temp.linux-x86_64-3.10/./mmcv/ops/csrc/pytorch/knn.o /home/sogaksa123/AIFFEL_THON/model/mmdetection/mmcv/build/temp.linux-x86_64-3.10/./mmcv/ops/csrc/pytorch/masked_conv2d.o /home/sogaksa123/AIFFEL_THON/model/mmdetection/mmcv/build/temp.linux-x86_64-3.10/./mmcv/ops/csrc/pytorch/min_area_polygons.o /home/sogaksa123/AIFFEL_THON/model/mmdetection/mmcv/build/temp.linux-x86_64-3.10/./mmcv/ops/csrc/pytorch/modulated_deform_conv.o /home/sogaksa123/AIFFEL_THON/model/mmdetection/mmcv/build/temp.linux-x86_64-3.10/./mmcv/ops/csrc/pytorch/ms_deform_attn.o /home/sogaksa123/AIFFEL_THON/model/mmdetection/mmcv/build/temp.linux-x86_64-3.10/./mmcv/ops/csrc/pytorch/nms.o /home/sogaksa123/AIFFEL_THON/model/mmdetection/mmcv/build/temp.linux-x86_64-3.10/./mmcv/ops/csrc/pytorch/nms_quadri.o /home/sogaksa123/AIFFEL_THON/model/mmdetection/mmcv/build/temp.linux-x86_64-3.10/./mmcv/ops/csrc/pytorch/nms_rotated.o /home/sogaksa123/AIFFEL_THON/model/mmdetection/mmcv/build/temp.linux-x86_64-3.10/./mmcv/ops/csrc/pytorch/pixel_group.o /home/sogaksa123/AIFFEL_THON/model/mmdetection/mmcv/build/temp.linux-x86_64-3.10/./mmcv/ops/csrc/pytorch/points_in_boxes.o /home/sogaksa123/AIFFEL_THON/model/mmdetection/mmcv/build/temp.linux-x86_64-3.10/./mmcv/ops/csrc/pytorch/points_in_polygons.o /home/sogaksa123/AIFFEL_THON/model/mmdetection/mmcv/build/temp.linux-x86_64-3.10/./mmcv/ops/csrc/pytorch/prroi_pool.o /home/sogaksa123/AIFFEL_THON/model/mmdetection/mmcv/build/temp.linux-x86_64-3.10/./mmcv/ops/csrc/pytorch/psamask.o /home/sogaksa123/AIFFEL_THON/model/mmdetection/mmcv/build/temp.linux-x86_64-3.10/./mmcv/ops/csrc/pytorch/pybind.o /home/sogaksa123/AIFFEL_THON/model/mmdetection/mmcv/build/temp.linux-x86_64-3.10/./mmcv/ops/csrc/pytorch/riroi_align_rotated.o /home/sogaksa123/AIFFEL_THON/model/mmdetection/mmcv/build/temp.linux-x86_64-3.10/./mmcv/ops/csrc/pytorch/roi_align.o /home/sogaksa123/AIFFEL_THON/model/mmdetection/mmcv/build/temp.linux-x86_64-3.10/./mmcv/ops/csrc/pytorch/roi_align_rotated.o /home/sogaksa123/AIFFEL_THON/model/mmdetection/mmcv/build/temp.linux-x86_64-3.10/./mmcv/ops/csrc/pytorch/roi_pool.o /home/sogaksa123/AIFFEL_THON/model/mmdetection/mmcv/build/temp.linux-x86_64-3.10/./mmcv/ops/csrc/pytorch/roiaware_pool3d.o /home/sogaksa123/AIFFEL_THON/model/mmdetection/mmcv/build/temp.linux-x86_64-3.10/./mmcv/ops/csrc/pytorch/roipoint_pool3d.o /home/sogaksa123/AIFFEL_THON/model/mmdetection/mmcv/build/temp.linux-x86_64-3.10/./mmcv/ops/csrc/pytorch/rotated_feature_align.o /home/sogaksa123/AIFFEL_THON/model/mmdetection/mmcv/build/temp.linux-x86_64-3.10/./mmcv/ops/csrc/pytorch/scatter_points.o /home/sogaksa123/AIFFEL_THON/model/mmdetection/mmcv/build/temp.linux-x86_64-3.10/./mmcv/ops/csrc/pytorch/sparse_pool_ops.o /home/sogaksa123/AIFFEL_THON/model/mmdetection/mmcv/build/temp.linux-x86_64-3.10/./mmcv/ops/csrc/pytorch/spconv_ops.o /home/sogaksa123/AIFFEL_THON/model/mmdetection/mmcv/build/temp.linux-x86_64-3.10/./mmcv/ops/csrc/pytorch/sync_bn.o /home/sogaksa123/AIFFEL_THON/model/mmdetection/mmcv/build/temp.linux-x86_64-3.10/./mmcv/ops/csrc/pytorch/three_interpolate.o /home/sogaksa123/AIFFEL_THON/model/mmdetection/mmcv/build/temp.linux-x86_64-3.10/./mmcv/ops/csrc/pytorch/three_nn.o /home/sogaksa123/AIFFEL_THON/model/mmdetection/mmcv/build/temp.linux-x86_64-3.10/./mmcv/ops/csrc/pytorch/tin_shift.o /home/sogaksa123/AIFFEL_THON/model/mmdetection/mmcv/build/temp.linux-x86_64-3.10/./mmcv/ops/csrc/pytorch/upfirdn2d.o /home/sogaksa123/AIFFEL_THON/model/mmdetection/mmcv/build/temp.linux-x86_64-3.10/./mmcv/ops/csrc/pytorch/voxelization.o -L/home/sogaksa123/anaconda3/envs/sogaksa/lib/python3.10/site-packages/torch/lib -L/usr/local/cuda-11.7/lib64 -lc10 -ltorch -ltorch_cpu -ltorch_python -lcudart -lc10_cuda -ltorch_cuda -o build/lib.linux-x86_64-3.10/mmcv/_ext.cpython-310-x86_64-linux-gnu.so\n",
      "Successfully installed mmcv-2.1.0\n",
      "Note: you may need to restart the kernel to use updated packages.\n"
     ]
    }
   ],
   "source": [
    "pip install -e . -v"
   ]
  },
  {
   "cell_type": "markdown",
   "id": "09b9cdbe-854d-4f6a-bc35-4fc264b11652",
   "metadata": {},
   "source": [
    "MMDET"
   ]
  },
  {
   "cell_type": "code",
   "execution_count": 16,
   "id": "af2b0887-6795-4afc-bda5-aa7b5a54b935",
   "metadata": {},
   "outputs": [
    {
     "name": "stdout",
     "output_type": "stream",
     "text": [
      "Cloning into 'mmdetection'...\n",
      "remote: Enumerating objects: 38019, done.\u001b[K\n",
      "remote: Counting objects: 100% (102/102), done.\u001b[K\n",
      "remote: Compressing objects: 100% (66/66), done.\u001b[K\n",
      "remote: Total 38019 (delta 38), reused 67 (delta 34), pack-reused 37917\u001b[K\n",
      "Receiving objects: 100% (38019/38019), 63.31 MiB | 22.57 MiB/s, done.\n",
      "Resolving deltas: 100% (26187/26187), done.\n"
     ]
    }
   ],
   "source": [
    "!git clone https://github.com/open-mmlab/mmdetection.git"
   ]
  },
  {
   "cell_type": "code",
   "execution_count": 17,
   "id": "a276e190-ba88-4565-b75e-1e4531206f00",
   "metadata": {},
   "outputs": [
    {
     "name": "stdout",
     "output_type": "stream",
     "text": [
      "/home/sogaksa123/AIFFEL_THON/model/mmdetection/mmdetection\n"
     ]
    }
   ],
   "source": [
    "%cd mmdetection"
   ]
  },
  {
   "cell_type": "code",
   "execution_count": 18,
   "id": "af7fc228-b2c9-459a-a657-fec942e09af1",
   "metadata": {
    "scrolled": true
   },
   "outputs": [
    {
     "name": "stdout",
     "output_type": "stream",
     "text": [
      "Using pip 23.3.1 from /home/sogaksa123/anaconda3/envs/sogaksa/lib/python3.10/site-packages/pip (python 3.10)\n",
      "Obtaining file:///home/sogaksa123/AIFFEL_THON/model/mmdetection/mmdetection\n",
      "  Running command python setup.py egg_info\n",
      "  running egg_info\n",
      "  creating /tmp/pip-pip-egg-info-6zs3lpb2/mmdet.egg-info\n",
      "  writing manifest file '/tmp/pip-pip-egg-info-6zs3lpb2/mmdet.egg-info/SOURCES.txt'\n",
      "  warning: no files found matching 'mmdet/VERSION'\n",
      "  warning: no files found matching 'mmdet/.mim/model-index.yml'\n",
      "  warning: no files found matching 'mmdet/.mim/dataset-index.yml'\n",
      "  warning: no files found matching 'mmdet/.mim/demo/*/*'\n",
      "  warning: no files found matching '*.py' under directory 'mmdet/.mim/configs'\n",
      "  warning: no files found matching '*.yml' under directory 'mmdet/.mim/configs'\n",
      "  warning: no files found matching '*.sh' under directory 'mmdet/.mim/tools'\n",
      "  warning: no files found matching '*.py' under directory 'mmdet/.mim/tools'\n",
      "  writing manifest file '/tmp/pip-pip-egg-info-6zs3lpb2/mmdet.egg-info/SOURCES.txt'\n",
      "  Preparing metadata (setup.py) ... \u001b[?25l\u001b[?25hdone\n",
      "Requirement already satisfied: matplotlib in /home/sogaksa123/anaconda3/envs/sogaksa/lib/python3.10/site-packages (from mmdet==3.3.0) (3.8.3)\n",
      "Requirement already satisfied: numpy in /home/sogaksa123/anaconda3/envs/sogaksa/lib/python3.10/site-packages (from mmdet==3.3.0) (1.26.4)\n",
      "Requirement already satisfied: pycocotools in /home/sogaksa123/anaconda3/envs/sogaksa/lib/python3.10/site-packages (from mmdet==3.3.0) (2.0.7)\n",
      "Requirement already satisfied: scipy in /home/sogaksa123/anaconda3/envs/sogaksa/lib/python3.10/site-packages (from mmdet==3.3.0) (1.12.0)\n",
      "Requirement already satisfied: shapely in /home/sogaksa123/anaconda3/envs/sogaksa/lib/python3.10/site-packages (from mmdet==3.3.0) (2.0.3)\n",
      "Requirement already satisfied: six in /home/sogaksa123/anaconda3/envs/sogaksa/lib/python3.10/site-packages (from mmdet==3.3.0) (1.16.0)\n",
      "Requirement already satisfied: terminaltables in /home/sogaksa123/anaconda3/envs/sogaksa/lib/python3.10/site-packages (from mmdet==3.3.0) (3.1.10)\n",
      "Requirement already satisfied: tqdm in /home/sogaksa123/anaconda3/envs/sogaksa/lib/python3.10/site-packages (from mmdet==3.3.0) (4.65.2)\n",
      "Requirement already satisfied: contourpy>=1.0.1 in /home/sogaksa123/anaconda3/envs/sogaksa/lib/python3.10/site-packages (from matplotlib->mmdet==3.3.0) (1.2.0)\n",
      "Requirement already satisfied: cycler>=0.10 in /home/sogaksa123/anaconda3/envs/sogaksa/lib/python3.10/site-packages (from matplotlib->mmdet==3.3.0) (0.12.1)\n",
      "Requirement already satisfied: fonttools>=4.22.0 in /home/sogaksa123/anaconda3/envs/sogaksa/lib/python3.10/site-packages (from matplotlib->mmdet==3.3.0) (4.50.0)\n",
      "Requirement already satisfied: kiwisolver>=1.3.1 in /home/sogaksa123/anaconda3/envs/sogaksa/lib/python3.10/site-packages (from matplotlib->mmdet==3.3.0) (1.4.5)\n",
      "Requirement already satisfied: packaging>=20.0 in /home/sogaksa123/anaconda3/envs/sogaksa/lib/python3.10/site-packages (from matplotlib->mmdet==3.3.0) (24.0)\n",
      "Requirement already satisfied: pillow>=8 in /home/sogaksa123/anaconda3/envs/sogaksa/lib/python3.10/site-packages (from matplotlib->mmdet==3.3.0) (10.2.0)\n",
      "Requirement already satisfied: pyparsing>=2.3.1 in /home/sogaksa123/anaconda3/envs/sogaksa/lib/python3.10/site-packages (from matplotlib->mmdet==3.3.0) (3.1.2)\n",
      "Requirement already satisfied: python-dateutil>=2.7 in /home/sogaksa123/anaconda3/envs/sogaksa/lib/python3.10/site-packages (from matplotlib->mmdet==3.3.0) (2.9.0.post0)\n",
      "Installing collected packages: mmdet\n",
      "  Running setup.py develop for mmdet\n",
      "    Running command python setup.py develop\n",
      "    running develop\n",
      "    /home/sogaksa123/anaconda3/envs/sogaksa/lib/python3.10/site-packages/setuptools/command/easy_install.py:156: EasyInstallDeprecationWarning: easy_install command is deprecated. Use build and pip and other standards-based tools.\n",
      "      warnings.warn(\n",
      "    /home/sogaksa123/anaconda3/envs/sogaksa/lib/python3.10/site-packages/setuptools/command/install.py:34: SetuptoolsDeprecationWarning: setup.py install is deprecated. Use build and pip and other standards-based tools.\n",
      "      warnings.warn(\n",
      "    running egg_info\n",
      "    creating mmdet.egg-info\n",
      "    writing manifest file 'mmdet.egg-info/SOURCES.txt'\n",
      "    warning: no files found matching 'mmdet/VERSION'\n",
      "    warning: no files found matching 'mmdet/.mim/demo/*/*'\n",
      "    writing manifest file 'mmdet.egg-info/SOURCES.txt'\n",
      "    running build_ext\n",
      "Successfully installed mmdet-3.3.0\n",
      "Note: you may need to restart the kernel to use updated packages.\n"
     ]
    }
   ],
   "source": [
    "!pip install -v -e ."
   ]
  },
  {
   "cell_type": "code",
   "execution_count": 1,
   "id": "73e70c14-19b5-49b4-8b57-0c3fc2aa53c0",
   "metadata": {},
   "outputs": [
    {
     "name": "stdout",
     "output_type": "stream",
     "text": [
      "Looking in links: /tmp/tmpxoxo1dhe\n",
      "Requirement already satisfied: setuptools in /home/sogaksa123/anaconda3/envs/sogaksa/lib/python3.10/site-packages (60.2.0)\n",
      "Processing /tmp/tmpxoxo1dhe/setuptools-65.5.0-py3-none-any.whl\n",
      "Requirement already satisfied: pip in /home/sogaksa123/anaconda3/envs/sogaksa/lib/python3.10/site-packages (23.3.1)\n",
      "Installing collected packages: setuptools\n",
      "  Attempting uninstall: setuptools\n",
      "    Found existing installation: setuptools 60.2.0\n",
      "    Uninstalling setuptools-60.2.0:\n",
      "      Successfully uninstalled setuptools-60.2.0\n",
      "\u001b[31mERROR: pip's dependency resolver does not currently take into account all the packages that are installed. This behaviour is the source of the following dependency conflicts.\n",
      "tensorflow 2.16.1 requires protobuf!=4.21.0,!=4.21.1,!=4.21.2,!=4.21.3,!=4.21.4,!=4.21.5,<5.0.0dev,>=3.20.3, but you have protobuf 4.21.2 which is incompatible.\n",
      "openxlab 0.0.37 requires setuptools~=60.2.0, but you have setuptools 65.5.0 which is incompatible.\u001b[0m\u001b[31m\n",
      "\u001b[0mSuccessfully installed setuptools-65.5.0\n"
     ]
    }
   ],
   "source": [
    "!python -m ensurepip --upgrade"
   ]
  }
 ],
 "metadata": {
  "kernelspec": {
   "display_name": "Python 3 (ipykernel)",
   "language": "python",
   "name": "python3"
  },
  "language_info": {
   "codemirror_mode": {
    "name": "ipython",
    "version": 3
   },
   "file_extension": ".py",
   "mimetype": "text/x-python",
   "name": "python",
   "nbconvert_exporter": "python",
   "pygments_lexer": "ipython3",
   "version": "3.10.13"
  }
 },
 "nbformat": 4,
 "nbformat_minor": 5
}
