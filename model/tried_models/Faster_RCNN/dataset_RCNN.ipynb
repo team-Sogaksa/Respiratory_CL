{
 "cells": [
  {
   "cell_type": "code",
   "execution_count": 3,
   "id": "0825a504-4315-41d5-b51f-5cc55530b64e",
   "metadata": {},
   "outputs": [],
   "source": [
    "import shutil\n",
    "import os\n",
    "\n",
    "# XML 파일이 있는 폴더와 이미지 파일이 있는 폴더의 경로 설정\n",
    "xml폴더_경로 = \"/home/sogaksa123/AIFFEL_THON/data/dataset2/data_rec/xml_file/xml_file\"\n",
    "이미지폴더_경로 = \"/home/sogaksa123/AIFFEL_THON/data/dataset2/data_rec/mel_images/mel_images\"\n",
    "새폴더_경로 = \"/home/sogaksa123/AIFFEL_THON/data/dataset_Faster_RCNN/dataset\"\n",
    "\n",
    "# XML 파일을 새로운 폴더로 복사\n",
    "for 파일 in os.listdir(xml폴더_경로):\n",
    "    if 파일 != \".ipynb_checkpoints\":  # \".ipynb_checkpoints\" 폴더 제외\n",
    "        shutil.copy(os.path.join(xml폴더_경로, 파일), 새폴더_경로)\n",
    "\n",
    "# 이미지 파일을 새로운 폴더로 복사\n",
    "for 파일 in os.listdir(이미지폴더_경로):\n",
    "    if 파일 != \".ipynb_checkpoints\":  # \".ipynb_checkpoints\" 폴더 제외\n",
    "        shutil.copy(os.path.join(이미지폴더_경로, 파일), 새폴더_경로)\n"
   ]
  },
  {
   "cell_type": "code",
   "execution_count": null,
   "id": "a50d413d-2b9e-48dd-8b08-12d69c96ee72",
   "metadata": {},
   "outputs": [],
   "source": []
  }
 ],
 "metadata": {
  "kernelspec": {
   "display_name": "Python 3 (ipykernel)",
   "language": "python",
   "name": "python3"
  },
  "language_info": {
   "codemirror_mode": {
    "name": "ipython",
    "version": 3
   },
   "file_extension": ".py",
   "mimetype": "text/x-python",
   "name": "python",
   "nbconvert_exporter": "python",
   "pygments_lexer": "ipython3",
   "version": "3.10.13"
  }
 },
 "nbformat": 4,
 "nbformat_minor": 5
}
