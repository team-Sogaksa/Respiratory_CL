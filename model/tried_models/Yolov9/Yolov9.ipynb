{
 "cells": [
  {
   "cell_type": "code",
   "execution_count": null,
   "metadata": {
    "colab": {
     "base_uri": "https://localhost:8080/"
    },
    "id": "6aIYDdZT2GwD",
    "outputId": "52a49284-a98e-444a-8f7a-1c4cc8efd299"
   },
   "outputs": [
    {
     "name": "stdout",
     "output_type": "stream",
     "text": [
      "Drive already mounted at /content/drive; to attempt to forcibly remount, call drive.mount(\"/content/drive\", force_remount=True).\n"
     ]
    }
   ],
   "source": [
    "from google.colab import drive\n",
    "drive.mount('/content/drive')"
   ]
  },
  {
   "cell_type": "code",
   "execution_count": 6,
   "metadata": {},
   "outputs": [
    {
     "name": "stdout",
     "output_type": "stream",
     "text": [
      "Collecting matplotlib\n",
      "  Downloading matplotlib-3.8.3-cp310-cp310-manylinux_2_17_x86_64.manylinux2014_x86_64.whl.metadata (5.8 kB)\n",
      "Collecting contourpy>=1.0.1 (from matplotlib)\n",
      "  Downloading contourpy-1.2.0-cp310-cp310-manylinux_2_17_x86_64.manylinux2014_x86_64.whl.metadata (5.8 kB)\n",
      "Collecting cycler>=0.10 (from matplotlib)\n",
      "  Downloading cycler-0.12.1-py3-none-any.whl.metadata (3.8 kB)\n",
      "Collecting fonttools>=4.22.0 (from matplotlib)\n",
      "  Downloading fonttools-4.50.0-cp310-cp310-manylinux_2_17_x86_64.manylinux2014_x86_64.whl.metadata (159 kB)\n",
      "\u001b[2K     \u001b[90m━━━━━━━━━━━━━━━━━━━━━━━━━━━━━━━━━━━━━━━\u001b[0m \u001b[32m159.4/159.4 kB\u001b[0m \u001b[31m2.1 MB/s\u001b[0m eta \u001b[36m0:00:00\u001b[0ma \u001b[36m0:00:01\u001b[0m\n",
      "\u001b[?25hCollecting kiwisolver>=1.3.1 (from matplotlib)\n",
      "  Downloading kiwisolver-1.4.5-cp310-cp310-manylinux_2_12_x86_64.manylinux2010_x86_64.whl.metadata (6.4 kB)\n",
      "Requirement already satisfied: numpy<2,>=1.21 in /home/sogaksa123/anaconda3/envs/sogaksa/lib/python3.10/site-packages (from matplotlib) (1.26.4)\n",
      "Requirement already satisfied: packaging>=20.0 in /home/sogaksa123/anaconda3/envs/sogaksa/lib/python3.10/site-packages (from matplotlib) (24.0)\n",
      "Collecting pillow>=8 (from matplotlib)\n",
      "  Downloading pillow-10.2.0-cp310-cp310-manylinux_2_28_x86_64.whl.metadata (9.7 kB)\n",
      "Collecting pyparsing>=2.3.1 (from matplotlib)\n",
      "  Downloading pyparsing-3.1.2-py3-none-any.whl.metadata (5.1 kB)\n",
      "Requirement already satisfied: python-dateutil>=2.7 in /home/sogaksa123/anaconda3/envs/sogaksa/lib/python3.10/site-packages (from matplotlib) (2.9.0.post0)\n",
      "Requirement already satisfied: six>=1.5 in /home/sogaksa123/anaconda3/envs/sogaksa/lib/python3.10/site-packages (from python-dateutil>=2.7->matplotlib) (1.16.0)\n",
      "Downloading matplotlib-3.8.3-cp310-cp310-manylinux_2_17_x86_64.manylinux2014_x86_64.whl (11.6 MB)\n",
      "\u001b[2K   \u001b[90m━━━━━━━━━━━━━━━━━━━━━━━━━━━━━━━━━━━━━━━━\u001b[0m \u001b[32m11.6/11.6 MB\u001b[0m \u001b[31m73.0 MB/s\u001b[0m eta \u001b[36m0:00:00\u001b[0ma \u001b[36m0:00:01\u001b[0m\n",
      "\u001b[?25hDownloading contourpy-1.2.0-cp310-cp310-manylinux_2_17_x86_64.manylinux2014_x86_64.whl (310 kB)\n",
      "\u001b[2K   \u001b[90m━━━━━━━━━━━━━━━━━━━━━━━━━━━━━━━━━━━━━━━━\u001b[0m \u001b[32m310.7/310.7 kB\u001b[0m \u001b[31m48.9 MB/s\u001b[0m eta \u001b[36m0:00:00\u001b[0m\n",
      "\u001b[?25hDownloading cycler-0.12.1-py3-none-any.whl (8.3 kB)\n",
      "Downloading fonttools-4.50.0-cp310-cp310-manylinux_2_17_x86_64.manylinux2014_x86_64.whl (4.6 MB)\n",
      "\u001b[2K   \u001b[90m━━━━━━━━━━━━━━━━━━━━━━━━━━━━━━━━━━━━━━━━\u001b[0m \u001b[32m4.6/4.6 MB\u001b[0m \u001b[31m86.3 MB/s\u001b[0m eta \u001b[36m0:00:00\u001b[0mta \u001b[36m0:00:01\u001b[0m\n",
      "\u001b[?25hDownloading kiwisolver-1.4.5-cp310-cp310-manylinux_2_12_x86_64.manylinux2010_x86_64.whl (1.6 MB)\n",
      "\u001b[2K   \u001b[90m━━━━━━━━━━━━━━━━━━━━━━━━━━━━━━━━━━━━━━━━\u001b[0m \u001b[32m1.6/1.6 MB\u001b[0m \u001b[31m97.5 MB/s\u001b[0m eta \u001b[36m0:00:00\u001b[0m\n",
      "\u001b[?25hDownloading pillow-10.2.0-cp310-cp310-manylinux_2_28_x86_64.whl (4.5 MB)\n",
      "\u001b[2K   \u001b[90m━━━━━━━━━━━━━━━━━━━━━━━━━━━━━━━━━━━━━━━━\u001b[0m \u001b[32m4.5/4.5 MB\u001b[0m \u001b[31m83.2 MB/s\u001b[0m eta \u001b[36m0:00:00\u001b[0mta \u001b[36m0:00:01\u001b[0m\n",
      "\u001b[?25hDownloading pyparsing-3.1.2-py3-none-any.whl (103 kB)\n",
      "\u001b[2K   \u001b[90m━━━━━━━━━━━━━━━━━━━━━━━━━━━━━━━━━━━━━━━━\u001b[0m \u001b[32m103.2/103.2 kB\u001b[0m \u001b[31m21.5 MB/s\u001b[0m eta \u001b[36m0:00:00\u001b[0m\n",
      "\u001b[?25hInstalling collected packages: pyparsing, pillow, kiwisolver, fonttools, cycler, contourpy, matplotlib\n",
      "Successfully installed contourpy-1.2.0 cycler-0.12.1 fonttools-4.50.0 kiwisolver-1.4.5 matplotlib-3.8.3 pillow-10.2.0 pyparsing-3.1.2\n",
      "Note: you may need to restart the kernel to use updated packages.\n"
     ]
    }
   ],
   "source": [
    "pip install matplotlib"
   ]
  },
  {
   "cell_type": "code",
   "execution_count": 7,
   "metadata": {
    "id": "Sz9lL8VA4s-c"
   },
   "outputs": [],
   "source": [
    "import numpy as np\n",
    "import pandas as pd\n",
    "import matplotlib.pyplot as plt\n",
    "\n",
    "import xml.etree.cElementTree as ET\n",
    "import glob\n",
    "import os\n",
    "import json\n",
    "import random\n",
    "import shutil\n",
    "\n",
    "from PIL import Image, ImageOps"
   ]
  },
  {
   "cell_type": "markdown",
   "metadata": {
    "id": "wav4XaYc6Q-d"
   },
   "source": [
    "### Review Data"
   ]
  },
  {
   "cell_type": "code",
   "execution_count": null,
   "metadata": {
    "colab": {
     "base_uri": "https://localhost:8080/"
    },
    "id": "uhJcOWzz6gjn",
    "outputId": "706158ea-a2b5-4f4b-f865-25d08c2ffb8a"
   },
   "outputs": [
    {
     "name": "stdout",
     "output_type": "stream",
     "text": [
      "<?xml version=\"1.0\" ?>\n",
      "<annotation>\n",
      "\t\n",
      "    \n",
      "\t<folder>crack</folder>\n",
      "\t\n",
      "    \n",
      "\t<filename>195_1b1_Lr_sc_Litt3200_3.png</filename>\n",
      "\t\n",
      "    \n",
      "\t<path>/content/drive/MyDrive/project/crack/195_1b1_Lr_sc_Litt3200_3.png</path>\n",
      "\t\n",
      "    \n",
      "\t<source>\n",
      "\t\t\n",
      "        \n",
      "\t\t<database>Unknown</database>\n",
      "\t\t\n",
      "    \n",
      "\t</source>\n",
      "\t\n",
      "    \n",
      "\t<size>\n",
      "\t\t\n",
      "        \n",
      "\t\t<width>224</width>\n",
      "\t\t\n",
      "        \n",
      "\t\t<height>224</height>\n",
      "\t\t\n",
      "        \n",
      "\t\t<depth>3</depth>\n",
      "\t\t\n",
      "    \n",
      "\t</size>\n",
      "\t\n",
      "    \n",
      "\t<segmented>0</segmented>\n",
      "\t\n",
      "    \n",
      "\t<object>\n",
      "\t\t\n",
      "        \n",
      "\t\t<name>crackles</name>\n",
      "\t\t\n",
      "        \n",
      "\t\t<pose>Unspecified</pose>\n",
      "\t\t\n",
      "        \n",
      "\t\t<truncated>0</truncated>\n",
      "\t\t\n",
      "        \n",
      "\t\t<difficult>0</difficult>\n",
      "\t\t\n",
      "        \n",
      "\t\t<bndbox>\n",
      "\t\t\t\n",
      "            \n",
      "\t\t\t<xmin>74</xmin>\n",
      "\t\t\t\n",
      "            \n",
      "\t\t\t<ymin>205</ymin>\n",
      "\t\t\t\n",
      "            \n",
      "\t\t\t<xmax>149</xmax>\n",
      "\t\t\t\n",
      "            \n",
      "\t\t\t<ymax>215</ymax>\n",
      "\t\t\t\n",
      "        \n",
      "\t\t</bndbox>\n",
      "\t\t\n",
      "    \n",
      "\t</object>\n",
      "\t\n",
      "\n",
      "\t<object>\n",
      "\t\t<name>wheezes</name>\n",
      "\t\t<bndbox>\n",
      "\t\t\t<xmin>74</xmin>\n",
      "\t\t\t<ymin>115</ymin>\n",
      "\t\t\t<xmax>149</xmax>\n",
      "\t\t\t<ymax>206</ymax>\n",
      "\t\t</bndbox>\n",
      "\t</object>\n",
      "</annotation>\n",
      "\n"
     ]
    }
   ],
   "source": [
    "# This is a label from the annotation folder. This label is .xml format.\n",
    "with open(\"/content/drive/MyDrive/project/xml/all_xml/195_1b1_Lr_sc_Litt3200_3.xml\") as f:\n",
    "    contents = f.read()\n",
    "    print(contents)"
   ]
  },
  {
   "cell_type": "markdown",
   "metadata": {
    "id": "DUWQVIo-7GI1"
   },
   "source": [
    "### Preparing Data For Model(YoloV9)"
   ]
  },
  {
   "cell_type": "markdown",
   "metadata": {
    "id": "mZFPG1ZFDPsk"
   },
   "source": [
    "#### Translate '.xml\" format to \".txt\" format"
   ]
  },
  {
   "cell_type": "code",
   "execution_count": null,
   "metadata": {
    "id": "D0Q70KlJ7M1_"
   },
   "outputs": [],
   "source": [
    "# The functions are about translating label data.\n",
    "def xml_to_yolo_bbox(bbox, w, h):\n",
    "    x_center = ((bbox[2] + bbox[0]) / 2) / w\n",
    "    y_center = ((bbox[3] + bbox[1]) / 2 ) / h\n",
    "\n",
    "    width = (bbox[2] - bbox[0]) / w\n",
    "    height = (bbox[3] - bbox[1]) / h\n",
    "\n",
    "    return [x_center, y_center, width, height]\n",
    "\n",
    "def yolo_to_xml_bbox(bbox, w, h):\n",
    "    # x_center, y_center, width, height\n",
    "    w_half_len = (bbox[2] + w) / 2\n",
    "    h_half_len = (bbox[3] + h) / 2\n",
    "\n",
    "    xmin = int((bbox[0] + w) - w_half_len)\n",
    "    ymin = int((bbox[1] + h) - h_half_len)\n",
    "    xmax = int((bbox[0] + w) + w_half_len)\n",
    "    ymax = int((bbox[1] + h) + h_half_len)\n",
    "\n",
    "    return [xmin, ymin, xmax, ymax]"
   ]
  },
  {
   "cell_type": "code",
   "execution_count": null,
   "metadata": {
    "id": "tt8EUlCdDZvB"
   },
   "outputs": [],
   "source": [
    "# Create .txt label data.\n",
    "classes = []\n",
    "\n",
    "input_dir = \"/content/drive/MyDrive/project/xml/all_xml\"\n",
    "output_dir = \"/content/drive/MyDrive/project/model/YoloV9/labels\"\n",
    "image_dir = \"/content/drive/MyDrive/project/original\"\n",
    "\n",
    "if not os.path.exists(output_dir):\n",
    "    os.mkdir(output_dir)\n",
    "\n",
    "files = glob.glob(os.path.join(input_dir, \"*.xml\"))\n",
    "for fil in files:\n",
    "    basename = os.path.basename(fil)\n",
    "    filename = os.path.splitext(basename)[0]\n",
    "    if not os.path.exists(os.path.join(image_dir, f\"{filename}.png\")):\n",
    "        print(f\"{filename} image does not exist\")\n",
    "        continue\n",
    "\n",
    "    result = []\n",
    "\n",
    "    tree = ET.parse(fil)\n",
    "    root = tree.getroot()\n",
    "    width = int(root.find(\"size\").find(\"width\").text)\n",
    "    height = int(root.find(\"size\").find(\"height\").text)\n",
    "\n",
    "    for obj in root.findall(\"object\"):\n",
    "        label = obj.find(\"name\").text\n",
    "\n",
    "        if label not in classes:\n",
    "            classes.append(label)\n",
    "\n",
    "        index = classes.index(label)\n",
    "        pil_bbox = [int(x.text) for x in obj.find(\"bndbox\")]\n",
    "        yolo_bbox = xml_to_yolo_bbox(pil_bbox, width, height)\n",
    "\n",
    "        bbox_string = \" \".join([str(x) for x in yolo_bbox])\n",
    "        result.append(f\"{index} {bbox_string}\")\n",
    "\n",
    "    if result:\n",
    "\n",
    "        with open(os.path.join(output_dir, f\"{filename}.txt\"), \"w\", encoding = \"utf-8\") as f:\n",
    "            f.write(\"\\n\".join(result))\n",
    "\n",
    "with open(f\"{output_dir}/classes.txt\", \"w\", encoding = \"utf-8\") as f:\n",
    "    f.write(json.dumps(classes))"
   ]
  },
  {
   "cell_type": "code",
   "execution_count": null,
   "metadata": {
    "colab": {
     "base_uri": "https://localhost:8080/"
    },
    "id": "T0I0G842DbrM",
    "outputId": "97a35a3d-e8f6-4da9-ccd2-845193852af7"
   },
   "outputs": [
    {
     "name": "stdout",
     "output_type": "stream",
     "text": [
      "[\"crackles\", \"wheezes\"]\n"
     ]
    }
   ],
   "source": [
    "# Labels\n",
    "with open(f\"{output_dir}/classes.txt\") as f:\n",
    "    contents = f.read()\n",
    "    print(contents)"
   ]
  },
  {
   "cell_type": "code",
   "execution_count": null,
   "metadata": {
    "id": "_SCtcYklDcTo"
   },
   "outputs": [],
   "source": [
    "# .xml format\n",
    "with open(\"/kaggle/input/face-mask-detection/annotations/maksssksksss334.xml\") as f:\n",
    "    contents = f.read()\n",
    "    print(contents)"
   ]
  },
  {
   "cell_type": "code",
   "execution_count": null,
   "metadata": {
    "id": "PbYMTv4PDeqv"
   },
   "outputs": [],
   "source": [
    "# .txt format\n",
    "with open(\"/kaggle/working/labels/maksssksksss334.txt\") as f:\n",
    "    contents = f.read()\n",
    "    print(contents)"
   ]
  },
  {
   "cell_type": "code",
   "execution_count": null,
   "metadata": {
    "colab": {
     "base_uri": "https://localhost:8080/"
    },
    "id": "glcwKvIGDhWy",
    "outputId": "7b5513ab-4aa5-4dcd-a81a-3ca64f4e3219"
   },
   "outputs": [
    {
     "name": "stdout",
     "output_type": "stream",
     "text": [
      "Annotation Counts: 3246\n",
      "Lables Counts: 3247\n"
     ]
    }
   ],
   "source": [
    "annotation_count = len(os.listdir(\"/content/drive/MyDrive/project/xml/all_xml\"))\n",
    "labels_count = len(os.listdir(\"/content/drive/MyDrive/project/model/YoloV9/labels\"))\n",
    "print(f\"Annotation Counts: {annotation_count}\")\n",
    "print(f\"Lables Counts: {labels_count}\")"
   ]
  },
  {
   "cell_type": "code",
   "execution_count": null,
   "metadata": {
    "id": "NM2RCkzUWnaY"
   },
   "outputs": [],
   "source": [
    "annotation_list = os.listdir(\"/content/drive/MyDrive/project/xml/all_xml\")\n",
    "labels_list = os.listdir(\"/content/drive/MyDrive/project/model/YoloV9/labels\")"
   ]
  },
  {
   "cell_type": "code",
   "execution_count": null,
   "metadata": {
    "colab": {
     "base_uri": "https://localhost:8080/"
    },
    "id": "2hd9cvwcW8Rb",
    "outputId": "7cea170b-e548-40b2-e39c-2caec830c290"
   },
   "outputs": [
    {
     "name": "stdout",
     "output_type": "stream",
     "text": [
      "확장자를 제외한 파일명 리스트: ['130_1p2_Ll_mc_AKGC417L_6', '186_2b4_Pr_mc_AKGC417L_4', '186_3b3_Ar_mc_AKGC417L_2', '186_2b4_Pl_mc_AKGC417L_3', '186_2b4_Pr_mc_AKGC417L_0', '186_2b4_Pr_mc_AKGC417L_3', '186_2b4_Al_mc_AKGC417L_2', '186_3b3_Ar_mc_AKGC417L_4', '186_2b4_Al_mc_AKGC417L_3', '186_2b4_Pr_mc_AKGC417L_2', '186_2b4_Pr_mc_AKGC417L_1', '186_2b4_Pl_mc_AKGC417L_4', '186_2b4_Al_mc_AKGC417L_4', '186_2b4_Al_mc_AKGC417L_0', '186_2b4_Pl_mc_AKGC417L_2', '186_2b4_Pl_mc_AKGC417L_0', '205_4b2_Al_mc_AKGC417L_2', '207_2b4_Al_mc_AKGC417L_0', '205_4b2_Pr_mc_AKGC417L_4', '207_2b2_Pl_mc_AKGC417L_1', '205_4b2_Pr_mc_AKGC417L_3', '205_4b2_Lr_mc_AKGC417L_0', '205_4b2_Al_mc_AKGC417L_3', '207_2b3_Al_mc_AKGC417L_1', '205_4b2_Pr_mc_AKGC417L_1', '207_2b4_Al_mc_AKGC417L_1', '207_2b3_Al_mc_AKGC417L_2', '205_4b2_Al_mc_AKGC417L_0', '205_4b2_Al_mc_AKGC417L_1', '207_2b2_Pl_mc_AKGC417L_3', '205_4b2_Al_mc_AKGC417L_4', '198_6p1_Ar_mc_AKGC417L_5', '198_6p1_Ar_mc_AKGC417L_0', '198_6p1_Lr_mc_AKGC417L_0', '198_6p1_Pr_mc_AKGC417L_0', '198_6p1_Pr_mc_AKGC417L_4', '197_1b1_Tc_sc_Meditron_1', '198_6p1_Ar_mc_AKGC417L_1', '198_6p1_Pr_mc_AKGC417L_1', '198_6p1_Ar_mc_AKGC417L_2', '198_6p1_Ar_mc_AKGC417L_3', '198_6p1_Lr_mc_AKGC417L_2', '198_6p1_Lr_mc_AKGC417L_1', '198_6p1_Pr_mc_AKGC417L_2', '198_6p1_Pr_mc_AKGC417L_5', '198_6p1_Ar_mc_AKGC417L_4', '213_1p2_Pl_mc_AKGC417L_5', '213_1p5_Pl_mc_AKGC417L_1', '216_1b1_Al_sc_Meditron_0', '213_2p2_Ar_mc_AKGC417L_0', '213_2p2_Pl_mc_AKGC417L_0', '213_2p2_Pl_mc_AKGC417L_6', '213_2p2_Pl_mc_AKGC417L_4', '213_2p2_Pl_mc_AKGC417L_2', '213_1p5_Pr_mc_AKGC417L_1', '216_1b1_Al_sc_Meditron_2', '213_1p2_Pl_mc_AKGC417L_4', '213_1p5_Pr_mc_AKGC417L_5', '213_2p2_Pr_mc_AKGC417L_6', '213_2p2_Pl_mc_AKGC417L_1', '213_2p2_Pr_mc_AKGC417L_5', '203_1p2_Al_mc_AKGC417L_0', '203_1p2_Al_mc_AKGC417L_4', '200_3p4_Tc_mc_AKGC417L_0', '200_2p4_Pl_mc_AKGC417L_3', '203_1p2_Al_mc_AKGC417L_7', '200_2p3_Tc_mc_AKGC417L_2', '203_1p2_Al_mc_AKGC417L_6', '203_1p2_Al_mc_AKGC417L_3', '200_2p4_Pr_mc_AKGC417L_0', '200_2p2_Tc_mc_AKGC417L_3', '200_2p3_Pl_mc_AKGC417L_0', '203_1p2_Al_mc_AKGC417L_1', '203_1p2_Al_mc_AKGC417L_2', '201_1b1_Al_sc_Meditron_1', '200_2p3_Tc_mc_AKGC417L_0', '176_1b4_Pr_mc_AKGC417L_0', '176_1b4_Al_mc_AKGC417L_4', '176_1b4_Ll_mc_AKGC417L_0', '176_1b4_Pr_mc_AKGC417L_5', '176_1b4_Al_mc_AKGC417L_5', '176_1b4_Pr_mc_AKGC417L_4', '176_1b4_Ll_mc_AKGC417L_3', '176_1b4_Pr_mc_AKGC417L_3', '176_1b4_Ll_mc_AKGC417L_1', '176_1b4_Pr_mc_AKGC417L_1', '176_1b4_Ll_mc_AKGC417L_2', '176_1b4_Pr_mc_AKGC417L_2', '176_1b4_Ll_mc_AKGC417L_5', '176_1b4_Tc_mc_AKGC417L_0', '176_1b4_Ll_mc_AKGC417L_4', '177_2b4_Pl_mc_AKGC417L_4', '177_2b4_Pr_mc_AKGC417L_4', '178_1b2_Ar_mc_AKGC417L_8', '178_1b2_Pl_mc_AKGC417L_3', '177_2b4_Pl_mc_AKGC417L_0', '177_2b4_Pl_mc_AKGC417L_3', '177_2b4_Pl_mc_AKGC417L_2', '177_2b4_Pl_mc_AKGC417L_1', '177_2b4_Pr_mc_AKGC417L_3', '177_2b4_Pr_mc_AKGC417L_2', '178_1b2_Pl_mc_AKGC417L_4', '178_1b2_Pl_mc_AKGC417L_1', '178_1b2_Pl_mc_AKGC417L_0', '178_1b2_Pl_mc_AKGC417L_2', '178_1b2_Ar_mc_AKGC417L_11', '156_5b3_Ll_mc_AKGC417L_3', '156_5b3_Ll_mc_AKGC417L_8', '156_2b3_Pr_mc_AKGC417L_3', '156_2b3_Ar_mc_AKGC417L_5', '156_5b3_Lr_mc_AKGC417L_0', '156_2b3_Pl_mc_AKGC417L_2', '156_2b3_Pr_mc_AKGC417L_1', '156_2b3_Pr_mc_AKGC417L_0', '156_2b3_Pr_mc_AKGC417L_2', '156_5b3_Ll_mc_AKGC417L_2', '156_5b3_Ll_mc_AKGC417L_7', '156_5b3_Ll_mc_AKGC417L_5', '156_5b3_Ll_mc_AKGC417L_6', '156_2b3_Ar_mc_AKGC417L_4', '156_5b3_Ll_mc_AKGC417L_4', '139_1b1_Pr_sc_Litt3200_2', '139_1b1_Pr_sc_Litt3200_3', '139_1b1_Pr_sc_Litt3200_4', '139_1b1_Pr_sc_Litt3200_5', '140_2b3_Tc_mc_LittC2SE_1', '140_2b3_Tc_mc_LittC2SE_2', '140_2b3_Tc_mc_LittC2SE_3', '140_2b3_Tc_mc_LittC2SE_4', '140_2b3_Tc_mc_LittC2SE_7', '140_2b3_Tc_mc_LittC2SE_8', '140_2b3_Ll_mc_LittC2SE_1', '140_2b3_Ll_mc_LittC2SE_2', '140_2b3_Ll_mc_LittC2SE_3', '141_1b2_Lr_mc_LittC2SE_1', '141_1b2_Lr_mc_LittC2SE_2', '141_1b2_Lr_mc_LittC2SE_3', '141_1b2_Lr_mc_LittC2SE_4', '141_1b2_Ar_mc_LittC2SE_2', '141_1b2_Ar_mc_LittC2SE_4', '141_1b1_Pr_mc_LittC2SE_1', '141_1b1_Pr_mc_LittC2SE_2', '141_1b1_Pr_mc_LittC2SE_4', '141_1b2_Pr_mc_LittC2SE_3', '141_1b2_Pr_mc_LittC2SE_5', '141_1b3_Ar_mc_LittC2SE_1', '141_1b3_Ar_mc_LittC2SE_3', '141_1b3_Ar_mc_LittC2SE_4', '141_1b3_Al_mc_LittC2SE_1', '141_1b3_Al_mc_LittC2SE_2', '141_1b3_Al_mc_LittC2SE_3', '141_1b3_Al_mc_LittC2SE_4', '146_8p3_Lr_mc_AKGC417L_1', '146_8p3_Lr_mc_AKGC417L_2', '146_8p3_Lr_mc_AKGC417L_3', '146_8p3_Lr_mc_AKGC417L_4', '146_8p3_Lr_mc_AKGC417L_5', '146_8p3_Lr_mc_AKGC417L_6', '146_8p3_Lr_mc_AKGC417L_7', '146_8p3_Lr_mc_AKGC417L_8', '147_1b2_Tc_mc_AKGC417L_7', '147_1b2_Tc_mc_AKGC417L_8', '147_1b2_Tc_mc_AKGC417L_9', '147_1b2_Tc_mc_AKGC417L_10', '147_2b2_Al_mc_AKGC417L_0', '147_2b2_Al_mc_AKGC417L_1', '147_2b2_Al_mc_AKGC417L_2', '147_2b3_Al_mc_AKGC417L_1', '147_2b3_Al_mc_AKGC417L_3', '147_2b2_Pl_mc_AKGC417L_1', '147_2b2_Pl_mc_AKGC417L_2', '147_2b2_Pl_mc_AKGC417L_3', '147_2b2_Ar_mc_AKGC417L_0', '147_2b2_Ar_mc_AKGC417L_1', '147_2b2_Ar_mc_AKGC417L_2', '147_1b4_Tc_mc_AKGC417L_0', '147_1b4_Tc_mc_AKGC417L_1', '147_1b4_Tc_mc_AKGC417L_3', '147_1b4_Tc_mc_AKGC417L_4', '147_1b4_Tc_mc_AKGC417L_5', '147_1b4_Tc_mc_AKGC417L_6', '147_1b4_Tc_mc_AKGC417L_7', '147_1b4_Tc_mc_AKGC417L_8', '147_1b4_Tc_mc_AKGC417L_10', '147_1b4_Tc_mc_AKGC417L_13', '147_2b3_Ar_mc_AKGC417L_1', '147_2b3_Pl_mc_AKGC417L_0', '147_2b3_Pl_mc_AKGC417L_1', '147_2b3_Pl_mc_AKGC417L_2', '147_2b3_Pl_mc_AKGC417L_3', '147_2b4_Pl_mc_AKGC417L_0', '149_1b1_Al_sc_Meditron_2', '149_1b1_Al_sc_Meditron_3', '149_1b1_Al_sc_Meditron_5', '149_1b1_Al_sc_Meditron_8', '149_1b1_Al_sc_Meditron_9', '149_1b1_Al_sc_Meditron_10', '149_1b1_Al_sc_Meditron_11', '149_1b1_Al_sc_Meditron_12', '149_1b1_Al_sc_Meditron_13', '149_1b1_Al_sc_Meditron_14', '149_1b1_Al_sc_Meditron_15', '149_1b1_Al_sc_Meditron_17', '149_1b1_Pl_sc_Meditron_0', '149_1b1_Pl_sc_Meditron_4', '149_1b1_Pl_sc_Meditron_5', '149_1b1_Pl_sc_Meditron_6', '149_1b1_Pl_sc_Meditron_7', '149_1b1_Pl_sc_Meditron_10', '151_2p2_Lr_mc_AKGC417L_0', '151_2p2_Al_mc_AKGC417L_1', '151_2p2_Al_mc_AKGC417L_5', '151_2p2_Ll_mc_AKGC417L_0', '151_2p2_Pr_mc_AKGC417L_0', '151_2p3_Al_mc_AKGC417L_3', '151_2p2_Pl_mc_AKGC417L_0', '151_2p2_Pl_mc_AKGC417L_1', '151_2p2_Pl_mc_AKGC417L_2', '151_2p2_Pl_mc_AKGC417L_5', '151_2p2_Tc_mc_AKGC417L_1', '151_2p2_Tc_mc_AKGC417L_5', '151_2p3_Pl_mc_AKGC417L_0', '151_2p3_Pl_mc_AKGC417L_1', '151_2p3_Pl_mc_AKGC417L_2', '151_2p3_Pl_mc_AKGC417L_3', '151_2p3_Pl_mc_AKGC417L_5', '151_2p3_Ll_mc_AKGC417L_0', '151_2p3_Ll_mc_AKGC417L_1', '151_2p3_Ll_mc_AKGC417L_2', '151_2p3_Ll_mc_AKGC417L_3', '151_2p3_Ar_mc_AKGC417L_0', '151_2p3_Ar_mc_AKGC417L_2', '151_2p4_Al_mc_AKGC417L_4', '151_2p3_Tc_mc_AKGC417L_3', '151_2p3_Tc_mc_AKGC417L_5', '151_2p4_Ar_mc_AKGC417L_1', '151_2p4_Ar_mc_AKGC417L_2', '151_2p4_Ll_mc_AKGC417L_4', '151_2p4_Lr_mc_AKGC417L_1', '151_2p4_Pl_mc_AKGC417L_4', '151_2p4_Tc_mc_AKGC417L_1', '151_2p4_Tc_mc_AKGC417L_2', '151_2p4_Tc_mc_AKGC417L_4', '151_2p4_Pr_mc_AKGC417L_1', '151_3p2_Tc_mc_AKGC417L_1', '151_3p2_Lr_mc_AKGC417L_0', '151_3p2_Lr_mc_AKGC417L_4', '150_1b2_Al_sc_Meditron_14', '156_2b3_Ar_mc_AKGC417L_0', '156_5b3_Ar_mc_AKGC417L_0', '156_5b3_Ar_mc_AKGC417L_3', '156_5b3_Al_mc_AKGC417L_0', '156_8b3_Ar_mc_AKGC417L_1', '156_8b3_Ar_mc_AKGC417L_2', '156_8b3_Ar_mc_AKGC417L_3', '156_8b3_Ar_mc_AKGC417L_4', '156_8b3_Ar_mc_AKGC417L_6', '156_8b3_Ar_mc_AKGC417L_7', '156_8b3_Al_mc_AKGC417L_5', '156_8b3_Al_mc_AKGC417L_6', '156_8b3_Al_mc_AKGC417L_7', '156_8b3_Lr_mc_AKGC417L_7', '156_8b3_Pl_mc_AKGC417L_1', '158_1p2_Lr_mc_AKGC417L_7', '158_1p2_Pl_mc_AKGC417L_4', '158_1p2_Pl_mc_AKGC417L_5', '158_1p2_Pr_mc_AKGC417L_7', '158_1p3_Ll_mc_AKGC417L_0', '158_1p3_Ll_mc_AKGC417L_1', '158_1p3_Ll_mc_AKGC417L_2', '158_1p3_Ll_mc_AKGC417L_4', '158_1p3_Ll_mc_AKGC417L_7', '158_1p3_Ar_mc_AKGC417L_1', '158_1p3_Ar_mc_AKGC417L_2', '158_1p3_Ar_mc_AKGC417L_6', '158_1p3_Ar_mc_AKGC417L_7', '158_1p3_Al_mc_AKGC417L_0', '158_1p3_Al_mc_AKGC417L_6', '158_1p3_Al_mc_AKGC417L_7', '158_1p3_Lr_mc_AKGC417L_1', '158_1p3_Lr_mc_AKGC417L_2', '158_1p3_Lr_mc_AKGC417L_3', '158_1p3_Lr_mc_AKGC417L_7', '158_1p3_Lr_mc_AKGC417L_8', '158_1p3_Pr_mc_AKGC417L_0', '158_1p3_Pr_mc_AKGC417L_1', '158_1p3_Pr_mc_AKGC417L_2', '158_1p3_Pr_mc_AKGC417L_4', '158_1p3_Pr_mc_AKGC417L_6', '158_1p3_Pr_mc_AKGC417L_8', '158_1p3_Tc_mc_AKGC417L_0', '158_1p3_Tc_mc_AKGC417L_1', '158_1p3_Tc_mc_AKGC417L_2', '158_1p3_Tc_mc_AKGC417L_4', '158_1p3_Tc_mc_AKGC417L_5', '158_1p3_Tc_mc_AKGC417L_6', '158_1p3_Tc_mc_AKGC417L_7', '158_1p3_Pl_mc_AKGC417L_0', '158_1p3_Pl_mc_AKGC417L_1', '158_1p3_Pl_mc_AKGC417L_2', '158_1p3_Pl_mc_AKGC417L_3', '158_1p3_Pl_mc_AKGC417L_7', '158_1p4_Pl_mc_AKGC417L_0', '158_1p4_Lr_mc_AKGC417L_3', '158_1p4_Lr_mc_AKGC417L_4', '158_1p4_Lr_mc_AKGC417L_5', '158_1p4_Lr_mc_AKGC417L_6', '158_1p4_Pr_mc_AKGC417L_0', '158_1p4_Pr_mc_AKGC417L_6', '158_2p2_Ar_mc_AKGC417L_2', '158_2p3_Tc_mc_AKGC417L_0', '158_2p3_Tc_mc_AKGC417L_2', '158_2p3_Tc_mc_AKGC417L_3', '158_2p3_Tc_mc_AKGC417L_4', '158_2p3_Tc_mc_AKGC417L_6', '158_2p3_Tc_mc_AKGC417L_7', '158_2p3_Tc_mc_AKGC417L_8', '158_2p3_Tc_mc_AKGC417L_9', '158_2p3_Tc_mc_AKGC417L_10', '158_2p3_Tc_mc_AKGC417L_11', '159_1b1_Al_sc_Meditron_2', '160_1b3_Ar_mc_AKGC417L_0', '160_1b3_Ar_mc_AKGC417L_1', '160_1b3_Ar_mc_AKGC417L_2', '160_1b3_Ar_mc_AKGC417L_3', '160_1b3_Pl_mc_AKGC417L_0', '160_1b3_Pl_mc_AKGC417L_3', '160_1b3_Tc_mc_AKGC417L_1', '160_1b3_Tc_mc_AKGC417L_2', '160_1b3_Tc_mc_AKGC417L_3', '160_1b4_Ar_mc_AKGC417L_0', '160_1b4_Ar_mc_AKGC417L_1', '160_1b4_Pl_mc_AKGC417L_0', '160_1b4_Pl_mc_AKGC417L_2', '160_1b4_Pl_mc_AKGC417L_3', '160_1b4_Lr_mc_AKGC417L_0', '160_1b4_Lr_mc_AKGC417L_1', '160_1b4_Lr_mc_AKGC417L_2', '160_1b4_Lr_mc_AKGC417L_3', '160_1b4_Tc_mc_AKGC417L_0', '160_1b4_Tc_mc_AKGC417L_1', '160_1b4_Tc_mc_AKGC417L_2', '160_1b4_Tc_mc_AKGC417L_3', '160_1b2_Ar_mc_AKGC417L_0', '160_1b2_Ar_mc_AKGC417L_1', '160_1b2_Lr_mc_AKGC417L_1', '160_1b2_Pr_mc_AKGC417L_1', '160_1b2_Pl_mc_AKGC417L_0', '160_1b2_Pl_mc_AKGC417L_1', '160_1b2_Tc_mc_AKGC417L_1', '160_1b3_Al_mc_AKGC417L_0', '160_1b3_Al_mc_AKGC417L_2', '160_1b3_Al_mc_AKGC417L_3', '160_1b3_Lr_mc_AKGC417L_0', '160_1b3_Lr_mc_AKGC417L_1', '160_1b3_Lr_mc_AKGC417L_2', '160_1b3_Lr_mc_AKGC417L_3', '161_1b1_Pl_sc_Meditron_3', '161_1b1_Pl_sc_Meditron_4', '161_1b1_Pl_sc_Meditron_5', '161_1b1_Pl_sc_Meditron_6', '161_1b1_Pl_sc_Meditron_7', '161_1b1_Pl_sc_Meditron_8', '161_1b1_Pl_sc_Meditron_9', '161_1b1_Al_sc_Meditron_2', '161_1b1_Al_sc_Meditron_3', '162_2b4_Pr_mc_AKGC417L_0', '164_1b1_Ll_sc_Meditron_0', '164_1b1_Ll_sc_Meditron_1', '164_1b1_Ll_sc_Meditron_5', '166_1p1_Pr_sc_Meditron_3', '166_1p1_Pr_sc_Meditron_4', '166_1p1_Pr_sc_Meditron_15', '165_1b1_Pr_sc_Meditron_5', '167_1b1_Pr_sc_Meditron_1', '167_1b1_Pr_sc_Meditron_2', '167_1b1_Pr_sc_Meditron_4', '167_1b1_Pr_sc_Meditron_5', '167_1b1_Pr_sc_Meditron_6', '167_1b1_Pr_sc_Meditron_9', '167_1b1_Pr_sc_Meditron_10', '167_1b1_Pr_sc_Meditron_14', '170_1b4_Ar_mc_AKGC417L_4', '170_2b2_Tc_mc_AKGC417L_5', '172_1b4_Al_mc_AKGC417L_1', '172_1b4_Al_mc_AKGC417L_2', '172_1b4_Al_mc_AKGC417L_3', '172_1b4_Ar_mc_AKGC417L_2', '172_1b4_Ar_mc_AKGC417L_3', '172_1b4_Ar_mc_AKGC417L_4', '172_1b4_Lr_mc_AKGC417L_1', '172_1b4_Lr_mc_AKGC417L_2', '172_1b4_Lr_mc_AKGC417L_3', '172_1b4_Lr_mc_AKGC417L_4', '172_1b4_Pl_mc_AKGC417L_1', '172_1b4_Pl_mc_AKGC417L_2', '172_1b4_Pl_mc_AKGC417L_3', '172_1b4_Pr_mc_AKGC417L_1', '172_1b4_Pr_mc_AKGC417L_2', '172_1b4_Pr_mc_AKGC417L_3', '172_1b4_Ll_mc_AKGC417L_3', '172_1b5_Ar_mc_AKGC417L_1', '172_1b5_Ll_mc_AKGC417L_1', '172_1b5_Lr_mc_AKGC417L_1', '172_1b5_Al_mc_AKGC417L_1', '172_1b4_Tc_mc_AKGC417L_2', '172_2b5_Ar_mc_AKGC417L_4', '172_2b5_Ar_mc_AKGC417L_5', '172_1b5_Pr_mc_AKGC417L_1', '172_1b5_Pr_mc_AKGC417L_4', '172_1b5_Pl_mc_AKGC417L_1', '172_2b5_Tc_mc_AKGC417L_5', '172_2b5_Lr_mc_AKGC417L_4', '172_2b5_Pl_mc_AKGC417L_5', '174_1p2_Pl_mc_AKGC417L_0', '174_1p2_Ll_mc_AKGC417L_0', '174_1p2_Ar_mc_AKGC417L_0', '174_1p2_Lr_mc_AKGC417L_0', '174_1p2_Pr_mc_AKGC417L_0', '175_1b1_Ar_sc_Litt3200_1', '175_1b1_Ar_sc_Litt3200_2', '175_1b1_Ll_sc_Litt3200_0', '175_1b1_Ll_sc_Litt3200_2', '175_1b1_Lr_sc_Litt3200_2', '175_1b1_Al_sc_Litt3200_0', '175_1b1_Pl_sc_Litt3200_0', '175_1b1_Pl_sc_Litt3200_1', '175_1b1_Pl_sc_Litt3200_2', '175_1b1_Pr_sc_Litt3200_1', '175_1b1_Pr_sc_Litt3200_2', '175_1b1_Pr_sc_Litt3200_3', '177_1b2_Pr_mc_AKGC417L_1', '177_1b2_Pr_mc_AKGC417L_2', '177_1b2_Pr_mc_AKGC417L_3', '177_1b4_Pr_mc_AKGC417L_0', '177_1b4_Pr_mc_AKGC417L_1', '177_1b4_Pr_mc_AKGC417L_3', '178_1b2_Ar_mc_AKGC417L_1', '178_1b2_Ar_mc_AKGC417L_2', '178_1b2_Ar_mc_AKGC417L_4', '178_1b2_Ar_mc_AKGC417L_5', '178_1b2_Ar_mc_AKGC417L_7', '178_1b2_Al_mc_AKGC417L_1', '178_1b2_Al_mc_AKGC417L_2', '178_1b2_Al_mc_AKGC417L_3', '178_1b2_Al_mc_AKGC417L_4', '178_1b2_Al_mc_AKGC417L_7', '178_1b2_Al_mc_AKGC417L_8', '178_1b2_Lr_mc_AKGC417L_0', '178_1b2_Lr_mc_AKGC417L_3', '178_1b2_Lr_mc_AKGC417L_4', '178_1b3_Al_mc_AKGC417L_2', '178_1b2_Tc_mc_AKGC417L_1', '178_1b2_Tc_mc_AKGC417L_2', '178_1b2_Tc_mc_AKGC417L_3', '178_1b2_Tc_mc_AKGC417L_7', '178_1b2_Tc_mc_AKGC417L_8', '178_1b2_Pr_mc_AKGC417L_1', '178_1b2_Pr_mc_AKGC417L_3', '178_1b2_Pr_mc_AKGC417L_4', '178_1b2_Pr_mc_AKGC417L_5', '178_1b2_Pr_mc_AKGC417L_7', '178_1b6_Ll_mc_AKGC417L_0', '178_1b6_Ll_mc_AKGC417L_1', '178_1b6_Ll_mc_AKGC417L_2', '178_1b6_Ll_mc_AKGC417L_3', '178_1b6_Ll_mc_AKGC417L_4', '178_1b6_Ll_mc_AKGC417L_5', '178_1b6_Ll_mc_AKGC417L_6', '178_1b6_Ll_mc_AKGC417L_7', '178_1b6_Pr_mc_AKGC417L_1', '178_1b6_Pr_mc_AKGC417L_7', '179_1b1_Tc_sc_Meditron_4', '180_1b4_Al_mc_AKGC417L_5', '185_1b1_Ll_sc_Litt3200_8', '186_2b2_Al_mc_AKGC417L_0', '186_2b3_Tc_mc_AKGC417L_4', '192_2b2_Al_mc_LittC2SE_0', '192_2b2_Al_mc_LittC2SE_2', '192_2b2_Al_mc_LittC2SE_4', '192_2b2_Al_mc_LittC2SE_5', '192_2b2_Al_mc_LittC2SE_6', '192_2b2_Al_mc_LittC2SE_7', '192_2b3_Ar_mc_LittC2SE_1', '192_2b3_Ar_mc_LittC2SE_2', '192_2b3_Ar_mc_LittC2SE_3', '192_2b3_Ar_mc_LittC2SE_4', '192_2b3_Ar_mc_LittC2SE_5', '192_2b3_Ar_mc_LittC2SE_6', '192_2b1_Ar_mc_LittC2SE_1', '192_2b1_Ar_mc_LittC2SE_2', '192_2b1_Ar_mc_LittC2SE_3', '192_2b1_Ar_mc_LittC2SE_4', '192_2b1_Ar_mc_LittC2SE_5', '192_2b1_Ar_mc_LittC2SE_6', '192_2b1_Ar_mc_LittC2SE_7', '192_2b1_Al_mc_LittC2SE_1', '192_2b1_Al_mc_LittC2SE_2', '192_2b1_Al_mc_LittC2SE_3', '192_2b1_Al_mc_LittC2SE_4', '192_2b1_Al_mc_LittC2SE_6', '192_2b1_Al_mc_LittC2SE_7', '192_2b2_Ar_mc_LittC2SE_1', '192_2b2_Ar_mc_LittC2SE_2', '192_2b2_Ar_mc_LittC2SE_3', '192_2b2_Ar_mc_LittC2SE_4', '192_2b2_Ar_mc_LittC2SE_5', '192_2b2_Ar_mc_LittC2SE_6', '192_2b2_Ar_mc_LittC2SE_7', '192_2b3_Al_mc_LittC2SE_1', '192_2b3_Al_mc_LittC2SE_2', '192_2b3_Al_mc_LittC2SE_3', '192_2b3_Al_mc_LittC2SE_4', '192_2b3_Al_mc_LittC2SE_5', '192_2b3_Al_mc_LittC2SE_6', '193_1b2_Al_mc_AKGC417L_1', '193_1b2_Al_mc_AKGC417L_2', '193_1b2_Al_mc_AKGC417L_3', '193_1b2_Al_mc_AKGC417L_4', '193_1b2_Al_mc_AKGC417L_5', '193_1b2_Al_mc_AKGC417L_6', '193_1b2_Al_mc_AKGC417L_7', '193_1b2_Al_mc_AKGC417L_8', '193_1b2_Al_mc_AKGC417L_9', '193_1b2_Al_mc_AKGC417L_10', '193_1b2_Al_mc_AKGC417L_11', '193_1b2_Pl_mc_AKGC417L_0', '193_1b2_Pl_mc_AKGC417L_1', '193_1b2_Pl_mc_AKGC417L_2', '193_1b2_Pl_mc_AKGC417L_3', '193_1b2_Pl_mc_AKGC417L_4', '193_1b2_Pl_mc_AKGC417L_5', '193_1b2_Pl_mc_AKGC417L_6', '193_1b2_Pl_mc_AKGC417L_7', '193_1b2_Pl_mc_AKGC417L_8', '193_1b2_Pl_mc_AKGC417L_9', '193_1b2_Pl_mc_AKGC417L_10', '193_1b2_Pl_mc_AKGC417L_11', '193_1b2_Pr_mc_AKGC417L_0', '193_1b2_Pr_mc_AKGC417L_1', '193_1b2_Pr_mc_AKGC417L_2', '193_1b2_Pr_mc_AKGC417L_3', '193_1b2_Pr_mc_AKGC417L_4', '193_1b2_Pr_mc_AKGC417L_5', '193_1b2_Pr_mc_AKGC417L_6', '193_1b2_Pr_mc_AKGC417L_7', '193_1b2_Pr_mc_AKGC417L_8', '193_1b2_Pr_mc_AKGC417L_9', '193_1b2_Pr_mc_AKGC417L_10', '193_1b2_Pr_mc_AKGC417L_11', '193_1b2_Ar_mc_AKGC417L_1', '193_1b2_Ar_mc_AKGC417L_2', '193_1b2_Ar_mc_AKGC417L_3', '193_1b2_Ar_mc_AKGC417L_4', '193_1b2_Ar_mc_AKGC417L_5', '193_1b2_Ar_mc_AKGC417L_6', '193_1b2_Ar_mc_AKGC417L_7', '193_1b2_Ar_mc_AKGC417L_8', '193_1b2_Ar_mc_AKGC417L_9', '193_1b2_Ar_mc_AKGC417L_10', '193_1b2_Ar_mc_AKGC417L_11', '193_1b2_Tc_mc_AKGC417L_1', '193_1b2_Tc_mc_AKGC417L_2', '193_1b2_Tc_mc_AKGC417L_5', '193_1b2_Tc_mc_AKGC417L_6', '193_1b2_Tc_mc_AKGC417L_7', '193_1b2_Tc_mc_AKGC417L_8', '193_1b2_Tc_mc_AKGC417L_9', '193_1b2_Tc_mc_AKGC417L_10', '193_1b2_Tc_mc_AKGC417L_11', '193_1b4_Lr_mc_AKGC417L_0', '193_1b4_Lr_mc_AKGC417L_1', '193_1b4_Lr_mc_AKGC417L_2', '193_1b4_Lr_mc_AKGC417L_3', '193_1b4_Lr_mc_AKGC417L_4', '193_1b4_Lr_mc_AKGC417L_5', '193_1b4_Lr_mc_AKGC417L_6', '193_1b4_Lr_mc_AKGC417L_7', '193_1b4_Lr_mc_AKGC417L_8', '193_1b4_Lr_mc_AKGC417L_9', '195_1b1_Ll_sc_Litt3200_0', '195_1b1_Ll_sc_Litt3200_5', '195_1b1_Al_sc_Litt3200_0', '195_1b1_Al_sc_Litt3200_2', '195_1b1_Al_sc_Litt3200_5', '195_1b1_Al_sc_Litt3200_7', '195_1b1_Al_sc_Litt3200_8', '195_1b1_Lr_sc_Litt3200_1', '195_1b1_Lr_sc_Litt3200_2', '195_1b1_Lr_sc_Litt3200_4', '195_1b1_Lr_sc_Litt3200_5', '195_1b1_Lr_sc_Litt3200_6', '195_1b1_Ar_sc_Litt3200_0', '195_1b1_Ar_sc_Litt3200_2', '195_1b1_Pr_sc_Litt3200_6', '195_1b1_Pr_sc_Litt3200_16', '195_1b1_Pl_sc_Litt3200_0', '195_1b1_Pl_sc_Litt3200_1', '195_1b1_Pl_sc_Litt3200_3', '195_1b1_Pl_sc_Litt3200_4', '195_1b1_Pl_sc_Litt3200_5', '195_1b1_Pl_sc_Litt3200_6', '195_1b1_Pl_sc_Litt3200_7', '197_1b1_Tc_sc_Meditron_4', '198_1b5_Al_mc_AKGC417L_0', '198_1b5_Al_mc_AKGC417L_1', '198_1b5_Al_mc_AKGC417L_2', '198_1b5_Al_mc_AKGC417L_3', '198_1b5_Al_mc_AKGC417L_4', '198_1b5_Al_mc_AKGC417L_5', '198_1b5_Ar_mc_AKGC417L_0', '198_1b5_Ar_mc_AKGC417L_1', '198_1b5_Ar_mc_AKGC417L_2', '198_1b5_Ar_mc_AKGC417L_3', '198_1b5_Ar_mc_AKGC417L_4', '198_1b5_Ar_mc_AKGC417L_5', '198_1b5_Ll_mc_AKGC417L_1', '198_1b5_Ll_mc_AKGC417L_2', '198_1b5_Ll_mc_AKGC417L_3', '198_1b5_Ll_mc_AKGC417L_4', '201_1b2_Al_sc_Meditron_1', '201_1b2_Al_sc_Meditron_2', '201_1b2_Al_sc_Meditron_3', '201_1b2_Al_sc_Meditron_4', '201_1b2_Al_sc_Meditron_5', '201_1b1_Al_sc_Meditron_3', '201_1b1_Al_sc_Meditron_4', '201_1b2_Ar_sc_Meditron_2', '201_1b3_Al_sc_Meditron_2', '201_1b3_Al_sc_Meditron_3', '203_1p2_Al_mc_AKGC417L_5', '203_1p2_Lr_mc_AKGC417L_0', '203_1p2_Lr_mc_AKGC417L_1', '203_1p2_Lr_mc_AKGC417L_3', '203_1p2_Lr_mc_AKGC417L_6', '203_1p2_Lr_mc_AKGC417L_7', '203_1p3_Ar_mc_AKGC417L_3', '203_1p3_Pr_mc_AKGC417L_5', '203_1p4_Pl_mc_AKGC417L_6', '203_1p4_Tc_mc_AKGC417L_7', '206_1b1_Ar_sc_Meditron_6', '211_1p2_Pl_mc_AKGC417L_1', '211_1p2_Pl_mc_AKGC417L_2', '211_1p2_Pl_mc_AKGC417L_5', '211_1p2_Pl_mc_AKGC417L_8', '218_1b1_Al_sc_Meditron_9', '218_1b1_Al_sc_Meditron_10', '218_1b1_Al_sc_Meditron_11', '218_1b1_Al_sc_Meditron_14', '218_1b1_Ar_sc_Meditron_0', '218_1b1_Ar_sc_Meditron_1', '218_1b1_Ar_sc_Meditron_2', '218_1b1_Ar_sc_Meditron_5', '218_1b1_Ar_sc_Meditron_6', '218_1b1_Ar_sc_Meditron_7', '218_1b1_Ar_sc_Meditron_10', '218_1b1_Ar_sc_Meditron_11', '218_1b1_Ar_sc_Meditron_12', '218_1b1_Pr_sc_Meditron_1', '218_1b1_Pr_sc_Meditron_3', '218_1b1_Pr_sc_Meditron_5', '218_1b1_Pr_sc_Meditron_6', '218_1b1_Pr_sc_Meditron_8', '218_1b1_Pr_sc_Meditron_9', '218_1b1_Pr_sc_Meditron_10', '218_1b1_Pr_sc_Meditron_11', '218_1b1_Pr_sc_Meditron_12', '218_1b1_Pr_sc_Meditron_13', '218_1b1_Pr_sc_Meditron_14', '218_1p1_Pl_sc_Litt3200_4', '218_1p1_Pl_sc_Litt3200_5', '218_1p1_Pl_sc_Litt3200_6', '218_1p1_Pl_sc_Litt3200_7', '218_1p1_Pr_sc_Litt3200_3', '218_1p1_Pr_sc_Litt3200_4', '218_1p1_Pr_sc_Litt3200_5', '218_1p1_Pr_sc_Litt3200_6', '218_1b1_Pl_sc_Meditron_10', '218_1b1_Pl_sc_Meditron_11', '218_1b1_Pl_sc_Meditron_12', '218_1b1_Pl_sc_Meditron_13', '218_1b1_Lr_sc_Meditron_12', '218_1b1_Lr_sc_Meditron_13', '218_1b1_Lr_sc_Meditron_14', '218_1b1_Lr_sc_Meditron_17', '221_2b1_Ar_mc_LittC2SE_1', '221_2b1_Ar_mc_LittC2SE_3', '221_2b1_Ar_mc_LittC2SE_4', '221_2b1_Al_mc_LittC2SE_1', '221_2b1_Al_mc_LittC2SE_2', '221_2b1_Al_mc_LittC2SE_3', '221_2b1_Al_mc_LittC2SE_4', '221_2b1_Lr_mc_LittC2SE_0', '221_2b1_Lr_mc_LittC2SE_1', '221_2b1_Lr_mc_LittC2SE_3', '221_2b1_Lr_mc_LittC2SE_4', '221_2b3_Ar_mc_LittC2SE_1', '221_2b3_Ar_mc_LittC2SE_2', '221_2b3_Ar_mc_LittC2SE_3', '221_2b3_Ar_mc_LittC2SE_4', '221_2b2_Lr_mc_LittC2SE_1', '221_2b2_Lr_mc_LittC2SE_2', '221_2b2_Lr_mc_LittC2SE_3', '221_2b2_Lr_mc_LittC2SE_4', '221_2b2_Ar_mc_LittC2SE_1', '221_2b2_Ar_mc_LittC2SE_2', '221_2b2_Ar_mc_LittC2SE_3', '221_2b2_Ar_mc_LittC2SE_4', '221_2b3_Pr_mc_LittC2SE_2', '221_2b3_Pr_mc_LittC2SE_3', '221_2b3_Pr_mc_LittC2SE_4', '221_2b3_Lr_mc_LittC2SE_1', '221_2b3_Lr_mc_LittC2SE_2', '221_2b3_Lr_mc_LittC2SE_3', '221_2b3_Lr_mc_LittC2SE_4', '107_2b3_Ar_mc_AKGC417L_1', '107_2b3_Ar_mc_AKGC417L_2', '107_2b3_Ar_mc_AKGC417L_3', '107_2b3_Ar_mc_AKGC417L_4', '107_2b3_Ar_mc_AKGC417L_5', '107_2b3_Ar_mc_AKGC417L_6', '107_2b3_Ar_mc_AKGC417L_7', '107_2b3_Pr_mc_AKGC417L_2', '107_2b3_Pr_mc_AKGC417L_5', '107_2b3_Pr_mc_AKGC417L_7', '107_2b4_Al_mc_AKGC417L_2', '107_2b5_Ar_mc_AKGC417L_4', '107_3p2_Al_mc_AKGC417L_0', '107_3p2_Al_mc_AKGC417L_1', '107_3p2_Al_mc_AKGC417L_2', '107_2b5_Pr_mc_AKGC417L_7', '107_3p2_Ar_mc_AKGC417L_3', '107_3p2_Ar_mc_AKGC417L_5', '107_3p2_Ar_mc_AKGC417L_6', '107_3p2_Ar_mc_AKGC417L_7', '107_3p2_Pr_mc_AKGC417L_0', '107_3p2_Pr_mc_AKGC417L_1', '107_3p2_Pr_mc_AKGC417L_2', '107_3p2_Pr_mc_AKGC417L_3', '107_3p2_Pr_mc_AKGC417L_4', '107_3p2_Tc_mc_AKGC417L_0', '107_3p2_Tc_mc_AKGC417L_1', '107_3p2_Tc_mc_AKGC417L_2', '107_3p2_Tc_mc_AKGC417L_3', '107_3p2_Tc_mc_AKGC417L_4', '107_3p2_Tc_mc_AKGC417L_5', '107_3p2_Lr_mc_AKGC417L_8', '110_1p1_Al_sc_Meditron_0', '110_1p1_Al_sc_Meditron_1', '110_1p1_Al_sc_Meditron_2', '112_1b1_Lr_sc_Meditron_0', '112_1b1_Lr_sc_Meditron_2', '112_1p1_Pl_sc_Litt3200_2', '112_1p1_Pl_sc_Litt3200_3', '112_1p1_Pl_sc_Litt3200_4', '112_1p1_Pl_sc_Litt3200_5', '114_1b4_Al_mc_AKGC417L_1', '114_1b4_Al_mc_AKGC417L_2', '114_1b4_Al_mc_AKGC417L_3', '114_1b4_Al_mc_AKGC417L_5', '114_1b4_Lr_mc_AKGC417L_0', '114_1b4_Lr_mc_AKGC417L_1', '114_1b4_Lr_mc_AKGC417L_2', '114_1b4_Lr_mc_AKGC417L_3', '114_1b4_Lr_mc_AKGC417L_5', '114_1b4_Ar_mc_AKGC417L_1', '114_1b4_Ar_mc_AKGC417L_2', '114_1b4_Ar_mc_AKGC417L_3', '114_1b4_Ar_mc_AKGC417L_5', '114_1b4_Pr_mc_AKGC417L_1', '114_1b4_Pr_mc_AKGC417L_2', '114_1b4_Pr_mc_AKGC417L_3', '114_1b4_Pr_mc_AKGC417L_5', '114_1b4_Pl_mc_AKGC417L_0', '114_1b4_Pl_mc_AKGC417L_1', '114_1b4_Pl_mc_AKGC417L_2', '114_1b4_Pl_mc_AKGC417L_3', '114_1b4_Pl_mc_AKGC417L_5', '124_1b1_Pl_sc_Litt3200_1', '124_1b1_Al_sc_Litt3200_0', '130_1p2_Ll_mc_AKGC417L_0', '130_1p2_Ll_mc_AKGC417L_1', '130_1p2_Ll_mc_AKGC417L_2', '130_1p2_Ll_mc_AKGC417L_3', '130_1p2_Ll_mc_AKGC417L_4', '130_1p2_Ll_mc_AKGC417L_5', '130_1p2_Al_mc_AKGC417L_2', '130_1p2_Al_mc_AKGC417L_4', '130_1p2_Ar_mc_AKGC417L_2', '130_1p2_Ar_mc_AKGC417L_4', '130_1p2_Ar_mc_AKGC417L_5', '130_1p2_Ar_mc_AKGC417L_6', '130_1p2_Lr_mc_AKGC417L_4', '130_1p2_Lr_mc_AKGC417L_5', '130_1p2_Lr_mc_AKGC417L_6', '130_1p3_Al_mc_AKGC417L_0', '130_1p3_Al_mc_AKGC417L_1', '130_1p3_Al_mc_AKGC417L_2', '130_1p3_Al_mc_AKGC417L_3', '130_1p3_Al_mc_AKGC417L_4', '130_1p2_Pr_mc_AKGC417L_2', '130_1p2_Pr_mc_AKGC417L_4', '130_1p2_Pr_mc_AKGC417L_5', '130_1p2_Tc_mc_AKGC417L_2', '130_1p2_Tc_mc_AKGC417L_4', '130_1p2_Tc_mc_AKGC417L_5', '130_1p2_Tc_mc_AKGC417L_6', '130_1p2_Pl_mc_AKGC417L_2', '130_1p2_Pl_mc_AKGC417L_4', '130_1p2_Pl_mc_AKGC417L_5', '130_1p2_Pl_mc_AKGC417L_6', '130_1p3_Ar_mc_AKGC417L_1', '130_1p3_Ar_mc_AKGC417L_2', '130_1p3_Ar_mc_AKGC417L_4', '130_1p3_Ll_mc_AKGC417L_2', '130_2p5_Al_mc_AKGC417L_10', '130_2p5_Tc_mc_AKGC417L_7', '130_2p5_Pl_mc_AKGC417L_5', '130_2p5_Pl_mc_AKGC417L_7', '130_2p5_Pr_mc_AKGC417L_1', '130_3p3_Tc_mc_AKGC417L_6', '130_3p4_Al_mc_AKGC417L_0', '130_3p4_Al_mc_AKGC417L_1', '130_3p3_Pl_mc_AKGC417L_6', '130_3p3_Al_mc_AKGC417L_6', '130_3p3_Pr_mc_AKGC417L_3', '130_3p4_Tc_mc_AKGC417L_0', '130_3p4_Tc_mc_AKGC417L_1', '130_3p4_Tc_mc_AKGC417L_2', '130_3p4_Tc_mc_AKGC417L_3', '130_3p4_Tc_mc_AKGC417L_4', '130_3p4_Pr_mc_AKGC417L_0', '130_3p4_Pr_mc_AKGC417L_1', '130_3p4_Pl_mc_AKGC417L_2', '130_3p4_Pl_mc_AKGC417L_3', '130_3p4_Pl_mc_AKGC417L_4', '133_3p2_Pl_mc_AKGC417L_0', '133_3p2_Pr_mc_AKGC417L_2', '133_3p2_Pr_mc_AKGC417L_6', '138_1p2_Lr_mc_AKGC417L_0', '138_1p2_Pr_mc_AKGC417L_0', '138_1p2_Pr_mc_AKGC417L_1', '138_1p2_Pl_mc_AKGC417L_0', '138_1p4_Pl_mc_AKGC417L_0', '138_2p2_Ar_mc_AKGC417L_2', '138_2p2_Ar_mc_AKGC417L_6', '138_2p2_Pr_mc_AKGC417L_2', '138_2p2_Pr_mc_AKGC417L_6', '139_1b1_Ll_sc_Litt3200_0', '141_1b2_Ar_mc_LittC2SE_3', '141_1b1_Pr_mc_LittC2SE_3', '141_1b2_Pr_mc_LittC2SE_1', '141_1b2_Pr_mc_LittC2SE_2', '141_1b2_Pr_mc_LittC2SE_4', '141_1b3_Pr_mc_LittC2SE_0', '141_1b3_Pr_mc_LittC2SE_1', '141_1b3_Pr_mc_LittC2SE_2', '141_1b3_Pr_mc_LittC2SE_3', '141_1b3_Pr_mc_LittC2SE_4', '141_1b3_Pr_mc_LittC2SE_5', '146_2b2_Pl_mc_AKGC417L_2', '146_2b2_Pl_mc_AKGC417L_3', '146_2b2_Pl_mc_AKGC417L_4', '149_1b1_Al_sc_Meditron_4', '149_1b1_Al_sc_Meditron_16', '151_2p2_Al_mc_AKGC417L_0', '151_2p2_Al_mc_AKGC417L_2', '151_2p2_Ll_mc_AKGC417L_1', '151_2p2_Ll_mc_AKGC417L_2', '151_2p2_Ll_mc_AKGC417L_5', '151_2p3_Al_mc_AKGC417L_0', '151_2p3_Al_mc_AKGC417L_1', '151_2p3_Al_mc_AKGC417L_2', '151_2p3_Ll_mc_AKGC417L_4', '151_2p3_Ll_mc_AKGC417L_5', '151_2p4_Ll_mc_AKGC417L_0', '151_2p4_Ll_mc_AKGC417L_1', '151_2p4_Ll_mc_AKGC417L_2', '151_2p4_Ll_mc_AKGC417L_3', '151_3p2_Al_mc_AKGC417L_1', '151_2p4_Pl_mc_AKGC417L_0', '151_2p4_Pl_mc_AKGC417L_1', '151_2p4_Pl_mc_AKGC417L_2', '151_2p4_Pl_mc_AKGC417L_3', '151_3p2_Lr_mc_AKGC417L_1', '151_3p2_Pl_mc_AKGC417L_1', '151_3p2_Ar_mc_AKGC417L_1', '151_3p2_Pr_mc_AKGC417L_0', '151_3p2_Pr_mc_AKGC417L_1', '151_3p3_Ll_mc_AKGC417L_1', '151_3p3_Ll_mc_AKGC417L_2', '154_4b4_Al_mc_AKGC417L_1', '156_2b3_Al_mc_AKGC417L_0', '156_2b3_Al_mc_AKGC417L_1', '156_2b3_Al_mc_AKGC417L_3', '156_2b3_Al_mc_AKGC417L_4', '156_2b3_Al_mc_AKGC417L_5', '156_2b3_Lr_mc_AKGC417L_0', '156_2b3_Lr_mc_AKGC417L_1', '156_2b3_Lr_mc_AKGC417L_5', '156_2b3_Ll_mc_AKGC417L_0', '156_2b3_Ll_mc_AKGC417L_1', '156_2b3_Ll_mc_AKGC417L_2', '156_2b3_Ll_mc_AKGC417L_3', '156_2b3_Ll_mc_AKGC417L_4', '156_2b3_Ll_mc_AKGC417L_5', '156_2b3_Ar_mc_AKGC417L_1', '156_2b3_Pl_mc_AKGC417L_0', '156_2b3_Pl_mc_AKGC417L_1', '156_2b3_Pl_mc_AKGC417L_3', '156_2b3_Pl_mc_AKGC417L_4', '156_2b3_Pl_mc_AKGC417L_5', '156_5b3_Lr_mc_AKGC417L_1', '156_5b3_Lr_mc_AKGC417L_2', '156_5b3_Lr_mc_AKGC417L_3', '156_5b3_Lr_mc_AKGC417L_4', '156_5b3_Lr_mc_AKGC417L_5', '156_5b3_Lr_mc_AKGC417L_6', '156_5b3_Lr_mc_AKGC417L_7', '156_5b3_Lr_mc_AKGC417L_8', '156_5b3_Ar_mc_AKGC417L_1', '156_5b3_Ar_mc_AKGC417L_2', '156_5b3_Ar_mc_AKGC417L_4', '156_5b3_Ar_mc_AKGC417L_5', '156_5b3_Ar_mc_AKGC417L_6', '156_5b3_Ar_mc_AKGC417L_7', '156_5b3_Ar_mc_AKGC417L_8', '156_5b3_Ll_mc_AKGC417L_0', '156_5b3_Ll_mc_AKGC417L_1', '156_5b3_Al_mc_AKGC417L_1', '156_5b3_Al_mc_AKGC417L_2', '156_5b3_Al_mc_AKGC417L_3', '156_5b3_Al_mc_AKGC417L_4', '156_5b3_Al_mc_AKGC417L_5', '156_5b3_Al_mc_AKGC417L_6', '156_5b3_Al_mc_AKGC417L_7', '156_5b3_Al_mc_AKGC417L_8', '156_5b3_Pl_mc_AKGC417L_0', '156_5b3_Pl_mc_AKGC417L_1', '156_5b3_Pl_mc_AKGC417L_2', '156_5b3_Pl_mc_AKGC417L_3', '156_5b3_Pl_mc_AKGC417L_4', '156_5b3_Pl_mc_AKGC417L_5', '156_5b3_Pl_mc_AKGC417L_7', '156_8b3_Al_mc_AKGC417L_1', '156_8b3_Al_mc_AKGC417L_2', '156_8b3_Al_mc_AKGC417L_3', '156_8b3_Al_mc_AKGC417L_4', '156_5b3_Pr_mc_AKGC417L_0', '156_5b3_Pr_mc_AKGC417L_1', '156_5b3_Pr_mc_AKGC417L_2', '156_5b3_Pr_mc_AKGC417L_3', '156_5b3_Pr_mc_AKGC417L_4', '156_5b3_Pr_mc_AKGC417L_5', '156_5b3_Pr_mc_AKGC417L_6', '156_5b3_Pr_mc_AKGC417L_7', '156_5b3_Pr_mc_AKGC417L_8', '156_8b3_Ll_mc_AKGC417L_1', '156_8b3_Ll_mc_AKGC417L_2', '156_8b3_Ll_mc_AKGC417L_3', '156_8b3_Ll_mc_AKGC417L_4', '156_8b3_Ll_mc_AKGC417L_5', '156_8b3_Ll_mc_AKGC417L_6', '156_8b3_Ll_mc_AKGC417L_7', '156_8b3_Pl_mc_AKGC417L_2', '156_8b3_Pl_mc_AKGC417L_3', '156_8b3_Pl_mc_AKGC417L_4', '156_8b3_Pl_mc_AKGC417L_6', '156_8b3_Pl_mc_AKGC417L_7', '158_1p2_Ar_mc_AKGC417L_0', '158_1p2_Ar_mc_AKGC417L_1', '158_1p2_Ar_mc_AKGC417L_3', '158_1p2_Al_mc_AKGC417L_0', '158_1p2_Al_mc_AKGC417L_1', '158_1p2_Al_mc_AKGC417L_3', '158_1p2_Lr_mc_AKGC417L_0', '158_1p2_Lr_mc_AKGC417L_1', '158_1p2_Lr_mc_AKGC417L_2', '158_1p2_Lr_mc_AKGC417L_3', '158_1p2_Pl_mc_AKGC417L_0', '158_1p2_Pl_mc_AKGC417L_1', '158_1p2_Pl_mc_AKGC417L_3', '158_1p2_Pr_mc_AKGC417L_1', '158_1p2_Pr_mc_AKGC417L_2', '158_1p2_Pr_mc_AKGC417L_3', '158_1p2_Pr_mc_AKGC417L_4', '158_1p2_Ll_mc_AKGC417L_3', '158_1p3_Ll_mc_AKGC417L_5', '158_1p3_Ll_mc_AKGC417L_6', '158_1p3_Ar_mc_AKGC417L_0', '158_1p3_Ar_mc_AKGC417L_3', '158_1p3_Ar_mc_AKGC417L_4', '158_1p3_Ar_mc_AKGC417L_5', '158_1p3_Al_mc_AKGC417L_1', '158_1p3_Al_mc_AKGC417L_2', '158_1p3_Al_mc_AKGC417L_4', '158_1p3_Al_mc_AKGC417L_5', '158_1p3_Lr_mc_AKGC417L_0', '158_1p3_Lr_mc_AKGC417L_4', '158_1p3_Lr_mc_AKGC417L_5', '158_1p3_Lr_mc_AKGC417L_6', '158_1p4_Ar_mc_AKGC417L_0', '158_1p3_Pr_mc_AKGC417L_3', '158_1p3_Pr_mc_AKGC417L_5', '158_1p3_Pr_mc_AKGC417L_7', '158_1p3_Pl_mc_AKGC417L_4', '158_1p3_Pl_mc_AKGC417L_5', '158_1p3_Pl_mc_AKGC417L_6', '158_1p4_Al_mc_AKGC417L_0', '158_1p4_Al_mc_AKGC417L_1', '158_1p4_Al_mc_AKGC417L_7', '158_1p4_Pl_mc_AKGC417L_1', '158_1p4_Pl_mc_AKGC417L_7', '158_1p4_Pl_mc_AKGC417L_8', '158_1p4_Lr_mc_AKGC417L_0', '158_1p4_Lr_mc_AKGC417L_1', '158_1p4_Lr_mc_AKGC417L_2', '158_1p4_Lr_mc_AKGC417L_7', '158_1p4_Lr_mc_AKGC417L_8', '158_1p4_Pr_mc_AKGC417L_1', '158_1p4_Pr_mc_AKGC417L_2', '158_1p4_Pr_mc_AKGC417L_3', '158_1p4_Pr_mc_AKGC417L_4', '158_1p4_Pr_mc_AKGC417L_5', '158_1p4_Pr_mc_AKGC417L_7', '158_1p4_Pr_mc_AKGC417L_8', '158_2p2_Ar_mc_AKGC417L_1', '158_2p2_Ar_mc_AKGC417L_4', '158_2p3_Tc_mc_AKGC417L_1', '158_2p3_Tc_mc_AKGC417L_5', '158_2p3_Lr_mc_AKGC417L_2', '158_2p3_Lr_mc_AKGC417L_8', '158_2p3_Lr_mc_AKGC417L_9', '158_2p3_Lr_mc_AKGC417L_10', '158_2p3_Lr_mc_AKGC417L_11', '160_1b3_Pl_mc_AKGC417L_1', '160_1b3_Pl_mc_AKGC417L_2', '160_1b3_Pr_mc_AKGC417L_0', '160_1b3_Pr_mc_AKGC417L_1', '160_1b3_Pr_mc_AKGC417L_2', '160_1b3_Pr_mc_AKGC417L_3', '160_1b4_Ar_mc_AKGC417L_2', '160_1b4_Ar_mc_AKGC417L_3', '160_1b4_Pl_mc_AKGC417L_1', '160_1b4_Al_mc_AKGC417L_0', '160_1b4_Al_mc_AKGC417L_1', '160_1b4_Al_mc_AKGC417L_2', '160_1b4_Al_mc_AKGC417L_3', '160_1b4_Pr_mc_AKGC417L_0', '160_1b4_Pr_mc_AKGC417L_1', '160_1b2_Al_mc_AKGC417L_0', '160_1b2_Al_mc_AKGC417L_1', '160_1b2_Pr_mc_AKGC417L_0', '160_1b3_Al_mc_AKGC417L_1', '161_1b1_Al_sc_Meditron_0', '161_1b1_Al_sc_Meditron_1', '162_1b2_Ar_mc_AKGC417L_1', '170_1b4_Ar_mc_AKGC417L_1', '170_1b4_Ar_mc_AKGC417L_2', '170_1b4_Ar_mc_AKGC417L_3', '170_1b4_Ar_mc_AKGC417L_5', '172_1b4_Ar_mc_AKGC417L_1', '172_1b4_Pl_mc_AKGC417L_5', '172_1b4_Ll_mc_AKGC417L_1', '172_1b4_Ll_mc_AKGC417L_2', '172_1b4_Tc_mc_AKGC417L_1', '172_1b4_Tc_mc_AKGC417L_3', '172_1b5_Tc_mc_AKGC417L_1', '172_1b5_Pl_mc_AKGC417L_4', '172_2b5_Al_mc_AKGC417L_5', '172_2b5_Pr_mc_AKGC417L_4', '174_1p3_Pr_mc_AKGC417L_0', '174_1p3_Pr_mc_AKGC417L_2', '175_1b1_Lr_sc_Litt3200_1', '175_1b1_Al_sc_Litt3200_1', '175_1b1_Al_sc_Litt3200_2', '177_1b4_Pr_mc_AKGC417L_2', '177_1b4_Pr_mc_AKGC417L_4', '178_1b2_Ar_mc_AKGC417L_0', '178_1b2_Lr_mc_AKGC417L_1', '178_1b2_Lr_mc_AKGC417L_2', '178_1b2_Lr_mc_AKGC417L_7', '178_1b3_Ar_mc_AKGC417L_2', '178_1b3_Al_mc_AKGC417L_0', '178_1b3_Al_mc_AKGC417L_1', '178_1b2_Pr_mc_AKGC417L_2', '179_1b1_Al_sc_Meditron_1', '180_1b4_Pr_mc_AKGC417L_0', '180_1b4_Pr_mc_AKGC417L_1', '180_1b4_Pr_mc_AKGC417L_2', '180_1b4_Pr_mc_AKGC417L_3', '180_1b4_Pr_mc_AKGC417L_4', '180_1b4_Pl_mc_AKGC417L_0', '180_1b4_Pl_mc_AKGC417L_1', '180_1b4_Pl_mc_AKGC417L_2', '180_1b4_Pl_mc_AKGC417L_3', '180_1b4_Pl_mc_AKGC417L_4', '180_1b4_Lr_mc_AKGC417L_0', '180_1b4_Lr_mc_AKGC417L_1', '180_1b4_Lr_mc_AKGC417L_2', '180_1b4_Lr_mc_AKGC417L_3', '180_1b4_Lr_mc_AKGC417L_4', '180_1b4_Al_mc_AKGC417L_0', '180_1b4_Al_mc_AKGC417L_1', '180_1b4_Al_mc_AKGC417L_2', '180_1b4_Al_mc_AKGC417L_3', '180_1b4_Al_mc_AKGC417L_4', '180_1b4_Ar_mc_AKGC417L_0', '180_1b4_Ar_mc_AKGC417L_1', '180_1b4_Ar_mc_AKGC417L_2', '180_1b4_Ar_mc_AKGC417L_3', '180_1b4_Ar_mc_AKGC417L_4', '192_2b2_Al_mc_LittC2SE_1', '192_2b2_Al_mc_LittC2SE_3', '192_2b1_Al_mc_LittC2SE_5', '195_1b1_Ll_sc_Litt3200_3', '195_1b1_Ll_sc_Litt3200_4', '195_1b1_Ll_sc_Litt3200_6', '195_1b1_Lr_sc_Litt3200_0', '195_1b1_Lr_sc_Litt3200_3', '216_1b1_Al_sc_Meditron_3', '216_1b1_Al_sc_Meditron_4', '218_1b1_Al_sc_Meditron_5', '218_1b1_Al_sc_Meditron_6', '218_1b1_Al_sc_Meditron_7', '218_1b1_Al_sc_Meditron_8', '218_1b1_Ar_sc_Meditron_8', '218_1b1_Ar_sc_Meditron_9', '218_1b1_Pr_sc_Meditron_0', '218_1b1_Pr_sc_Meditron_4', '218_1b1_Pr_sc_Meditron_7', '218_1p1_Pl_sc_Litt3200_1', '218_1p1_Pl_sc_Litt3200_2', '218_1p1_Pr_sc_Litt3200_0', '218_1p1_Pr_sc_Litt3200_1', '218_1b1_Pl_sc_Meditron_1', '218_1b1_Pl_sc_Meditron_2', '218_1b1_Pl_sc_Meditron_3', '218_1b1_Pl_sc_Meditron_4', '218_1b1_Pl_sc_Meditron_5', '218_1b1_Pl_sc_Meditron_6', '218_1b1_Pl_sc_Meditron_7', '218_1b1_Pl_sc_Meditron_8', '218_1b1_Pl_sc_Meditron_9', '218_1b1_Lr_sc_Meditron_0', '218_1b1_Lr_sc_Meditron_1', '218_1b1_Lr_sc_Meditron_2', '218_1b1_Lr_sc_Meditron_3', '218_1b1_Lr_sc_Meditron_4', '218_1b1_Lr_sc_Meditron_5', '218_1b1_Lr_sc_Meditron_6', '218_1b1_Lr_sc_Meditron_7', '218_1b1_Lr_sc_Meditron_8', '218_1b1_Lr_sc_Meditron_11', '219_2b2_Ar_mc_LittC2SE_2', '220_1b1_Tc_mc_LittC2SE_5', '220_1b1_Tc_mc_LittC2SE_6', '222_1b1_Lr_sc_Meditron_0', '222_1b1_Lr_sc_Meditron_2', '222_1b1_Lr_sc_Meditron_5', '222_1b1_Lr_sc_Meditron_7', '222_1b1_Lr_sc_Meditron_9', '222_1b1_Lr_sc_Meditron_10', '222_1b1_Lr_sc_Meditron_11', '222_1b1_Lr_sc_Meditron_12', '222_1b1_Lr_sc_Meditron_13', '222_1b1_Lr_sc_Meditron_14', '222_1b1_Lr_sc_Meditron_15', '222_1b1_Lr_sc_Meditron_16', '222_1b1_Lr_sc_Meditron_18', '223_1b1_Lr_sc_Meditron_0', '223_1b1_Lr_sc_Meditron_1', '223_1b1_Lr_sc_Meditron_2', '223_1b1_Lr_sc_Meditron_3', '223_1b1_Lr_sc_Meditron_4', '223_1b1_Lr_sc_Meditron_5', '223_1b1_Lr_sc_Meditron_6', '223_1b1_Lr_sc_Meditron_7', '223_1b1_Lr_sc_Meditron_8', '223_1b1_Lr_sc_Meditron_9', '223_1b1_Ll_sc_Meditron_0', '223_1b1_Ll_sc_Meditron_2', '223_1b1_Ll_sc_Meditron_3', '223_1b1_Ll_sc_Meditron_4', '223_1b1_Ll_sc_Meditron_5', '223_1b1_Ll_sc_Meditron_6', '223_1b1_Ll_sc_Meditron_7', '223_1b1_Ll_sc_Meditron_8', '223_1b1_Ll_sc_Meditron_9', '226_1b1_Pl_sc_LittC2SE_2', '226_1b1_Pl_sc_LittC2SE_3', '226_1b1_Pl_sc_LittC2SE_5', '226_1b1_Pl_sc_LittC2SE_6', '226_1b1_Pl_sc_LittC2SE_9', '226_1b1_Al_sc_Meditron_2', '226_1b1_Al_sc_Meditron_3', '226_1b1_Ll_sc_Meditron_1', '226_1b1_Ll_sc_Meditron_2', '226_1b1_Ll_sc_Meditron_3', '226_1b1_Ll_sc_Meditron_5', '226_1b1_Ll_sc_Meditron_6', '226_1b1_Ll_sc_Meditron_7', '104_1b1_Ll_sc_Litt3200_4', '106_2b1_Pl_mc_LittC2SE_0', '106_2b1_Pl_mc_LittC2SE_1', '106_2b1_Pl_mc_LittC2SE_3', '106_2b1_Pl_mc_LittC2SE_4', '106_2b1_Pl_mc_LittC2SE_5', '106_2b1_Pl_mc_LittC2SE_6', '106_2b1_Pl_mc_LittC2SE_7', '106_2b1_Pl_mc_LittC2SE_8', '107_2b3_Lr_mc_AKGC417L_1', '107_2b3_Lr_mc_AKGC417L_2', '107_2b3_Lr_mc_AKGC417L_3', '107_2b3_Lr_mc_AKGC417L_4', '107_2b3_Lr_mc_AKGC417L_5', '107_2b3_Lr_mc_AKGC417L_6', '107_2b3_Lr_mc_AKGC417L_7', '107_2b3_Ll_mc_AKGC417L_0', '107_2b3_Ll_mc_AKGC417L_1', '107_2b3_Ll_mc_AKGC417L_2', '107_2b3_Ll_mc_AKGC417L_3', '107_2b3_Ll_mc_AKGC417L_4', '107_2b3_Ll_mc_AKGC417L_5', '107_2b3_Ll_mc_AKGC417L_6', '107_2b3_Ll_mc_AKGC417L_7', '107_2b3_Al_mc_AKGC417L_0', '107_2b3_Al_mc_AKGC417L_1', '107_2b3_Al_mc_AKGC417L_2', '107_2b3_Al_mc_AKGC417L_3', '107_2b3_Al_mc_AKGC417L_4', '107_2b3_Al_mc_AKGC417L_5', '107_2b3_Al_mc_AKGC417L_6', '107_2b3_Ar_mc_AKGC417L_0', '107_2b3_Pr_mc_AKGC417L_1', '107_2b3_Pr_mc_AKGC417L_4', '107_2b3_Pr_mc_AKGC417L_6', '107_2b4_Al_mc_AKGC417L_0', '107_2b4_Al_mc_AKGC417L_1', '107_2b4_Al_mc_AKGC417L_3', '107_2b4_Al_mc_AKGC417L_5', '107_2b4_Al_mc_AKGC417L_6', '107_2b4_Al_mc_AKGC417L_7', '107_2b3_Tc_mc_AKGC417L_3', '107_2b3_Tc_mc_AKGC417L_7', '107_2b4_Ar_mc_AKGC417L_0', '107_2b4_Ar_mc_AKGC417L_1', '107_2b4_Ar_mc_AKGC417L_2', '107_2b4_Ar_mc_AKGC417L_3', '107_2b4_Ar_mc_AKGC417L_4', '107_2b4_Ar_mc_AKGC417L_5', '107_2b4_Ar_mc_AKGC417L_6', '107_2b4_Ar_mc_AKGC417L_7', '107_2b4_Lr_mc_AKGC417L_0', '107_2b4_Lr_mc_AKGC417L_1', '107_2b4_Lr_mc_AKGC417L_2', '107_2b4_Lr_mc_AKGC417L_3', '107_2b4_Lr_mc_AKGC417L_4', '107_2b4_Lr_mc_AKGC417L_5', '107_2b4_Lr_mc_AKGC417L_6', '107_2b4_Lr_mc_AKGC417L_7', '107_2b4_Pr_mc_AKGC417L_0', '107_2b4_Pr_mc_AKGC417L_1', '107_2b4_Pr_mc_AKGC417L_2', '107_2b4_Pr_mc_AKGC417L_3', '107_2b4_Pr_mc_AKGC417L_4', '107_2b4_Pr_mc_AKGC417L_5', '107_2b4_Pr_mc_AKGC417L_6', '107_2b4_Pr_mc_AKGC417L_7', '107_2b4_Pl_mc_AKGC417L_0', '107_2b4_Pl_mc_AKGC417L_2', '107_2b4_Pl_mc_AKGC417L_5', '107_2b4_Ll_mc_AKGC417L_0', '107_2b4_Ll_mc_AKGC417L_1', '107_2b4_Ll_mc_AKGC417L_2', '107_2b4_Ll_mc_AKGC417L_3', '107_2b4_Ll_mc_AKGC417L_4', '107_2b4_Ll_mc_AKGC417L_5', '107_2b4_Ll_mc_AKGC417L_6', '107_2b4_Ll_mc_AKGC417L_7', '107_2b5_Lr_mc_AKGC417L_1', '107_2b5_Lr_mc_AKGC417L_2', '107_2b5_Lr_mc_AKGC417L_3', '107_2b5_Lr_mc_AKGC417L_4', '107_2b5_Lr_mc_AKGC417L_5', '107_2b5_Lr_mc_AKGC417L_6', '107_2b5_Lr_mc_AKGC417L_7', '107_2b5_Ar_mc_AKGC417L_2', '107_2b5_Ar_mc_AKGC417L_5', '107_2b5_Al_mc_AKGC417L_1', '107_2b5_Al_mc_AKGC417L_2', '107_2b5_Al_mc_AKGC417L_3', '107_2b5_Al_mc_AKGC417L_4', '107_2b5_Al_mc_AKGC417L_5', '107_2b5_Al_mc_AKGC417L_6', '107_2b5_Al_mc_AKGC417L_7', '107_2b5_Ll_mc_AKGC417L_1', '107_2b5_Ll_mc_AKGC417L_2', '107_2b5_Ll_mc_AKGC417L_3', '107_2b5_Ll_mc_AKGC417L_4', '107_2b5_Ll_mc_AKGC417L_5', '107_2b5_Ll_mc_AKGC417L_7', '107_2b5_Tc_mc_AKGC417L_2', '107_2b5_Tc_mc_AKGC417L_3', '107_3p2_Al_mc_AKGC417L_3', '107_3p2_Al_mc_AKGC417L_4', '107_3p2_Al_mc_AKGC417L_5', '107_3p2_Al_mc_AKGC417L_6', '107_3p2_Al_mc_AKGC417L_7', '107_3p2_Al_mc_AKGC417L_8', '107_2b5_Pr_mc_AKGC417L_1', '107_2b5_Pr_mc_AKGC417L_3', '107_2b5_Pr_mc_AKGC417L_4', '107_2b5_Pr_mc_AKGC417L_6', '107_3p2_Pr_mc_AKGC417L_5', '107_3p2_Pr_mc_AKGC417L_6', '107_3p2_Pr_mc_AKGC417L_7', '107_3p2_Pr_mc_AKGC417L_8', '107_3p2_Pl_mc_AKGC417L_0', '107_3p2_Pl_mc_AKGC417L_1', '107_3p2_Pl_mc_AKGC417L_2', '107_3p2_Pl_mc_AKGC417L_3', '107_3p2_Pl_mc_AKGC417L_4', '107_3p2_Pl_mc_AKGC417L_5', '107_3p2_Pl_mc_AKGC417L_6', '107_3p2_Pl_mc_AKGC417L_7', '107_3p2_Pl_mc_AKGC417L_8', '107_3p2_Ll_mc_AKGC417L_0', '107_3p2_Ll_mc_AKGC417L_1', '107_3p2_Ll_mc_AKGC417L_2', '107_3p2_Ll_mc_AKGC417L_3', '107_3p2_Ll_mc_AKGC417L_4', '107_3p2_Ll_mc_AKGC417L_5', '107_3p2_Ll_mc_AKGC417L_6', '107_3p2_Ll_mc_AKGC417L_7', '107_3p2_Ll_mc_AKGC417L_8', '107_3p2_Lr_mc_AKGC417L_5', '107_3p2_Lr_mc_AKGC417L_6', '107_3p2_Lr_mc_AKGC417L_7', '109_1b1_Ll_sc_Litt3200_1', '109_1b1_Ll_sc_Litt3200_2', '109_1b1_Ll_sc_Litt3200_3', '109_1b1_Ll_sc_Litt3200_4', '109_1b1_Ll_sc_Litt3200_5', '109_1b1_Ll_sc_Litt3200_6', '109_1b1_Ll_sc_Litt3200_7', '109_1b1_Lr_sc_Litt3200_0', '109_1b1_Lr_sc_Litt3200_1', '109_1b1_Lr_sc_Litt3200_2', '109_1b1_Lr_sc_Litt3200_3', '109_1b1_Lr_sc_Litt3200_4', '109_1b1_Lr_sc_Litt3200_5', '109_1b1_Lr_sc_Litt3200_6', '109_1b1_Lr_sc_Litt3200_7', '110_1p1_Al_sc_Meditron_3', '110_1p1_Al_sc_Meditron_5', '110_1p1_Al_sc_Meditron_6', '110_1b1_Pr_sc_Meditron_0', '110_1b1_Pr_sc_Meditron_1', '110_1p1_Lr_sc_Meditron_0', '110_1p1_Lr_sc_Meditron_1', '110_1p1_Lr_sc_Meditron_2', '110_1p1_Lr_sc_Meditron_3', '110_1p1_Lr_sc_Meditron_4', '110_1p1_Lr_sc_Meditron_5', '110_1p1_Lr_sc_Meditron_6', '112_1b1_Ar_sc_Meditron_8', '112_1b1_Lr_sc_Meditron_1', '112_1b1_Lr_sc_Meditron_3', '112_1b1_Lr_sc_Meditron_4', '112_1p1_Pl_sc_Litt3200_0', '114_1b4_Al_mc_AKGC417L_4', '114_1b4_Al_mc_AKGC417L_6', '114_1b4_Lr_mc_AKGC417L_4', '114_1b4_Lr_mc_AKGC417L_6', '114_1b4_Ar_mc_AKGC417L_4', '114_1b4_Pr_mc_AKGC417L_4', '114_1b4_Pr_mc_AKGC417L_6', '114_1b4_Pl_mc_AKGC417L_4', '114_1b4_Pl_mc_AKGC417L_6', '120_1b1_Pr_sc_Meditron_0', '120_1b1_Pl_sc_Meditron_15', '120_1b1_Pl_sc_Meditron_16', '120_1b1_Pl_sc_Meditron_17', '120_1b1_Pl_sc_Meditron_18', '120_1b1_Pl_sc_Meditron_20', '120_1b1_Pl_sc_Meditron_21', '120_1b1_Pl_sc_Meditron_22', '120_1b1_Pl_sc_Meditron_23', '120_1b1_Pl_sc_Meditron_24', '120_1b1_Pl_sc_Meditron_25', '120_1b1_Pl_sc_Meditron_26', '120_1b1_Pl_sc_Meditron_27', '120_1b1_Pl_sc_Meditron_28', '120_1b1_Pl_sc_Meditron_29', '128_1b3_Tc_mc_LittC2SE_0', '128_1b3_Tc_mc_LittC2SE_2', '128_1b3_Tc_mc_LittC2SE_3', '127_1b1_Ar_sc_Meditron_4', '127_1b1_Ar_sc_Meditron_6', '127_1b1_Ar_sc_Meditron_8', '125_1b1_Tc_sc_Meditron_2', '125_1b1_Tc_sc_Meditron_4', '160_1b3_Pr_mc_AKGC417L_4', '160_1b4_Pr_mc_AKGC417L_2', '160_1b4_Pr_mc_AKGC417L_3', '160_2b3_Lr_mc_AKGC417L_3', '160_2b4_Pl_mc_AKGC417L_0', '160_2b4_Pl_mc_AKGC417L_1', '160_2b4_Pl_mc_AKGC417L_2', '160_2b4_Pl_mc_AKGC417L_3', '160_2b4_Pl_mc_AKGC417L_4', '160_2b4_Pl_mc_AKGC417L_5', '160_2b4_Pl_mc_AKGC417L_6', '160_2b4_Ar_mc_AKGC417L_0', '160_2b4_Ar_mc_AKGC417L_1', '160_2b4_Ar_mc_AKGC417L_2', '160_2b4_Ar_mc_AKGC417L_3', '160_2b4_Ar_mc_AKGC417L_4', '160_2b4_Ar_mc_AKGC417L_5', '160_2b4_Ar_mc_AKGC417L_6', '160_2b4_Pr_mc_AKGC417L_0', '160_2b4_Pr_mc_AKGC417L_1', '160_2b4_Pr_mc_AKGC417L_2', '160_2b4_Pr_mc_AKGC417L_3', '160_2b4_Pr_mc_AKGC417L_4', '160_2b4_Pr_mc_AKGC417L_5', '160_2b4_Pr_mc_AKGC417L_6', '160_1b2_Lr_mc_AKGC417L_0', '161_1b1_Al_sc_Meditron_5', '161_1b1_Al_sc_Meditron_7', '162_1b2_Tc_mc_AKGC417L_0', '162_1b2_Tc_mc_AKGC417L_1', '162_2b4_Tc_mc_AKGC417L_0', '162_2b4_Tc_mc_AKGC417L_1', '162_2b4_Tc_mc_AKGC417L_2', '163_2b2_Lr_mc_AKGC417L_0', '163_2b2_Lr_mc_AKGC417L_2', '163_2b2_Lr_mc_AKGC417L_3', '163_2b2_Pl_mc_AKGC417L_0', '163_2b2_Pl_mc_AKGC417L_1', '163_2b2_Ll_mc_AKGC417L_1', '163_2b2_Ll_mc_AKGC417L_2', '164_1b1_Ll_sc_Meditron_2', '166_1p1_Al_sc_Meditron_10', '166_1p1_Al_sc_Meditron_11', '166_1p1_Al_sc_Meditron_13', '166_1p1_Al_sc_Meditron_14', '166_1p1_Al_sc_Meditron_15', '166_1p1_Pl_sc_Meditron_16', '166_1p1_Pl_sc_Meditron_17', '166_1p1_Pl_sc_Meditron_18', '166_1p1_Pl_sc_Meditron_19', '166_1p1_Pl_sc_Meditron_20', '166_1p1_Pl_sc_Meditron_21', '166_1p1_Pl_sc_Meditron_23', '166_1p1_Ll_sc_Meditron_0', '166_1p1_Ll_sc_Meditron_1', '166_1p1_Ll_sc_Meditron_2', '166_1p1_Ll_sc_Meditron_3', '166_1p1_Ll_sc_Meditron_4', '166_1p1_Ll_sc_Meditron_5', '166_1p1_Ll_sc_Meditron_6', '166_1p1_Ll_sc_Meditron_7', '166_1p1_Ll_sc_Meditron_8', '166_1p1_Ll_sc_Meditron_9', '166_1p1_Ll_sc_Meditron_10', '166_1p1_Ll_sc_Meditron_11', '166_1p1_Ll_sc_Meditron_12', '166_1p1_Ll_sc_Meditron_13', '166_1p1_Ll_sc_Meditron_14', '166_1p1_Ll_sc_Meditron_17', '165_1b1_Pr_sc_Meditron_1', '165_1b1_Ar_sc_Meditron_2', '165_1b1_Ar_sc_Meditron_3', '169_1b1_Lr_sc_Meditron_0', '169_1b1_Lr_sc_Meditron_1', '169_1b1_Lr_sc_Meditron_3', '169_1b1_Lr_sc_Meditron_4', '169_1b1_Lr_sc_Meditron_5', '169_1b2_Ll_sc_Meditron_0', '169_1b2_Ll_sc_Meditron_1', '169_1b2_Ll_sc_Meditron_2', '169_1b2_Ll_sc_Meditron_3', '169_1b2_Ll_sc_Meditron_5', '169_1b2_Ll_sc_Meditron_6', '170_1b2_Pl_mc_AKGC417L_0', '170_1b2_Pl_mc_AKGC417L_1', '170_1b2_Pl_mc_AKGC417L_2', '170_1b2_Pl_mc_AKGC417L_3', '170_1b3_Pl_mc_AKGC417L_0', '170_1b3_Pl_mc_AKGC417L_1', '170_1b3_Pl_mc_AKGC417L_2', '170_1b3_Pl_mc_AKGC417L_3', '170_1b3_Pl_mc_AKGC417L_4', '170_1b3_Pl_mc_AKGC417L_5', '170_1b3_Pr_mc_AKGC417L_0', '170_1b3_Lr_mc_AKGC417L_3', '170_1b4_Ar_mc_AKGC417L_0', '170_2b2_Ar_mc_AKGC417L_1', '170_2b2_Ar_mc_AKGC417L_2', '170_2b2_Ar_mc_AKGC417L_3', '170_1b4_Pl_mc_AKGC417L_0', '170_1b4_Pl_mc_AKGC417L_1', '170_1b4_Pl_mc_AKGC417L_2', '170_1b4_Pl_mc_AKGC417L_3', '170_1b4_Pl_mc_AKGC417L_4', '170_1b4_Pl_mc_AKGC417L_5', '170_1b4_Pr_mc_AKGC417L_1', '170_1b4_Pr_mc_AKGC417L_4', '172_1b3_Ll_mc_AKGC417L_0', '172_1b3_Ll_mc_AKGC417L_2', '172_1b3_Ll_mc_AKGC417L_3', '172_1b3_Ll_mc_AKGC417L_4', '172_1b3_Ll_mc_AKGC417L_5', '172_1b3_Ll_mc_AKGC417L_6', '172_1b3_Al_mc_AKGC417L_6', '172_1b3_Tc_mc_AKGC417L_6', '172_1b3_Pr_mc_AKGC417L_0', '172_1b3_Pr_mc_AKGC417L_1', '172_1b3_Pr_mc_AKGC417L_2', '172_1b3_Pr_mc_AKGC417L_3', '172_1b3_Pr_mc_AKGC417L_4', '172_1b3_Pr_mc_AKGC417L_5', '172_1b3_Pr_mc_AKGC417L_6', '172_1b4_Al_mc_AKGC417L_0', '172_1b4_Al_mc_AKGC417L_5', '172_1b3_Pl_mc_AKGC417L_0', '172_1b3_Pl_mc_AKGC417L_3', '172_1b3_Pl_mc_AKGC417L_5', '172_1b4_Pl_mc_AKGC417L_0', '172_1b4_Ll_mc_AKGC417L_4', '172_1b5_Ll_mc_AKGC417L_0', '172_1b5_Ll_mc_AKGC417L_2', '172_1b5_Ll_mc_AKGC417L_4', '172_1b5_Lr_mc_AKGC417L_3', '172_1b5_Lr_mc_AKGC417L_4', '172_1b5_Al_mc_AKGC417L_2', '172_1b5_Pr_mc_AKGC417L_2', '172_1b5_Pl_mc_AKGC417L_0', '172_1b5_Pl_mc_AKGC417L_2', '172_1b5_Pl_mc_AKGC417L_5', '172_2b5_Al_mc_AKGC417L_0', '172_2b5_Al_mc_AKGC417L_1', '172_2b5_Al_mc_AKGC417L_2', '172_2b5_Al_mc_AKGC417L_3', '172_2b5_Al_mc_AKGC417L_4', '172_2b5_Pr_mc_AKGC417L_0', '172_2b5_Lr_mc_AKGC417L_1', '172_2b5_Pl_mc_AKGC417L_0', '172_2b5_Pl_mc_AKGC417L_1', '172_2b5_Pl_mc_AKGC417L_2', '174_1p2_Pl_mc_AKGC417L_1', '174_1p2_Pl_mc_AKGC417L_2', '174_1p2_Pl_mc_AKGC417L_3', '174_1p2_Pl_mc_AKGC417L_4', '174_1p2_Ll_mc_AKGC417L_1', '174_1p2_Ll_mc_AKGC417L_2', '174_1p2_Ll_mc_AKGC417L_3', '174_1p2_Ll_mc_AKGC417L_4', '174_1p2_Ar_mc_AKGC417L_2', '174_1p2_Lr_mc_AKGC417L_1', '174_1p2_Lr_mc_AKGC417L_2', '174_1p2_Lr_mc_AKGC417L_3', '174_1p2_Lr_mc_AKGC417L_4', '174_1p3_Ll_mc_AKGC417L_0', '174_1p3_Ll_mc_AKGC417L_1', '174_1p3_Ll_mc_AKGC417L_2', '174_1p3_Ll_mc_AKGC417L_3', '174_1p3_Ll_mc_AKGC417L_4', '174_1p2_Tc_mc_AKGC417L_0', '174_1p2_Tc_mc_AKGC417L_1', '174_1p2_Tc_mc_AKGC417L_3', '174_1p2_Tc_mc_AKGC417L_4', '174_1p3_Lr_mc_AKGC417L_0', '174_1p3_Lr_mc_AKGC417L_1', '174_1p3_Lr_mc_AKGC417L_2', '174_1p3_Lr_mc_AKGC417L_3', '174_1p3_Lr_mc_AKGC417L_4', '174_1p2_Pr_mc_AKGC417L_1', '174_1p2_Pr_mc_AKGC417L_2', '174_1p2_Pr_mc_AKGC417L_3', '174_1p2_Pr_mc_AKGC417L_4', '174_1p3_Ar_mc_AKGC417L_0', '174_1p3_Ar_mc_AKGC417L_1', '174_1p3_Ar_mc_AKGC417L_2', '174_1p3_Ar_mc_AKGC417L_3', '174_1p3_Ar_mc_AKGC417L_4', '174_1p3_Tc_mc_AKGC417L_1', '174_1p3_Tc_mc_AKGC417L_2', '174_1p3_Tc_mc_AKGC417L_3', '174_1p3_Pr_mc_AKGC417L_1', '174_1p3_Pr_mc_AKGC417L_3', '174_1p3_Pr_mc_AKGC417L_4', '174_1p4_Ar_mc_AKGC417L_2', '174_1p4_Ar_mc_AKGC417L_3', '174_1p4_Ar_mc_AKGC417L_4', '174_1p3_Pl_mc_AKGC417L_0', '174_1p3_Pl_mc_AKGC417L_1', '174_1p3_Pl_mc_AKGC417L_2', '174_1p3_Pl_mc_AKGC417L_3', '174_1p3_Pl_mc_AKGC417L_4', '174_1p4_Ll_mc_AKGC417L_1', '174_1p4_Ll_mc_AKGC417L_2', '174_1p4_Ll_mc_AKGC417L_3', '174_1p4_Ll_mc_AKGC417L_4', '174_1p4_Lr_mc_AKGC417L_1', '174_1p4_Lr_mc_AKGC417L_2', '174_1p4_Lr_mc_AKGC417L_3', '174_1p4_Lr_mc_AKGC417L_4', '174_1p4_Tc_mc_AKGC417L_0', '174_1p4_Tc_mc_AKGC417L_2', '174_1p4_Tc_mc_AKGC417L_3', '174_1p4_Pl_mc_AKGC417L_0', '174_1p4_Pl_mc_AKGC417L_1', '174_1p4_Pl_mc_AKGC417L_2', '174_1p4_Pl_mc_AKGC417L_3', '174_1p4_Pl_mc_AKGC417L_4', '174_1p4_Pr_mc_AKGC417L_0', '174_1p4_Pr_mc_AKGC417L_1', '174_1p4_Pr_mc_AKGC417L_2', '174_1p4_Pr_mc_AKGC417L_3', '174_1p4_Pr_mc_AKGC417L_4', '174_2p3_Pr_mc_AKGC417L_0', '174_2p3_Pr_mc_AKGC417L_1', '174_2p3_Pr_mc_AKGC417L_2', '174_2p3_Pr_mc_AKGC417L_3', '174_2p3_Al_mc_AKGC417L_0', '174_2p3_Pl_mc_AKGC417L_0', '174_2p3_Pl_mc_AKGC417L_1', '174_2p3_Pl_mc_AKGC417L_2', '174_2p3_Pl_mc_AKGC417L_3', '174_2p3_Tc_mc_AKGC417L_0', '174_2p3_Tc_mc_AKGC417L_1', '174_2p3_Tc_mc_AKGC417L_3', '174_2p3_Ar_mc_AKGC417L_0', '174_2p3_Ar_mc_AKGC417L_1', '174_2p3_Ar_mc_AKGC417L_2', '174_2p3_Ar_mc_AKGC417L_3', '173_1b1_Al_sc_Meditron_2', '173_1b1_Al_sc_Meditron_4', '173_1b1_Al_sc_Meditron_7', '173_1b1_Al_sc_Meditron_8', '173_1b1_Al_sc_Meditron_9', '176_1b3_Ll_mc_AKGC417L_1', '176_1b3_Ll_mc_AKGC417L_2', '176_1b3_Ll_mc_AKGC417L_3', '176_1b3_Ll_mc_AKGC417L_4', '176_1b3_Ll_mc_AKGC417L_5', '176_1b3_Lr_mc_AKGC417L_1', '176_1b3_Lr_mc_AKGC417L_2', '176_1b3_Lr_mc_AKGC417L_3', '176_1b3_Lr_mc_AKGC417L_4', '176_1b3_Lr_mc_AKGC417L_5', '176_1b3_Al_mc_AKGC417L_1', '176_1b3_Al_mc_AKGC417L_2', '176_1b3_Al_mc_AKGC417L_3', '176_1b3_Al_mc_AKGC417L_4', '176_1b3_Al_mc_AKGC417L_5', '176_1b3_Ar_mc_AKGC417L_0', '176_1b3_Ar_mc_AKGC417L_1', '176_1b3_Ar_mc_AKGC417L_2', '176_1b3_Ar_mc_AKGC417L_3', '176_1b3_Ar_mc_AKGC417L_4', '176_1b3_Ar_mc_AKGC417L_5', '176_1b4_Ar_mc_AKGC417L_0', '176_1b4_Ar_mc_AKGC417L_1', '176_1b4_Ar_mc_AKGC417L_2', '176_1b4_Ar_mc_AKGC417L_3', '176_1b4_Ar_mc_AKGC417L_4', '176_1b4_Ar_mc_AKGC417L_5', '176_1b3_Pr_mc_AKGC417L_1', '176_1b3_Pr_mc_AKGC417L_2', '176_1b3_Pr_mc_AKGC417L_3', '176_1b3_Pr_mc_AKGC417L_4', '176_1b3_Pr_mc_AKGC417L_5', '176_1b3_Pl_mc_AKGC417L_1', '176_1b3_Pl_mc_AKGC417L_2', '176_1b3_Pl_mc_AKGC417L_3', '176_1b3_Pl_mc_AKGC417L_4', '176_1b3_Pl_mc_AKGC417L_5', '176_1b3_Tc_mc_AKGC417L_0', '176_1b3_Tc_mc_AKGC417L_1', '176_1b3_Tc_mc_AKGC417L_2', '176_1b3_Tc_mc_AKGC417L_3', '176_1b3_Tc_mc_AKGC417L_4', '176_1b3_Tc_mc_AKGC417L_5', '176_1b4_Al_mc_AKGC417L_1', '176_1b4_Al_mc_AKGC417L_2', '176_1b4_Al_mc_AKGC417L_3', '176_1b4_Tc_mc_AKGC417L_1', '176_1b4_Tc_mc_AKGC417L_2', '176_1b4_Tc_mc_AKGC417L_4', '176_1b4_Tc_mc_AKGC417L_5', '176_1b4_Lr_mc_AKGC417L_0', '176_1b4_Lr_mc_AKGC417L_1', '176_1b4_Lr_mc_AKGC417L_2', '176_1b4_Lr_mc_AKGC417L_3', '176_1b4_Lr_mc_AKGC417L_4', '176_1b4_Lr_mc_AKGC417L_5', '176_1b4_Pl_mc_AKGC417L_0', '176_1b4_Pl_mc_AKGC417L_1', '176_1b4_Pl_mc_AKGC417L_2', '176_1b4_Pl_mc_AKGC417L_3', '176_1b4_Pl_mc_AKGC417L_4', '176_1b4_Pl_mc_AKGC417L_5', '176_2b3_Al_mc_AKGC417L_1', '176_2b3_Al_mc_AKGC417L_2', '176_2b3_Al_mc_AKGC417L_3', '176_2b3_Al_mc_AKGC417L_4', '198_1b5_Ll_mc_AKGC417L_5', '198_1b5_Lr_mc_AKGC417L_0', '198_1b5_Lr_mc_AKGC417L_1', '198_1b5_Lr_mc_AKGC417L_2', '198_1b5_Lr_mc_AKGC417L_3', '198_1b5_Lr_mc_AKGC417L_4', '198_1b5_Lr_mc_AKGC417L_5', '198_1b5_Pl_mc_AKGC417L_0', '198_1b5_Pl_mc_AKGC417L_1', '198_1b5_Pl_mc_AKGC417L_2', '198_1b5_Pl_mc_AKGC417L_3', '198_1b5_Pl_mc_AKGC417L_4', '198_1b5_Pl_mc_AKGC417L_5', '198_1b5_Pr_mc_AKGC417L_0', '198_1b5_Pr_mc_AKGC417L_1', '198_1b5_Pr_mc_AKGC417L_2', '198_1b5_Pr_mc_AKGC417L_3', '198_1b5_Pr_mc_AKGC417L_4', '198_1b5_Pr_mc_AKGC417L_5', '198_1b5_Tc_mc_AKGC417L_0', '198_1b5_Tc_mc_AKGC417L_1', '198_1b5_Tc_mc_AKGC417L_2', '198_1b5_Tc_mc_AKGC417L_3', '198_1b5_Tc_mc_AKGC417L_4', '198_1b5_Tc_mc_AKGC417L_5', '201_1b2_Al_sc_Meditron_0', '201_1b1_Ar_sc_Meditron_1', '201_1b1_Ar_sc_Meditron_2', '201_1b1_Ar_sc_Meditron_3', '201_1b1_Ar_sc_Meditron_4', '201_1b1_Ar_sc_Meditron_5', '201_1b1_Ar_sc_Meditron_6', '201_1b1_Al_sc_Meditron_2', '201_1b1_Al_sc_Meditron_5', '201_1b3_Ar_sc_Meditron_0', '201_1b3_Ar_sc_Meditron_1', '201_1b3_Ar_sc_Meditron_2', '201_1b3_Ar_sc_Meditron_3', '201_1b3_Ar_sc_Meditron_4', '201_1b3_Ar_sc_Meditron_5', '201_1b3_Ar_sc_Meditron_6', '201_1b2_Ar_sc_Meditron_1', '201_1b2_Ar_sc_Meditron_3', '201_1b2_Ar_sc_Meditron_4', '201_1b2_Ar_sc_Meditron_5', '201_1b2_Ar_sc_Meditron_6', '201_1b3_Al_sc_Meditron_0', '201_1b3_Al_sc_Meditron_1', '201_1b3_Al_sc_Meditron_4', '201_1b3_Al_sc_Meditron_5', '203_1p3_Tc_mc_AKGC417L_1', '203_1p2_Tc_mc_AKGC417L_4', '203_1p2_Tc_mc_AKGC417L_5', '204_2b5_Al_mc_AKGC417L_1', '204_2b5_Al_mc_AKGC417L_2', '204_2b5_Al_mc_AKGC417L_3', '204_2b5_Al_mc_AKGC417L_5', '204_2b5_Ar_mc_AKGC417L_1', '204_2b5_Ar_mc_AKGC417L_2', '206_1b1_Lr_sc_Meditron_1', '206_1b1_Lr_sc_Meditron_2', '206_1b1_Lr_sc_Meditron_3', '206_1b1_Lr_sc_Meditron_4', '206_1b1_Lr_sc_Meditron_5', '206_1b1_Lr_sc_Meditron_6', '206_1b1_Lr_sc_Meditron_7', '206_1b1_Ar_sc_Meditron_2', '206_1b1_Ar_sc_Meditron_3', '206_1b1_Ar_sc_Meditron_4', '206_1b1_Ar_sc_Meditron_5', '206_1b1_Ar_sc_Meditron_7', '206_1b1_Ar_sc_Meditron_9', '206_1b1_Pl_sc_Meditron_0', '206_1b1_Pl_sc_Meditron_1', '206_1b1_Pl_sc_Meditron_2', '206_1b1_Pl_sc_Meditron_3', '206_1b1_Pl_sc_Meditron_4', '206_1b1_Pl_sc_Meditron_5', '206_1b1_Pl_sc_Meditron_6', '206_1b1_Pl_sc_Meditron_7', '207_2b4_Tc_mc_AKGC417L_2', '211_1p2_Pl_mc_AKGC417L_0', '211_1p2_Pl_mc_AKGC417L_7', '211_1p2_Pl_mc_AKGC417L_9', '211_1p2_Pl_mc_AKGC417L_10', '215_1b2_Ar_sc_Meditron_1', '215_1b2_Ar_sc_Meditron_2', '215_1b2_Ar_sc_Meditron_3', '215_1b2_Ar_sc_Meditron_4', '216_1b1_Pl_sc_Meditron_0', '216_1b1_Pl_sc_Meditron_1', '216_1b1_Pl_sc_Meditron_2', '216_1b1_Pl_sc_Meditron_3', '216_1b1_Pl_sc_Meditron_4', '216_1b1_Pl_sc_Meditron_5', '216_1b1_Pl_sc_Meditron_6', '216_1b1_Pl_sc_Meditron_7', '218_1b1_Al_sc_Meditron_4', '218_1b1_Ar_sc_Meditron_4', '218_1b1_Pr_sc_Meditron_2', '218_1b1_Pr_sc_Meditron_15', '218_1b1_Pl_sc_Meditron_14', '218_1b1_Pl_sc_Meditron_15', '218_1b1_Pl_sc_Meditron_16', '218_1b1_Lr_sc_Meditron_15', '218_1b1_Lr_sc_Meditron_16', '218_1p1_Ar_sc_Litt3200_3', '218_1p1_Ar_sc_Litt3200_4', '218_1p1_Ar_sc_Litt3200_5', '221_2b1_Ar_mc_LittC2SE_0', '221_2b1_Ar_mc_LittC2SE_2', '221_2b1_Al_mc_LittC2SE_0', '221_2b1_Lr_mc_LittC2SE_2', '221_2b3_Ar_mc_LittC2SE_0', '221_2b2_Pl_mc_LittC2SE_0', '221_2b2_Pl_mc_LittC2SE_1', '221_2b2_Pl_mc_LittC2SE_2', '221_2b2_Pl_mc_LittC2SE_3', '221_2b2_Pl_mc_LittC2SE_4', '221_2b2_Ar_mc_LittC2SE_5', '221_2b1_Pl_mc_LittC2SE_0', '221_2b1_Pl_mc_LittC2SE_1', '221_2b1_Pl_mc_LittC2SE_2', '221_2b1_Pl_mc_LittC2SE_3', '221_2b1_Pl_mc_LittC2SE_4', '221_2b2_Al_mc_LittC2SE_0', '221_2b2_Al_mc_LittC2SE_1', '221_2b2_Al_mc_LittC2SE_2', '221_2b2_Al_mc_LittC2SE_3', '221_2b2_Al_mc_LittC2SE_4', '221_2b3_Al_mc_LittC2SE_0', '221_2b3_Al_mc_LittC2SE_1', '221_2b3_Al_mc_LittC2SE_2', '221_2b3_Al_mc_LittC2SE_3', '221_2b3_Al_mc_LittC2SE_4', '221_2b3_Pr_mc_LittC2SE_0', '221_2b3_Pr_mc_LittC2SE_1', '221_2b3_Lr_mc_LittC2SE_0', '222_1b1_Pr_sc_Meditron_8', '222_1b1_Pr_sc_Meditron_9', '222_1b1_Pr_sc_Meditron_10', '222_1b1_Pr_sc_Meditron_11', '222_1b1_Pr_sc_Meditron_12', '222_1b1_Pr_sc_Meditron_13', '222_1b1_Pr_sc_Meditron_14', '223_1b1_Ar_sc_Meditron_0', '223_1b1_Ar_sc_Meditron_1', '223_1b1_Ar_sc_Meditron_2', '223_1b1_Ar_sc_Meditron_3', '223_1b1_Ar_sc_Meditron_4', '223_1b1_Ar_sc_Meditron_5', '223_1b1_Ar_sc_Meditron_6', '223_1b1_Ar_sc_Meditron_7', '223_1b1_Ar_sc_Meditron_8', '223_1b1_Ar_sc_Meditron_9', '223_1b1_Pr_sc_Meditron_7', '223_1b1_Pr_sc_Meditron_8', '223_1b1_Pr_sc_Meditron_9', '104_1b1_Ar_sc_Litt3200_0', '104_1b1_Ar_sc_Litt3200_1', '104_1b1_Ar_sc_Litt3200_2', '104_1b1_Ar_sc_Litt3200_3', '104_1b1_Ar_sc_Litt3200_4', '104_1b1_Ar_sc_Litt3200_5', '104_1b1_Ar_sc_Litt3200_6', '104_1b1_Ar_sc_Litt3200_7', '104_1b1_Ar_sc_Litt3200_8', '104_1b1_Ar_sc_Litt3200_9', '103_2b2_Ar_mc_LittC2SE_0', '103_2b2_Ar_mc_LittC2SE_2', '103_2b2_Ar_mc_LittC2SE_3', '103_2b2_Ar_mc_LittC2SE_4', '106_2b1_Pr_mc_LittC2SE_0', '106_2b1_Pr_mc_LittC2SE_1', '106_2b1_Pr_mc_LittC2SE_3', '106_2b1_Pr_mc_LittC2SE_4', '106_2b1_Pr_mc_LittC2SE_5', '106_2b1_Pr_mc_LittC2SE_6', '106_2b1_Pr_mc_LittC2SE_7', '107_2b4_Al_mc_AKGC417L_4', '107_2b5_Ar_mc_AKGC417L_7', '107_3p2_Ar_mc_AKGC417L_0', '107_3p2_Ar_mc_AKGC417L_1', '107_3p2_Ar_mc_AKGC417L_2', '107_3p2_Ar_mc_AKGC417L_4', '107_3p2_Ar_mc_AKGC417L_8', '107_3p2_Tc_mc_AKGC417L_6', '107_3p2_Tc_mc_AKGC417L_7', '107_3p2_Lr_mc_AKGC417L_0', '107_3p2_Lr_mc_AKGC417L_1', '107_3p2_Lr_mc_AKGC417L_2', '107_3p2_Lr_mc_AKGC417L_3', '107_3p2_Lr_mc_AKGC417L_4', '110_1p1_Ll_sc_Meditron_0', '110_1p1_Ll_sc_Meditron_1', '110_1p1_Ll_sc_Meditron_4', '112_1b1_Lr_sc_Meditron_6', '112_1b1_Lr_sc_Meditron_7', '112_1b1_Lr_sc_Meditron_8', '112_1b1_Lr_sc_Meditron_9', '112_1b1_Lr_sc_Meditron_10', '112_1b1_Lr_sc_Meditron_11', '112_1p1_Pr_sc_Litt3200_1', '112_1p1_Pr_sc_Litt3200_2', '112_1p1_Pr_sc_Litt3200_3', '112_1p1_Pr_sc_Litt3200_4', '112_1p1_Pr_sc_Litt3200_5', '112_1p1_Pr_sc_Litt3200_6', '112_1p1_Pr_sc_Litt3200_7', '112_1p1_Pr_sc_Litt3200_8', '112_1p1_Pl_sc_Litt3200_6', '112_1p1_Pl_sc_Litt3200_7', '112_1p1_Pl_sc_Litt3200_8', '112_1p1_Ll_sc_Litt3200_3', '112_1p1_Ll_sc_Litt3200_4', '112_1p1_Ll_sc_Litt3200_5', '112_1p1_Ll_sc_Litt3200_7', '112_1p1_Ll_sc_Litt3200_8', '114_1b4_Al_mc_AKGC417L_0', '114_1b4_Ar_mc_AKGC417L_0', '114_1b4_Pr_mc_AKGC417L_0', '115_1b1_Ar_sc_Meditron_12', '116_1b2_Pl_sc_Meditron_1', '116_1b2_Pl_sc_Meditron_2', '118_1b1_Al_sc_Litt3200_1', '118_1b1_Al_sc_Litt3200_2', '118_1b1_Al_sc_Litt3200_3', '118_1b1_Al_sc_Litt3200_4', '118_1b1_Al_sc_Litt3200_5', '118_1b1_Al_sc_Litt3200_6', '118_1b1_Al_sc_Litt3200_7', '118_1b1_Ar_sc_Litt3200_0', '118_1b1_Ar_sc_Litt3200_1', '118_1b1_Ar_sc_Litt3200_2', '118_1b1_Ar_sc_Litt3200_3', '118_1b1_Ar_sc_Litt3200_4', '118_1b1_Ar_sc_Litt3200_5', '118_1b1_Ar_sc_Litt3200_6', '118_1b1_Ar_sc_Litt3200_7', '118_1b1_Ll_sc_Litt3200_1', '118_1b1_Ll_sc_Litt3200_3', '118_1b1_Pr_sc_Litt3200_1', '118_1b1_Pr_sc_Litt3200_2', '118_1b1_Pr_sc_Litt3200_3', '118_1b1_Lr_sc_Litt3200_0', '118_1b1_Lr_sc_Litt3200_1', '118_1b1_Lr_sc_Litt3200_2', '118_1b1_Lr_sc_Litt3200_3', '118_1b1_Lr_sc_Litt3200_4', '117_1b3_Tc_mc_LittC2SE_0', '117_1b3_Tc_mc_LittC2SE_1', '117_1b3_Tc_mc_LittC2SE_2', '117_1b3_Tc_mc_LittC2SE_3', '117_1b3_Tc_mc_LittC2SE_4', '122_2b1_Ar_mc_LittC2SE_1', '122_2b1_Tc_mc_LittC2SE_0', '122_2b1_Tc_mc_LittC2SE_1', '122_2b1_Tc_mc_LittC2SE_2', '122_2b1_Tc_mc_LittC2SE_3', '122_2b1_Tc_mc_LittC2SE_4', '122_2b1_Al_mc_LittC2SE_1', '122_2b1_Al_mc_LittC2SE_2', '122_2b3_Ar_mc_LittC2SE_1', '122_2b2_Tc_mc_LittC2SE_1', '122_2b2_Tc_mc_LittC2SE_2', '122_2b2_Tc_mc_LittC2SE_3', '122_2b2_Tc_mc_LittC2SE_4', '122_2b2_Tc_mc_LittC2SE_5', '122_2b3_Al_mc_LittC2SE_1', '124_1b1_Pl_sc_Litt3200_4', '124_1b1_Ar_sc_Litt3200_0', '124_1b1_Ar_sc_Litt3200_1', '124_1b1_Ar_sc_Litt3200_2', '124_1b1_Ar_sc_Litt3200_3', '124_1b1_Ar_sc_Litt3200_4', '124_1b1_Ar_sc_Litt3200_5', '124_1b1_Al_sc_Litt3200_1', '124_1b1_Al_sc_Litt3200_2', '124_1b1_Al_sc_Litt3200_3', '124_1b1_Al_sc_Litt3200_4', '124_1b1_Al_sc_Litt3200_5', '124_1b1_Al_sc_Litt3200_6', '130_1p2_Al_mc_AKGC417L_6', '130_1p3_Ar_mc_AKGC417L_0', '130_1p3_Ar_mc_AKGC417L_3', '130_1p3_Lr_mc_AKGC417L_0', '130_1p3_Lr_mc_AKGC417L_2', '130_1p3_Lr_mc_AKGC417L_4', '130_1p3_Pl_mc_AKGC417L_0', '130_1p3_Pl_mc_AKGC417L_1', '130_1p3_Pl_mc_AKGC417L_2', '130_1p3_Pl_mc_AKGC417L_3', '130_1p3_Pl_mc_AKGC417L_4', '130_1p3_Ll_mc_AKGC417L_0', '130_1p3_Ll_mc_AKGC417L_1', '130_1p3_Ll_mc_AKGC417L_3', '130_1p3_Ll_mc_AKGC417L_4', '130_1p4_Al_mc_AKGC417L_0', '130_1p4_Al_mc_AKGC417L_1', '130_1p4_Al_mc_AKGC417L_2', '130_1p4_Al_mc_AKGC417L_3', '130_1p4_Al_mc_AKGC417L_4', '130_1p4_Al_mc_AKGC417L_5', '130_1p4_Al_mc_AKGC417L_6', '130_1p4_Ll_mc_AKGC417L_0', '130_1p4_Ll_mc_AKGC417L_1', '130_1p4_Ll_mc_AKGC417L_2', '130_1p4_Ll_mc_AKGC417L_3', '130_1p4_Ll_mc_AKGC417L_4', '130_1p4_Ll_mc_AKGC417L_5', '130_1p4_Ll_mc_AKGC417L_6', '130_1p3_Pr_mc_AKGC417L_0', '130_1p3_Pr_mc_AKGC417L_2', '130_1p3_Tc_mc_AKGC417L_0', '130_1p3_Tc_mc_AKGC417L_1', '130_1p3_Tc_mc_AKGC417L_2', '130_1p3_Tc_mc_AKGC417L_3', '130_1p3_Tc_mc_AKGC417L_4', '130_1p4_Ar_mc_AKGC417L_0', '130_1p4_Ar_mc_AKGC417L_1', '130_1p4_Ar_mc_AKGC417L_2', '130_1p4_Ar_mc_AKGC417L_3', '130_1p4_Ar_mc_AKGC417L_5', '130_1p4_Lr_mc_AKGC417L_1', '130_1p4_Lr_mc_AKGC417L_2', '130_1p4_Lr_mc_AKGC417L_3', '130_1p4_Lr_mc_AKGC417L_4', '130_1p4_Lr_mc_AKGC417L_5', '130_1p4_Pl_mc_AKGC417L_0', '130_1p4_Pl_mc_AKGC417L_1', '130_1p4_Pl_mc_AKGC417L_2', '130_1p4_Pl_mc_AKGC417L_3', '130_1p4_Pl_mc_AKGC417L_4', '130_1p4_Pl_mc_AKGC417L_6', '130_1p4_Tc_mc_AKGC417L_0', '130_1p4_Tc_mc_AKGC417L_1', '130_1p4_Tc_mc_AKGC417L_2', '130_1p4_Tc_mc_AKGC417L_3', '130_1p4_Tc_mc_AKGC417L_4', '130_1p4_Tc_mc_AKGC417L_5', '130_1p4_Tc_mc_AKGC417L_7', '130_2b4_Pl_mc_AKGC417L_5', '131_1b1_Al_sc_Meditron_2', '131_1b1_Al_sc_Meditron_9', '133_2p4_Al_mc_AKGC417L_5', '133_2p4_Al_mc_AKGC417L_6', '133_3p2_Ar_mc_AKGC417L_1', '133_3p2_Ar_mc_AKGC417L_2', '133_3p2_Ar_mc_AKGC417L_3', '133_3p2_Ar_mc_AKGC417L_4', '133_3p2_Ar_mc_AKGC417L_5', '133_3p2_Ar_mc_AKGC417L_6', '133_2p4_Tc_mc_AKGC417L_5', '133_2p4_Tc_mc_AKGC417L_6', '133_3p2_Al_mc_AKGC417L_1', '133_3p2_Al_mc_AKGC417L_3', '133_3p2_Al_mc_AKGC417L_4', '133_3p2_Al_mc_AKGC417L_5', '133_3p2_Al_mc_AKGC417L_6', '133_3p2_Al_mc_AKGC417L_7', '133_3p2_Pl_mc_AKGC417L_1', '133_3p2_Pl_mc_AKGC417L_3', '133_3p2_Pl_mc_AKGC417L_5', '133_3p2_Pl_mc_AKGC417L_6', '133_3p2_Pr_mc_AKGC417L_0', '133_3p2_Pr_mc_AKGC417L_1', '133_3p2_Pr_mc_AKGC417L_3', '133_3p2_Pr_mc_AKGC417L_4', '133_3p2_Pr_mc_AKGC417L_5', '133_3p2_Pr_mc_AKGC417L_7', '133_3p4_Tc_mc_AKGC417L_0', '133_3p4_Tc_mc_AKGC417L_2', '133_3p4_Tc_mc_AKGC417L_3', '133_3p4_Tc_mc_AKGC417L_4', '133_3p4_Tc_mc_AKGC417L_5', '133_3p4_Tc_mc_AKGC417L_6', '134_2b3_Ar_mc_LittC2SE_3', '138_1p2_Al_mc_AKGC417L_0', '138_1p2_Tc_mc_AKGC417L_3', '138_1p3_Pl_mc_AKGC417L_0', '138_1p3_Tc_mc_AKGC417L_1', '139_1b1_Pl_sc_Litt3200_0', '139_1b1_Pl_sc_Litt3200_1', '139_1b1_Pl_sc_Litt3200_2', '203_1p2_Ar_mc_AKGC417L_3', '203_1p2_Al_mc_AKGC417L_8', '203_1p2_Ar_mc_AKGC417L_6', '203_1p2_Ar_mc_AKGC417L_4', '203_1p2_Ar_mc_AKGC417L_2', '203_1p2_Lr_mc_AKGC417L_9', '203_1p2_Lr_mc_AKGC417L_5', '203_1p2_Ar_mc_AKGC417L_7', '203_1p2_Pr_mc_AKGC417L_1', '203_1p2_Ar_mc_AKGC417L_1', '203_1p2_Pr_mc_AKGC417L_7', '203_1p2_Ar_mc_AKGC417L_0', '203_1p2_Lr_mc_AKGC417L_4', '203_1p2_Ar_mc_AKGC417L_5', '203_1p2_Lr_mc_AKGC417L_2', '158_2p3_Lr_mc_AKGC417L_5', '158_1p4_Tc_mc_AKGC417L_7', '158_1p4_Pl_mc_AKGC417L_5', '158_1p4_Tc_mc_AKGC417L_0', '158_2p2_Ar_mc_AKGC417L_5', '158_1p4_Tc_mc_AKGC417L_4', '158_2p3_Lr_mc_AKGC417L_0', '158_2p3_Lr_mc_AKGC417L_3', '158_2p2_Ar_mc_AKGC417L_6', '158_2p2_Ar_mc_AKGC417L_0', '158_2p2_Ar_mc_AKGC417L_7', '158_2p3_Lr_mc_AKGC417L_1', '158_2p3_Lr_mc_AKGC417L_4', '158_2p2_Ar_mc_AKGC417L_8', '158_1p4_Tc_mc_AKGC417L_1', '205_4b2_Ar_mc_AKGC417L_4', '205_4b2_Ar_mc_AKGC417L_1', '205_2b4_Pl_mc_AKGC417L_2', '205_4b2_Ar_mc_AKGC417L_2', '205_2b4_Pl_mc_AKGC417L_4', '205_3b4_Al_mc_AKGC417L_2', '205_2b4_Pl_mc_AKGC417L_1', '205_3b4_Al_mc_AKGC417L_3', '205_2b4_Pl_mc_AKGC417L_3', '205_3b4_Al_mc_AKGC417L_1', '205_4b2_Ar_mc_AKGC417L_0', '205_4b2_Pr_mc_AKGC417L_0', '205_3b4_Pl_mc_AKGC417L_3', '205_3b4_Pl_mc_AKGC417L_1', '205_3b4_Al_mc_AKGC417L_0', '130_3p2_Tc_mc_AKGC417L_1', '130_3p2_Tc_mc_AKGC417L_2', '130_3p2_Tc_mc_AKGC417L_3', '130_3p2_Tc_mc_AKGC417L_4', '130_3p2_Tc_mc_AKGC417L_5', '130_3p2_Tc_mc_AKGC417L_6', '130_3p2_Pr_mc_AKGC417L_0', '130_3p2_Pr_mc_AKGC417L_1', '130_3p2_Pr_mc_AKGC417L_2', '130_3p2_Pr_mc_AKGC417L_3', '130_3p2_Pr_mc_AKGC417L_4', '130_3p2_Pr_mc_AKGC417L_5', '130_3p2_Pr_mc_AKGC417L_6', '130_3p2_Pl_mc_AKGC417L_0', '130_3p2_Pl_mc_AKGC417L_1', '130_3p2_Pl_mc_AKGC417L_2', '130_3p2_Pl_mc_AKGC417L_3', '130_3p2_Pl_mc_AKGC417L_4', '130_3p2_Pl_mc_AKGC417L_5', '130_3p2_Pl_mc_AKGC417L_6', '130_3p2_Ar_mc_AKGC417L_1', '130_3p2_Ar_mc_AKGC417L_3', '130_3p2_Ar_mc_AKGC417L_4', '130_3p3_Tc_mc_AKGC417L_1', '130_3p3_Tc_mc_AKGC417L_2', '130_3p3_Tc_mc_AKGC417L_3', '130_3p3_Tc_mc_AKGC417L_4', '130_3p3_Tc_mc_AKGC417L_5', '130_3p4_Al_mc_AKGC417L_2', '130_3p4_Al_mc_AKGC417L_3', '130_3p4_Al_mc_AKGC417L_4', '130_3p4_Al_mc_AKGC417L_6', '130_3p3_Pl_mc_AKGC417L_0', '130_3p3_Pl_mc_AKGC417L_1', '130_3p3_Pl_mc_AKGC417L_2', '130_3p3_Pl_mc_AKGC417L_3', '130_3p3_Pl_mc_AKGC417L_4', '130_3p3_Pl_mc_AKGC417L_5', '130_3p3_Al_mc_AKGC417L_0', '130_3p3_Al_mc_AKGC417L_1', '130_3p3_Al_mc_AKGC417L_2', '130_3p3_Al_mc_AKGC417L_3', '130_3p3_Al_mc_AKGC417L_4', '130_3p3_Al_mc_AKGC417L_5', '130_3p3_Pr_mc_AKGC417L_0', '130_3p3_Pr_mc_AKGC417L_1', '130_3p3_Pr_mc_AKGC417L_2', '130_3p3_Pr_mc_AKGC417L_4', '130_3p3_Pr_mc_AKGC417L_5', '130_3p3_Pr_mc_AKGC417L_6', '130_3p4_Tc_mc_AKGC417L_5', '130_3p4_Tc_mc_AKGC417L_6', '130_3p4_Tc_mc_AKGC417L_7', '130_3p4_Pr_mc_AKGC417L_2', '130_3p4_Pr_mc_AKGC417L_3', '130_3p4_Pr_mc_AKGC417L_4', '130_3p4_Pr_mc_AKGC417L_5', '130_3p4_Pr_mc_AKGC417L_6', '130_3p4_Pr_mc_AKGC417L_7', '130_3p4_Pl_mc_AKGC417L_0', '130_3p4_Pl_mc_AKGC417L_1', '130_3p4_Pl_mc_AKGC417L_5', '130_3p4_Pl_mc_AKGC417L_6', '130_3p4_Pl_mc_AKGC417L_7', '129_1b1_Ar_sc_Meditron_1', '129_1b1_Ar_sc_Meditron_3', '129_1b1_Ar_sc_Meditron_4', '129_1b1_Ar_sc_Meditron_5', '129_1b1_Ar_sc_Meditron_6', '133_2p2_Pl_mc_AKGC417L_0', '133_2p2_Pl_mc_AKGC417L_1', '133_2p2_Pl_mc_AKGC417L_2', '133_2p2_Pl_mc_AKGC417L_3', '133_2p2_Pl_mc_AKGC417L_4', '133_2p2_Pl_mc_AKGC417L_5', '133_2p2_Pl_mc_AKGC417L_6', '133_2p2_Pl_mc_AKGC417L_7', '133_2p2_Al_mc_AKGC417L_3', '133_2p2_Al_mc_AKGC417L_4', '133_2p2_Tc_mc_AKGC417L_2', '133_2p2_Tc_mc_AKGC417L_5', '133_2p3_Pl_mc_AKGC417L_0', '133_2p3_Pl_mc_AKGC417L_1', '133_2p3_Pl_mc_AKGC417L_3', '133_2p3_Pl_mc_AKGC417L_4', '133_2p3_Pl_mc_AKGC417L_5', '133_2p3_Pl_mc_AKGC417L_6', '133_2p3_Pr_mc_AKGC417L_4', '133_2p3_Tc_mc_AKGC417L_4', '133_2p3_Tc_mc_AKGC417L_6', '133_2p4_Ar_mc_AKGC417L_0', '133_2p4_Pl_mc_AKGC417L_0', '133_2p4_Pl_mc_AKGC417L_1', '133_2p4_Pl_mc_AKGC417L_2', '133_2p4_Pl_mc_AKGC417L_3', '133_2p4_Pl_mc_AKGC417L_4', '133_2p4_Pl_mc_AKGC417L_5', '133_2p4_Pl_mc_AKGC417L_6', '133_2p4_Pl_mc_AKGC417L_7', '133_2p4_Tc_mc_AKGC417L_1', '133_2p4_Pr_mc_AKGC417L_0', '132_2b2_Lr_mc_LittC2SE_1', '132_2b2_Lr_mc_LittC2SE_2', '132_2b2_Lr_mc_LittC2SE_3', '132_2b2_Lr_mc_LittC2SE_4', '132_2b2_Lr_mc_LittC2SE_5', '132_2b2_Lr_mc_LittC2SE_6', '132_2b2_Lr_mc_LittC2SE_7', '132_2b2_Lr_mc_LittC2SE_8', '132_2b2_Lr_mc_LittC2SE_9', '132_2b1_Lr_mc_LittC2SE_0', '132_2b1_Lr_mc_LittC2SE_1', '132_2b1_Lr_mc_LittC2SE_3', '132_2b1_Lr_mc_LittC2SE_4', '132_2b1_Lr_mc_LittC2SE_5', '132_2b1_Lr_mc_LittC2SE_6', '132_2b1_Lr_mc_LittC2SE_7', '132_2b1_Lr_mc_LittC2SE_8', '135_2b1_Pl_mc_LittC2SE_0', '135_2b1_Pl_mc_LittC2SE_1', '135_2b1_Pl_mc_LittC2SE_2', '135_2b1_Pl_mc_LittC2SE_3', '135_2b1_Pl_mc_LittC2SE_4', '138_1p2_Ll_mc_AKGC417L_0', '138_1p2_Ll_mc_AKGC417L_1', '138_1p2_Ll_mc_AKGC417L_2', '138_1p2_Ll_mc_AKGC417L_3', '138_1p2_Ll_mc_AKGC417L_4', '138_1p2_Ar_mc_AKGC417L_0', '138_1p2_Ar_mc_AKGC417L_1', '138_1p2_Lr_mc_AKGC417L_1', '138_1p2_Lr_mc_AKGC417L_2', '138_1p2_Lr_mc_AKGC417L_3', '138_1p2_Lr_mc_AKGC417L_4', '138_1p2_Al_mc_AKGC417L_1', '138_1p2_Al_mc_AKGC417L_2', '138_1p2_Al_mc_AKGC417L_3', '138_1p2_Al_mc_AKGC417L_4', '138_1p2_Pr_mc_AKGC417L_2', '138_1p2_Pr_mc_AKGC417L_3', '138_1p2_Pr_mc_AKGC417L_4', '138_1p2_Pl_mc_AKGC417L_1', '138_1p2_Pl_mc_AKGC417L_2', '138_1p2_Pl_mc_AKGC417L_3', '138_1p2_Pl_mc_AKGC417L_4', '138_1p3_Ar_mc_AKGC417L_0', '138_1p3_Ar_mc_AKGC417L_1', '138_1p3_Ar_mc_AKGC417L_2', '138_1p3_Ar_mc_AKGC417L_3', '138_1p3_Ar_mc_AKGC417L_4', '138_1p3_Ll_mc_AKGC417L_0', '138_1p3_Ll_mc_AKGC417L_1', '138_1p3_Ll_mc_AKGC417L_2', '138_1p3_Ll_mc_AKGC417L_3', '138_1p3_Ll_mc_AKGC417L_4', '138_1p3_Pr_mc_AKGC417L_0', '138_1p3_Pr_mc_AKGC417L_1', '138_1p3_Pr_mc_AKGC417L_2', '138_1p3_Pr_mc_AKGC417L_3', '138_1p3_Pr_mc_AKGC417L_4', '138_1p3_Pl_mc_AKGC417L_1', '138_1p3_Pl_mc_AKGC417L_2', '138_1p3_Pl_mc_AKGC417L_3', '138_1p3_Pl_mc_AKGC417L_4', '138_1p3_Lr_mc_AKGC417L_0', '138_1p3_Lr_mc_AKGC417L_1', '138_1p3_Lr_mc_AKGC417L_2', '138_1p3_Lr_mc_AKGC417L_3', '138_1p3_Lr_mc_AKGC417L_4', '138_1p4_Lr_mc_AKGC417L_0', '138_1p4_Lr_mc_AKGC417L_1', '138_1p4_Lr_mc_AKGC417L_2', '138_1p4_Lr_mc_AKGC417L_3', '138_1p4_Lr_mc_AKGC417L_4', '138_1p3_Tc_mc_AKGC417L_0', '138_1p3_Tc_mc_AKGC417L_2', '138_1p4_Ll_mc_AKGC417L_0', '138_1p4_Ll_mc_AKGC417L_1', '138_1p4_Ll_mc_AKGC417L_2', '138_1p4_Ll_mc_AKGC417L_4', '138_1p4_Ar_mc_AKGC417L_0', '138_1p4_Ar_mc_AKGC417L_1', '138_1p4_Ar_mc_AKGC417L_2', '138_1p4_Ar_mc_AKGC417L_3', '138_1p4_Pr_mc_AKGC417L_0', '138_1p4_Pr_mc_AKGC417L_1', '138_1p4_Pr_mc_AKGC417L_2', '138_1p4_Pr_mc_AKGC417L_3', '138_1p4_Pr_mc_AKGC417L_4', '138_1p4_Pl_mc_AKGC417L_1', '138_1p4_Pl_mc_AKGC417L_2', '138_1p4_Pl_mc_AKGC417L_3', '138_2p2_Ar_mc_AKGC417L_1', '138_2p2_Ar_mc_AKGC417L_3', '138_2p2_Ar_mc_AKGC417L_4', '138_2p2_Ar_mc_AKGC417L_5', '138_2p2_Al_mc_AKGC417L_0', '138_2p2_Al_mc_AKGC417L_1', '138_2p2_Al_mc_AKGC417L_2', '138_2p2_Al_mc_AKGC417L_3', '138_2p2_Al_mc_AKGC417L_4', '138_2p2_Al_mc_AKGC417L_5', '138_2p2_Al_mc_AKGC417L_6', '138_2p2_Pr_mc_AKGC417L_0', '138_2p2_Pr_mc_AKGC417L_1', '138_2p2_Pr_mc_AKGC417L_3', '138_2p2_Pr_mc_AKGC417L_4', '138_2p2_Pr_mc_AKGC417L_5', '138_2p2_Lr_mc_AKGC417L_0', '138_2p2_Lr_mc_AKGC417L_2', '138_2p2_Lr_mc_AKGC417L_3', '138_2p2_Lr_mc_AKGC417L_4', '138_2p2_Lr_mc_AKGC417L_6', '138_2p2_Ll_mc_AKGC417L_2', '138_2p2_Pl_mc_AKGC417L_0', '138_2p2_Pl_mc_AKGC417L_1', '138_2p2_Pl_mc_AKGC417L_2', '138_2p2_Pl_mc_AKGC417L_3', '138_2p2_Pl_mc_AKGC417L_4', '138_2p2_Pl_mc_AKGC417L_5', '138_2p2_Tc_mc_AKGC417L_0', '138_2p2_Tc_mc_AKGC417L_2', '138_2p2_Tc_mc_AKGC417L_4', '139_1b1_Lr_sc_Litt3200_1', '139_1b1_Lr_sc_Litt3200_2', '139_1b1_Lr_sc_Litt3200_3', '140_2b2_Ll_mc_LittC2SE_6', '140_2b2_Tc_mc_LittC2SE_1', '142_1b1_Pl_mc_LittC2SE_0', '142_1b1_Pl_mc_LittC2SE_1', '142_1b1_Pl_mc_LittC2SE_2', '142_1b1_Pl_mc_LittC2SE_3', '142_1b1_Pl_mc_LittC2SE_4', '142_1b1_Pl_mc_LittC2SE_5', '142_1b1_Pl_mc_LittC2SE_6', '142_1b1_Pl_mc_LittC2SE_7', '142_1b1_Pl_mc_LittC2SE_8', '145_2b2_Ar_mc_AKGC417L_0', '145_2b2_Ar_mc_AKGC417L_2', '145_2b2_Ar_mc_AKGC417L_3', '145_3b2_Lr_mc_AKGC417L_0', '145_3b2_Lr_mc_AKGC417L_1', '145_3b2_Lr_mc_AKGC417L_2', '145_3b2_Lr_mc_AKGC417L_3', '145_3b2_Lr_mc_AKGC417L_4', '145_3b2_Lr_mc_AKGC417L_5', '146_8p3_Ar_mc_AKGC417L_1', '146_8p3_Ar_mc_AKGC417L_2', '146_8p3_Ar_mc_AKGC417L_3', '146_8p3_Ar_mc_AKGC417L_4', '146_8p3_Ar_mc_AKGC417L_5', '146_8p3_Ar_mc_AKGC417L_6', '147_1b3_Tc_mc_AKGC417L_2', '147_1b3_Tc_mc_AKGC417L_3', '149_1b1_Al_sc_Meditron_7', '149_1b1_Lr_sc_Meditron_8', '149_1b1_Lr_sc_Meditron_9', '149_1b1_Pl_sc_Meditron_9', '151_2p2_Lr_mc_AKGC417L_3', '151_2p2_Al_mc_AKGC417L_4', '151_2p2_Ll_mc_AKGC417L_3', '151_2p2_Ll_mc_AKGC417L_4', '151_2p3_Ar_mc_AKGC417L_1', '151_2p3_Ar_mc_AKGC417L_3', '151_2p3_Ar_mc_AKGC417L_4', '151_2p3_Ar_mc_AKGC417L_5', '151_2p4_Al_mc_AKGC417L_2', '151_2p4_Al_mc_AKGC417L_3', '151_2p4_Ar_mc_AKGC417L_0', '151_2p4_Ll_mc_AKGC417L_5', '151_3p2_Al_mc_AKGC417L_0', '151_3p2_Al_mc_AKGC417L_2', '151_3p2_Al_mc_AKGC417L_3', '151_3p2_Al_mc_AKGC417L_4', '151_3p2_Pl_mc_AKGC417L_0', '151_3p2_Pl_mc_AKGC417L_2', '151_3p2_Pl_mc_AKGC417L_3', '151_3p2_Pl_mc_AKGC417L_4', '151_3p2_Pl_mc_AKGC417L_5', '151_3p2_Ar_mc_AKGC417L_0', '151_3p2_Ar_mc_AKGC417L_2', '151_3p2_Ar_mc_AKGC417L_3', '151_3p2_Ar_mc_AKGC417L_4', '151_3p3_Ll_mc_AKGC417L_0', '151_3p3_Ll_mc_AKGC417L_3', '151_3p3_Ll_mc_AKGC417L_4', '150_1b2_Al_sc_Meditron_0', '150_1b2_Al_sc_Meditron_1', '150_1b2_Al_sc_Meditron_2', '150_1b2_Al_sc_Meditron_3', '150_1b2_Al_sc_Meditron_5', '150_1b2_Al_sc_Meditron_6', '150_1b2_Al_sc_Meditron_7', '150_1b2_Al_sc_Meditron_8', '150_1b2_Al_sc_Meditron_10', '154_1b3_Al_mc_AKGC417L_0', '154_1b3_Al_mc_AKGC417L_1', '154_1b3_Al_mc_AKGC417L_2', '154_1b3_Al_mc_AKGC417L_3', '154_1b3_Al_mc_AKGC417L_6', '154_1b3_Al_mc_AKGC417L_7', '154_1b3_Al_mc_AKGC417L_9', '154_1b3_Al_mc_AKGC417L_10', '154_1b3_Al_mc_AKGC417L_11', '154_1b3_Ar_mc_AKGC417L_5', '154_1b3_Pl_mc_AKGC417L_0', '154_1b3_Pl_mc_AKGC417L_1', '154_1b3_Pl_mc_AKGC417L_2', '154_1b3_Pl_mc_AKGC417L_3', '154_1b3_Pl_mc_AKGC417L_4', '154_1b3_Pl_mc_AKGC417L_5', '154_1b3_Pl_mc_AKGC417L_6', '154_1b3_Pl_mc_AKGC417L_7', '154_1b3_Pl_mc_AKGC417L_8', '154_1b3_Pl_mc_AKGC417L_9', '154_1b3_Pr_mc_AKGC417L_0', '154_1b3_Pr_mc_AKGC417L_2', '154_1b3_Pr_mc_AKGC417L_3', '154_1b3_Pr_mc_AKGC417L_4', '154_1b3_Pr_mc_AKGC417L_5', '154_1b3_Pr_mc_AKGC417L_9', '154_1b3_Pr_mc_AKGC417L_10', '154_1b3_Pr_mc_AKGC417L_11', '154_1b3_Lr_mc_AKGC417L_0', '154_1b3_Lr_mc_AKGC417L_5', '154_1b3_Ll_mc_AKGC417L_0', '154_1b3_Ll_mc_AKGC417L_1', '154_1b3_Ll_mc_AKGC417L_2', '154_1b3_Ll_mc_AKGC417L_3', '154_1b3_Ll_mc_AKGC417L_4', '154_1b3_Ll_mc_AKGC417L_5', '154_1b3_Ll_mc_AKGC417L_6', '154_1b3_Ll_mc_AKGC417L_7', '154_1b3_Ll_mc_AKGC417L_8', '154_1b3_Ll_mc_AKGC417L_9', '154_1b3_Ll_mc_AKGC417L_10', '154_2b4_Ll_mc_AKGC417L_0', '154_2b4_Ll_mc_AKGC417L_1', '154_2b4_Ll_mc_AKGC417L_2', '154_2b4_Ll_mc_AKGC417L_3', '154_2b4_Ll_mc_AKGC417L_4', '154_2b4_Ll_mc_AKGC417L_5', '154_2b4_Ll_mc_AKGC417L_6', '154_2b4_Al_mc_AKGC417L_2', '154_2b4_Al_mc_AKGC417L_3', '154_2b4_Al_mc_AKGC417L_4', '154_2b4_Al_mc_AKGC417L_5', '154_2b4_Al_mc_AKGC417L_6', '154_2b4_Lr_mc_AKGC417L_0', '154_2b4_Lr_mc_AKGC417L_1', '154_2b4_Lr_mc_AKGC417L_2', '154_2b4_Lr_mc_AKGC417L_3', '154_2b4_Lr_mc_AKGC417L_4', '154_2b4_Lr_mc_AKGC417L_5', '154_2b4_Lr_mc_AKGC417L_6', '154_2b4_Ar_mc_AKGC417L_4', '154_2b4_Ar_mc_AKGC417L_5', '154_3b3_Al_mc_AKGC417L_2', '154_3b3_Al_mc_AKGC417L_4', '154_2b4_Pl_mc_AKGC417L_0', '154_2b4_Pl_mc_AKGC417L_1', '154_2b4_Pl_mc_AKGC417L_2', '154_2b4_Pl_mc_AKGC417L_3', '154_2b4_Pl_mc_AKGC417L_4', '154_2b4_Pl_mc_AKGC417L_5', '154_2b4_Pl_mc_AKGC417L_6', '154_2b4_Pr_mc_AKGC417L_2', '154_2b4_Pr_mc_AKGC417L_5', '154_4b4_Al_mc_AKGC417L_0', '154_4b4_Al_mc_AKGC417L_2', '154_4b4_Al_mc_AKGC417L_3', '154_4b4_Al_mc_AKGC417L_4', '154_4b4_Al_mc_AKGC417L_5', '154_4b4_Al_mc_AKGC417L_7', '154_4b4_Al_mc_AKGC417L_8', '154_3b3_Ll_mc_AKGC417L_0', '154_3b3_Ll_mc_AKGC417L_1', '154_3b3_Ll_mc_AKGC417L_2', '154_3b3_Ll_mc_AKGC417L_3', '154_3b3_Ar_mc_AKGC417L_1', '154_3b3_Ar_mc_AKGC417L_2', '154_3b3_Ar_mc_AKGC417L_3', '154_3b3_Ar_mc_AKGC417L_4', '154_4b4_Ar_mc_AKGC417L_0', '154_4b4_Ar_mc_AKGC417L_1', '154_4b4_Ar_mc_AKGC417L_2', '154_4b4_Ar_mc_AKGC417L_3', '154_4b4_Ar_mc_AKGC417L_5', '154_4b4_Ar_mc_AKGC417L_6', '154_4b4_Ar_mc_AKGC417L_8', '154_4b4_Pl_mc_AKGC417L_0', '154_4b4_Pl_mc_AKGC417L_1', '154_4b4_Pl_mc_AKGC417L_2', '154_4b4_Pl_mc_AKGC417L_7', '154_4b4_Pl_mc_AKGC417L_8', '154_4b4_Lr_mc_AKGC417L_0', '154_4b4_Lr_mc_AKGC417L_1', '154_4b4_Lr_mc_AKGC417L_2', '154_4b4_Lr_mc_AKGC417L_3', '154_4b4_Lr_mc_AKGC417L_4', '154_4b4_Lr_mc_AKGC417L_5', '154_4b4_Lr_mc_AKGC417L_6', '154_4b4_Lr_mc_AKGC417L_7', '154_4b4_Lr_mc_AKGC417L_8', '154_4b4_Pr_mc_AKGC417L_0', '154_4b4_Pr_mc_AKGC417L_7', '156_2b3_Al_mc_AKGC417L_2', '156_2b3_Lr_mc_AKGC417L_2', '156_2b3_Lr_mc_AKGC417L_3', '156_2b3_Lr_mc_AKGC417L_4', '156_2b3_Ar_mc_AKGC417L_2', '156_2b3_Pr_mc_AKGC417L_4', '156_2b3_Pr_mc_AKGC417L_5', '156_8b3_Ar_mc_AKGC417L_0', '156_5b3_Pl_mc_AKGC417L_6', '156_5b3_Pl_mc_AKGC417L_8', '156_8b3_Ll_mc_AKGC417L_0', '156_8b3_Pl_mc_AKGC417L_0', '156_8b3_Pl_mc_AKGC417L_5', '157_1b1_Al_sc_Meditron_7', '157_1b1_Al_sc_Meditron_11', '157_1b1_Lr_sc_Meditron_0', '157_1b1_Lr_sc_Meditron_1', '157_1b1_Lr_sc_Meditron_3', '157_1b1_Lr_sc_Meditron_4', '157_1b1_Lr_sc_Meditron_5', '157_1b1_Lr_sc_Meditron_6', '157_1b1_Lr_sc_Meditron_7', '157_1b1_Pl_sc_Meditron_6', '157_1b1_Pl_sc_Meditron_7', '157_1b1_Pl_sc_Meditron_10', '157_1b1_Pl_sc_Meditron_11', '157_1b1_Pr_sc_Meditron_0', '157_1b1_Pr_sc_Meditron_1', '157_1b1_Pr_sc_Meditron_2', '157_1b1_Pr_sc_Meditron_3', '157_1b1_Pr_sc_Meditron_4', '157_1b1_Pr_sc_Meditron_6', '157_1b1_Pr_sc_Meditron_11', '157_1b1_Pr_sc_Meditron_12', '157_1b1_Pr_sc_Meditron_13', '157_1b1_Pr_sc_Meditron_14', '158_1b3_Ar_mc_LittC2SE_3', '158_1b3_Ar_mc_LittC2SE_5', '158_1b3_Ar_mc_LittC2SE_6', '158_1b3_Ar_mc_LittC2SE_7', '158_1b3_Ar_mc_LittC2SE_8', '158_1b3_Ar_mc_LittC2SE_9', '158_1p2_Tc_mc_AKGC417L_0', '158_1p2_Tc_mc_AKGC417L_1', '158_1p2_Pl_mc_AKGC417L_2', '158_1p2_Pr_mc_AKGC417L_0', '158_1p2_Pr_mc_AKGC417L_6', '158_1p2_Ll_mc_AKGC417L_0', '158_1p2_Ll_mc_AKGC417L_1', '158_1p2_Ll_mc_AKGC417L_2', '158_1p2_Ll_mc_AKGC417L_4', '158_1p2_Ll_mc_AKGC417L_5', '158_1p3_Ll_mc_AKGC417L_3', '158_1p3_Al_mc_AKGC417L_3', '158_1p4_Ar_mc_AKGC417L_1', '158_1p4_Ar_mc_AKGC417L_2', '158_1p4_Ar_mc_AKGC417L_4', '158_1p4_Ar_mc_AKGC417L_5', '158_1p4_Ar_mc_AKGC417L_7', '158_1p4_Ar_mc_AKGC417L_8', '158_1p4_Al_mc_AKGC417L_2', '158_1p4_Al_mc_AKGC417L_4', '158_1p4_Al_mc_AKGC417L_5', '158_1p4_Pl_mc_AKGC417L_2', '158_1p4_Pl_mc_AKGC417L_4', '158_2p3_Lr_mc_AKGC417L_6', '158_2p3_Lr_mc_AKGC417L_7', '176_2b3_Al_mc_AKGC417L_5', '176_2b3_Al_mc_AKGC417L_6', '176_2b3_Lr_mc_AKGC417L_1', '176_2b3_Lr_mc_AKGC417L_2', '176_2b3_Lr_mc_AKGC417L_3', '176_2b3_Lr_mc_AKGC417L_4', '176_2b3_Lr_mc_AKGC417L_5', '176_2b3_Lr_mc_AKGC417L_6', '176_2b3_Ll_mc_AKGC417L_0', '176_2b3_Ll_mc_AKGC417L_1', '176_2b3_Ll_mc_AKGC417L_2', '176_2b3_Ll_mc_AKGC417L_3', '176_2b3_Ll_mc_AKGC417L_4', '176_2b3_Ll_mc_AKGC417L_5', '176_2b3_Ll_mc_AKGC417L_6', '176_2b3_Ar_mc_AKGC417L_1', '176_2b3_Ar_mc_AKGC417L_2', '176_2b3_Ar_mc_AKGC417L_3', '176_2b3_Ar_mc_AKGC417L_4', '176_2b3_Ar_mc_AKGC417L_5', '176_2b3_Ar_mc_AKGC417L_6', '176_2b3_Tc_mc_AKGC417L_0', '176_2b3_Tc_mc_AKGC417L_1', '176_2b3_Tc_mc_AKGC417L_2', '176_2b3_Tc_mc_AKGC417L_3', '176_2b3_Tc_mc_AKGC417L_4', '176_2b3_Tc_mc_AKGC417L_5', '176_2b3_Tc_mc_AKGC417L_6', '176_2b3_Pr_mc_AKGC417L_1', '176_2b3_Pr_mc_AKGC417L_2', '176_2b3_Pr_mc_AKGC417L_3', '176_2b3_Pr_mc_AKGC417L_4', '176_2b3_Pr_mc_AKGC417L_5', '176_2b3_Pr_mc_AKGC417L_6', '176_2b3_Pl_mc_AKGC417L_0', '176_2b3_Pl_mc_AKGC417L_1', '176_2b3_Pl_mc_AKGC417L_2', '176_2b3_Pl_mc_AKGC417L_3', '176_2b3_Pl_mc_AKGC417L_4', '176_2b3_Pl_mc_AKGC417L_5', '176_2b3_Pl_mc_AKGC417L_6', '177_1b2_Ar_mc_AKGC417L_0', '177_1b2_Ar_mc_AKGC417L_3', '177_1b2_Al_mc_AKGC417L_0', '177_1b2_Al_mc_AKGC417L_1', '177_1b2_Al_mc_AKGC417L_2', '177_1b2_Al_mc_AKGC417L_3', '177_1b2_Pl_mc_AKGC417L_0', '177_1b2_Pl_mc_AKGC417L_1', '177_1b2_Pl_mc_AKGC417L_2', '177_1b2_Pl_mc_AKGC417L_3', '177_1b2_Pr_mc_AKGC417L_0', '177_1b2_Lr_mc_AKGC417L_0', '177_1b2_Lr_mc_AKGC417L_1', '177_1b4_Pl_mc_AKGC417L_0', '177_1b4_Pl_mc_AKGC417L_1', '177_1b4_Pl_mc_AKGC417L_2', '177_1b4_Pl_mc_AKGC417L_3', '177_1b4_Pl_mc_AKGC417L_4', '177_1b4_Al_mc_AKGC417L_0', '177_1b4_Al_mc_AKGC417L_1', '177_1b4_Al_mc_AKGC417L_2', '177_1b4_Al_mc_AKGC417L_3', '177_1b4_Al_mc_AKGC417L_4', '177_2b4_Al_mc_AKGC417L_1', '177_2b4_Al_mc_AKGC417L_2', '177_2b4_Al_mc_AKGC417L_3', '177_2b4_Lr_mc_AKGC417L_0', '177_2b4_Lr_mc_AKGC417L_2', '177_2b4_Lr_mc_AKGC417L_3', '177_2b4_Lr_mc_AKGC417L_4', '177_2b4_Pr_mc_AKGC417L_0', '177_2b4_Pr_mc_AKGC417L_1', '178_1b2_Pl_mc_AKGC417L_5', '178_1b2_Pl_mc_AKGC417L_6', '178_1b2_Pl_mc_AKGC417L_7', '178_1b2_Pl_mc_AKGC417L_8', '178_1b2_Pl_mc_AKGC417L_9', '178_1b2_Pl_mc_AKGC417L_10', '178_1b2_Pl_mc_AKGC417L_11', '178_1b2_Lr_mc_AKGC417L_6', '178_1b2_Lr_mc_AKGC417L_8', '178_1b2_Lr_mc_AKGC417L_9', '178_1b2_Lr_mc_AKGC417L_10', '178_1b2_Lr_mc_AKGC417L_11', '178_1b3_Ar_mc_AKGC417L_0', '178_1b3_Ar_mc_AKGC417L_1', '178_1b3_Ar_mc_AKGC417L_3', '178_1b3_Ar_mc_AKGC417L_4', '178_1b3_Tc_mc_AKGC417L_2', '178_1b6_Ar_mc_AKGC417L_0', '178_1b6_Ar_mc_AKGC417L_1', '178_1b6_Ar_mc_AKGC417L_2', '178_1b6_Ar_mc_AKGC417L_3', '178_1b6_Ar_mc_AKGC417L_4', '178_1b6_Ar_mc_AKGC417L_5', '178_1b6_Ar_mc_AKGC417L_6', '178_1b6_Ar_mc_AKGC417L_7', '178_2b2_Al_mc_AKGC417L_0', '178_2b2_Al_mc_AKGC417L_1', '178_2b2_Al_mc_AKGC417L_2', '178_2b2_Al_mc_AKGC417L_4', '178_2b2_Al_mc_AKGC417L_6', '178_2b2_Al_mc_AKGC417L_7', '178_2b2_Al_mc_AKGC417L_8', '178_2b2_Ar_mc_AKGC417L_3', '178_2b2_Ar_mc_AKGC417L_5', '178_2b2_Ar_mc_AKGC417L_6', '178_2b2_Ar_mc_AKGC417L_7', '178_2b2_Ar_mc_AKGC417L_8', '178_2b2_Ar_mc_AKGC417L_9', '179_1b1_Al_sc_Meditron_0', '179_1b1_Al_sc_Meditron_2', '179_1b1_Tc_sc_Meditron_2', '179_1b1_Tc_sc_Meditron_5', '180_1b4_Pr_mc_AKGC417L_5', '180_1b4_Pl_mc_AKGC417L_5', '180_1b4_Lr_mc_AKGC417L_5', '180_1b4_Ar_mc_AKGC417L_5', '181_1b2_Ar_mc_LittC2SE_0', '181_1b2_Ar_mc_LittC2SE_1', '182_1b1_Tc_sc_Meditron_0', '182_1b1_Tc_sc_Meditron_1', '182_1b1_Tc_sc_Meditron_3', '182_1b1_Tc_sc_Meditron_5', '182_1b1_Tc_sc_Meditron_6', '183_1b1_Pl_sc_Meditron_0', '183_1b1_Pl_sc_Meditron_2', '186_2b2_Pl_mc_AKGC417L_0', '186_2b2_Pl_mc_AKGC417L_1', '186_2b2_Pl_mc_AKGC417L_2', '186_2b2_Pl_mc_AKGC417L_3', '186_2b2_Pl_mc_AKGC417L_4', '186_2b2_Lr_mc_AKGC417L_0', '186_2b2_Lr_mc_AKGC417L_1', '186_2b2_Lr_mc_AKGC417L_2', '186_2b2_Lr_mc_AKGC417L_3', '186_2b2_Lr_mc_AKGC417L_4', '186_2b2_Ar_mc_AKGC417L_0', '186_2b2_Ar_mc_AKGC417L_1', '186_2b2_Ar_mc_AKGC417L_2', '186_2b2_Ar_mc_AKGC417L_3', '186_2b2_Ar_mc_AKGC417L_4', '186_2b2_Pr_mc_AKGC417L_0', '186_2b2_Pr_mc_AKGC417L_1', '186_2b2_Pr_mc_AKGC417L_2', '186_2b2_Pr_mc_AKGC417L_3', '186_2b2_Pr_mc_AKGC417L_4', '186_2b3_Ar_mc_AKGC417L_1', '186_2b3_Ar_mc_AKGC417L_2', '186_2b3_Ar_mc_AKGC417L_3', '186_2b3_Ar_mc_AKGC417L_4', '186_2b3_Lr_mc_AKGC417L_0', '186_2b3_Lr_mc_AKGC417L_1', '186_2b3_Lr_mc_AKGC417L_2', '186_2b3_Lr_mc_AKGC417L_3', '186_2b3_Lr_mc_AKGC417L_4', '186_2b3_Pr_mc_AKGC417L_0', '186_2b3_Pr_mc_AKGC417L_1', '186_2b3_Pr_mc_AKGC417L_2', '186_2b3_Pr_mc_AKGC417L_3', '186_2b3_Pr_mc_AKGC417L_4', '186_2b3_Pl_mc_AKGC417L_0', '186_2b3_Pl_mc_AKGC417L_1', '186_2b3_Pl_mc_AKGC417L_2', '186_2b3_Pl_mc_AKGC417L_3', '186_2b3_Pl_mc_AKGC417L_4', '186_2b3_Al_mc_AKGC417L_4', '186_2b4_Lr_mc_AKGC417L_0', '186_2b4_Lr_mc_AKGC417L_1', '186_2b4_Lr_mc_AKGC417L_2', '186_2b4_Lr_mc_AKGC417L_3', '186_2b4_Lr_mc_AKGC417L_4', '186_2b4_Ar_mc_AKGC417L_0', '186_2b4_Ar_mc_AKGC417L_1', '186_2b4_Ar_mc_AKGC417L_2', '186_2b4_Ar_mc_AKGC417L_3', '186_2b4_Ar_mc_AKGC417L_4', '186_3b3_Ar_mc_AKGC417L_5', '186_3b3_Pl_mc_AKGC417L_0', '186_3b3_Pl_mc_AKGC417L_1', '186_3b3_Pl_mc_AKGC417L_2', '186_3b3_Pl_mc_AKGC417L_3', '186_3b3_Pl_mc_AKGC417L_4', '186_3b3_Pl_mc_AKGC417L_5', '186_3b3_Lr_mc_AKGC417L_4', '186_3b3_Al_mc_AKGC417L_2', '189_1b2_Lr_mc_LittC2SE_0', '189_1b2_Lr_mc_LittC2SE_1', '192_2b3_Al_mc_LittC2SE_0', '193_7b3_Ll_mc_AKGC417L_3', '193_7b3_Ar_mc_AKGC417L_1', '193_7b3_Ar_mc_AKGC417L_2', '193_7b3_Ar_mc_AKGC417L_3', '193_7b3_Ar_mc_AKGC417L_4', '193_7b3_Ar_mc_AKGC417L_6', '193_7b3_Ar_mc_AKGC417L_7', '193_7b3_Pl_mc_AKGC417L_0', '193_7b3_Pl_mc_AKGC417L_1', '193_7b3_Pl_mc_AKGC417L_2', '193_7b3_Pl_mc_AKGC417L_3', '193_7b3_Pl_mc_AKGC417L_4', '193_7b3_Pl_mc_AKGC417L_5', '193_7b3_Pl_mc_AKGC417L_6', '193_7b3_Pl_mc_AKGC417L_7', '193_7b3_Lr_mc_AKGC417L_0', '193_7b3_Lr_mc_AKGC417L_1', '193_7b3_Lr_mc_AKGC417L_2', '193_7b3_Lr_mc_AKGC417L_3', '193_7b3_Lr_mc_AKGC417L_4', '193_7b3_Lr_mc_AKGC417L_5', '193_7b3_Lr_mc_AKGC417L_6', '193_7b3_Lr_mc_AKGC417L_7', '193_7b3_Tc_mc_AKGC417L_1', '193_7b3_Tc_mc_AKGC417L_2', '193_7b3_Tc_mc_AKGC417L_3', '193_7b3_Tc_mc_AKGC417L_6', '193_7b3_Tc_mc_AKGC417L_7', '195_1b1_Ll_sc_Litt3200_2', '195_1b1_Ll_sc_Litt3200_7', '195_1b1_Ll_sc_Litt3200_10', '195_1b1_Lr_sc_Litt3200_7', '195_1b1_Lr_sc_Litt3200_8', '198_6p1_Lr_mc_AKGC417L_3', '198_6p1_Lr_mc_AKGC417L_4', '198_6p1_Lr_mc_AKGC417L_5', '198_6p1_Lr_mc_AKGC417L_6', '198_6p1_Ll_mc_AKGC417L_1', '198_6p1_Pl_mc_AKGC417L_0', '198_6p1_Pl_mc_AKGC417L_1', '198_6p1_Pl_mc_AKGC417L_2', '198_6p1_Pl_mc_AKGC417L_3', '198_6p1_Pl_mc_AKGC417L_4', '198_6p1_Pl_mc_AKGC417L_6', '198_6p1_Tc_mc_AKGC417L_1', '198_6p1_Tc_mc_AKGC417L_2', '198_6p1_Tc_mc_AKGC417L_3', '199_2b1_Ll_mc_LittC2SE_1', '199_2b1_Ll_mc_LittC2SE_2', '199_2b1_Ll_mc_LittC2SE_3', '199_2b1_Ll_mc_LittC2SE_4', '199_2b3_Ll_mc_LittC2SE_0', '199_2b3_Ll_mc_LittC2SE_1', '199_2b3_Ll_mc_LittC2SE_2', '199_2b3_Ll_mc_LittC2SE_3', '199_2b3_Ll_mc_LittC2SE_4', '199_2b3_Ll_mc_LittC2SE_5', '199_2b3_Ll_mc_LittC2SE_6', '199_2b3_Ll_mc_LittC2SE_7', '200_2p2_Pr_mc_AKGC417L_3', '200_2p2_Tc_mc_AKGC417L_0', '200_2p2_Tc_mc_AKGC417L_1', '200_2p2_Tc_mc_AKGC417L_2', '203_1p2_Ar_mc_AKGC417L_8', '203_1p2_Ar_mc_AKGC417L_9', '203_1p2_Pl_mc_AKGC417L_0', '203_1p2_Pl_mc_AKGC417L_1', '203_1p2_Pl_mc_AKGC417L_2', '203_1p2_Pl_mc_AKGC417L_4', '203_1p2_Pl_mc_AKGC417L_5', '203_1p2_Pl_mc_AKGC417L_6', '203_1p2_Pl_mc_AKGC417L_7', '203_1p2_Pl_mc_AKGC417L_8', '203_1p3_Ar_mc_AKGC417L_0', '203_1p3_Ar_mc_AKGC417L_1', '203_1p3_Ar_mc_AKGC417L_2', '203_1p3_Ar_mc_AKGC417L_4', '203_1p3_Ar_mc_AKGC417L_5', '203_1p3_Ar_mc_AKGC417L_6', '203_1p3_Ar_mc_AKGC417L_7', '203_1p3_Ar_mc_AKGC417L_8', '203_1p3_Ar_mc_AKGC417L_9', '203_1p3_Pr_mc_AKGC417L_0', '203_1p3_Pr_mc_AKGC417L_1', '203_1p3_Pr_mc_AKGC417L_2', '203_1p3_Pr_mc_AKGC417L_6', '203_1p3_Pr_mc_AKGC417L_8', '203_1p3_Pr_mc_AKGC417L_9', '203_1p3_Al_mc_AKGC417L_0', '203_1p3_Al_mc_AKGC417L_1', '203_1p3_Al_mc_AKGC417L_2', '203_1p3_Al_mc_AKGC417L_4', '203_1p3_Al_mc_AKGC417L_5', '203_1p3_Al_mc_AKGC417L_6', '203_1p3_Al_mc_AKGC417L_7', '203_1p3_Al_mc_AKGC417L_8', '203_1p3_Pl_mc_AKGC417L_1', '203_1p3_Pl_mc_AKGC417L_2', '203_1p3_Pl_mc_AKGC417L_3', '203_1p3_Pl_mc_AKGC417L_4', '203_1p3_Pl_mc_AKGC417L_5', '203_1p3_Pl_mc_AKGC417L_6', '203_1p3_Pl_mc_AKGC417L_7', '203_1p3_Pl_mc_AKGC417L_8', '203_1p3_Pl_mc_AKGC417L_9', '203_1p4_Ar_mc_AKGC417L_1', '203_1p4_Ar_mc_AKGC417L_2', '203_1p4_Ar_mc_AKGC417L_3', '203_1p4_Ar_mc_AKGC417L_4', '203_1p4_Ar_mc_AKGC417L_5', '203_1p4_Ar_mc_AKGC417L_6', '203_1p4_Ar_mc_AKGC417L_8', '203_1p4_Al_mc_AKGC417L_1', '203_1p4_Al_mc_AKGC417L_2', '203_1p4_Al_mc_AKGC417L_3', '203_1p4_Pl_mc_AKGC417L_0', '203_1p4_Pl_mc_AKGC417L_1', '203_1p4_Pl_mc_AKGC417L_2', '203_1p4_Pl_mc_AKGC417L_3', '203_1p4_Pl_mc_AKGC417L_4', '203_1p4_Pl_mc_AKGC417L_5', '203_1p4_Pl_mc_AKGC417L_7', '203_1p4_Pr_mc_AKGC417L_1', '203_1p4_Pr_mc_AKGC417L_3', '203_2p3_Pl_mc_AKGC417L_2', '203_2p3_Pr_mc_AKGC417L_3', '203_2p3_Pr_mc_AKGC417L_5', '203_1p4_Tc_mc_AKGC417L_1', '203_1p4_Tc_mc_AKGC417L_2', '203_1p4_Tc_mc_AKGC417L_6', '203_2p3_Ar_mc_AKGC417L_1', '203_2p3_Ar_mc_AKGC417L_2', '203_2p3_Ar_mc_AKGC417L_3', '203_2p3_Ar_mc_AKGC417L_4', '203_2p3_Ar_mc_AKGC417L_5', '205_1b3_Ll_mc_AKGC417L_1', '205_1b3_Ll_mc_AKGC417L_2', '205_1b3_Ll_mc_AKGC417L_3', '205_1b3_Ll_mc_AKGC417L_4', '205_1b3_Ll_mc_AKGC417L_5', '205_1b3_Al_mc_AKGC417L_3', '205_1b3_Ar_mc_AKGC417L_0', '205_1b3_Ar_mc_AKGC417L_1', '205_1b3_Ar_mc_AKGC417L_2', '205_1b3_Ar_mc_AKGC417L_3', '205_1b3_Ar_mc_AKGC417L_4', '205_1b3_Ar_mc_AKGC417L_5', '205_1b3_Lr_mc_AKGC417L_1', '205_1b3_Lr_mc_AKGC417L_2', '205_1b3_Pl_mc_AKGC417L_1', '205_1b3_Pl_mc_AKGC417L_2', '205_1b3_Pl_mc_AKGC417L_3', '205_1b3_Pl_mc_AKGC417L_4', '205_2b3_Ll_mc_AKGC417L_0', '205_2b3_Ll_mc_AKGC417L_1', '205_2b3_Ll_mc_AKGC417L_2', '205_1b3_Pr_mc_AKGC417L_0', '205_1b3_Pr_mc_AKGC417L_1', '205_1b3_Pr_mc_AKGC417L_2', '205_1b3_Pr_mc_AKGC417L_4', '205_2b3_Ar_mc_AKGC417L_0', '205_2b3_Ar_mc_AKGC417L_1', '205_2b3_Ar_mc_AKGC417L_2', '205_2b3_Ar_mc_AKGC417L_3', '205_2b3_Al_mc_AKGC417L_2', '205_2b3_Al_mc_AKGC417L_3', '205_3b4_Ar_mc_AKGC417L_2', '205_2b4_Pl_mc_AKGC417L_0', '207_2b4_Al_mc_AKGC417L_3', '207_2b4_Al_mc_AKGC417L_4', '207_2b3_Ar_mc_AKGC417L_2', '207_2b3_Pl_mc_AKGC417L_3', '207_2b3_Pl_mc_AKGC417L_5', '207_2b4_Ar_mc_AKGC417L_0', '207_2b4_Ar_mc_AKGC417L_1', '207_2b4_Ar_mc_AKGC417L_2', '207_2b4_Ar_mc_AKGC417L_3', '207_2b4_Ar_mc_AKGC417L_4', '207_2b4_Pr_mc_AKGC417L_0', '207_2b4_Pr_mc_AKGC417L_1', '207_2b4_Pr_mc_AKGC417L_2', '207_2b4_Pl_mc_AKGC417L_1', '207_2b4_Pl_mc_AKGC417L_2', '207_2b4_Pl_mc_AKGC417L_3', '210_1b1_Ar_sc_Meditron_5', '210_1b1_Al_sc_Meditron_8', '211_1p2_Pl_mc_AKGC417L_3', '211_1p2_Pl_mc_AKGC417L_4', '211_1p2_Pl_mc_AKGC417L_6', '211_1p2_Pl_mc_AKGC417L_11', '211_1p2_Pl_mc_AKGC417L_12', '212_2b2_Tc_mc_LittC2SE_1', '212_2b2_Tc_mc_LittC2SE_3', '213_1p2_Pr_mc_AKGC417L_1', '213_1p2_Pr_mc_AKGC417L_2', '213_1p2_Pr_mc_AKGC417L_3', '213_1p2_Pr_mc_AKGC417L_4', '213_1p2_Pl_mc_AKGC417L_2', '130_1p2_Al_mc_AKGC417L_3', '130_1p2_Ar_mc_AKGC417L_0', '130_1p2_Ar_mc_AKGC417L_1', '130_1p2_Ar_mc_AKGC417L_3', '130_1p2_Lr_mc_AKGC417L_0', '130_1p2_Lr_mc_AKGC417L_1', '130_1p2_Lr_mc_AKGC417L_2', '130_1p2_Lr_mc_AKGC417L_3', '130_1p2_Pr_mc_AKGC417L_1', '130_1p2_Pr_mc_AKGC417L_3', '130_1p2_Tc_mc_AKGC417L_0', '130_1p2_Tc_mc_AKGC417L_1', '130_1p2_Tc_mc_AKGC417L_3', '130_1p2_Pl_mc_AKGC417L_0', '130_1p2_Pl_mc_AKGC417L_1', '130_1p2_Pl_mc_AKGC417L_3', '130_1p3_Ar_mc_AKGC417L_5', '130_2b2_Lr_mc_AKGC417L_0', '130_2b2_Lr_mc_AKGC417L_1', '130_2b2_Lr_mc_AKGC417L_2', '130_2b2_Lr_mc_AKGC417L_3', '130_2b2_Lr_mc_AKGC417L_4', '130_2b2_Lr_mc_AKGC417L_5', '130_2b2_Lr_mc_AKGC417L_6', '130_2b2_Lr_mc_AKGC417L_7', '130_2b2_Pl_mc_AKGC417L_0', '130_2b2_Pl_mc_AKGC417L_1', '130_2b2_Pl_mc_AKGC417L_2', '130_2b2_Pl_mc_AKGC417L_3', '130_2b2_Pl_mc_AKGC417L_4', '130_2b2_Pl_mc_AKGC417L_5', '130_2b2_Pl_mc_AKGC417L_6', '130_2b2_Pl_mc_AKGC417L_7', '130_2b2_Al_mc_AKGC417L_0', '130_2b2_Al_mc_AKGC417L_1', '130_2b2_Al_mc_AKGC417L_2', '130_2b2_Al_mc_AKGC417L_3', '130_2b2_Al_mc_AKGC417L_4', '130_2b2_Al_mc_AKGC417L_5', '130_2b2_Al_mc_AKGC417L_6', '130_2b2_Al_mc_AKGC417L_7', '130_2b2_Ll_mc_AKGC417L_0', '130_2b2_Ll_mc_AKGC417L_1', '130_2b2_Ll_mc_AKGC417L_2', '130_2b2_Ll_mc_AKGC417L_3', '130_2b2_Ll_mc_AKGC417L_4', '130_2b2_Ll_mc_AKGC417L_5', '130_2b2_Ll_mc_AKGC417L_6', '130_2b2_Ll_mc_AKGC417L_7', '130_2b2_Ar_mc_AKGC417L_0', '130_2b2_Ar_mc_AKGC417L_1', '130_2b2_Ar_mc_AKGC417L_2', '130_2b2_Ar_mc_AKGC417L_3', '130_2b2_Ar_mc_AKGC417L_6', '130_2b2_Ar_mc_AKGC417L_7', '130_2b2_Pr_mc_AKGC417L_0', '130_2b2_Pr_mc_AKGC417L_1', '130_2b2_Pr_mc_AKGC417L_2', '130_2b2_Pr_mc_AKGC417L_3', '130_2b2_Pr_mc_AKGC417L_4', '130_2b2_Pr_mc_AKGC417L_5', '130_2b2_Pr_mc_AKGC417L_6', '130_2b2_Pr_mc_AKGC417L_7', '130_2b3_Ll_mc_AKGC417L_0', '130_2b3_Ll_mc_AKGC417L_1', '130_2b3_Ll_mc_AKGC417L_2', '130_2b3_Ll_mc_AKGC417L_3', '130_2b3_Ll_mc_AKGC417L_4', '130_2b3_Ll_mc_AKGC417L_5', '130_2b3_Ll_mc_AKGC417L_6', '130_2b3_Ll_mc_AKGC417L_7', '130_2b3_Ll_mc_AKGC417L_8', '130_2b3_Al_mc_AKGC417L_1', '130_2b3_Al_mc_AKGC417L_2', '130_2b3_Al_mc_AKGC417L_3', '130_2b3_Al_mc_AKGC417L_4', '130_2b3_Al_mc_AKGC417L_5', '130_2b3_Al_mc_AKGC417L_6', '130_2b3_Al_mc_AKGC417L_7', '130_2b3_Al_mc_AKGC417L_8', '130_2b3_Ar_mc_AKGC417L_1', '130_2b3_Ar_mc_AKGC417L_2', '130_2b3_Ar_mc_AKGC417L_3', '130_2b3_Ar_mc_AKGC417L_4', '130_2b3_Ar_mc_AKGC417L_5', '130_2b3_Ar_mc_AKGC417L_6', '130_2b3_Ar_mc_AKGC417L_7', '130_2b3_Ar_mc_AKGC417L_8', '130_2b3_Pl_mc_AKGC417L_0', '130_2b3_Pl_mc_AKGC417L_1', '130_2b3_Pl_mc_AKGC417L_2', '130_2b3_Pl_mc_AKGC417L_3', '130_2b3_Pl_mc_AKGC417L_4', '130_2b3_Pl_mc_AKGC417L_5', '130_2b3_Pl_mc_AKGC417L_6', '130_2b3_Pl_mc_AKGC417L_7', '130_2b3_Pl_mc_AKGC417L_8', '130_2b3_Pr_mc_AKGC417L_0', '130_2b3_Pr_mc_AKGC417L_1', '130_2b3_Pr_mc_AKGC417L_2', '130_2b3_Pr_mc_AKGC417L_3', '130_2b3_Pr_mc_AKGC417L_4', '130_2b3_Pr_mc_AKGC417L_5', '130_2b3_Pr_mc_AKGC417L_6', '130_2b3_Pr_mc_AKGC417L_7', '130_2b3_Pr_mc_AKGC417L_8', '130_2b3_Lr_mc_AKGC417L_1', '130_2b3_Lr_mc_AKGC417L_2', '130_2b3_Lr_mc_AKGC417L_3', '130_2b3_Lr_mc_AKGC417L_4', '130_2b3_Lr_mc_AKGC417L_5', '130_2b3_Lr_mc_AKGC417L_6', '130_2b3_Lr_mc_AKGC417L_7', '130_2b3_Lr_mc_AKGC417L_8', '130_2b4_Lr_mc_AKGC417L_1', '130_2b4_Lr_mc_AKGC417L_2', '130_2b4_Lr_mc_AKGC417L_3', '130_2b4_Lr_mc_AKGC417L_4', '130_2b4_Lr_mc_AKGC417L_5', '130_2b4_Lr_mc_AKGC417L_6', '130_2b4_Lr_mc_AKGC417L_7', '130_2b4_Lr_mc_AKGC417L_8', '130_2b4_Al_mc_AKGC417L_1', '130_2b4_Al_mc_AKGC417L_2', '130_2b4_Al_mc_AKGC417L_3', '130_2b4_Al_mc_AKGC417L_4', '130_2b4_Al_mc_AKGC417L_5', '130_2b4_Al_mc_AKGC417L_6', '130_2b4_Al_mc_AKGC417L_7', '130_2b4_Al_mc_AKGC417L_8', '130_2b4_Ar_mc_AKGC417L_0', '130_2b4_Ar_mc_AKGC417L_1', '130_2b4_Ar_mc_AKGC417L_2', '130_2b4_Ar_mc_AKGC417L_3', '130_2b4_Ar_mc_AKGC417L_4', '130_2b4_Ar_mc_AKGC417L_5', '130_2b4_Ar_mc_AKGC417L_6', '130_2b4_Ar_mc_AKGC417L_7', '130_2b4_Ar_mc_AKGC417L_8', '130_2b4_Pl_mc_AKGC417L_1', '130_2b4_Pl_mc_AKGC417L_2', '130_2b4_Pl_mc_AKGC417L_3', '130_2b4_Pl_mc_AKGC417L_4', '130_2b4_Pl_mc_AKGC417L_6', '130_2b4_Pl_mc_AKGC417L_7', '130_2b4_Ll_mc_AKGC417L_1', '130_2b4_Ll_mc_AKGC417L_2', '130_2b4_Ll_mc_AKGC417L_3', '130_2b4_Ll_mc_AKGC417L_4', '130_2b4_Ll_mc_AKGC417L_5', '130_2b4_Ll_mc_AKGC417L_6', '130_2b4_Ll_mc_AKGC417L_7', '130_2b4_Ll_mc_AKGC417L_8', '130_2p5_Ar_mc_AKGC417L_0', '130_2p5_Ar_mc_AKGC417L_1', '130_2p5_Ar_mc_AKGC417L_2', '130_2p5_Ar_mc_AKGC417L_3', '130_2p5_Ar_mc_AKGC417L_4', '130_2p5_Ar_mc_AKGC417L_5', '130_2p5_Ar_mc_AKGC417L_6', '130_2p5_Ar_mc_AKGC417L_7', '130_2p5_Ar_mc_AKGC417L_8', '130_2p5_Ar_mc_AKGC417L_9', '130_2p3_Pl_mc_AKGC417L_0', '130_2p3_Pl_mc_AKGC417L_1', '130_2p3_Pl_mc_AKGC417L_2', '130_2p3_Pl_mc_AKGC417L_3', '130_2p3_Pl_mc_AKGC417L_4', '130_2p3_Pl_mc_AKGC417L_5', '130_2p3_Pl_mc_AKGC417L_6', '130_2p3_Pl_mc_AKGC417L_7', '130_2p3_Pl_mc_AKGC417L_8', '130_2p3_Pl_mc_AKGC417L_9', '130_2p5_Lr_mc_AKGC417L_0', '130_2p5_Lr_mc_AKGC417L_1', '130_2p5_Lr_mc_AKGC417L_2', '130_2p5_Lr_mc_AKGC417L_3', '130_2p5_Lr_mc_AKGC417L_4', '130_2p5_Lr_mc_AKGC417L_5', '130_2p5_Lr_mc_AKGC417L_7', '130_2p5_Lr_mc_AKGC417L_8', '130_2p5_Lr_mc_AKGC417L_9', '130_2p5_Al_mc_AKGC417L_0', '130_2p5_Al_mc_AKGC417L_1', '130_2p5_Al_mc_AKGC417L_2', '130_2p5_Al_mc_AKGC417L_3', '130_2p5_Al_mc_AKGC417L_4', '130_2p5_Al_mc_AKGC417L_5', '130_2p5_Al_mc_AKGC417L_6', '130_2p5_Al_mc_AKGC417L_7', '130_2p5_Al_mc_AKGC417L_8', '130_2p5_Al_mc_AKGC417L_9', '130_2p5_Tc_mc_AKGC417L_1', '130_2p5_Tc_mc_AKGC417L_2', '130_2p5_Tc_mc_AKGC417L_3', '130_2p5_Tc_mc_AKGC417L_4', '130_2p5_Tc_mc_AKGC417L_5', '130_2p5_Tc_mc_AKGC417L_6', '130_2p5_Tc_mc_AKGC417L_8', '130_2p5_Pl_mc_AKGC417L_0', '130_2p5_Pl_mc_AKGC417L_1', '130_2p5_Pl_mc_AKGC417L_2', '130_2p5_Pl_mc_AKGC417L_3', '130_2p5_Pl_mc_AKGC417L_4', '130_2p5_Pl_mc_AKGC417L_6', '130_2p5_Pl_mc_AKGC417L_8', '130_2p5_Pl_mc_AKGC417L_9', '130_2p5_Pl_mc_AKGC417L_10', '130_3b3_Ll_mc_AKGC417L_0', '130_3b3_Ll_mc_AKGC417L_1', '130_3b3_Ll_mc_AKGC417L_2', '130_3b3_Ll_mc_AKGC417L_3', '130_3b3_Ll_mc_AKGC417L_4', '130_2p5_Pr_mc_AKGC417L_0', '130_2p5_Pr_mc_AKGC417L_2', '130_2p5_Pr_mc_AKGC417L_3', '130_2p5_Pr_mc_AKGC417L_4', '130_2p5_Pr_mc_AKGC417L_5', '130_2p5_Pr_mc_AKGC417L_6', '130_2p5_Pr_mc_AKGC417L_7', '130_2p5_Pr_mc_AKGC417L_8', '130_2p5_Pr_mc_AKGC417L_9', '130_2p5_Pr_mc_AKGC417L_10', '130_3b4_Pr_mc_AKGC417L_0', '130_3b4_Pr_mc_AKGC417L_1', '130_3b4_Pr_mc_AKGC417L_2', '130_3b4_Pr_mc_AKGC417L_3', '130_3b4_Pr_mc_AKGC417L_4', '130_3b4_Lr_mc_AKGC417L_0', '130_3b4_Lr_mc_AKGC417L_1', '130_3b4_Lr_mc_AKGC417L_2', '130_3b4_Lr_mc_AKGC417L_3', '130_3b4_Lr_mc_AKGC417L_4', '130_3b4_Pl_mc_AKGC417L_0', '130_3b4_Pl_mc_AKGC417L_1', '130_3b4_Pl_mc_AKGC417L_2', '130_3b4_Pl_mc_AKGC417L_3', '130_3b4_Pl_mc_AKGC417L_4', '130_3p2_Al_mc_AKGC417L_0', '130_3p2_Al_mc_AKGC417L_1', '130_3p2_Al_mc_AKGC417L_2', '130_3p2_Al_mc_AKGC417L_3', '130_3p2_Al_mc_AKGC417L_4', '130_3p2_Al_mc_AKGC417L_5', '130_3p2_Al_mc_AKGC417L_6', '130_3p2_Tc_mc_AKGC417L_0']\n"
     ]
    }
   ],
   "source": [
    "import os\n",
    "\n",
    "# annotation 디렉토리에 있는 파일 목록 가져오기\n",
    "file_list = os.listdir(\"/content/drive/MyDrive/project/xml/all_xml\")\n",
    "\n",
    "# 확장자를 제외한 파일명을 저장할 리스트 초기화\n",
    "file_names_without_extension = []\n",
    "\n",
    "# 파일 목록에서 확장자를 제외한 파일명만 추출하여 리스트에 추가\n",
    "for file_name in file_list:\n",
    "    name_without_extension = os.path.splitext(file_name)[0]\n",
    "    file_names_without_extension.append(name_without_extension)\n",
    "\n",
    "# 확장자를 제외한 파일명이 저장된 리스트 출력\n",
    "print(\"확장자를 제외한 파일명 리스트:\", file_names_without_extension)"
   ]
  },
  {
   "cell_type": "code",
   "execution_count": null,
   "metadata": {
    "colab": {
     "base_uri": "https://localhost:8080/"
    },
    "id": "9wrtou81XQQQ",
    "outputId": "20f07663-2550-47f3-ba77-f1ca1ee42f5c"
   },
   "outputs": [
    {
     "name": "stdout",
     "output_type": "stream",
     "text": [
      "확장자를 제외한 파일명 리스트: ['130_1p2_Ll_mc_AKGC417L_6', '186_2b4_Pr_mc_AKGC417L_4', '186_3b3_Ar_mc_AKGC417L_2', '186_2b4_Pl_mc_AKGC417L_3', '186_2b4_Pr_mc_AKGC417L_0', '186_2b4_Pr_mc_AKGC417L_3', '186_2b4_Al_mc_AKGC417L_2', '186_3b3_Ar_mc_AKGC417L_4', '186_2b4_Al_mc_AKGC417L_3', '186_2b4_Pr_mc_AKGC417L_2', '186_2b4_Pr_mc_AKGC417L_1', '186_2b4_Pl_mc_AKGC417L_4', '186_2b4_Al_mc_AKGC417L_4', '186_2b4_Al_mc_AKGC417L_0', '186_2b4_Pl_mc_AKGC417L_2', '186_2b4_Pl_mc_AKGC417L_0', '205_4b2_Al_mc_AKGC417L_2', '207_2b4_Al_mc_AKGC417L_0', '205_4b2_Pr_mc_AKGC417L_4', '207_2b2_Pl_mc_AKGC417L_1', '205_4b2_Pr_mc_AKGC417L_3', '205_4b2_Lr_mc_AKGC417L_0', '205_4b2_Al_mc_AKGC417L_3', '207_2b3_Al_mc_AKGC417L_1', '205_4b2_Pr_mc_AKGC417L_1', '207_2b4_Al_mc_AKGC417L_1', '207_2b3_Al_mc_AKGC417L_2', '205_4b2_Al_mc_AKGC417L_0', '205_4b2_Al_mc_AKGC417L_1', '207_2b2_Pl_mc_AKGC417L_3', '205_4b2_Al_mc_AKGC417L_4', '198_6p1_Ar_mc_AKGC417L_5', '198_6p1_Ar_mc_AKGC417L_0', '198_6p1_Lr_mc_AKGC417L_0', '198_6p1_Pr_mc_AKGC417L_0', '198_6p1_Pr_mc_AKGC417L_4', '197_1b1_Tc_sc_Meditron_1', '198_6p1_Ar_mc_AKGC417L_1', '198_6p1_Pr_mc_AKGC417L_1', '198_6p1_Ar_mc_AKGC417L_2', '198_6p1_Ar_mc_AKGC417L_3', '198_6p1_Lr_mc_AKGC417L_2', '198_6p1_Lr_mc_AKGC417L_1', '198_6p1_Pr_mc_AKGC417L_2', '198_6p1_Pr_mc_AKGC417L_5', '198_6p1_Ar_mc_AKGC417L_4', '213_1p2_Pl_mc_AKGC417L_5', '213_1p5_Pl_mc_AKGC417L_1', '216_1b1_Al_sc_Meditron_0', '213_2p2_Ar_mc_AKGC417L_0', '213_2p2_Pl_mc_AKGC417L_0', '213_2p2_Pl_mc_AKGC417L_6', '213_2p2_Pl_mc_AKGC417L_4', '213_2p2_Pl_mc_AKGC417L_2', '213_1p5_Pr_mc_AKGC417L_1', '216_1b1_Al_sc_Meditron_2', '213_1p2_Pl_mc_AKGC417L_4', '213_1p5_Pr_mc_AKGC417L_5', '213_2p2_Pr_mc_AKGC417L_6', '213_2p2_Pl_mc_AKGC417L_1', '213_2p2_Pr_mc_AKGC417L_5', '203_1p2_Al_mc_AKGC417L_0', '203_1p2_Al_mc_AKGC417L_4', '200_3p4_Tc_mc_AKGC417L_0', '200_2p4_Pl_mc_AKGC417L_3', '203_1p2_Al_mc_AKGC417L_7', '200_2p3_Tc_mc_AKGC417L_2', '203_1p2_Al_mc_AKGC417L_6', '203_1p2_Al_mc_AKGC417L_3', '200_2p4_Pr_mc_AKGC417L_0', '200_2p2_Tc_mc_AKGC417L_3', '200_2p3_Pl_mc_AKGC417L_0', '203_1p2_Al_mc_AKGC417L_1', '203_1p2_Al_mc_AKGC417L_2', '201_1b1_Al_sc_Meditron_1', '200_2p3_Tc_mc_AKGC417L_0', '176_1b4_Pr_mc_AKGC417L_0', '176_1b4_Al_mc_AKGC417L_4', '176_1b4_Ll_mc_AKGC417L_0', '176_1b4_Pr_mc_AKGC417L_5', '176_1b4_Al_mc_AKGC417L_5', '176_1b4_Pr_mc_AKGC417L_4', '176_1b4_Ll_mc_AKGC417L_3', '176_1b4_Pr_mc_AKGC417L_3', '176_1b4_Ll_mc_AKGC417L_1', '176_1b4_Pr_mc_AKGC417L_1', '176_1b4_Ll_mc_AKGC417L_2', '176_1b4_Pr_mc_AKGC417L_2', '176_1b4_Ll_mc_AKGC417L_5', '176_1b4_Tc_mc_AKGC417L_0', '176_1b4_Ll_mc_AKGC417L_4', '177_2b4_Pl_mc_AKGC417L_4', '177_2b4_Pr_mc_AKGC417L_4', '178_1b2_Ar_mc_AKGC417L_8', '178_1b2_Pl_mc_AKGC417L_3', '177_2b4_Pl_mc_AKGC417L_0', '177_2b4_Pl_mc_AKGC417L_3', '177_2b4_Pl_mc_AKGC417L_2', '177_2b4_Pl_mc_AKGC417L_1', '177_2b4_Pr_mc_AKGC417L_3', '177_2b4_Pr_mc_AKGC417L_2', '178_1b2_Pl_mc_AKGC417L_4', '178_1b2_Pl_mc_AKGC417L_1', '178_1b2_Pl_mc_AKGC417L_0', '178_1b2_Pl_mc_AKGC417L_2', '178_1b2_Ar_mc_AKGC417L_11', '156_5b3_Ll_mc_AKGC417L_3', '156_5b3_Ll_mc_AKGC417L_8', '156_2b3_Pr_mc_AKGC417L_3', '156_2b3_Ar_mc_AKGC417L_5', '156_5b3_Lr_mc_AKGC417L_0', '156_2b3_Pl_mc_AKGC417L_2', '156_2b3_Pr_mc_AKGC417L_1', '156_2b3_Pr_mc_AKGC417L_0', '156_2b3_Pr_mc_AKGC417L_2', '156_5b3_Ll_mc_AKGC417L_2', '156_5b3_Ll_mc_AKGC417L_7', '156_5b3_Ll_mc_AKGC417L_5', '156_5b3_Ll_mc_AKGC417L_6', '156_2b3_Ar_mc_AKGC417L_4', '156_5b3_Ll_mc_AKGC417L_4', '139_1b1_Pr_sc_Litt3200_2', '139_1b1_Pr_sc_Litt3200_3', '139_1b1_Pr_sc_Litt3200_4', '139_1b1_Pr_sc_Litt3200_5', '140_2b3_Tc_mc_LittC2SE_1', '140_2b3_Tc_mc_LittC2SE_2', '140_2b3_Tc_mc_LittC2SE_3', '140_2b3_Tc_mc_LittC2SE_4', '140_2b3_Tc_mc_LittC2SE_7', '140_2b3_Tc_mc_LittC2SE_8', '140_2b3_Ll_mc_LittC2SE_1', '140_2b3_Ll_mc_LittC2SE_2', '140_2b3_Ll_mc_LittC2SE_3', '141_1b2_Lr_mc_LittC2SE_1', '141_1b2_Lr_mc_LittC2SE_2', '141_1b2_Lr_mc_LittC2SE_3', '141_1b2_Lr_mc_LittC2SE_4', '141_1b2_Ar_mc_LittC2SE_2', '141_1b2_Ar_mc_LittC2SE_4', '141_1b1_Pr_mc_LittC2SE_1', '141_1b1_Pr_mc_LittC2SE_2', '141_1b1_Pr_mc_LittC2SE_4', '141_1b2_Pr_mc_LittC2SE_3', '141_1b2_Pr_mc_LittC2SE_5', '141_1b3_Ar_mc_LittC2SE_1', '141_1b3_Ar_mc_LittC2SE_3', '141_1b3_Ar_mc_LittC2SE_4', '141_1b3_Al_mc_LittC2SE_1', '141_1b3_Al_mc_LittC2SE_2', '141_1b3_Al_mc_LittC2SE_3', '141_1b3_Al_mc_LittC2SE_4', '146_8p3_Lr_mc_AKGC417L_1', '146_8p3_Lr_mc_AKGC417L_2', '146_8p3_Lr_mc_AKGC417L_3', '146_8p3_Lr_mc_AKGC417L_4', '146_8p3_Lr_mc_AKGC417L_5', '146_8p3_Lr_mc_AKGC417L_6', '146_8p3_Lr_mc_AKGC417L_7', '146_8p3_Lr_mc_AKGC417L_8', '147_1b2_Tc_mc_AKGC417L_7', '147_1b2_Tc_mc_AKGC417L_8', '147_1b2_Tc_mc_AKGC417L_9', '147_1b2_Tc_mc_AKGC417L_10', '147_2b2_Al_mc_AKGC417L_0', '147_2b2_Al_mc_AKGC417L_1', '147_2b2_Al_mc_AKGC417L_2', '147_2b3_Al_mc_AKGC417L_1', '147_2b3_Al_mc_AKGC417L_3', '147_2b2_Pl_mc_AKGC417L_1', '147_2b2_Pl_mc_AKGC417L_2', '147_2b2_Pl_mc_AKGC417L_3', '147_2b2_Ar_mc_AKGC417L_0', '147_2b2_Ar_mc_AKGC417L_1', '147_2b2_Ar_mc_AKGC417L_2', '147_1b4_Tc_mc_AKGC417L_0', '147_1b4_Tc_mc_AKGC417L_1', '147_1b4_Tc_mc_AKGC417L_3', '147_1b4_Tc_mc_AKGC417L_4', '147_1b4_Tc_mc_AKGC417L_5', '147_1b4_Tc_mc_AKGC417L_6', '147_1b4_Tc_mc_AKGC417L_7', '147_1b4_Tc_mc_AKGC417L_8', '147_1b4_Tc_mc_AKGC417L_10', '147_1b4_Tc_mc_AKGC417L_13', '147_2b3_Ar_mc_AKGC417L_1', '147_2b3_Pl_mc_AKGC417L_0', '147_2b3_Pl_mc_AKGC417L_1', '147_2b3_Pl_mc_AKGC417L_2', '147_2b3_Pl_mc_AKGC417L_3', '147_2b4_Pl_mc_AKGC417L_0', '149_1b1_Al_sc_Meditron_2', '149_1b1_Al_sc_Meditron_3', '149_1b1_Al_sc_Meditron_5', '149_1b1_Al_sc_Meditron_8', '149_1b1_Al_sc_Meditron_9', '149_1b1_Al_sc_Meditron_10', '149_1b1_Al_sc_Meditron_11', '149_1b1_Al_sc_Meditron_12', '149_1b1_Al_sc_Meditron_13', '149_1b1_Al_sc_Meditron_14', '149_1b1_Al_sc_Meditron_15', '149_1b1_Al_sc_Meditron_17', '149_1b1_Pl_sc_Meditron_0', '149_1b1_Pl_sc_Meditron_4', '149_1b1_Pl_sc_Meditron_5', '149_1b1_Pl_sc_Meditron_6', '149_1b1_Pl_sc_Meditron_7', '149_1b1_Pl_sc_Meditron_10', '151_2p2_Lr_mc_AKGC417L_0', '151_2p2_Al_mc_AKGC417L_1', '151_2p2_Al_mc_AKGC417L_5', '151_2p2_Ll_mc_AKGC417L_0', '151_2p2_Pr_mc_AKGC417L_0', '151_2p3_Al_mc_AKGC417L_3', '151_2p2_Pl_mc_AKGC417L_0', '151_2p2_Pl_mc_AKGC417L_1', '151_2p2_Pl_mc_AKGC417L_2', '151_2p2_Pl_mc_AKGC417L_5', '151_2p2_Tc_mc_AKGC417L_1', '151_2p2_Tc_mc_AKGC417L_5', '151_2p3_Pl_mc_AKGC417L_0', '151_2p3_Pl_mc_AKGC417L_1', '151_2p3_Pl_mc_AKGC417L_2', '151_2p3_Pl_mc_AKGC417L_3', '151_2p3_Pl_mc_AKGC417L_5', '151_2p3_Ll_mc_AKGC417L_0', '151_2p3_Ll_mc_AKGC417L_1', '151_2p3_Ll_mc_AKGC417L_2', '151_2p3_Ll_mc_AKGC417L_3', '151_2p3_Ar_mc_AKGC417L_0', '151_2p3_Ar_mc_AKGC417L_2', '151_2p4_Al_mc_AKGC417L_4', '151_2p3_Tc_mc_AKGC417L_3', '151_2p3_Tc_mc_AKGC417L_5', '151_2p4_Ar_mc_AKGC417L_1', '151_2p4_Ar_mc_AKGC417L_2', '151_2p4_Ll_mc_AKGC417L_4', '151_2p4_Lr_mc_AKGC417L_1', '151_2p4_Pl_mc_AKGC417L_4', '151_2p4_Tc_mc_AKGC417L_1', '151_2p4_Tc_mc_AKGC417L_2', '151_2p4_Tc_mc_AKGC417L_4', '151_2p4_Pr_mc_AKGC417L_1', '151_3p2_Tc_mc_AKGC417L_1', '151_3p2_Lr_mc_AKGC417L_0', '151_3p2_Lr_mc_AKGC417L_4', '150_1b2_Al_sc_Meditron_14', '156_2b3_Ar_mc_AKGC417L_0', '156_5b3_Ar_mc_AKGC417L_0', '156_5b3_Ar_mc_AKGC417L_3', '156_5b3_Al_mc_AKGC417L_0', '156_8b3_Ar_mc_AKGC417L_1', '156_8b3_Ar_mc_AKGC417L_2', '156_8b3_Ar_mc_AKGC417L_3', '156_8b3_Ar_mc_AKGC417L_4', '156_8b3_Ar_mc_AKGC417L_6', '156_8b3_Ar_mc_AKGC417L_7', '156_8b3_Al_mc_AKGC417L_5', '156_8b3_Al_mc_AKGC417L_6', '156_8b3_Al_mc_AKGC417L_7', '156_8b3_Lr_mc_AKGC417L_7', '156_8b3_Pl_mc_AKGC417L_1', '158_1p2_Lr_mc_AKGC417L_7', '158_1p2_Pl_mc_AKGC417L_4', '158_1p2_Pl_mc_AKGC417L_5', '158_1p2_Pr_mc_AKGC417L_7', '158_1p3_Ll_mc_AKGC417L_0', '158_1p3_Ll_mc_AKGC417L_1', '158_1p3_Ll_mc_AKGC417L_2', '158_1p3_Ll_mc_AKGC417L_4', '158_1p3_Ll_mc_AKGC417L_7', '158_1p3_Ar_mc_AKGC417L_1', '158_1p3_Ar_mc_AKGC417L_2', '158_1p3_Ar_mc_AKGC417L_6', '158_1p3_Ar_mc_AKGC417L_7', '158_1p3_Al_mc_AKGC417L_0', '158_1p3_Al_mc_AKGC417L_6', '158_1p3_Al_mc_AKGC417L_7', '158_1p3_Lr_mc_AKGC417L_1', '158_1p3_Lr_mc_AKGC417L_2', '158_1p3_Lr_mc_AKGC417L_3', '158_1p3_Lr_mc_AKGC417L_7', '158_1p3_Lr_mc_AKGC417L_8', '158_1p3_Pr_mc_AKGC417L_0', '158_1p3_Pr_mc_AKGC417L_1', '158_1p3_Pr_mc_AKGC417L_2', '158_1p3_Pr_mc_AKGC417L_4', '158_1p3_Pr_mc_AKGC417L_6', '158_1p3_Pr_mc_AKGC417L_8', '158_1p3_Tc_mc_AKGC417L_0', '158_1p3_Tc_mc_AKGC417L_1', '158_1p3_Tc_mc_AKGC417L_2', '158_1p3_Tc_mc_AKGC417L_4', '158_1p3_Tc_mc_AKGC417L_5', '158_1p3_Tc_mc_AKGC417L_6', '158_1p3_Tc_mc_AKGC417L_7', '158_1p3_Pl_mc_AKGC417L_0', '158_1p3_Pl_mc_AKGC417L_1', '158_1p3_Pl_mc_AKGC417L_2', '158_1p3_Pl_mc_AKGC417L_3', '158_1p3_Pl_mc_AKGC417L_7', '158_1p4_Pl_mc_AKGC417L_0', '158_1p4_Lr_mc_AKGC417L_3', '158_1p4_Lr_mc_AKGC417L_4', '158_1p4_Lr_mc_AKGC417L_5', '158_1p4_Lr_mc_AKGC417L_6', '158_1p4_Pr_mc_AKGC417L_0', '158_1p4_Pr_mc_AKGC417L_6', '158_2p2_Ar_mc_AKGC417L_2', '158_2p3_Tc_mc_AKGC417L_0', '158_2p3_Tc_mc_AKGC417L_2', '158_2p3_Tc_mc_AKGC417L_3', '158_2p3_Tc_mc_AKGC417L_4', '158_2p3_Tc_mc_AKGC417L_6', '158_2p3_Tc_mc_AKGC417L_7', '158_2p3_Tc_mc_AKGC417L_8', '158_2p3_Tc_mc_AKGC417L_9', '158_2p3_Tc_mc_AKGC417L_10', '158_2p3_Tc_mc_AKGC417L_11', '159_1b1_Al_sc_Meditron_2', '160_1b3_Ar_mc_AKGC417L_0', '160_1b3_Ar_mc_AKGC417L_1', '160_1b3_Ar_mc_AKGC417L_2', '160_1b3_Ar_mc_AKGC417L_3', '160_1b3_Pl_mc_AKGC417L_0', '160_1b3_Pl_mc_AKGC417L_3', '160_1b3_Tc_mc_AKGC417L_1', '160_1b3_Tc_mc_AKGC417L_2', '160_1b3_Tc_mc_AKGC417L_3', '160_1b4_Ar_mc_AKGC417L_0', '160_1b4_Ar_mc_AKGC417L_1', '160_1b4_Pl_mc_AKGC417L_0', '160_1b4_Pl_mc_AKGC417L_2', '160_1b4_Pl_mc_AKGC417L_3', '160_1b4_Lr_mc_AKGC417L_0', '160_1b4_Lr_mc_AKGC417L_1', '160_1b4_Lr_mc_AKGC417L_2', '160_1b4_Lr_mc_AKGC417L_3', '160_1b4_Tc_mc_AKGC417L_0', '160_1b4_Tc_mc_AKGC417L_1', '160_1b4_Tc_mc_AKGC417L_2', '160_1b4_Tc_mc_AKGC417L_3', '160_1b2_Ar_mc_AKGC417L_0', '160_1b2_Ar_mc_AKGC417L_1', '160_1b2_Lr_mc_AKGC417L_1', '160_1b2_Pr_mc_AKGC417L_1', '160_1b2_Pl_mc_AKGC417L_0', '160_1b2_Pl_mc_AKGC417L_1', '160_1b2_Tc_mc_AKGC417L_1', '160_1b3_Al_mc_AKGC417L_0', '160_1b3_Al_mc_AKGC417L_2', '160_1b3_Al_mc_AKGC417L_3', '160_1b3_Lr_mc_AKGC417L_0', '160_1b3_Lr_mc_AKGC417L_1', '160_1b3_Lr_mc_AKGC417L_2', '160_1b3_Lr_mc_AKGC417L_3', '161_1b1_Pl_sc_Meditron_3', '161_1b1_Pl_sc_Meditron_4', '161_1b1_Pl_sc_Meditron_5', '161_1b1_Pl_sc_Meditron_6', '161_1b1_Pl_sc_Meditron_7', '161_1b1_Pl_sc_Meditron_8', '161_1b1_Pl_sc_Meditron_9', '161_1b1_Al_sc_Meditron_2', '161_1b1_Al_sc_Meditron_3', '162_2b4_Pr_mc_AKGC417L_0', '164_1b1_Ll_sc_Meditron_0', '164_1b1_Ll_sc_Meditron_1', '164_1b1_Ll_sc_Meditron_5', '166_1p1_Pr_sc_Meditron_3', '166_1p1_Pr_sc_Meditron_4', '166_1p1_Pr_sc_Meditron_15', '165_1b1_Pr_sc_Meditron_5', '167_1b1_Pr_sc_Meditron_1', '167_1b1_Pr_sc_Meditron_2', '167_1b1_Pr_sc_Meditron_4', '167_1b1_Pr_sc_Meditron_5', '167_1b1_Pr_sc_Meditron_6', '167_1b1_Pr_sc_Meditron_9', '167_1b1_Pr_sc_Meditron_10', '167_1b1_Pr_sc_Meditron_14', '170_1b4_Ar_mc_AKGC417L_4', '170_2b2_Tc_mc_AKGC417L_5', '172_1b4_Al_mc_AKGC417L_1', '172_1b4_Al_mc_AKGC417L_2', '172_1b4_Al_mc_AKGC417L_3', '172_1b4_Ar_mc_AKGC417L_2', '172_1b4_Ar_mc_AKGC417L_3', '172_1b4_Ar_mc_AKGC417L_4', '172_1b4_Lr_mc_AKGC417L_1', '172_1b4_Lr_mc_AKGC417L_2', '172_1b4_Lr_mc_AKGC417L_3', '172_1b4_Lr_mc_AKGC417L_4', '172_1b4_Pl_mc_AKGC417L_1', '172_1b4_Pl_mc_AKGC417L_2', '172_1b4_Pl_mc_AKGC417L_3', '172_1b4_Pr_mc_AKGC417L_1', '172_1b4_Pr_mc_AKGC417L_2', '172_1b4_Pr_mc_AKGC417L_3', '172_1b4_Ll_mc_AKGC417L_3', '172_1b5_Ar_mc_AKGC417L_1', '172_1b5_Ll_mc_AKGC417L_1', '172_1b5_Lr_mc_AKGC417L_1', '172_1b5_Al_mc_AKGC417L_1', '172_1b4_Tc_mc_AKGC417L_2', '172_2b5_Ar_mc_AKGC417L_4', '172_2b5_Ar_mc_AKGC417L_5', '172_1b5_Pr_mc_AKGC417L_1', '172_1b5_Pr_mc_AKGC417L_4', '172_1b5_Pl_mc_AKGC417L_1', '172_2b5_Tc_mc_AKGC417L_5', '172_2b5_Lr_mc_AKGC417L_4', '172_2b5_Pl_mc_AKGC417L_5', '174_1p2_Pl_mc_AKGC417L_0', '174_1p2_Ll_mc_AKGC417L_0', '174_1p2_Ar_mc_AKGC417L_0', '174_1p2_Lr_mc_AKGC417L_0', '174_1p2_Pr_mc_AKGC417L_0', '175_1b1_Ar_sc_Litt3200_1', '175_1b1_Ar_sc_Litt3200_2', '175_1b1_Ll_sc_Litt3200_0', '175_1b1_Ll_sc_Litt3200_2', '175_1b1_Lr_sc_Litt3200_2', '175_1b1_Al_sc_Litt3200_0', '175_1b1_Pl_sc_Litt3200_0', '175_1b1_Pl_sc_Litt3200_1', '175_1b1_Pl_sc_Litt3200_2', '175_1b1_Pr_sc_Litt3200_1', '175_1b1_Pr_sc_Litt3200_2', '175_1b1_Pr_sc_Litt3200_3', '177_1b2_Pr_mc_AKGC417L_1', '177_1b2_Pr_mc_AKGC417L_2', '177_1b2_Pr_mc_AKGC417L_3', '177_1b4_Pr_mc_AKGC417L_0', '177_1b4_Pr_mc_AKGC417L_1', '177_1b4_Pr_mc_AKGC417L_3', '178_1b2_Ar_mc_AKGC417L_1', '178_1b2_Ar_mc_AKGC417L_2', '178_1b2_Ar_mc_AKGC417L_4', '178_1b2_Ar_mc_AKGC417L_5', '178_1b2_Ar_mc_AKGC417L_7', '178_1b2_Al_mc_AKGC417L_1', '178_1b2_Al_mc_AKGC417L_2', '178_1b2_Al_mc_AKGC417L_3', '178_1b2_Al_mc_AKGC417L_4', '178_1b2_Al_mc_AKGC417L_7', '178_1b2_Al_mc_AKGC417L_8', '178_1b2_Lr_mc_AKGC417L_0', '178_1b2_Lr_mc_AKGC417L_3', '178_1b2_Lr_mc_AKGC417L_4', '178_1b3_Al_mc_AKGC417L_2', '178_1b2_Tc_mc_AKGC417L_1', '178_1b2_Tc_mc_AKGC417L_2', '178_1b2_Tc_mc_AKGC417L_3', '178_1b2_Tc_mc_AKGC417L_7', '178_1b2_Tc_mc_AKGC417L_8', '178_1b2_Pr_mc_AKGC417L_1', '178_1b2_Pr_mc_AKGC417L_3', '178_1b2_Pr_mc_AKGC417L_4', '178_1b2_Pr_mc_AKGC417L_5', '178_1b2_Pr_mc_AKGC417L_7', '178_1b6_Ll_mc_AKGC417L_0', '178_1b6_Ll_mc_AKGC417L_1', '178_1b6_Ll_mc_AKGC417L_2', '178_1b6_Ll_mc_AKGC417L_3', '178_1b6_Ll_mc_AKGC417L_4', '178_1b6_Ll_mc_AKGC417L_5', '178_1b6_Ll_mc_AKGC417L_6', '178_1b6_Ll_mc_AKGC417L_7', '178_1b6_Pr_mc_AKGC417L_1', '178_1b6_Pr_mc_AKGC417L_7', '179_1b1_Tc_sc_Meditron_4', '180_1b4_Al_mc_AKGC417L_5', '185_1b1_Ll_sc_Litt3200_8', '186_2b2_Al_mc_AKGC417L_0', '186_2b3_Tc_mc_AKGC417L_4', '192_2b2_Al_mc_LittC2SE_0', '192_2b2_Al_mc_LittC2SE_2', '192_2b2_Al_mc_LittC2SE_4', '192_2b2_Al_mc_LittC2SE_5', '192_2b2_Al_mc_LittC2SE_6', '192_2b2_Al_mc_LittC2SE_7', '192_2b3_Ar_mc_LittC2SE_1', '192_2b3_Ar_mc_LittC2SE_2', '192_2b3_Ar_mc_LittC2SE_3', '192_2b3_Ar_mc_LittC2SE_4', '192_2b3_Ar_mc_LittC2SE_5', '192_2b3_Ar_mc_LittC2SE_6', '192_2b1_Ar_mc_LittC2SE_1', '192_2b1_Ar_mc_LittC2SE_2', '192_2b1_Ar_mc_LittC2SE_3', '192_2b1_Ar_mc_LittC2SE_4', '192_2b1_Ar_mc_LittC2SE_5', '192_2b1_Ar_mc_LittC2SE_6', '192_2b1_Ar_mc_LittC2SE_7', '192_2b1_Al_mc_LittC2SE_1', '192_2b1_Al_mc_LittC2SE_2', '192_2b1_Al_mc_LittC2SE_3', '192_2b1_Al_mc_LittC2SE_4', '192_2b1_Al_mc_LittC2SE_6', '192_2b1_Al_mc_LittC2SE_7', '192_2b2_Ar_mc_LittC2SE_1', '192_2b2_Ar_mc_LittC2SE_2', '192_2b2_Ar_mc_LittC2SE_3', '192_2b2_Ar_mc_LittC2SE_4', '192_2b2_Ar_mc_LittC2SE_5', '192_2b2_Ar_mc_LittC2SE_6', '192_2b2_Ar_mc_LittC2SE_7', '192_2b3_Al_mc_LittC2SE_1', '192_2b3_Al_mc_LittC2SE_2', '192_2b3_Al_mc_LittC2SE_3', '192_2b3_Al_mc_LittC2SE_4', '192_2b3_Al_mc_LittC2SE_5', '192_2b3_Al_mc_LittC2SE_6', '193_1b2_Al_mc_AKGC417L_1', '193_1b2_Al_mc_AKGC417L_2', '193_1b2_Al_mc_AKGC417L_3', '193_1b2_Al_mc_AKGC417L_4', '193_1b2_Al_mc_AKGC417L_5', '193_1b2_Al_mc_AKGC417L_6', '193_1b2_Al_mc_AKGC417L_7', '193_1b2_Al_mc_AKGC417L_8', '193_1b2_Al_mc_AKGC417L_9', '193_1b2_Al_mc_AKGC417L_10', '193_1b2_Al_mc_AKGC417L_11', '193_1b2_Pl_mc_AKGC417L_0', '193_1b2_Pl_mc_AKGC417L_1', '193_1b2_Pl_mc_AKGC417L_2', '193_1b2_Pl_mc_AKGC417L_3', '193_1b2_Pl_mc_AKGC417L_4', '193_1b2_Pl_mc_AKGC417L_5', '193_1b2_Pl_mc_AKGC417L_6', '193_1b2_Pl_mc_AKGC417L_7', '193_1b2_Pl_mc_AKGC417L_8', '193_1b2_Pl_mc_AKGC417L_9', '193_1b2_Pl_mc_AKGC417L_10', '193_1b2_Pl_mc_AKGC417L_11', '193_1b2_Pr_mc_AKGC417L_0', '193_1b2_Pr_mc_AKGC417L_1', '193_1b2_Pr_mc_AKGC417L_2', '193_1b2_Pr_mc_AKGC417L_3', '193_1b2_Pr_mc_AKGC417L_4', '193_1b2_Pr_mc_AKGC417L_5', '193_1b2_Pr_mc_AKGC417L_6', '193_1b2_Pr_mc_AKGC417L_7', '193_1b2_Pr_mc_AKGC417L_8', '193_1b2_Pr_mc_AKGC417L_9', '193_1b2_Pr_mc_AKGC417L_10', '193_1b2_Pr_mc_AKGC417L_11', '193_1b2_Ar_mc_AKGC417L_1', '193_1b2_Ar_mc_AKGC417L_2', '193_1b2_Ar_mc_AKGC417L_3', '193_1b2_Ar_mc_AKGC417L_4', '193_1b2_Ar_mc_AKGC417L_5', '193_1b2_Ar_mc_AKGC417L_6', '193_1b2_Ar_mc_AKGC417L_7', '193_1b2_Ar_mc_AKGC417L_8', '193_1b2_Ar_mc_AKGC417L_9', '193_1b2_Ar_mc_AKGC417L_10', '193_1b2_Ar_mc_AKGC417L_11', '193_1b2_Tc_mc_AKGC417L_1', '193_1b2_Tc_mc_AKGC417L_2', '193_1b2_Tc_mc_AKGC417L_5', '193_1b2_Tc_mc_AKGC417L_6', '193_1b2_Tc_mc_AKGC417L_7', '193_1b2_Tc_mc_AKGC417L_8', '193_1b2_Tc_mc_AKGC417L_9', '193_1b2_Tc_mc_AKGC417L_10', '193_1b2_Tc_mc_AKGC417L_11', '193_1b4_Lr_mc_AKGC417L_0', '193_1b4_Lr_mc_AKGC417L_1', '193_1b4_Lr_mc_AKGC417L_2', '193_1b4_Lr_mc_AKGC417L_3', '193_1b4_Lr_mc_AKGC417L_4', '193_1b4_Lr_mc_AKGC417L_5', '193_1b4_Lr_mc_AKGC417L_6', '193_1b4_Lr_mc_AKGC417L_7', '193_1b4_Lr_mc_AKGC417L_8', '193_1b4_Lr_mc_AKGC417L_9', '195_1b1_Ll_sc_Litt3200_0', '195_1b1_Ll_sc_Litt3200_5', '195_1b1_Al_sc_Litt3200_0', '195_1b1_Al_sc_Litt3200_2', '195_1b1_Al_sc_Litt3200_5', '195_1b1_Al_sc_Litt3200_7', '195_1b1_Al_sc_Litt3200_8', '195_1b1_Lr_sc_Litt3200_1', '195_1b1_Lr_sc_Litt3200_2', '195_1b1_Lr_sc_Litt3200_4', '195_1b1_Lr_sc_Litt3200_5', '195_1b1_Lr_sc_Litt3200_6', '195_1b1_Ar_sc_Litt3200_0', '195_1b1_Ar_sc_Litt3200_2', '195_1b1_Pr_sc_Litt3200_6', '195_1b1_Pr_sc_Litt3200_16', '195_1b1_Pl_sc_Litt3200_0', '195_1b1_Pl_sc_Litt3200_1', '195_1b1_Pl_sc_Litt3200_3', '195_1b1_Pl_sc_Litt3200_4', '195_1b1_Pl_sc_Litt3200_5', '195_1b1_Pl_sc_Litt3200_6', '195_1b1_Pl_sc_Litt3200_7', '197_1b1_Tc_sc_Meditron_4', '198_1b5_Al_mc_AKGC417L_0', '198_1b5_Al_mc_AKGC417L_1', '198_1b5_Al_mc_AKGC417L_2', '198_1b5_Al_mc_AKGC417L_3', '198_1b5_Al_mc_AKGC417L_4', '198_1b5_Al_mc_AKGC417L_5', '198_1b5_Ar_mc_AKGC417L_0', '198_1b5_Ar_mc_AKGC417L_1', '198_1b5_Ar_mc_AKGC417L_2', '198_1b5_Ar_mc_AKGC417L_3', '198_1b5_Ar_mc_AKGC417L_4', '198_1b5_Ar_mc_AKGC417L_5', '198_1b5_Ll_mc_AKGC417L_1', '198_1b5_Ll_mc_AKGC417L_2', '198_1b5_Ll_mc_AKGC417L_3', '198_1b5_Ll_mc_AKGC417L_4', '201_1b2_Al_sc_Meditron_1', '201_1b2_Al_sc_Meditron_2', '201_1b2_Al_sc_Meditron_3', '201_1b2_Al_sc_Meditron_4', '201_1b2_Al_sc_Meditron_5', '201_1b1_Al_sc_Meditron_3', '201_1b1_Al_sc_Meditron_4', '201_1b2_Ar_sc_Meditron_2', '201_1b3_Al_sc_Meditron_2', '201_1b3_Al_sc_Meditron_3', '203_1p2_Al_mc_AKGC417L_5', '203_1p2_Lr_mc_AKGC417L_0', '203_1p2_Lr_mc_AKGC417L_1', '203_1p2_Lr_mc_AKGC417L_3', '203_1p2_Lr_mc_AKGC417L_6', '203_1p2_Lr_mc_AKGC417L_7', '203_1p3_Ar_mc_AKGC417L_3', '203_1p3_Pr_mc_AKGC417L_5', '203_1p4_Pl_mc_AKGC417L_6', '203_1p4_Tc_mc_AKGC417L_7', '206_1b1_Ar_sc_Meditron_6', '211_1p2_Pl_mc_AKGC417L_1', '211_1p2_Pl_mc_AKGC417L_2', '211_1p2_Pl_mc_AKGC417L_5', '211_1p2_Pl_mc_AKGC417L_8', '218_1b1_Al_sc_Meditron_9', '218_1b1_Al_sc_Meditron_10', '218_1b1_Al_sc_Meditron_11', '218_1b1_Al_sc_Meditron_14', '218_1b1_Ar_sc_Meditron_0', '218_1b1_Ar_sc_Meditron_1', '218_1b1_Ar_sc_Meditron_2', '218_1b1_Ar_sc_Meditron_5', '218_1b1_Ar_sc_Meditron_6', '218_1b1_Ar_sc_Meditron_7', '218_1b1_Ar_sc_Meditron_10', '218_1b1_Ar_sc_Meditron_11', '218_1b1_Ar_sc_Meditron_12', '218_1b1_Pr_sc_Meditron_1', '218_1b1_Pr_sc_Meditron_3', '218_1b1_Pr_sc_Meditron_5', '218_1b1_Pr_sc_Meditron_6', '218_1b1_Pr_sc_Meditron_8', '218_1b1_Pr_sc_Meditron_9', '218_1b1_Pr_sc_Meditron_10', '218_1b1_Pr_sc_Meditron_11', '218_1b1_Pr_sc_Meditron_12', '218_1b1_Pr_sc_Meditron_13', '218_1b1_Pr_sc_Meditron_14', '218_1p1_Pl_sc_Litt3200_4', '218_1p1_Pl_sc_Litt3200_5', '218_1p1_Pl_sc_Litt3200_6', '218_1p1_Pl_sc_Litt3200_7', '218_1p1_Pr_sc_Litt3200_3', '218_1p1_Pr_sc_Litt3200_4', '218_1p1_Pr_sc_Litt3200_5', '218_1p1_Pr_sc_Litt3200_6', '218_1b1_Pl_sc_Meditron_10', '218_1b1_Pl_sc_Meditron_11', '218_1b1_Pl_sc_Meditron_12', '218_1b1_Pl_sc_Meditron_13', '218_1b1_Lr_sc_Meditron_12', '218_1b1_Lr_sc_Meditron_13', '218_1b1_Lr_sc_Meditron_14', '218_1b1_Lr_sc_Meditron_17', '221_2b1_Ar_mc_LittC2SE_1', '221_2b1_Ar_mc_LittC2SE_3', '221_2b1_Ar_mc_LittC2SE_4', '221_2b1_Al_mc_LittC2SE_1', '221_2b1_Al_mc_LittC2SE_2', '221_2b1_Al_mc_LittC2SE_3', '221_2b1_Al_mc_LittC2SE_4', '221_2b1_Lr_mc_LittC2SE_0', '221_2b1_Lr_mc_LittC2SE_1', '221_2b1_Lr_mc_LittC2SE_3', '221_2b1_Lr_mc_LittC2SE_4', '221_2b3_Ar_mc_LittC2SE_1', '221_2b3_Ar_mc_LittC2SE_2', '221_2b3_Ar_mc_LittC2SE_3', '221_2b3_Ar_mc_LittC2SE_4', '221_2b2_Lr_mc_LittC2SE_1', '221_2b2_Lr_mc_LittC2SE_2', '221_2b2_Lr_mc_LittC2SE_3', '221_2b2_Lr_mc_LittC2SE_4', '221_2b2_Ar_mc_LittC2SE_1', '221_2b2_Ar_mc_LittC2SE_2', '221_2b2_Ar_mc_LittC2SE_3', '221_2b2_Ar_mc_LittC2SE_4', '221_2b3_Pr_mc_LittC2SE_2', '221_2b3_Pr_mc_LittC2SE_3', '221_2b3_Pr_mc_LittC2SE_4', '221_2b3_Lr_mc_LittC2SE_1', '221_2b3_Lr_mc_LittC2SE_2', '221_2b3_Lr_mc_LittC2SE_3', '221_2b3_Lr_mc_LittC2SE_4', '107_2b3_Ar_mc_AKGC417L_1', '107_2b3_Ar_mc_AKGC417L_2', '107_2b3_Ar_mc_AKGC417L_3', '107_2b3_Ar_mc_AKGC417L_4', '107_2b3_Ar_mc_AKGC417L_5', '107_2b3_Ar_mc_AKGC417L_6', '107_2b3_Ar_mc_AKGC417L_7', '107_2b3_Pr_mc_AKGC417L_2', '107_2b3_Pr_mc_AKGC417L_5', '107_2b3_Pr_mc_AKGC417L_7', '107_2b4_Al_mc_AKGC417L_2', '107_2b5_Ar_mc_AKGC417L_4', '107_3p2_Al_mc_AKGC417L_0', '107_3p2_Al_mc_AKGC417L_1', '107_3p2_Al_mc_AKGC417L_2', '107_2b5_Pr_mc_AKGC417L_7', '107_3p2_Ar_mc_AKGC417L_3', '107_3p2_Ar_mc_AKGC417L_5', '107_3p2_Ar_mc_AKGC417L_6', '107_3p2_Ar_mc_AKGC417L_7', '107_3p2_Pr_mc_AKGC417L_0', '107_3p2_Pr_mc_AKGC417L_1', '107_3p2_Pr_mc_AKGC417L_2', '107_3p2_Pr_mc_AKGC417L_3', '107_3p2_Pr_mc_AKGC417L_4', '107_3p2_Tc_mc_AKGC417L_0', '107_3p2_Tc_mc_AKGC417L_1', '107_3p2_Tc_mc_AKGC417L_2', '107_3p2_Tc_mc_AKGC417L_3', '107_3p2_Tc_mc_AKGC417L_4', '107_3p2_Tc_mc_AKGC417L_5', '107_3p2_Lr_mc_AKGC417L_8', '110_1p1_Al_sc_Meditron_0', '110_1p1_Al_sc_Meditron_1', '110_1p1_Al_sc_Meditron_2', '112_1b1_Lr_sc_Meditron_0', '112_1b1_Lr_sc_Meditron_2', '112_1p1_Pl_sc_Litt3200_2', '112_1p1_Pl_sc_Litt3200_3', '112_1p1_Pl_sc_Litt3200_4', '112_1p1_Pl_sc_Litt3200_5', '114_1b4_Al_mc_AKGC417L_1', '114_1b4_Al_mc_AKGC417L_2', '114_1b4_Al_mc_AKGC417L_3', '114_1b4_Al_mc_AKGC417L_5', '114_1b4_Lr_mc_AKGC417L_0', '114_1b4_Lr_mc_AKGC417L_1', '114_1b4_Lr_mc_AKGC417L_2', '114_1b4_Lr_mc_AKGC417L_3', '114_1b4_Lr_mc_AKGC417L_5', '114_1b4_Ar_mc_AKGC417L_1', '114_1b4_Ar_mc_AKGC417L_2', '114_1b4_Ar_mc_AKGC417L_3', '114_1b4_Ar_mc_AKGC417L_5', '114_1b4_Pr_mc_AKGC417L_1', '114_1b4_Pr_mc_AKGC417L_2', '114_1b4_Pr_mc_AKGC417L_3', '114_1b4_Pr_mc_AKGC417L_5', '114_1b4_Pl_mc_AKGC417L_0', '114_1b4_Pl_mc_AKGC417L_1', '114_1b4_Pl_mc_AKGC417L_2', '114_1b4_Pl_mc_AKGC417L_3', '114_1b4_Pl_mc_AKGC417L_5', '124_1b1_Pl_sc_Litt3200_1', '124_1b1_Al_sc_Litt3200_0', '130_1p2_Ll_mc_AKGC417L_0', '130_1p2_Ll_mc_AKGC417L_1', '130_1p2_Ll_mc_AKGC417L_2', '130_1p2_Ll_mc_AKGC417L_3', '130_1p2_Ll_mc_AKGC417L_4', '130_1p2_Ll_mc_AKGC417L_5', '130_1p2_Al_mc_AKGC417L_2', '130_1p2_Al_mc_AKGC417L_4', '130_1p2_Ar_mc_AKGC417L_2', '130_1p2_Ar_mc_AKGC417L_4', '130_1p2_Ar_mc_AKGC417L_5', '130_1p2_Ar_mc_AKGC417L_6', '130_1p2_Lr_mc_AKGC417L_4', '130_1p2_Lr_mc_AKGC417L_5', '130_1p2_Lr_mc_AKGC417L_6', '130_1p3_Al_mc_AKGC417L_0', '130_1p3_Al_mc_AKGC417L_1', '130_1p3_Al_mc_AKGC417L_2', '130_1p3_Al_mc_AKGC417L_3', '130_1p3_Al_mc_AKGC417L_4', '130_1p2_Pr_mc_AKGC417L_2', '130_1p2_Pr_mc_AKGC417L_4', '130_1p2_Pr_mc_AKGC417L_5', '130_1p2_Tc_mc_AKGC417L_2', '130_1p2_Tc_mc_AKGC417L_4', '130_1p2_Tc_mc_AKGC417L_5', '130_1p2_Tc_mc_AKGC417L_6', '130_1p2_Pl_mc_AKGC417L_2', '130_1p2_Pl_mc_AKGC417L_4', '130_1p2_Pl_mc_AKGC417L_5', '130_1p2_Pl_mc_AKGC417L_6', '130_1p3_Ar_mc_AKGC417L_1', '130_1p3_Ar_mc_AKGC417L_2', '130_1p3_Ar_mc_AKGC417L_4', '130_1p3_Ll_mc_AKGC417L_2', '130_2p5_Al_mc_AKGC417L_10', '130_2p5_Tc_mc_AKGC417L_7', '130_2p5_Pl_mc_AKGC417L_5', '130_2p5_Pl_mc_AKGC417L_7', '130_2p5_Pr_mc_AKGC417L_1', '130_3p3_Tc_mc_AKGC417L_6', '130_3p4_Al_mc_AKGC417L_0', '130_3p4_Al_mc_AKGC417L_1', '130_3p3_Pl_mc_AKGC417L_6', '130_3p3_Al_mc_AKGC417L_6', '130_3p3_Pr_mc_AKGC417L_3', '130_3p4_Tc_mc_AKGC417L_0', '130_3p4_Tc_mc_AKGC417L_1', '130_3p4_Tc_mc_AKGC417L_2', '130_3p4_Tc_mc_AKGC417L_3', '130_3p4_Tc_mc_AKGC417L_4', '130_3p4_Pr_mc_AKGC417L_0', '130_3p4_Pr_mc_AKGC417L_1', '130_3p4_Pl_mc_AKGC417L_2', '130_3p4_Pl_mc_AKGC417L_3', '130_3p4_Pl_mc_AKGC417L_4', '133_3p2_Pl_mc_AKGC417L_0', '133_3p2_Pr_mc_AKGC417L_2', '133_3p2_Pr_mc_AKGC417L_6', '138_1p2_Lr_mc_AKGC417L_0', '138_1p2_Pr_mc_AKGC417L_0', '138_1p2_Pr_mc_AKGC417L_1', '138_1p2_Pl_mc_AKGC417L_0', '138_1p4_Pl_mc_AKGC417L_0', '138_2p2_Ar_mc_AKGC417L_2', '138_2p2_Ar_mc_AKGC417L_6', '138_2p2_Pr_mc_AKGC417L_2', '138_2p2_Pr_mc_AKGC417L_6', '139_1b1_Ll_sc_Litt3200_0', '141_1b2_Ar_mc_LittC2SE_3', '141_1b1_Pr_mc_LittC2SE_3', '141_1b2_Pr_mc_LittC2SE_1', '141_1b2_Pr_mc_LittC2SE_2', '141_1b2_Pr_mc_LittC2SE_4', '141_1b3_Pr_mc_LittC2SE_0', '141_1b3_Pr_mc_LittC2SE_1', '141_1b3_Pr_mc_LittC2SE_2', '141_1b3_Pr_mc_LittC2SE_3', '141_1b3_Pr_mc_LittC2SE_4', '141_1b3_Pr_mc_LittC2SE_5', '146_2b2_Pl_mc_AKGC417L_2', '146_2b2_Pl_mc_AKGC417L_3', '146_2b2_Pl_mc_AKGC417L_4', '149_1b1_Al_sc_Meditron_4', '149_1b1_Al_sc_Meditron_16', '151_2p2_Al_mc_AKGC417L_0', '151_2p2_Al_mc_AKGC417L_2', '151_2p2_Ll_mc_AKGC417L_1', '151_2p2_Ll_mc_AKGC417L_2', '151_2p2_Ll_mc_AKGC417L_5', '151_2p3_Al_mc_AKGC417L_0', '151_2p3_Al_mc_AKGC417L_1', '151_2p3_Al_mc_AKGC417L_2', '151_2p3_Ll_mc_AKGC417L_4', '151_2p3_Ll_mc_AKGC417L_5', '151_2p4_Ll_mc_AKGC417L_0', '151_2p4_Ll_mc_AKGC417L_1', '151_2p4_Ll_mc_AKGC417L_2', '151_2p4_Ll_mc_AKGC417L_3', '151_3p2_Al_mc_AKGC417L_1', '151_2p4_Pl_mc_AKGC417L_0', '151_2p4_Pl_mc_AKGC417L_1', '151_2p4_Pl_mc_AKGC417L_2', '151_2p4_Pl_mc_AKGC417L_3', '151_3p2_Lr_mc_AKGC417L_1', '151_3p2_Pl_mc_AKGC417L_1', '151_3p2_Ar_mc_AKGC417L_1', '151_3p2_Pr_mc_AKGC417L_0', '151_3p2_Pr_mc_AKGC417L_1', '151_3p3_Ll_mc_AKGC417L_1', '151_3p3_Ll_mc_AKGC417L_2', '154_4b4_Al_mc_AKGC417L_1', '156_2b3_Al_mc_AKGC417L_0', '156_2b3_Al_mc_AKGC417L_1', '156_2b3_Al_mc_AKGC417L_3', '156_2b3_Al_mc_AKGC417L_4', '156_2b3_Al_mc_AKGC417L_5', '156_2b3_Lr_mc_AKGC417L_0', '156_2b3_Lr_mc_AKGC417L_1', '156_2b3_Lr_mc_AKGC417L_5', '156_2b3_Ll_mc_AKGC417L_0', '156_2b3_Ll_mc_AKGC417L_1', '156_2b3_Ll_mc_AKGC417L_2', '156_2b3_Ll_mc_AKGC417L_3', '156_2b3_Ll_mc_AKGC417L_4', '156_2b3_Ll_mc_AKGC417L_5', '156_2b3_Ar_mc_AKGC417L_1', '156_2b3_Pl_mc_AKGC417L_0', '156_2b3_Pl_mc_AKGC417L_1', '156_2b3_Pl_mc_AKGC417L_3', '156_2b3_Pl_mc_AKGC417L_4', '156_2b3_Pl_mc_AKGC417L_5', '156_5b3_Lr_mc_AKGC417L_1', '156_5b3_Lr_mc_AKGC417L_2', '156_5b3_Lr_mc_AKGC417L_3', '156_5b3_Lr_mc_AKGC417L_4', '156_5b3_Lr_mc_AKGC417L_5', '156_5b3_Lr_mc_AKGC417L_6', '156_5b3_Lr_mc_AKGC417L_7', '156_5b3_Lr_mc_AKGC417L_8', '156_5b3_Ar_mc_AKGC417L_1', '156_5b3_Ar_mc_AKGC417L_2', '156_5b3_Ar_mc_AKGC417L_4', '156_5b3_Ar_mc_AKGC417L_5', '156_5b3_Ar_mc_AKGC417L_6', '156_5b3_Ar_mc_AKGC417L_7', '156_5b3_Ar_mc_AKGC417L_8', '156_5b3_Ll_mc_AKGC417L_0', '156_5b3_Ll_mc_AKGC417L_1', '156_5b3_Al_mc_AKGC417L_1', '156_5b3_Al_mc_AKGC417L_2', '156_5b3_Al_mc_AKGC417L_3', '156_5b3_Al_mc_AKGC417L_4', '156_5b3_Al_mc_AKGC417L_5', '156_5b3_Al_mc_AKGC417L_6', '156_5b3_Al_mc_AKGC417L_7', '156_5b3_Al_mc_AKGC417L_8', '156_5b3_Pl_mc_AKGC417L_0', '156_5b3_Pl_mc_AKGC417L_1', '156_5b3_Pl_mc_AKGC417L_2', '156_5b3_Pl_mc_AKGC417L_3', '156_5b3_Pl_mc_AKGC417L_4', '156_5b3_Pl_mc_AKGC417L_5', '156_5b3_Pl_mc_AKGC417L_7', '156_8b3_Al_mc_AKGC417L_1', '156_8b3_Al_mc_AKGC417L_2', '156_8b3_Al_mc_AKGC417L_3', '156_8b3_Al_mc_AKGC417L_4', '156_5b3_Pr_mc_AKGC417L_0', '156_5b3_Pr_mc_AKGC417L_1', '156_5b3_Pr_mc_AKGC417L_2', '156_5b3_Pr_mc_AKGC417L_3', '156_5b3_Pr_mc_AKGC417L_4', '156_5b3_Pr_mc_AKGC417L_5', '156_5b3_Pr_mc_AKGC417L_6', '156_5b3_Pr_mc_AKGC417L_7', '156_5b3_Pr_mc_AKGC417L_8', '156_8b3_Ll_mc_AKGC417L_1', '156_8b3_Ll_mc_AKGC417L_2', '156_8b3_Ll_mc_AKGC417L_3', '156_8b3_Ll_mc_AKGC417L_4', '156_8b3_Ll_mc_AKGC417L_5', '156_8b3_Ll_mc_AKGC417L_6', '156_8b3_Ll_mc_AKGC417L_7', '156_8b3_Pl_mc_AKGC417L_2', '156_8b3_Pl_mc_AKGC417L_3', '156_8b3_Pl_mc_AKGC417L_4', '156_8b3_Pl_mc_AKGC417L_6', '156_8b3_Pl_mc_AKGC417L_7', '158_1p2_Ar_mc_AKGC417L_0', '158_1p2_Ar_mc_AKGC417L_1', '158_1p2_Ar_mc_AKGC417L_3', '158_1p2_Al_mc_AKGC417L_0', '158_1p2_Al_mc_AKGC417L_1', '158_1p2_Al_mc_AKGC417L_3', '158_1p2_Lr_mc_AKGC417L_0', '158_1p2_Lr_mc_AKGC417L_1', '158_1p2_Lr_mc_AKGC417L_2', '158_1p2_Lr_mc_AKGC417L_3', '158_1p2_Pl_mc_AKGC417L_0', '158_1p2_Pl_mc_AKGC417L_1', '158_1p2_Pl_mc_AKGC417L_3', '158_1p2_Pr_mc_AKGC417L_1', '158_1p2_Pr_mc_AKGC417L_2', '158_1p2_Pr_mc_AKGC417L_3', '158_1p2_Pr_mc_AKGC417L_4', '158_1p2_Ll_mc_AKGC417L_3', '158_1p3_Ll_mc_AKGC417L_5', '158_1p3_Ll_mc_AKGC417L_6', '158_1p3_Ar_mc_AKGC417L_0', '158_1p3_Ar_mc_AKGC417L_3', '158_1p3_Ar_mc_AKGC417L_4', '158_1p3_Ar_mc_AKGC417L_5', '158_1p3_Al_mc_AKGC417L_1', '158_1p3_Al_mc_AKGC417L_2', '158_1p3_Al_mc_AKGC417L_4', '158_1p3_Al_mc_AKGC417L_5', '158_1p3_Lr_mc_AKGC417L_0', '158_1p3_Lr_mc_AKGC417L_4', '158_1p3_Lr_mc_AKGC417L_5', '158_1p3_Lr_mc_AKGC417L_6', '158_1p4_Ar_mc_AKGC417L_0', '158_1p3_Pr_mc_AKGC417L_3', '158_1p3_Pr_mc_AKGC417L_5', '158_1p3_Pr_mc_AKGC417L_7', '158_1p3_Pl_mc_AKGC417L_4', '158_1p3_Pl_mc_AKGC417L_5', '158_1p3_Pl_mc_AKGC417L_6', '158_1p4_Al_mc_AKGC417L_0', '158_1p4_Al_mc_AKGC417L_1', '158_1p4_Al_mc_AKGC417L_7', '158_1p4_Pl_mc_AKGC417L_1', '158_1p4_Pl_mc_AKGC417L_7', '158_1p4_Pl_mc_AKGC417L_8', '158_1p4_Lr_mc_AKGC417L_0', '158_1p4_Lr_mc_AKGC417L_1', '158_1p4_Lr_mc_AKGC417L_2', '158_1p4_Lr_mc_AKGC417L_7', '158_1p4_Lr_mc_AKGC417L_8', '158_1p4_Pr_mc_AKGC417L_1', '158_1p4_Pr_mc_AKGC417L_2', '158_1p4_Pr_mc_AKGC417L_3', '158_1p4_Pr_mc_AKGC417L_4', '158_1p4_Pr_mc_AKGC417L_5', '158_1p4_Pr_mc_AKGC417L_7', '158_1p4_Pr_mc_AKGC417L_8', '158_2p2_Ar_mc_AKGC417L_1', '158_2p2_Ar_mc_AKGC417L_4', '158_2p3_Tc_mc_AKGC417L_1', '158_2p3_Tc_mc_AKGC417L_5', '158_2p3_Lr_mc_AKGC417L_2', '158_2p3_Lr_mc_AKGC417L_8', '158_2p3_Lr_mc_AKGC417L_9', '158_2p3_Lr_mc_AKGC417L_10', '158_2p3_Lr_mc_AKGC417L_11', '160_1b3_Pl_mc_AKGC417L_1', '160_1b3_Pl_mc_AKGC417L_2', '160_1b3_Pr_mc_AKGC417L_0', '160_1b3_Pr_mc_AKGC417L_1', '160_1b3_Pr_mc_AKGC417L_2', '160_1b3_Pr_mc_AKGC417L_3', '160_1b4_Ar_mc_AKGC417L_2', '160_1b4_Ar_mc_AKGC417L_3', '160_1b4_Pl_mc_AKGC417L_1', '160_1b4_Al_mc_AKGC417L_0', '160_1b4_Al_mc_AKGC417L_1', '160_1b4_Al_mc_AKGC417L_2', '160_1b4_Al_mc_AKGC417L_3', '160_1b4_Pr_mc_AKGC417L_0', '160_1b4_Pr_mc_AKGC417L_1', '160_1b2_Al_mc_AKGC417L_0', '160_1b2_Al_mc_AKGC417L_1', '160_1b2_Pr_mc_AKGC417L_0', '160_1b3_Al_mc_AKGC417L_1', '161_1b1_Al_sc_Meditron_0', '161_1b1_Al_sc_Meditron_1', '162_1b2_Ar_mc_AKGC417L_1', '170_1b4_Ar_mc_AKGC417L_1', '170_1b4_Ar_mc_AKGC417L_2', '170_1b4_Ar_mc_AKGC417L_3', '170_1b4_Ar_mc_AKGC417L_5', '172_1b4_Ar_mc_AKGC417L_1', '172_1b4_Pl_mc_AKGC417L_5', '172_1b4_Ll_mc_AKGC417L_1', '172_1b4_Ll_mc_AKGC417L_2', '172_1b4_Tc_mc_AKGC417L_1', '172_1b4_Tc_mc_AKGC417L_3', '172_1b5_Tc_mc_AKGC417L_1', '172_1b5_Pl_mc_AKGC417L_4', '172_2b5_Al_mc_AKGC417L_5', '172_2b5_Pr_mc_AKGC417L_4', '174_1p3_Pr_mc_AKGC417L_0', '174_1p3_Pr_mc_AKGC417L_2', '175_1b1_Lr_sc_Litt3200_1', '175_1b1_Al_sc_Litt3200_1', '175_1b1_Al_sc_Litt3200_2', '177_1b4_Pr_mc_AKGC417L_2', '177_1b4_Pr_mc_AKGC417L_4', '178_1b2_Ar_mc_AKGC417L_0', '178_1b2_Lr_mc_AKGC417L_1', '178_1b2_Lr_mc_AKGC417L_2', '178_1b2_Lr_mc_AKGC417L_7', '178_1b3_Ar_mc_AKGC417L_2', '178_1b3_Al_mc_AKGC417L_0', '178_1b3_Al_mc_AKGC417L_1', '178_1b2_Pr_mc_AKGC417L_2', '179_1b1_Al_sc_Meditron_1', '180_1b4_Pr_mc_AKGC417L_0', '180_1b4_Pr_mc_AKGC417L_1', '180_1b4_Pr_mc_AKGC417L_2', '180_1b4_Pr_mc_AKGC417L_3', '180_1b4_Pr_mc_AKGC417L_4', '180_1b4_Pl_mc_AKGC417L_0', '180_1b4_Pl_mc_AKGC417L_1', '180_1b4_Pl_mc_AKGC417L_2', '180_1b4_Pl_mc_AKGC417L_3', '180_1b4_Pl_mc_AKGC417L_4', '180_1b4_Lr_mc_AKGC417L_0', '180_1b4_Lr_mc_AKGC417L_1', '180_1b4_Lr_mc_AKGC417L_2', '180_1b4_Lr_mc_AKGC417L_3', '180_1b4_Lr_mc_AKGC417L_4', '180_1b4_Al_mc_AKGC417L_0', '180_1b4_Al_mc_AKGC417L_1', '180_1b4_Al_mc_AKGC417L_2', '180_1b4_Al_mc_AKGC417L_3', '180_1b4_Al_mc_AKGC417L_4', '180_1b4_Ar_mc_AKGC417L_0', '180_1b4_Ar_mc_AKGC417L_1', '180_1b4_Ar_mc_AKGC417L_2', '180_1b4_Ar_mc_AKGC417L_3', '180_1b4_Ar_mc_AKGC417L_4', '192_2b2_Al_mc_LittC2SE_1', '192_2b2_Al_mc_LittC2SE_3', '192_2b1_Al_mc_LittC2SE_5', '195_1b1_Ll_sc_Litt3200_3', '195_1b1_Ll_sc_Litt3200_4', '195_1b1_Ll_sc_Litt3200_6', '195_1b1_Lr_sc_Litt3200_0', '195_1b1_Lr_sc_Litt3200_3', '216_1b1_Al_sc_Meditron_3', '216_1b1_Al_sc_Meditron_4', '218_1b1_Al_sc_Meditron_5', '218_1b1_Al_sc_Meditron_6', '218_1b1_Al_sc_Meditron_7', '218_1b1_Al_sc_Meditron_8', '218_1b1_Ar_sc_Meditron_8', '218_1b1_Ar_sc_Meditron_9', '218_1b1_Pr_sc_Meditron_0', '218_1b1_Pr_sc_Meditron_4', '218_1b1_Pr_sc_Meditron_7', '218_1p1_Pl_sc_Litt3200_1', '218_1p1_Pl_sc_Litt3200_2', '218_1p1_Pr_sc_Litt3200_0', '218_1p1_Pr_sc_Litt3200_1', '218_1b1_Pl_sc_Meditron_1', '218_1b1_Pl_sc_Meditron_2', '218_1b1_Pl_sc_Meditron_3', '218_1b1_Pl_sc_Meditron_4', '218_1b1_Pl_sc_Meditron_5', '218_1b1_Pl_sc_Meditron_6', '218_1b1_Pl_sc_Meditron_7', '218_1b1_Pl_sc_Meditron_8', '218_1b1_Pl_sc_Meditron_9', '218_1b1_Lr_sc_Meditron_0', '218_1b1_Lr_sc_Meditron_1', '218_1b1_Lr_sc_Meditron_2', '218_1b1_Lr_sc_Meditron_3', '218_1b1_Lr_sc_Meditron_4', '218_1b1_Lr_sc_Meditron_5', '218_1b1_Lr_sc_Meditron_6', '218_1b1_Lr_sc_Meditron_7', '218_1b1_Lr_sc_Meditron_8', '218_1b1_Lr_sc_Meditron_11', '219_2b2_Ar_mc_LittC2SE_2', '220_1b1_Tc_mc_LittC2SE_5', '220_1b1_Tc_mc_LittC2SE_6', '222_1b1_Lr_sc_Meditron_0', '222_1b1_Lr_sc_Meditron_2', '222_1b1_Lr_sc_Meditron_5', '222_1b1_Lr_sc_Meditron_7', '222_1b1_Lr_sc_Meditron_9', '222_1b1_Lr_sc_Meditron_10', '222_1b1_Lr_sc_Meditron_11', '222_1b1_Lr_sc_Meditron_12', '222_1b1_Lr_sc_Meditron_13', '222_1b1_Lr_sc_Meditron_14', '222_1b1_Lr_sc_Meditron_15', '222_1b1_Lr_sc_Meditron_16', '222_1b1_Lr_sc_Meditron_18', '223_1b1_Lr_sc_Meditron_0', '223_1b1_Lr_sc_Meditron_1', '223_1b1_Lr_sc_Meditron_2', '223_1b1_Lr_sc_Meditron_3', '223_1b1_Lr_sc_Meditron_4', '223_1b1_Lr_sc_Meditron_5', '223_1b1_Lr_sc_Meditron_6', '223_1b1_Lr_sc_Meditron_7', '223_1b1_Lr_sc_Meditron_8', '223_1b1_Lr_sc_Meditron_9', '223_1b1_Ll_sc_Meditron_0', '223_1b1_Ll_sc_Meditron_2', '223_1b1_Ll_sc_Meditron_3', '223_1b1_Ll_sc_Meditron_4', '223_1b1_Ll_sc_Meditron_5', '223_1b1_Ll_sc_Meditron_6', '223_1b1_Ll_sc_Meditron_7', '223_1b1_Ll_sc_Meditron_8', '223_1b1_Ll_sc_Meditron_9', '226_1b1_Pl_sc_LittC2SE_2', '226_1b1_Pl_sc_LittC2SE_3', '226_1b1_Pl_sc_LittC2SE_5', '226_1b1_Pl_sc_LittC2SE_6', '226_1b1_Pl_sc_LittC2SE_9', '226_1b1_Al_sc_Meditron_2', '226_1b1_Al_sc_Meditron_3', '226_1b1_Ll_sc_Meditron_1', '226_1b1_Ll_sc_Meditron_2', '226_1b1_Ll_sc_Meditron_3', '226_1b1_Ll_sc_Meditron_5', '226_1b1_Ll_sc_Meditron_6', '226_1b1_Ll_sc_Meditron_7', '104_1b1_Ll_sc_Litt3200_4', '106_2b1_Pl_mc_LittC2SE_0', '106_2b1_Pl_mc_LittC2SE_1', '106_2b1_Pl_mc_LittC2SE_3', '106_2b1_Pl_mc_LittC2SE_4', '106_2b1_Pl_mc_LittC2SE_5', '106_2b1_Pl_mc_LittC2SE_6', '106_2b1_Pl_mc_LittC2SE_7', '106_2b1_Pl_mc_LittC2SE_8', '107_2b3_Lr_mc_AKGC417L_1', '107_2b3_Lr_mc_AKGC417L_2', '107_2b3_Lr_mc_AKGC417L_3', '107_2b3_Lr_mc_AKGC417L_4', '107_2b3_Lr_mc_AKGC417L_5', '107_2b3_Lr_mc_AKGC417L_6', '107_2b3_Lr_mc_AKGC417L_7', '107_2b3_Ll_mc_AKGC417L_0', '107_2b3_Ll_mc_AKGC417L_1', '107_2b3_Ll_mc_AKGC417L_2', '107_2b3_Ll_mc_AKGC417L_3', '107_2b3_Ll_mc_AKGC417L_4', '107_2b3_Ll_mc_AKGC417L_5', '107_2b3_Ll_mc_AKGC417L_6', '107_2b3_Ll_mc_AKGC417L_7', '107_2b3_Al_mc_AKGC417L_0', '107_2b3_Al_mc_AKGC417L_1', '107_2b3_Al_mc_AKGC417L_2', '107_2b3_Al_mc_AKGC417L_3', '107_2b3_Al_mc_AKGC417L_4', '107_2b3_Al_mc_AKGC417L_5', '107_2b3_Al_mc_AKGC417L_6', '107_2b3_Ar_mc_AKGC417L_0', '107_2b3_Pr_mc_AKGC417L_1', '107_2b3_Pr_mc_AKGC417L_4', '107_2b3_Pr_mc_AKGC417L_6', '107_2b4_Al_mc_AKGC417L_0', '107_2b4_Al_mc_AKGC417L_1', '107_2b4_Al_mc_AKGC417L_3', '107_2b4_Al_mc_AKGC417L_5', '107_2b4_Al_mc_AKGC417L_6', '107_2b4_Al_mc_AKGC417L_7', '107_2b3_Tc_mc_AKGC417L_3', '107_2b3_Tc_mc_AKGC417L_7', '107_2b4_Ar_mc_AKGC417L_0', '107_2b4_Ar_mc_AKGC417L_1', '107_2b4_Ar_mc_AKGC417L_2', '107_2b4_Ar_mc_AKGC417L_3', '107_2b4_Ar_mc_AKGC417L_4', '107_2b4_Ar_mc_AKGC417L_5', '107_2b4_Ar_mc_AKGC417L_6', '107_2b4_Ar_mc_AKGC417L_7', '107_2b4_Lr_mc_AKGC417L_0', '107_2b4_Lr_mc_AKGC417L_1', '107_2b4_Lr_mc_AKGC417L_2', '107_2b4_Lr_mc_AKGC417L_3', '107_2b4_Lr_mc_AKGC417L_4', '107_2b4_Lr_mc_AKGC417L_5', '107_2b4_Lr_mc_AKGC417L_6', '107_2b4_Lr_mc_AKGC417L_7', '107_2b4_Pr_mc_AKGC417L_0', '107_2b4_Pr_mc_AKGC417L_1', '107_2b4_Pr_mc_AKGC417L_2', '107_2b4_Pr_mc_AKGC417L_3', '107_2b4_Pr_mc_AKGC417L_4', '107_2b4_Pr_mc_AKGC417L_5', '107_2b4_Pr_mc_AKGC417L_6', '107_2b4_Pr_mc_AKGC417L_7', '107_2b4_Pl_mc_AKGC417L_0', '107_2b4_Pl_mc_AKGC417L_2', '107_2b4_Pl_mc_AKGC417L_5', '107_2b4_Ll_mc_AKGC417L_0', '107_2b4_Ll_mc_AKGC417L_1', '107_2b4_Ll_mc_AKGC417L_2', '107_2b4_Ll_mc_AKGC417L_3', '107_2b4_Ll_mc_AKGC417L_4', '107_2b4_Ll_mc_AKGC417L_5', '107_2b4_Ll_mc_AKGC417L_6', '107_2b4_Ll_mc_AKGC417L_7', '107_2b5_Lr_mc_AKGC417L_1', '107_2b5_Lr_mc_AKGC417L_2', '107_2b5_Lr_mc_AKGC417L_3', '107_2b5_Lr_mc_AKGC417L_4', '107_2b5_Lr_mc_AKGC417L_5', '107_2b5_Lr_mc_AKGC417L_6', '107_2b5_Lr_mc_AKGC417L_7', '107_2b5_Ar_mc_AKGC417L_2', '107_2b5_Ar_mc_AKGC417L_5', '107_2b5_Al_mc_AKGC417L_1', '107_2b5_Al_mc_AKGC417L_2', '107_2b5_Al_mc_AKGC417L_3', '107_2b5_Al_mc_AKGC417L_4', '107_2b5_Al_mc_AKGC417L_5', '107_2b5_Al_mc_AKGC417L_6', '107_2b5_Al_mc_AKGC417L_7', '107_2b5_Ll_mc_AKGC417L_1', '107_2b5_Ll_mc_AKGC417L_2', '107_2b5_Ll_mc_AKGC417L_3', '107_2b5_Ll_mc_AKGC417L_4', '107_2b5_Ll_mc_AKGC417L_5', '107_2b5_Ll_mc_AKGC417L_7', '107_2b5_Tc_mc_AKGC417L_2', '107_2b5_Tc_mc_AKGC417L_3', '107_3p2_Al_mc_AKGC417L_3', '107_3p2_Al_mc_AKGC417L_4', '107_3p2_Al_mc_AKGC417L_5', '107_3p2_Al_mc_AKGC417L_6', '107_3p2_Al_mc_AKGC417L_7', '107_3p2_Al_mc_AKGC417L_8', '107_2b5_Pr_mc_AKGC417L_1', '107_2b5_Pr_mc_AKGC417L_3', '107_2b5_Pr_mc_AKGC417L_4', '107_2b5_Pr_mc_AKGC417L_6', '107_3p2_Pr_mc_AKGC417L_5', '107_3p2_Pr_mc_AKGC417L_6', '107_3p2_Pr_mc_AKGC417L_7', '107_3p2_Pr_mc_AKGC417L_8', '107_3p2_Pl_mc_AKGC417L_0', '107_3p2_Pl_mc_AKGC417L_1', '107_3p2_Pl_mc_AKGC417L_2', '107_3p2_Pl_mc_AKGC417L_3', '107_3p2_Pl_mc_AKGC417L_4', '107_3p2_Pl_mc_AKGC417L_5', '107_3p2_Pl_mc_AKGC417L_6', '107_3p2_Pl_mc_AKGC417L_7', '107_3p2_Pl_mc_AKGC417L_8', '107_3p2_Ll_mc_AKGC417L_0', '107_3p2_Ll_mc_AKGC417L_1', '107_3p2_Ll_mc_AKGC417L_2', '107_3p2_Ll_mc_AKGC417L_3', '107_3p2_Ll_mc_AKGC417L_4', '107_3p2_Ll_mc_AKGC417L_5', '107_3p2_Ll_mc_AKGC417L_6', '107_3p2_Ll_mc_AKGC417L_7', '107_3p2_Ll_mc_AKGC417L_8', '107_3p2_Lr_mc_AKGC417L_5', '107_3p2_Lr_mc_AKGC417L_6', '107_3p2_Lr_mc_AKGC417L_7', '109_1b1_Ll_sc_Litt3200_1', '109_1b1_Ll_sc_Litt3200_2', '109_1b1_Ll_sc_Litt3200_3', '109_1b1_Ll_sc_Litt3200_4', '109_1b1_Ll_sc_Litt3200_5', '109_1b1_Ll_sc_Litt3200_6', '109_1b1_Ll_sc_Litt3200_7', '109_1b1_Lr_sc_Litt3200_0', '109_1b1_Lr_sc_Litt3200_1', '109_1b1_Lr_sc_Litt3200_2', '109_1b1_Lr_sc_Litt3200_3', '109_1b1_Lr_sc_Litt3200_4', '109_1b1_Lr_sc_Litt3200_5', '109_1b1_Lr_sc_Litt3200_6', '109_1b1_Lr_sc_Litt3200_7', '110_1p1_Al_sc_Meditron_3', '110_1p1_Al_sc_Meditron_5', '110_1p1_Al_sc_Meditron_6', '110_1b1_Pr_sc_Meditron_0', '110_1b1_Pr_sc_Meditron_1', '110_1p1_Lr_sc_Meditron_0', '110_1p1_Lr_sc_Meditron_1', '110_1p1_Lr_sc_Meditron_2', '110_1p1_Lr_sc_Meditron_3', '110_1p1_Lr_sc_Meditron_4', '110_1p1_Lr_sc_Meditron_5', '110_1p1_Lr_sc_Meditron_6', '112_1b1_Ar_sc_Meditron_8', '112_1b1_Lr_sc_Meditron_1', '112_1b1_Lr_sc_Meditron_3', '112_1b1_Lr_sc_Meditron_4', '112_1p1_Pl_sc_Litt3200_0', '114_1b4_Al_mc_AKGC417L_4', '114_1b4_Al_mc_AKGC417L_6', '114_1b4_Lr_mc_AKGC417L_4', '114_1b4_Lr_mc_AKGC417L_6', '114_1b4_Ar_mc_AKGC417L_4', '114_1b4_Pr_mc_AKGC417L_4', '114_1b4_Pr_mc_AKGC417L_6', '114_1b4_Pl_mc_AKGC417L_4', '114_1b4_Pl_mc_AKGC417L_6', '120_1b1_Pr_sc_Meditron_0', '120_1b1_Pl_sc_Meditron_15', '120_1b1_Pl_sc_Meditron_16', '120_1b1_Pl_sc_Meditron_17', '120_1b1_Pl_sc_Meditron_18', '120_1b1_Pl_sc_Meditron_20', '120_1b1_Pl_sc_Meditron_21', '120_1b1_Pl_sc_Meditron_22', '120_1b1_Pl_sc_Meditron_23', '120_1b1_Pl_sc_Meditron_24', '120_1b1_Pl_sc_Meditron_25', '120_1b1_Pl_sc_Meditron_26', '120_1b1_Pl_sc_Meditron_27', '120_1b1_Pl_sc_Meditron_28', '120_1b1_Pl_sc_Meditron_29', '128_1b3_Tc_mc_LittC2SE_0', '128_1b3_Tc_mc_LittC2SE_2', '128_1b3_Tc_mc_LittC2SE_3', '127_1b1_Ar_sc_Meditron_4', '127_1b1_Ar_sc_Meditron_6', '127_1b1_Ar_sc_Meditron_8', '125_1b1_Tc_sc_Meditron_2', '125_1b1_Tc_sc_Meditron_4', '160_1b3_Pr_mc_AKGC417L_4', '160_1b4_Pr_mc_AKGC417L_2', '160_1b4_Pr_mc_AKGC417L_3', '160_2b3_Lr_mc_AKGC417L_3', '160_2b4_Pl_mc_AKGC417L_0', '160_2b4_Pl_mc_AKGC417L_1', '160_2b4_Pl_mc_AKGC417L_2', '160_2b4_Pl_mc_AKGC417L_3', '160_2b4_Pl_mc_AKGC417L_4', '160_2b4_Pl_mc_AKGC417L_5', '160_2b4_Pl_mc_AKGC417L_6', '160_2b4_Ar_mc_AKGC417L_0', '160_2b4_Ar_mc_AKGC417L_1', '160_2b4_Ar_mc_AKGC417L_2', '160_2b4_Ar_mc_AKGC417L_3', '160_2b4_Ar_mc_AKGC417L_4', '160_2b4_Ar_mc_AKGC417L_5', '160_2b4_Ar_mc_AKGC417L_6', '160_2b4_Pr_mc_AKGC417L_0', '160_2b4_Pr_mc_AKGC417L_1', '160_2b4_Pr_mc_AKGC417L_2', '160_2b4_Pr_mc_AKGC417L_3', '160_2b4_Pr_mc_AKGC417L_4', '160_2b4_Pr_mc_AKGC417L_5', '160_2b4_Pr_mc_AKGC417L_6', '160_1b2_Lr_mc_AKGC417L_0', '161_1b1_Al_sc_Meditron_5', '161_1b1_Al_sc_Meditron_7', '162_1b2_Tc_mc_AKGC417L_0', '162_1b2_Tc_mc_AKGC417L_1', '162_2b4_Tc_mc_AKGC417L_0', '162_2b4_Tc_mc_AKGC417L_1', '162_2b4_Tc_mc_AKGC417L_2', '163_2b2_Lr_mc_AKGC417L_0', '163_2b2_Lr_mc_AKGC417L_2', '163_2b2_Lr_mc_AKGC417L_3', '163_2b2_Pl_mc_AKGC417L_0', '163_2b2_Pl_mc_AKGC417L_1', '163_2b2_Ll_mc_AKGC417L_1', '163_2b2_Ll_mc_AKGC417L_2', '164_1b1_Ll_sc_Meditron_2', '166_1p1_Al_sc_Meditron_10', '166_1p1_Al_sc_Meditron_11', '166_1p1_Al_sc_Meditron_13', '166_1p1_Al_sc_Meditron_14', '166_1p1_Al_sc_Meditron_15', '166_1p1_Pl_sc_Meditron_16', '166_1p1_Pl_sc_Meditron_17', '166_1p1_Pl_sc_Meditron_18', '166_1p1_Pl_sc_Meditron_19', '166_1p1_Pl_sc_Meditron_20', '166_1p1_Pl_sc_Meditron_21', '166_1p1_Pl_sc_Meditron_23', '166_1p1_Ll_sc_Meditron_0', '166_1p1_Ll_sc_Meditron_1', '166_1p1_Ll_sc_Meditron_2', '166_1p1_Ll_sc_Meditron_3', '166_1p1_Ll_sc_Meditron_4', '166_1p1_Ll_sc_Meditron_5', '166_1p1_Ll_sc_Meditron_6', '166_1p1_Ll_sc_Meditron_7', '166_1p1_Ll_sc_Meditron_8', '166_1p1_Ll_sc_Meditron_9', '166_1p1_Ll_sc_Meditron_10', '166_1p1_Ll_sc_Meditron_11', '166_1p1_Ll_sc_Meditron_12', '166_1p1_Ll_sc_Meditron_13', '166_1p1_Ll_sc_Meditron_14', '166_1p1_Ll_sc_Meditron_17', '165_1b1_Pr_sc_Meditron_1', '165_1b1_Ar_sc_Meditron_2', '165_1b1_Ar_sc_Meditron_3', '169_1b1_Lr_sc_Meditron_0', '169_1b1_Lr_sc_Meditron_1', '169_1b1_Lr_sc_Meditron_3', '169_1b1_Lr_sc_Meditron_4', '169_1b1_Lr_sc_Meditron_5', '169_1b2_Ll_sc_Meditron_0', '169_1b2_Ll_sc_Meditron_1', '169_1b2_Ll_sc_Meditron_2', '169_1b2_Ll_sc_Meditron_3', '169_1b2_Ll_sc_Meditron_5', '169_1b2_Ll_sc_Meditron_6', '170_1b2_Pl_mc_AKGC417L_0', '170_1b2_Pl_mc_AKGC417L_1', '170_1b2_Pl_mc_AKGC417L_2', '170_1b2_Pl_mc_AKGC417L_3', '170_1b3_Pl_mc_AKGC417L_0', '170_1b3_Pl_mc_AKGC417L_1', '170_1b3_Pl_mc_AKGC417L_2', '170_1b3_Pl_mc_AKGC417L_3', '170_1b3_Pl_mc_AKGC417L_4', '170_1b3_Pl_mc_AKGC417L_5', '170_1b3_Pr_mc_AKGC417L_0', '170_1b3_Lr_mc_AKGC417L_3', '170_1b4_Ar_mc_AKGC417L_0', '170_2b2_Ar_mc_AKGC417L_1', '170_2b2_Ar_mc_AKGC417L_2', '170_2b2_Ar_mc_AKGC417L_3', '170_1b4_Pl_mc_AKGC417L_0', '170_1b4_Pl_mc_AKGC417L_1', '170_1b4_Pl_mc_AKGC417L_2', '170_1b4_Pl_mc_AKGC417L_3', '170_1b4_Pl_mc_AKGC417L_4', '170_1b4_Pl_mc_AKGC417L_5', '170_1b4_Pr_mc_AKGC417L_1', '170_1b4_Pr_mc_AKGC417L_4', '172_1b3_Ll_mc_AKGC417L_0', '172_1b3_Ll_mc_AKGC417L_2', '172_1b3_Ll_mc_AKGC417L_3', '172_1b3_Ll_mc_AKGC417L_4', '172_1b3_Ll_mc_AKGC417L_5', '172_1b3_Ll_mc_AKGC417L_6', '172_1b3_Al_mc_AKGC417L_6', '172_1b3_Tc_mc_AKGC417L_6', '172_1b3_Pr_mc_AKGC417L_0', '172_1b3_Pr_mc_AKGC417L_1', '172_1b3_Pr_mc_AKGC417L_2', '172_1b3_Pr_mc_AKGC417L_3', '172_1b3_Pr_mc_AKGC417L_4', '172_1b3_Pr_mc_AKGC417L_5', '172_1b3_Pr_mc_AKGC417L_6', '172_1b4_Al_mc_AKGC417L_0', '172_1b4_Al_mc_AKGC417L_5', '172_1b3_Pl_mc_AKGC417L_0', '172_1b3_Pl_mc_AKGC417L_3', '172_1b3_Pl_mc_AKGC417L_5', '172_1b4_Pl_mc_AKGC417L_0', '172_1b4_Ll_mc_AKGC417L_4', '172_1b5_Ll_mc_AKGC417L_0', '172_1b5_Ll_mc_AKGC417L_2', '172_1b5_Ll_mc_AKGC417L_4', '172_1b5_Lr_mc_AKGC417L_3', '172_1b5_Lr_mc_AKGC417L_4', '172_1b5_Al_mc_AKGC417L_2', '172_1b5_Pr_mc_AKGC417L_2', '172_1b5_Pl_mc_AKGC417L_0', '172_1b5_Pl_mc_AKGC417L_2', '172_1b5_Pl_mc_AKGC417L_5', '172_2b5_Al_mc_AKGC417L_0', '172_2b5_Al_mc_AKGC417L_1', '172_2b5_Al_mc_AKGC417L_2', '172_2b5_Al_mc_AKGC417L_3', '172_2b5_Al_mc_AKGC417L_4', '172_2b5_Pr_mc_AKGC417L_0', '172_2b5_Lr_mc_AKGC417L_1', '172_2b5_Pl_mc_AKGC417L_0', '172_2b5_Pl_mc_AKGC417L_1', '172_2b5_Pl_mc_AKGC417L_2', '174_1p2_Pl_mc_AKGC417L_1', '174_1p2_Pl_mc_AKGC417L_2', '174_1p2_Pl_mc_AKGC417L_3', '174_1p2_Pl_mc_AKGC417L_4', '174_1p2_Ll_mc_AKGC417L_1', '174_1p2_Ll_mc_AKGC417L_2', '174_1p2_Ll_mc_AKGC417L_3', '174_1p2_Ll_mc_AKGC417L_4', '174_1p2_Ar_mc_AKGC417L_2', '174_1p2_Lr_mc_AKGC417L_1', '174_1p2_Lr_mc_AKGC417L_2', '174_1p2_Lr_mc_AKGC417L_3', '174_1p2_Lr_mc_AKGC417L_4', '174_1p3_Ll_mc_AKGC417L_0', '174_1p3_Ll_mc_AKGC417L_1', '174_1p3_Ll_mc_AKGC417L_2', '174_1p3_Ll_mc_AKGC417L_3', '174_1p3_Ll_mc_AKGC417L_4', '174_1p2_Tc_mc_AKGC417L_0', '174_1p2_Tc_mc_AKGC417L_1', '174_1p2_Tc_mc_AKGC417L_3', '174_1p2_Tc_mc_AKGC417L_4', '174_1p3_Lr_mc_AKGC417L_0', '174_1p3_Lr_mc_AKGC417L_1', '174_1p3_Lr_mc_AKGC417L_2', '174_1p3_Lr_mc_AKGC417L_3', '174_1p3_Lr_mc_AKGC417L_4', '174_1p2_Pr_mc_AKGC417L_1', '174_1p2_Pr_mc_AKGC417L_2', '174_1p2_Pr_mc_AKGC417L_3', '174_1p2_Pr_mc_AKGC417L_4', '174_1p3_Ar_mc_AKGC417L_0', '174_1p3_Ar_mc_AKGC417L_1', '174_1p3_Ar_mc_AKGC417L_2', '174_1p3_Ar_mc_AKGC417L_3', '174_1p3_Ar_mc_AKGC417L_4', '174_1p3_Tc_mc_AKGC417L_1', '174_1p3_Tc_mc_AKGC417L_2', '174_1p3_Tc_mc_AKGC417L_3', '174_1p3_Pr_mc_AKGC417L_1', '174_1p3_Pr_mc_AKGC417L_3', '174_1p3_Pr_mc_AKGC417L_4', '174_1p4_Ar_mc_AKGC417L_2', '174_1p4_Ar_mc_AKGC417L_3', '174_1p4_Ar_mc_AKGC417L_4', '174_1p3_Pl_mc_AKGC417L_0', '174_1p3_Pl_mc_AKGC417L_1', '174_1p3_Pl_mc_AKGC417L_2', '174_1p3_Pl_mc_AKGC417L_3', '174_1p3_Pl_mc_AKGC417L_4', '174_1p4_Ll_mc_AKGC417L_1', '174_1p4_Ll_mc_AKGC417L_2', '174_1p4_Ll_mc_AKGC417L_3', '174_1p4_Ll_mc_AKGC417L_4', '174_1p4_Lr_mc_AKGC417L_1', '174_1p4_Lr_mc_AKGC417L_2', '174_1p4_Lr_mc_AKGC417L_3', '174_1p4_Lr_mc_AKGC417L_4', '174_1p4_Tc_mc_AKGC417L_0', '174_1p4_Tc_mc_AKGC417L_2', '174_1p4_Tc_mc_AKGC417L_3', '174_1p4_Pl_mc_AKGC417L_0', '174_1p4_Pl_mc_AKGC417L_1', '174_1p4_Pl_mc_AKGC417L_2', '174_1p4_Pl_mc_AKGC417L_3', '174_1p4_Pl_mc_AKGC417L_4', '174_1p4_Pr_mc_AKGC417L_0', '174_1p4_Pr_mc_AKGC417L_1', '174_1p4_Pr_mc_AKGC417L_2', '174_1p4_Pr_mc_AKGC417L_3', '174_1p4_Pr_mc_AKGC417L_4', '174_2p3_Pr_mc_AKGC417L_0', '174_2p3_Pr_mc_AKGC417L_1', '174_2p3_Pr_mc_AKGC417L_2', '174_2p3_Pr_mc_AKGC417L_3', '174_2p3_Al_mc_AKGC417L_0', '174_2p3_Pl_mc_AKGC417L_0', '174_2p3_Pl_mc_AKGC417L_1', '174_2p3_Pl_mc_AKGC417L_2', '174_2p3_Pl_mc_AKGC417L_3', '174_2p3_Tc_mc_AKGC417L_0', '174_2p3_Tc_mc_AKGC417L_1', '174_2p3_Tc_mc_AKGC417L_3', '174_2p3_Ar_mc_AKGC417L_0', '174_2p3_Ar_mc_AKGC417L_1', '174_2p3_Ar_mc_AKGC417L_2', '174_2p3_Ar_mc_AKGC417L_3', '173_1b1_Al_sc_Meditron_2', '173_1b1_Al_sc_Meditron_4', '173_1b1_Al_sc_Meditron_7', '173_1b1_Al_sc_Meditron_8', '173_1b1_Al_sc_Meditron_9', '176_1b3_Ll_mc_AKGC417L_1', '176_1b3_Ll_mc_AKGC417L_2', '176_1b3_Ll_mc_AKGC417L_3', '176_1b3_Ll_mc_AKGC417L_4', '176_1b3_Ll_mc_AKGC417L_5', '176_1b3_Lr_mc_AKGC417L_1', '176_1b3_Lr_mc_AKGC417L_2', '176_1b3_Lr_mc_AKGC417L_3', '176_1b3_Lr_mc_AKGC417L_4', '176_1b3_Lr_mc_AKGC417L_5', '176_1b3_Al_mc_AKGC417L_1', '176_1b3_Al_mc_AKGC417L_2', '176_1b3_Al_mc_AKGC417L_3', '176_1b3_Al_mc_AKGC417L_4', '176_1b3_Al_mc_AKGC417L_5', '176_1b3_Ar_mc_AKGC417L_0', '176_1b3_Ar_mc_AKGC417L_1', '176_1b3_Ar_mc_AKGC417L_2', '176_1b3_Ar_mc_AKGC417L_3', '176_1b3_Ar_mc_AKGC417L_4', '176_1b3_Ar_mc_AKGC417L_5', '176_1b4_Ar_mc_AKGC417L_0', '176_1b4_Ar_mc_AKGC417L_1', '176_1b4_Ar_mc_AKGC417L_2', '176_1b4_Ar_mc_AKGC417L_3', '176_1b4_Ar_mc_AKGC417L_4', '176_1b4_Ar_mc_AKGC417L_5', '176_1b3_Pr_mc_AKGC417L_1', '176_1b3_Pr_mc_AKGC417L_2', '176_1b3_Pr_mc_AKGC417L_3', '176_1b3_Pr_mc_AKGC417L_4', '176_1b3_Pr_mc_AKGC417L_5', '176_1b3_Pl_mc_AKGC417L_1', '176_1b3_Pl_mc_AKGC417L_2', '176_1b3_Pl_mc_AKGC417L_3', '176_1b3_Pl_mc_AKGC417L_4', '176_1b3_Pl_mc_AKGC417L_5', '176_1b3_Tc_mc_AKGC417L_0', '176_1b3_Tc_mc_AKGC417L_1', '176_1b3_Tc_mc_AKGC417L_2', '176_1b3_Tc_mc_AKGC417L_3', '176_1b3_Tc_mc_AKGC417L_4', '176_1b3_Tc_mc_AKGC417L_5', '176_1b4_Al_mc_AKGC417L_1', '176_1b4_Al_mc_AKGC417L_2', '176_1b4_Al_mc_AKGC417L_3', '176_1b4_Tc_mc_AKGC417L_1', '176_1b4_Tc_mc_AKGC417L_2', '176_1b4_Tc_mc_AKGC417L_4', '176_1b4_Tc_mc_AKGC417L_5', '176_1b4_Lr_mc_AKGC417L_0', '176_1b4_Lr_mc_AKGC417L_1', '176_1b4_Lr_mc_AKGC417L_2', '176_1b4_Lr_mc_AKGC417L_3', '176_1b4_Lr_mc_AKGC417L_4', '176_1b4_Lr_mc_AKGC417L_5', '176_1b4_Pl_mc_AKGC417L_0', '176_1b4_Pl_mc_AKGC417L_1', '176_1b4_Pl_mc_AKGC417L_2', '176_1b4_Pl_mc_AKGC417L_3', '176_1b4_Pl_mc_AKGC417L_4', '176_1b4_Pl_mc_AKGC417L_5', '176_2b3_Al_mc_AKGC417L_1', '176_2b3_Al_mc_AKGC417L_2', '176_2b3_Al_mc_AKGC417L_3', '176_2b3_Al_mc_AKGC417L_4', '198_1b5_Ll_mc_AKGC417L_5', '198_1b5_Lr_mc_AKGC417L_0', '198_1b5_Lr_mc_AKGC417L_1', '198_1b5_Lr_mc_AKGC417L_2', '198_1b5_Lr_mc_AKGC417L_3', '198_1b5_Lr_mc_AKGC417L_4', '198_1b5_Lr_mc_AKGC417L_5', '198_1b5_Pl_mc_AKGC417L_0', '198_1b5_Pl_mc_AKGC417L_1', '198_1b5_Pl_mc_AKGC417L_2', '198_1b5_Pl_mc_AKGC417L_3', '198_1b5_Pl_mc_AKGC417L_4', '198_1b5_Pl_mc_AKGC417L_5', '198_1b5_Pr_mc_AKGC417L_0', '198_1b5_Pr_mc_AKGC417L_1', '198_1b5_Pr_mc_AKGC417L_2', '198_1b5_Pr_mc_AKGC417L_3', '198_1b5_Pr_mc_AKGC417L_4', '198_1b5_Pr_mc_AKGC417L_5', '198_1b5_Tc_mc_AKGC417L_0', '198_1b5_Tc_mc_AKGC417L_1', '198_1b5_Tc_mc_AKGC417L_2', '198_1b5_Tc_mc_AKGC417L_3', '198_1b5_Tc_mc_AKGC417L_4', '198_1b5_Tc_mc_AKGC417L_5', '201_1b2_Al_sc_Meditron_0', '201_1b1_Ar_sc_Meditron_1', '201_1b1_Ar_sc_Meditron_2', '201_1b1_Ar_sc_Meditron_3', '201_1b1_Ar_sc_Meditron_4', '201_1b1_Ar_sc_Meditron_5', '201_1b1_Ar_sc_Meditron_6', '201_1b1_Al_sc_Meditron_2', '201_1b1_Al_sc_Meditron_5', '201_1b3_Ar_sc_Meditron_0', '201_1b3_Ar_sc_Meditron_1', '201_1b3_Ar_sc_Meditron_2', '201_1b3_Ar_sc_Meditron_3', '201_1b3_Ar_sc_Meditron_4', '201_1b3_Ar_sc_Meditron_5', '201_1b3_Ar_sc_Meditron_6', '201_1b2_Ar_sc_Meditron_1', '201_1b2_Ar_sc_Meditron_3', '201_1b2_Ar_sc_Meditron_4', '201_1b2_Ar_sc_Meditron_5', '201_1b2_Ar_sc_Meditron_6', '201_1b3_Al_sc_Meditron_0', '201_1b3_Al_sc_Meditron_1', '201_1b3_Al_sc_Meditron_4', '201_1b3_Al_sc_Meditron_5', '203_1p3_Tc_mc_AKGC417L_1', '203_1p2_Tc_mc_AKGC417L_4', '203_1p2_Tc_mc_AKGC417L_5', '204_2b5_Al_mc_AKGC417L_1', '204_2b5_Al_mc_AKGC417L_2', '204_2b5_Al_mc_AKGC417L_3', '204_2b5_Al_mc_AKGC417L_5', '204_2b5_Ar_mc_AKGC417L_1', '204_2b5_Ar_mc_AKGC417L_2', '206_1b1_Lr_sc_Meditron_1', '206_1b1_Lr_sc_Meditron_2', '206_1b1_Lr_sc_Meditron_3', '206_1b1_Lr_sc_Meditron_4', '206_1b1_Lr_sc_Meditron_5', '206_1b1_Lr_sc_Meditron_6', '206_1b1_Lr_sc_Meditron_7', '206_1b1_Ar_sc_Meditron_2', '206_1b1_Ar_sc_Meditron_3', '206_1b1_Ar_sc_Meditron_4', '206_1b1_Ar_sc_Meditron_5', '206_1b1_Ar_sc_Meditron_7', '206_1b1_Ar_sc_Meditron_9', '206_1b1_Pl_sc_Meditron_0', '206_1b1_Pl_sc_Meditron_1', '206_1b1_Pl_sc_Meditron_2', '206_1b1_Pl_sc_Meditron_3', '206_1b1_Pl_sc_Meditron_4', '206_1b1_Pl_sc_Meditron_5', '206_1b1_Pl_sc_Meditron_6', '206_1b1_Pl_sc_Meditron_7', '207_2b4_Tc_mc_AKGC417L_2', '211_1p2_Pl_mc_AKGC417L_0', '211_1p2_Pl_mc_AKGC417L_7', '211_1p2_Pl_mc_AKGC417L_9', '211_1p2_Pl_mc_AKGC417L_10', '215_1b2_Ar_sc_Meditron_1', '215_1b2_Ar_sc_Meditron_2', '215_1b2_Ar_sc_Meditron_3', '215_1b2_Ar_sc_Meditron_4', '216_1b1_Pl_sc_Meditron_0', '216_1b1_Pl_sc_Meditron_1', '216_1b1_Pl_sc_Meditron_2', '216_1b1_Pl_sc_Meditron_3', '216_1b1_Pl_sc_Meditron_4', '216_1b1_Pl_sc_Meditron_5', '216_1b1_Pl_sc_Meditron_6', '216_1b1_Pl_sc_Meditron_7', '218_1b1_Al_sc_Meditron_4', '218_1b1_Ar_sc_Meditron_4', '218_1b1_Pr_sc_Meditron_2', '218_1b1_Pr_sc_Meditron_15', '218_1b1_Pl_sc_Meditron_14', '218_1b1_Pl_sc_Meditron_15', '218_1b1_Pl_sc_Meditron_16', '218_1b1_Lr_sc_Meditron_15', '218_1b1_Lr_sc_Meditron_16', '218_1p1_Ar_sc_Litt3200_3', '218_1p1_Ar_sc_Litt3200_4', '218_1p1_Ar_sc_Litt3200_5', '221_2b1_Ar_mc_LittC2SE_0', '221_2b1_Ar_mc_LittC2SE_2', '221_2b1_Al_mc_LittC2SE_0', '221_2b1_Lr_mc_LittC2SE_2', '221_2b3_Ar_mc_LittC2SE_0', '221_2b2_Pl_mc_LittC2SE_0', '221_2b2_Pl_mc_LittC2SE_1', '221_2b2_Pl_mc_LittC2SE_2', '221_2b2_Pl_mc_LittC2SE_3', '221_2b2_Pl_mc_LittC2SE_4', '221_2b2_Ar_mc_LittC2SE_5', '221_2b1_Pl_mc_LittC2SE_0', '221_2b1_Pl_mc_LittC2SE_1', '221_2b1_Pl_mc_LittC2SE_2', '221_2b1_Pl_mc_LittC2SE_3', '221_2b1_Pl_mc_LittC2SE_4', '221_2b2_Al_mc_LittC2SE_0', '221_2b2_Al_mc_LittC2SE_1', '221_2b2_Al_mc_LittC2SE_2', '221_2b2_Al_mc_LittC2SE_3', '221_2b2_Al_mc_LittC2SE_4', '221_2b3_Al_mc_LittC2SE_0', '221_2b3_Al_mc_LittC2SE_1', '221_2b3_Al_mc_LittC2SE_2', '221_2b3_Al_mc_LittC2SE_3', '221_2b3_Al_mc_LittC2SE_4', '221_2b3_Pr_mc_LittC2SE_0', '221_2b3_Pr_mc_LittC2SE_1', '221_2b3_Lr_mc_LittC2SE_0', '222_1b1_Pr_sc_Meditron_8', '222_1b1_Pr_sc_Meditron_9', '222_1b1_Pr_sc_Meditron_10', '222_1b1_Pr_sc_Meditron_11', '222_1b1_Pr_sc_Meditron_12', '222_1b1_Pr_sc_Meditron_13', '222_1b1_Pr_sc_Meditron_14', '223_1b1_Ar_sc_Meditron_0', '223_1b1_Ar_sc_Meditron_1', '223_1b1_Ar_sc_Meditron_2', '223_1b1_Ar_sc_Meditron_3', '223_1b1_Ar_sc_Meditron_4', '223_1b1_Ar_sc_Meditron_5', '223_1b1_Ar_sc_Meditron_6', '223_1b1_Ar_sc_Meditron_7', '223_1b1_Ar_sc_Meditron_8', '223_1b1_Ar_sc_Meditron_9', '223_1b1_Pr_sc_Meditron_7', '223_1b1_Pr_sc_Meditron_8', '223_1b1_Pr_sc_Meditron_9', '104_1b1_Ar_sc_Litt3200_0', '104_1b1_Ar_sc_Litt3200_1', '104_1b1_Ar_sc_Litt3200_2', '104_1b1_Ar_sc_Litt3200_3', '104_1b1_Ar_sc_Litt3200_4', '104_1b1_Ar_sc_Litt3200_5', '104_1b1_Ar_sc_Litt3200_6', '104_1b1_Ar_sc_Litt3200_7', '104_1b1_Ar_sc_Litt3200_8', '104_1b1_Ar_sc_Litt3200_9', '103_2b2_Ar_mc_LittC2SE_0', '103_2b2_Ar_mc_LittC2SE_2', '103_2b2_Ar_mc_LittC2SE_3', '103_2b2_Ar_mc_LittC2SE_4', '106_2b1_Pr_mc_LittC2SE_0', '106_2b1_Pr_mc_LittC2SE_1', '106_2b1_Pr_mc_LittC2SE_3', '106_2b1_Pr_mc_LittC2SE_4', '106_2b1_Pr_mc_LittC2SE_5', '106_2b1_Pr_mc_LittC2SE_6', '106_2b1_Pr_mc_LittC2SE_7', '107_2b4_Al_mc_AKGC417L_4', '107_2b5_Ar_mc_AKGC417L_7', '107_3p2_Ar_mc_AKGC417L_0', '107_3p2_Ar_mc_AKGC417L_1', '107_3p2_Ar_mc_AKGC417L_2', '107_3p2_Ar_mc_AKGC417L_4', '107_3p2_Ar_mc_AKGC417L_8', '107_3p2_Tc_mc_AKGC417L_6', '107_3p2_Tc_mc_AKGC417L_7', '107_3p2_Lr_mc_AKGC417L_0', '107_3p2_Lr_mc_AKGC417L_1', '107_3p2_Lr_mc_AKGC417L_2', '107_3p2_Lr_mc_AKGC417L_3', '107_3p2_Lr_mc_AKGC417L_4', '110_1p1_Ll_sc_Meditron_0', '110_1p1_Ll_sc_Meditron_1', '110_1p1_Ll_sc_Meditron_4', '112_1b1_Lr_sc_Meditron_6', '112_1b1_Lr_sc_Meditron_7', '112_1b1_Lr_sc_Meditron_8', '112_1b1_Lr_sc_Meditron_9', '112_1b1_Lr_sc_Meditron_10', '112_1b1_Lr_sc_Meditron_11', '112_1p1_Pr_sc_Litt3200_1', '112_1p1_Pr_sc_Litt3200_2', '112_1p1_Pr_sc_Litt3200_3', '112_1p1_Pr_sc_Litt3200_4', '112_1p1_Pr_sc_Litt3200_5', '112_1p1_Pr_sc_Litt3200_6', '112_1p1_Pr_sc_Litt3200_7', '112_1p1_Pr_sc_Litt3200_8', '112_1p1_Pl_sc_Litt3200_6', '112_1p1_Pl_sc_Litt3200_7', '112_1p1_Pl_sc_Litt3200_8', '112_1p1_Ll_sc_Litt3200_3', '112_1p1_Ll_sc_Litt3200_4', '112_1p1_Ll_sc_Litt3200_5', '112_1p1_Ll_sc_Litt3200_7', '112_1p1_Ll_sc_Litt3200_8', '114_1b4_Al_mc_AKGC417L_0', '114_1b4_Ar_mc_AKGC417L_0', '114_1b4_Pr_mc_AKGC417L_0', '115_1b1_Ar_sc_Meditron_12', '116_1b2_Pl_sc_Meditron_1', '116_1b2_Pl_sc_Meditron_2', '118_1b1_Al_sc_Litt3200_1', '118_1b1_Al_sc_Litt3200_2', '118_1b1_Al_sc_Litt3200_3', '118_1b1_Al_sc_Litt3200_4', '118_1b1_Al_sc_Litt3200_5', '118_1b1_Al_sc_Litt3200_6', '118_1b1_Al_sc_Litt3200_7', '118_1b1_Ar_sc_Litt3200_0', '118_1b1_Ar_sc_Litt3200_1', '118_1b1_Ar_sc_Litt3200_2', '118_1b1_Ar_sc_Litt3200_3', '118_1b1_Ar_sc_Litt3200_4', '118_1b1_Ar_sc_Litt3200_5', '118_1b1_Ar_sc_Litt3200_6', '118_1b1_Ar_sc_Litt3200_7', '118_1b1_Ll_sc_Litt3200_1', '118_1b1_Ll_sc_Litt3200_3', '118_1b1_Pr_sc_Litt3200_1', '118_1b1_Pr_sc_Litt3200_2', '118_1b1_Pr_sc_Litt3200_3', '118_1b1_Lr_sc_Litt3200_0', '118_1b1_Lr_sc_Litt3200_1', '118_1b1_Lr_sc_Litt3200_2', '118_1b1_Lr_sc_Litt3200_3', '118_1b1_Lr_sc_Litt3200_4', '117_1b3_Tc_mc_LittC2SE_0', '117_1b3_Tc_mc_LittC2SE_1', '117_1b3_Tc_mc_LittC2SE_2', '117_1b3_Tc_mc_LittC2SE_3', '117_1b3_Tc_mc_LittC2SE_4', '122_2b1_Ar_mc_LittC2SE_1', '122_2b1_Tc_mc_LittC2SE_0', '122_2b1_Tc_mc_LittC2SE_1', '122_2b1_Tc_mc_LittC2SE_2', '122_2b1_Tc_mc_LittC2SE_3', '122_2b1_Tc_mc_LittC2SE_4', '122_2b1_Al_mc_LittC2SE_1', '122_2b1_Al_mc_LittC2SE_2', '122_2b3_Ar_mc_LittC2SE_1', '122_2b2_Tc_mc_LittC2SE_1', '122_2b2_Tc_mc_LittC2SE_2', '122_2b2_Tc_mc_LittC2SE_3', '122_2b2_Tc_mc_LittC2SE_4', '122_2b2_Tc_mc_LittC2SE_5', '122_2b3_Al_mc_LittC2SE_1', '124_1b1_Pl_sc_Litt3200_4', '124_1b1_Ar_sc_Litt3200_0', '124_1b1_Ar_sc_Litt3200_1', '124_1b1_Ar_sc_Litt3200_2', '124_1b1_Ar_sc_Litt3200_3', '124_1b1_Ar_sc_Litt3200_4', '124_1b1_Ar_sc_Litt3200_5', '124_1b1_Al_sc_Litt3200_1', '124_1b1_Al_sc_Litt3200_2', '124_1b1_Al_sc_Litt3200_3', '124_1b1_Al_sc_Litt3200_4', '124_1b1_Al_sc_Litt3200_5', '124_1b1_Al_sc_Litt3200_6', '130_1p2_Al_mc_AKGC417L_6', '130_1p3_Ar_mc_AKGC417L_0', '130_1p3_Ar_mc_AKGC417L_3', '130_1p3_Lr_mc_AKGC417L_0', '130_1p3_Lr_mc_AKGC417L_2', '130_1p3_Lr_mc_AKGC417L_4', '130_1p3_Pl_mc_AKGC417L_0', '130_1p3_Pl_mc_AKGC417L_1', '130_1p3_Pl_mc_AKGC417L_2', '130_1p3_Pl_mc_AKGC417L_3', '130_1p3_Pl_mc_AKGC417L_4', '130_1p3_Ll_mc_AKGC417L_0', '130_1p3_Ll_mc_AKGC417L_1', '130_1p3_Ll_mc_AKGC417L_3', '130_1p3_Ll_mc_AKGC417L_4', '130_1p4_Al_mc_AKGC417L_0', '130_1p4_Al_mc_AKGC417L_1', '130_1p4_Al_mc_AKGC417L_2', '130_1p4_Al_mc_AKGC417L_3', '130_1p4_Al_mc_AKGC417L_4', '130_1p4_Al_mc_AKGC417L_5', '130_1p4_Al_mc_AKGC417L_6', '130_1p4_Ll_mc_AKGC417L_0', '130_1p4_Ll_mc_AKGC417L_1', '130_1p4_Ll_mc_AKGC417L_2', '130_1p4_Ll_mc_AKGC417L_3', '130_1p4_Ll_mc_AKGC417L_4', '130_1p4_Ll_mc_AKGC417L_5', '130_1p4_Ll_mc_AKGC417L_6', '130_1p3_Pr_mc_AKGC417L_0', '130_1p3_Pr_mc_AKGC417L_2', '130_1p3_Tc_mc_AKGC417L_0', '130_1p3_Tc_mc_AKGC417L_1', '130_1p3_Tc_mc_AKGC417L_2', '130_1p3_Tc_mc_AKGC417L_3', '130_1p3_Tc_mc_AKGC417L_4', '130_1p4_Ar_mc_AKGC417L_0', '130_1p4_Ar_mc_AKGC417L_1', '130_1p4_Ar_mc_AKGC417L_2', '130_1p4_Ar_mc_AKGC417L_3', '130_1p4_Ar_mc_AKGC417L_5', '130_1p4_Lr_mc_AKGC417L_1', '130_1p4_Lr_mc_AKGC417L_2', '130_1p4_Lr_mc_AKGC417L_3', '130_1p4_Lr_mc_AKGC417L_4', '130_1p4_Lr_mc_AKGC417L_5', '130_1p4_Pl_mc_AKGC417L_0', '130_1p4_Pl_mc_AKGC417L_1', '130_1p4_Pl_mc_AKGC417L_2', '130_1p4_Pl_mc_AKGC417L_3', '130_1p4_Pl_mc_AKGC417L_4', '130_1p4_Pl_mc_AKGC417L_6', '130_1p4_Tc_mc_AKGC417L_0', '130_1p4_Tc_mc_AKGC417L_1', '130_1p4_Tc_mc_AKGC417L_2', '130_1p4_Tc_mc_AKGC417L_3', '130_1p4_Tc_mc_AKGC417L_4', '130_1p4_Tc_mc_AKGC417L_5', '130_1p4_Tc_mc_AKGC417L_7', '130_2b4_Pl_mc_AKGC417L_5', '131_1b1_Al_sc_Meditron_2', '131_1b1_Al_sc_Meditron_9', '133_2p4_Al_mc_AKGC417L_5', '133_2p4_Al_mc_AKGC417L_6', '133_3p2_Ar_mc_AKGC417L_1', '133_3p2_Ar_mc_AKGC417L_2', '133_3p2_Ar_mc_AKGC417L_3', '133_3p2_Ar_mc_AKGC417L_4', '133_3p2_Ar_mc_AKGC417L_5', '133_3p2_Ar_mc_AKGC417L_6', '133_2p4_Tc_mc_AKGC417L_5', '133_2p4_Tc_mc_AKGC417L_6', '133_3p2_Al_mc_AKGC417L_1', '133_3p2_Al_mc_AKGC417L_3', '133_3p2_Al_mc_AKGC417L_4', '133_3p2_Al_mc_AKGC417L_5', '133_3p2_Al_mc_AKGC417L_6', '133_3p2_Al_mc_AKGC417L_7', '133_3p2_Pl_mc_AKGC417L_1', '133_3p2_Pl_mc_AKGC417L_3', '133_3p2_Pl_mc_AKGC417L_5', '133_3p2_Pl_mc_AKGC417L_6', '133_3p2_Pr_mc_AKGC417L_0', '133_3p2_Pr_mc_AKGC417L_1', '133_3p2_Pr_mc_AKGC417L_3', '133_3p2_Pr_mc_AKGC417L_4', '133_3p2_Pr_mc_AKGC417L_5', '133_3p2_Pr_mc_AKGC417L_7', '133_3p4_Tc_mc_AKGC417L_0', '133_3p4_Tc_mc_AKGC417L_2', '133_3p4_Tc_mc_AKGC417L_3', '133_3p4_Tc_mc_AKGC417L_4', '133_3p4_Tc_mc_AKGC417L_5', '133_3p4_Tc_mc_AKGC417L_6', '134_2b3_Ar_mc_LittC2SE_3', '138_1p2_Al_mc_AKGC417L_0', '138_1p2_Tc_mc_AKGC417L_3', '138_1p3_Pl_mc_AKGC417L_0', '138_1p3_Tc_mc_AKGC417L_1', '139_1b1_Pl_sc_Litt3200_0', '139_1b1_Pl_sc_Litt3200_1', '139_1b1_Pl_sc_Litt3200_2', '203_1p2_Ar_mc_AKGC417L_3', '203_1p2_Al_mc_AKGC417L_8', '203_1p2_Ar_mc_AKGC417L_6', '203_1p2_Ar_mc_AKGC417L_4', '203_1p2_Ar_mc_AKGC417L_2', '203_1p2_Lr_mc_AKGC417L_9', '203_1p2_Lr_mc_AKGC417L_5', '203_1p2_Ar_mc_AKGC417L_7', '203_1p2_Pr_mc_AKGC417L_1', '203_1p2_Ar_mc_AKGC417L_1', '203_1p2_Pr_mc_AKGC417L_7', '203_1p2_Ar_mc_AKGC417L_0', '203_1p2_Lr_mc_AKGC417L_4', '203_1p2_Ar_mc_AKGC417L_5', '203_1p2_Lr_mc_AKGC417L_2', '158_2p3_Lr_mc_AKGC417L_5', '158_1p4_Tc_mc_AKGC417L_7', '158_1p4_Pl_mc_AKGC417L_5', '158_1p4_Tc_mc_AKGC417L_0', '158_2p2_Ar_mc_AKGC417L_5', '158_1p4_Tc_mc_AKGC417L_4', '158_2p3_Lr_mc_AKGC417L_0', '158_2p3_Lr_mc_AKGC417L_3', '158_2p2_Ar_mc_AKGC417L_6', '158_2p2_Ar_mc_AKGC417L_0', '158_2p2_Ar_mc_AKGC417L_7', '158_2p3_Lr_mc_AKGC417L_1', '158_2p3_Lr_mc_AKGC417L_4', '158_2p2_Ar_mc_AKGC417L_8', '158_1p4_Tc_mc_AKGC417L_1', '205_4b2_Ar_mc_AKGC417L_4', '205_4b2_Ar_mc_AKGC417L_1', '205_2b4_Pl_mc_AKGC417L_2', '205_4b2_Ar_mc_AKGC417L_2', '205_2b4_Pl_mc_AKGC417L_4', '205_3b4_Al_mc_AKGC417L_2', '205_2b4_Pl_mc_AKGC417L_1', '205_3b4_Al_mc_AKGC417L_3', '205_2b4_Pl_mc_AKGC417L_3', '205_3b4_Al_mc_AKGC417L_1', '205_4b2_Ar_mc_AKGC417L_0', '205_4b2_Pr_mc_AKGC417L_0', '205_3b4_Pl_mc_AKGC417L_3', '205_3b4_Pl_mc_AKGC417L_1', '205_3b4_Al_mc_AKGC417L_0', '130_3p2_Tc_mc_AKGC417L_1', '130_3p2_Tc_mc_AKGC417L_2', '130_3p2_Tc_mc_AKGC417L_3', '130_3p2_Tc_mc_AKGC417L_4', '130_3p2_Tc_mc_AKGC417L_5', '130_3p2_Tc_mc_AKGC417L_6', '130_3p2_Pr_mc_AKGC417L_0', '130_3p2_Pr_mc_AKGC417L_1', '130_3p2_Pr_mc_AKGC417L_2', '130_3p2_Pr_mc_AKGC417L_3', '130_3p2_Pr_mc_AKGC417L_4', '130_3p2_Pr_mc_AKGC417L_5', '130_3p2_Pr_mc_AKGC417L_6', '130_3p2_Pl_mc_AKGC417L_0', '130_3p2_Pl_mc_AKGC417L_1', '130_3p2_Pl_mc_AKGC417L_2', '130_3p2_Pl_mc_AKGC417L_3', '130_3p2_Pl_mc_AKGC417L_4', '130_3p2_Pl_mc_AKGC417L_5', '130_3p2_Pl_mc_AKGC417L_6', '130_3p2_Ar_mc_AKGC417L_1', '130_3p2_Ar_mc_AKGC417L_3', '130_3p2_Ar_mc_AKGC417L_4', '130_3p3_Tc_mc_AKGC417L_1', '130_3p3_Tc_mc_AKGC417L_2', '130_3p3_Tc_mc_AKGC417L_3', '130_3p3_Tc_mc_AKGC417L_4', '130_3p3_Tc_mc_AKGC417L_5', '130_3p4_Al_mc_AKGC417L_2', '130_3p4_Al_mc_AKGC417L_3', '130_3p4_Al_mc_AKGC417L_4', '130_3p4_Al_mc_AKGC417L_6', '130_3p3_Pl_mc_AKGC417L_0', '130_3p3_Pl_mc_AKGC417L_1', '130_3p3_Pl_mc_AKGC417L_2', '130_3p3_Pl_mc_AKGC417L_3', '130_3p3_Pl_mc_AKGC417L_4', '130_3p3_Pl_mc_AKGC417L_5', '130_3p3_Al_mc_AKGC417L_0', '130_3p3_Al_mc_AKGC417L_1', '130_3p3_Al_mc_AKGC417L_2', '130_3p3_Al_mc_AKGC417L_3', '130_3p3_Al_mc_AKGC417L_4', '130_3p3_Al_mc_AKGC417L_5', '130_3p3_Pr_mc_AKGC417L_0', '130_3p3_Pr_mc_AKGC417L_1', '130_3p3_Pr_mc_AKGC417L_2', '130_3p3_Pr_mc_AKGC417L_4', '130_3p3_Pr_mc_AKGC417L_5', '130_3p3_Pr_mc_AKGC417L_6', '130_3p4_Tc_mc_AKGC417L_5', '130_3p4_Tc_mc_AKGC417L_6', '130_3p4_Tc_mc_AKGC417L_7', '130_3p4_Pr_mc_AKGC417L_2', '130_3p4_Pr_mc_AKGC417L_3', '130_3p4_Pr_mc_AKGC417L_4', '130_3p4_Pr_mc_AKGC417L_5', '130_3p4_Pr_mc_AKGC417L_6', '130_3p4_Pr_mc_AKGC417L_7', '130_3p4_Pl_mc_AKGC417L_0', '130_3p4_Pl_mc_AKGC417L_1', '130_3p4_Pl_mc_AKGC417L_5', '130_3p4_Pl_mc_AKGC417L_6', '130_3p4_Pl_mc_AKGC417L_7', '129_1b1_Ar_sc_Meditron_1', '129_1b1_Ar_sc_Meditron_3', '129_1b1_Ar_sc_Meditron_4', '129_1b1_Ar_sc_Meditron_5', '129_1b1_Ar_sc_Meditron_6', '133_2p2_Pl_mc_AKGC417L_0', '133_2p2_Pl_mc_AKGC417L_1', '133_2p2_Pl_mc_AKGC417L_2', '133_2p2_Pl_mc_AKGC417L_3', '133_2p2_Pl_mc_AKGC417L_4', '133_2p2_Pl_mc_AKGC417L_5', '133_2p2_Pl_mc_AKGC417L_6', '133_2p2_Pl_mc_AKGC417L_7', '133_2p2_Al_mc_AKGC417L_3', '133_2p2_Al_mc_AKGC417L_4', '133_2p2_Tc_mc_AKGC417L_2', '133_2p2_Tc_mc_AKGC417L_5', '133_2p3_Pl_mc_AKGC417L_0', '133_2p3_Pl_mc_AKGC417L_1', '133_2p3_Pl_mc_AKGC417L_3', '133_2p3_Pl_mc_AKGC417L_4', '133_2p3_Pl_mc_AKGC417L_5', '133_2p3_Pl_mc_AKGC417L_6', '133_2p3_Pr_mc_AKGC417L_4', '133_2p3_Tc_mc_AKGC417L_4', '133_2p3_Tc_mc_AKGC417L_6', '133_2p4_Ar_mc_AKGC417L_0', '133_2p4_Pl_mc_AKGC417L_0', '133_2p4_Pl_mc_AKGC417L_1', '133_2p4_Pl_mc_AKGC417L_2', '133_2p4_Pl_mc_AKGC417L_3', '133_2p4_Pl_mc_AKGC417L_4', '133_2p4_Pl_mc_AKGC417L_5', '133_2p4_Pl_mc_AKGC417L_6', '133_2p4_Pl_mc_AKGC417L_7', '133_2p4_Tc_mc_AKGC417L_1', '133_2p4_Pr_mc_AKGC417L_0', '132_2b2_Lr_mc_LittC2SE_1', '132_2b2_Lr_mc_LittC2SE_2', '132_2b2_Lr_mc_LittC2SE_3', '132_2b2_Lr_mc_LittC2SE_4', '132_2b2_Lr_mc_LittC2SE_5', '132_2b2_Lr_mc_LittC2SE_6', '132_2b2_Lr_mc_LittC2SE_7', '132_2b2_Lr_mc_LittC2SE_8', '132_2b2_Lr_mc_LittC2SE_9', '132_2b1_Lr_mc_LittC2SE_0', '132_2b1_Lr_mc_LittC2SE_1', '132_2b1_Lr_mc_LittC2SE_3', '132_2b1_Lr_mc_LittC2SE_4', '132_2b1_Lr_mc_LittC2SE_5', '132_2b1_Lr_mc_LittC2SE_6', '132_2b1_Lr_mc_LittC2SE_7', '132_2b1_Lr_mc_LittC2SE_8', '135_2b1_Pl_mc_LittC2SE_0', '135_2b1_Pl_mc_LittC2SE_1', '135_2b1_Pl_mc_LittC2SE_2', '135_2b1_Pl_mc_LittC2SE_3', '135_2b1_Pl_mc_LittC2SE_4', '138_1p2_Ll_mc_AKGC417L_0', '138_1p2_Ll_mc_AKGC417L_1', '138_1p2_Ll_mc_AKGC417L_2', '138_1p2_Ll_mc_AKGC417L_3', '138_1p2_Ll_mc_AKGC417L_4', '138_1p2_Ar_mc_AKGC417L_0', '138_1p2_Ar_mc_AKGC417L_1', '138_1p2_Lr_mc_AKGC417L_1', '138_1p2_Lr_mc_AKGC417L_2', '138_1p2_Lr_mc_AKGC417L_3', '138_1p2_Lr_mc_AKGC417L_4', '138_1p2_Al_mc_AKGC417L_1', '138_1p2_Al_mc_AKGC417L_2', '138_1p2_Al_mc_AKGC417L_3', '138_1p2_Al_mc_AKGC417L_4', '138_1p2_Pr_mc_AKGC417L_2', '138_1p2_Pr_mc_AKGC417L_3', '138_1p2_Pr_mc_AKGC417L_4', '138_1p2_Pl_mc_AKGC417L_1', '138_1p2_Pl_mc_AKGC417L_2', '138_1p2_Pl_mc_AKGC417L_3', '138_1p2_Pl_mc_AKGC417L_4', '138_1p3_Ar_mc_AKGC417L_0', '138_1p3_Ar_mc_AKGC417L_1', '138_1p3_Ar_mc_AKGC417L_2', '138_1p3_Ar_mc_AKGC417L_3', '138_1p3_Ar_mc_AKGC417L_4', '138_1p3_Ll_mc_AKGC417L_0', '138_1p3_Ll_mc_AKGC417L_1', '138_1p3_Ll_mc_AKGC417L_2', '138_1p3_Ll_mc_AKGC417L_3', '138_1p3_Ll_mc_AKGC417L_4', '138_1p3_Pr_mc_AKGC417L_0', '138_1p3_Pr_mc_AKGC417L_1', '138_1p3_Pr_mc_AKGC417L_2', '138_1p3_Pr_mc_AKGC417L_3', '138_1p3_Pr_mc_AKGC417L_4', '138_1p3_Pl_mc_AKGC417L_1', '138_1p3_Pl_mc_AKGC417L_2', '138_1p3_Pl_mc_AKGC417L_3', '138_1p3_Pl_mc_AKGC417L_4', '138_1p3_Lr_mc_AKGC417L_0', '138_1p3_Lr_mc_AKGC417L_1', '138_1p3_Lr_mc_AKGC417L_2', '138_1p3_Lr_mc_AKGC417L_3', '138_1p3_Lr_mc_AKGC417L_4', '138_1p4_Lr_mc_AKGC417L_0', '138_1p4_Lr_mc_AKGC417L_1', '138_1p4_Lr_mc_AKGC417L_2', '138_1p4_Lr_mc_AKGC417L_3', '138_1p4_Lr_mc_AKGC417L_4', '138_1p3_Tc_mc_AKGC417L_0', '138_1p3_Tc_mc_AKGC417L_2', '138_1p4_Ll_mc_AKGC417L_0', '138_1p4_Ll_mc_AKGC417L_1', '138_1p4_Ll_mc_AKGC417L_2', '138_1p4_Ll_mc_AKGC417L_4', '138_1p4_Ar_mc_AKGC417L_0', '138_1p4_Ar_mc_AKGC417L_1', '138_1p4_Ar_mc_AKGC417L_2', '138_1p4_Ar_mc_AKGC417L_3', '138_1p4_Pr_mc_AKGC417L_0', '138_1p4_Pr_mc_AKGC417L_1', '138_1p4_Pr_mc_AKGC417L_2', '138_1p4_Pr_mc_AKGC417L_3', '138_1p4_Pr_mc_AKGC417L_4', '138_1p4_Pl_mc_AKGC417L_1', '138_1p4_Pl_mc_AKGC417L_2', '138_1p4_Pl_mc_AKGC417L_3', '138_2p2_Ar_mc_AKGC417L_1', '138_2p2_Ar_mc_AKGC417L_3', '138_2p2_Ar_mc_AKGC417L_4', '138_2p2_Ar_mc_AKGC417L_5', '138_2p2_Al_mc_AKGC417L_0', '138_2p2_Al_mc_AKGC417L_1', '138_2p2_Al_mc_AKGC417L_2', '138_2p2_Al_mc_AKGC417L_3', '138_2p2_Al_mc_AKGC417L_4', '138_2p2_Al_mc_AKGC417L_5', '138_2p2_Al_mc_AKGC417L_6', '138_2p2_Pr_mc_AKGC417L_0', '138_2p2_Pr_mc_AKGC417L_1', '138_2p2_Pr_mc_AKGC417L_3', '138_2p2_Pr_mc_AKGC417L_4', '138_2p2_Pr_mc_AKGC417L_5', '138_2p2_Lr_mc_AKGC417L_0', '138_2p2_Lr_mc_AKGC417L_2', '138_2p2_Lr_mc_AKGC417L_3', '138_2p2_Lr_mc_AKGC417L_4', '138_2p2_Lr_mc_AKGC417L_6', '138_2p2_Ll_mc_AKGC417L_2', '138_2p2_Pl_mc_AKGC417L_0', '138_2p2_Pl_mc_AKGC417L_1', '138_2p2_Pl_mc_AKGC417L_2', '138_2p2_Pl_mc_AKGC417L_3', '138_2p2_Pl_mc_AKGC417L_4', '138_2p2_Pl_mc_AKGC417L_5', '138_2p2_Tc_mc_AKGC417L_0', '138_2p2_Tc_mc_AKGC417L_2', '138_2p2_Tc_mc_AKGC417L_4', '139_1b1_Lr_sc_Litt3200_1', '139_1b1_Lr_sc_Litt3200_2', '139_1b1_Lr_sc_Litt3200_3', '140_2b2_Ll_mc_LittC2SE_6', '140_2b2_Tc_mc_LittC2SE_1', '142_1b1_Pl_mc_LittC2SE_0', '142_1b1_Pl_mc_LittC2SE_1', '142_1b1_Pl_mc_LittC2SE_2', '142_1b1_Pl_mc_LittC2SE_3', '142_1b1_Pl_mc_LittC2SE_4', '142_1b1_Pl_mc_LittC2SE_5', '142_1b1_Pl_mc_LittC2SE_6', '142_1b1_Pl_mc_LittC2SE_7', '142_1b1_Pl_mc_LittC2SE_8', '145_2b2_Ar_mc_AKGC417L_0', '145_2b2_Ar_mc_AKGC417L_2', '145_2b2_Ar_mc_AKGC417L_3', '145_3b2_Lr_mc_AKGC417L_0', '145_3b2_Lr_mc_AKGC417L_1', '145_3b2_Lr_mc_AKGC417L_2', '145_3b2_Lr_mc_AKGC417L_3', '145_3b2_Lr_mc_AKGC417L_4', '145_3b2_Lr_mc_AKGC417L_5', '146_8p3_Ar_mc_AKGC417L_1', '146_8p3_Ar_mc_AKGC417L_2', '146_8p3_Ar_mc_AKGC417L_3', '146_8p3_Ar_mc_AKGC417L_4', '146_8p3_Ar_mc_AKGC417L_5', '146_8p3_Ar_mc_AKGC417L_6', '147_1b3_Tc_mc_AKGC417L_2', '147_1b3_Tc_mc_AKGC417L_3', '149_1b1_Al_sc_Meditron_7', '149_1b1_Lr_sc_Meditron_8', '149_1b1_Lr_sc_Meditron_9', '149_1b1_Pl_sc_Meditron_9', '151_2p2_Lr_mc_AKGC417L_3', '151_2p2_Al_mc_AKGC417L_4', '151_2p2_Ll_mc_AKGC417L_3', '151_2p2_Ll_mc_AKGC417L_4', '151_2p3_Ar_mc_AKGC417L_1', '151_2p3_Ar_mc_AKGC417L_3', '151_2p3_Ar_mc_AKGC417L_4', '151_2p3_Ar_mc_AKGC417L_5', '151_2p4_Al_mc_AKGC417L_2', '151_2p4_Al_mc_AKGC417L_3', '151_2p4_Ar_mc_AKGC417L_0', '151_2p4_Ll_mc_AKGC417L_5', '151_3p2_Al_mc_AKGC417L_0', '151_3p2_Al_mc_AKGC417L_2', '151_3p2_Al_mc_AKGC417L_3', '151_3p2_Al_mc_AKGC417L_4', '151_3p2_Pl_mc_AKGC417L_0', '151_3p2_Pl_mc_AKGC417L_2', '151_3p2_Pl_mc_AKGC417L_3', '151_3p2_Pl_mc_AKGC417L_4', '151_3p2_Pl_mc_AKGC417L_5', '151_3p2_Ar_mc_AKGC417L_0', '151_3p2_Ar_mc_AKGC417L_2', '151_3p2_Ar_mc_AKGC417L_3', '151_3p2_Ar_mc_AKGC417L_4', '151_3p3_Ll_mc_AKGC417L_0', '151_3p3_Ll_mc_AKGC417L_3', '151_3p3_Ll_mc_AKGC417L_4', '150_1b2_Al_sc_Meditron_0', '150_1b2_Al_sc_Meditron_1', '150_1b2_Al_sc_Meditron_2', '150_1b2_Al_sc_Meditron_3', '150_1b2_Al_sc_Meditron_5', '150_1b2_Al_sc_Meditron_6', '150_1b2_Al_sc_Meditron_7', '150_1b2_Al_sc_Meditron_8', '150_1b2_Al_sc_Meditron_10', '154_1b3_Al_mc_AKGC417L_0', '154_1b3_Al_mc_AKGC417L_1', '154_1b3_Al_mc_AKGC417L_2', '154_1b3_Al_mc_AKGC417L_3', '154_1b3_Al_mc_AKGC417L_6', '154_1b3_Al_mc_AKGC417L_7', '154_1b3_Al_mc_AKGC417L_9', '154_1b3_Al_mc_AKGC417L_10', '154_1b3_Al_mc_AKGC417L_11', '154_1b3_Ar_mc_AKGC417L_5', '154_1b3_Pl_mc_AKGC417L_0', '154_1b3_Pl_mc_AKGC417L_1', '154_1b3_Pl_mc_AKGC417L_2', '154_1b3_Pl_mc_AKGC417L_3', '154_1b3_Pl_mc_AKGC417L_4', '154_1b3_Pl_mc_AKGC417L_5', '154_1b3_Pl_mc_AKGC417L_6', '154_1b3_Pl_mc_AKGC417L_7', '154_1b3_Pl_mc_AKGC417L_8', '154_1b3_Pl_mc_AKGC417L_9', '154_1b3_Pr_mc_AKGC417L_0', '154_1b3_Pr_mc_AKGC417L_2', '154_1b3_Pr_mc_AKGC417L_3', '154_1b3_Pr_mc_AKGC417L_4', '154_1b3_Pr_mc_AKGC417L_5', '154_1b3_Pr_mc_AKGC417L_9', '154_1b3_Pr_mc_AKGC417L_10', '154_1b3_Pr_mc_AKGC417L_11', '154_1b3_Lr_mc_AKGC417L_0', '154_1b3_Lr_mc_AKGC417L_5', '154_1b3_Ll_mc_AKGC417L_0', '154_1b3_Ll_mc_AKGC417L_1', '154_1b3_Ll_mc_AKGC417L_2', '154_1b3_Ll_mc_AKGC417L_3', '154_1b3_Ll_mc_AKGC417L_4', '154_1b3_Ll_mc_AKGC417L_5', '154_1b3_Ll_mc_AKGC417L_6', '154_1b3_Ll_mc_AKGC417L_7', '154_1b3_Ll_mc_AKGC417L_8', '154_1b3_Ll_mc_AKGC417L_9', '154_1b3_Ll_mc_AKGC417L_10', '154_2b4_Ll_mc_AKGC417L_0', '154_2b4_Ll_mc_AKGC417L_1', '154_2b4_Ll_mc_AKGC417L_2', '154_2b4_Ll_mc_AKGC417L_3', '154_2b4_Ll_mc_AKGC417L_4', '154_2b4_Ll_mc_AKGC417L_5', '154_2b4_Ll_mc_AKGC417L_6', '154_2b4_Al_mc_AKGC417L_2', '154_2b4_Al_mc_AKGC417L_3', '154_2b4_Al_mc_AKGC417L_4', '154_2b4_Al_mc_AKGC417L_5', '154_2b4_Al_mc_AKGC417L_6', '154_2b4_Lr_mc_AKGC417L_0', '154_2b4_Lr_mc_AKGC417L_1', '154_2b4_Lr_mc_AKGC417L_2', '154_2b4_Lr_mc_AKGC417L_3', '154_2b4_Lr_mc_AKGC417L_4', '154_2b4_Lr_mc_AKGC417L_5', '154_2b4_Lr_mc_AKGC417L_6', '154_2b4_Ar_mc_AKGC417L_4', '154_2b4_Ar_mc_AKGC417L_5', '154_3b3_Al_mc_AKGC417L_2', '154_3b3_Al_mc_AKGC417L_4', '154_2b4_Pl_mc_AKGC417L_0', '154_2b4_Pl_mc_AKGC417L_1', '154_2b4_Pl_mc_AKGC417L_2', '154_2b4_Pl_mc_AKGC417L_3', '154_2b4_Pl_mc_AKGC417L_4', '154_2b4_Pl_mc_AKGC417L_5', '154_2b4_Pl_mc_AKGC417L_6', '154_2b4_Pr_mc_AKGC417L_2', '154_2b4_Pr_mc_AKGC417L_5', '154_4b4_Al_mc_AKGC417L_0', '154_4b4_Al_mc_AKGC417L_2', '154_4b4_Al_mc_AKGC417L_3', '154_4b4_Al_mc_AKGC417L_4', '154_4b4_Al_mc_AKGC417L_5', '154_4b4_Al_mc_AKGC417L_7', '154_4b4_Al_mc_AKGC417L_8', '154_3b3_Ll_mc_AKGC417L_0', '154_3b3_Ll_mc_AKGC417L_1', '154_3b3_Ll_mc_AKGC417L_2', '154_3b3_Ll_mc_AKGC417L_3', '154_3b3_Ar_mc_AKGC417L_1', '154_3b3_Ar_mc_AKGC417L_2', '154_3b3_Ar_mc_AKGC417L_3', '154_3b3_Ar_mc_AKGC417L_4', '154_4b4_Ar_mc_AKGC417L_0', '154_4b4_Ar_mc_AKGC417L_1', '154_4b4_Ar_mc_AKGC417L_2', '154_4b4_Ar_mc_AKGC417L_3', '154_4b4_Ar_mc_AKGC417L_5', '154_4b4_Ar_mc_AKGC417L_6', '154_4b4_Ar_mc_AKGC417L_8', '154_4b4_Pl_mc_AKGC417L_0', '154_4b4_Pl_mc_AKGC417L_1', '154_4b4_Pl_mc_AKGC417L_2', '154_4b4_Pl_mc_AKGC417L_7', '154_4b4_Pl_mc_AKGC417L_8', '154_4b4_Lr_mc_AKGC417L_0', '154_4b4_Lr_mc_AKGC417L_1', '154_4b4_Lr_mc_AKGC417L_2', '154_4b4_Lr_mc_AKGC417L_3', '154_4b4_Lr_mc_AKGC417L_4', '154_4b4_Lr_mc_AKGC417L_5', '154_4b4_Lr_mc_AKGC417L_6', '154_4b4_Lr_mc_AKGC417L_7', '154_4b4_Lr_mc_AKGC417L_8', '154_4b4_Pr_mc_AKGC417L_0', '154_4b4_Pr_mc_AKGC417L_7', '156_2b3_Al_mc_AKGC417L_2', '156_2b3_Lr_mc_AKGC417L_2', '156_2b3_Lr_mc_AKGC417L_3', '156_2b3_Lr_mc_AKGC417L_4', '156_2b3_Ar_mc_AKGC417L_2', '156_2b3_Pr_mc_AKGC417L_4', '156_2b3_Pr_mc_AKGC417L_5', '156_8b3_Ar_mc_AKGC417L_0', '156_5b3_Pl_mc_AKGC417L_6', '156_5b3_Pl_mc_AKGC417L_8', '156_8b3_Ll_mc_AKGC417L_0', '156_8b3_Pl_mc_AKGC417L_0', '156_8b3_Pl_mc_AKGC417L_5', '157_1b1_Al_sc_Meditron_7', '157_1b1_Al_sc_Meditron_11', '157_1b1_Lr_sc_Meditron_0', '157_1b1_Lr_sc_Meditron_1', '157_1b1_Lr_sc_Meditron_3', '157_1b1_Lr_sc_Meditron_4', '157_1b1_Lr_sc_Meditron_5', '157_1b1_Lr_sc_Meditron_6', '157_1b1_Lr_sc_Meditron_7', '157_1b1_Pl_sc_Meditron_6', '157_1b1_Pl_sc_Meditron_7', '157_1b1_Pl_sc_Meditron_10', '157_1b1_Pl_sc_Meditron_11', '157_1b1_Pr_sc_Meditron_0', '157_1b1_Pr_sc_Meditron_1', '157_1b1_Pr_sc_Meditron_2', '157_1b1_Pr_sc_Meditron_3', '157_1b1_Pr_sc_Meditron_4', '157_1b1_Pr_sc_Meditron_6', '157_1b1_Pr_sc_Meditron_11', '157_1b1_Pr_sc_Meditron_12', '157_1b1_Pr_sc_Meditron_13', '157_1b1_Pr_sc_Meditron_14', '158_1b3_Ar_mc_LittC2SE_3', '158_1b3_Ar_mc_LittC2SE_5', '158_1b3_Ar_mc_LittC2SE_6', '158_1b3_Ar_mc_LittC2SE_7', '158_1b3_Ar_mc_LittC2SE_8', '158_1b3_Ar_mc_LittC2SE_9', '158_1p2_Tc_mc_AKGC417L_0', '158_1p2_Tc_mc_AKGC417L_1', '158_1p2_Pl_mc_AKGC417L_2', '158_1p2_Pr_mc_AKGC417L_0', '158_1p2_Pr_mc_AKGC417L_6', '158_1p2_Ll_mc_AKGC417L_0', '158_1p2_Ll_mc_AKGC417L_1', '158_1p2_Ll_mc_AKGC417L_2', '158_1p2_Ll_mc_AKGC417L_4', '158_1p2_Ll_mc_AKGC417L_5', '158_1p3_Ll_mc_AKGC417L_3', '158_1p3_Al_mc_AKGC417L_3', '158_1p4_Ar_mc_AKGC417L_1', '158_1p4_Ar_mc_AKGC417L_2', '158_1p4_Ar_mc_AKGC417L_4', '158_1p4_Ar_mc_AKGC417L_5', '158_1p4_Ar_mc_AKGC417L_7', '158_1p4_Ar_mc_AKGC417L_8', '158_1p4_Al_mc_AKGC417L_2', '158_1p4_Al_mc_AKGC417L_4', '158_1p4_Al_mc_AKGC417L_5', '158_1p4_Pl_mc_AKGC417L_2', '158_1p4_Pl_mc_AKGC417L_4', '158_2p3_Lr_mc_AKGC417L_6', '158_2p3_Lr_mc_AKGC417L_7', '176_2b3_Al_mc_AKGC417L_5', '176_2b3_Al_mc_AKGC417L_6', '176_2b3_Lr_mc_AKGC417L_1', '176_2b3_Lr_mc_AKGC417L_2', '176_2b3_Lr_mc_AKGC417L_3', '176_2b3_Lr_mc_AKGC417L_4', '176_2b3_Lr_mc_AKGC417L_5', '176_2b3_Lr_mc_AKGC417L_6', '176_2b3_Ll_mc_AKGC417L_0', '176_2b3_Ll_mc_AKGC417L_1', '176_2b3_Ll_mc_AKGC417L_2', '176_2b3_Ll_mc_AKGC417L_3', '176_2b3_Ll_mc_AKGC417L_4', '176_2b3_Ll_mc_AKGC417L_5', '176_2b3_Ll_mc_AKGC417L_6', '176_2b3_Ar_mc_AKGC417L_1', '176_2b3_Ar_mc_AKGC417L_2', '176_2b3_Ar_mc_AKGC417L_3', '176_2b3_Ar_mc_AKGC417L_4', '176_2b3_Ar_mc_AKGC417L_5', '176_2b3_Ar_mc_AKGC417L_6', '176_2b3_Tc_mc_AKGC417L_0', '176_2b3_Tc_mc_AKGC417L_1', '176_2b3_Tc_mc_AKGC417L_2', '176_2b3_Tc_mc_AKGC417L_3', '176_2b3_Tc_mc_AKGC417L_4', '176_2b3_Tc_mc_AKGC417L_5', '176_2b3_Tc_mc_AKGC417L_6', '176_2b3_Pr_mc_AKGC417L_1', '176_2b3_Pr_mc_AKGC417L_2', '176_2b3_Pr_mc_AKGC417L_3', '176_2b3_Pr_mc_AKGC417L_4', '176_2b3_Pr_mc_AKGC417L_5', '176_2b3_Pr_mc_AKGC417L_6', '176_2b3_Pl_mc_AKGC417L_0', '176_2b3_Pl_mc_AKGC417L_1', '176_2b3_Pl_mc_AKGC417L_2', '176_2b3_Pl_mc_AKGC417L_3', '176_2b3_Pl_mc_AKGC417L_4', '176_2b3_Pl_mc_AKGC417L_5', '176_2b3_Pl_mc_AKGC417L_6', '177_1b2_Ar_mc_AKGC417L_0', '177_1b2_Ar_mc_AKGC417L_3', '177_1b2_Al_mc_AKGC417L_0', '177_1b2_Al_mc_AKGC417L_1', '177_1b2_Al_mc_AKGC417L_2', '177_1b2_Al_mc_AKGC417L_3', '177_1b2_Pl_mc_AKGC417L_0', '177_1b2_Pl_mc_AKGC417L_1', '177_1b2_Pl_mc_AKGC417L_2', '177_1b2_Pl_mc_AKGC417L_3', '177_1b2_Pr_mc_AKGC417L_0', '177_1b2_Lr_mc_AKGC417L_0', '177_1b2_Lr_mc_AKGC417L_1', '177_1b4_Pl_mc_AKGC417L_0', '177_1b4_Pl_mc_AKGC417L_1', '177_1b4_Pl_mc_AKGC417L_2', '177_1b4_Pl_mc_AKGC417L_3', '177_1b4_Pl_mc_AKGC417L_4', '177_1b4_Al_mc_AKGC417L_0', '177_1b4_Al_mc_AKGC417L_1', '177_1b4_Al_mc_AKGC417L_2', '177_1b4_Al_mc_AKGC417L_3', '177_1b4_Al_mc_AKGC417L_4', '177_2b4_Al_mc_AKGC417L_1', '177_2b4_Al_mc_AKGC417L_2', '177_2b4_Al_mc_AKGC417L_3', '177_2b4_Lr_mc_AKGC417L_0', '177_2b4_Lr_mc_AKGC417L_2', '177_2b4_Lr_mc_AKGC417L_3', '177_2b4_Lr_mc_AKGC417L_4', '177_2b4_Pr_mc_AKGC417L_0', '177_2b4_Pr_mc_AKGC417L_1', '178_1b2_Pl_mc_AKGC417L_5', '178_1b2_Pl_mc_AKGC417L_6', '178_1b2_Pl_mc_AKGC417L_7', '178_1b2_Pl_mc_AKGC417L_8', '178_1b2_Pl_mc_AKGC417L_9', '178_1b2_Pl_mc_AKGC417L_10', '178_1b2_Pl_mc_AKGC417L_11', '178_1b2_Lr_mc_AKGC417L_6', '178_1b2_Lr_mc_AKGC417L_8', '178_1b2_Lr_mc_AKGC417L_9', '178_1b2_Lr_mc_AKGC417L_10', '178_1b2_Lr_mc_AKGC417L_11', '178_1b3_Ar_mc_AKGC417L_0', '178_1b3_Ar_mc_AKGC417L_1', '178_1b3_Ar_mc_AKGC417L_3', '178_1b3_Ar_mc_AKGC417L_4', '178_1b3_Tc_mc_AKGC417L_2', '178_1b6_Ar_mc_AKGC417L_0', '178_1b6_Ar_mc_AKGC417L_1', '178_1b6_Ar_mc_AKGC417L_2', '178_1b6_Ar_mc_AKGC417L_3', '178_1b6_Ar_mc_AKGC417L_4', '178_1b6_Ar_mc_AKGC417L_5', '178_1b6_Ar_mc_AKGC417L_6', '178_1b6_Ar_mc_AKGC417L_7', '178_2b2_Al_mc_AKGC417L_0', '178_2b2_Al_mc_AKGC417L_1', '178_2b2_Al_mc_AKGC417L_2', '178_2b2_Al_mc_AKGC417L_4', '178_2b2_Al_mc_AKGC417L_6', '178_2b2_Al_mc_AKGC417L_7', '178_2b2_Al_mc_AKGC417L_8', '178_2b2_Ar_mc_AKGC417L_3', '178_2b2_Ar_mc_AKGC417L_5', '178_2b2_Ar_mc_AKGC417L_6', '178_2b2_Ar_mc_AKGC417L_7', '178_2b2_Ar_mc_AKGC417L_8', '178_2b2_Ar_mc_AKGC417L_9', '179_1b1_Al_sc_Meditron_0', '179_1b1_Al_sc_Meditron_2', '179_1b1_Tc_sc_Meditron_2', '179_1b1_Tc_sc_Meditron_5', '180_1b4_Pr_mc_AKGC417L_5', '180_1b4_Pl_mc_AKGC417L_5', '180_1b4_Lr_mc_AKGC417L_5', '180_1b4_Ar_mc_AKGC417L_5', '181_1b2_Ar_mc_LittC2SE_0', '181_1b2_Ar_mc_LittC2SE_1', '182_1b1_Tc_sc_Meditron_0', '182_1b1_Tc_sc_Meditron_1', '182_1b1_Tc_sc_Meditron_3', '182_1b1_Tc_sc_Meditron_5', '182_1b1_Tc_sc_Meditron_6', '183_1b1_Pl_sc_Meditron_0', '183_1b1_Pl_sc_Meditron_2', '186_2b2_Pl_mc_AKGC417L_0', '186_2b2_Pl_mc_AKGC417L_1', '186_2b2_Pl_mc_AKGC417L_2', '186_2b2_Pl_mc_AKGC417L_3', '186_2b2_Pl_mc_AKGC417L_4', '186_2b2_Lr_mc_AKGC417L_0', '186_2b2_Lr_mc_AKGC417L_1', '186_2b2_Lr_mc_AKGC417L_2', '186_2b2_Lr_mc_AKGC417L_3', '186_2b2_Lr_mc_AKGC417L_4', '186_2b2_Ar_mc_AKGC417L_0', '186_2b2_Ar_mc_AKGC417L_1', '186_2b2_Ar_mc_AKGC417L_2', '186_2b2_Ar_mc_AKGC417L_3', '186_2b2_Ar_mc_AKGC417L_4', '186_2b2_Pr_mc_AKGC417L_0', '186_2b2_Pr_mc_AKGC417L_1', '186_2b2_Pr_mc_AKGC417L_2', '186_2b2_Pr_mc_AKGC417L_3', '186_2b2_Pr_mc_AKGC417L_4', '186_2b3_Ar_mc_AKGC417L_1', '186_2b3_Ar_mc_AKGC417L_2', '186_2b3_Ar_mc_AKGC417L_3', '186_2b3_Ar_mc_AKGC417L_4', '186_2b3_Lr_mc_AKGC417L_0', '186_2b3_Lr_mc_AKGC417L_1', '186_2b3_Lr_mc_AKGC417L_2', '186_2b3_Lr_mc_AKGC417L_3', '186_2b3_Lr_mc_AKGC417L_4', '186_2b3_Pr_mc_AKGC417L_0', '186_2b3_Pr_mc_AKGC417L_1', '186_2b3_Pr_mc_AKGC417L_2', '186_2b3_Pr_mc_AKGC417L_3', '186_2b3_Pr_mc_AKGC417L_4', '186_2b3_Pl_mc_AKGC417L_0', '186_2b3_Pl_mc_AKGC417L_1', '186_2b3_Pl_mc_AKGC417L_2', '186_2b3_Pl_mc_AKGC417L_3', '186_2b3_Pl_mc_AKGC417L_4', '186_2b3_Al_mc_AKGC417L_4', '186_2b4_Lr_mc_AKGC417L_0', '186_2b4_Lr_mc_AKGC417L_1', '186_2b4_Lr_mc_AKGC417L_2', '186_2b4_Lr_mc_AKGC417L_3', '186_2b4_Lr_mc_AKGC417L_4', '186_2b4_Ar_mc_AKGC417L_0', '186_2b4_Ar_mc_AKGC417L_1', '186_2b4_Ar_mc_AKGC417L_2', '186_2b4_Ar_mc_AKGC417L_3', '186_2b4_Ar_mc_AKGC417L_4', '186_3b3_Ar_mc_AKGC417L_5', '186_3b3_Pl_mc_AKGC417L_0', '186_3b3_Pl_mc_AKGC417L_1', '186_3b3_Pl_mc_AKGC417L_2', '186_3b3_Pl_mc_AKGC417L_3', '186_3b3_Pl_mc_AKGC417L_4', '186_3b3_Pl_mc_AKGC417L_5', '186_3b3_Lr_mc_AKGC417L_4', '186_3b3_Al_mc_AKGC417L_2', '189_1b2_Lr_mc_LittC2SE_0', '189_1b2_Lr_mc_LittC2SE_1', '192_2b3_Al_mc_LittC2SE_0', '193_7b3_Ll_mc_AKGC417L_3', '193_7b3_Ar_mc_AKGC417L_1', '193_7b3_Ar_mc_AKGC417L_2', '193_7b3_Ar_mc_AKGC417L_3', '193_7b3_Ar_mc_AKGC417L_4', '193_7b3_Ar_mc_AKGC417L_6', '193_7b3_Ar_mc_AKGC417L_7', '193_7b3_Pl_mc_AKGC417L_0', '193_7b3_Pl_mc_AKGC417L_1', '193_7b3_Pl_mc_AKGC417L_2', '193_7b3_Pl_mc_AKGC417L_3', '193_7b3_Pl_mc_AKGC417L_4', '193_7b3_Pl_mc_AKGC417L_5', '193_7b3_Pl_mc_AKGC417L_6', '193_7b3_Pl_mc_AKGC417L_7', '193_7b3_Lr_mc_AKGC417L_0', '193_7b3_Lr_mc_AKGC417L_1', '193_7b3_Lr_mc_AKGC417L_2', '193_7b3_Lr_mc_AKGC417L_3', '193_7b3_Lr_mc_AKGC417L_4', '193_7b3_Lr_mc_AKGC417L_5', '193_7b3_Lr_mc_AKGC417L_6', '193_7b3_Lr_mc_AKGC417L_7', '193_7b3_Tc_mc_AKGC417L_1', '193_7b3_Tc_mc_AKGC417L_2', '193_7b3_Tc_mc_AKGC417L_3', '193_7b3_Tc_mc_AKGC417L_6', '193_7b3_Tc_mc_AKGC417L_7', '195_1b1_Ll_sc_Litt3200_2', '195_1b1_Ll_sc_Litt3200_7', '195_1b1_Ll_sc_Litt3200_10', '195_1b1_Lr_sc_Litt3200_7', '195_1b1_Lr_sc_Litt3200_8', '198_6p1_Lr_mc_AKGC417L_3', '198_6p1_Lr_mc_AKGC417L_4', '198_6p1_Lr_mc_AKGC417L_5', '198_6p1_Lr_mc_AKGC417L_6', '198_6p1_Ll_mc_AKGC417L_1', '198_6p1_Pl_mc_AKGC417L_0', '198_6p1_Pl_mc_AKGC417L_1', '198_6p1_Pl_mc_AKGC417L_2', '198_6p1_Pl_mc_AKGC417L_3', '198_6p1_Pl_mc_AKGC417L_4', '198_6p1_Pl_mc_AKGC417L_6', '198_6p1_Tc_mc_AKGC417L_1', '198_6p1_Tc_mc_AKGC417L_2', '198_6p1_Tc_mc_AKGC417L_3', '199_2b1_Ll_mc_LittC2SE_1', '199_2b1_Ll_mc_LittC2SE_2', '199_2b1_Ll_mc_LittC2SE_3', '199_2b1_Ll_mc_LittC2SE_4', '199_2b3_Ll_mc_LittC2SE_0', '199_2b3_Ll_mc_LittC2SE_1', '199_2b3_Ll_mc_LittC2SE_2', '199_2b3_Ll_mc_LittC2SE_3', '199_2b3_Ll_mc_LittC2SE_4', '199_2b3_Ll_mc_LittC2SE_5', '199_2b3_Ll_mc_LittC2SE_6', '199_2b3_Ll_mc_LittC2SE_7', '200_2p2_Pr_mc_AKGC417L_3', '200_2p2_Tc_mc_AKGC417L_0', '200_2p2_Tc_mc_AKGC417L_1', '200_2p2_Tc_mc_AKGC417L_2', '203_1p2_Ar_mc_AKGC417L_8', '203_1p2_Ar_mc_AKGC417L_9', '203_1p2_Pl_mc_AKGC417L_0', '203_1p2_Pl_mc_AKGC417L_1', '203_1p2_Pl_mc_AKGC417L_2', '203_1p2_Pl_mc_AKGC417L_4', '203_1p2_Pl_mc_AKGC417L_5', '203_1p2_Pl_mc_AKGC417L_6', '203_1p2_Pl_mc_AKGC417L_7', '203_1p2_Pl_mc_AKGC417L_8', '203_1p3_Ar_mc_AKGC417L_0', '203_1p3_Ar_mc_AKGC417L_1', '203_1p3_Ar_mc_AKGC417L_2', '203_1p3_Ar_mc_AKGC417L_4', '203_1p3_Ar_mc_AKGC417L_5', '203_1p3_Ar_mc_AKGC417L_6', '203_1p3_Ar_mc_AKGC417L_7', '203_1p3_Ar_mc_AKGC417L_8', '203_1p3_Ar_mc_AKGC417L_9', '203_1p3_Pr_mc_AKGC417L_0', '203_1p3_Pr_mc_AKGC417L_1', '203_1p3_Pr_mc_AKGC417L_2', '203_1p3_Pr_mc_AKGC417L_6', '203_1p3_Pr_mc_AKGC417L_8', '203_1p3_Pr_mc_AKGC417L_9', '203_1p3_Al_mc_AKGC417L_0', '203_1p3_Al_mc_AKGC417L_1', '203_1p3_Al_mc_AKGC417L_2', '203_1p3_Al_mc_AKGC417L_4', '203_1p3_Al_mc_AKGC417L_5', '203_1p3_Al_mc_AKGC417L_6', '203_1p3_Al_mc_AKGC417L_7', '203_1p3_Al_mc_AKGC417L_8', '203_1p3_Pl_mc_AKGC417L_1', '203_1p3_Pl_mc_AKGC417L_2', '203_1p3_Pl_mc_AKGC417L_3', '203_1p3_Pl_mc_AKGC417L_4', '203_1p3_Pl_mc_AKGC417L_5', '203_1p3_Pl_mc_AKGC417L_6', '203_1p3_Pl_mc_AKGC417L_7', '203_1p3_Pl_mc_AKGC417L_8', '203_1p3_Pl_mc_AKGC417L_9', '203_1p4_Ar_mc_AKGC417L_1', '203_1p4_Ar_mc_AKGC417L_2', '203_1p4_Ar_mc_AKGC417L_3', '203_1p4_Ar_mc_AKGC417L_4', '203_1p4_Ar_mc_AKGC417L_5', '203_1p4_Ar_mc_AKGC417L_6', '203_1p4_Ar_mc_AKGC417L_8', '203_1p4_Al_mc_AKGC417L_1', '203_1p4_Al_mc_AKGC417L_2', '203_1p4_Al_mc_AKGC417L_3', '203_1p4_Pl_mc_AKGC417L_0', '203_1p4_Pl_mc_AKGC417L_1', '203_1p4_Pl_mc_AKGC417L_2', '203_1p4_Pl_mc_AKGC417L_3', '203_1p4_Pl_mc_AKGC417L_4', '203_1p4_Pl_mc_AKGC417L_5', '203_1p4_Pl_mc_AKGC417L_7', '203_1p4_Pr_mc_AKGC417L_1', '203_1p4_Pr_mc_AKGC417L_3', '203_2p3_Pl_mc_AKGC417L_2', '203_2p3_Pr_mc_AKGC417L_3', '203_2p3_Pr_mc_AKGC417L_5', '203_1p4_Tc_mc_AKGC417L_1', '203_1p4_Tc_mc_AKGC417L_2', '203_1p4_Tc_mc_AKGC417L_6', '203_2p3_Ar_mc_AKGC417L_1', '203_2p3_Ar_mc_AKGC417L_2', '203_2p3_Ar_mc_AKGC417L_3', '203_2p3_Ar_mc_AKGC417L_4', '203_2p3_Ar_mc_AKGC417L_5', '205_1b3_Ll_mc_AKGC417L_1', '205_1b3_Ll_mc_AKGC417L_2', '205_1b3_Ll_mc_AKGC417L_3', '205_1b3_Ll_mc_AKGC417L_4', '205_1b3_Ll_mc_AKGC417L_5', '205_1b3_Al_mc_AKGC417L_3', '205_1b3_Ar_mc_AKGC417L_0', '205_1b3_Ar_mc_AKGC417L_1', '205_1b3_Ar_mc_AKGC417L_2', '205_1b3_Ar_mc_AKGC417L_3', '205_1b3_Ar_mc_AKGC417L_4', '205_1b3_Ar_mc_AKGC417L_5', '205_1b3_Lr_mc_AKGC417L_1', '205_1b3_Lr_mc_AKGC417L_2', '205_1b3_Pl_mc_AKGC417L_1', '205_1b3_Pl_mc_AKGC417L_2', '205_1b3_Pl_mc_AKGC417L_3', '205_1b3_Pl_mc_AKGC417L_4', '205_2b3_Ll_mc_AKGC417L_0', '205_2b3_Ll_mc_AKGC417L_1', '205_2b3_Ll_mc_AKGC417L_2', '205_1b3_Pr_mc_AKGC417L_0', '205_1b3_Pr_mc_AKGC417L_1', '205_1b3_Pr_mc_AKGC417L_2', '205_1b3_Pr_mc_AKGC417L_4', '205_2b3_Ar_mc_AKGC417L_0', '205_2b3_Ar_mc_AKGC417L_1', '205_2b3_Ar_mc_AKGC417L_2', '205_2b3_Ar_mc_AKGC417L_3', '205_2b3_Al_mc_AKGC417L_2', '205_2b3_Al_mc_AKGC417L_3', '205_3b4_Ar_mc_AKGC417L_2', '205_2b4_Pl_mc_AKGC417L_0', '207_2b4_Al_mc_AKGC417L_3', '207_2b4_Al_mc_AKGC417L_4', '207_2b3_Ar_mc_AKGC417L_2', '207_2b3_Pl_mc_AKGC417L_3', '207_2b3_Pl_mc_AKGC417L_5', '207_2b4_Ar_mc_AKGC417L_0', '207_2b4_Ar_mc_AKGC417L_1', '207_2b4_Ar_mc_AKGC417L_2', '207_2b4_Ar_mc_AKGC417L_3', '207_2b4_Ar_mc_AKGC417L_4', '207_2b4_Pr_mc_AKGC417L_0', '207_2b4_Pr_mc_AKGC417L_1', '207_2b4_Pr_mc_AKGC417L_2', '207_2b4_Pl_mc_AKGC417L_1', '207_2b4_Pl_mc_AKGC417L_2', '207_2b4_Pl_mc_AKGC417L_3', '210_1b1_Ar_sc_Meditron_5', '210_1b1_Al_sc_Meditron_8', '211_1p2_Pl_mc_AKGC417L_3', '211_1p2_Pl_mc_AKGC417L_4', '211_1p2_Pl_mc_AKGC417L_6', '211_1p2_Pl_mc_AKGC417L_11', '211_1p2_Pl_mc_AKGC417L_12', '212_2b2_Tc_mc_LittC2SE_1', '212_2b2_Tc_mc_LittC2SE_3', '213_1p2_Pr_mc_AKGC417L_1', '213_1p2_Pr_mc_AKGC417L_2', '213_1p2_Pr_mc_AKGC417L_3', '213_1p2_Pr_mc_AKGC417L_4', '213_1p2_Pl_mc_AKGC417L_2', '130_1p2_Al_mc_AKGC417L_3', '130_1p2_Ar_mc_AKGC417L_0', '130_1p2_Ar_mc_AKGC417L_1', '130_1p2_Ar_mc_AKGC417L_3', '130_1p2_Lr_mc_AKGC417L_0', '130_1p2_Lr_mc_AKGC417L_1', '130_1p2_Lr_mc_AKGC417L_2', '130_1p2_Lr_mc_AKGC417L_3', '130_1p2_Pr_mc_AKGC417L_1', '130_1p2_Pr_mc_AKGC417L_3', '130_1p2_Tc_mc_AKGC417L_0', '130_1p2_Tc_mc_AKGC417L_1', '130_1p2_Tc_mc_AKGC417L_3', '130_1p2_Pl_mc_AKGC417L_0', '130_1p2_Pl_mc_AKGC417L_1', '130_1p2_Pl_mc_AKGC417L_3', '130_1p3_Ar_mc_AKGC417L_5', '130_2b2_Lr_mc_AKGC417L_0', '130_2b2_Lr_mc_AKGC417L_1', '130_2b2_Lr_mc_AKGC417L_2', '130_2b2_Lr_mc_AKGC417L_3', '130_2b2_Lr_mc_AKGC417L_4', '130_2b2_Lr_mc_AKGC417L_5', '130_2b2_Lr_mc_AKGC417L_6', '130_2b2_Lr_mc_AKGC417L_7', '130_2b2_Pl_mc_AKGC417L_0', '130_2b2_Pl_mc_AKGC417L_1', '130_2b2_Pl_mc_AKGC417L_2', '130_2b2_Pl_mc_AKGC417L_3', '130_2b2_Pl_mc_AKGC417L_4', '130_2b2_Pl_mc_AKGC417L_5', '130_2b2_Pl_mc_AKGC417L_6', '130_2b2_Pl_mc_AKGC417L_7', '130_2b2_Al_mc_AKGC417L_0', '130_2b2_Al_mc_AKGC417L_1', '130_2b2_Al_mc_AKGC417L_2', '130_2b2_Al_mc_AKGC417L_3', '130_2b2_Al_mc_AKGC417L_4', '130_2b2_Al_mc_AKGC417L_5', '130_2b2_Al_mc_AKGC417L_6', '130_2b2_Al_mc_AKGC417L_7', '130_2b2_Ll_mc_AKGC417L_0', '130_2b2_Ll_mc_AKGC417L_1', '130_2b2_Ll_mc_AKGC417L_2', '130_2b2_Ll_mc_AKGC417L_3', '130_2b2_Ll_mc_AKGC417L_4', '130_2b2_Ll_mc_AKGC417L_5', '130_2b2_Ll_mc_AKGC417L_6', '130_2b2_Ll_mc_AKGC417L_7', '130_2b2_Ar_mc_AKGC417L_0', '130_2b2_Ar_mc_AKGC417L_1', '130_2b2_Ar_mc_AKGC417L_2', '130_2b2_Ar_mc_AKGC417L_3', '130_2b2_Ar_mc_AKGC417L_6', '130_2b2_Ar_mc_AKGC417L_7', '130_2b2_Pr_mc_AKGC417L_0', '130_2b2_Pr_mc_AKGC417L_1', '130_2b2_Pr_mc_AKGC417L_2', '130_2b2_Pr_mc_AKGC417L_3', '130_2b2_Pr_mc_AKGC417L_4', '130_2b2_Pr_mc_AKGC417L_5', '130_2b2_Pr_mc_AKGC417L_6', '130_2b2_Pr_mc_AKGC417L_7', '130_2b3_Ll_mc_AKGC417L_0', '130_2b3_Ll_mc_AKGC417L_1', '130_2b3_Ll_mc_AKGC417L_2', '130_2b3_Ll_mc_AKGC417L_3', '130_2b3_Ll_mc_AKGC417L_4', '130_2b3_Ll_mc_AKGC417L_5', '130_2b3_Ll_mc_AKGC417L_6', '130_2b3_Ll_mc_AKGC417L_7', '130_2b3_Ll_mc_AKGC417L_8', '130_2b3_Al_mc_AKGC417L_1', '130_2b3_Al_mc_AKGC417L_2', '130_2b3_Al_mc_AKGC417L_3', '130_2b3_Al_mc_AKGC417L_4', '130_2b3_Al_mc_AKGC417L_5', '130_2b3_Al_mc_AKGC417L_6', '130_2b3_Al_mc_AKGC417L_7', '130_2b3_Al_mc_AKGC417L_8', '130_2b3_Ar_mc_AKGC417L_1', '130_2b3_Ar_mc_AKGC417L_2', '130_2b3_Ar_mc_AKGC417L_3', '130_2b3_Ar_mc_AKGC417L_4', '130_2b3_Ar_mc_AKGC417L_5', '130_2b3_Ar_mc_AKGC417L_6', '130_2b3_Ar_mc_AKGC417L_7', '130_2b3_Ar_mc_AKGC417L_8', '130_2b3_Pl_mc_AKGC417L_0', '130_2b3_Pl_mc_AKGC417L_1', '130_2b3_Pl_mc_AKGC417L_2', '130_2b3_Pl_mc_AKGC417L_3', '130_2b3_Pl_mc_AKGC417L_4', '130_2b3_Pl_mc_AKGC417L_5', '130_2b3_Pl_mc_AKGC417L_6', '130_2b3_Pl_mc_AKGC417L_7', '130_2b3_Pl_mc_AKGC417L_8', '130_2b3_Pr_mc_AKGC417L_0', '130_2b3_Pr_mc_AKGC417L_1', '130_2b3_Pr_mc_AKGC417L_2', '130_2b3_Pr_mc_AKGC417L_3', '130_2b3_Pr_mc_AKGC417L_4', '130_2b3_Pr_mc_AKGC417L_5', '130_2b3_Pr_mc_AKGC417L_6', '130_2b3_Pr_mc_AKGC417L_7', '130_2b3_Pr_mc_AKGC417L_8', '130_2b3_Lr_mc_AKGC417L_1', '130_2b3_Lr_mc_AKGC417L_2', '130_2b3_Lr_mc_AKGC417L_3', '130_2b3_Lr_mc_AKGC417L_4', '130_2b3_Lr_mc_AKGC417L_5', '130_2b3_Lr_mc_AKGC417L_6', '130_2b3_Lr_mc_AKGC417L_7', '130_2b3_Lr_mc_AKGC417L_8', '130_2b4_Lr_mc_AKGC417L_1', '130_2b4_Lr_mc_AKGC417L_2', '130_2b4_Lr_mc_AKGC417L_3', '130_2b4_Lr_mc_AKGC417L_4', '130_2b4_Lr_mc_AKGC417L_5', '130_2b4_Lr_mc_AKGC417L_6', '130_2b4_Lr_mc_AKGC417L_7', '130_2b4_Lr_mc_AKGC417L_8', '130_2b4_Al_mc_AKGC417L_1', '130_2b4_Al_mc_AKGC417L_2', '130_2b4_Al_mc_AKGC417L_3', '130_2b4_Al_mc_AKGC417L_4', '130_2b4_Al_mc_AKGC417L_5', '130_2b4_Al_mc_AKGC417L_6', '130_2b4_Al_mc_AKGC417L_7', '130_2b4_Al_mc_AKGC417L_8', '130_2b4_Ar_mc_AKGC417L_0', '130_2b4_Ar_mc_AKGC417L_1', '130_2b4_Ar_mc_AKGC417L_2', '130_2b4_Ar_mc_AKGC417L_3', '130_2b4_Ar_mc_AKGC417L_4', '130_2b4_Ar_mc_AKGC417L_5', '130_2b4_Ar_mc_AKGC417L_6', '130_2b4_Ar_mc_AKGC417L_7', '130_2b4_Ar_mc_AKGC417L_8', '130_2b4_Pl_mc_AKGC417L_1', '130_2b4_Pl_mc_AKGC417L_2', '130_2b4_Pl_mc_AKGC417L_3', '130_2b4_Pl_mc_AKGC417L_4', '130_2b4_Pl_mc_AKGC417L_6', '130_2b4_Pl_mc_AKGC417L_7', '130_2b4_Ll_mc_AKGC417L_1', '130_2b4_Ll_mc_AKGC417L_2', '130_2b4_Ll_mc_AKGC417L_3', '130_2b4_Ll_mc_AKGC417L_4', '130_2b4_Ll_mc_AKGC417L_5', '130_2b4_Ll_mc_AKGC417L_6', '130_2b4_Ll_mc_AKGC417L_7', '130_2b4_Ll_mc_AKGC417L_8', '130_2p5_Ar_mc_AKGC417L_0', '130_2p5_Ar_mc_AKGC417L_1', '130_2p5_Ar_mc_AKGC417L_2', '130_2p5_Ar_mc_AKGC417L_3', '130_2p5_Ar_mc_AKGC417L_4', '130_2p5_Ar_mc_AKGC417L_5', '130_2p5_Ar_mc_AKGC417L_6', '130_2p5_Ar_mc_AKGC417L_7', '130_2p5_Ar_mc_AKGC417L_8', '130_2p5_Ar_mc_AKGC417L_9', '130_2p3_Pl_mc_AKGC417L_0', '130_2p3_Pl_mc_AKGC417L_1', '130_2p3_Pl_mc_AKGC417L_2', '130_2p3_Pl_mc_AKGC417L_3', '130_2p3_Pl_mc_AKGC417L_4', '130_2p3_Pl_mc_AKGC417L_5', '130_2p3_Pl_mc_AKGC417L_6', '130_2p3_Pl_mc_AKGC417L_7', '130_2p3_Pl_mc_AKGC417L_8', '130_2p3_Pl_mc_AKGC417L_9', '130_2p5_Lr_mc_AKGC417L_0', '130_2p5_Lr_mc_AKGC417L_1', '130_2p5_Lr_mc_AKGC417L_2', '130_2p5_Lr_mc_AKGC417L_3', '130_2p5_Lr_mc_AKGC417L_4', '130_2p5_Lr_mc_AKGC417L_5', '130_2p5_Lr_mc_AKGC417L_7', '130_2p5_Lr_mc_AKGC417L_8', '130_2p5_Lr_mc_AKGC417L_9', '130_2p5_Al_mc_AKGC417L_0', '130_2p5_Al_mc_AKGC417L_1', '130_2p5_Al_mc_AKGC417L_2', '130_2p5_Al_mc_AKGC417L_3', '130_2p5_Al_mc_AKGC417L_4', '130_2p5_Al_mc_AKGC417L_5', '130_2p5_Al_mc_AKGC417L_6', '130_2p5_Al_mc_AKGC417L_7', '130_2p5_Al_mc_AKGC417L_8', '130_2p5_Al_mc_AKGC417L_9', '130_2p5_Tc_mc_AKGC417L_1', '130_2p5_Tc_mc_AKGC417L_2', '130_2p5_Tc_mc_AKGC417L_3', '130_2p5_Tc_mc_AKGC417L_4', '130_2p5_Tc_mc_AKGC417L_5', '130_2p5_Tc_mc_AKGC417L_6', '130_2p5_Tc_mc_AKGC417L_8', '130_2p5_Pl_mc_AKGC417L_0', '130_2p5_Pl_mc_AKGC417L_1', '130_2p5_Pl_mc_AKGC417L_2', '130_2p5_Pl_mc_AKGC417L_3', '130_2p5_Pl_mc_AKGC417L_4', '130_2p5_Pl_mc_AKGC417L_6', '130_2p5_Pl_mc_AKGC417L_8', '130_2p5_Pl_mc_AKGC417L_9', '130_2p5_Pl_mc_AKGC417L_10', '130_3b3_Ll_mc_AKGC417L_0', '130_3b3_Ll_mc_AKGC417L_1', '130_3b3_Ll_mc_AKGC417L_2', '130_3b3_Ll_mc_AKGC417L_3', '130_3b3_Ll_mc_AKGC417L_4', '130_2p5_Pr_mc_AKGC417L_0', '130_2p5_Pr_mc_AKGC417L_2', '130_2p5_Pr_mc_AKGC417L_3', '130_2p5_Pr_mc_AKGC417L_4', '130_2p5_Pr_mc_AKGC417L_5', '130_2p5_Pr_mc_AKGC417L_6', '130_2p5_Pr_mc_AKGC417L_7', '130_2p5_Pr_mc_AKGC417L_8', '130_2p5_Pr_mc_AKGC417L_9', '130_2p5_Pr_mc_AKGC417L_10', '130_3b4_Pr_mc_AKGC417L_0', '130_3b4_Pr_mc_AKGC417L_1', '130_3b4_Pr_mc_AKGC417L_2', '130_3b4_Pr_mc_AKGC417L_3', '130_3b4_Pr_mc_AKGC417L_4', '130_3b4_Lr_mc_AKGC417L_0', '130_3b4_Lr_mc_AKGC417L_1', '130_3b4_Lr_mc_AKGC417L_2', '130_3b4_Lr_mc_AKGC417L_3', '130_3b4_Lr_mc_AKGC417L_4', '130_3b4_Pl_mc_AKGC417L_0', '130_3b4_Pl_mc_AKGC417L_1', '130_3b4_Pl_mc_AKGC417L_2', '130_3b4_Pl_mc_AKGC417L_3', '130_3b4_Pl_mc_AKGC417L_4', '130_3p2_Al_mc_AKGC417L_0', '130_3p2_Al_mc_AKGC417L_1', '130_3p2_Al_mc_AKGC417L_2', '130_3p2_Al_mc_AKGC417L_3', '130_3p2_Al_mc_AKGC417L_4', '130_3p2_Al_mc_AKGC417L_5', '130_3p2_Al_mc_AKGC417L_6', '130_3p2_Tc_mc_AKGC417L_0', 'classes']\n"
     ]
    }
   ],
   "source": [
    "# 디렉토리 경로\n",
    "directory = \"/content/drive/MyDrive/project/model/YoloV9/labels\"\n",
    "\n",
    "# 디렉토리 내의 파일 목록 가져오기\n",
    "file_list = os.listdir(directory)\n",
    "\n",
    "# .txt 확장자를 제외한 파일명 리스트 초기화\n",
    "file_names_without_extension1 = []\n",
    "\n",
    "# 파일 목록에서 .txt 확장자를 제외한 파일명만 추출하여 리스트에 추가\n",
    "for file_name in file_list:\n",
    "    name_without_extension = os.path.splitext(file_name)[0]\n",
    "    file_names_without_extension1.append(name_without_extension)\n",
    "\n",
    "# .txt 확장자를 제외한 파일명이 저장된 리스트 출력\n",
    "print(\"확장자를 제외한 파일명 리스트:\", file_names_without_extension1)"
   ]
  },
  {
   "cell_type": "code",
   "execution_count": null,
   "metadata": {
    "colab": {
     "base_uri": "https://localhost:8080/"
    },
    "id": "Lj5LGUZVYRwA",
    "outputId": "6defd2c4-cdd9-4b4c-ceaf-640ff5b307bd"
   },
   "outputs": [
    {
     "name": "stdout",
     "output_type": "stream",
     "text": [
      "차이나는 파일 목록: {'classes'}\n"
     ]
    }
   ],
   "source": [
    "# 차이를 찾기 위해 두 리스트를 세트(set)로 변환하여 차집합 연산을 수행\n",
    "difference = set(file_names_without_extension1) - set(file_names_without_extension)\n",
    "\n",
    "# 차이가 있는 파일 목록 출력\n",
    "print(\"차이나는 파일 목록:\", difference)"
   ]
  },
  {
   "cell_type": "markdown",
   "metadata": {
    "id": "Az7lkGQDEfei"
   },
   "source": [
    "### Preparing Training Data"
   ]
  },
  {
   "cell_type": "code",
   "execution_count": null,
   "metadata": {
    "id": "EKgBKbpeEcaU"
   },
   "outputs": [],
   "source": [
    "# Create a folder of train dataset\n",
    "if not os.path.isfile(\"/content/drive/MyDrive/project/model/YoloV9/Training/data\"):\n",
    "    # os.mkdir('/content/drive/MyDrive/AIFFEL/AIFFELTON/model/YoloV9/Training/data')\n",
    "    os.mkdir('/content/drive/MyDrive/project/model/YoloV9/Training/data/train')\n",
    "    os.mkdir('/content/drive/MyDrive/project/model/YoloV9/Training/data/val')\n",
    "    os.mkdir('/content/drive/MyDrive/project/model/YoloV9/Training/data/test')\n",
    "    os.mkdir('/content/drive/MyDrive/project/model/YoloV9/Training/data/train/images')\n",
    "    os.mkdir('/content/drive/MyDrive/project/model/YoloV9/Training/data/train/labels')\n",
    "    os.mkdir('/content/drive/MyDrive/project/model/YoloV9/Training/data/test/images')\n",
    "    os.mkdir('/content/drive/MyDrive/project/model/YoloV9/Training/data/test/labels')\n",
    "    os.mkdir('/content/drive/MyDrive/project/model/YoloV9/Training/data/val/images')\n",
    "    os.mkdir('/content/drive/MyDrive/project/model/YoloV9/Training/data/val/labels')"
   ]
  },
  {
   "cell_type": "code",
   "execution_count": null,
   "metadata": {
    "id": "6dtnyKFUE4i6"
   },
   "outputs": [],
   "source": [
    "# Material is the names of images in the images folder.\n",
    "metarial = []\n",
    "for i in os.listdir(\"/content/drive/MyDrive/project/original\"):\n",
    "    str1 = i[:-4]\n",
    "    metarial.append(str1)"
   ]
  },
  {
   "cell_type": "code",
   "execution_count": null,
   "metadata": {
    "colab": {
     "base_uri": "https://localhost:8080/"
    },
    "id": "hbnYtAv5lgn5",
    "outputId": "55e84656-e7fb-4bc1-fb9f-ec2373f38b23"
   },
   "outputs": [
    {
     "data": {
      "text/plain": [
       "['130_2p5_Pl_mc_AKGC417L_10',\n",
       " '130_3b3_Ll_mc_AKGC417L_0',\n",
       " '130_3b3_Ll_mc_AKGC417L_1',\n",
       " '130_3b3_Ll_mc_AKGC417L_2',\n",
       " '130_3b3_Ll_mc_AKGC417L_3',\n",
       " '130_3b3_Ll_mc_AKGC417L_4',\n",
       " '130_2p5_Pr_mc_AKGC417L_0',\n",
       " '130_2p5_Pr_mc_AKGC417L_1',\n",
       " '130_2p5_Pr_mc_AKGC417L_2',\n",
       " '130_2p5_Pr_mc_AKGC417L_3',\n",
       " '130_2p5_Pr_mc_AKGC417L_4',\n",
       " '130_2p5_Pr_mc_AKGC417L_5',\n",
       " '130_2p5_Pr_mc_AKGC417L_6']"
      ]
     },
     "execution_count": 23,
     "metadata": {},
     "output_type": "execute_result"
    }
   ],
   "source": [
    "metarial[0:13]"
   ]
  },
  {
   "cell_type": "code",
   "execution_count": null,
   "metadata": {
    "colab": {
     "base_uri": "https://localhost:8080/"
    },
    "id": "E6pz8p6Wlm-p",
    "outputId": "3d6eb788-5352-43e3-87c5-39a3522d9e0c"
   },
   "outputs": [
    {
     "name": "stdout",
     "output_type": "stream",
     "text": [
      "Sum of image:  3246\n",
      "Sum of the train size:  2272\n",
      "Sum of the test size:  486\n",
      "Sum of the val size:  486\n"
     ]
    }
   ],
   "source": [
    "print(\"Sum of image: \", len(metarial))\n",
    "train_size = int(len(metarial) * 0.7)\n",
    "test_size = int(len(metarial) * 0.15)\n",
    "val_size = int(len(metarial) * 0.15)\n",
    "print(\"Sum of the train size: \", train_size)\n",
    "print(\"Sum of the test size: \", test_size)\n",
    "print(\"Sum of the val size: \", val_size)"
   ]
  },
  {
   "cell_type": "code",
   "execution_count": null,
   "metadata": {
    "id": "k1juw7WaluXV"
   },
   "outputs": [],
   "source": [
    "import os\n",
    "import shutil\n",
    "\n",
    "def preparingdata(main_txt_file, main_img_file, train_size, test_size, val_size):\n",
    "    for i in range(0, train_size):\n",
    "        source_txt = main_txt_file + \"/\" + metarial[i] + \".txt\"\n",
    "        source_img = main_img_file + \"/\" + metarial[i] + \".png\"\n",
    "\n",
    "        mstring = metarial[i]\n",
    "        train_destination_txt = \"/content/drive/MyDrive/project/model/YoloV9/Training/data/train/labels\" + \"/\" + metarial[i] + \".txt\"\n",
    "        train_destination_png = \"/content/drive/MyDrive/project/model/YoloV9/Training/data/train/images\" + \"/\" + metarial[i] + \".png\"\n",
    "\n",
    "        shutil.copy(source_txt, train_destination_txt)\n",
    "        shutil.copy(source_img, train_destination_png)\n",
    "\n",
    "    for l in range(train_size , train_size + test_size):\n",
    "        source_txt = main_txt_file + \"/\" + metarial[l] + \".txt\"\n",
    "        source_img = main_img_file + \"/\" + metarial[l] + \".png\"\n",
    "\n",
    "        mstring = metarial[l]\n",
    "        test_destination_txt = \"/content/drive/MyDrive/project/model/YoloV9/Training/data/test/labels\" + \"/\" + metarial[l] + \".txt\"\n",
    "        test_destination_png = \"/content/drive/MyDrive/project/model/YoloV9/Training/data/test/images\" + \"/\" + metarial[l] + \".png\"\n",
    "\n",
    "        shutil.copy(source_txt, test_destination_txt)\n",
    "        shutil.copy(source_img, test_destination_png)\n",
    "\n",
    "    for n in range(train_size + test_size , train_size + test_size + val_size):\n",
    "        source_txt = main_txt_file + \"/\" + metarial[n] + \".txt\"\n",
    "        source_img = main_img_file + \"/\" + metarial[n] + \".png\"\n",
    "\n",
    "        mstring = metarial[n]\n",
    "        val_destination_txt = \"/content/drive/MyDrive/project/model/YoloV9/Training/data/val/labels\" + \"/\" + metarial[n] + \".txt\"\n",
    "        val_destination_png = \"/content/drive/MyDrive/project/model/YoloV9/Training/data/val/images\" + \"/\" + metarial[n] + \".png\"\n",
    "\n",
    "        # Remove _mel_spec from the filename\n",
    "        new_filename = metarial[n]\n",
    "\n",
    "        # Copy files with modified filename\n",
    "        shutil.copy(source_txt, val_destination_txt)\n",
    "        shutil.copy(source_img, val_destination_png.replace(metarial[n] , new_filename))\n"
   ]
  },
  {
   "cell_type": "code",
   "execution_count": null,
   "metadata": {
    "id": "sZqOS6Gatayn"
   },
   "outputs": [],
   "source": [
    "#preparinbdata(\"/kaggle/working/labels\", \"/kaggle/input/face-mask-detection/images\", 603, 150, 100)\n",
    "preparingdata(main_txt_file = \"/content/drive/MyDrive/project/model/YoloV9/labels\",\n",
    "              main_img_file = \"/content/drive/MyDrive/project/original\",\n",
    "              train_size = train_size,\n",
    "              test_size = test_size,\n",
    "              val_size = val_size)\n"
   ]
  },
  {
   "cell_type": "code",
   "execution_count": 18,
   "metadata": {
    "colab": {
     "base_uri": "https://localhost:8080/"
    },
    "id": "2OTRKmDaT33Y",
    "outputId": "b76dfa17-72e8-45fe-b3b6-ea302d439dc7"
   },
   "outputs": [
    {
     "ename": "FileNotFoundError",
     "evalue": "[Errno 2] No such file or directory: '/content/drive/MyDrive/project/model/YoloV9/Training/data/train/images'",
     "output_type": "error",
     "traceback": [
      "\u001b[0;31m---------------------------------------------------------------------------\u001b[0m",
      "\u001b[0;31mFileNotFoundError\u001b[0m                         Traceback (most recent call last)",
      "Cell \u001b[0;32mIn[18], line 1\u001b[0m\n\u001b[0;32m----> 1\u001b[0m train_data \u001b[38;5;241m=\u001b[39m \u001b[38;5;28mlen\u001b[39m(\u001b[43mos\u001b[49m\u001b[38;5;241;43m.\u001b[39;49m\u001b[43mlistdir\u001b[49m\u001b[43m(\u001b[49m\u001b[38;5;124;43m\"\u001b[39;49m\u001b[38;5;124;43m/content/drive/MyDrive/project/model/YoloV9/Training/data/train/images\u001b[39;49m\u001b[38;5;124;43m\"\u001b[39;49m\u001b[43m)\u001b[49m)\n\u001b[1;32m      2\u001b[0m vol_data \u001b[38;5;241m=\u001b[39m \u001b[38;5;28mlen\u001b[39m(os\u001b[38;5;241m.\u001b[39mlistdir(\u001b[38;5;124m\"\u001b[39m\u001b[38;5;124m/content/drive/MyDrive/project/model/YoloV9/Training/data/val/images\u001b[39m\u001b[38;5;124m\"\u001b[39m))\n\u001b[1;32m      3\u001b[0m test_data \u001b[38;5;241m=\u001b[39m \u001b[38;5;28mlen\u001b[39m(os\u001b[38;5;241m.\u001b[39mlistdir(\u001b[38;5;124m\"\u001b[39m\u001b[38;5;124m/content/drive/MyDrive/project/model/YoloV9/Training/data/test/images\u001b[39m\u001b[38;5;124m\"\u001b[39m))\n",
      "\u001b[0;31mFileNotFoundError\u001b[0m: [Errno 2] No such file or directory: '/content/drive/MyDrive/project/model/YoloV9/Training/data/train/images'"
     ]
    }
   ],
   "source": [
    "train_data = len(os.listdir(\"/content/drive/MyDrive/project/model/YoloV9/Training/data/train/images\"))\n",
    "vol_data = len(os.listdir(\"/content/drive/MyDrive/project/model/YoloV9/Training/data/val/images\"))\n",
    "test_data = len(os.listdir(\"/content/drive/MyDrive/project/model/YoloV9/Training/data/test/images\"))\n",
    "\n",
    "print(f\"train_data: {train_data}\")\n",
    "print(f\"vol_data: {vol_data}\")\n",
    "print(f\"test_data: {test_data}\")"
   ]
  },
  {
   "cell_type": "markdown",
   "metadata": {
    "id": "Yh5PsrA7ck_2"
   },
   "source": [
    "### yaml 파일 제작"
   ]
  },
  {
   "cell_type": "code",
   "execution_count": 26,
   "metadata": {
    "id": "n-0g918Z_nwV"
   },
   "outputs": [],
   "source": [
    "# Create the data.yaml. I am going to use it on the train with yolov9.\n",
    "yaml_text = \"\"\"train: /home/sogaksa123/AIFFEL_THON/model/Yolov9/Training/data/Training/data/train/images\n",
    "val: /home/sogaksa123/AIFFEL_THON//model/Yolov9/Training/data/Training/data/val/images\n",
    "\n",
    "nc: 2\n",
    "names: [\"crackles\", \"wheezes\"]\"\"\"\n",
    "\n",
    "with open(\"/home/sogaksa123/AIFFEL_THON/model/Yolov9/data.yaml\", 'w') as file:\n",
    "    file.write(yaml_text)"
   ]
  },
  {
   "cell_type": "code",
   "execution_count": 27,
   "metadata": {
    "colab": {
     "base_uri": "https://localhost:8080/"
    },
    "id": "7liaV3Y6AV06",
    "outputId": "598e643b-6e59-4302-84d0-9c294c9ed582"
   },
   "outputs": [
    {
     "name": "stdout",
     "output_type": "stream",
     "text": [
      "train: /home/sogaksa123/AIFFEL_THON/model/Yolov9/Training/data/Training/data/train/images\n",
      "val: /home/sogaksa123/AIFFEL_THON//model/Yolov9/Training/data/Training/data/val/images\n",
      "\n",
      "nc: 2\n",
      "names: [\"crackles\", \"wheezes\"]\n"
     ]
    }
   ],
   "source": [
    "with open(\"/home/sogaksa123/AIFFEL_THON/model/Yolov9/data.yaml\") as f:\n",
    "    contents = f.read()\n",
    "    print(contents)"
   ]
  },
  {
   "cell_type": "markdown",
   "metadata": {
    "id": "GM3WTgM-AhNy"
   },
   "source": [
    "### YoloV9"
   ]
  },
  {
   "cell_type": "code",
   "execution_count": 22,
   "metadata": {
    "colab": {
     "base_uri": "https://localhost:8080/"
    },
    "id": "Vlce66DnAdUT",
    "outputId": "abad9f82-2ec9-455f-ed6b-ca1624712d97"
   },
   "outputs": [
    {
     "name": "stdout",
     "output_type": "stream",
     "text": [
      "fatal: destination path 'yolov9' already exists and is not an empty directory.\n"
     ]
    }
   ],
   "source": [
    "# Download Github rep.\n",
    "!git clone https://github.com/SkalskiP/yolov9.git"
   ]
  },
  {
   "cell_type": "code",
   "execution_count": 23,
   "metadata": {},
   "outputs": [
    {
     "name": "stdout",
     "output_type": "stream",
     "text": [
      "/home/sogaksa123/AIFFEL_THON/model/Yolov9\n"
     ]
    }
   ],
   "source": [
    "import os\n",
    "current_directory = os.getcwd()\n",
    "print(current_directory)"
   ]
  },
  {
   "cell_type": "code",
   "execution_count": 24,
   "metadata": {
    "colab": {
     "base_uri": "https://localhost:8080/"
    },
    "id": "gTTNINAXEymy",
    "outputId": "bdb6ac51-f5c6-4021-bedf-9c78dc599f19"
   },
   "outputs": [],
   "source": [
    "# İnstall the req.\n",
    "!pip install -r /home/sogaksa123/AIFFEL_THON/model/Yolov9/yolov9/requirements.txt -q"
   ]
  },
  {
   "cell_type": "code",
   "execution_count": 29,
   "metadata": {
    "colab": {
     "base_uri": "https://localhost:8080/"
    },
    "id": "qvsvVbh2E3D2",
    "outputId": "2efb68a7-7bbd-4e1e-9d95-bde91ebead33"
   },
   "outputs": [
    {
     "name": "stdout",
     "output_type": "stream",
     "text": [
      "\u001b[34m\u001b[1mtrain_dual: \u001b[0mweights=, cfg=/home/sogaksa123/AIFFEL_THON/model/Yolov9/yolov9/models/detect/yolov9-c.yaml, data=/home/sogaksa123/AIFFEL_THON/model/Yolov9/data.yaml, hyp=/home/sogaksa123/AIFFEL_THON/model/Yolov9/yolov9/data/hyps/hyp.scratch-high.yaml, epochs=20, batch_size=32, imgsz=224, rect=False, resume=False, nosave=False, noval=False, noautoanchor=False, noplots=False, evolve=None, bucket=, cache=None, image_weights=False, device=0, multi_scale=False, single_cls=False, optimizer=SGD, sync_bn=False, workers=8, project=yolov9/runs/train, name=yolov9-c, exist_ok=False, quad=False, cos_lr=False, flat_cos_lr=False, fixed_lr=False, label_smoothing=0.0, patience=100, freeze=[0], save_period=-1, seed=0, local_rank=-1, min_items=0, close_mosaic=15, entity=None, upload_dataset=False, bbox_interval=-1, artifact_alias=latest\n",
      "YOLOv5 🚀 1e33dbb Python-3.10.13 torch-2.2.1+cu121 CUDA:0 (NVIDIA L4, 22491MiB)\n",
      "\n",
      "\u001b[34m\u001b[1mhyperparameters: \u001b[0mlr0=0.01, lrf=0.01, momentum=0.937, weight_decay=0.0005, warmup_epochs=3.0, warmup_momentum=0.8, warmup_bias_lr=0.1, box=7.5, cls=0.5, cls_pw=1.0, dfl=1.5, obj_pw=1.0, iou_t=0.2, anchor_t=5.0, fl_gamma=0.0, hsv_h=0.015, hsv_s=0.7, hsv_v=0.4, degrees=0.0, translate=0.1, scale=0.9, shear=0.0, perspective=0.0, flipud=0.0, fliplr=0.5, mosaic=1.0, mixup=0.15, copy_paste=0.3\n",
      "\u001b[34m\u001b[1mClearML: \u001b[0mrun 'pip install clearml' to automatically track, visualize and remotely train YOLO 🚀 in ClearML\n",
      "\u001b[34m\u001b[1mComet: \u001b[0mrun 'pip install comet_ml' to automatically track and visualize YOLO 🚀 runs in Comet\n",
      "\u001b[34m\u001b[1mTensorBoard: \u001b[0mStart with 'tensorboard --logdir yolov9/runs/train', view at http://localhost:6006/\n",
      "Overriding model.yaml nc=80 with nc=2\n",
      "\n",
      "                 from  n    params  module                                  arguments                     \n",
      "  0                -1  1         0  models.common.Silence                   []                            \n",
      "  1                -1  1      1856  models.common.Conv                      [3, 64, 3, 2]                 \n",
      "  2                -1  1     73984  models.common.Conv                      [64, 128, 3, 2]               \n",
      "  3                -1  1    212864  models.common.RepNCSPELAN4              [128, 256, 128, 64, 1]        \n",
      "  4                -1  1    164352  models.common.ADown                     [256, 256]                    \n",
      "  5                -1  1    847616  models.common.RepNCSPELAN4              [256, 512, 256, 128, 1]       \n",
      "  6                -1  1    656384  models.common.ADown                     [512, 512]                    \n",
      "  7                -1  1   2857472  models.common.RepNCSPELAN4              [512, 512, 512, 256, 1]       \n",
      "  8                -1  1    656384  models.common.ADown                     [512, 512]                    \n",
      "  9                -1  1   2857472  models.common.RepNCSPELAN4              [512, 512, 512, 256, 1]       \n",
      " 10                -1  1    656896  models.common.SPPELAN                   [512, 512, 256]               \n",
      " 11                -1  1         0  torch.nn.modules.upsampling.Upsample    [None, 2, 'nearest']          \n",
      " 12           [-1, 7]  1         0  models.common.Concat                    [1]                           \n",
      " 13                -1  1   3119616  models.common.RepNCSPELAN4              [1024, 512, 512, 256, 1]      \n",
      " 14                -1  1         0  torch.nn.modules.upsampling.Upsample    [None, 2, 'nearest']          \n",
      " 15           [-1, 5]  1         0  models.common.Concat                    [1]                           \n",
      " 16                -1  1    912640  models.common.RepNCSPELAN4              [1024, 256, 256, 128, 1]      \n",
      " 17                -1  1    164352  models.common.ADown                     [256, 256]                    \n",
      " 18          [-1, 13]  1         0  models.common.Concat                    [1]                           \n",
      " 19                -1  1   2988544  models.common.RepNCSPELAN4              [768, 512, 512, 256, 1]       \n",
      " 20                -1  1    656384  models.common.ADown                     [512, 512]                    \n",
      " 21          [-1, 10]  1         0  models.common.Concat                    [1]                           \n",
      " 22                -1  1   3119616  models.common.RepNCSPELAN4              [1024, 512, 512, 256, 1]      \n",
      " 23                 5  1    131328  models.common.CBLinear                  [512, [256]]                  \n",
      " 24                 7  1    393984  models.common.CBLinear                  [512, [256, 512]]             \n",
      " 25                 9  1    656640  models.common.CBLinear                  [512, [256, 512, 512]]        \n",
      " 26                 0  1      1856  models.common.Conv                      [3, 64, 3, 2]                 \n",
      " 27                -1  1     73984  models.common.Conv                      [64, 128, 3, 2]               \n",
      " 28                -1  1    212864  models.common.RepNCSPELAN4              [128, 256, 128, 64, 1]        \n",
      " 29                -1  1    164352  models.common.ADown                     [256, 256]                    \n",
      " 30  [23, 24, 25, -1]  1         0  models.common.CBFuse                    [[0, 0, 0]]                   \n",
      " 31                -1  1    847616  models.common.RepNCSPELAN4              [256, 512, 256, 128, 1]       \n",
      " 32                -1  1    656384  models.common.ADown                     [512, 512]                    \n",
      " 33      [24, 25, -1]  1         0  models.common.CBFuse                    [[1, 1]]                      \n",
      " 34                -1  1   2857472  models.common.RepNCSPELAN4              [512, 512, 512, 256, 1]       \n",
      " 35                -1  1    656384  models.common.ADown                     [512, 512]                    \n",
      " 36          [25, -1]  1         0  models.common.CBFuse                    [[2]]                         \n",
      " 37                -1  1   2857472  models.common.RepNCSPELAN4              [512, 512, 512, 256, 1]       \n",
      " 38[31, 34, 37, 16, 19, 22]  1  21545132  models.yolo.DualDDetect                 [2, [512, 512, 512, 256, 512, 512]]\n",
      "yolov9-c summary: 962 layers, 51001900 parameters, 51001868 gradients, 238.9 GFLOPs\n",
      "\n",
      "\u001b[34m\u001b[1mAMP: \u001b[0mchecks passed ✅\n",
      "\u001b[34m\u001b[1moptimizer:\u001b[0m SGD(lr=0.01) with parameter groups 238 weight(decay=0.0), 255 weight(decay=0.0005), 253 bias\n",
      "\u001b[34m\u001b[1malbumentations: \u001b[0mBlur(p=0.01, blur_limit=(3, 7)), MedianBlur(p=0.01, blur_limit=(3, 7)), ToGray(p=0.01), CLAHE(p=0.01, clip_limit=(1, 4.0), tile_grid_size=(8, 8))\n",
      "\u001b[34m\u001b[1mtrain: \u001b[0mScanning /home/sogaksa123/AIFFEL_THON/model/Yolov9/Training/data/Training\u001b[0m\n",
      "\u001b[34m\u001b[1mval: \u001b[0mScanning /home/sogaksa123/AIFFEL_THON/model/Yolov9/Training/data/Training/d\u001b[0m\n",
      "Plotting labels to yolov9/runs/train/yolov9-c5/labels.jpg... \n",
      "Image sizes 224 train, 224 val\n",
      "Using 8 dataloader workers\n",
      "Logging results to \u001b[1myolov9/runs/train/yolov9-c5\u001b[0m\n",
      "Starting training for 20 epochs...\n",
      "\n",
      "      Epoch    GPU_mem   box_loss   cls_loss   dfl_loss  Instances       Size\n",
      "       0/19      5.61G      5.418      5.665      5.492         58        224:  Exception in thread Thread-5 (plot_images):\n",
      "Traceback (most recent call last):\n",
      "  File \"/home/sogaksa123/anaconda3/envs/sogaksa/lib/python3.10/threading.py\", line 1016, in _bootstrap_inner\n",
      "    self.run()\n",
      "  File \"/home/sogaksa123/anaconda3/envs/sogaksa/lib/python3.10/threading.py\", line 953, in run\n",
      "    self._target(*self._args, **self._kwargs)\n",
      "  File \"/home/sogaksa123/AIFFEL_THON/model/Yolov9/yolov9/utils/plots.py\", line 300, in plot_images\n",
      "    annotator.box_label(box, label, color=color)\n",
      "  File \"/home/sogaksa123/AIFFEL_THON/model/Yolov9/yolov9/utils/plots.py\", line 86, in box_label\n",
      "    w, h = self.font.getsize(label)  # text width, height\n",
      "AttributeError: 'FreeTypeFont' object has no attribute 'getsize'\n",
      "WARNING ⚠️ TensorBoard graph visualization failure Only tensors, lists, tuples of tensors, or dictionary of tensors can be output from traced functions\n",
      "       0/19      5.62G      5.242      5.714      5.445         83        224:  Exception in thread Thread-6 (plot_images):\n",
      "Traceback (most recent call last):\n",
      "  File \"/home/sogaksa123/anaconda3/envs/sogaksa/lib/python3.10/threading.py\", line 1016, in _bootstrap_inner\n",
      "    self.run()\n",
      "  File \"/home/sogaksa123/anaconda3/envs/sogaksa/lib/python3.10/threading.py\", line 953, in run\n",
      "    self._target(*self._args, **self._kwargs)\n",
      "  File \"/home/sogaksa123/AIFFEL_THON/model/Yolov9/yolov9/utils/plots.py\", line 300, in plot_images\n",
      "    annotator.box_label(box, label, color=color)\n",
      "  File \"/home/sogaksa123/AIFFEL_THON/model/Yolov9/yolov9/utils/plots.py\", line 86, in box_label\n",
      "    w, h = self.font.getsize(label)  # text width, height\n",
      "AttributeError: 'FreeTypeFont' object has no attribute 'getsize'\n",
      "       0/19      5.62G      5.247      5.642      5.412         71        224:  Exception in thread Thread-7 (plot_images):\n",
      "Traceback (most recent call last):\n",
      "  File \"/home/sogaksa123/anaconda3/envs/sogaksa/lib/python3.10/threading.py\", line 1016, in _bootstrap_inner\n",
      "    self.run()\n",
      "  File \"/home/sogaksa123/anaconda3/envs/sogaksa/lib/python3.10/threading.py\", line 953, in run\n",
      "    self._target(*self._args, **self._kwargs)\n",
      "  File \"/home/sogaksa123/AIFFEL_THON/model/Yolov9/yolov9/utils/plots.py\", line 300, in plot_images\n",
      "    annotator.box_label(box, label, color=color)\n",
      "  File \"/home/sogaksa123/AIFFEL_THON/model/Yolov9/yolov9/utils/plots.py\", line 86, in box_label\n",
      "    w, h = self.font.getsize(label)  # text width, height\n",
      "AttributeError: 'FreeTypeFont' object has no attribute 'getsize'\n",
      "       0/19      5.66G      5.581      5.655      5.361         73        224: 1\n",
      "                 Class     Images  Instances          P          R      mAP50   \n",
      "                   all        486        536    0.00202      0.294    0.00163   0.000213\n",
      "\n",
      "      Epoch    GPU_mem   box_loss   cls_loss   dfl_loss  Instances       Size\n",
      "       1/19      5.71G      5.314       4.75      5.059         94        224: 1\n",
      "                 Class     Images  Instances          P          R      mAP50   \n",
      "                   all        486        536    0.00209      0.501    0.00763    0.00231\n",
      "\n",
      "      Epoch    GPU_mem   box_loss   cls_loss   dfl_loss  Instances       Size\n",
      "       2/19      5.71G      4.059      3.432      3.947         65        224: 1\n",
      "                 Class     Images  Instances          P          R      mAP50   \n",
      "                   all        486        536     0.0381      0.446     0.0224    0.00347\n",
      "\n",
      "      Epoch    GPU_mem   box_loss   cls_loss   dfl_loss  Instances       Size\n",
      "       3/19      5.71G      2.877      2.602       2.71         69        224: 1\n",
      "                 Class     Images  Instances          P          R      mAP50   \n",
      "                   all        486        536      0.224      0.809      0.334       0.12\n",
      "\n",
      "      Epoch    GPU_mem   box_loss   cls_loss   dfl_loss  Instances       Size\n",
      "       4/19      5.71G      2.296      2.351      2.158         78        224: 1\n",
      "                 Class     Images  Instances          P          R      mAP50   \n",
      "                   all        486        536      0.381      0.636      0.456       0.19\n",
      "Closing dataloader mosaic\n",
      "\n",
      "      Epoch    GPU_mem   box_loss   cls_loss   dfl_loss  Instances       Size\n",
      "       5/19      5.71G      1.809      2.181       2.02         26        224: 1\n",
      "                 Class     Images  Instances          P          R      mAP50   \n",
      "                   all        486        536      0.408      0.764      0.536      0.263\n",
      "\n",
      "      Epoch    GPU_mem   box_loss   cls_loss   dfl_loss  Instances       Size\n",
      "       6/19      5.71G      1.625      1.931      1.791         22        224: 1\n",
      "                 Class     Images  Instances          P          R      mAP50   \n",
      "                   all        486        536      0.332       0.89      0.565      0.304\n",
      "\n",
      "      Epoch    GPU_mem   box_loss   cls_loss   dfl_loss  Instances       Size\n",
      "       7/19      5.71G      1.512      1.849      1.696         22        224: 1\n",
      "                 Class     Images  Instances          P          R      mAP50   \n",
      "                   all        486        536      0.493       0.89      0.599      0.399\n",
      "\n",
      "      Epoch    GPU_mem   box_loss   cls_loss   dfl_loss  Instances       Size\n",
      "       8/19      5.71G      1.447      1.808      1.642         24        224: 1\n",
      "                 Class     Images  Instances          P          R      mAP50   \n",
      "                   all        486        536       0.43      0.795      0.533      0.329\n",
      "\n",
      "      Epoch    GPU_mem   box_loss   cls_loss   dfl_loss  Instances       Size\n",
      "       9/19      5.71G      1.436       1.73      1.586         28        224: 1\n",
      "                 Class     Images  Instances          P          R      mAP50   \n",
      "                   all        486        536       0.42      0.937      0.547      0.328\n",
      "\n",
      "      Epoch    GPU_mem   box_loss   cls_loss   dfl_loss  Instances       Size\n",
      "      10/19      5.71G      1.354      1.686      1.545         28        224: 1\n",
      "                 Class     Images  Instances          P          R      mAP50   \n",
      "                   all        486        536       0.39      0.878      0.566      0.261\n",
      "\n",
      "      Epoch    GPU_mem   box_loss   cls_loss   dfl_loss  Instances       Size\n",
      "      11/19      5.71G      1.214      1.537      1.483         31        224: 1\n",
      "                 Class     Images  Instances          P          R      mAP50   \n",
      "                   all        486        536      0.574      0.898      0.637      0.274\n",
      "\n",
      "      Epoch    GPU_mem   box_loss   cls_loss   dfl_loss  Instances       Size\n",
      "      12/19      5.71G      1.151      1.421      1.429         33        224: 1\n",
      "                 Class     Images  Instances          P          R      mAP50   \n",
      "                   all        486        536      0.559       0.97      0.633       0.29\n",
      "\n",
      "      Epoch    GPU_mem   box_loss   cls_loss   dfl_loss  Instances       Size\n",
      "      13/19      5.71G      1.083      1.378      1.387         28        224: 1\n",
      "                 Class     Images  Instances          P          R      mAP50   \n",
      "                   all        486        536       0.59      0.953      0.643      0.372\n",
      "\n",
      "      Epoch    GPU_mem   box_loss   cls_loss   dfl_loss  Instances       Size\n",
      "      14/19      5.71G     0.9925      1.302      1.336         28        224: 1\n",
      "                 Class     Images  Instances          P          R      mAP50   \n",
      "                   all        486        536      0.558      0.947       0.66      0.396\n",
      "\n",
      "      Epoch    GPU_mem   box_loss   cls_loss   dfl_loss  Instances       Size\n",
      "      15/19      5.71G     0.9642      1.274       1.33         24        224: 1\n",
      "                 Class     Images  Instances          P          R      mAP50   \n",
      "                   all        486        536      0.579      0.946      0.645      0.438\n",
      "\n",
      "      Epoch    GPU_mem   box_loss   cls_loss   dfl_loss  Instances       Size\n",
      "      16/19      5.71G      0.909      1.215      1.333         19        224: 1\n",
      "                 Class     Images  Instances          P          R      mAP50   \n",
      "                   all        486        536      0.587      0.952      0.668       0.39\n",
      "\n",
      "      Epoch    GPU_mem   box_loss   cls_loss   dfl_loss  Instances       Size\n",
      "      17/19      5.71G     0.9007      1.221      1.315         28        224: 1\n",
      "                 Class     Images  Instances          P          R      mAP50   \n",
      "                   all        486        536       0.56       0.95      0.653      0.441\n",
      "\n",
      "      Epoch    GPU_mem   box_loss   cls_loss   dfl_loss  Instances       Size\n",
      "      18/19      5.71G     0.8434      1.166      1.303         24        224: 1\n",
      "                 Class     Images  Instances          P          R      mAP50   \n",
      "                   all        486        536      0.575      0.949      0.669      0.403\n",
      "\n",
      "      Epoch    GPU_mem   box_loss   cls_loss   dfl_loss  Instances       Size\n",
      "      19/19      5.71G     0.8153      1.168      1.274         25        224: 1\n",
      "                 Class     Images  Instances          P          R      mAP50   \n",
      "                   all        486        536      0.608      0.818      0.678      0.445\n",
      "\n",
      "20 epochs completed in 0.155 hours.\n",
      "Optimizer stripped from yolov9/runs/train/yolov9-c5/weights/last.pt, 102.7MB\n",
      "Optimizer stripped from yolov9/runs/train/yolov9-c5/weights/best.pt, 102.7MB\n",
      "\n",
      "Validating yolov9/runs/train/yolov9-c5/weights/best.pt...\n",
      "Fusing layers... \n",
      "yolov9-c summary: 724 layers, 50960940 parameters, 0 gradients, 237.7 GFLOPs\n",
      "                 Class     Images  Instances          P          R      mAP50   Exception in thread Thread-28 (plot_images):\n",
      "Traceback (most recent call last):\n",
      "  File \"/home/sogaksa123/anaconda3/envs/sogaksa/lib/python3.10/threading.py\", line 1016, in _bootstrap_inner\n",
      "    self.run()\n",
      "  File \"/home/sogaksa123/anaconda3/envs/sogaksa/lib/python3.10/threading.py\", line 953, in run\n",
      "    self._target(*self._args, **self._kwargs)\n",
      "  File \"/home/sogaksa123/AIFFEL_THON/model/Yolov9/yolov9/utils/plots.py\", line 300, in plot_images\n",
      "    annotator.box_label(box, label, color=color)\n",
      "  File \"/home/sogaksa123/AIFFEL_THON/model/Yolov9/yolov9/utils/plots.py\", line 86, in box_label\n",
      "    w, h = self.font.getsize(label)  # text width, height\n",
      "AttributeError: 'FreeTypeFont' object has no attribute 'getsize'\n",
      "Exception in thread Thread-27 (plot_images):\n",
      "Traceback (most recent call last):\n",
      "  File \"/home/sogaksa123/anaconda3/envs/sogaksa/lib/python3.10/threading.py\", line 1016, in _bootstrap_inner\n",
      "    self.run()\n",
      "  File \"/home/sogaksa123/anaconda3/envs/sogaksa/lib/python3.10/threading.py\", line 953, in run\n",
      "    self._target(*self._args, **self._kwargs)\n",
      "  File \"/home/sogaksa123/AIFFEL_THON/model/Yolov9/yolov9/utils/plots.py\", line 300, in plot_images\n",
      "    annotator.box_label(box, label, color=color)\n",
      "  File \"/home/sogaksa123/AIFFEL_THON/model/Yolov9/yolov9/utils/plots.py\", line 86, in box_label\n",
      "    w, h = self.font.getsize(label)  # text width, height\n",
      "AttributeError: 'FreeTypeFont' object has no attribute 'getsize'\n",
      "                 Class     Images  Instances          P          R      mAP50   Exception in thread Thread-29 (plot_images):\n",
      "Traceback (most recent call last):\n",
      "  File \"/home/sogaksa123/anaconda3/envs/sogaksa/lib/python3.10/threading.py\", line 1016, in _bootstrap_inner\n",
      "    self.run()\n",
      "  File \"/home/sogaksa123/anaconda3/envs/sogaksa/lib/python3.10/threading.py\", line 953, in run\n",
      "    self._target(*self._args, **self._kwargs)\n",
      "  File \"/home/sogaksa123/AIFFEL_THON/model/Yolov9/yolov9/utils/plots.py\", line 300, in plot_images\n",
      "    annotator.box_label(box, label, color=color)\n",
      "  File \"/home/sogaksa123/AIFFEL_THON/model/Yolov9/yolov9/utils/plots.py\", line 86, in box_label\n",
      "    w, h = self.font.getsize(label)  # text width, height\n",
      "AttributeError: 'FreeTypeFont' object has no attribute 'getsize'\n",
      "Exception in thread Thread-30 (plot_images):\n",
      "Traceback (most recent call last):\n",
      "  File \"/home/sogaksa123/anaconda3/envs/sogaksa/lib/python3.10/threading.py\", line 1016, in _bootstrap_inner\n",
      "    self.run()\n",
      "  File \"/home/sogaksa123/anaconda3/envs/sogaksa/lib/python3.10/threading.py\", line 953, in run\n",
      "    self._target(*self._args, **self._kwargs)\n",
      "  File \"/home/sogaksa123/AIFFEL_THON/model/Yolov9/yolov9/utils/plots.py\", line 300, in plot_images\n",
      "    annotator.box_label(box, label, color=color)\n",
      "  File \"/home/sogaksa123/AIFFEL_THON/model/Yolov9/yolov9/utils/plots.py\", line 86, in box_label\n",
      "    w, h = self.font.getsize(label)  # text width, height\n",
      "AttributeError: 'FreeTypeFont' object has no attribute 'getsize'\n",
      "                 Class     Images  Instances          P          R      mAP50   Exception in thread Thread-31 (plot_images):\n",
      "Traceback (most recent call last):\n",
      "  File \"/home/sogaksa123/anaconda3/envs/sogaksa/lib/python3.10/threading.py\", line 1016, in _bootstrap_inner\n",
      "    self.run()\n",
      "  File \"/home/sogaksa123/anaconda3/envs/sogaksa/lib/python3.10/threading.py\", line 953, in run\n",
      "    self._target(*self._args, **self._kwargs)\n",
      "  File \"/home/sogaksa123/AIFFEL_THON/model/Yolov9/yolov9/utils/plots.py\", line 300, in plot_images\n",
      "    annotator.box_label(box, label, color=color)\n",
      "  File \"/home/sogaksa123/AIFFEL_THON/model/Yolov9/yolov9/utils/plots.py\", line 86, in box_label\n",
      "    w, h = self.font.getsize(label)  # text width, height\n",
      "AttributeError: 'FreeTypeFont' object has no attribute 'getsize'\n",
      "Exception in thread Thread-32 (plot_images):\n",
      "Traceback (most recent call last):\n",
      "  File \"/home/sogaksa123/anaconda3/envs/sogaksa/lib/python3.10/threading.py\", line 1016, in _bootstrap_inner\n",
      "    self.run()\n",
      "  File \"/home/sogaksa123/anaconda3/envs/sogaksa/lib/python3.10/threading.py\", line 953, in run\n",
      "    self._target(*self._args, **self._kwargs)\n",
      "  File \"/home/sogaksa123/AIFFEL_THON/model/Yolov9/yolov9/utils/plots.py\", line 300, in plot_images\n",
      "    annotator.box_label(box, label, color=color)\n",
      "  File \"/home/sogaksa123/AIFFEL_THON/model/Yolov9/yolov9/utils/plots.py\", line 86, in box_label\n",
      "    w, h = self.font.getsize(label)  # text width, height\n",
      "AttributeError: 'FreeTypeFont' object has no attribute 'getsize'\n",
      "                 Class     Images  Instances          P          R      mAP50   \n",
      "                   all        486        536      0.608      0.818      0.678      0.444\n",
      "              crackles        486        366      0.752      0.994      0.818      0.509\n",
      "               wheezes        486        170      0.464      0.641      0.537      0.379\n",
      "Results saved to \u001b[1myolov9/runs/train/yolov9-c5\u001b[0m\n"
     ]
    }
   ],
   "source": [
    "# Train with YoloV9\n",
    "\"\"\"\n",
    "workers --> max dataloader workers (per RANK in DDP mode)\n",
    "device --> cuda device, i.e. 0 or 0,1,2,3 or cpu\n",
    "batch --> total batch size for all GPUs, -1 for autobatch\n",
    "epochs --> total training epochs\n",
    "data --> dataset.yaml path\n",
    "img --> train, val image size (pixels)\n",
    "cfg --> model.yaml path\n",
    "weights --> initial weights path\n",
    "name --> save to project/name\n",
    "hyp --> hyperparameters path\n",
    "\n",
    "**This parameters is my project parameters. You can make changes for your project.**\n",
    "\"\"\"\n",
    "\n",
    "!python /home/sogaksa123/AIFFEL_THON/model/Yolov9/yolov9/train_dual.py \\\n",
    "--workers 8 --device 0  --batch 32 --epochs 20 --min-items 0 --close-mosaic 15\\\n",
    "--data /home/sogaksa123/AIFFEL_THON/model/Yolov9/data.yaml \\\n",
    "--img 224 --cfg  /home/sogaksa123/AIFFEL_THON/model/Yolov9/yolov9/models/detect/yolov9-c.yaml \\\n",
    "--weights '' --name yolov9-c --hyp /home/sogaksa123/AIFFEL_THON/model/Yolov9/yolov9/data/hyps/hyp.scratch-high.yaml"
   ]
  },
  {
   "cell_type": "markdown",
   "metadata": {
    "id": "7iCLKgX5I60x"
   },
   "source": [
    "##\n",
    "Class: 클래스 레이블입니다.  \n",
    "Images: 해당 클래스에 대한 이미지 수입니다.  \n",
    "Instances: 해당 클래스에 대한 감지된 객체의 총 수입니다.  \n",
    "P: 정밀도(Precision)는 모델이 예측한 객체 중 실제로 해당 클래스에 속하는 객체의 비율입니다. 높은 정밀도는 모델이 정확하게 예측한 것을 의미합니다.  \n",
    "R: 재현율(Recall)은 실제 해당 클래스에 속하는 객체 중 모델이 정확하게 감지한 객체의 비율입니다. 높은 재현율은 모델이 대상을 놓치지 않고 잘 감지한다는 것을 의미합니다.  \n",
    "mAP50: 평균 정밀도(mean Average Precision)는 다양한 IoU(Intersection over Union) 임계값에 대해 계산된 정밀도의 평균입니다. 이 경우, IoU 임계값이 0.5인 경우의 mAP입니다. 높은 mAP는 모델의 성능이 좋다는 것을 의미합니다.\n",
    "\n",
    "해석:  \n",
    "전체적으로 모델의 성능은 중간 정도로 보입니다. 정밀도와 재현율이 비슷한 수준이며, 평균 정밀도도 0.3 정도로 나쁘지 않은 편입니다.\n",
    "클래스 별로 살펴보면, crackles와 wheezes 클래스의 재현율이 상대적으로 높지만 정밀도는 낮습니다. 이는 모델이 해당 클래스의 객체를 많이 감지하지만 그 중에서 실제 해당 클래스에 속하는 객체의 비율이 낮다는 것을 의미합니다.\n",
    "개선을 위해서는 모델의 학습 데이터의 다양성을 높이거나, 모델 아키텍처를 조정하여 성능을 향상시킬 수 있습니다."
   ]
  },
  {
   "cell_type": "code",
   "execution_count": null,
   "metadata": {},
   "outputs": [],
   "source": [
    "import torch\n",
    "from PIL import Image\n",
    "import matplotlib.pyplot as plt\n",
    "import numpy as np\n",
    "import cv2\n",
    "\n",
    "# YOLOv5 모델 로드\n",
    "model = torch.hub.load('ultralytics/yolov5', 'yolov5s')\n",
    "\n",
    "# 이미지 로드\n",
    "image_path = 'your_image.jpg'  # 이미지 경로\n",
    "image = Image.open(image_path)\n",
    "\n",
    "# 객체 감지\n",
    "results = model(image)\n",
    "\n",
    "# 결과 시각화\n",
    "results.show()\n",
    "\n",
    "# 결과를 이미지로 저장\n",
    "results.save('result.jpg')\n",
    "\n",
    "# 결과를 numpy 배열로 반환\n",
    "result_image = results.render()[0]\n",
    "result_image = cv2.cvtColor(result_image, cv2.COLOR_RGB2BGR)\n",
    "cv2.imwrite('result_cv2.jpg', result_image)\n",
    "\n",
    "# 결과를 matplotlib으로 시각화\n",
    "plt.figure(figsize=(10, 10))\n",
    "plt.imshow(result_image)\n",
    "plt.axis('off')\n",
    "plt.show()"
   ]
  },
  {
   "cell_type": "code",
   "execution_count": 4,
   "metadata": {},
   "outputs": [
    {
     "name": "stdout",
     "output_type": "stream",
     "text": [
      "/home/sogaksa123/AIFFEL_THON/model/Yolov9\n"
     ]
    }
   ],
   "source": [
    "import os\n",
    "HOME = os.getcwd()\n",
    "print(HOME)"
   ]
  },
  {
   "cell_type": "code",
   "execution_count": 6,
   "metadata": {},
   "outputs": [
    {
     "name": "stdout",
     "output_type": "stream",
     "text": [
      "/home/sogaksa123/AIFFEL_THON/model/Yolov9/yolov9\n"
     ]
    }
   ],
   "source": [
    "%cd '/home/sogaksa123/AIFFEL_THON/model/Yolov9/yolov9/'"
   ]
  },
  {
   "cell_type": "code",
   "execution_count": null,
   "metadata": {},
   "outputs": [],
   "source": [
    "AIFFEL_THON/model/Yolov9/yolov9/detect.py"
   ]
  },
  {
   "cell_type": "code",
   "execution_count": null,
   "metadata": {},
   "outputs": [],
   "source": [
    "# evaluate converted yolov9 models\n",
    "python val.py --data data/coco.yaml --img 640 --batch 32 --conf 0.001 --iou 0.7 --device 0 --weights './yolov9-c-converted.pt' --save-json --name yolov9_c_c_640_val"
   ]
  },
  {
   "cell_type": "code",
   "execution_count": 10,
   "metadata": {},
   "outputs": [
    {
     "name": "stdout",
     "output_type": "stream",
     "text": [
      "\u001b[34m\u001b[1mdetect: \u001b[0mweights=['/home/sogaksa123/AIFFEL_THON/model/Yolov9/yolov9/runs/train/yolov9-c5/weights/best.pt'], source=/home/sogaksa123/AIFFEL_THON/model/Yolov9/Training/data/Training/data/test/images/177_1b2_Pl_mc_AKGC417L_0.png, data=data/coco128.yaml, imgsz=[224, 224], conf_thres=0.25, iou_thres=0.45, max_det=1000, device=0, view_img=False, save_txt=False, save_conf=False, save_crop=False, nosave=False, classes=None, agnostic_nms=False, augment=False, visualize=False, update=False, project=runs/detect, name=yolov9_c_c_640_detect, exist_ok=False, line_thickness=3, hide_labels=False, hide_conf=False, half=False, dnn=False, vid_stride=1\n",
      "YOLOv5 🚀 1e33dbb Python-3.10.13 torch-2.2.1+cu121 CUDA:0 (NVIDIA L4, 22491MiB)\n",
      "\n",
      "Fusing layers... \n",
      "yolov9-c summary: 724 layers, 50960940 parameters, 0 gradients, 237.7 GFLOPs\n",
      "image 1/1 /home/sogaksa123/AIFFEL_THON/model/Yolov9/Training/data/Training/data/test/images/177_1b2_Pl_mc_AKGC417L_0.png: 224x224 1 wheezes, 26.5ms\n",
      "Speed: 0.2ms pre-process, 26.5ms inference, 534.8ms NMS per image at shape (1, 3, 224, 224)\n",
      "Results saved to \u001b[1mruns/detect/yolov9_c_c_640_detect4\u001b[0m\n"
     ]
    }
   ],
   "source": [
    "!python detect.py --source '/home/sogaksa123/AIFFEL_THON/model/Yolov9/Training/data/Training/data/test/images/177_1b2_Pl_mc_AKGC417L_0.png' --img 224 --device 0 --weights '/home/sogaksa123/AIFFEL_THON/model/Yolov9/yolov9/runs/train/yolov9-c5/weights/best.pt' --name yolov9_c_c_640_detect"
   ]
  },
  {
   "cell_type": "code",
   "execution_count": null,
   "metadata": {},
   "outputs": [],
   "source": []
  }
 ],
 "metadata": {
  "colab": {
   "machine_shape": "hm",
   "provenance": []
  },
  "kernelspec": {
   "display_name": "Python 3 (ipykernel)",
   "language": "python",
   "name": "python3"
  },
  "language_info": {
   "codemirror_mode": {
    "name": "ipython",
    "version": 3
   },
   "file_extension": ".py",
   "mimetype": "text/x-python",
   "name": "python",
   "nbconvert_exporter": "python",
   "pygments_lexer": "ipython3",
   "version": "3.10.13"
  }
 },
 "nbformat": 4,
 "nbformat_minor": 4
}
