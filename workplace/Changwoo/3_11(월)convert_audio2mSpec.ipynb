{
  "nbformat": 4,
  "nbformat_minor": 0,
  "metadata": {
    "colab": {
      "provenance": [],
      "toc_visible": true
    },
    "kernelspec": {
      "name": "python3",
      "display_name": "Python 3"
    },
    "language_info": {
      "name": "python"
    }
  },
  "cells": [
    {
      "cell_type": "markdown",
      "source": [
        "# 이 노트의 목표\n",
        "---\n",
        "1. ~전체 데이터 셋 길이 분포 확실히 확인. (전부 20s?)~\n",
        "2. ~train, test 분포확인, 분리~\n",
        "3. ~audio to mel database 만드는 함수 작성~\n",
        "4. 데이터 포인트 전체 길이에 맞게 비율대로 레이블링 데이터 생성\n",
        "    - 일단 다른 전처리 제쳐두고 이 bboxing 로직만 구상\n",
        "4. (나중에) 각 annotation에 abnormality가 없는 경우 (data imbalancy)\n"
      ],
      "metadata": {
        "id": "mPZEdNmQStpa"
      }
    },
    {
      "cell_type": "code",
      "source": [
        "from google.colab import drive\n",
        "drive.mount('/content/drive')"
      ],
      "metadata": {
        "colab": {
          "base_uri": "https://localhost:8080/"
        },
        "id": "DnhLsVtQTdgS",
        "outputId": "ce32751f-eb86-478b-8f39-0609715258e8"
      },
      "execution_count": 92,
      "outputs": [
        {
          "output_type": "stream",
          "name": "stdout",
          "text": [
            "Drive already mounted at /content/drive; to attempt to forcibly remount, call drive.mount(\"/content/drive\", force_remount=True).\n"
          ]
        }
      ]
    },
    {
      "cell_type": "code",
      "source": [
        "# library import\n",
        "\n",
        "import librosa\n",
        "import os\n",
        "import matplotlib.pyplot as plt\n",
        "import pandas as pd\n",
        "import numpy as np\n",
        "from PIL import Image\n"
      ],
      "metadata": {
        "id": "1mEr0QwWTxOx"
      },
      "execution_count": 99,
      "outputs": []
    },
    {
      "cell_type": "code",
      "source": [
        "data_root_dir = '/content/drive/MyDrive/aiffel/AIFFELthon/1_data/ICBHI_final_database/'\n"
      ],
      "metadata": {
        "id": "XNVl_baxT5tO"
      },
      "execution_count": 6,
      "outputs": []
    },
    {
      "cell_type": "markdown",
      "source": [
        "## 여러 df 만들어보기\n",
        "\n",
        "최종 : df ~ [ wav_filename | duration | train_test ]"
      ],
      "metadata": {
        "id": "88tFoBeamKnf"
      }
    },
    {
      "cell_type": "markdown",
      "source": [
        "### 데이터 파일명 loading"
      ],
      "metadata": {
        "id": "C43s65xHWl70"
      }
    },
    {
      "cell_type": "code",
      "source": [
        "def find_files(directory, format):\n",
        "    # 지정된 디렉토리 내의 모든 파일과 디렉토리 목록을 가져옵니다.\n",
        "    all_files = os.listdir(directory)\n",
        "    if format == 'wav':\n",
        "        # .wav 확장자를 가진 파일만 필터링합니다.\n",
        "        files = [file for file in all_files if file.endswith('.wav')]\n",
        "    elif format == 'txt':\n",
        "        files = [file for file in all_files if file.endswith('.txt')]\n",
        "\n",
        "    return files\n"
      ],
      "metadata": {
        "id": "CHVMZzuQT6Pj"
      },
      "execution_count": 8,
      "outputs": []
    },
    {
      "cell_type": "code",
      "source": [
        "tmp = find_files(data_root_dir, 'wav')\n",
        "tmp[0]"
      ],
      "metadata": {
        "colab": {
          "base_uri": "https://localhost:8080/",
          "height": 36
        },
        "id": "5oYijUOhUTLz",
        "outputId": "f3925352-2c16-4fdf-cc5f-826554aaceba"
      },
      "execution_count": 9,
      "outputs": [
        {
          "output_type": "execute_result",
          "data": {
            "text/plain": [
              "'101_1b1_Al_sc_Meditron.wav'"
            ],
            "application/vnd.google.colaboratory.intrinsic+json": {
              "type": "string"
            }
          },
          "metadata": {},
          "execution_count": 9
        }
      ]
    },
    {
      "cell_type": "code",
      "source": [
        "len(tmp)"
      ],
      "metadata": {
        "colab": {
          "base_uri": "https://localhost:8080/"
        },
        "id": "lLCESdwfVBqe",
        "outputId": "912d55bb-504c-4cbb-cd22-5afe61f36e30"
      },
      "execution_count": 10,
      "outputs": [
        {
          "output_type": "execute_result",
          "data": {
            "text/plain": [
              "920"
            ]
          },
          "metadata": {},
          "execution_count": 10
        }
      ]
    },
    {
      "cell_type": "code",
      "source": [
        "tmp = find_files(data_root_dir, 'txt')\n",
        "tmp[0]"
      ],
      "metadata": {
        "colab": {
          "base_uri": "https://localhost:8080/",
          "height": 36
        },
        "id": "sPHSb_okU75h",
        "outputId": "cf5d54c7-0629-4d46-f644-070626bee878"
      },
      "execution_count": 11,
      "outputs": [
        {
          "output_type": "execute_result",
          "data": {
            "text/plain": [
              "'211_1p2_Pr_mc_AKGC417L.txt'"
            ],
            "application/vnd.google.colaboratory.intrinsic+json": {
              "type": "string"
            }
          },
          "metadata": {},
          "execution_count": 11
        }
      ]
    },
    {
      "cell_type": "code",
      "source": [
        "len(tmp)"
      ],
      "metadata": {
        "colab": {
          "base_uri": "https://localhost:8080/"
        },
        "id": "2BIb2SlnVFPR",
        "outputId": "9a33e958-90f7-4e80-8318-2a672089b82c"
      },
      "execution_count": 13,
      "outputs": [
        {
          "output_type": "execute_result",
          "data": {
            "text/plain": [
              "924"
            ]
          },
          "metadata": {},
          "execution_count": 13
        }
      ]
    },
    {
      "cell_type": "code",
      "source": [
        "# dir내의 파일을 이름으로 같이 묶어서 반환하는 함수 -> [ (wav, txt), ( ... ), ... ]\n",
        "\n",
        "def find_matching_wav_txt_files(directory):\n",
        "    # 디렉토리 내의 모든 파일 목록을 가져옵니다.\n",
        "    all_files = os.listdir(directory)\n",
        "\n",
        "    # .wav 확장자를 가진 파일들을 찾습니다.\n",
        "    wav_files = [file for file in all_files if file.endswith('.wav')]\n",
        "\n",
        "    # .txt 확장자를 가진 파일들을 찾습니다.\n",
        "    txt_files = [file for file in all_files if file.endswith('.txt')]\n",
        "\n",
        "    # 파일명(확장자 제외)을 기준으로 .wav와 .txt 파일이 모두 있는 경우를 찾아서 짝지어 줍니다.\n",
        "    matched_files = []\n",
        "    for wav_file in wav_files:\n",
        "        # 확장자를 제외한 파일명을 얻습니다.\n",
        "        file_name_without_extension = os.path.splitext(wav_file)[0]\n",
        "\n",
        "        # 해당 파일명을 가진 .txt 파일이 있는지 확인합니다.\n",
        "        matching_txt_file = file_name_without_extension + '.txt'\n",
        "        if matching_txt_file in txt_files:\n",
        "            # .wav와 .txt 파일 경로를 튜플로 묶어 matched_files에 추가합니다.\n",
        "            #matched_files.append((os.path.join(directory, wav_file), os.path.join(directory, matching_txt_file)))\n",
        "            matched_files.append((wav_file, matching_txt_file))\n",
        "\n",
        "\n",
        "    return matched_files\n",
        "\n",
        "\n",
        "# 폴더 경로를 지정합니다. 이 경로를 실제 파일들이 위치한 폴더 경로로 변경해야 합니다.\n",
        "directory_path = data_root_dir\n",
        "\n",
        "# 같은 파일명을 가진 .wav와 .txt 파일들의 경로를 가져옵니다.\n",
        "matched_file_paths = find_matching_wav_txt_files(directory_path)\n",
        "\n",
        "# 결과를 출력합니다.\n",
        "#for wav_path, txt_path in matched_file_paths:\n",
        "#    print(f'WAV: {wav_path}, TXT: {txt_path}')\n",
        "\n",
        "\n",
        "type(matched_file_paths)"
      ],
      "metadata": {
        "colab": {
          "base_uri": "https://localhost:8080/"
        },
        "id": "j7mcJ7_wVokE",
        "outputId": "e0ff9518-ae02-4e3b-fe71-feaec0288139"
      },
      "execution_count": 18,
      "outputs": [
        {
          "output_type": "execute_result",
          "data": {
            "text/plain": [
              "list"
            ]
          },
          "metadata": {},
          "execution_count": 18
        }
      ]
    },
    {
      "cell_type": "code",
      "source": [
        "matched_file_paths[0]"
      ],
      "metadata": {
        "colab": {
          "base_uri": "https://localhost:8080/"
        },
        "id": "XbJ-McQRV5BM",
        "outputId": "5f6ac148-cb27-4591-9d7d-284b7c6f1eb1"
      },
      "execution_count": 20,
      "outputs": [
        {
          "output_type": "execute_result",
          "data": {
            "text/plain": [
              "('101_1b1_Al_sc_Meditron.wav', '101_1b1_Al_sc_Meditron.txt')"
            ]
          },
          "metadata": {},
          "execution_count": 20
        }
      ]
    },
    {
      "cell_type": "markdown",
      "source": [
        "### (1) 데이터 셋 길이 분포 확인\n"
      ],
      "metadata": {
        "id": "O81C4iurTN_V"
      }
    },
    {
      "cell_type": "code",
      "source": [
        "# audio 길이 반환\n",
        "\n",
        "def get_audio_duration(file_path):\n",
        "    # 오디오 파일을 로드합니다. y는 오디오 시그널이고, sr은 샘플링 레이트입니다.\n",
        "    y, sr = librosa.load(file_path)\n",
        "\n",
        "    # 오디오 파일의 길이(초 단위)를 계산합니다.\n",
        "    duration = librosa.get_duration(y=y, sr=sr)\n",
        "\n",
        "    return duration\n",
        "\n",
        "# 오디오 파일 경로를 지정합니다.\n",
        "#file_path = 'your_audio_file_path_here.wav'\n",
        "\n",
        "# 오디오 파일의 길이를 출력합니다.\n",
        "#print(get_audio_duration(file_path))"
      ],
      "metadata": {
        "id": "ZazVth8aWiE-"
      },
      "execution_count": 23,
      "outputs": []
    },
    {
      "cell_type": "code",
      "source": [
        "wav_path = data_root_dir + matched_file_paths[0][0]\n",
        "wav_path"
      ],
      "metadata": {
        "colab": {
          "base_uri": "https://localhost:8080/",
          "height": 36
        },
        "id": "pY_C39dJXGL-",
        "outputId": "1bbe5fe0-2071-43b9-f06c-125a6a120bac"
      },
      "execution_count": 21,
      "outputs": [
        {
          "output_type": "execute_result",
          "data": {
            "text/plain": [
              "'/content/drive/MyDrive/aiffel/AIFFELthon/1_data/ICBHI_final_database/101_1b1_Al_sc_Meditron.wav'"
            ],
            "application/vnd.google.colaboratory.intrinsic+json": {
              "type": "string"
            }
          },
          "metadata": {},
          "execution_count": 21
        }
      ]
    },
    {
      "cell_type": "code",
      "source": [
        "get_audio_duration(wav_path)"
      ],
      "metadata": {
        "colab": {
          "base_uri": "https://localhost:8080/"
        },
        "id": "c0bsIQOLXOLg",
        "outputId": "6ad804c0-9444-43a5-99b5-5fb745f12beb"
      },
      "execution_count": 24,
      "outputs": [
        {
          "output_type": "execute_result",
          "data": {
            "text/plain": [
              "20.0"
            ]
          },
          "metadata": {},
          "execution_count": 24
        }
      ]
    },
    {
      "cell_type": "code",
      "source": [
        "duration = []\n",
        "for i, _ in matched_file_paths:\n",
        "    wav_path = data_root_dir + i\n",
        "    duration.append(get_audio_duration(wav_path))\n",
        "\n",
        "len(duration)"
      ],
      "metadata": {
        "colab": {
          "base_uri": "https://localhost:8080/"
        },
        "id": "ikrIhAFNXfYj",
        "outputId": "82ce9c28-179d-4ab8-d206-01ee128dae5c"
      },
      "execution_count": 45,
      "outputs": [
        {
          "output_type": "execute_result",
          "data": {
            "text/plain": [
              "920"
            ]
          },
          "metadata": {},
          "execution_count": 45
        }
      ]
    },
    {
      "cell_type": "code",
      "source": [
        "# 길이 분포 plot\n",
        "def plot_durations(durations):\n",
        "    plt.figure(figsize=(10, 4))\n",
        "    plt.hist(durations, bins=50, color='skyblue')\n",
        "    plt.title('Audio File Length Distribution')\n",
        "    plt.xlabel('Length (seconds)')\n",
        "    plt.ylabel('Number of files')\n",
        "    plt.show()\n",
        "\n",
        "plot_durations(duration)"
      ],
      "metadata": {
        "colab": {
          "base_uri": "https://localhost:8080/",
          "height": 410
        },
        "id": "o0l72hQSYF9L",
        "outputId": "7ad272d2-14b6-4010-cf55-0440ee5a801b"
      },
      "execution_count": 46,
      "outputs": [
        {
          "output_type": "display_data",
          "data": {
            "text/plain": [
              "<Figure size 1000x400 with 1 Axes>"
            ],
            "image/png": "[encoded data removed]"
          },
          "metadata": {}
        }
      ]
    },
    {
      "cell_type": "code",
      "source": [
        "# 20초 빼고 plot\n",
        "\n",
        "no20duration = []\n",
        "for i in duration:\n",
        "    if i != 20:\n",
        "        no20duration.append(i)\n",
        "\n",
        "len(no20duration)"
      ],
      "metadata": {
        "colab": {
          "base_uri": "https://localhost:8080/"
        },
        "id": "Y5jQuIxuZoWL",
        "outputId": "99e7e4b5-e77f-4d98-fe7e-2a2236af03f1"
      },
      "execution_count": 47,
      "outputs": [
        {
          "output_type": "execute_result",
          "data": {
            "text/plain": [
              "119"
            ]
          },
          "metadata": {},
          "execution_count": 47
        }
      ]
    },
    {
      "cell_type": "code",
      "source": [
        "no20duration"
      ],
      "metadata": {
        "colab": {
          "base_uri": "https://localhost:8080/"
        },
        "id": "SR_ZQd4JZ-6X",
        "outputId": "2edf2cf5-e112-48cd-ad8b-c6ad4f2c6be3"
      },
      "execution_count": 48,
      "outputs": [
        {
          "output_type": "execute_result",
          "data": {
            "text/plain": [
              "[15.856009070294785,\n",
              " 25.584036281179138,\n",
              " 18.48,\n",
              " 15.024036281179137,\n",
              " 22.96,\n",
              " 23.728027210884353,\n",
              " 20.336009070294786,\n",
              " 19.95201814058957,\n",
              " 16.944036281179137,\n",
              " 17.456009070294783,\n",
              " 17.648027210884354,\n",
              " 30.0,\n",
              " 71.45002267573696,\n",
              " 32.3,\n",
              " 32.4,\n",
              " 32.4,\n",
              " 75.25002267573696,\n",
              " 20.000045351473922,\n",
              " 20.000045351473922,\n",
              " 67.85002267573697,\n",
              " 33.6,\n",
              " 29.36,\n",
              " 30.0,\n",
              " 30.0,\n",
              " 14.576009070294784,\n",
              " 15.728027210884354,\n",
              " 20.848027210884354,\n",
              " 14.576009070294784,\n",
              " 19.63201814058957,\n",
              " 21.936009070294784,\n",
              " 20.000045351473922,\n",
              " 20.000045351473922,\n",
              " 15.472018140589569,\n",
              " 18.352018140589568,\n",
              " 12.528027210884353,\n",
              " 20.08,\n",
              " 12.464036281179139,\n",
              " 12.464036281179139,\n",
              " 66.75002267573696,\n",
              " 66.75002267573696,\n",
              " 86.2,\n",
              " 67.4,\n",
              " 67.4,\n",
              " 12.528027210884353,\n",
              " 11.248027210884354,\n",
              " 18.22403628117914,\n",
              " 17.264036281179138,\n",
              " 9.584036281179138,\n",
              " 7.8560090702947845,\n",
              " 19.97002267573696,\n",
              " 19.63201814058957,\n",
              " 16.944036281179137,\n",
              " 20.848027210884354,\n",
              " 14.576009070294784,\n",
              " 14.576009070294784,\n",
              " 16.24,\n",
              " 19.98,\n",
              " 65.05002267573695,\n",
              " 65.05002267573695,\n",
              " 66.5,\n",
              " 63.1,\n",
              " 63.1,\n",
              " 19.830022675736963,\n",
              " 62.05002267573696,\n",
              " 62.05002267573696,\n",
              " 57.8,\n",
              " 62.5,\n",
              " 62.5,\n",
              " 20.000045351473922,\n",
              " 20.000045351473922,\n",
              " 20.000045351473922,\n",
              " 18.86403628117914,\n",
              " 16.368027210884353,\n",
              " 18.22403628117914,\n",
              " 17.264036281179138,\n",
              " 21.68,\n",
              " 16.75201814058957,\n",
              " 18.672018140589568,\n",
              " 23.02403628117914,\n",
              " 19.376009070294785,\n",
              " 19.63201814058957,\n",
              " 18.736009070294784,\n",
              " 24.24,\n",
              " 26.928027210884355,\n",
              " 30.0,\n",
              " 24.624036281179137,\n",
              " 20.336009070294786,\n",
              " 21.87201814058957,\n",
              " 30.0,\n",
              " 20.000045351473922,\n",
              " 20.000045351473922,\n",
              " 20.000045351473922,\n",
              " 20.000045351473922,\n",
              " 20.000045351473922,\n",
              " 20.000045351473922,\n",
              " 20.000045351473922,\n",
              " 19.8,\n",
              " 19.95002267573696,\n",
              " 19.82,\n",
              " 19.84,\n",
              " 20.000045351473922,\n",
              " 20.000045351473922,\n",
              " 71.05002267573695,\n",
              " 71.05002267573695,\n",
              " 82.5,\n",
              " 68.95002267573696,\n",
              " 68.95002267573696,\n",
              " 28.464036281179137,\n",
              " 30.0,\n",
              " 28.08,\n",
              " 74.45002267573696,\n",
              " 69.45002267573696,\n",
              " 73.35002267573697,\n",
              " 33.9,\n",
              " 33.9,\n",
              " 33.2,\n",
              " 33.2,\n",
              " 32.9,\n",
              " 32.9]"
            ]
          },
          "metadata": {},
          "execution_count": 48
        }
      ]
    },
    {
      "cell_type": "code",
      "source": [
        "plot_durations(no20duration)"
      ],
      "metadata": {
        "colab": {
          "base_uri": "https://localhost:8080/",
          "height": 410
        },
        "id": "ZuaJj0TfZ5p-",
        "outputId": "dc9a601d-9667-4b7c-fe31-c52c9e67632b"
      },
      "execution_count": 49,
      "outputs": [
        {
          "output_type": "display_data",
          "data": {
            "text/plain": [
              "<Figure size 1000x400 with 1 Axes>"
            ],
            "image/png": "[encoded data removed]"
          },
          "metadata": {}
        }
      ]
    },
    {
      "cell_type": "markdown",
      "source": [
        "### 하나의 point annotation이 포함된 df 작성"
      ],
      "metadata": {
        "id": "C0-EbdHoaQ9c"
      }
    },
    {
      "cell_type": "code",
      "source": [
        "txt_path = data_root_dir + matched_file_paths[0][1]\n",
        "txt_path"
      ],
      "metadata": {
        "colab": {
          "base_uri": "https://localhost:8080/",
          "height": 36
        },
        "id": "6MRtQfypbUr5",
        "outputId": "328bd64a-7359-4c9c-915b-464fe141f48a"
      },
      "execution_count": 37,
      "outputs": [
        {
          "output_type": "execute_result",
          "data": {
            "text/plain": [
              "'/content/drive/MyDrive/aiffel/AIFFELthon/1_data/ICBHI_final_database/101_1b1_Al_sc_Meditron.txt'"
            ],
            "application/vnd.google.colaboratory.intrinsic+json": {
              "type": "string"
            }
          },
          "metadata": {},
          "execution_count": 37
        }
      ]
    },
    {
      "cell_type": "code",
      "source": [
        "# 하나의 txt 파일의 정보를 dataframe으로\n",
        "tmp_df = pd.read_csv(txt_path,\n",
        "               sep='\\t',\n",
        "               names = ['start', 'end', 'crackles', 'weezels'])\n",
        "tmp_df.head()"
      ],
      "metadata": {
        "colab": {
          "base_uri": "https://localhost:8080/",
          "height": 206
        },
        "id": "Qly3_yU0af9z",
        "outputId": "c6ceaaa5-cb72-444d-eed5-f20607ece64d"
      },
      "execution_count": 39,
      "outputs": [
        {
          "output_type": "execute_result",
          "data": {
            "text/plain": [
              "   start    end  crackles  weezels\n",
              "0  0.036  0.579         0        0\n",
              "1  0.579  2.450         0        0\n",
              "2  2.450  3.893         0        0\n",
              "3  3.893  5.793         0        0\n",
              "4  5.793  7.521         0        0"
            ],
            "text/html": [
              "\n",
              "  <div id=\"df-83497dd6-d49d-455a-b1ba-2f9a67d333ac\" class=\"colab-df-container\">\n",
              "    <div>\n",
              "<style scoped>\n",
              "    .dataframe tbody tr th:only-of-type {\n",
              "        vertical-align: middle;\n",
              "    }\n",
              "\n",
              "    .dataframe tbody tr th {\n",
              "        vertical-align: top;\n",
              "    }\n",
              "\n",
              "    .dataframe thead th {\n",
              "        text-align: right;\n",
              "    }\n",
              "</style>\n",
              "<table border=\"1\" class=\"dataframe\">\n",
              "  <thead>\n",
              "    <tr style=\"text-align: right;\">\n",
              "      <th></th>\n",
              "      <th>start</th>\n",
              "      <th>end</th>\n",
              "      <th>crackles</th>\n",
              "      <th>weezels</th>\n",
              "    </tr>\n",
              "  </thead>\n",
              "  <tbody>\n",
              "    <tr>\n",
              "      <th>0</th>\n",
              "      <td>0.036</td>\n",
              "      <td>0.579</td>\n",
              "      <td>0</td>\n",
              "      <td>0</td>\n",
              "    </tr>\n",
              "    <tr>\n",
              "      <th>1</th>\n",
              "      <td>0.579</td>\n",
              "      <td>2.450</td>\n",
              "      <td>0</td>\n",
              "      <td>0</td>\n",
              "    </tr>\n",
              "    <tr>\n",
              "      <th>2</th>\n",
              "      <td>2.450</td>\n",
              "      <td>3.893</td>\n",
              "      <td>0</td>\n",
              "      <td>0</td>\n",
              "    </tr>\n",
              "    <tr>\n",
              "      <th>3</th>\n",
              "      <td>3.893</td>\n",
              "      <td>5.793</td>\n",
              "      <td>0</td>\n",
              "      <td>0</td>\n",
              "    </tr>\n",
              "    <tr>\n",
              "      <th>4</th>\n",
              "      <td>5.793</td>\n",
              "      <td>7.521</td>\n",
              "      <td>0</td>\n",
              "      <td>0</td>\n",
              "    </tr>\n",
              "  </tbody>\n",
              "</table>\n",
              "</div>\n",
              "    <div class=\"colab-df-buttons\">\n",
              "\n",
              "  <div class=\"colab-df-container\">\n",
              "    <button class=\"colab-df-convert\" onclick=\"convertToInteractive('df-83497dd6-d49d-455a-b1ba-2f9a67d333ac')\"\n",
              "            title=\"Convert this dataframe to an interactive table.\"\n",
              "            style=\"display:none;\">\n",
              "\n",
              "  <svg xmlns=\"http://www.w3.org/2000/svg\" height=\"24px\" viewBox=\"0 -960 960 960\">\n",
              "    <path d=\"M120-120v-720h720v720H120Zm60-500h600v-160H180v160Zm220 220h160v-160H400v160Zm0 220h160v-160H400v160ZM180-400h160v-160H180v160Zm440 0h160v-160H620v160ZM180-180h160v-160H180v160Zm440 0h160v-160H620v160Z\"/>\n",
              "  </svg>\n",
              "    </button>\n",
              "\n",
              "  <style>\n",
              "    .colab-df-container {\n",
              "      display:flex;\n",
              "      gap: 12px;\n",
              "    }\n",
              "\n",
              "    .colab-df-convert {\n",
              "      background-color: #E8F0FE;\n",
              "      border: none;\n",
              "      border-radius: 50%;\n",
              "      cursor: pointer;\n",
              "      display: none;\n",
              "      fill: #1967D2;\n",
              "      height: 32px;\n",
              "      padding: 0 0 0 0;\n",
              "      width: 32px;\n",
              "    }\n",
              "\n",
              "    .colab-df-convert:hover {\n",
              "      background-color: #E2EBFA;\n",
              "      box-shadow: 0px 1px 2px rgba(60, 64, 67, 0.3), 0px 1px 3px 1px rgba(60, 64, 67, 0.15);\n",
              "      fill: #174EA6;\n",
              "    }\n",
              "\n",
              "    .colab-df-buttons div {\n",
              "      margin-bottom: 4px;\n",
              "    }\n",
              "\n",
              "    [theme=dark] .colab-df-convert {\n",
              "      background-color: #3B4455;\n",
              "      fill: #D2E3FC;\n",
              "    }\n",
              "\n",
              "    [theme=dark] .colab-df-convert:hover {\n",
              "      background-color: #434B5C;\n",
              "      box-shadow: 0px 1px 3px 1px rgba(0, 0, 0, 0.15);\n",
              "      filter: drop-shadow(0px 1px 2px rgba(0, 0, 0, 0.3));\n",
              "      fill: #FFFFFF;\n",
              "    }\n",
              "  </style>\n",
              "\n",
              "    <script>\n",
              "      const buttonEl =\n",
              "        document.querySelector('#df-83497dd6-d49d-455a-b1ba-2f9a67d333ac button.colab-df-convert');\n",
              "      buttonEl.style.display =\n",
              "        google.colab.kernel.accessAllowed ? 'block' : 'none';\n",
              "\n",
              "      async function convertToInteractive(key) {\n",
              "        const element = document.querySelector('#df-83497dd6-d49d-455a-b1ba-2f9a67d333ac');\n",
              "        const dataTable =\n",
              "          await google.colab.kernel.invokeFunction('convertToInteractive',\n",
              "                                                    [key], {});\n",
              "        if (!dataTable) return;\n",
              "\n",
              "        const docLinkHtml = 'Like what you see? Visit the ' +\n",
              "          '<a target=\"_blank\" href=https://colab.research.google.com/notebooks/data_table.ipynb>data table notebook</a>'\n",
              "          + ' to learn more about interactive tables.';\n",
              "        element.innerHTML = '';\n",
              "        dataTable['output_type'] = 'display_data';\n",
              "        await google.colab.output.renderOutput(dataTable, element);\n",
              "        const docLink = document.createElement('div');\n",
              "        docLink.innerHTML = docLinkHtml;\n",
              "        element.appendChild(docLink);\n",
              "      }\n",
              "    </script>\n",
              "  </div>\n",
              "\n",
              "\n",
              "<div id=\"df-4e2e0a4a-504f-47e0-8de1-52e6399d898a\">\n",
              "  <button class=\"colab-df-quickchart\" onclick=\"quickchart('df-4e2e0a4a-504f-47e0-8de1-52e6399d898a')\"\n",
              "            title=\"Suggest charts\"\n",
              "            style=\"display:none;\">\n",
              "\n",
              "<svg xmlns=\"http://www.w3.org/2000/svg\" height=\"24px\"viewBox=\"0 0 24 24\"\n",
              "     width=\"24px\">\n",
              "    <g>\n",
              "        <path d=\"M19 3H5c-1.1 0-2 .9-2 2v14c0 1.1.9 2 2 2h14c1.1 0 2-.9 2-2V5c0-1.1-.9-2-2-2zM9 17H7v-7h2v7zm4 0h-2V7h2v10zm4 0h-2v-4h2v4z\"/>\n",
              "    </g>\n",
              "</svg>\n",
              "  </button>\n",
              "\n",
              "<style>\n",
              "  .colab-df-quickchart {\n",
              "      --bg-color: #E8F0FE;\n",
              "      --fill-color: #1967D2;\n",
              "      --hover-bg-color: #E2EBFA;\n",
              "      --hover-fill-color: #174EA6;\n",
              "      --disabled-fill-color: #AAA;\n",
              "      --disabled-bg-color: #DDD;\n",
              "  }\n",
              "\n",
              "  [theme=dark] .colab-df-quickchart {\n",
              "      --bg-color: #3B4455;\n",
              "      --fill-color: #D2E3FC;\n",
              "      --hover-bg-color: #434B5C;\n",
              "      --hover-fill-color: #FFFFFF;\n",
              "      --disabled-bg-color: #3B4455;\n",
              "      --disabled-fill-color: #666;\n",
              "  }\n",
              "\n",
              "  .colab-df-quickchart {\n",
              "    background-color: var(--bg-color);\n",
              "    border: none;\n",
              "    border-radius: 50%;\n",
              "    cursor: pointer;\n",
              "    display: none;\n",
              "    fill: var(--fill-color);\n",
              "    height: 32px;\n",
              "    padding: 0;\n",
              "    width: 32px;\n",
              "  }\n",
              "\n",
              "  .colab-df-quickchart:hover {\n",
              "    background-color: var(--hover-bg-color);\n",
              "    box-shadow: 0 1px 2px rgba(60, 64, 67, 0.3), 0 1px 3px 1px rgba(60, 64, 67, 0.15);\n",
              "    fill: var(--button-hover-fill-color);\n",
              "  }\n",
              "\n",
              "  .colab-df-quickchart-complete:disabled,\n",
              "  .colab-df-quickchart-complete:disabled:hover {\n",
              "    background-color: var(--disabled-bg-color);\n",
              "    fill: var(--disabled-fill-color);\n",
              "    box-shadow: none;\n",
              "  }\n",
              "\n",
              "  .colab-df-spinner {\n",
              "    border: 2px solid var(--fill-color);\n",
              "    border-color: transparent;\n",
              "    border-bottom-color: var(--fill-color);\n",
              "    animation:\n",
              "      spin 1s steps(1) infinite;\n",
              "  }\n",
              "\n",
              "  @keyframes spin {\n",
              "    0% {\n",
              "      border-color: transparent;\n",
              "      border-bottom-color: var(--fill-color);\n",
              "      border-left-color: var(--fill-color);\n",
              "    }\n",
              "    20% {\n",
              "      border-color: transparent;\n",
              "      border-left-color: var(--fill-color);\n",
              "      border-top-color: var(--fill-color);\n",
              "    }\n",
              "    30% {\n",
              "      border-color: transparent;\n",
              "      border-left-color: var(--fill-color);\n",
              "      border-top-color: var(--fill-color);\n",
              "      border-right-color: var(--fill-color);\n",
              "    }\n",
              "    40% {\n",
              "      border-color: transparent;\n",
              "      border-right-color: var(--fill-color);\n",
              "      border-top-color: var(--fill-color);\n",
              "    }\n",
              "    60% {\n",
              "      border-color: transparent;\n",
              "      border-right-color: var(--fill-color);\n",
              "    }\n",
              "    80% {\n",
              "      border-color: transparent;\n",
              "      border-right-color: var(--fill-color);\n",
              "      border-bottom-color: var(--fill-color);\n",
              "    }\n",
              "    90% {\n",
              "      border-color: transparent;\n",
              "      border-bottom-color: var(--fill-color);\n",
              "    }\n",
              "  }\n",
              "</style>\n",
              "\n",
              "  <script>\n",
              "    async function quickchart(key) {\n",
              "      const quickchartButtonEl =\n",
              "        document.querySelector('#' + key + ' button');\n",
              "      quickchartButtonEl.disabled = true;  // To prevent multiple clicks.\n",
              "      quickchartButtonEl.classList.add('colab-df-spinner');\n",
              "      try {\n",
              "        const charts = await google.colab.kernel.invokeFunction(\n",
              "            'suggestCharts', [key], {});\n",
              "      } catch (error) {\n",
              "        console.error('Error during call to suggestCharts:', error);\n",
              "      }\n",
              "      quickchartButtonEl.classList.remove('colab-df-spinner');\n",
              "      quickchartButtonEl.classList.add('colab-df-quickchart-complete');\n",
              "    }\n",
              "    (() => {\n",
              "      let quickchartButtonEl =\n",
              "        document.querySelector('#df-4e2e0a4a-504f-47e0-8de1-52e6399d898a button');\n",
              "      quickchartButtonEl.style.display =\n",
              "        google.colab.kernel.accessAllowed ? 'block' : 'none';\n",
              "    })();\n",
              "  </script>\n",
              "</div>\n",
              "\n",
              "    </div>\n",
              "  </div>\n"
            ],
            "application/vnd.google.colaboratory.intrinsic+json": {
              "type": "dataframe",
              "variable_name": "tmp_df",
              "summary": "{\n  \"name\": \"tmp_df\",\n  \"rows\": 12,\n  \"fields\": [\n    {\n      \"column\": \"start\",\n      \"properties\": {\n        \"dtype\": \"number\",\n        \"std\": 6.286075424493747,\n        \"min\": 0.036,\n        \"max\": 18.507,\n        \"num_unique_values\": 12,\n        \"samples\": [\n          16.707,\n          14.721,\n          0.036\n        ],\n        \"semantic_type\": \"\",\n        \"description\": \"\"\n      }\n    },\n    {\n      \"column\": \"end\",\n      \"properties\": {\n        \"dtype\": \"number\",\n        \"std\": 6.437102340762849,\n        \"min\": 0.579,\n        \"max\": 19.964,\n        \"num_unique_values\": 12,\n        \"samples\": [\n          18.507,\n          16.707,\n          0.579\n        ],\n        \"semantic_type\": \"\",\n        \"description\": \"\"\n      }\n    },\n    {\n      \"column\": \"crackles\",\n      \"properties\": {\n        \"dtype\": \"number\",\n        \"std\": 0,\n        \"min\": 0,\n        \"max\": 0,\n        \"num_unique_values\": 1,\n        \"samples\": [\n          0\n        ],\n        \"semantic_type\": \"\",\n        \"description\": \"\"\n      }\n    },\n    {\n      \"column\": \"weezels\",\n      \"properties\": {\n        \"dtype\": \"number\",\n        \"std\": 0,\n        \"min\": 0,\n        \"max\": 0,\n        \"num_unique_values\": 1,\n        \"samples\": [\n          0\n        ],\n        \"semantic_type\": \"\",\n        \"description\": \"\"\n      }\n    }\n  ]\n}"
            }
          },
          "metadata": {},
          "execution_count": 39
        }
      ]
    },
    {
      "cell_type": "markdown",
      "source": [
        "### filename - duration df 작성\n",
        "\n",
        "여기서 바로 좌표구하는거 시작해야겠는데?\n",
        "\n",
        "하나의 오디오 파일에 해당하는 ...\n",
        "\n",
        "길이정보 포함된 데이터 프레임 만들어보자\n",
        "\n",
        "|audio file name|duration|\n",
        "|---|---|\n",
        "|.wav|20 ...|"
      ],
      "metadata": {
        "id": "FWJxRUK5b7JU"
      }
    },
    {
      "cell_type": "code",
      "source": [
        "# wav filename list\n",
        "\n",
        "wav_filename_ls = []\n",
        "for i, _ in matched_file_paths:\n",
        "    wav_filename_ls.append(i)\n",
        "\n",
        "print(wav_filename_ls[0])\n",
        "len(wav_filename_ls)"
      ],
      "metadata": {
        "colab": {
          "base_uri": "https://localhost:8080/"
        },
        "id": "vVhFXFTZeO6T",
        "outputId": "24643891-b304-4a96-a7a7-870d236e2091"
      },
      "execution_count": 67,
      "outputs": [
        {
          "output_type": "stream",
          "name": "stdout",
          "text": [
            "101_1b1_Al_sc_Meditron.wav\n"
          ]
        },
        {
          "output_type": "execute_result",
          "data": {
            "text/plain": [
              "920"
            ]
          },
          "metadata": {},
          "execution_count": 67
        }
      ]
    },
    {
      "cell_type": "code",
      "source": [
        "# df: filename - duration\n",
        "\n",
        "wav_dur_df = pd.DataFrame({\n",
        "    'WAV Filename': wav_filename_ls,\n",
        "    'Duration': duration\n",
        "})\n",
        "\n",
        "print(wav_dur_df.shape)\n",
        "wav_dur_df.head()"
      ],
      "metadata": {
        "colab": {
          "base_uri": "https://localhost:8080/",
          "height": 224
        },
        "id": "qgvYWGE1b6np",
        "outputId": "8ecb46d8-a5a4-41fa-9108-d2dc59cb74ba"
      },
      "execution_count": 70,
      "outputs": [
        {
          "output_type": "stream",
          "name": "stdout",
          "text": [
            "(920, 2)\n"
          ]
        },
        {
          "output_type": "execute_result",
          "data": {
            "text/plain": [
              "                 WAV Filename   Duration\n",
              "0  101_1b1_Al_sc_Meditron.wav  20.000000\n",
              "1  101_1b1_Pr_sc_Meditron.wav  20.000000\n",
              "2  102_1b1_Ar_sc_Meditron.wav  20.000000\n",
              "3  103_2b2_Ar_mc_LittC2SE.wav  20.000000\n",
              "4  104_1b1_Al_sc_Litt3200.wav  15.856009"
            ],
            "text/html": [
              "\n",
              "  <div id=\"df-36ca7560-2f58-4dd4-b42a-2cc793a855b0\" class=\"colab-df-container\">\n",
              "    <div>\n",
              "<style scoped>\n",
              "    .dataframe tbody tr th:only-of-type {\n",
              "        vertical-align: middle;\n",
              "    }\n",
              "\n",
              "    .dataframe tbody tr th {\n",
              "        vertical-align: top;\n",
              "    }\n",
              "\n",
              "    .dataframe thead th {\n",
              "        text-align: right;\n",
              "    }\n",
              "</style>\n",
              "<table border=\"1\" class=\"dataframe\">\n",
              "  <thead>\n",
              "    <tr style=\"text-align: right;\">\n",
              "      <th></th>\n",
              "      <th>WAV Filename</th>\n",
              "      <th>Duration</th>\n",
              "    </tr>\n",
              "  </thead>\n",
              "  <tbody>\n",
              "    <tr>\n",
              "      <th>0</th>\n",
              "      <td>101_1b1_Al_sc_Meditron.wav</td>\n",
              "      <td>20.000000</td>\n",
              "    </tr>\n",
              "    <tr>\n",
              "      <th>1</th>\n",
              "      <td>101_1b1_Pr_sc_Meditron.wav</td>\n",
              "      <td>20.000000</td>\n",
              "    </tr>\n",
              "    <tr>\n",
              "      <th>2</th>\n",
              "      <td>102_1b1_Ar_sc_Meditron.wav</td>\n",
              "      <td>20.000000</td>\n",
              "    </tr>\n",
              "    <tr>\n",
              "      <th>3</th>\n",
              "      <td>103_2b2_Ar_mc_LittC2SE.wav</td>\n",
              "      <td>20.000000</td>\n",
              "    </tr>\n",
              "    <tr>\n",
              "      <th>4</th>\n",
              "      <td>104_1b1_Al_sc_Litt3200.wav</td>\n",
              "      <td>15.856009</td>\n",
              "    </tr>\n",
              "  </tbody>\n",
              "</table>\n",
              "</div>\n",
              "    <div class=\"colab-df-buttons\">\n",
              "\n",
              "  <div class=\"colab-df-container\">\n",
              "    <button class=\"colab-df-convert\" onclick=\"convertToInteractive('df-36ca7560-2f58-4dd4-b42a-2cc793a855b0')\"\n",
              "            title=\"Convert this dataframe to an interactive table.\"\n",
              "            style=\"display:none;\">\n",
              "\n",
              "  <svg xmlns=\"http://www.w3.org/2000/svg\" height=\"24px\" viewBox=\"0 -960 960 960\">\n",
              "    <path d=\"M120-120v-720h720v720H120Zm60-500h600v-160H180v160Zm220 220h160v-160H400v160Zm0 220h160v-160H400v160ZM180-400h160v-160H180v160Zm440 0h160v-160H620v160ZM180-180h160v-160H180v160Zm440 0h160v-160H620v160Z\"/>\n",
              "  </svg>\n",
              "    </button>\n",
              "\n",
              "  <style>\n",
              "    .colab-df-container {\n",
              "      display:flex;\n",
              "      gap: 12px;\n",
              "    }\n",
              "\n",
              "    .colab-df-convert {\n",
              "      background-color: #E8F0FE;\n",
              "      border: none;\n",
              "      border-radius: 50%;\n",
              "      cursor: pointer;\n",
              "      display: none;\n",
              "      fill: #1967D2;\n",
              "      height: 32px;\n",
              "      padding: 0 0 0 0;\n",
              "      width: 32px;\n",
              "    }\n",
              "\n",
              "    .colab-df-convert:hover {\n",
              "      background-color: #E2EBFA;\n",
              "      box-shadow: 0px 1px 2px rgba(60, 64, 67, 0.3), 0px 1px 3px 1px rgba(60, 64, 67, 0.15);\n",
              "      fill: #174EA6;\n",
              "    }\n",
              "\n",
              "    .colab-df-buttons div {\n",
              "      margin-bottom: 4px;\n",
              "    }\n",
              "\n",
              "    [theme=dark] .colab-df-convert {\n",
              "      background-color: #3B4455;\n",
              "      fill: #D2E3FC;\n",
              "    }\n",
              "\n",
              "    [theme=dark] .colab-df-convert:hover {\n",
              "      background-color: #434B5C;\n",
              "      box-shadow: 0px 1px 3px 1px rgba(0, 0, 0, 0.15);\n",
              "      filter: drop-shadow(0px 1px 2px rgba(0, 0, 0, 0.3));\n",
              "      fill: #FFFFFF;\n",
              "    }\n",
              "  </style>\n",
              "\n",
              "    <script>\n",
              "      const buttonEl =\n",
              "        document.querySelector('#df-36ca7560-2f58-4dd4-b42a-2cc793a855b0 button.colab-df-convert');\n",
              "      buttonEl.style.display =\n",
              "        google.colab.kernel.accessAllowed ? 'block' : 'none';\n",
              "\n",
              "      async function convertToInteractive(key) {\n",
              "        const element = document.querySelector('#df-36ca7560-2f58-4dd4-b42a-2cc793a855b0');\n",
              "        const dataTable =\n",
              "          await google.colab.kernel.invokeFunction('convertToInteractive',\n",
              "                                                    [key], {});\n",
              "        if (!dataTable) return;\n",
              "\n",
              "        const docLinkHtml = 'Like what you see? Visit the ' +\n",
              "          '<a target=\"_blank\" href=https://colab.research.google.com/notebooks/data_table.ipynb>data table notebook</a>'\n",
              "          + ' to learn more about interactive tables.';\n",
              "        element.innerHTML = '';\n",
              "        dataTable['output_type'] = 'display_data';\n",
              "        await google.colab.output.renderOutput(dataTable, element);\n",
              "        const docLink = document.createElement('div');\n",
              "        docLink.innerHTML = docLinkHtml;\n",
              "        element.appendChild(docLink);\n",
              "      }\n",
              "    </script>\n",
              "  </div>\n",
              "\n",
              "\n",
              "<div id=\"df-05a78b1d-b64f-42f9-aba1-465bf60b6802\">\n",
              "  <button class=\"colab-df-quickchart\" onclick=\"quickchart('df-05a78b1d-b64f-42f9-aba1-465bf60b6802')\"\n",
              "            title=\"Suggest charts\"\n",
              "            style=\"display:none;\">\n",
              "\n",
              "<svg xmlns=\"http://www.w3.org/2000/svg\" height=\"24px\"viewBox=\"0 0 24 24\"\n",
              "     width=\"24px\">\n",
              "    <g>\n",
              "        <path d=\"M19 3H5c-1.1 0-2 .9-2 2v14c0 1.1.9 2 2 2h14c1.1 0 2-.9 2-2V5c0-1.1-.9-2-2-2zM9 17H7v-7h2v7zm4 0h-2V7h2v10zm4 0h-2v-4h2v4z\"/>\n",
              "    </g>\n",
              "</svg>\n",
              "  </button>\n",
              "\n",
              "<style>\n",
              "  .colab-df-quickchart {\n",
              "      --bg-color: #E8F0FE;\n",
              "      --fill-color: #1967D2;\n",
              "      --hover-bg-color: #E2EBFA;\n",
              "      --hover-fill-color: #174EA6;\n",
              "      --disabled-fill-color: #AAA;\n",
              "      --disabled-bg-color: #DDD;\n",
              "  }\n",
              "\n",
              "  [theme=dark] .colab-df-quickchart {\n",
              "      --bg-color: #3B4455;\n",
              "      --fill-color: #D2E3FC;\n",
              "      --hover-bg-color: #434B5C;\n",
              "      --hover-fill-color: #FFFFFF;\n",
              "      --disabled-bg-color: #3B4455;\n",
              "      --disabled-fill-color: #666;\n",
              "  }\n",
              "\n",
              "  .colab-df-quickchart {\n",
              "    background-color: var(--bg-color);\n",
              "    border: none;\n",
              "    border-radius: 50%;\n",
              "    cursor: pointer;\n",
              "    display: none;\n",
              "    fill: var(--fill-color);\n",
              "    height: 32px;\n",
              "    padding: 0;\n",
              "    width: 32px;\n",
              "  }\n",
              "\n",
              "  .colab-df-quickchart:hover {\n",
              "    background-color: var(--hover-bg-color);\n",
              "    box-shadow: 0 1px 2px rgba(60, 64, 67, 0.3), 0 1px 3px 1px rgba(60, 64, 67, 0.15);\n",
              "    fill: var(--button-hover-fill-color);\n",
              "  }\n",
              "\n",
              "  .colab-df-quickchart-complete:disabled,\n",
              "  .colab-df-quickchart-complete:disabled:hover {\n",
              "    background-color: var(--disabled-bg-color);\n",
              "    fill: var(--disabled-fill-color);\n",
              "    box-shadow: none;\n",
              "  }\n",
              "\n",
              "  .colab-df-spinner {\n",
              "    border: 2px solid var(--fill-color);\n",
              "    border-color: transparent;\n",
              "    border-bottom-color: var(--fill-color);\n",
              "    animation:\n",
              "      spin 1s steps(1) infinite;\n",
              "  }\n",
              "\n",
              "  @keyframes spin {\n",
              "    0% {\n",
              "      border-color: transparent;\n",
              "      border-bottom-color: var(--fill-color);\n",
              "      border-left-color: var(--fill-color);\n",
              "    }\n",
              "    20% {\n",
              "      border-color: transparent;\n",
              "      border-left-color: var(--fill-color);\n",
              "      border-top-color: var(--fill-color);\n",
              "    }\n",
              "    30% {\n",
              "      border-color: transparent;\n",
              "      border-left-color: var(--fill-color);\n",
              "      border-top-color: var(--fill-color);\n",
              "      border-right-color: var(--fill-color);\n",
              "    }\n",
              "    40% {\n",
              "      border-color: transparent;\n",
              "      border-right-color: var(--fill-color);\n",
              "      border-top-color: var(--fill-color);\n",
              "    }\n",
              "    60% {\n",
              "      border-color: transparent;\n",
              "      border-right-color: var(--fill-color);\n",
              "    }\n",
              "    80% {\n",
              "      border-color: transparent;\n",
              "      border-right-color: var(--fill-color);\n",
              "      border-bottom-color: var(--fill-color);\n",
              "    }\n",
              "    90% {\n",
              "      border-color: transparent;\n",
              "      border-bottom-color: var(--fill-color);\n",
              "    }\n",
              "  }\n",
              "</style>\n",
              "\n",
              "  <script>\n",
              "    async function quickchart(key) {\n",
              "      const quickchartButtonEl =\n",
              "        document.querySelector('#' + key + ' button');\n",
              "      quickchartButtonEl.disabled = true;  // To prevent multiple clicks.\n",
              "      quickchartButtonEl.classList.add('colab-df-spinner');\n",
              "      try {\n",
              "        const charts = await google.colab.kernel.invokeFunction(\n",
              "            'suggestCharts', [key], {});\n",
              "      } catch (error) {\n",
              "        console.error('Error during call to suggestCharts:', error);\n",
              "      }\n",
              "      quickchartButtonEl.classList.remove('colab-df-spinner');\n",
              "      quickchartButtonEl.classList.add('colab-df-quickchart-complete');\n",
              "    }\n",
              "    (() => {\n",
              "      let quickchartButtonEl =\n",
              "        document.querySelector('#df-05a78b1d-b64f-42f9-aba1-465bf60b6802 button');\n",
              "      quickchartButtonEl.style.display =\n",
              "        google.colab.kernel.accessAllowed ? 'block' : 'none';\n",
              "    })();\n",
              "  </script>\n",
              "</div>\n",
              "\n",
              "    </div>\n",
              "  </div>\n"
            ],
            "application/vnd.google.colaboratory.intrinsic+json": {
              "type": "dataframe",
              "variable_name": "wav_dur_df",
              "summary": "{\n  \"name\": \"wav_dur_df\",\n  \"rows\": 920,\n  \"fields\": [\n    {\n      \"column\": \"WAV Filename\",\n      \"properties\": {\n        \"dtype\": \"string\",\n        \"num_unique_values\": 920,\n        \"samples\": [\n          \"151_2p3_Pl_mc_AKGC417L.wav\",\n          \"156_8b3_Lr_mc_AKGC417L.wav\",\n          \"172_2b5_Pl_mc_AKGC417L.wav\"\n        ],\n        \"semantic_type\": \"\",\n        \"description\": \"\"\n      }\n    },\n    {\n      \"column\": \"Duration\",\n      \"properties\": {\n        \"dtype\": \"number\",\n        \"std\": 8.307422737485888,\n        \"min\": 7.8560090702947845,\n        \"max\": 86.2,\n        \"num_unique_values\": 76,\n        \"samples\": [\n          15.024036281179137,\n          18.22403628117914,\n          17.456009070294783\n        ],\n        \"semantic_type\": \"\",\n        \"description\": \"\"\n      }\n    }\n  ]\n}"
            }
          },
          "metadata": {},
          "execution_count": 70
        }
      ]
    },
    {
      "cell_type": "markdown",
      "source": [
        "### (2) train-test 분포 체크\n"
      ],
      "metadata": {
        "id": "kBVwc4ULetBr"
      }
    },
    {
      "cell_type": "code",
      "source": [
        "train_test_dir = '/content/drive/MyDrive/aiffel/AIFFELthon/1_data/ICBHI_challenge_train_test.txt'\n"
      ],
      "metadata": {
        "id": "jSXb16T4dr-a"
      },
      "execution_count": 71,
      "outputs": []
    },
    {
      "cell_type": "code",
      "source": [
        "# ICBHI_challenge_train_test.txt 파일을 읽어서 DataFrame에 추가할 정보를 추출\n",
        "train_test_ls = []\n",
        "with open(train_test_dir, 'r') as file:\n",
        "    for line in file:\n",
        "        parts = line.strip().split('\\t')\n",
        "        filename = parts[0] + '.wav'  # WAV 파일 이름으로 변환\n",
        "        train_test = parts[1]  # train 또는 test 값\n",
        "        train_test_ls.append({'WAV Filename': filename, 'train_test': train_test})\n",
        "\n",
        "# 추출한 정보를 DataFrame으로 변환\n",
        "train_test_df = pd.DataFrame(train_test_ls)\n",
        "\n",
        "train_test_df.head()\n",
        "train_test_df.shape\n",
        "\n",
        "# 원래 DataFrame과 새로운 DataFrame을 'WAV Filename'을 기준으로 병합\n",
        "merged_df = pd.merge(wav_dur_df, train_test_df, on='WAV Filename', how='left')\n",
        "\n",
        "print(merged_df.shape)\n",
        "merged_df.head()\n",
        "#print(merged_df)"
      ],
      "metadata": {
        "colab": {
          "base_uri": "https://localhost:8080/",
          "height": 224
        },
        "id": "b62Mzpa-frJ3",
        "outputId": "b27ca540-8aa4-4943-80c7-91ccc236d83e"
      },
      "execution_count": 83,
      "outputs": [
        {
          "output_type": "stream",
          "name": "stdout",
          "text": [
            "(920, 3)\n"
          ]
        },
        {
          "output_type": "execute_result",
          "data": {
            "text/plain": [
              "                 WAV Filename   Duration train_test\n",
              "0  101_1b1_Al_sc_Meditron.wav  20.000000       test\n",
              "1  101_1b1_Pr_sc_Meditron.wav  20.000000       test\n",
              "2  102_1b1_Ar_sc_Meditron.wav  20.000000       test\n",
              "3  103_2b2_Ar_mc_LittC2SE.wav  20.000000      train\n",
              "4  104_1b1_Al_sc_Litt3200.wav  15.856009       test"
            ],
            "text/html": [
              "\n",
              "  <div id=\"df-d9e72bdc-62bb-4aae-975c-71af4d984ec6\" class=\"colab-df-container\">\n",
              "    <div>\n",
              "<style scoped>\n",
              "    .dataframe tbody tr th:only-of-type {\n",
              "        vertical-align: middle;\n",
              "    }\n",
              "\n",
              "    .dataframe tbody tr th {\n",
              "        vertical-align: top;\n",
              "    }\n",
              "\n",
              "    .dataframe thead th {\n",
              "        text-align: right;\n",
              "    }\n",
              "</style>\n",
              "<table border=\"1\" class=\"dataframe\">\n",
              "  <thead>\n",
              "    <tr style=\"text-align: right;\">\n",
              "      <th></th>\n",
              "      <th>WAV Filename</th>\n",
              "      <th>Duration</th>\n",
              "      <th>train_test</th>\n",
              "    </tr>\n",
              "  </thead>\n",
              "  <tbody>\n",
              "    <tr>\n",
              "      <th>0</th>\n",
              "      <td>101_1b1_Al_sc_Meditron.wav</td>\n",
              "      <td>20.000000</td>\n",
              "      <td>test</td>\n",
              "    </tr>\n",
              "    <tr>\n",
              "      <th>1</th>\n",
              "      <td>101_1b1_Pr_sc_Meditron.wav</td>\n",
              "      <td>20.000000</td>\n",
              "      <td>test</td>\n",
              "    </tr>\n",
              "    <tr>\n",
              "      <th>2</th>\n",
              "      <td>102_1b1_Ar_sc_Meditron.wav</td>\n",
              "      <td>20.000000</td>\n",
              "      <td>test</td>\n",
              "    </tr>\n",
              "    <tr>\n",
              "      <th>3</th>\n",
              "      <td>103_2b2_Ar_mc_LittC2SE.wav</td>\n",
              "      <td>20.000000</td>\n",
              "      <td>train</td>\n",
              "    </tr>\n",
              "    <tr>\n",
              "      <th>4</th>\n",
              "      <td>104_1b1_Al_sc_Litt3200.wav</td>\n",
              "      <td>15.856009</td>\n",
              "      <td>test</td>\n",
              "    </tr>\n",
              "  </tbody>\n",
              "</table>\n",
              "</div>\n",
              "    <div class=\"colab-df-buttons\">\n",
              "\n",
              "  <div class=\"colab-df-container\">\n",
              "    <button class=\"colab-df-convert\" onclick=\"convertToInteractive('df-d9e72bdc-62bb-4aae-975c-71af4d984ec6')\"\n",
              "            title=\"Convert this dataframe to an interactive table.\"\n",
              "            style=\"display:none;\">\n",
              "\n",
              "  <svg xmlns=\"http://www.w3.org/2000/svg\" height=\"24px\" viewBox=\"0 -960 960 960\">\n",
              "    <path d=\"M120-120v-720h720v720H120Zm60-500h600v-160H180v160Zm220 220h160v-160H400v160Zm0 220h160v-160H400v160ZM180-400h160v-160H180v160Zm440 0h160v-160H620v160ZM180-180h160v-160H180v160Zm440 0h160v-160H620v160Z\"/>\n",
              "  </svg>\n",
              "    </button>\n",
              "\n",
              "  <style>\n",
              "    .colab-df-container {\n",
              "      display:flex;\n",
              "      gap: 12px;\n",
              "    }\n",
              "\n",
              "    .colab-df-convert {\n",
              "      background-color: #E8F0FE;\n",
              "      border: none;\n",
              "      border-radius: 50%;\n",
              "      cursor: pointer;\n",
              "      display: none;\n",
              "      fill: #1967D2;\n",
              "      height: 32px;\n",
              "      padding: 0 0 0 0;\n",
              "      width: 32px;\n",
              "    }\n",
              "\n",
              "    .colab-df-convert:hover {\n",
              "      background-color: #E2EBFA;\n",
              "      box-shadow: 0px 1px 2px rgba(60, 64, 67, 0.3), 0px 1px 3px 1px rgba(60, 64, 67, 0.15);\n",
              "      fill: #174EA6;\n",
              "    }\n",
              "\n",
              "    .colab-df-buttons div {\n",
              "      margin-bottom: 4px;\n",
              "    }\n",
              "\n",
              "    [theme=dark] .colab-df-convert {\n",
              "      background-color: #3B4455;\n",
              "      fill: #D2E3FC;\n",
              "    }\n",
              "\n",
              "    [theme=dark] .colab-df-convert:hover {\n",
              "      background-color: #434B5C;\n",
              "      box-shadow: 0px 1px 3px 1px rgba(0, 0, 0, 0.15);\n",
              "      filter: drop-shadow(0px 1px 2px rgba(0, 0, 0, 0.3));\n",
              "      fill: #FFFFFF;\n",
              "    }\n",
              "  </style>\n",
              "\n",
              "    <script>\n",
              "      const buttonEl =\n",
              "        document.querySelector('#df-d9e72bdc-62bb-4aae-975c-71af4d984ec6 button.colab-df-convert');\n",
              "      buttonEl.style.display =\n",
              "        google.colab.kernel.accessAllowed ? 'block' : 'none';\n",
              "\n",
              "      async function convertToInteractive(key) {\n",
              "        const element = document.querySelector('#df-d9e72bdc-62bb-4aae-975c-71af4d984ec6');\n",
              "        const dataTable =\n",
              "          await google.colab.kernel.invokeFunction('convertToInteractive',\n",
              "                                                    [key], {});\n",
              "        if (!dataTable) return;\n",
              "\n",
              "        const docLinkHtml = 'Like what you see? Visit the ' +\n",
              "          '<a target=\"_blank\" href=https://colab.research.google.com/notebooks/data_table.ipynb>data table notebook</a>'\n",
              "          + ' to learn more about interactive tables.';\n",
              "        element.innerHTML = '';\n",
              "        dataTable['output_type'] = 'display_data';\n",
              "        await google.colab.output.renderOutput(dataTable, element);\n",
              "        const docLink = document.createElement('div');\n",
              "        docLink.innerHTML = docLinkHtml;\n",
              "        element.appendChild(docLink);\n",
              "      }\n",
              "    </script>\n",
              "  </div>\n",
              "\n",
              "\n",
              "<div id=\"df-17b40eb1-9dd8-4d66-a86d-436e090a1f05\">\n",
              "  <button class=\"colab-df-quickchart\" onclick=\"quickchart('df-17b40eb1-9dd8-4d66-a86d-436e090a1f05')\"\n",
              "            title=\"Suggest charts\"\n",
              "            style=\"display:none;\">\n",
              "\n",
              "<svg xmlns=\"http://www.w3.org/2000/svg\" height=\"24px\"viewBox=\"0 0 24 24\"\n",
              "     width=\"24px\">\n",
              "    <g>\n",
              "        <path d=\"M19 3H5c-1.1 0-2 .9-2 2v14c0 1.1.9 2 2 2h14c1.1 0 2-.9 2-2V5c0-1.1-.9-2-2-2zM9 17H7v-7h2v7zm4 0h-2V7h2v10zm4 0h-2v-4h2v4z\"/>\n",
              "    </g>\n",
              "</svg>\n",
              "  </button>\n",
              "\n",
              "<style>\n",
              "  .colab-df-quickchart {\n",
              "      --bg-color: #E8F0FE;\n",
              "      --fill-color: #1967D2;\n",
              "      --hover-bg-color: #E2EBFA;\n",
              "      --hover-fill-color: #174EA6;\n",
              "      --disabled-fill-color: #AAA;\n",
              "      --disabled-bg-color: #DDD;\n",
              "  }\n",
              "\n",
              "  [theme=dark] .colab-df-quickchart {\n",
              "      --bg-color: #3B4455;\n",
              "      --fill-color: #D2E3FC;\n",
              "      --hover-bg-color: #434B5C;\n",
              "      --hover-fill-color: #FFFFFF;\n",
              "      --disabled-bg-color: #3B4455;\n",
              "      --disabled-fill-color: #666;\n",
              "  }\n",
              "\n",
              "  .colab-df-quickchart {\n",
              "    background-color: var(--bg-color);\n",
              "    border: none;\n",
              "    border-radius: 50%;\n",
              "    cursor: pointer;\n",
              "    display: none;\n",
              "    fill: var(--fill-color);\n",
              "    height: 32px;\n",
              "    padding: 0;\n",
              "    width: 32px;\n",
              "  }\n",
              "\n",
              "  .colab-df-quickchart:hover {\n",
              "    background-color: var(--hover-bg-color);\n",
              "    box-shadow: 0 1px 2px rgba(60, 64, 67, 0.3), 0 1px 3px 1px rgba(60, 64, 67, 0.15);\n",
              "    fill: var(--button-hover-fill-color);\n",
              "  }\n",
              "\n",
              "  .colab-df-quickchart-complete:disabled,\n",
              "  .colab-df-quickchart-complete:disabled:hover {\n",
              "    background-color: var(--disabled-bg-color);\n",
              "    fill: var(--disabled-fill-color);\n",
              "    box-shadow: none;\n",
              "  }\n",
              "\n",
              "  .colab-df-spinner {\n",
              "    border: 2px solid var(--fill-color);\n",
              "    border-color: transparent;\n",
              "    border-bottom-color: var(--fill-color);\n",
              "    animation:\n",
              "      spin 1s steps(1) infinite;\n",
              "  }\n",
              "\n",
              "  @keyframes spin {\n",
              "    0% {\n",
              "      border-color: transparent;\n",
              "      border-bottom-color: var(--fill-color);\n",
              "      border-left-color: var(--fill-color);\n",
              "    }\n",
              "    20% {\n",
              "      border-color: transparent;\n",
              "      border-left-color: var(--fill-color);\n",
              "      border-top-color: var(--fill-color);\n",
              "    }\n",
              "    30% {\n",
              "      border-color: transparent;\n",
              "      border-left-color: var(--fill-color);\n",
              "      border-top-color: var(--fill-color);\n",
              "      border-right-color: var(--fill-color);\n",
              "    }\n",
              "    40% {\n",
              "      border-color: transparent;\n",
              "      border-right-color: var(--fill-color);\n",
              "      border-top-color: var(--fill-color);\n",
              "    }\n",
              "    60% {\n",
              "      border-color: transparent;\n",
              "      border-right-color: var(--fill-color);\n",
              "    }\n",
              "    80% {\n",
              "      border-color: transparent;\n",
              "      border-right-color: var(--fill-color);\n",
              "      border-bottom-color: var(--fill-color);\n",
              "    }\n",
              "    90% {\n",
              "      border-color: transparent;\n",
              "      border-bottom-color: var(--fill-color);\n",
              "    }\n",
              "  }\n",
              "</style>\n",
              "\n",
              "  <script>\n",
              "    async function quickchart(key) {\n",
              "      const quickchartButtonEl =\n",
              "        document.querySelector('#' + key + ' button');\n",
              "      quickchartButtonEl.disabled = true;  // To prevent multiple clicks.\n",
              "      quickchartButtonEl.classList.add('colab-df-spinner');\n",
              "      try {\n",
              "        const charts = await google.colab.kernel.invokeFunction(\n",
              "            'suggestCharts', [key], {});\n",
              "      } catch (error) {\n",
              "        console.error('Error during call to suggestCharts:', error);\n",
              "      }\n",
              "      quickchartButtonEl.classList.remove('colab-df-spinner');\n",
              "      quickchartButtonEl.classList.add('colab-df-quickchart-complete');\n",
              "    }\n",
              "    (() => {\n",
              "      let quickchartButtonEl =\n",
              "        document.querySelector('#df-17b40eb1-9dd8-4d66-a86d-436e090a1f05 button');\n",
              "      quickchartButtonEl.style.display =\n",
              "        google.colab.kernel.accessAllowed ? 'block' : 'none';\n",
              "    })();\n",
              "  </script>\n",
              "</div>\n",
              "\n",
              "    </div>\n",
              "  </div>\n"
            ],
            "application/vnd.google.colaboratory.intrinsic+json": {
              "type": "dataframe",
              "summary": "{\n  \"name\": \"#print(merged_df)\",\n  \"rows\": 5,\n  \"fields\": [\n    {\n      \"column\": \"WAV Filename\",\n      \"properties\": {\n        \"dtype\": \"string\",\n        \"num_unique_values\": 5,\n        \"samples\": [\n          \"101_1b1_Pr_sc_Meditron.wav\",\n          \"104_1b1_Al_sc_Litt3200.wav\",\n          \"102_1b1_Ar_sc_Meditron.wav\"\n        ],\n        \"semantic_type\": \"\",\n        \"description\": \"\"\n      }\n    },\n    {\n      \"column\": \"Duration\",\n      \"properties\": {\n        \"dtype\": \"number\",\n        \"std\": 1.8532490833926825,\n        \"min\": 15.856009070294785,\n        \"max\": 20.0,\n        \"num_unique_values\": 2,\n        \"samples\": [\n          15.856009070294785,\n          20.0\n        ],\n        \"semantic_type\": \"\",\n        \"description\": \"\"\n      }\n    },\n    {\n      \"column\": \"train_test\",\n      \"properties\": {\n        \"dtype\": \"category\",\n        \"num_unique_values\": 2,\n        \"samples\": [\n          \"train\",\n          \"test\"\n        ],\n        \"semantic_type\": \"\",\n        \"description\": \"\"\n      }\n    }\n  ]\n}"
            }
          },
          "metadata": {},
          "execution_count": 83
        }
      ]
    },
    {
      "cell_type": "code",
      "source": [
        "# train, test 나눠줌\n",
        "\n",
        "# 'train_test'이 'train'인 행들만 선택하여 새로운 DataFrame 생성\n",
        "train_df = merged_df[merged_df['train_test'] == 'train']\n",
        "\n",
        "# 'train_test'이 'test'인 행들만 선택하여 새로운 DataFrame 생성\n",
        "test_df = merged_df[merged_df['train_test'] == 'test']\n",
        "\n",
        "print(\"Train DataFrame:\", train_df.shape)\n",
        "print(train_df.head())\n",
        "print(\"\\nTest DataFrame:\", test_df.shape)\n",
        "print(test_df.head())"
      ],
      "metadata": {
        "colab": {
          "base_uri": "https://localhost:8080/"
        },
        "id": "gul0rlPAhH-j",
        "outputId": "93a1d6ea-9179-4067-d5ac-0fa691b06834"
      },
      "execution_count": 88,
      "outputs": [
        {
          "output_type": "stream",
          "name": "stdout",
          "text": [
            "Train DataFrame: (538, 3)\n",
            "                  WAV Filename  Duration train_test\n",
            "3   103_2b2_Ar_mc_LittC2SE.wav      20.0      train\n",
            "10  105_1b1_Tc_sc_Meditron.wav      20.0      train\n",
            "11  106_2b1_Pl_mc_LittC2SE.wav      20.0      train\n",
            "12  106_2b1_Pr_mc_LittC2SE.wav      20.0      train\n",
            "13  107_2b3_Al_mc_AKGC417L.wav      20.0      train\n",
            "\n",
            "Test DataFrame: (381, 3)\n",
            "                 WAV Filename   Duration train_test\n",
            "0  101_1b1_Al_sc_Meditron.wav  20.000000       test\n",
            "1  101_1b1_Pr_sc_Meditron.wav  20.000000       test\n",
            "2  102_1b1_Ar_sc_Meditron.wav  20.000000       test\n",
            "4  104_1b1_Al_sc_Litt3200.wav  15.856009       test\n",
            "5  104_1b1_Ar_sc_Litt3200.wav  25.584036       test\n"
          ]
        }
      ]
    },
    {
      "cell_type": "code",
      "source": [
        "# test\n",
        "\n",
        "\n",
        "# 어노테이션 파일 리스트\n",
        "annotation_files = [\n",
        "    data_root_dir + '106_2b1_Pl_mc_LittC2SE.txt',\n",
        "    data_root_dir + '110_1p1_Al_sc_Meditron.txt'\n",
        "]\n",
        "\n",
        "# 레이블 데이터를 저장할 리스트\n",
        "labels = []\n",
        "\n",
        "# 어노테이션 파일을 순회하며 정보 읽기\n",
        "for file_path in annotation_files:\n",
        "    with open(file_path, 'r') as file:\n",
        "        for line in file:\n",
        "            start_time, end_time, class1, class2 = line.strip().split('\\t')\n",
        "            # 파일명에서 오디오 ID 추출\n",
        "            audio_id = os.path.splitext(os.path.basename(file_path))[0]\n",
        "            # 레이블 데이터에 추가\n",
        "            labels.append([audio_id, start_time, end_time, class1, class2])\n",
        "\n",
        "# 레이블 데이터셋 생성\n",
        "labels_df = pd.DataFrame(labels, columns=['Audio ID', 'Start Time', 'End Time', 'Class 1', 'Class 2'])\n",
        "\n",
        "# 데이터셋 확인\n",
        "print(labels_df)\n",
        "\n",
        "# 데이터셋 CSV 파일로 저장 (옵션)\n",
        "#labels_df.to_csv('/mnt/data/audio_labels_dataset.csv', index=False)\n"
      ],
      "metadata": {
        "colab": {
          "base_uri": "https://localhost:8080/"
        },
        "id": "axK2Fr0oi5sP",
        "outputId": "58338360-8809-49ce-f382-380a0c05aa47"
      },
      "execution_count": 89,
      "outputs": [
        {
          "output_type": "stream",
          "name": "stdout",
          "text": [
            "                  Audio ID Start Time End Time Class 1 Class 2\n",
            "0   106_2b1_Pl_mc_LittC2SE      0.036    2.164       1       0\n",
            "1   106_2b1_Pl_mc_LittC2SE      2.164    4.621       1       0\n",
            "2   106_2b1_Pl_mc_LittC2SE      4.621    7.179       0       0\n",
            "3   106_2b1_Pl_mc_LittC2SE      7.179    9.636       1       0\n",
            "4   106_2b1_Pl_mc_LittC2SE      9.636   12.007       1       0\n",
            "5   106_2b1_Pl_mc_LittC2SE     12.007   14.407       1       0\n",
            "6   106_2b1_Pl_mc_LittC2SE     14.407   16.793       1       0\n",
            "7   106_2b1_Pl_mc_LittC2SE     16.793   19.207       1       0\n",
            "8   106_2b1_Pl_mc_LittC2SE     19.207   19.964       1       0\n",
            "9   110_1p1_Al_sc_Meditron     2.2855   6.2646       1       1\n",
            "10  110_1p1_Al_sc_Meditron     6.2646    10.44       1       1\n",
            "11  110_1p1_Al_sc_Meditron      10.44   14.112       1       1\n",
            "12  110_1p1_Al_sc_Meditron     14.112   18.217       1       0\n",
            "13  110_1p1_Al_sc_Meditron     18.217   23.111       0       0\n",
            "14  110_1p1_Al_sc_Meditron     23.111   26.658       1       0\n",
            "15  110_1p1_Al_sc_Meditron     26.658     32.3       1       0\n"
          ]
        }
      ]
    },
    {
      "cell_type": "markdown",
      "source": [
        "## 224, 224, 3의 mel spec img 데이터셋 저장\n",
        "\n"
      ],
      "metadata": {
        "id": "fgGUZsbDigQE"
      }
    },
    {
      "cell_type": "code",
      "source": [
        "# mel spectogram을 위한 변수 지정\n",
        "'''\n",
        "sample_rate = 8000  # 샘플링 레이트 (or 16000)\n",
        "desired_length = 8  # 원하는 길이 (이 값은 melspectrogram 함수에 직접 사용되지 않음)\n",
        "n_mels = 64  # 멜 필터뱅크의 수\n",
        "nfft = 512  # FFT 윈도우 크기\n",
        "hop_length = nfft // 2  # 프레임 사이의 샘플 수\n",
        "f_max = 2000  # 최대 주파수\n",
        "\n",
        "# wav file list, dir\n",
        "# : wav_filename_ls\n",
        "len(wav_filename_ls)\n",
        "\n",
        "# mel 변환 함수\n",
        "y, sr = librosa.load(audiopath, sr=8000)\n",
        "S = librosa.feature.melspectrogram(y=y, sr=sample_rate, n_fft=nfft, hop_length=hop_length, n_mels=n_mels, fmax=f_max)\n",
        "S_dB = librosa.power_to_db(S, ref=np.max)\n",
        "\n",
        "\n",
        "# 변환된 함수 이미지로 저장\n",
        "# 새로운 디렉토리에 이미지 파일들 저장\n",
        "'''\n",
        "print()"
      ],
      "metadata": {
        "id": "17uT-kCxmvu6"
      },
      "execution_count": null,
      "outputs": []
    },
    {
      "cell_type": "markdown",
      "source": [
        "### (3) save audio2mel_jpg 함수 작성"
      ],
      "metadata": {
        "id": "GSnewSKQg_RO"
      }
    },
    {
      "cell_type": "code",
      "source": [
        "# 함수 작성\n",
        "\n",
        "def convert_audio_to_melspectrogram(audio_path, save_path, size=(224, 224)):\n",
        "    '''\n",
        "    오디오 파일 경로를 받아서 저장 경로에 (224, 224, 3) 크기의 filename_mSpec.jpg 저장\n",
        "    0. 변수 지정\n",
        "    1. 파일이름, 디렉토리 정의\n",
        "    2. audio -> mel\n",
        "    3. mel -> image(jpg) -> resizing\n",
        "    4. save image\n",
        "    '''\n",
        "    # 0. mel 변수 지정 -> 함수 매개변수로 옮겨도 되는 부분\n",
        "    sample_rate = 8000  # 샘플링 레이트 (or 16000)\n",
        "    n_mels = 64  # 멜 필터뱅크의 수\n",
        "    nfft = 512  # FFT 윈도우 크기\n",
        "    hop_length = nfft // 2  # 프레임 사이의 샘플 수\n",
        "    f_max = 2000  # 최대 주파수\n",
        "\n",
        "\n",
        "    # 1. .wav -> .jpg\n",
        "    # .wav 파일 경로에서 디렉터리와 파일명(확장자 포함) 분리\n",
        "    dir_path, filename = os.path.split(audio_path)\n",
        "    # 파일명에서 확장자를 제거하고, .jpg 확장자를 추가\n",
        "    base_filename = os.path.splitext(filename)[0]\n",
        "    jpg_filename = f\"{base_filename}_mSpec.jpg\"\n",
        "    # 디렉터리 내에 .jpg 파일 경로 생성\n",
        "    save_path += jpg_filename\n",
        "\n",
        "\n",
        "    # 2. to mel\n",
        "    y, sr = librosa.load(audio_path, sr=sample_rate)\n",
        "    S = librosa.feature.melspectrogram(y=y,\n",
        "                                       sr=sr,\n",
        "                                       n_fft=nfft,\n",
        "                                       hop_length=hop_length,\n",
        "                                       n_mels=n_mels,\n",
        "                                       fmax=f_max)\n",
        "    S_dB = librosa.power_to_db(S, ref=np.max)\n",
        "\n",
        "\n",
        "    # 3. to img\n",
        "    plt.figure(figsize=(2.24, 2.24))  # 이미지 크기를 인치 단위로 설정 (224x224 픽셀이 되도록 DPI 조정 필요)\n",
        "    ax = plt.axes([0,0,1,1], frameon=False)\n",
        "    ax.get_xaxis().set_visible(False)\n",
        "    ax.get_yaxis().set_visible(False)\n",
        "    plt.autoscale(tight=True)\n",
        "    librosa.display.specshow(S_dB, sr=sr, x_axis='time', y_axis='mel')\n",
        "\n",
        "    # 이미지로 저장하기 전에 buffer에 저장\n",
        "    plt.savefig(save_path, dpi=100)  # DPI를 조정하여 대략적인 픽셀 크기 맞춤\n",
        "    #plt.savefig(save_path, bbox_inches='tight', pad_inches=0, dpi=100) # DPI를 조정하여 대략적인 픽셀 크기 맞춤\n",
        "    plt.close()\n",
        "    # 이미지를 다시 열어서 224x224x3으로 조정\n",
        "    img = Image.open(save_path).convert('RGB')\n",
        "    img = img.resize(size, Image.LANCZOS)\n",
        "\n",
        "\n",
        "    # 4. save img\n",
        "    if os.path.exists(save_path):\n",
        "        pass\n",
        "    else:\n",
        "        img.save(save_path)\n",
        "\n",
        "print('ㅎ')"
      ],
      "metadata": {
        "colab": {
          "base_uri": "https://localhost:8080/"
        },
        "id": "18bezmucq9uJ",
        "outputId": "a348845c-4d59-4827-8a3d-11e02133eaef"
      },
      "execution_count": 136,
      "outputs": [
        {
          "output_type": "stream",
          "name": "stdout",
          "text": [
            "ㅎ\n"
          ]
        }
      ]
    },
    {
      "cell_type": "markdown",
      "source": [
        "### 저장한 image point 확인"
      ],
      "metadata": {
        "id": "UQr4-KfWgCWQ"
      }
    },
    {
      "cell_type": "code",
      "source": [
        "# 사용\n",
        "save_path = '/content/drive/MyDrive/aiffel/AIFFELthon/1_data/224mel_database240311/'\n",
        "\n",
        "for audio_file_name in wav_filename_ls:\n",
        "    audio_path = data_root_dir + audio_file_name\n",
        "\n",
        "    convert_audio_to_melspectrogram(audio_path, save_path, size=(224,224)) # 사용할때 주석 제거\n",
        "    break"
      ],
      "metadata": {
        "id": "uYiSPJmoXAhZ"
      },
      "execution_count": 137,
      "outputs": []
    },
    {
      "cell_type": "code",
      "source": [
        "# sample file 확인\n",
        "image_file = '/content/drive/MyDrive/aiffel/AIFFELthon/1_data/224mel_database240311/101_1b1_Al_sc_Meditron_mSpec.jpg'\n",
        "\n",
        "tmp_img = Image.open(image_file)\n",
        "plt.figure()\n",
        "plt.imshow(tmp_img)\n",
        "plt.title(os.path.basename(image_file))\n",
        "plt.axis('off')  # 축 표시 안 함\n",
        "plt.show()"
      ],
      "metadata": {
        "colab": {
          "base_uri": "https://localhost:8080/",
          "height": 428
        },
        "id": "7U2EN1UXXAe1",
        "outputId": "f5523e11-d906-4da4-a933-1d37d8ffa145"
      },
      "execution_count": 138,
      "outputs": [
        {
          "output_type": "display_data",
          "data": {
            "text/plain": [
              "<Figure size 640x480 with 1 Axes>"
            ],
            "image/png": "[encoded data removed]"
          },
          "metadata": {}
        }
      ]
    },
    {
      "cell_type": "code",
      "source": [
        "type(tmp_img)"
      ],
      "metadata": {
        "colab": {
          "base_uri": "https://localhost:8080/",
          "height": 120
        },
        "id": "e-MlooPGXAcU",
        "outputId": "0de65fba-c93f-4f6c-9a8c-921544a90e82"
      },
      "execution_count": 139,
      "outputs": [
        {
          "output_type": "execute_result",
          "data": {
            "text/plain": [
              "PIL.JpegImagePlugin.JpegImageFile"
            ],
            "text/html": [
              "<div style=\"max-width:800px; border: 1px solid var(--colab-border-color);\"><style>\n",
              "      pre.function-repr-contents {\n",
              "        overflow-x: auto;\n",
              "        padding: 8px 12px;\n",
              "        max-height: 500px;\n",
              "      }\n",
              "\n",
              "      pre.function-repr-contents.function-repr-contents-collapsed {\n",
              "        cursor: pointer;\n",
              "        max-height: 100px;\n",
              "      }\n",
              "    </style>\n",
              "    <pre style=\"white-space: initial; background:\n",
              "         var(--colab-secondary-surface-color); padding: 8px 12px;\n",
              "         border-bottom: 1px solid var(--colab-border-color);\"><b>PIL.JpegImagePlugin.JpegImageFile</b><br/>def __init__(fp=None, filename=None)</pre><pre class=\"function-repr-contents function-repr-contents-collapsed\" style=\"\"><a class=\"filepath\" style=\"display:none\" href=\"#\">/usr/local/lib/python3.10/dist-packages/PIL/JpegImagePlugin.py</a>Base class for image file format handlers.</pre>\n",
              "      <script>\n",
              "      if (google.colab.kernel.accessAllowed && google.colab.files && google.colab.files.view) {\n",
              "        for (const element of document.querySelectorAll('.filepath')) {\n",
              "          element.style.display = 'block'\n",
              "          element.onclick = (event) => {\n",
              "            event.preventDefault();\n",
              "            event.stopPropagation();\n",
              "            google.colab.files.view(element.textContent, 346);\n",
              "          };\n",
              "        }\n",
              "      }\n",
              "      for (const element of document.querySelectorAll('.function-repr-contents')) {\n",
              "        element.onclick = (event) => {\n",
              "          event.preventDefault();\n",
              "          event.stopPropagation();\n",
              "          element.classList.toggle('function-repr-contents-collapsed');\n",
              "        };\n",
              "      }\n",
              "      </script>\n",
              "      </div>"
            ]
          },
          "metadata": {},
          "execution_count": 139
        }
      ]
    },
    {
      "cell_type": "code",
      "source": [
        "tmp = np.array(tmp_img)\n",
        "tmp"
      ],
      "metadata": {
        "colab": {
          "base_uri": "https://localhost:8080/",
          "height": 264
        },
        "id": "yJEbm6gWXAZp",
        "outputId": "da6f6c2e-6d22-4cac-fd90-8edd266961d1"
      },
      "execution_count": 140,
      "outputs": [
        {
          "output_type": "execute_result",
          "data": {
            "text/plain": [
              "array([[[  0,   0,   4],\n",
              "        [  0,   0,   4],\n",
              "        [  0,   0,   4],\n",
              "        ...,\n",
              "        [  0,   0,   5],\n",
              "        [  2,   1,   6],\n",
              "        [  0,   0,   4]],\n",
              "\n",
              "       [[  0,   0,   4],\n",
              "        [  0,   0,   4],\n",
              "        [  0,   0,   4],\n",
              "        ...,\n",
              "        [  0,   0,   4],\n",
              "        [  2,   1,   6],\n",
              "        [  0,   0,   4]],\n",
              "\n",
              "       [[  0,   0,   4],\n",
              "        [  0,   0,   4],\n",
              "        [  0,   0,   4],\n",
              "        ...,\n",
              "        [  0,   0,   4],\n",
              "        [  2,   1,   6],\n",
              "        [  0,   0,   2]],\n",
              "\n",
              "       ...,\n",
              "\n",
              "       [[255, 196, 144],\n",
              "        [236, 181, 125],\n",
              "        [255, 231, 169],\n",
              "        ...,\n",
              "        [255, 204, 139],\n",
              "        [238, 175, 121],\n",
              "        [255, 209, 158]],\n",
              "\n",
              "       [[254, 201, 149],\n",
              "        [236, 189, 133],\n",
              "        [255, 232, 170],\n",
              "        ...,\n",
              "        [255, 208, 148],\n",
              "        [239, 183, 134],\n",
              "        [255, 212, 169]],\n",
              "\n",
              "       [[249, 199, 146],\n",
              "        [235, 190, 133],\n",
              "        [255, 229, 168],\n",
              "        ...,\n",
              "        [249, 198, 141],\n",
              "        [237, 183, 137],\n",
              "        [255, 210, 171]]], dtype=uint8)"
            ],
            "text/html": [
              "<style>\n",
              "      .ndarray_repr .ndarray_raw_data {\n",
              "        display: none;\n",
              "      }\n",
              "      .ndarray_repr.show_array .ndarray_raw_data {\n",
              "        display: block;\n",
              "      }\n",
              "      .ndarray_repr.show_array .ndarray_image_preview {\n",
              "        display: none;\n",
              "      }\n",
              "      </style>\n",
              "      <div id=\"id-33cc6dcf-4839-4d22-807a-9f5cedb6cf5d\" class=\"ndarray_repr\"><pre>ndarray (224, 224, 3) <button style=\"padding: 0 2px;\">show data</button></pre><img src=\"data:image/png;base64,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\" class=\"ndarray_image_preview\" /><pre class=\"ndarray_raw_data\">array([[[  0,   0,   4],\n",
              "        [  0,   0,   4],\n",
              "        [  0,   0,   4],\n",
              "        ...,\n",
              "        [  0,   0,   5],\n",
              "        [  2,   1,   6],\n",
              "        [  0,   0,   4]],\n",
              "\n",
              "       [[  0,   0,   4],\n",
              "        [  0,   0,   4],\n",
              "        [  0,   0,   4],\n",
              "        ...,\n",
              "        [  0,   0,   4],\n",
              "        [  2,   1,   6],\n",
              "        [  0,   0,   4]],\n",
              "\n",
              "       [[  0,   0,   4],\n",
              "        [  0,   0,   4],\n",
              "        [  0,   0,   4],\n",
              "        ...,\n",
              "        [  0,   0,   4],\n",
              "        [  2,   1,   6],\n",
              "        [  0,   0,   2]],\n",
              "\n",
              "       ...,\n",
              "\n",
              "       [[255, 196, 144],\n",
              "        [236, 181, 125],\n",
              "        [255, 231, 169],\n",
              "        ...,\n",
              "        [255, 204, 139],\n",
              "        [238, 175, 121],\n",
              "        [255, 209, 158]],\n",
              "\n",
              "       [[254, 201, 149],\n",
              "        [236, 189, 133],\n",
              "        [255, 232, 170],\n",
              "        ...,\n",
              "        [255, 208, 148],\n",
              "        [239, 183, 134],\n",
              "        [255, 212, 169]],\n",
              "\n",
              "       [[249, 199, 146],\n",
              "        [235, 190, 133],\n",
              "        [255, 229, 168],\n",
              "        ...,\n",
              "        [249, 198, 141],\n",
              "        [237, 183, 137],\n",
              "        [255, 210, 171]]], dtype=uint8)</pre></div><script>\n",
              "      (() => {\n",
              "      const titles = ['show data', 'hide data'];\n",
              "      let index = 0\n",
              "      document.querySelector('#id-33cc6dcf-4839-4d22-807a-9f5cedb6cf5d button').onclick = (e) => {\n",
              "        document.querySelector('#id-33cc6dcf-4839-4d22-807a-9f5cedb6cf5d').classList.toggle('show_array');\n",
              "        index = (++index) % 2;\n",
              "        document.querySelector('#id-33cc6dcf-4839-4d22-807a-9f5cedb6cf5d button').textContent = titles[index];\n",
              "        e.preventDefault();\n",
              "        e.stopPropagation();\n",
              "      }\n",
              "      })();\n",
              "    </script>"
            ]
          },
          "metadata": {},
          "execution_count": 140
        }
      ]
    },
    {
      "cell_type": "markdown",
      "source": [
        "## (4) 레이블링 데이터셋 고민 (XML)\n",
        "\n",
        "- annotation 정보를 비율(0, 1)로 전달할 방법 고민\n",
        "- XML 자료구조 공부\n"
      ],
      "metadata": {
        "id": "pMIs5FhWhXo0"
      }
    },
    {
      "cell_type": "code",
      "source": [
        "from xml.etree.ElementTree import Element, SubElement, tostring, ElementTree\n",
        "import xml.dom.minidom"
      ],
      "metadata": {
        "id": "zuMKa-X5lS4U"
      },
      "execution_count": null,
      "outputs": []
    },
    {
      "cell_type": "code",
      "source": [
        "# GPT\n",
        "\n",
        "def create_xml(annotation_info, file_name):\n",
        "    '''\n",
        "    annotation_info:\n",
        "    file_name:\n",
        "\n",
        "    '''\n",
        "\n",
        "    root = Element('annotations')\n",
        "\n",
        "    for annotation in annotation_info:\n",
        "        obj = SubElement(root, 'object')\n",
        "\n",
        "        start_time = SubElement(obj, 'start_time')\n",
        "        start_time.text = str(annotation[0])\n",
        "\n",
        "        end_time = SubElement(obj, 'end_time')\n",
        "        end_time.text = str(annotation[1])\n",
        "\n",
        "        class1 = SubElement(obj, 'class1')\n",
        "        class1.text = str(annotation[2])\n",
        "\n",
        "        class2 = SubElement(obj, 'class2')\n",
        "        class2.text = str(annotation[3])\n",
        "\n",
        "    # XML 문자열로 변환\n",
        "    xml_str = xml.dom.minidom.parseString(tostring(root)).toprettyxml(indent=\"   \")\n",
        "\n",
        "    # XML 파일로 저장\n",
        "    with open(f\"{file_name}.xml\", \"w\") as f:\n",
        "        f.write(xml_str)\n",
        "\n",
        "# 예시 데이터\n",
        "annotations = [\n",
        "    [0.107, 2.55, 0, 1],\n",
        "    [2.55, 6.964, 1, 1],\n",
        "    [6.964, 11.593, 1, 1],\n",
        "    [11.593, 16.693, 1, 1],\n",
        "    [16.693, 19.979, 1, 1]\n",
        "]\n",
        "\n",
        "# XML 파일 생성\n",
        "create_xml(annotations, '221_2b3_Ar_mc_LittC2SE')\n"
      ],
      "metadata": {
        "id": "Ho3HosTeXAXA"
      },
      "execution_count": null,
      "outputs": []
    },
    {
      "cell_type": "code",
      "source": [
        "# 임시 함수 작성\n",
        "'''\n",
        "txt를 받아서\n",
        "\n",
        "y = [ p_c, b_x, b_y, b_h, b_w, c_1, c_2 ]\n",
        "\n",
        "p_c : 1 or 0\n",
        "b_x, b_y : bbox 좌상단 좌표\n",
        "b_h : 높이\n",
        "b_w : 폭\n",
        "c_1 : crackle. 0 or 1\n",
        "c_2 : wheeze. 0 or 1\n",
        "\n",
        "\n",
        "'''\n",
        "\n",
        "def annot2xml(args):\n",
        "\n",
        "    pass"
      ],
      "metadata": {
        "id": "87OnOJhTXAQT"
      },
      "execution_count": null,
      "outputs": []
    }
  ]
}