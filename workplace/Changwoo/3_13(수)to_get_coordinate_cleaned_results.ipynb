{
  "nbformat": 4,
  "nbformat_minor": 0,
  "metadata": {
    "colab": {
      "provenance": [],
      "toc_visible": true
    },
    "kernelspec": {
      "name": "python3",
      "display_name": "Python 3"
    },
    "language_info": {
      "name": "python"
    }
  },
  "cells": [
    {
      "cell_type": "markdown",
      "source": [
        "# 이 노트의 목표\n",
        "---\n",
        "raw database에서 좌표값구하기까지 정리"
      ],
      "metadata": {
        "id": "oHoYrwnrNJDr"
      }
    },
    {
      "cell_type": "code",
      "source": [
        "from google.colab import drive\n",
        "drive.mount('/content/drive')"
      ],
      "metadata": {
        "id": "zCTqsaZRNUNk"
      },
      "execution_count": null,
      "outputs": []
    },
    {
      "cell_type": "code",
      "source": [
        "# import\n",
        "\n",
        "import librosa\n",
        "import librosa.display\n",
        "import matplotlib.pyplot as plt\n",
        "import os\n",
        "import pandas as pd\n",
        "import numpy as np\n",
        "from PIL import Image\n",
        "import matplotlib.patches as patches\n",
        "import io\n"
      ],
      "metadata": {
        "id": "781LC3LuNULP"
      },
      "execution_count": 2,
      "outputs": []
    },
    {
      "cell_type": "code",
      "source": [
        "# 경로지정\n",
        "\n",
        "database_dir = '/content/drive/MyDrive/aiffel/AIFFELthon/1_data/ICBHI_final_database/'\n",
        "train_test_dir = '/content/drive/MyDrive/aiffel/AIFFELthon/1_data/ICBHI_challenge_train_test.txt'\n"
      ],
      "metadata": {
        "id": "WEqSxVUdNUJV"
      },
      "execution_count": 3,
      "outputs": []
    },
    {
      "cell_type": "markdown",
      "source": [
        "## 함수1 : get_dataframe(드러움)\n",
        "\n",
        "1. return1 : wav, txt 파일명 반환하는 튜플리스트 -> [ (wav, txt), ...  ]\n",
        "2. return2 : 오디오파일 df 생성"
      ],
      "metadata": {
        "id": "ye2FdenFNbYj"
      }
    },
    {
      "cell_type": "code",
      "source": [
        "# dir내의 파일을 이름으로 같이 묶어서 반환하는 함수 -> [ (wav, txt), ( ... ), ... ]\n",
        "\n",
        "def get_dataframe(database_dir, train_test_dir, sr = 8000):\n",
        "    '''\n",
        "    database_dir : raw database (include wav, txt files)\n",
        "    train_test_dir: train, test 정보 포함된 txt 경로\n",
        "    '''\n",
        "    # 디렉토리 내의 모든 파일 목록을 가져옵니다.\n",
        "    all_files = os.listdir(database_dir)\n",
        "\n",
        "    wav_files = [file for file in all_files if file.endswith('.wav')]\n",
        "    txt_files = [file for file in all_files if file.endswith('.txt')]\n",
        "\n",
        "    # 파일명(확장자 제외)을 기준으로 .wav와 .txt 파일이 모두 있는 경우를 찾아서 짝지어 줍니다.\n",
        "    wav_txt_name = []\n",
        "    for wav_file in wav_files:\n",
        "        file_name_without_extension = os.path.splitext(wav_file)[0] # 확장자를 제외한 파일명\n",
        "\n",
        "        matching_txt_file = file_name_without_extension + '.txt' # 해당 파일명을 가진 .txt 파일이 있는지 확인\n",
        "        if matching_txt_file in txt_files:\n",
        "            wav_txt_name.append((wav_file, matching_txt_file)) # : wav_txt_name = [(filename.wav, filename.txt), ... ]\n",
        "            # wav_txt_name -> \"return1\"\n",
        "\n",
        "    # wav filename만 불러오고, duration 계산 -> \"오래걸림\"\n",
        "    duration_ls = []\n",
        "    wav_filename_ls = []\n",
        "    for i, _ in wav_txt_name:          # wav 파일 이름만 가져옴\n",
        "        wav_filename_ls.append(i)\n",
        "\n",
        "        wav_path = database_dir + i\n",
        "        y, sr = librosa.load(wav_path, sr=sr)\n",
        "        duration = librosa.get_duration(y=y, sr=sr)\n",
        "        duration_ls.append(duration)\n",
        "\n",
        "    # ICBHI_challenge_train_test.txt 파일을 읽어서 DataFrame에 추가할 정보를 추출\n",
        "    train_test_ls = []\n",
        "    with open(train_test_dir, 'r') as file:\n",
        "        for line in file:\n",
        "            parts = line.strip().split('\\t')\n",
        "            filename = parts[0] + '.wav'  # WAV 파일 이름으로 변환\n",
        "            train_test = parts[1]  # train 또는 test 값\n",
        "            train_test_ls.append({'WAV Filename': filename, 'Train_Test': train_test})\n",
        "\n",
        "    # get dataframe(1) - filename, duration\n",
        "    wav_duration_df = pd.DataFrame({\n",
        "        'WAV Filename': wav_filename_ls,\n",
        "        'Duration': duration_ls\n",
        "    })\n",
        "\n",
        "    # ICBHI_challenge_train_test.txt 파일을 읽어서 DataFrame에 추가할 정보를 추출\n",
        "    train_test_ls = []\n",
        "    with open(train_test_dir, 'r') as file:\n",
        "        for line in file:\n",
        "            parts = line.strip().split('\\t')\n",
        "            filename = parts[0] + '.wav'  # WAV 파일 이름으로 변환\n",
        "            train_test = parts[1]  # train 또는 test 값\n",
        "            train_test_ls.append({'WAV Filename': filename, 'Train_Test': train_test})\n",
        "    train_test_df = pd.DataFrame(train_test_ls)\n",
        "\n",
        "    # get dataframe(2) : 원래 DataFrame과 새로운 DataFrame을 'WAV Filename'을 기준으로 병합 -> \"return2\"\n",
        "    merged_df = pd.merge(wav_duration_df, train_test_df, on='WAV Filename', how='left')\n",
        "\n",
        "    return wav_txt_name, merged_df\n"
      ],
      "metadata": {
        "id": "Z4jPRi38NUG-"
      },
      "execution_count": 4,
      "outputs": []
    },
    {
      "cell_type": "markdown",
      "source": [
        "### test"
      ],
      "metadata": {
        "id": "XL6OHfE_NkMy"
      }
    },
    {
      "cell_type": "code",
      "source": [
        "# test -> 오디오파일 다불러와서 duration계산하는거때문에 오래걸림\n",
        "wav_txt_name, merged_df = get_dataframe(database_dir, train_test_dir, sr = 8000)"
      ],
      "metadata": {
        "id": "_idt4wT0NUFK"
      },
      "execution_count": 5,
      "outputs": []
    },
    {
      "cell_type": "code",
      "source": [
        "# 결과 출력\n",
        "print(type(wav_txt_name), type(merged_df))\n",
        "print(len(wav_txt_name))\n",
        "merged_df.head()"
      ],
      "metadata": {
        "id": "MHFCyc5UNUC8"
      },
      "execution_count": null,
      "outputs": []
    },
    {
      "cell_type": "markdown",
      "source": [
        "## 함수2 : get_annot_df\n",
        "- 하나의 wav file에 대한 annotation df 반환\n",
        "- 함수1 결과값 (`merged_df`)필요\n",
        "\n",
        "```python\n",
        "columns = ['WAV Filename', 'start', 'end', 'crackle', 'wheeze']\n",
        "```"
      ],
      "metadata": {
        "id": "OpCmiSyzNoVs"
      }
    },
    {
      "cell_type": "code",
      "source": [
        "# merged_df idx정보로 annotation df 생성\n",
        "\n",
        "def get_annot_df(idx, merged_df, database_dir):\n",
        "    filename = merged_df['WAV Filename'][idx].replace('.wav', '.txt')\n",
        "    txt_path = database_dir + filename\n",
        "    annot_df = pd.read_csv(txt_path,\n",
        "               sep='\\t',\n",
        "               names = ['start', 'end', 'crackle', 'wheeze'])\n",
        "    annot_df.insert(0, 'WAV Filename', value=merged_df['WAV Filename'][idx])\n",
        "    return annot_df\n"
      ],
      "metadata": {
        "id": "1J45MipSNUBL"
      },
      "execution_count": 7,
      "outputs": []
    },
    {
      "cell_type": "markdown",
      "source": [
        "### test"
      ],
      "metadata": {
        "id": "YraLf0UZODaL"
      }
    },
    {
      "cell_type": "code",
      "source": [
        "# idx = 0\n",
        "get_annot_df(0, merged_df, database_dir)\n",
        "# idx = 376\n",
        "get_annot_df(376, merged_df, database_dir)"
      ],
      "metadata": {
        "id": "5xtD246CNT-m"
      },
      "execution_count": null,
      "outputs": []
    },
    {
      "cell_type": "markdown",
      "source": [
        "## 함수3: split_train_test_df\n",
        "- 데이터베이스에 주어진 train-test대로 분리해서 df로 반환"
      ],
      "metadata": {
        "id": "YQkE_QwiOPrZ"
      }
    },
    {
      "cell_type": "code",
      "source": [
        "# train-test df split\n",
        "\n",
        "def split_train_test_df(merged_df):\n",
        "    train_df = merged_df[merged_df['Train_Test'] == 'train']\n",
        "    test_df = merged_df[merged_df['Train_Test'] == 'test']\n",
        "    return train_df, test_df"
      ],
      "metadata": {
        "id": "zovxTfqfNT8M"
      },
      "execution_count": 9,
      "outputs": []
    },
    {
      "cell_type": "markdown",
      "source": [
        "### test"
      ],
      "metadata": {
        "id": "AWEBVbTWOfyg"
      }
    },
    {
      "cell_type": "code",
      "source": [
        "train_df, test_df = split_train_test_df(merged_df)"
      ],
      "metadata": {
        "id": "Zp6mzZUUNT7N"
      },
      "execution_count": 10,
      "outputs": []
    },
    {
      "cell_type": "code",
      "source": [
        "print(train_df.shape)\n",
        "train_df.head()\n",
        "print(test_df.shape)\n",
        "test_df.head()"
      ],
      "metadata": {
        "id": "ekskpUBDNT5d"
      },
      "execution_count": null,
      "outputs": []
    },
    {
      "cell_type": "markdown",
      "source": [
        "## 함수4 : audio2mspec_save (드러움)\n",
        "- 오디오 파일 경로랑 저장 경로, 이미지 픽셀 사이즈 지정해주면,\n",
        "    - 저장 경로에 filename_mSpec.jpg 로 저장\n",
        "\n",
        "- return값 없음"
      ],
      "metadata": {
        "id": "Zxku_RYDOnIC"
      }
    },
    {
      "cell_type": "code",
      "source": [
        "# convert_audio_to_melspectrogram\n",
        "\n",
        "def audio2mspec_save(audio_path, save_path, size=(224, 224)):\n",
        "    '''\n",
        "    args:\n",
        "        audio_path : 변환할 오디오 파일 경로\n",
        "        save_path : 이미지 저장할 경로\n",
        "        size : 변환할 이미지 pixel사이즈\n",
        "\n",
        "    오디오 파일 경로를 받아서 저장 경로에 (224, 224, 3) 크기의 filename_mSpec.jpg 저장\n",
        "    0. 변수 지정\n",
        "    1. 파일이름, 디렉토리 정의\n",
        "    2. audio -> mel\n",
        "    3. mel -> image(jpg) -> resizing\n",
        "    4. save image\n",
        "    '''\n",
        "    # 0. mel 변수 지정 -> 함수 매개변수로 옮겨도 되는 부분\n",
        "    sample_rate = 8000  # 샘플링 레이트 (or 16000)\n",
        "    n_mels = 64  # 멜 필터뱅크의 수\n",
        "    nfft = 512  # FFT 윈도우 크기\n",
        "    hop_length = nfft // 2  # 프레임 사이의 샘플 수\n",
        "    f_max = 2000  # 최대 주파수\n",
        "\n",
        "    # 1. .wav -> .jpg\n",
        "    # .wav 파일 경로에서 디렉터리와 파일명(확장자 포함) 분리\n",
        "    dir_path, filename = os.path.split(audio_path)\n",
        "    # 파일명에서 확장자를 제거하고, .jpg 확장자를 추가\n",
        "    base_filename = os.path.splitext(filename)[0]\n",
        "    jpg_filename = f\"{base_filename}_mSpec.jpg\"\n",
        "    # 디렉터리 내에 .jpg 파일 경로 생성\n",
        "    save_path += jpg_filename\n",
        "\n",
        "\n",
        "    # 2. to mel\n",
        "    y, sr = librosa.load(audio_path, sr=sample_rate)\n",
        "    S = librosa.feature.melspectrogram(y=y,\n",
        "                                       sr=sr,\n",
        "                                       n_fft=nfft,\n",
        "                                       hop_length=hop_length,\n",
        "                                       n_mels=n_mels,\n",
        "                                       fmax=f_max)\n",
        "    S_dB = librosa.power_to_db(S, ref=np.max)\n",
        "\n",
        "\n",
        "    # 3. to img\n",
        "    plt.figure(figsize=(2.24, 2.24))  # 이미지 크기를 인치 단위로 설정 (224x224 픽셀이 되도록 DPI 조정 필요)\n",
        "    ax = plt.axes([0,0,1,1], frameon=False)\n",
        "    ax.get_xaxis().set_visible(False)\n",
        "    ax.get_yaxis().set_visible(False)\n",
        "    plt.autoscale(tight=True)\n",
        "    librosa.display.specshow(S_dB, sr=sr, x_axis='time', y_axis='mel')\n",
        "\n",
        "    # 이미지로 저장하기 전에 buffer에 저장\n",
        "    plt.savefig(save_path, dpi=100)  # DPI를 조정하여 대략적인 픽셀 크기 맞춤\n",
        "    #plt.savefig(save_path, bbox_inches='tight', pad_inches=0, dpi=100) # DPI를 조정하여 대략적인 픽셀 크기 맞춤\n",
        "    plt.close()\n",
        "    # 이미지를 다시 열어서 224x224x3으로 조정\n",
        "    img = Image.open(save_path).convert('RGB')\n",
        "    img = img.resize(size, Image.LANCZOS)\n",
        "\n",
        "\n",
        "    # 4. save img\n",
        "    if os.path.exists(save_path):\n",
        "        pass\n",
        "    else:\n",
        "        img.save(save_path)\n",
        "\n",
        "print('ㅎ')"
      ],
      "metadata": {
        "colab": {
          "base_uri": "https://localhost:8080/"
        },
        "id": "3rswZS7pNT4Q",
        "outputId": "4be66ef3-d585-49a4-83a4-6430518a7f87"
      },
      "execution_count": 12,
      "outputs": [
        {
          "output_type": "stream",
          "name": "stdout",
          "text": [
            "ㅎ\n"
          ]
        }
      ]
    },
    {
      "cell_type": "markdown",
      "source": [
        "### test"
      ],
      "metadata": {
        "id": "d7WyCtL4PFuZ"
      }
    },
    {
      "cell_type": "code",
      "source": [
        "# 사용\n",
        "\n",
        "save_path = '/content/drive/MyDrive/aiffel/AIFFELthon/1_data/224mel_database240311/'\n",
        "\n",
        "wav_filename_ls = []\n",
        "for i, _ in wav_txt_name:          # 함수1 return1에서 wav 파일 이름만 가져옴\n",
        "    wav_filename_ls.append(i)\n",
        "\n",
        "print(len(wav_filename_ls)) # 920\n",
        "\n",
        "for audio_file_name in wav_filename_ls:\n",
        "    audio_path = database_dir + audio_file_name\n",
        "\n",
        "    #audio2mspec_save(audio_path, save_path, size=(224,224)) # 사용할때 주석 제거\n",
        "    break"
      ],
      "metadata": {
        "id": "0LRCfQZ_NT0L"
      },
      "execution_count": null,
      "outputs": []
    },
    {
      "cell_type": "code",
      "source": [
        "# sample file 확인\n",
        "image_file = '/content/drive/MyDrive/aiffel/AIFFELthon/1_data/224mel_database240311/101_1b1_Al_sc_Meditron_mSpec.jpg'\n",
        "\n",
        "tmp_img = Image.open(image_file)\n",
        "tmp = np.array(tmp_img)\n",
        "\n",
        "plt.figure()\n",
        "plt.imshow(tmp_img)\n",
        "plt.title(os.path.basename(image_file))\n",
        "plt.axis('off')  # 축 표시 안 함\n",
        "plt.show()\n",
        "\n",
        "tmp"
      ],
      "metadata": {
        "id": "aiZeqJ_2NTyi"
      },
      "execution_count": null,
      "outputs": []
    },
    {
      "cell_type": "markdown",
      "source": [
        "## 함수5: sample_file_load\n",
        "\n",
        "파일명으로 sample image (`audio2mspec_save`로 저장한) 가져오는 함수 임시로 작성\n",
        "\n",
        "- 표현 좋은 데이터 파일명 : 156_8b3_Ll_mc_AKGC417L.wav ~ idx: 376\n",
        "- 레이블 고른 데이터 파일명 : 110_1p1_Al_sc_Meditron.wav ~ idx: 49"
      ],
      "metadata": {
        "id": "wAjWlPykQPjy"
      }
    },
    {
      "cell_type": "code",
      "source": [
        "# 파일명으로 sample file 가져오는 함수 임시로 작성\n",
        "\n",
        "def sample_file_load(filename):\n",
        "\n",
        "    save_path = '/content/drive/MyDrive/aiffel/AIFFELthon/1_data/224mel_database240311/'\n",
        "    audio_path = '/content/drive/MyDrive/aiffel/AIFFELthon/1_data/ICBHI_final_database/' + filename\n",
        "    audio2mspec_save(audio_path, save_path, size=(224,224))\n",
        "\n",
        "    # sample file 확인\n",
        "    img_dir = save_path + filename.replace('.wav', '_mSpec.jpg')\n",
        "    print(img_dir)\n",
        "    # load : '110_1p1_Al_sc_Meditron.wav'\n",
        "    sample_img = Image.open(img_dir)\n",
        "    sample_img_array = np.array(sample_img)\n",
        "    '''\n",
        "    plt.figure()\n",
        "    plt.imshow(tmp_img)\n",
        "    plt.title(os.path.basename(image_file))\n",
        "    plt.axis('off')  # 축 표시 안 함\n",
        "    plt.show()\n",
        "    '''\n",
        "    print(filename)\n",
        "    print(type(sample_img))\n",
        "    print(type(sample_img_array))\n",
        "    #sample_img_array\n",
        "\n",
        "    return sample_img"
      ],
      "metadata": {
        "id": "aSLjqUX5NTvy"
      },
      "execution_count": 15,
      "outputs": []
    },
    {
      "cell_type": "markdown",
      "source": [
        "### test"
      ],
      "metadata": {
        "id": "PN6sKv1rU3A8"
      }
    },
    {
      "cell_type": "code",
      "source": [
        "# 110_1p1_Al_sc_Meditron\n",
        "\n",
        "# 원하는 파일 이름 입력\n",
        "sample_filename = '156_8b3_Ll_mc_AKGC417L.wav'\n",
        "\n",
        "sample_img = sample_file_load(sample_filename)\n",
        "plt.imshow(sample_img)\n",
        "print('idx: ', merged_df.loc[merged_df['WAV Filename'] == sample_filename].index[0])\n",
        "get_annot_df(merged_df.loc[merged_df['WAV Filename'] == sample_filename].index[0], merged_df, database_dir)"
      ],
      "metadata": {
        "id": "eX27vDuMU2gw"
      },
      "execution_count": null,
      "outputs": []
    },
    {
      "cell_type": "markdown",
      "source": [
        "## 함수6: get_coordinate_df\n",
        "\n",
        "좌표값 포함 dataframe 반환 ~ get_annot_df(idx, merged_df, database_dir)로 접근"
      ],
      "metadata": {
        "id": "V7K9NOX1RDDN"
      }
    },
    {
      "cell_type": "code",
      "source": [
        "def get_coordinate_df(idx, merged_df, database_dir):\n",
        "\n",
        "    idx_anno_df = get_annot_df(idx, merged_df, database_dir)\n",
        "\n",
        "    f_max = 2000\n",
        "    wheeze_fmin = 200\n",
        "    wheeze_fmax = 1200\n",
        "    crackle_fmin = 100\n",
        "    crackle_fmax = 200\n",
        "\n",
        "    filename = merged_df['WAV Filename'][idx]\n",
        "    duration = merged_df['Duration'][idx]\n",
        "\n",
        "    # if idx > 49:\n",
        "    #     continue\n",
        "    # # sample idx: 49\n",
        "    # if idx == 49:\n",
        "\n",
        "    ls = []\n",
        "    tmp_ls = []\n",
        "\n",
        "    for idx2, row2 in idx_anno_df.iterrows():\n",
        "        start = row2['start']\n",
        "        end = row2['end']\n",
        "        crackle = row2['crackle']\n",
        "        wheeze = row2['wheeze']\n",
        "        x1 = start / duration\n",
        "        x2 = end / duration\n",
        "\n",
        "        if crackle and wheeze:\n",
        "            c_y1 = 1 - (crackle_fmin / f_max)\n",
        "            c_y2 = 1 - (crackle_fmax / f_max)\n",
        "            w_y1 = 1 - (wheeze_fmin / f_max)\n",
        "            w_y2 = 1 - (wheeze_fmax / f_max)\n",
        "            tmp_ls = [x1, c_y1, x2, c_y2, x1, w_y1, x2, w_y2]\n",
        "\n",
        "        elif crackle and not wheeze:\n",
        "            c_y1 = 1 - (crackle_fmin / f_max)\n",
        "            c_y2 = 1 - (crackle_fmax / f_max)\n",
        "            tmp_ls = [x1, c_y1, x2, c_y2, '', '', '', '']\n",
        "\n",
        "        elif not crackle and wheeze:\n",
        "            w_y1 = 1 - (wheeze_fmin / f_max)\n",
        "            w_y2 = 1 - (wheeze_fmax / f_max)\n",
        "            tmp_ls = ['', '', '', '', x1, w_y1, x2, w_y2]\n",
        "\n",
        "        else: tmp_ls = ['', '', '', '', '', '', '', '']\n",
        "\n",
        "        ls.append(tmp_ls)\n",
        "\n",
        "    coordinate_df = pd.DataFrame(ls, columns = ['x_c1','y_c1','x_c2','y_c2','x_w1','y_w1','x_w2','y_w2'])\n",
        "    concat_df = pd.concat([idx_anno_df, coordinate_df], axis=1)\n",
        "\n",
        "\n",
        "    return concat_df"
      ],
      "metadata": {
        "id": "t_Si8u6BNTr8"
      },
      "execution_count": 18,
      "outputs": []
    },
    {
      "cell_type": "markdown",
      "source": [
        "### test"
      ],
      "metadata": {
        "id": "l-vKAh2yRd9V"
      }
    },
    {
      "cell_type": "code",
      "source": [
        "# test1: 전체 데이터프레임 보려할때\n",
        "\n",
        "for i, _ in merged_df.iterrows():\n",
        "    print('idx: ', i)\n",
        "    concat_df = get_coordinate_df(i, merged_df, database_dir)\n",
        "    break\n",
        "\n",
        "concat_df"
      ],
      "metadata": {
        "id": "fVuRvs0rNTot"
      },
      "execution_count": null,
      "outputs": []
    },
    {
      "cell_type": "code",
      "source": [
        "# test2: 파일명으로 좌표값 포함된 샘플 데이터프레임 하나 작성\n",
        "''' 156_8b3_Ll_mc_AKGC417L.wav -> idx: 376 '''\n",
        "\n",
        "sample_filename = '156_8b3_Ll_mc_AKGC417L.wav'\n",
        "sample_coo = get_coordinate_df(merged_df.loc[merged_df['WAV Filename'] == sample_filename].index[0], merged_df, database_dir)\n",
        "\n",
        "sample_coo"
      ],
      "metadata": {
        "id": "TXUXXyOhRkRW"
      },
      "execution_count": null,
      "outputs": []
    },
    {
      "cell_type": "code",
      "source": [
        "# test3: 인덱스만 줘서 반환\n",
        "''' idx: 49 -> 110_1p1_Al_sc_Meditron.wav '''\n",
        "\n",
        "sample_coo2 = get_coordinate_df(49, merged_df, database_dir)\n",
        "sample_coo2"
      ],
      "metadata": {
        "id": "ydrJy57VRnfm"
      },
      "execution_count": null,
      "outputs": []
    },
    {
      "cell_type": "markdown",
      "source": [
        "## 결과: bbox 시각화\n",
        "\n"
      ],
      "metadata": {
        "id": "Lol4-36WRkEk"
      }
    },
    {
      "cell_type": "code",
      "source": [
        "# 샘플파일이름 주면 박스 시각화\n",
        "sample_filename = '156_8b3_Ll_mc_AKGC417L.wav'\n",
        "#sample_filename2 = '110_1p1_Al_sc_Meditron.wav'\n",
        "\n",
        "# 샘플이미지 index 가져옴\n",
        "sample_idx = merged_df.loc[merged_df['WAV Filename'] == sample_filename].index[0]\n",
        "\n",
        "# 샘플이미지에 대한 어노테이션+좌표값 데이터프레임 형성. sample_coordinate -> pd.Dataframe\n",
        "sample_coordinate = get_coordinate_df(sample_idx, merged_df, database_dir)\n",
        "\n",
        "\n",
        "fig, ax = plt.subplots()\n",
        "ax.imshow(sample_img)\n",
        "\n",
        "c_boxes = []\n",
        "w_boxes = []\n",
        "pix_size = 224\n",
        "\n",
        "for idx, row in sample_coordinate.iterrows():\n",
        "\n",
        "    # coordinate dataframe에서 좌표값만 불러와서 변수에 저장 -> 이부분 함수로 다시 작성 필요\n",
        "\n",
        "    # crackle\n",
        "    if row['crackle']:\n",
        "        x_c1 = round(row['x_c1'] * pix_size)\n",
        "        y_c1 = round(row['y_c1'] * pix_size)\n",
        "        w_c = round((row['x_c2'] - row['x_c1']) * pix_size)\n",
        "        h_c = round(-(row['y_c1'] - row['y_c2']) * pix_size)\n",
        "        c_boxes.append((x_c1,y_c1,w_c,h_c))\n",
        "\n",
        "    elif not row['crackle']:\n",
        "        c_boxes.append(())\n",
        "\n",
        "    # wheeze\n",
        "    if row['wheeze']:\n",
        "        x_w1 = round(row['x_w1'] * pix_size)\n",
        "        y_w1 = round(row['y_w1'] * pix_size)\n",
        "        w_w = round((row['x_w2'] - row['x_w1']) * pix_size)\n",
        "        h_w = round(-(row['y_w1'] - row['y_w2']) * pix_size)\n",
        "        w_boxes.append((x_w1,y_w1,w_w,h_w))\n",
        "\n",
        "    elif not row['wheeze']:\n",
        "        w_boxes.append(())\n",
        "\n",
        "    # ax에 박스 입력\n",
        "    for box in c_boxes:\n",
        "        try :\n",
        "            c_rect = patches.Rectangle((box[0], box[1]), box[2], box[3], linewidth=2, edgecolor='g', facecolor='none')\n",
        "            ax.add_patch(c_rect)\n",
        "        except:\n",
        "            pass\n",
        "\n",
        "    for box in w_boxes:\n",
        "        try:\n",
        "            b_rect = patches.Rectangle((box[0], box[1]), box[2], box[3], linewidth=2, edgecolor='b', facecolor='none')\n",
        "            ax.add_patch(b_rect)\n",
        "        except:\n",
        "            pass\n",
        "\n",
        "\n",
        "# 이부분은 다른 블럭에서 이미지 보고 싶을때 (GPT)\n",
        "\n",
        "# 이미지를 버퍼에 저장\n",
        "buf = io.BytesIO()\n",
        "plt.savefig(buf, format='jpg')\n",
        "buf.seek(0)\n",
        "# boxed_img 변수에 박스친 이미지 저장\n",
        "boxed_img = Image.open(buf)\n",
        "# NumPy 배열로 변환\n",
        "boxed_img_array = np.array(boxed_img)\n",
        "# 버퍼 닫기\n",
        "buf.close()\n",
        "\n",
        "# 이미지 배열 확인\n",
        "#print(image_array.shape)\n",
        "\n",
        "# 출력\n",
        "plt.show()\n"
      ],
      "metadata": {
        "id": "-DPmkb5TSZWd"
      },
      "execution_count": null,
      "outputs": []
    },
    {
      "cell_type": "code",
      "source": [
        "# 버퍼로 저장한 이미지 확인\n",
        "print(type(boxed_img))\n",
        "print(type(boxed_img_array))\n",
        "print(boxed_img_array.shape) # 예시이미지라 크기 상관없음\n",
        "\n",
        "boxed_img"
      ],
      "metadata": {
        "id": "8bcWqIn_TX3c"
      },
      "execution_count": null,
      "outputs": []
    }
  ]
}